{
 "cells": [
  {
   "cell_type": "code",
   "execution_count": 5,
   "id": "d6268097-0f23-4ff2-b672-22cfa348df4f",
   "metadata": {},
   "outputs": [],
   "source": [
    "import sys\n",
    "sys.path.append(\"../../common\")\n",
    "from aoc import *\n",
    "\n",
    "\n",
    "import datetime\n",
    "from itertools import count, combinations\n",
    "import matplotlib.pyplot as plt\n",
    "import numpy as np\n",
    "import re\n",
    "import shapely\n",
    "from tqdm import tqdm\n",
    "from IPython.display import clear_output"
   ]
  },
  {
   "cell_type": "code",
   "execution_count": 57,
   "id": "1259acf4-e553-45fa-a2ba-874af1966e48",
   "metadata": {},
   "outputs": [],
   "source": [
    "with open(\"./puzzle_inputs/05.txt\") as f:\n",
    "    polymer = list(f.readline().strip())"
   ]
  },
  {
   "cell_type": "code",
   "execution_count": 58,
   "id": "dc7cac04-1f81-4945-a5f4-75a4e482362f",
   "metadata": {},
   "outputs": [],
   "source": [
    "# polymer = list(\"dabAcCaCBAcCcaDA\")"
   ]
  },
  {
   "cell_type": "code",
   "execution_count": 59,
   "id": "09ccb068-a7d0-4531-8efa-e96afe6ecf7b",
   "metadata": {},
   "outputs": [
    {
     "data": {
      "text/plain": [
       "11668"
      ]
     },
     "execution_count": 59,
     "metadata": {},
     "output_type": "execute_result"
    }
   ],
   "source": [
    "i = 0\n",
    "while i < len(polymer) - 1:\n",
    "    a = polymer[i]\n",
    "    b = polymer[i+1]\n",
    "    if a.lower() == b.lower() and a != b:\n",
    "        polymer.pop(i)\n",
    "        polymer.pop(i)\n",
    "        i = max(i - 1, 0)\n",
    "    else:\n",
    "        i += 1\n",
    "len(polymer)"
   ]
  },
  {
   "cell_type": "code",
   "execution_count": 47,
   "id": "359de4c1-ab61-4858-8b3c-d6b60e95956d",
   "metadata": {},
   "outputs": [],
   "source": [
    "with open(\"./puzzle_inputs/05.txt\") as f:\n",
    "    original_polymer = f.readline().strip()"
   ]
  },
  {
   "cell_type": "code",
   "execution_count": 51,
   "id": "15912594-68ed-4972-bdeb-369a8c974303",
   "metadata": {},
   "outputs": [],
   "source": [
    "def react(polymer):\n",
    "    polymer = list(polymer)\n",
    "    i = 0\n",
    "    while i < len(polymer) - 1:\n",
    "        a = polymer[i]\n",
    "        b = polymer[i+1]\n",
    "        if a.lower() == b.lower() and a != b:\n",
    "            polymer.pop(i)\n",
    "            polymer.pop(i)\n",
    "            i = max(i - 1, 0)\n",
    "        else:\n",
    "            i += 1\n",
    "    return len(polymer)"
   ]
  },
  {
   "cell_type": "code",
   "execution_count": 55,
   "id": "5ca27657-4caf-488d-bcec-179cf66a98bb",
   "metadata": {},
   "outputs": [
    {
     "data": {
      "text/plain": [
       "4652"
      ]
     },
     "execution_count": 55,
     "metadata": {},
     "output_type": "execute_result"
    }
   ],
   "source": [
    "smallest = np.inf\n",
    "for t in \"abcdefghijklmnopqrstuvwxyz\":\n",
    "    polymer = list(original_polymer.replace(t, '').replace(t.upper(), ''))\n",
    "    l = react(polymer)\n",
    "    if l < smallest:\n",
    "        smallest = l\n",
    "smallest"
   ]
  },
  {
   "cell_type": "code",
   "execution_count": null,
   "id": "3afc2c8c-72dc-4268-8fa0-30711e183550",
   "metadata": {},
   "outputs": [],
   "source": []
  }
 ],
 "metadata": {
  "kernelspec": {
   "display_name": "Python 3 (ipykernel)",
   "language": "python",
   "name": "python3"
  },
  "language_info": {
   "codemirror_mode": {
    "name": "ipython",
    "version": 3
   },
   "file_extension": ".py",
   "mimetype": "text/x-python",
   "name": "python",
   "nbconvert_exporter": "python",
   "pygments_lexer": "ipython3",
   "version": "3.10.6"
  }
 },
 "nbformat": 4,
 "nbformat_minor": 5
}
