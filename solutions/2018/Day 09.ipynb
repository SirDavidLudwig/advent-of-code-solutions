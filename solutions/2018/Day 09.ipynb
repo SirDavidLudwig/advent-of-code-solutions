{
 "cells": [
  {
   "cell_type": "code",
   "execution_count": null,
   "id": "9d72a8f4",
   "metadata": {},
   "outputs": [],
   "source": [
    "import sys\n",
    "sys.path.append(\"../../common\")"
   ]
  },
  {
   "cell_type": "code",
   "execution_count": 41,
   "id": "62b0ec11",
   "metadata": {},
   "outputs": [],
   "source": [
    "from aoc import *\n",
    "from dataclasses import dataclass\n",
    "from itertools import cycle\n",
    "import numpy as np\n",
    "import re\n",
    "from tqdm import tqdm\n",
    "from typing import Optional"
   ]
  },
  {
   "cell_type": "code",
   "execution_count": 64,
   "id": "a949b336",
   "metadata": {},
   "outputs": [],
   "source": [
    "with open(\"./puzzle_inputs/09.txt\") as f:\n",
    "    data = f.read().split()\n",
    "    n_players = int(data[0])\n",
    "    n_marbles = int(data[-2])"
   ]
  },
  {
   "cell_type": "code",
   "execution_count": 33,
   "id": "cdc451a3-7888-45ee-a60d-df682fc72ed0",
   "metadata": {},
   "outputs": [
    {
     "data": {
      "text/plain": [
       "71940"
      ]
     },
     "execution_count": 33,
     "metadata": {},
     "output_type": "execute_result"
    }
   ],
   "source": [
    "n_marbles"
   ]
  },
  {
   "cell_type": "code",
   "execution_count": 60,
   "id": "9a6bace5-1925-4275-bdfe-de33f3dedbfc",
   "metadata": {},
   "outputs": [],
   "source": [
    "n_players = 9\n",
    "n_marbles = 25"
   ]
  },
  {
   "cell_type": "code",
   "execution_count": 31,
   "id": "b82f6b63-2cf2-4d5d-8540-5044f9873c5d",
   "metadata": {},
   "outputs": [],
   "source": [
    "board = [0]\n",
    "scores = [0]*n_players\n",
    "current = 0\n",
    "for player, marble in zip(cycle(range(n_players)), range(1, n_marbles+1)):\n",
    "    if marble % 23 == 0:\n",
    "        scores[player] += marble\n",
    "        current = (current - 7) % len(board)\n",
    "        scores[player] += board.pop(current)\n",
    "        continue\n",
    "    insert_index = (current + 1) % len(board) + 1\n",
    "    board.insert(insert_index, marble)\n",
    "    current = insert_index"
   ]
  },
  {
   "cell_type": "code",
   "execution_count": 32,
   "id": "1ce22a1f-14ea-41f0-89c4-79b410c78c84",
   "metadata": {},
   "outputs": [
    {
     "data": {
      "text/plain": [
       "384475"
      ]
     },
     "execution_count": 32,
     "metadata": {},
     "output_type": "execute_result"
    }
   ],
   "source": [
    "max(scores)"
   ]
  },
  {
   "cell_type": "code",
   "execution_count": 65,
   "id": "68b73b1b-b0c4-48b4-9203-f0e63b42c14c",
   "metadata": {},
   "outputs": [],
   "source": [
    "@dataclass\n",
    "class Node:\n",
    "    value: int\n",
    "    next: Optional[\"Node\"] = None\n",
    "    prev: Optional[\"Node\"] = None\n",
    "\n",
    "    def right(self, n=1):\n",
    "        current = self\n",
    "        for _ in range(n):\n",
    "            current = current.next\n",
    "        return current\n",
    "\n",
    "    def left(self, n=1):\n",
    "        current = self\n",
    "        for _ in range(n):\n",
    "            current = current.prev\n",
    "        return current\n",
    "\n",
    "    def insert(self, value):\n",
    "        node = Node(value)\n",
    "        node.prev = self\n",
    "        node.next = self.next\n",
    "        self.next.prev = node\n",
    "        self.next = node\n",
    "        return node\n",
    "\n",
    "    def pop(self):\n",
    "        self.prev.next = self.next\n",
    "        self.next.prev = self.prev\n",
    "        return self"
   ]
  },
  {
   "cell_type": "code",
   "execution_count": 66,
   "id": "3fbca27b-9b84-4b8f-a941-43b84cf824a3",
   "metadata": {},
   "outputs": [
    {
     "name": "stderr",
     "output_type": "stream",
     "text": [
      "71940it [00:00, 476059.96it/s]\n"
     ]
    },
    {
     "data": {
      "text/plain": [
       "384475"
      ]
     },
     "execution_count": 66,
     "metadata": {},
     "output_type": "execute_result"
    }
   ],
   "source": [
    "scores = [0]*n_players\n",
    "root = current = Node(0)\n",
    "current.next = current\n",
    "current.prev = current\n",
    "for player, marble in tqdm(zip(cycle(range(n_players)), range(1, n_marbles+1))):\n",
    "    if marble % 23 == 0:\n",
    "        scores[player] += marble\n",
    "        current = current.left(7).pop()\n",
    "        scores[player] += current.value\n",
    "        current = current.next\n",
    "        continue\n",
    "    current = current.right(1).insert(marble)\n",
    "max(scores)"
   ]
  },
  {
   "cell_type": "code",
   "execution_count": 68,
   "id": "151c1e02-01d7-4ca1-bb21-33d917f77e73",
   "metadata": {},
   "outputs": [
    {
     "name": "stderr",
     "output_type": "stream",
     "text": [
      "7194000it [00:12, 564411.15it/s]\n"
     ]
    },
    {
     "data": {
      "text/plain": [
       "3187566597"
      ]
     },
     "execution_count": 68,
     "metadata": {},
     "output_type": "execute_result"
    }
   ],
   "source": [
    "scores = [0]*n_players\n",
    "root = current = Node(0)\n",
    "current.next = current\n",
    "current.prev = current\n",
    "for player, marble in tqdm(zip(cycle(range(n_players)), range(1, n_marbles*100+1))):\n",
    "    if marble % 23 == 0:\n",
    "        scores[player] += marble\n",
    "        current = current.left(7).pop()\n",
    "        scores[player] += current.value\n",
    "        current = current.next\n",
    "        continue\n",
    "    current = current.right(1).insert(marble)\n",
    "max(scores)"
   ]
  },
  {
   "cell_type": "code",
   "execution_count": 67,
   "id": "deabaa34-05a7-401b-9886-5959806d692c",
   "metadata": {},
   "outputs": [
    {
     "name": "stderr",
     "output_type": "stream",
     "text": [
      "961485it [00:25, 37906.96it/s] \n"
     ]
    },
    {
     "ename": "KeyboardInterrupt",
     "evalue": "",
     "output_type": "error",
     "traceback": [
      "\u001b[0;31m---------------------------------------------------------------------------\u001b[0m",
      "\u001b[0;31mKeyboardInterrupt\u001b[0m                         Traceback (most recent call last)",
      "Cell \u001b[0;32mIn [67], line 11\u001b[0m\n\u001b[1;32m      9\u001b[0m     \u001b[38;5;28;01mcontinue\u001b[39;00m\n\u001b[1;32m     10\u001b[0m insert_index \u001b[38;5;241m=\u001b[39m (current \u001b[38;5;241m+\u001b[39m \u001b[38;5;241m1\u001b[39m) \u001b[38;5;241m%\u001b[39m \u001b[38;5;28mlen\u001b[39m(board) \u001b[38;5;241m+\u001b[39m \u001b[38;5;241m1\u001b[39m\n\u001b[0;32m---> 11\u001b[0m \u001b[43mboard\u001b[49m\u001b[38;5;241;43m.\u001b[39;49m\u001b[43minsert\u001b[49m\u001b[43m(\u001b[49m\u001b[43minsert_index\u001b[49m\u001b[43m,\u001b[49m\u001b[43m \u001b[49m\u001b[43mmarble\u001b[49m\u001b[43m)\u001b[49m\n\u001b[1;32m     12\u001b[0m current \u001b[38;5;241m=\u001b[39m insert_index\n",
      "\u001b[0;31mKeyboardInterrupt\u001b[0m: "
     ]
    }
   ],
   "source": [
    "board = [0]\n",
    "scores = [0]*n_players\n",
    "current = 0\n",
    "for player, marble in tqdm(zip(cycle(range(n_players)), range(1, n_marbles*100+1))):\n",
    "    if marble % 23 == 0:\n",
    "        scores[player] += marble\n",
    "        current = (current - 7) % len(board)\n",
    "        scores[player] += board.pop(current)\n",
    "        continue\n",
    "    insert_index = (current + 1) % len(board) + 1\n",
    "    board.insert(insert_index, marble)\n",
    "    current = insert_index"
   ]
  },
  {
   "cell_type": "code",
   "execution_count": null,
   "id": "65e1b9c1-c4b8-44a5-b1c6-ccdd71eb3cf0",
   "metadata": {},
   "outputs": [],
   "source": []
  }
 ],
 "metadata": {
  "kernelspec": {
   "display_name": "Python 3 (ipykernel)",
   "language": "python",
   "name": "python3"
  },
  "language_info": {
   "codemirror_mode": {
    "name": "ipython",
    "version": 3
   },
   "file_extension": ".py",
   "mimetype": "text/x-python",
   "name": "python",
   "nbconvert_exporter": "python",
   "pygments_lexer": "ipython3",
   "version": "3.11.7"
  }
 },
 "nbformat": 4,
 "nbformat_minor": 5
}
