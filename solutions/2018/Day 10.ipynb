{
 "cells": [
  {
   "cell_type": "code",
   "execution_count": 93,
   "id": "02e15e25-cee9-4439-b08f-d785565ac722",
   "metadata": {},
   "outputs": [],
   "source": [
    "import sys\n",
    "sys.path.append(\"../../common\")\n",
    "\n",
    "from aoc import *\n",
    "from dataclasses import dataclass\n",
    "from itertools import cycle\n",
    "import matplotlib.pyplot as plt\n",
    "import numpy as np\n",
    "import re\n",
    "from scipy.spatial.distance import cdist\n",
    "from tqdm import tqdm\n",
    "from typing import Optional"
   ]
  },
  {
   "cell_type": "code",
   "execution_count": 115,
   "id": "501241d8-8e95-4e7a-bf82-6f42ae4165c5",
   "metadata": {},
   "outputs": [],
   "source": [
    "points = []\n",
    "vels = []\n",
    "with open(\"./puzzle_inputs/10.txt\") as f:\n",
    "    for line in f:\n",
    "        x, y, vx, vy = map(int, re.findall(\"(-?\\d+)\", line))\n",
    "        points.append((y, x))\n",
    "        vels.append((vy, vx))\n",
    "points = arr(points)\n",
    "vels = arr(vels)"
   ]
  },
  {
   "cell_type": "code",
   "execution_count": 133,
   "id": "bc9de21c-d3b1-445a-8604-73352642c3ff",
   "metadata": {},
   "outputs": [],
   "source": [
    "ys = points[:,0].copy()\n",
    "vys = vels[:,0].copy()\n",
    "t = 0\n",
    "while np.any(ys > 9):\n",
    "    ys += vys\n",
    "    ys -= np.min(ys)\n",
    "    t += 1"
   ]
  },
  {
   "cell_type": "code",
   "execution_count": 141,
   "id": "42eebed7-e0ed-47d7-ac33-318a5aa1cf42",
   "metadata": {},
   "outputs": [
    {
     "name": "stdout",
     "output_type": "stream",
     "text": [
      "#####   #####   #    #  #    #  #    #  ######  ######  ##### \n",
      "#    #  #    #  ##   #  ##   #  #    #  #            #  #    #\n",
      "#    #  #    #  ##   #  ##   #   #  #   #            #  #    #\n",
      "#    #  #    #  # #  #  # #  #   #  #   #           #   #    #\n",
      "#####   #####   # #  #  # #  #    ##    #####      #    ##### \n",
      "#  #    #       #  # #  #  # #    ##    #         #     #  #  \n",
      "#   #   #       #  # #  #  # #   #  #   #        #      #   # \n",
      "#   #   #       #   ##  #   ##   #  #   #       #       #   # \n",
      "#    #  #       #   ##  #   ##  #    #  #       #       #    #\n",
      "#    #  #       #    #  #    #  #    #  #       ######  #    #\n"
     ]
    }
   ],
   "source": [
    "p = points + vels*t\n",
    "p -= np.min(p, axis=0)\n",
    "grid = np.zeros(np.max(p, axis=0) + 1)\n",
    "grid[tuple(p.T)] = 1\n",
    "for row in grid:\n",
    "    for c in row:\n",
    "        print('#' if c else ' ', end=\"\")\n",
    "    print()"
   ]
  },
  {
   "cell_type": "code",
   "execution_count": 135,
   "id": "5ecfa867-2002-4b04-8d1d-5c5f0a654470",
   "metadata": {},
   "outputs": [
    {
     "data": {
      "text/plain": [
       "10946"
      ]
     },
     "execution_count": 135,
     "metadata": {},
     "output_type": "execute_result"
    }
   ],
   "source": [
    "t"
   ]
  }
 ],
 "metadata": {
  "kernelspec": {
   "display_name": "Python 3 (Qiime2)",
   "language": "python",
   "name": "qiime2-amplicon-2024.2"
  },
  "language_info": {
   "codemirror_mode": {
    "name": "ipython",
    "version": 3
   },
   "file_extension": ".py",
   "mimetype": "text/x-python",
   "name": "python",
   "nbconvert_exporter": "python",
   "pygments_lexer": "ipython3",
   "version": "3.8.15"
  }
 },
 "nbformat": 4,
 "nbformat_minor": 5
}
