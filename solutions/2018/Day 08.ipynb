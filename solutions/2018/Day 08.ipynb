{
 "cells": [
  {
   "cell_type": "code",
   "execution_count": 45,
   "id": "4504f13d-34ba-4860-8815-b73bc346768c",
   "metadata": {},
   "outputs": [],
   "source": [
    "import sys\n",
    "sys.path.append(\"../../common\")\n",
    "from aoc import *\n",
    "\n",
    "import datetime\n",
    "from dataclasses import dataclass\n",
    "from itertools import count, combinations\n",
    "import matplotlib.pyplot as plt\n",
    "import numpy as np\n",
    "import re\n",
    "import shapely\n",
    "from tqdm import tqdm\n",
    "from IPython.display import clear_output"
   ]
  },
  {
   "cell_type": "code",
   "execution_count": 59,
   "id": "5a68f660-8d2b-4271-bdbe-75595647e962",
   "metadata": {},
   "outputs": [],
   "source": [
    "with open(\"./puzzle_inputs/08.txt\") as f:\n",
    "    data = list(map(int, f.read().strip().split()))"
   ]
  },
  {
   "cell_type": "code",
   "execution_count": 54,
   "id": "8280adbc-2a88-412a-a94b-39dd22fb7afa",
   "metadata": {},
   "outputs": [],
   "source": [
    "# data = list(map(int, \"2 3 0 3 10 11 12 1 1 0 1 99 2 1 1 2\".split()))"
   ]
  },
  {
   "cell_type": "code",
   "execution_count": 60,
   "id": "d4253fbb-d806-43e0-b3a3-1d6095f148b8",
   "metadata": {},
   "outputs": [],
   "source": [
    "def dfs_metadata(it):\n",
    "    n_children = next(it)\n",
    "    n_metadata = next(it)\n",
    "    total = 0\n",
    "    for i in range(n_children):\n",
    "        total += dfs_metadata(it)\n",
    "    for i in range(n_metadata):\n",
    "        total += next(it)\n",
    "    return total"
   ]
  },
  {
   "cell_type": "code",
   "execution_count": 61,
   "id": "3091274d-11ee-43eb-b3b5-81a5f947f5ca",
   "metadata": {},
   "outputs": [
    {
     "data": {
      "text/plain": [
       "42501"
      ]
     },
     "execution_count": 61,
     "metadata": {},
     "output_type": "execute_result"
    }
   ],
   "source": [
    "dfs_metadata(iter(data))"
   ]
  },
  {
   "cell_type": "code",
   "execution_count": 76,
   "id": "5542d583-1d0a-496b-8efe-b7fad6220431",
   "metadata": {},
   "outputs": [],
   "source": [
    "def dfs_value(it):\n",
    "    n_children = next(it)\n",
    "    n_metadata = next(it)\n",
    "    total = 0\n",
    "    # no children, sum metadata\n",
    "    if n_children == 0:\n",
    "        for i in range(n_metadata):\n",
    "            total += next(it)\n",
    "    else:\n",
    "        child_values = []\n",
    "        # for each child, get its value and store in list\n",
    "        for i in range(n_children):\n",
    "            child_values.append(dfs_value(it))\n",
    "        # add each child value by metadata indices\n",
    "        for _ in range(n_metadata):\n",
    "            i = next(it) - 1 # metadata child index\n",
    "            if i >= len(child_values): # skip out of bounds\n",
    "                continue\n",
    "            total += child_values[i]\n",
    "    return total"
   ]
  },
  {
   "cell_type": "code",
   "execution_count": 77,
   "id": "6bc450a9-21f9-47d0-8d85-d15361c0ddeb",
   "metadata": {},
   "outputs": [
    {
     "data": {
      "text/plain": [
       "30857"
      ]
     },
     "execution_count": 77,
     "metadata": {},
     "output_type": "execute_result"
    }
   ],
   "source": [
    "dfs_value(iter(data))"
   ]
  },
  {
   "cell_type": "code",
   "execution_count": null,
   "id": "f9b431b3-45a9-455c-bbe9-7cfc520938e9",
   "metadata": {},
   "outputs": [],
   "source": []
  }
 ],
 "metadata": {
  "kernelspec": {
   "display_name": "Python 3 (ipykernel)",
   "language": "python",
   "name": "python3"
  },
  "language_info": {
   "codemirror_mode": {
    "name": "ipython",
    "version": 3
   },
   "file_extension": ".py",
   "mimetype": "text/x-python",
   "name": "python",
   "nbconvert_exporter": "python",
   "pygments_lexer": "ipython3",
   "version": "3.10.6"
  }
 },
 "nbformat": 4,
 "nbformat_minor": 5
}
