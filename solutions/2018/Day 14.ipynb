{
 "cells": [
  {
   "cell_type": "code",
   "execution_count": 1,
   "id": "9d72a8f4",
   "metadata": {},
   "outputs": [],
   "source": [
    "import sys\n",
    "sys.path.append(\"../../common\")"
   ]
  },
  {
   "cell_type": "code",
   "execution_count": 2,
   "id": "62b0ec11",
   "metadata": {},
   "outputs": [],
   "source": [
    "from aoc import *\n",
    "import numpy as np\n",
    "import re"
   ]
  },
  {
   "cell_type": "code",
   "execution_count": 87,
   "id": "a949b336",
   "metadata": {},
   "outputs": [],
   "source": [
    "with open(\"./puzzle_inputs/14.txt\") as f:\n",
    "    n = int(f.read())"
   ]
  },
  {
   "cell_type": "code",
   "execution_count": 88,
   "id": "587956c9-a107-41b4-8d50-4a43747849c1",
   "metadata": {},
   "outputs": [
    {
     "data": {
      "text/plain": [
       "286051"
      ]
     },
     "execution_count": 88,
     "metadata": {},
     "output_type": "execute_result"
    }
   ],
   "source": [
    "n"
   ]
  },
  {
   "cell_type": "code",
   "execution_count": 94,
   "id": "5b1a9fb0-2d05-40ae-be70-b824552e9d12",
   "metadata": {},
   "outputs": [
    {
     "name": "stdout",
     "output_type": "stream",
     "text": [
      "2111113678\n"
     ]
    }
   ],
   "source": [
    "scoreboard = [3, 7]\n",
    "elf1 = 0\n",
    "elf2 = 1\n",
    "\n",
    "while len(scoreboard) < n + 10:\n",
    "    scoreboard += list(map(int, str(scoreboard[elf1] + scoreboard[elf2])))\n",
    "    elf1 = (elf1 + scoreboard[elf1] + 1) % len(scoreboard)\n",
    "    elf2 = (elf2 + scoreboard[elf2] + 1) % len(scoreboard)\n",
    "print(\"\".join(map(str, scoreboard[n:n+10])))"
   ]
  },
  {
   "cell_type": "code",
   "execution_count": 100,
   "id": "55180f59-0c4c-4ae3-b620-97613e22ad63",
   "metadata": {},
   "outputs": [
    {
     "name": "stdout",
     "output_type": "stream",
     "text": [
      "20195114\n"
     ]
    }
   ],
   "source": [
    "scoreboard = [3, 7]\n",
    "search = str(n)\n",
    "l = len(search) + 1\n",
    "elf1 = 0\n",
    "elf2 = 1\n",
    "\n",
    "while -1 == (i := \"\".join(map(str, scoreboard[-l:])).find(search)):\n",
    "    scoreboard += list(map(int, str(scoreboard[elf1] + scoreboard[elf2])))\n",
    "    elf1 = (elf1 + scoreboard[elf1] + 1) % len(scoreboard)\n",
    "    elf2 = (elf2 + scoreboard[elf2] + 1) % len(scoreboard)\n",
    "print(len(scoreboard) - l + i)"
   ]
  },
  {
   "cell_type": "code",
   "execution_count": null,
   "id": "2400c21a-cf29-4515-bea9-fc092b2996a3",
   "metadata": {},
   "outputs": [],
   "source": []
  }
 ],
 "metadata": {
  "kernelspec": {
   "display_name": "Python 3 (Qiime2)",
   "language": "python",
   "name": "qiime2-amplicon-2024.2"
  },
  "language_info": {
   "codemirror_mode": {
    "name": "ipython",
    "version": 3
   },
   "file_extension": ".py",
   "mimetype": "text/x-python",
   "name": "python",
   "nbconvert_exporter": "python",
   "pygments_lexer": "ipython3",
   "version": "3.8.15"
  }
 },
 "nbformat": 4,
 "nbformat_minor": 5
}
