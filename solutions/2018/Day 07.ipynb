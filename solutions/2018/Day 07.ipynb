{
 "cells": [
  {
   "cell_type": "code",
   "execution_count": 21,
   "id": "c30d4a05-22f4-4400-95ce-0c9f0c815751",
   "metadata": {},
   "outputs": [],
   "source": [
    "import sys\n",
    "sys.path.append(\"../../common\")\n",
    "from aoc import *\n",
    "\n",
    "\n",
    "import datetime\n",
    "from itertools import count, combinations\n",
    "import matplotlib.pyplot as plt\n",
    "import numpy as np\n",
    "import re\n",
    "import shapely\n",
    "from tqdm import tqdm\n",
    "from IPython.display import clear_output"
   ]
  },
  {
   "cell_type": "code",
   "execution_count": 147,
   "id": "7eae373c-4f88-4632-9785-a9d24c075caf",
   "metadata": {},
   "outputs": [],
   "source": [
    "rules = []\n",
    "with open(\"./puzzle_inputs/07.txt\") as f:\n",
    "    for line in f:\n",
    "        words = line.split()\n",
    "        a, b = words[-3], words[1]\n",
    "        rules.append((a, b))\n",
    "rules.sort()"
   ]
  },
  {
   "cell_type": "code",
   "execution_count": 152,
   "id": "e0031323-3968-4680-bb1e-17e37601d3a2",
   "metadata": {},
   "outputs": [
    {
     "data": {
      "text/plain": [
       "101"
      ]
     },
     "execution_count": 152,
     "metadata": {},
     "output_type": "execute_result"
    }
   ],
   "source": [
    "len(rules)"
   ]
  },
  {
   "cell_type": "code",
   "execution_count": 156,
   "id": "01f990dd-71db-46bb-9f48-fa5ef0c1a3f0",
   "metadata": {},
   "outputs": [
    {
     "data": {
      "text/plain": [
       "['I', 'J', 'L', 'V']"
      ]
     },
     "execution_count": 156,
     "metadata": {},
     "output_type": "execute_result"
    }
   ],
   "source": [
    "q"
   ]
  },
  {
   "cell_type": "code",
   "execution_count": 159,
   "id": "48d4f545-f0c1-47db-ac45-62d2047ee7d5",
   "metadata": {},
   "outputs": [
    {
     "data": {
      "text/plain": [
       "'IJLFUVDACEHGRZPNKQWSBTMXOY'"
      ]
     },
     "execution_count": 159,
     "metadata": {},
     "output_type": "execute_result"
    }
   ],
   "source": [
    "required = {rule[0]: set() for rule in rules}\n",
    "for a, b in rules:\n",
    "    required[a].add(b)\n",
    "\n",
    "q = sorted(set(rule[1] for rule in rules) - set(required))\n",
    "result = \"\"\n",
    "while len(q):\n",
    "    step = q.pop(0)\n",
    "    result += step\n",
    "    for node, req in list(required.items()):\n",
    "        if step in req:\n",
    "            req.remove(step)\n",
    "        if len(req) == 0:\n",
    "            del required[node]\n",
    "            q.append(node)\n",
    "    q.sort()\n",
    "result"
   ]
  },
  {
   "cell_type": "code",
   "execution_count": 163,
   "id": "28c80981-6106-4cf9-bb74-c243edec3730",
   "metadata": {},
   "outputs": [
    {
     "data": {
      "text/plain": [
       "1072"
      ]
     },
     "execution_count": 163,
     "metadata": {},
     "output_type": "execute_result"
    }
   ],
   "source": [
    "required = {rule[0]: set() for rule in rules}\n",
    "for a, b in rules:\n",
    "    required[a].add(b)\n",
    "\n",
    "q = sorted(set(rule[1] for rule in rules) - set(required))\n",
    "\n",
    "t = 0\n",
    "workers = arr([0]*5)\n",
    "workers_processing = arr(['0']*5)\n",
    "\n",
    "\n",
    "while len(required) or len(q):\n",
    "    available_workers = np.where(workers == 0)[0]\n",
    "    to_process, q = q[:len(available_workers)], q[len(available_workers):]\n",
    "    q.sort()\n",
    "    for step, i in zip(to_process, available_workers):\n",
    "        workers[i] = 60 + ord(step) - ord('A') + 1\n",
    "        workers_processing[i] = step\n",
    "\n",
    "    active_workers = np.where(workers > 0)[0]\n",
    "    delta = np.min(workers[active_workers])\n",
    "    t += delta\n",
    "    workers[active_workers] -= delta\n",
    "    for i in active_workers:\n",
    "        if workers[i] > 0:\n",
    "            continue\n",
    "        step = workers_processing[i]\n",
    "        for node, req in list(required.items()):\n",
    "            if step in req:\n",
    "                req.remove(step)\n",
    "            if len(req) == 0:\n",
    "                del required[node]\n",
    "                q.append(node)\n",
    "t"
   ]
  },
  {
   "cell_type": "code",
   "execution_count": null,
   "id": "3593bf84-40e5-4895-adff-dcfb55bd11e5",
   "metadata": {},
   "outputs": [],
   "source": []
  }
 ],
 "metadata": {
  "kernelspec": {
   "display_name": "Python 3 (ipykernel)",
   "language": "python",
   "name": "python3"
  },
  "language_info": {
   "codemirror_mode": {
    "name": "ipython",
    "version": 3
   },
   "file_extension": ".py",
   "mimetype": "text/x-python",
   "name": "python",
   "nbconvert_exporter": "python",
   "pygments_lexer": "ipython3",
   "version": "3.10.6"
  }
 },
 "nbformat": 4,
 "nbformat_minor": 5
}
