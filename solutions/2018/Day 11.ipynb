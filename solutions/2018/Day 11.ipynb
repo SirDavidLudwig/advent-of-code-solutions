{
 "cells": [
  {
   "cell_type": "code",
   "execution_count": 196,
   "id": "02e15e25-cee9-4439-b08f-d785565ac722",
   "metadata": {},
   "outputs": [],
   "source": [
    "import sys\n",
    "sys.path.append(\"../../common\")\n",
    "\n",
    "from aoc import *\n",
    "from dataclasses import dataclass\n",
    "from itertools import cycle\n",
    "import matplotlib.pyplot as plt\n",
    "import numpy as np\n",
    "import re\n",
    "from scipy.spatial.distance import cdist\n",
    "from scipy.signal import convolve2d\n",
    "from tqdm import tqdm\n",
    "from typing import Optional"
   ]
  },
  {
   "cell_type": "code",
   "execution_count": 197,
   "id": "501241d8-8e95-4e7a-bf82-6f42ae4165c5",
   "metadata": {},
   "outputs": [],
   "source": [
    "with open(\"./puzzle_inputs/11.txt\") as f:\n",
    "    serial = int(f.read())"
   ]
  },
  {
   "cell_type": "code",
   "execution_count": 198,
   "id": "20ebfe39-214e-4caf-8099-d3e4701a64ee",
   "metadata": {},
   "outputs": [],
   "source": [
    "# serial = 42"
   ]
  },
  {
   "cell_type": "markdown",
   "id": "9d745223-687d-4788-b929-689cbf287305",
   "metadata": {
    "jupyter": {
     "source_hidden": true
    }
   },
   "source": [
    "- Begin with a power level of the rack ID times the Y coordinate.\n",
    "- Increase the power level by the value of the grid serial number (your puzzle input).\n",
    "- Set the power level to itself multiplied by the rack ID.\n",
    "- Keep only the hundreds digit of the power level (so 12345 becomes 3; numbers with no hundreds digit become 0).\n",
    "- Subtract 5 from the power level.\n",
    "\n"
   ]
  },
  {
   "cell_type": "code",
   "execution_count": 199,
   "id": "3b44ea6f-d916-4e51-b4e6-d85c6003dcd7",
   "metadata": {},
   "outputs": [],
   "source": [
    "x, y = np.meshgrid(np.arange(301), np.arange(301))"
   ]
  },
  {
   "cell_type": "code",
   "execution_count": 188,
   "id": "93ac07a0-c76e-4465-81dc-d6ad0b6a4502",
   "metadata": {},
   "outputs": [],
   "source": [
    "rack_id = x + 10\n",
    "power_level = rack_id * y\n",
    "power_level += serial\n",
    "power_level *= rack_id\n",
    "power_level = (power_level // 100) % 10 - 5"
   ]
  },
  {
   "cell_type": "code",
   "execution_count": 204,
   "id": "8c122274-d79f-4795-b567-1f7f4d0eb884",
   "metadata": {},
   "outputs": [
    {
     "data": {
      "text/plain": [
       "array([[-5, -2,  2, ..., -4, -1,  2],\n",
       "       [-4,  0,  3, ..., -5,  4,  3],\n",
       "       [-3,  1,  4, ...,  4, -1,  4],\n",
       "       ...,\n",
       "       [ 3, -1,  1, ...,  1,  3,  0],\n",
       "       [ 4,  0,  2, ...,  0, -2,  1],\n",
       "       [-5,  1,  4, ..., -2,  2,  2]])"
      ]
     },
     "execution_count": 204,
     "metadata": {},
     "output_type": "execute_result"
    }
   ],
   "source": [
    "power_level"
   ]
  },
  {
   "cell_type": "code",
   "execution_count": 227,
   "id": "c6967937-e39a-4797-b4ed-5b50b3744183",
   "metadata": {},
   "outputs": [],
   "source": [
    "def max_conv(grid, k):\n",
    "    best = -np.inf\n",
    "    best_coord = None\n",
    "    for y in range(1, power_level.shape[1] - k + 1):\n",
    "        for x in range(1, power_level.shape[0] - k + 1):\n",
    "            total = np.sum(power_level[y:y+k,x:x+k])\n",
    "            if total > best:\n",
    "                best = total\n",
    "                best_coord = (x, y)\n",
    "    return best, best_coord"
   ]
  },
  {
   "cell_type": "code",
   "execution_count": 228,
   "id": "a1c7793e-f4ef-4825-b247-df6420bcba8e",
   "metadata": {},
   "outputs": [
    {
     "data": {
      "text/plain": [
       "(31, (20, 43))"
      ]
     },
     "execution_count": 228,
     "metadata": {},
     "output_type": "execute_result"
    }
   ],
   "source": [
    "max_conv(power_level, k=3)"
   ]
  },
  {
   "cell_type": "code",
   "execution_count": null,
   "id": "6750baa4-b8c7-43ed-8129-062147b2cb16",
   "metadata": {},
   "outputs": [],
   "source": [
    "for k in tqdm(range(300)):\n",
    "c = convolve2d(power_level, np.ones((3, 3)), mode=\"valid\")\n",
    "np.unravel_index(np.argmax(c), c.shape)[::-1]"
   ]
  },
  {
   "cell_type": "code",
   "execution_count": 195,
   "id": "81188b13-70b1-4880-9287-58fc90cc087f",
   "metadata": {},
   "outputs": [
    {
     "name": "stderr",
     "output_type": "stream",
     "text": [
      "100%|██████████| 300/300 [00:51<00:00,  5.78it/s]\n"
     ]
    }
   ],
   "source": [
    "best = (-np.inf, None, None)\n",
    "for k in tqdm(range(1, power_level.shape[0] + 1)):\n",
    "    total, coord = max_conv(power_level, k=k)\n",
    "    if total > best[0]:\n",
    "        best = (total, coord, k)"
   ]
  },
  {
   "cell_type": "code",
   "execution_count": 194,
   "id": "378471ec-6486-437c-9dee-239f2d9d215c",
   "metadata": {},
   "outputs": [
    {
     "data": {
      "text/plain": [
       "(108, (233, 271), 13)"
      ]
     },
     "execution_count": 194,
     "metadata": {},
     "output_type": "execute_result"
    }
   ],
   "source": [
    "best"
   ]
  },
  {
   "cell_type": "code",
   "execution_count": null,
   "id": "b6279761-9536-4b23-a47d-a08a710b9835",
   "metadata": {},
   "outputs": [],
   "source": []
  }
 ],
 "metadata": {
  "kernelspec": {
   "display_name": "Python 3 (Qiime2)",
   "language": "python",
   "name": "qiime2-amplicon-2024.2"
  },
  "language_info": {
   "codemirror_mode": {
    "name": "ipython",
    "version": 3
   },
   "file_extension": ".py",
   "mimetype": "text/x-python",
   "name": "python",
   "nbconvert_exporter": "python",
   "pygments_lexer": "ipython3",
   "version": "3.8.15"
  }
 },
 "nbformat": 4,
 "nbformat_minor": 5
}
