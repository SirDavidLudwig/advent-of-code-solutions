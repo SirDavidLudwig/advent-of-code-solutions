{
 "cells": [
  {
   "cell_type": "code",
   "execution_count": 2,
   "id": "9d72a8f4",
   "metadata": {},
   "outputs": [],
   "source": [
    "import sys\n",
    "sys.path.append(\"../../common\")"
   ]
  },
  {
   "cell_type": "code",
   "execution_count": 3,
   "id": "62b0ec11",
   "metadata": {},
   "outputs": [],
   "source": [
    "from aoc import *\n",
    "import numpy as np\n",
    "import re"
   ]
  },
  {
   "cell_type": "code",
   "execution_count": 162,
   "id": "a949b336",
   "metadata": {},
   "outputs": [],
   "source": [
    "with open(\"./puzzle_inputs/13.txt\") as f:\n",
    "    track_and_carts = arr([[c for c in line.rstrip('\\n')] for line in f])"
   ]
  },
  {
   "cell_type": "code",
   "execution_count": 163,
   "id": "d0539b27-2bf3-49d3-ab9b-15370f4e77ba",
   "metadata": {},
   "outputs": [
    {
     "data": {
      "text/plain": [
       "(150, 150)"
      ]
     },
     "execution_count": 163,
     "metadata": {},
     "output_type": "execute_result"
    }
   ],
   "source": [
    "track_and_carts.shape"
   ]
  },
  {
   "cell_type": "code",
   "execution_count": 185,
   "id": "968a8981-5976-4c72-a214-7cf6011c8844",
   "metadata": {},
   "outputs": [],
   "source": [
    "initial_track = track_and_carts.copy()\n",
    "initial_track[np.where(np.logical_or(initial_track == '>', initial_track == '<'))] = '-'\n",
    "initial_track[np.where(np.logical_or(initial_track == '^', initial_track == 'v'))] = '|'"
   ]
  },
  {
   "cell_type": "code",
   "execution_count": 186,
   "id": "3aca27df-25b6-449a-ab15-ff6acfa5a2b3",
   "metadata": {},
   "outputs": [
    {
     "data": {
      "text/plain": [
       "17"
      ]
     },
     "execution_count": 186,
     "metadata": {},
     "output_type": "execute_result"
    }
   ],
   "source": [
    "initial_carts = []\n",
    "for coord in zip(*np.where((track_and_carts == '>') + (track_and_carts == '<') + (track_and_carts == '^') + (track_and_carts == 'v'))):\n",
    "    initial_carts.append((coord, track_and_carts[coord], 0))\n",
    "len(initial_carts)"
   ]
  },
  {
   "cell_type": "code",
   "execution_count": 187,
   "id": "7b9e4fcf-60a3-4ac8-8502-196fcd6aaf82",
   "metadata": {},
   "outputs": [],
   "source": [
    "deltas = {\n",
    "    '>': arr([0, 1]),\n",
    "    '<': arr([0, -1]),\n",
    "    '^': arr([-1, 0]),\n",
    "    'v': arr([1, 0])\n",
    "}\n",
    "left_deltas = {\n",
    "    '>': '^',\n",
    "    '^': '<',\n",
    "    '<': 'v',\n",
    "    'v': '>'\n",
    "}\n",
    "right_deltas = {\n",
    "    '>': 'v',\n",
    "    'v': '<',\n",
    "    '<': '^',\n",
    "    '^': '>'\n",
    "}"
   ]
  },
  {
   "cell_type": "code",
   "execution_count": 188,
   "id": "50a1d91d-9984-446e-927f-4ac9032f646f",
   "metadata": {},
   "outputs": [],
   "source": [
    "def display(track, carts):\n",
    "    r = track.copy()\n",
    "    for (coord, d, _) in carts:\n",
    "        r[coord] = d\n",
    "    for row in r:\n",
    "        print(\"\".join(row))"
   ]
  },
  {
   "cell_type": "code",
   "execution_count": 189,
   "id": "1426a2f4-9227-4ab2-ab64-20e8bf0ec7cb",
   "metadata": {},
   "outputs": [],
   "source": [
    "# display(track, carts)"
   ]
  },
  {
   "cell_type": "code",
   "execution_count": 190,
   "id": "8b8ad2c7-bad2-40c8-9fd0-0267813375b2",
   "metadata": {},
   "outputs": [
    {
     "name": "stdout",
     "output_type": "stream",
     "text": [
      "38,72\n"
     ]
    }
   ],
   "source": [
    "track = initial_track.copy()\n",
    "carts = initial_carts.copy()\n",
    "\n",
    "crash_coord = None\n",
    "while crash_coord is None:\n",
    "    # display(track, carts)\n",
    "    visited = set()\n",
    "    # sort carts top to bottom, left to right\n",
    "    carts.sort(key=lambda x: x[0])\n",
    "    for i in range(len(carts)):\n",
    "        coord, d, turn_count = carts[i]\n",
    "        if coord in visited or (coord := tuple(coord + deltas[d])) in visited:\n",
    "            crash_coord = coord\n",
    "            break\n",
    "        visited.add(coord)\n",
    "        # Cart rotation\n",
    "        if track[coord] == '\\\\':\n",
    "            if d == '>':\n",
    "                d = 'v'\n",
    "            elif d == '^':\n",
    "                d = '<'\n",
    "            elif d == 'v':\n",
    "                d = '>'\n",
    "            elif d == '<':\n",
    "                d = '^'\n",
    "        elif track[coord] == '/':\n",
    "            if d == '>':\n",
    "                d = '^'\n",
    "            elif d == 'v':\n",
    "                d = '<'\n",
    "            elif d == '^':\n",
    "                d = '>'\n",
    "            elif d == '<':\n",
    "                d = 'v'\n",
    "        elif track[coord] == '+':\n",
    "            if turn_count % 3 == 0:\n",
    "                d = left_deltas[d]\n",
    "            elif turn_count % 3 == 2:\n",
    "                d = right_deltas[d]\n",
    "            turn_count += 1\n",
    "        carts[i] = (coord, d, turn_count)\n",
    "print(\",\".join(map(str, crash_coord[::-1])))"
   ]
  },
  {
   "cell_type": "code",
   "execution_count": 182,
   "id": "0693f444-cec5-4143-a025-8fa4be12ad0e",
   "metadata": {},
   "outputs": [
    {
     "name": "stdout",
     "output_type": "stream",
     "text": [
      "68,27\n"
     ]
    }
   ],
   "source": [
    "track = initial_track.copy()\n",
    "carts = initial_carts.copy()\n",
    "\n",
    "crash_coord = None\n",
    "to_remove = []\n",
    "while len(carts) > 1:\n",
    "    # display(track, carts)\n",
    "    visited = {}\n",
    "    # sort carts top to bottom, left to right\n",
    "    carts.sort(key=lambda x: x[0])\n",
    "    for i in range(len(carts)):\n",
    "        coord, d, turn_count = carts[i]\n",
    "        # If another cart landed here...\n",
    "        if coord in visited or (coord := tuple(coord + deltas[d])) in visited:\n",
    "            to_remove.append(visited[coord])\n",
    "            to_remove.append(i)\n",
    "            del visited[coord]\n",
    "            continue\n",
    "        visited[coord] = i\n",
    "        # Cart rotation\n",
    "        if track[coord] == '\\\\':\n",
    "            if d == '>':\n",
    "                d = 'v'\n",
    "            elif d == '^':\n",
    "                d = '<'\n",
    "            elif d == 'v':\n",
    "                d = '>'\n",
    "            elif d == '<':\n",
    "                d = '^'\n",
    "        elif track[coord] == '/':\n",
    "            if d == '>':\n",
    "                d = '^'\n",
    "            elif d == 'v':\n",
    "                d = '<'\n",
    "            elif d == '^':\n",
    "                d = '>'\n",
    "            elif d == '<':\n",
    "                d = 'v'\n",
    "        elif track[coord] == '+':\n",
    "            if turn_count % 3 == 0:\n",
    "                d = left_deltas[d]\n",
    "            elif turn_count % 3 == 2:\n",
    "                d = right_deltas[d]\n",
    "            turn_count += 1\n",
    "        carts[i] = (coord, d, turn_count)\n",
    "    for i in sorted(to_remove, reverse=True):\n",
    "        carts.pop(i)\n",
    "    to_remove.clear()\n",
    "print(\",\".join(map(str, carts[0][0][::-1])))"
   ]
  }
 ],
 "metadata": {
  "kernelspec": {
   "display_name": "Python 3 (Qiime2)",
   "language": "python",
   "name": "qiime2-amplicon-2024.2"
  },
  "language_info": {
   "codemirror_mode": {
    "name": "ipython",
    "version": 3
   },
   "file_extension": ".py",
   "mimetype": "text/x-python",
   "name": "python",
   "nbconvert_exporter": "python",
   "pygments_lexer": "ipython3",
   "version": "3.8.15"
  }
 },
 "nbformat": 4,
 "nbformat_minor": 5
}
