{
 "cells": [
  {
   "cell_type": "code",
   "execution_count": 1,
   "id": "9d72a8f4",
   "metadata": {},
   "outputs": [],
   "source": [
    "import sys\n",
    "sys.path.append(\"../../common\")"
   ]
  },
  {
   "cell_type": "code",
   "execution_count": 147,
   "id": "62b0ec11",
   "metadata": {},
   "outputs": [],
   "source": [
    "from aoc import *\n",
    "from itertools import repeat\n",
    "import numpy as np\n",
    "import re\n",
    "from tqdm import tqdm"
   ]
  },
  {
   "cell_type": "code",
   "execution_count": 145,
   "id": "a949b336",
   "metadata": {},
   "outputs": [
    {
     "data": {
      "text/plain": [
       "{'#####',\n",
       " '####.',\n",
       " '##.##',\n",
       " '##.#.',\n",
       " '##...',\n",
       " '#.#.#',\n",
       " '#.#..',\n",
       " '#..#.',\n",
       " '#...#',\n",
       " '.###.',\n",
       " '.##.#',\n",
       " '.##..',\n",
       " '.#.##',\n",
       " '.#..#',\n",
       " '.#...',\n",
       " '..#.#',\n",
       " '...#.'}"
      ]
     },
     "execution_count": 145,
     "metadata": {},
     "output_type": "execute_result"
    }
   ],
   "source": [
    "with open(\"./puzzle_inputs/12.txt\") as f:\n",
    "    initial_state = f.readline().strip().split(': ')[1]\n",
    "    f.readline()\n",
    "    gen_steps = sorted([line.strip().split(' => ') for line in f])\n",
    "    gen_map = set([v[0] for v in gen_steps if v[1] == '#'])\n",
    "gen_map"
   ]
  },
  {
   "cell_type": "code",
   "execution_count": 134,
   "id": "93ee4047-3e5a-4a92-9751-da89a8863b02",
   "metadata": {},
   "outputs": [],
   "source": [
    "def print_state(state):\n",
    "    for i in range(min(state), max(state) + 1):\n",
    "        print('#' if i in state else '.', end=\"\")\n",
    "    print()"
   ]
  },
  {
   "cell_type": "code",
   "execution_count": 138,
   "id": "20eeec34-fa19-4cd1-b5fa-494492efca85",
   "metadata": {},
   "outputs": [
    {
     "name": "stdout",
     "output_type": "stream",
     "text": [
      "###.##..#.###.#.....#.#######.#.#.....#....#.###.#.###.#..###.#....##..#.#....##.##.##.##.##.##.##.##.##.##\n"
     ]
    }
   ],
   "source": [
    "state = {i for i, c in enumerate(initial_state) if c == '#'}\n",
    "for _ in range(20):\n",
    "    next_state = set()\n",
    "    left = -np.inf\n",
    "    for landmark in list(state):\n",
    "        for pos in range(landmark - 2, landmark + 3):\n",
    "        # for pos in range(max(landmark - 2, left), landmark + 3):\n",
    "            key = \"\".join('#' if i in state else '.' for i in range(pos-2, pos+3))\n",
    "            if key in gen_map:\n",
    "                next_state.add(pos)\n",
    "        # left = landmark + 2\n",
    "    state = next_state\n",
    "print_state(state)"
   ]
  },
  {
   "cell_type": "code",
   "execution_count": 139,
   "id": "4a8732ee-990f-4d38-aac1-06898d630781",
   "metadata": {},
   "outputs": [
    {
     "data": {
      "text/plain": [
       "3915"
      ]
     },
     "execution_count": 139,
     "metadata": {},
     "output_type": "execute_result"
    }
   ],
   "source": [
    "sum(state)"
   ]
  },
  {
   "cell_type": "code",
   "execution_count": 155,
   "id": "985f9bb4-832b-4d1d-96e3-77a09df50d60",
   "metadata": {},
   "outputs": [
    {
     "name": "stdout",
     "output_type": "stream",
     "text": [
      "100\n"
     ]
    }
   ],
   "source": [
    "print(len(initial_state))"
   ]
  },
  {
   "cell_type": "code",
   "execution_count": 153,
   "id": "68ed66f0-a158-4318-a27d-e9746dc65f0d",
   "metadata": {},
   "outputs": [
    {
     "name": "stdout",
     "output_type": "stream",
     "text": [
      "98\n",
      "98\n",
      "98\n",
      "98\n",
      "98\n",
      "98\n",
      "98\n",
      "98\n",
      "98\n",
      "98\n",
      "##.##.##.##....##.##.##.##.##.##.##.##.##....##.##.##.##.##.##.##.##.##....##.##.##....##.##.##.##.##.##....##.##.##.##.##.##.##.##....##.##.##.##.##.##.##.##.##.##\n"
     ]
    }
   ],
   "source": [
    "state = {i for i, c in enumerate(initial_state) if c == '#'}\n",
    "seen = {}\n",
    "generation = 0\n",
    "while (t_state := tuple(state)) not in seen and generation <= 10000:\n",
    "# for _ in tqdm(range(10000)):\n",
    "    seen[t_state] = generation\n",
    "    next_state = set()\n",
    "    for landmark in list(state):\n",
    "        for pos in range(landmark - 2, landmark + 3):\n",
    "            key = \"\".join('#' if i in state else '.' for i in range(pos-2, pos+3))\n",
    "            if key in gen_map:\n",
    "                next_state.add(pos)\n",
    "    state = next_state\n",
    "    generation += 1\n",
    "    if generation % 1000 == 0:\n",
    "        print(len(state))\n",
    "print_state(state)"
   ]
  },
  {
   "cell_type": "code",
   "execution_count": 154,
   "id": "16852f80-9b4c-4f9a-92a2-71d5f9aef94a",
   "metadata": {},
   "outputs": [
    {
     "data": {
      "text/plain": [
       "10001"
      ]
     },
     "execution_count": 154,
     "metadata": {},
     "output_type": "execute_result"
    }
   ],
   "source": [
    "len(seen)"
   ]
  },
  {
   "cell_type": "code",
   "execution_count": 186,
   "id": "805513fb-fcc6-4725-9347-a6c514286711",
   "metadata": {},
   "outputs": [
    {
     "ename": "TypeError",
     "evalue": "unhashable type: 'slice'",
     "output_type": "error",
     "traceback": [
      "\u001b[0;31m---------------------------------------------------------------------------\u001b[0m",
      "\u001b[0;31mTypeError\u001b[0m                                 Traceback (most recent call last)",
      "Cell \u001b[0;32mIn[186], line 1\u001b[0m\n\u001b[0;32m----> 1\u001b[0m \u001b[43mseen\u001b[49m\u001b[43m[\u001b[49m\u001b[43m:\u001b[49m\u001b[38;5;241;43m100\u001b[39;49m\u001b[43m]\u001b[49m\n",
      "\u001b[0;31mTypeError\u001b[0m: unhashable type: 'slice'"
     ]
    }
   ],
   "source": [
    "keys[:100]"
   ]
  },
  {
   "cell_type": "code",
   "execution_count": 189,
   "id": "fd4b9fe5-f4d9-4ba4-9a74-0292ea71acc9",
   "metadata": {},
   "outputs": [
    {
     "data": {
      "text/plain": [
       "2423"
      ]
     },
     "execution_count": 189,
     "metadata": {},
     "output_type": "execute_result"
    }
   ],
   "source": [
    "sum(keys[0])"
   ]
  },
  {
   "cell_type": "code",
   "execution_count": 187,
   "id": "054ed349-8c46-47cc-b988-e77957535824",
   "metadata": {},
   "outputs": [
    {
     "name": "stdout",
     "output_type": "stream",
     "text": [
      "0 518\n",
      "1 43\n",
      "2 -407\n",
      "3 544\n",
      "4 314\n",
      "5 -322\n",
      "6 51\n",
      "7 322\n",
      "8 18\n",
      "9 23\n",
      "10 99\n",
      "11 -41\n",
      "12 225\n",
      "13 123\n",
      "14 -575\n",
      "15 931\n",
      "16 -92\n",
      "17 -183\n",
      "18 319\n",
      "19 -418\n",
      "20 352\n",
      "21 190\n",
      "22 68\n",
      "23 154\n",
      "24 206\n",
      "25 -244\n",
      "26 127\n",
      "27 267\n",
      "28 -244\n",
      "29 377\n",
      "30 66\n",
      "31 18\n",
      "32 224\n",
      "33 -275\n",
      "34 237\n",
      "35 297\n",
      "36 -384\n",
      "37 371\n",
      "38 209\n",
      "39 -236\n",
      "40 111\n",
      "41 182\n",
      "42 -24\n",
      "43 292\n",
      "44 -16\n",
      "45 5\n",
      "46 117\n",
      "47 115\n",
      "48 79\n",
      "49 55\n",
      "50 -12\n",
      "51 183\n",
      "52 -53\n",
      "53 112\n",
      "54 186\n",
      "55 47\n",
      "56 320\n",
      "57 -17\n",
      "58 21\n",
      "59 15\n",
      "60 122\n",
      "61 319\n",
      "62 -69\n",
      "63 70\n",
      "64 123\n",
      "65 123\n",
      "66 -12\n",
      "67 276\n",
      "68 71\n",
      "69 28\n",
      "70 56\n",
      "71 279\n",
      "72 26\n",
      "73 118\n",
      "74 -57\n",
      "75 215\n",
      "76 67\n",
      "77 77\n",
      "78 144\n",
      "79 102\n",
      "80 204\n",
      "81 58\n",
      "82 101\n",
      "83 118\n",
      "84 33\n",
      "85 184\n",
      "86 57\n",
      "87 68\n",
      "88 119\n",
      "89 98\n",
      "90 154\n",
      "91 66\n",
      "92 156\n",
      "93 98\n",
      "94 98\n",
      "95 98\n",
      "96 98\n",
      "97 98\n",
      "98 98\n"
     ]
    }
   ],
   "source": [
    "keys = list(seen.keys())\n",
    "for i, (k1, k2) in enumerate(zip(keys, keys[1:100])):\n",
    "    print(i, sum(k2) - sum(k1))"
   ]
  },
  {
   "cell_type": "code",
   "execution_count": 179,
   "id": "a12371a4-b87e-49e5-a069-38359fc21785",
   "metadata": {},
   "outputs": [
    {
     "data": {
      "text/plain": [
       "981793"
      ]
     },
     "execution_count": 179,
     "metadata": {},
     "output_type": "execute_result"
    }
   ],
   "source": [
    "sum(keys[10000])"
   ]
  },
  {
   "cell_type": "code",
   "execution_count": 182,
   "id": "0d479f2d-8103-4919-b1e3-2380e3dbba78",
   "metadata": {},
   "outputs": [],
   "source": [
    "n = 50000000000"
   ]
  },
  {
   "cell_type": "code",
   "execution_count": 183,
   "id": "30251580-4eb4-4bd3-a447-c168133480c7",
   "metadata": {},
   "outputs": [
    {
     "data": {
      "text/plain": [
       "4900000001793"
      ]
     },
     "execution_count": 183,
     "metadata": {},
     "output_type": "execute_result"
    }
   ],
   "source": [
    "sum(keys[100]) + (sum(keys[100]) - sum(keys[99]))*(n - 100)"
   ]
  }
 ],
 "metadata": {
  "kernelspec": {
   "display_name": "Python 3 (Qiime2)",
   "language": "python",
   "name": "qiime2-amplicon-2024.2"
  },
  "language_info": {
   "codemirror_mode": {
    "name": "ipython",
    "version": 3
   },
   "file_extension": ".py",
   "mimetype": "text/x-python",
   "name": "python",
   "nbconvert_exporter": "python",
   "pygments_lexer": "ipython3",
   "version": "3.8.15"
  }
 },
 "nbformat": 4,
 "nbformat_minor": 5
}
