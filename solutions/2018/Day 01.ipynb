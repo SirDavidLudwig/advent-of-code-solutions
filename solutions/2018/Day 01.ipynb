{
 "cells": [
  {
   "cell_type": "code",
   "execution_count": 3,
   "id": "e08bebb7-3aca-437f-94ee-aa5b1cdab954",
   "metadata": {},
   "outputs": [
    {
     "name": "stdout",
     "output_type": "stream",
     "text": [
      "505\n"
     ]
    }
   ],
   "source": [
    "with open(\"./puzzle_inputs/01.txt\") as f:\n",
    "    print(sum(map(int, f)))"
   ]
  },
  {
   "cell_type": "code",
   "execution_count": 10,
   "id": "dbedcca0-09b7-4846-8157-34bd01a58144",
   "metadata": {},
   "outputs": [],
   "source": [
    "from itertools import cycle"
   ]
  },
  {
   "cell_type": "code",
   "execution_count": 11,
   "id": "f4aca9a8-3cc7-42c6-8b9c-6873aa57e781",
   "metadata": {},
   "outputs": [
    {
     "name": "stdout",
     "output_type": "stream",
     "text": [
      "72330\n"
     ]
    }
   ],
   "source": [
    "seen = set()\n",
    "freq = 0\n",
    "with open(\"./puzzle_inputs/01.txt\") as f:\n",
    "    for f in cycle(list(map(int, f))):\n",
    "        freq += f\n",
    "        if freq in seen:\n",
    "            print(freq)\n",
    "            break\n",
    "        seen.add(freq)\n",
    "    else:\n",
    "        raise Exception()"
   ]
  },
  {
   "cell_type": "code",
   "execution_count": null,
   "id": "b672cd99-0d73-436d-83c0-a7ebe8aa0f69",
   "metadata": {},
   "outputs": [],
   "source": []
  }
 ],
 "metadata": {
  "kernelspec": {
   "display_name": "Python 3 (ipykernel)",
   "language": "python",
   "name": "python3"
  },
  "language_info": {
   "codemirror_mode": {
    "name": "ipython",
    "version": 3
   },
   "file_extension": ".py",
   "mimetype": "text/x-python",
   "name": "python",
   "nbconvert_exporter": "python",
   "pygments_lexer": "ipython3",
   "version": "3.10.6"
  }
 },
 "nbformat": 4,
 "nbformat_minor": 5
}
