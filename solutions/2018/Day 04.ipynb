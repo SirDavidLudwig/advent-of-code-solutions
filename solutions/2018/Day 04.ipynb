{
 "cells": [
  {
   "cell_type": "code",
   "execution_count": 83,
   "id": "422e98c7-a3a8-4506-bc70-c00ac84804ac",
   "metadata": {},
   "outputs": [],
   "source": [
    "import sys\n",
    "sys.path.append(\"../../common\")\n",
    "from aoc import *\n",
    "\n",
    "import datetime\n",
    "from itertools import count, combinations\n",
    "import matplotlib.pyplot as plt\n",
    "import numpy as np\n",
    "import re\n",
    "import shapely\n",
    "from tqdm import tqdm\n",
    "from IPython.display import clear_output"
   ]
  },
  {
   "cell_type": "code",
   "execution_count": 119,
   "id": "97eb1992-f277-40df-8c02-3cb4ca644af4",
   "metadata": {},
   "outputs": [],
   "source": [
    "timelog = []\n",
    "with open(\"./puzzle_inputs/04.txt\") as f:\n",
    "    for line in f:\n",
    "        year, month, day, hour, minute = map(int, re.findall(r\"\\[(\\d+)-(\\d+)-(\\d+) (\\d+):(\\d+)\\]\", line)[0])\n",
    "        d = datetime.datetime(year=year, month=month, day=day, hour=hour, minute=minute)\n",
    "        action = line.strip().split('] ')[-1]\n",
    "        timelog.append((d, action))\n",
    "timelog.sort(key=lambda x: x[0])"
   ]
  },
  {
   "cell_type": "code",
   "execution_count": 120,
   "id": "a8281ed6-e14f-484a-8025-d03171af4aea",
   "metadata": {},
   "outputs": [],
   "source": [
    "sleep_time_by_guard = {}\n",
    "guard = None\n",
    "start = None\n",
    "for d, action in timelog:\n",
    "    if action.endswith(\"begins shift\"):\n",
    "        guard = action.split()[1]\n",
    "        if guard not in sleep_time_by_guard:\n",
    "            sleep_time_by_guard[guard] = np.zeros(60, dtype=int)\n",
    "        continue\n",
    "    if action == \"falls asleep\":\n",
    "        start = d.time().minute\n",
    "        continue\n",
    "    if action == \"wakes up\":\n",
    "        end = d.time().minute\n",
    "        sleep_time_by_guard[guard][np.arange(start, end)] += 1"
   ]
  },
  {
   "cell_type": "code",
   "execution_count": 121,
   "id": "3bb0697a-50cf-4633-8f2d-b42065a2223b",
   "metadata": {},
   "outputs": [],
   "source": [
    "totals = [np.sum(v) for v in sleep_time_by_guard.values()]"
   ]
  },
  {
   "cell_type": "code",
   "execution_count": 122,
   "id": "813a1749-45c0-4eff-a801-06cfdfbb5faf",
   "metadata": {},
   "outputs": [
    {
     "data": {
      "text/plain": [
       "'#3457'"
      ]
     },
     "execution_count": 122,
     "metadata": {},
     "output_type": "execute_result"
    }
   ],
   "source": [
    "guard = list(sleep_time_by_guard.keys())[np.argmax(totals)]\n",
    "guard"
   ]
  },
  {
   "cell_type": "code",
   "execution_count": 123,
   "id": "cd4a9beb-5280-4f16-87e3-d6f6134546b4",
   "metadata": {},
   "outputs": [
    {
     "data": {
      "text/plain": [
       "138280"
      ]
     },
     "execution_count": 123,
     "metadata": {},
     "output_type": "execute_result"
    }
   ],
   "source": [
    "int(guard[1:])*np.argmax(sleep_time_by_guard[guard])"
   ]
  },
  {
   "cell_type": "code",
   "execution_count": 140,
   "id": "2bf64070-40db-4670-83c7-64420788a5ef",
   "metadata": {},
   "outputs": [
    {
     "data": {
      "text/plain": [
       "287"
      ]
     },
     "execution_count": 140,
     "metadata": {},
     "output_type": "execute_result"
    }
   ],
   "source": [
    "i = np.argmax(list(sleep_time_by_guard.values()))\n",
    "i"
   ]
  },
  {
   "cell_type": "code",
   "execution_count": 142,
   "id": "9368c8dc-c871-42ee-b6fe-de3f6c0ae0dd",
   "metadata": {},
   "outputs": [
    {
     "data": {
      "text/plain": [
       "47"
      ]
     },
     "execution_count": 142,
     "metadata": {},
     "output_type": "execute_result"
    }
   ],
   "source": [
    "minute = i%60\n",
    "minute"
   ]
  },
  {
   "cell_type": "code",
   "execution_count": 145,
   "id": "ddf54807-0587-4e69-954c-78bef66f9fa8",
   "metadata": {},
   "outputs": [
    {
     "data": {
      "text/plain": [
       "89347"
      ]
     },
     "execution_count": 145,
     "metadata": {},
     "output_type": "execute_result"
    }
   ],
   "source": [
    "int(list(sleep_time_by_guard.keys())[i//60][1:])*minute"
   ]
  },
  {
   "cell_type": "code",
   "execution_count": null,
   "id": "964f346b-9d22-4b3d-a7c7-a8a07e61c86e",
   "metadata": {},
   "outputs": [],
   "source": []
  }
 ],
 "metadata": {
  "kernelspec": {
   "display_name": "Python 3 (ipykernel)",
   "language": "python",
   "name": "python3"
  },
  "language_info": {
   "codemirror_mode": {
    "name": "ipython",
    "version": 3
   },
   "file_extension": ".py",
   "mimetype": "text/x-python",
   "name": "python",
   "nbconvert_exporter": "python",
   "pygments_lexer": "ipython3",
   "version": "3.10.6"
  }
 },
 "nbformat": 4,
 "nbformat_minor": 5
}
