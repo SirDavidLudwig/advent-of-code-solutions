{
 "cells": [
  {
   "cell_type": "code",
   "execution_count": 1,
   "id": "d6268097-0f23-4ff2-b672-22cfa348df4f",
   "metadata": {},
   "outputs": [],
   "source": [
    "import sys\n",
    "sys.path.append(\"../../common\")\n",
    "from aoc import *\n",
    "\n",
    "\n",
    "import datetime\n",
    "from itertools import count, combinations\n",
    "import matplotlib.pyplot as plt\n",
    "import numpy as np\n",
    "import re\n",
    "import shapely\n",
    "from tqdm import tqdm\n",
    "from IPython.display import clear_output"
   ]
  },
  {
   "cell_type": "code",
   "execution_count": 272,
   "id": "1259acf4-e553-45fa-a2ba-874af1966e48",
   "metadata": {},
   "outputs": [],
   "source": [
    "with open(\"./puzzle_inputs/06.txt\") as f:\n",
    "    points = arr([tuple(map(int, line.split(', '))) for line in f])"
   ]
  },
  {
   "cell_type": "code",
   "execution_count": 273,
   "id": "fd6c8d2c-9db8-46ad-a176-26327c70d32e",
   "metadata": {},
   "outputs": [],
   "source": [
    "# points = np.array([\n",
    "#     [1, 1],\n",
    "#     [1, 6],\n",
    "#     [8, 3],\n",
    "#     [3, 4],\n",
    "#     [5, 5],\n",
    "#     [8, 9],\n",
    "# ])"
   ]
  },
  {
   "cell_type": "code",
   "execution_count": 274,
   "id": "0687c2dd-8d30-4087-a27d-e13b84c8fd86",
   "metadata": {},
   "outputs": [
    {
     "data": {
      "text/plain": [
       "50"
      ]
     },
     "execution_count": 274,
     "metadata": {},
     "output_type": "execute_result"
    }
   ],
   "source": [
    "len(points)"
   ]
  },
  {
   "cell_type": "code",
   "execution_count": 275,
   "id": "bbf0651b-600f-4156-8917-05e77884aff0",
   "metadata": {},
   "outputs": [
    {
     "data": {
      "text/plain": [
       "array([[461, 460, 459, ..., 150, 151, 152],\n",
       "       [460, 459, 458, ..., 149, 150, 151],\n",
       "       [459, 458, 457, ..., 148, 149, 150],\n",
       "       ...,\n",
       "       [560, 559, 558, ..., 249, 250, 251],\n",
       "       [561, 560, 559, ..., 250, 251, 252],\n",
       "       [562, 561, 560, ..., 251, 252, 253]])"
      ]
     },
     "execution_count": 275,
     "metadata": {},
     "output_type": "execute_result"
    }
   ],
   "source": [
    "point = points[1]\n",
    "grid = np.empty((np.max(points) + 1, np.max(points) + 1), dtype=int)\n",
    "x, y = np.meshgrid(np.arange(grid.shape[0]), np.arange(grid.shape[1]))\n",
    "others = np.vstack((y.flatten(), x.flatten())).T\n",
    "grid[y.flatten(),x.flatten()] = np.sum(np.abs(others - point), axis=1)\n",
    "grid"
   ]
  },
  {
   "cell_type": "code",
   "execution_count": 276,
   "id": "6cacdea6-f373-463b-a48f-f367c0982900",
   "metadata": {},
   "outputs": [],
   "source": [
    "distance_grids = []\n",
    "for i, point in enumerate(points):\n",
    "    grid = np.empty((np.max(points) + 1, np.max(points) + 1), dtype=int)\n",
    "    x, y = np.meshgrid(np.arange(grid.shape[0]), np.arange(grid.shape[1]))\n",
    "    others = np.vstack((y.flatten(), x.flatten())).T\n",
    "    grid[y.flatten(),x.flatten()] = np.sum(np.abs(others - point), axis=1)\n",
    "    distance_grids.append(grid)\n",
    "distance_grids = np.array(distance_grids)"
   ]
  },
  {
   "cell_type": "code",
   "execution_count": 277,
   "id": "a0977be6-a0d1-4152-b859-589697437a46",
   "metadata": {},
   "outputs": [
    {
     "data": {
      "text/plain": [
       "array([[164, 163, 162, ...,  82,  81,  80],\n",
       "       [163, 162, 161, ...,  81,  80,  79],\n",
       "       [162, 161, 160, ...,  80,  79,  78],\n",
       "       ...,\n",
       "       [ 79,  78,  77, ...,  65,  66,  67],\n",
       "       [ 80,  79,  78, ...,  66,  67,  68],\n",
       "       [ 81,  80,  79, ...,  67,  68,  69]])"
      ]
     },
     "execution_count": 277,
     "metadata": {},
     "output_type": "execute_result"
    }
   ],
   "source": [
    "smallest = np.min(distance_grids, axis=0)\n",
    "smallest"
   ]
  },
  {
   "cell_type": "code",
   "execution_count": 278,
   "id": "ed3f106f-a9e9-4b1a-9470-7f5323f6fe6f",
   "metadata": {},
   "outputs": [
    {
     "data": {
      "text/plain": [
       "array([[1, 1, 1, ..., 1, 1, 1],\n",
       "       [1, 1, 1, ..., 1, 1, 1],\n",
       "       [1, 1, 1, ..., 1, 1, 1],\n",
       "       ...,\n",
       "       [1, 1, 1, ..., 1, 1, 1],\n",
       "       [1, 1, 1, ..., 1, 1, 1],\n",
       "       [1, 1, 1, ..., 1, 1, 1]])"
      ]
     },
     "execution_count": 278,
     "metadata": {},
     "output_type": "execute_result"
    }
   ],
   "source": [
    "1 - (np.sum(distance_grids == smallest, axis=0) > 1).astype(int)"
   ]
  },
  {
   "cell_type": "code",
   "execution_count": 279,
   "id": "d3fc56ae-1a7f-48c0-8175-be628fbd1988",
   "metadata": {},
   "outputs": [
    {
     "data": {
      "text/plain": [
       "array([[1, 1, 1, ..., 1, 1, 1],\n",
       "       [1, 1, 1, ..., 1, 1, 1],\n",
       "       [1, 1, 1, ..., 1, 1, 1],\n",
       "       ...,\n",
       "       [1, 1, 1, ..., 1, 1, 1],\n",
       "       [1, 1, 1, ..., 1, 1, 1],\n",
       "       [1, 1, 1, ..., 1, 1, 1]])"
      ]
     },
     "execution_count": 279,
     "metadata": {},
     "output_type": "execute_result"
    }
   ],
   "source": [
    "mask = 1 - (np.sum(distance_grids == smallest, axis=0) > 1).astype(int)\n",
    "mask"
   ]
  },
  {
   "cell_type": "code",
   "execution_count": 280,
   "id": "dad031b1-5983-4008-b9b4-4df4dcd6cb86",
   "metadata": {},
   "outputs": [],
   "source": [
    "areas = (1 + np.argmin(distance_grids, axis=0)) * mask - 1"
   ]
  },
  {
   "cell_type": "code",
   "execution_count": 281,
   "id": "178bf20b-e581-4117-bb7a-2d0eef70f397",
   "metadata": {},
   "outputs": [
    {
     "data": {
      "text/plain": [
       "array([[42, 42, 42, ..., 23, 23, 23],\n",
       "       [42, 42, 42, ..., 23, 23, 23],\n",
       "       [42, 42, 42, ..., 23, 23, 23],\n",
       "       ...,\n",
       "       [12, 12, 12, ..., 44, 44, 44],\n",
       "       [12, 12, 12, ..., 44, 44, 44],\n",
       "       [12, 12, 12, ..., 44, 44, 44]])"
      ]
     },
     "execution_count": 281,
     "metadata": {},
     "output_type": "execute_result"
    }
   ],
   "source": [
    "np.argmin(distance_grids, axis=0)"
   ]
  },
  {
   "cell_type": "code",
   "execution_count": 282,
   "id": "63b41a1c-f4c5-4ff5-baf6-2cfc7896f395",
   "metadata": {},
   "outputs": [
    {
     "data": {
      "text/plain": [
       "array([[42, 42, 42, ..., 23, 23, 23],\n",
       "       [42, 42, 42, ..., 23, 23, 23],\n",
       "       [42, 42, 42, ..., 23, 23, 23],\n",
       "       ...,\n",
       "       [12, 12, 12, ..., 44, 44, 44],\n",
       "       [12, 12, 12, ..., 44, 44, 44],\n",
       "       [12, 12, 12, ..., 44, 44, 44]])"
      ]
     },
     "execution_count": 282,
     "metadata": {},
     "output_type": "execute_result"
    }
   ],
   "source": [
    "areas"
   ]
  },
  {
   "cell_type": "code",
   "execution_count": 284,
   "id": "d9ae8fc7-ae50-4cbe-8286-b85b4cc9f673",
   "metadata": {},
   "outputs": [],
   "source": [
    "valid_ids = set(range(len(points))) - set(areas[0]) - set(areas[-1]) - set(areas[:,0]) - set(areas[:,-1])\n",
    "# valid_ids"
   ]
  },
  {
   "cell_type": "code",
   "execution_count": 285,
   "id": "64ad6637-5fb0-4200-9af9-c0ebad0dce58",
   "metadata": {},
   "outputs": [
    {
     "data": {
      "text/plain": [
       "3604"
      ]
     },
     "execution_count": 285,
     "metadata": {},
     "output_type": "execute_result"
    }
   ],
   "source": [
    "_, counts = np.unique(areas, return_counts=True)\n",
    "np.max(counts[arr(list(valid_ids)) + 1])"
   ]
  },
  {
   "cell_type": "code",
   "execution_count": 286,
   "id": "47df6299-6b0e-4e52-a542-c485c3b0b9ba",
   "metadata": {},
   "outputs": [
    {
     "data": {
      "text/plain": [
       "46563"
      ]
     },
     "execution_count": 286,
     "metadata": {},
     "output_type": "execute_result"
    }
   ],
   "source": [
    "np.sum(distance_grids.sum(axis=0) < 10000)"
   ]
  },
  {
   "cell_type": "code",
   "execution_count": null,
   "id": "b86bdfe1-b39c-4a92-b97e-592fe349cf7f",
   "metadata": {},
   "outputs": [],
   "source": []
  }
 ],
 "metadata": {
  "kernelspec": {
   "display_name": "Python 3 (ipykernel)",
   "language": "python",
   "name": "python3"
  },
  "language_info": {
   "codemirror_mode": {
    "name": "ipython",
    "version": 3
   },
   "file_extension": ".py",
   "mimetype": "text/x-python",
   "name": "python",
   "nbconvert_exporter": "python",
   "pygments_lexer": "ipython3",
   "version": "3.10.6"
  }
 },
 "nbformat": 4,
 "nbformat_minor": 5
}
