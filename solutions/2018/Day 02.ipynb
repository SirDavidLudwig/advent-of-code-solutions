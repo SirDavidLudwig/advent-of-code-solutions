{
 "cells": [
  {
   "cell_type": "code",
   "execution_count": 16,
   "id": "5551082c-449f-47d8-ab77-753b7aa2ef9a",
   "metadata": {},
   "outputs": [],
   "source": [
    "import sys\n",
    "sys.path.append(\"../../common\")\n",
    "\n",
    "from itertools import count\n",
    "import matplotlib.pyplot as plt\n",
    "import numpy as np\n",
    "import re\n",
    "from tqdm import tqdm\n",
    "from IPython.display import clear_output\n"
   ]
  },
  {
   "cell_type": "code",
   "execution_count": 17,
   "id": "f7c195cf-72d6-4d67-9e90-8076d7a733cb",
   "metadata": {},
   "outputs": [],
   "source": [
    "with open(\"./puzzle_inputs/02.txt\") as f:\n",
    "    lines = [l.strip() for l in f]"
   ]
  },
  {
   "cell_type": "code",
   "execution_count": 18,
   "id": "fcbd2740-ac81-424c-8c14-85939573a8f1",
   "metadata": {},
   "outputs": [
    {
     "data": {
      "text/plain": [
       "5704"
      ]
     },
     "execution_count": 18,
     "metadata": {},
     "output_type": "execute_result"
    }
   ],
   "source": [
    "two = 0\n",
    "three = 0\n",
    "for line in lines:\n",
    "    counts = {}\n",
    "    for c in line:\n",
    "        if c not in counts:\n",
    "            counts[c] = 0\n",
    "        counts[c] += 1\n",
    "    two_counted = False\n",
    "    three_counted = False\n",
    "    for c in counts.values():\n",
    "        if c == 2 and not two_counted:\n",
    "            two += 1\n",
    "            two_counted = True\n",
    "        elif c == 3 and not three_counted:\n",
    "            three += 1\n",
    "            three_counted = True\n",
    "two*three"
   ]
  },
  {
   "cell_type": "code",
   "execution_count": 22,
   "id": "a1dbc15d-8273-4dcd-95d7-98aa1440dcd9",
   "metadata": {},
   "outputs": [
    {
     "name": "stdout",
     "output_type": "stream",
     "text": [
      "umdryabviapkozistwcnihjqx"
     ]
    }
   ],
   "source": [
    "for i in range(len(lines) - 1):\n",
    "    for j in range(i, len(lines)):\n",
    "        d = 0\n",
    "        for a, b in zip(lines[i], lines[j]):\n",
    "            d += a != b\n",
    "            if d > 1:\n",
    "                break\n",
    "        if d == 1:\n",
    "            for a, b in zip(lines[i], lines[j]):\n",
    "                if a == b:\n",
    "                    print(a, end=\"\")"
   ]
  },
  {
   "cell_type": "code",
   "execution_count": null,
   "id": "26ba1c30-f623-4b42-9e86-50e3bdd3d954",
   "metadata": {},
   "outputs": [],
   "source": []
  }
 ],
 "metadata": {
  "kernelspec": {
   "display_name": "Python 3 (ipykernel)",
   "language": "python",
   "name": "python3"
  },
  "language_info": {
   "codemirror_mode": {
    "name": "ipython",
    "version": 3
   },
   "file_extension": ".py",
   "mimetype": "text/x-python",
   "name": "python",
   "nbconvert_exporter": "python",
   "pygments_lexer": "ipython3",
   "version": "3.10.6"
  }
 },
 "nbformat": 4,
 "nbformat_minor": 5
}
