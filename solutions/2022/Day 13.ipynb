{
 "cells": [
  {
   "cell_type": "markdown",
   "id": "a48157dc-1690-439f-94ea-41ce6c2b5daa",
   "metadata": {},
   "source": [
    "<div style=\"background-color: rgb(15, 15, 35); border: 1px solid rgb(255, 255, 255); color: rgb(204, 204, 204); font-family: monospace; margin-left: -5px; margin-right: -20px; padding: 1rem;\"><h2 style=\"border-color: rgb(255, 255, 255); color: rgb(255, 255, 255);\">--- Day 13: Distress Signal ---</h2><p style=\"border-color: rgb(204, 204, 204); color: rgb(204, 204, 204);\">You climb the hill and again try contacting the Elves. However, you instead receive a signal you weren't expecting: a <em style=\"border-color: rgb(255, 255, 255); color: rgb(255, 255, 255); text-shadow: rgb(255, 255, 255) 0px 0px 5px;\">distress signal</em>.</p>\n",
    "<p style=\"border-color: rgb(204, 204, 204); color: rgb(204, 204, 204);\">Your handheld device must still not be working properly; the packets from the distress signal got decoded <em style=\"border-color: rgb(255, 255, 255); color: rgb(255, 255, 255); text-shadow: rgb(255, 255, 255) 0px 0px 5px;\">out of order</em>. You'll need to re-order the list of received packets (your puzzle input) to decode the message.</p>\n",
    "<p style=\"border-color: rgb(204, 204, 204); color: rgb(204, 204, 204);\">Your list consists of pairs of packets; pairs are separated by a blank line. You need to identify <em style=\"border-color: rgb(255, 255, 255); color: rgb(255, 255, 255); text-shadow: rgb(255, 255, 255) 0px 0px 5px;\">how many pairs of packets are in the right order</em>.</p>\n",
    "<p style=\"border-color: rgb(204, 204, 204); color: rgb(204, 204, 204);\">For example:</p>\n",
    "<pre style=\"border: 1px solid rgb(51, 51, 64); color: rgb(204, 204, 204); background-color: rgb(16, 16, 26); display: inline-block;\"><code style=\"border-color: rgb(204, 204, 204); color: rgb(204, 204, 204); background-color: rgb(16, 16, 26);\">[1,1,3,1,1]\n",
    "[1,1,5,1,1]\n",
    "\n",
    "[[1],[2,3,4]]\n",
    "[[1],4]\n",
    "\n",
    "[9]\n",
    "[[8,7,6]]\n",
    "\n",
    "[[4,4],4,4]\n",
    "[[4,4],4,4,4]\n",
    "\n",
    "[7,7,7,7]\n",
    "[7,7,7]\n",
    "\n",
    "[]\n",
    "[3]\n",
    "\n",
    "[[[]]]\n",
    "[[]]\n",
    "\n",
    "[1,[2,[3,[4,[5,6,7]]]],8,9]\n",
    "[1,[2,[3,[4,[5,6,0]]]],8,9]\n",
    "</code></pre>\n",
    "<p style=\"border-color: rgb(204, 204, 204); color: rgb(204, 204, 204);\"><span title=\"The snailfish called. They want their distress signal back.\" style=\"border-color: rgb(204, 204, 204); color: rgb(204, 204, 204);\">Packet data consists of lists and integers.</span> Each list starts with <code style=\"border: 1px solid rgb(51, 51, 64); color: rgb(204, 204, 204); background: rgb(16, 16, 26);\">[</code>, ends with <code style=\"border: 1px solid rgb(51, 51, 64); color: rgb(204, 204, 204); background: rgb(16, 16, 26);\">]</code>, and contains zero or more comma-separated values (either integers or other lists). Each packet is always a list and appears on its own line.</p>\n",
    "<p style=\"border-color: rgb(204, 204, 204); color: rgb(204, 204, 204);\">When comparing two values, the first value is called <em style=\"border-color: rgb(255, 255, 255); color: rgb(255, 255, 255); text-shadow: rgb(255, 255, 255) 0px 0px 5px;\">left</em> and the second value is called <em style=\"border-color: rgb(255, 255, 255); color: rgb(255, 255, 255); text-shadow: rgb(255, 255, 255) 0px 0px 5px;\">right</em>. Then:</p>\n",
    "<ul style=\"border-color: rgb(204, 204, 204); color: rgb(204, 204, 204);\">\n",
    "<li style=\"border-color: rgb(204, 204, 204); color: rgb(204, 204, 204);\">If <em style=\"border-color: rgb(255, 255, 255); color: rgb(255, 255, 255); text-shadow: rgb(255, 255, 255) 0px 0px 5px;\">both values are integers</em>, the <em style=\"border-color: rgb(255, 255, 255); color: rgb(255, 255, 255); text-shadow: rgb(255, 255, 255) 0px 0px 5px;\">lower integer</em> should come first. If the left integer is lower than the right integer, the inputs are in the right order. If the left integer is higher than the right integer, the inputs are not in the right order. Otherwise, the inputs are the same integer; continue checking the next part of the input.</li>\n",
    "<li style=\"border-color: rgb(204, 204, 204); color: rgb(204, 204, 204);\">If <em style=\"border-color: rgb(255, 255, 255); color: rgb(255, 255, 255); text-shadow: rgb(255, 255, 255) 0px 0px 5px;\">both values are lists</em>, compare the first value of each list, then the second value, and so on. If the left list runs out of items first, the inputs are in the right order. If the right list runs out of items first, the inputs are not in the right order. If the lists are the same length and no comparison makes a decision about the order, continue checking the next part of the input.</li>\n",
    "<li style=\"border-color: rgb(204, 204, 204); color: rgb(204, 204, 204);\">If <em style=\"border-color: rgb(255, 255, 255); color: rgb(255, 255, 255); text-shadow: rgb(255, 255, 255) 0px 0px 5px;\">exactly one value is an integer</em>, convert the integer to a list which contains that integer as its only value, then retry the comparison. For example, if comparing <code style=\"border: 1px solid rgb(51, 51, 64); color: rgb(204, 204, 204); background: rgb(16, 16, 26);\">[0,0,0]</code> and <code style=\"border: 1px solid rgb(51, 51, 64); color: rgb(204, 204, 204); background: rgb(16, 16, 26);\">2</code>, convert the right value to <code style=\"border: 1px solid rgb(51, 51, 64); color: rgb(204, 204, 204); background: rgb(16, 16, 26);\">[2]</code> (a list containing <code style=\"border: 1px solid rgb(51, 51, 64); color: rgb(204, 204, 204); background: rgb(16, 16, 26);\">2</code>); the result is then found by instead comparing <code style=\"border: 1px solid rgb(51, 51, 64); color: rgb(204, 204, 204); background: rgb(16, 16, 26);\">[0,0,0]</code> and <code style=\"border: 1px solid rgb(51, 51, 64); color: rgb(204, 204, 204); background: rgb(16, 16, 26);\">[2]</code>.</li>\n",
    "</ul>\n",
    "<p style=\"border-color: rgb(204, 204, 204); color: rgb(204, 204, 204);\">Using these rules, you can determine which of the pairs in the example are in the right order:</p>\n",
    "<pre style=\"border: 1px solid rgb(51, 51, 64); color: rgb(204, 204, 204); background-color: rgb(16, 16, 26); display: inline-block;\"><code style=\"border-color: rgb(204, 204, 204); color: rgb(204, 204, 204); background-color: rgb(16, 16, 26);\">== Pair 1 ==\n",
    "- Compare [1,1,3,1,1] vs [1,1,5,1,1]\n",
    "  - Compare 1 vs 1\n",
    "  - Compare 1 vs 1\n",
    "  - Compare 3 vs 5\n",
    "    - Left side is smaller, so inputs are <em style=\"border-color: rgb(255, 255, 255); color: rgb(255, 255, 255); text-shadow: rgb(255, 255, 255) 0px 0px 5px;\">in the right order</em>\n",
    "\n",
    "== Pair 2 ==\n",
    "- Compare [[1],[2,3,4]] vs [[1],4]\n",
    "  - Compare [1] vs [1]\n",
    "    - Compare 1 vs 1\n",
    "  - Compare [2,3,4] vs 4\n",
    "    - Mixed types; convert right to [4] and retry comparison\n",
    "    - Compare [2,3,4] vs [4]\n",
    "      - Compare 2 vs 4\n",
    "        - Left side is smaller, so inputs are <em style=\"border-color: rgb(255, 255, 255); color: rgb(255, 255, 255); text-shadow: rgb(255, 255, 255) 0px 0px 5px;\">in the right order</em>\n",
    "\n",
    "== Pair 3 ==\n",
    "- Compare [9] vs [[8,7,6]]\n",
    "  - Compare 9 vs [8,7,6]\n",
    "    - Mixed types; convert left to [9] and retry comparison\n",
    "    - Compare [9] vs [8,7,6]\n",
    "      - Compare 9 vs 8\n",
    "        - Right side is smaller, so inputs are <em style=\"border-color: rgb(255, 255, 255); color: rgb(255, 255, 255); text-shadow: rgb(255, 255, 255) 0px 0px 5px;\">not</em> in the right order\n",
    "\n",
    "== Pair 4 ==\n",
    "- Compare [[4,4],4,4] vs [[4,4],4,4,4]\n",
    "  - Compare [4,4] vs [4,4]\n",
    "    - Compare 4 vs 4\n",
    "    - Compare 4 vs 4\n",
    "  - Compare 4 vs 4\n",
    "  - Compare 4 vs 4\n",
    "  - Left side ran out of items, so inputs are <em style=\"border-color: rgb(255, 255, 255); color: rgb(255, 255, 255); text-shadow: rgb(255, 255, 255) 0px 0px 5px;\">in the right order</em>\n",
    "\n",
    "== Pair 5 ==\n",
    "- Compare [7,7,7,7] vs [7,7,7]\n",
    "  - Compare 7 vs 7\n",
    "  - Compare 7 vs 7\n",
    "  - Compare 7 vs 7\n",
    "  - Right side ran out of items, so inputs are <em style=\"border-color: rgb(255, 255, 255); color: rgb(255, 255, 255); text-shadow: rgb(255, 255, 255) 0px 0px 5px;\">not</em> in the right order\n",
    "\n",
    "== Pair 6 ==\n",
    "- Compare [] vs [3]\n",
    "  - Left side ran out of items, so inputs are <em style=\"border-color: rgb(255, 255, 255); color: rgb(255, 255, 255); text-shadow: rgb(255, 255, 255) 0px 0px 5px;\">in the right order</em>\n",
    "\n",
    "== Pair 7 ==\n",
    "- Compare [[[]]] vs [[]]\n",
    "  - Compare [[]] vs []\n",
    "    - Right side ran out of items, so inputs are <em style=\"border-color: rgb(255, 255, 255); color: rgb(255, 255, 255); text-shadow: rgb(255, 255, 255) 0px 0px 5px;\">not</em> in the right order\n",
    "\n",
    "== Pair 8 ==\n",
    "- Compare [1,[2,[3,[4,[5,6,7]]]],8,9] vs [1,[2,[3,[4,[5,6,0]]]],8,9]\n",
    "  - Compare 1 vs 1\n",
    "  - Compare [2,[3,[4,[5,6,7]]]] vs [2,[3,[4,[5,6,0]]]]\n",
    "    - Compare 2 vs 2\n",
    "    - Compare [3,[4,[5,6,7]]] vs [3,[4,[5,6,0]]]\n",
    "      - Compare 3 vs 3\n",
    "      - Compare [4,[5,6,7]] vs [4,[5,6,0]]\n",
    "        - Compare 4 vs 4\n",
    "        - Compare [5,6,7] vs [5,6,0]\n",
    "          - Compare 5 vs 5\n",
    "          - Compare 6 vs 6\n",
    "          - Compare 7 vs 0\n",
    "            - Right side is smaller, so inputs are <em style=\"border-color: rgb(255, 255, 255); color: rgb(255, 255, 255); text-shadow: rgb(255, 255, 255) 0px 0px 5px;\">not</em> in the right order\n",
    "</code></pre>\n",
    "<p style=\"border-color: rgb(204, 204, 204); color: rgb(204, 204, 204);\">What are the indices of the pairs that are already <em style=\"border-color: rgb(255, 255, 255); color: rgb(255, 255, 255); text-shadow: rgb(255, 255, 255) 0px 0px 5px;\">in the right order</em>? (The first pair has index 1, the second pair has index 2, and so on.) In the above example, the pairs in the right order are 1, 2, 4, and 6; the sum of these indices is <code style=\"border: 1px solid rgb(51, 51, 64); color: rgb(204, 204, 204); background: rgb(16, 16, 26);\"><em style=\"border-color: rgb(255, 255, 255); color: rgb(255, 255, 255); text-shadow: rgb(255, 255, 255) 0px 0px 5px;\">13</em></code>.</p>\n",
    "<p style=\"border-color: rgb(204, 204, 204); color: rgb(204, 204, 204);\">Determine which pairs of packets are already in the right order. <em style=\"border-color: rgb(255, 255, 255); color: rgb(255, 255, 255); text-shadow: rgb(255, 255, 255) 0px 0px 5px;\">What is the sum of the indices of those pairs?</em></p>\n",
    "</div>"
   ]
  },
  {
   "cell_type": "code",
   "execution_count": 1,
   "id": "f86b4469",
   "metadata": {},
   "outputs": [],
   "source": [
    "import sys\n",
    "sys.path.append(\"../../common\")"
   ]
  },
  {
   "cell_type": "code",
   "execution_count": 2,
   "id": "2d7d5090",
   "metadata": {},
   "outputs": [],
   "source": [
    "from aoc import *\n",
    "import numpy as np\n",
    "import re"
   ]
  },
  {
   "cell_type": "code",
   "execution_count": 3,
   "id": "890560e4",
   "metadata": {},
   "outputs": [],
   "source": [
    "with open(\"./puzzle_inputs/13.txt\") as f:\n",
    "    groups = read_groups(f.read(), map_fn=eval)"
   ]
  },
  {
   "cell_type": "code",
   "execution_count": 4,
   "id": "d68a022c-59fb-4db3-9449-1de0533feb10",
   "metadata": {},
   "outputs": [],
   "source": [
    "def compare(a, b, depth=0):\n",
    "    indent = \"  \"*depth\n",
    "    if type(a) == int and type(b) == int:\n",
    "        if a < b:\n",
    "            return 1\n",
    "        elif b < a:\n",
    "            return -1\n",
    "        return 0\n",
    "    if type(a) == int and type(b) == list:\n",
    "        return compare([a], b, depth+1)\n",
    "    if type(a) == list and type(b) == int:\n",
    "        return compare(a, [b], depth+1)\n",
    "    for i in range(min(len(a), len(b))):\n",
    "        if 0 != (c := compare(a[i], b[i], depth+1)):\n",
    "            return c\n",
    "    return compare(len(a), len(b))"
   ]
  },
  {
   "cell_type": "code",
   "execution_count": 5,
   "id": "f0dc6ff8-f9e3-452f-801a-d2d510cac5cd",
   "metadata": {},
   "outputs": [
    {
     "data": {
      "text/plain": [
       "5675"
      ]
     },
     "execution_count": 5,
     "metadata": {},
     "output_type": "execute_result"
    }
   ],
   "source": [
    "in_order = []\n",
    "for i, (a, b) in enumerate(groups, start=1):\n",
    "    if compare(a, b) != -1:\n",
    "        in_order.append(i)\n",
    "sum(in_order)"
   ]
  },
  {
   "cell_type": "markdown",
   "id": "314c217a-62a7-431b-97ff-492a75095fb5",
   "metadata": {},
   "source": [
    "<div style=\"background-color: rgb(15, 15, 35); border: 1px solid rgb(255, 255, 255); color: rgb(204, 204, 204); font-family: monospace; margin-left: -5px; margin-right: -20px; padding: 1rem;\"><h2 id=\"part2\" style=\"border-color: rgb(255, 255, 255); color: rgb(255, 255, 255);\">--- Part Two ---</h2><p style=\"border-color: rgb(204, 204, 204); color: rgb(204, 204, 204);\">Now, you just need to put <em style=\"border-color: rgb(255, 255, 255); color: rgb(255, 255, 255); text-shadow: rgb(255, 255, 255) 0px 0px 5px;\">all</em> of the packets in the right order. Disregard the blank lines in your list of received packets.</p>\n",
    "<p style=\"border-color: rgb(204, 204, 204); color: rgb(204, 204, 204);\">The distress signal protocol also requires that you include two additional <em style=\"border-color: rgb(255, 255, 255); color: rgb(255, 255, 255); text-shadow: rgb(255, 255, 255) 0px 0px 5px;\">divider packets</em>:</p>\n",
    "<pre style=\"border: 1px solid rgb(51, 51, 64); color: rgb(204, 204, 204); background-color: rgb(16, 16, 26); display: inline-block;\"><code style=\"border-color: rgb(204, 204, 204); color: rgb(204, 204, 204); background-color: rgb(16, 16, 26);\">[[2]]\n",
    "[[6]]\n",
    "</code></pre>\n",
    "<p style=\"border-color: rgb(204, 204, 204); color: rgb(204, 204, 204);\">Using the same rules as before, organize all packets - the ones in your list of received packets as well as the two divider packets - into the correct order.</p>\n",
    "<p style=\"border-color: rgb(204, 204, 204); color: rgb(204, 204, 204);\">For the example above, the result of putting the packets in the correct order is:</p>\n",
    "<pre style=\"border: 1px solid rgb(51, 51, 64); color: rgb(204, 204, 204); background-color: rgb(16, 16, 26); display: inline-block;\"><code style=\"border-color: rgb(204, 204, 204); color: rgb(204, 204, 204); background-color: rgb(16, 16, 26);\">[]\n",
    "[[]]\n",
    "[[[]]]\n",
    "[1,1,3,1,1]\n",
    "[1,1,5,1,1]\n",
    "[[1],[2,3,4]]\n",
    "[1,[2,[3,[4,[5,6,0]]]],8,9]\n",
    "[1,[2,[3,[4,[5,6,7]]]],8,9]\n",
    "[[1],4]\n",
    "<em style=\"border-color: rgb(255, 255, 255); color: rgb(255, 255, 255); text-shadow: rgb(255, 255, 255) 0px 0px 5px;\">[[2]]</em>\n",
    "[3]\n",
    "[[4,4],4,4]\n",
    "[[4,4],4,4,4]\n",
    "<em style=\"border-color: rgb(255, 255, 255); color: rgb(255, 255, 255); text-shadow: rgb(255, 255, 255) 0px 0px 5px;\">[[6]]</em>\n",
    "[7,7,7]\n",
    "[7,7,7,7]\n",
    "[[8,7,6]]\n",
    "[9]\n",
    "</code></pre>\n",
    "<p style=\"border-color: rgb(204, 204, 204); color: rgb(204, 204, 204);\">Afterward, locate the divider packets. To find the <em style=\"border-color: rgb(255, 255, 255); color: rgb(255, 255, 255); text-shadow: rgb(255, 255, 255) 0px 0px 5px;\">decoder key</em> for this distress signal, you need to determine the indices of the two divider packets and multiply them together. (The first packet is at index 1, the second packet is at index 2, and so on.) In this example, the divider packets are <em style=\"border-color: rgb(255, 255, 255); color: rgb(255, 255, 255); text-shadow: rgb(255, 255, 255) 0px 0px 5px;\">10th</em> and <em style=\"border-color: rgb(255, 255, 255); color: rgb(255, 255, 255); text-shadow: rgb(255, 255, 255) 0px 0px 5px;\">14th</em>, and so the decoder key is <code style=\"border: 1px solid rgb(51, 51, 64); color: rgb(204, 204, 204); background: rgb(16, 16, 26);\"><em style=\"border-color: rgb(255, 255, 255); color: rgb(255, 255, 255); text-shadow: rgb(255, 255, 255) 0px 0px 5px;\">140</em></code>.</p>\n",
    "<p style=\"border-color: rgb(204, 204, 204); color: rgb(204, 204, 204);\">Organize all of the packets into the correct order. <em style=\"border-color: rgb(255, 255, 255); color: rgb(255, 255, 255); text-shadow: rgb(255, 255, 255) 0px 0px 5px;\">What is the decoder key for the distress signal?</em></p>\n",
    "</div>"
   ]
  },
  {
   "cell_type": "code",
   "execution_count": 6,
   "id": "7a66251b-6781-4d2a-beac-d14fc814f91c",
   "metadata": {},
   "outputs": [],
   "source": [
    "divider_packets = [\n",
    "    [[2]],\n",
    "    [[6]]\n",
    "]"
   ]
  },
  {
   "cell_type": "code",
   "execution_count": 7,
   "id": "169e2b25-e45f-4581-b78c-96bb76ede30a",
   "metadata": {},
   "outputs": [
    {
     "data": {
      "text/plain": [
       "20383"
      ]
     },
     "execution_count": 7,
     "metadata": {},
     "output_type": "execute_result"
    }
   ],
   "source": [
    "sorted_packets = []\n",
    "for packet in merge_groups(groups) + divider_packets:\n",
    "    i = 0\n",
    "    while i < len(sorted_packets):\n",
    "        if compare(packet, sorted_packets[i]) != -1:\n",
    "            break\n",
    "        i += 1\n",
    "    sorted_packets.insert(i, packet)\n",
    "np.product([1 + sorted_packets.index(packet) for packet in divider_packets])"
   ]
  }
 ],
 "metadata": {
  "kernelspec": {
   "display_name": "Python 3 (ipykernel)",
   "language": "python",
   "name": "python3"
  },
  "language_info": {
   "codemirror_mode": {
    "name": "ipython",
    "version": 3
   },
   "file_extension": ".py",
   "mimetype": "text/x-python",
   "name": "python",
   "nbconvert_exporter": "python",
   "pygments_lexer": "ipython3",
   "version": "3.10.8"
  }
 },
 "nbformat": 4,
 "nbformat_minor": 5
}
