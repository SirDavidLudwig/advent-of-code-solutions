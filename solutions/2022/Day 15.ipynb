{
 "cells": [
  {
   "cell_type": "markdown",
   "id": "dfcb04b1-8eee-41b9-a758-9ff377e58a6b",
   "metadata": {},
   "source": [
    "<div style=\"background-color: rgb(15, 15, 35); border: 1px solid rgb(255, 255, 255); color: rgb(204, 204, 204); font-family: monospace; margin-left: -5px; margin-right: -20px; padding: 1rem;\"><h2 style=\"border-color: rgb(255, 255, 255); color: rgb(255, 255, 255);\">--- Day 15: Beacon Exclusion Zone ---</h2><p style=\"border-color: rgb(204, 204, 204); color: rgb(204, 204, 204);\">You feel the ground rumble again as the distress signal leads you to a large network of subterranean tunnels. You don't have time to search them all, but you don't need to: your pack contains a set of deployable <em style=\"border-color: rgb(255, 255, 255); color: rgb(255, 255, 255); text-shadow: rgb(255, 255, 255) 0px 0px 5px;\">sensors</em> that you imagine were originally built to locate lost Elves.</p>\n",
    "<p style=\"border-color: rgb(204, 204, 204); color: rgb(204, 204, 204);\">The sensors aren't very powerful, but that's okay; your handheld device indicates that you're close enough to the source of the distress signal to use them. You pull the emergency sensor system out of your pack, hit the big button on top, and the sensors zoom off down the tunnels.</p>\n",
    "<p style=\"border-color: rgb(204, 204, 204); color: rgb(204, 204, 204);\">Once a sensor finds a spot it thinks will give it a good reading, it attaches itself to a hard surface and begins monitoring for the nearest signal source <em style=\"border-color: rgb(255, 255, 255); color: rgb(255, 255, 255); text-shadow: rgb(255, 255, 255) 0px 0px 5px;\">beacon</em>. Sensors and beacons always exist at integer coordinates. Each sensor knows its own position and can <em style=\"border-color: rgb(255, 255, 255); color: rgb(255, 255, 255); text-shadow: rgb(255, 255, 255) 0px 0px 5px;\">determine the position of a beacon precisely</em>; however, sensors can only lock on to the one beacon <em style=\"border-color: rgb(255, 255, 255); color: rgb(255, 255, 255); text-shadow: rgb(255, 255, 255) 0px 0px 5px;\">closest to the sensor</em> as measured by the <a href=\"https://en.wikipedia.org/wiki/Taxicab_geometry\" target=\"_blank\" style=\"border-color: rgb(0, 153, 0); color: rgb(0, 153, 0);\">Manhattan distance</a>. (There is never a tie where two beacons are the same distance to a sensor.)</p>\n",
    "<p style=\"border-color: rgb(204, 204, 204); color: rgb(204, 204, 204);\">It doesn't take long for the sensors to report back their positions and closest beacons (your puzzle input). For example:</p>\n",
    "<pre style=\"border: 1px solid rgb(51, 51, 64); color: rgb(204, 204, 204); background-color: rgb(16, 16, 26); display: inline-block;\"><code style=\"border-color: rgb(204, 204, 204); color: rgb(204, 204, 204); background-color: rgb(16, 16, 26);\">Sensor at x=2, y=18: closest beacon is at x=-2, y=15\n",
    "Sensor at x=9, y=16: closest beacon is at x=10, y=16\n",
    "Sensor at x=13, y=2: closest beacon is at x=15, y=3\n",
    "Sensor at x=12, y=14: closest beacon is at x=10, y=16\n",
    "Sensor at x=10, y=20: closest beacon is at x=10, y=16\n",
    "Sensor at x=14, y=17: closest beacon is at x=10, y=16\n",
    "Sensor at x=8, y=7: closest beacon is at x=2, y=10\n",
    "Sensor at x=2, y=0: closest beacon is at x=2, y=10\n",
    "Sensor at x=0, y=11: closest beacon is at x=2, y=10\n",
    "Sensor at x=20, y=14: closest beacon is at x=25, y=17\n",
    "Sensor at x=17, y=20: closest beacon is at x=21, y=22\n",
    "Sensor at x=16, y=7: closest beacon is at x=15, y=3\n",
    "Sensor at x=14, y=3: closest beacon is at x=15, y=3\n",
    "Sensor at x=20, y=1: closest beacon is at x=15, y=3\n",
    "</code></pre>\n",
    "<p style=\"border-color: rgb(204, 204, 204); color: rgb(204, 204, 204);\">So, consider the sensor at <code style=\"border: 1px solid rgb(51, 51, 64); color: rgb(204, 204, 204); background: rgb(16, 16, 26);\">2,18</code>; the closest beacon to it is at <code style=\"border: 1px solid rgb(51, 51, 64); color: rgb(204, 204, 204); background: rgb(16, 16, 26);\">-2,15</code>. For the sensor at <code style=\"border: 1px solid rgb(51, 51, 64); color: rgb(204, 204, 204); background: rgb(16, 16, 26);\">9,16</code>, the closest beacon to it is at <code style=\"border: 1px solid rgb(51, 51, 64); color: rgb(204, 204, 204); background: rgb(16, 16, 26);\">10,16</code>.</p>\n",
    "<p style=\"border-color: rgb(204, 204, 204); color: rgb(204, 204, 204);\">Drawing sensors as <code style=\"border: 1px solid rgb(51, 51, 64); color: rgb(204, 204, 204); background: rgb(16, 16, 26);\">S</code> and beacons as <code style=\"border: 1px solid rgb(51, 51, 64); color: rgb(204, 204, 204); background: rgb(16, 16, 26);\">B</code>, the above arrangement of sensors and beacons looks like this:</p>\n",
    "<pre style=\"border: 1px solid rgb(51, 51, 64); color: rgb(204, 204, 204); background-color: rgb(16, 16, 26); display: inline-block;\"><code style=\"border-color: rgb(204, 204, 204); color: rgb(204, 204, 204); background-color: rgb(16, 16, 26);\">               1    1    2    2\n",
    "     0    5    0    5    0    5\n",
    " 0 ....S.......................\n",
    " 1 ......................S.....\n",
    " 2 ...............S............\n",
    " 3 ................SB..........\n",
    " 4 ............................\n",
    " 5 ............................\n",
    " 6 ............................\n",
    " 7 ..........S.......S.........\n",
    " 8 ............................\n",
    " 9 ............................\n",
    "10 ....B.......................\n",
    "11 ..S.........................\n",
    "12 ............................\n",
    "13 ............................\n",
    "14 ..............S.......S.....\n",
    "15 B...........................\n",
    "16 ...........SB...............\n",
    "17 ................S..........B\n",
    "18 ....S.......................\n",
    "19 ............................\n",
    "20 ............S......S........\n",
    "21 ............................\n",
    "22 .......................B....\n",
    "</code></pre>\n",
    "<p style=\"border-color: rgb(204, 204, 204); color: rgb(204, 204, 204);\">This isn't necessarily a comprehensive map of all beacons in the area, though. Because each sensor only identifies its closest beacon, if a sensor detects a beacon, you know there are no other beacons that close or closer to that sensor. There could still be beacons that just happen to not be the closest beacon to any sensor. Consider the sensor at <code style=\"border: 1px solid rgb(51, 51, 64); color: rgb(204, 204, 204); background: rgb(16, 16, 26);\">8,7</code>:</p>\n",
    "<pre style=\"border: 1px solid rgb(51, 51, 64); color: rgb(204, 204, 204); background-color: rgb(16, 16, 26); display: inline-block;\"><code style=\"border-color: rgb(204, 204, 204); color: rgb(204, 204, 204); background-color: rgb(16, 16, 26);\">               1    1    2    2\n",
    "     0    5    0    5    0    5\n",
    "-2 ..........#.................\n",
    "-1 .........###................\n",
    " 0 ....S...#####...............\n",
    " 1 .......#######........S.....\n",
    " 2 ......#########S............\n",
    " 3 .....###########SB..........\n",
    " 4 ....#############...........\n",
    " 5 ...###############..........\n",
    " 6 ..#################.........\n",
    " 7 .#########<em style=\"border-color: rgb(255, 255, 255); color: rgb(255, 255, 255); text-shadow: rgb(255, 255, 255) 0px 0px 5px;\">S</em>#######S#........\n",
    " 8 ..#################.........\n",
    " 9 ...###############..........\n",
    "10 ....<em style=\"border-color: rgb(255, 255, 255); color: rgb(255, 255, 255); text-shadow: rgb(255, 255, 255) 0px 0px 5px;\">B</em>############...........\n",
    "11 ..S..###########............\n",
    "12 ......#########.............\n",
    "13 .......#######..............\n",
    "14 ........#####.S.......S.....\n",
    "15 B........###................\n",
    "16 ..........#SB...............\n",
    "17 ................S..........B\n",
    "18 ....S.......................\n",
    "19 ............................\n",
    "20 ............S......S........\n",
    "21 ............................\n",
    "22 .......................B....\n",
    "</code></pre>\n",
    "<p style=\"border-color: rgb(204, 204, 204); color: rgb(204, 204, 204);\">This sensor's closest beacon is at <code style=\"border: 1px solid rgb(51, 51, 64); color: rgb(204, 204, 204); background: rgb(16, 16, 26);\">2,10</code>, and so you know there are no beacons that close or closer (in any positions marked <code style=\"border: 1px solid rgb(51, 51, 64); color: rgb(204, 204, 204); background: rgb(16, 16, 26);\">#</code>).</p>\n",
    "<p style=\"border-color: rgb(204, 204, 204); color: rgb(204, 204, 204);\">None of the detected beacons seem to be producing the distress signal, so you'll need to <span title=\"&quot;When you have eliminated all which is impossible, then whatever remains, however improbable, must be where the missing beacon is.&quot; - Sherlock Holmes\" style=\"border-color: rgb(204, 204, 204); color: rgb(204, 204, 204);\">work out</span> where the distress beacon is by working out where it <em style=\"border-color: rgb(255, 255, 255); color: rgb(255, 255, 255); text-shadow: rgb(255, 255, 255) 0px 0px 5px;\">isn't</em>. For now, keep things simple by counting the positions where a beacon cannot possibly be along just a single row.</p>\n",
    "<p style=\"border-color: rgb(204, 204, 204); color: rgb(204, 204, 204);\">So, suppose you have an arrangement of beacons and sensors like in the example above and, just in the row where <code style=\"border: 1px solid rgb(51, 51, 64); color: rgb(204, 204, 204); background: rgb(16, 16, 26);\">y=10</code>, you'd like to count the number of positions a beacon cannot possibly exist. The coverage from all sensors near that row looks like this:</p>\n",
    "<pre style=\"border: 1px solid rgb(51, 51, 64); color: rgb(204, 204, 204); background-color: rgb(16, 16, 26); display: inline-block;\"><code style=\"border-color: rgb(204, 204, 204); color: rgb(204, 204, 204); background-color: rgb(16, 16, 26);\">                 1    1    2    2\n",
    "       0    5    0    5    0    5\n",
    " 9 ...#########################...\n",
    "<em style=\"border-color: rgb(255, 255, 255); color: rgb(255, 255, 255); text-shadow: rgb(255, 255, 255) 0px 0px 5px;\">10 ..####B######################..</em>\n",
    "11 .###S#############.###########.\n",
    "</code></pre>\n",
    "<p style=\"border-color: rgb(204, 204, 204); color: rgb(204, 204, 204);\">In this example, in the row where <code style=\"border: 1px solid rgb(51, 51, 64); color: rgb(204, 204, 204); background: rgb(16, 16, 26);\">y=10</code>, there are <code style=\"border: 1px solid rgb(51, 51, 64); color: rgb(204, 204, 204); background: rgb(16, 16, 26);\"><em style=\"border-color: rgb(255, 255, 255); color: rgb(255, 255, 255); text-shadow: rgb(255, 255, 255) 0px 0px 5px;\">26</em></code> positions where a beacon cannot be present.</p>\n",
    "<p style=\"border-color: rgb(204, 204, 204); color: rgb(204, 204, 204);\">Consult the report from the sensors you just deployed. <em style=\"border-color: rgb(255, 255, 255); color: rgb(255, 255, 255); text-shadow: rgb(255, 255, 255) 0px 0px 5px;\">In the row where <code style=\"border: 1px solid rgb(51, 51, 64); color: rgb(255, 255, 255); text-shadow: rgb(255, 255, 255) 0px 0px 5px; background: rgb(16, 16, 26);\">y=2000000</code>, how many positions cannot contain a beacon?</em></p>\n",
    "</div>"
   ]
  },
  {
   "cell_type": "code",
   "execution_count": 1,
   "id": "dad67a6c",
   "metadata": {},
   "outputs": [],
   "source": [
    "import sys\n",
    "sys.path.append(\"../../common\")"
   ]
  },
  {
   "cell_type": "code",
   "execution_count": 2,
   "id": "5f087b8c",
   "metadata": {},
   "outputs": [],
   "source": [
    "from aoc import *\n",
    "import itertools\n",
    "import numpy as np\n",
    "import re\n",
    "import shapely"
   ]
  },
  {
   "cell_type": "code",
   "execution_count": 3,
   "id": "0661ddc3",
   "metadata": {},
   "outputs": [],
   "source": [
    "with open(\"./puzzle_inputs/15.txt\") as f:\n",
    "    positions = np.array([numbers(line) for line in f])\n",
    "    sensors = positions[:,:2]\n",
    "    beacons = positions[:,2:]"
   ]
  },
  {
   "cell_type": "code",
   "execution_count": 4,
   "id": "a1a7faaf-d1de-4b7f-8113-4ade89c648de",
   "metadata": {},
   "outputs": [],
   "source": [
    "row = 2000000\n",
    "# row = 10"
   ]
  },
  {
   "cell_type": "code",
   "execution_count": 5,
   "id": "828951fd-02eb-4312-9936-fa2090735426",
   "metadata": {},
   "outputs": [
    {
     "data": {
      "text/plain": [
       "5394423"
      ]
     },
     "execution_count": 5,
     "metadata": {},
     "output_type": "execute_result"
    }
   ],
   "source": [
    "# Original solution\n",
    "positions_without_beacons = set()\n",
    "for sensor, beacon in zip(sensors, beacons):\n",
    "    offset = beacon - sensor\n",
    "    radius = np.sum(np.abs(offset))\n",
    "\n",
    "    distance_to_row = abs(row - sensor[1])\n",
    "\n",
    "    if distance_to_row > radius:\n",
    "        continue\n",
    "\n",
    "    row_length = radius - distance_to_row\n",
    "\n",
    "    to_add = set(range(sensor[0] - row_length, sensor[0] + row_length + 1))\n",
    "    if beacon[1] == row and beacon[0] in to_add:\n",
    "        to_add.remove(beacon[0])\n",
    "    positions_without_beacons |= to_add\n",
    "len(positions_without_beacons)"
   ]
  },
  {
   "cell_type": "code",
   "execution_count": 6,
   "id": "2fb20ed0-0d2b-42b9-9b16-20dc7cc8a4c2",
   "metadata": {
    "tags": []
   },
   "outputs": [
    {
     "data": {
      "text/plain": [
       "5394423"
      ]
     },
     "execution_count": 6,
     "metadata": {},
     "output_type": "execute_result"
    }
   ],
   "source": [
    "# Improved solution using ranges\n",
    "positions_without_beacons = []\n",
    "for sensor, beacon in zip(sensors, beacons):\n",
    "    offset = beacon - sensor\n",
    "    radius = np.sum(np.abs(offset))\n",
    "\n",
    "    distance_to_row = abs(row - sensor[1])\n",
    "    if distance_to_row > radius:\n",
    "        continue\n",
    "\n",
    "    row_length = radius - distance_to_row\n",
    "\n",
    "    sensor_range = (sensor[0] - row_length, sensor[0] + row_length)\n",
    "    if beacon[1] == row:\n",
    "        if beacon[0] == sensor_range[0]:\n",
    "            sensor_range = (sensor_range[0] + 1, sensor_range[1])\n",
    "        else:\n",
    "            sensor_range = (sensor_range[0], sensor_range[1] - 1)\n",
    "    insert_range(sensor_range, positions_without_beacons)\n",
    "sum(p[1] - p[0] + 1 for p in positions_without_beacons)"
   ]
  },
  {
   "cell_type": "markdown",
   "id": "25d8c2f3-8f0d-4908-822e-e1a1fb85ee1f",
   "metadata": {},
   "source": [
    "<div style=\"background-color: rgb(15, 15, 35); border: 1px solid rgb(255, 255, 255); color: rgb(204, 204, 204); font-family: monospace; margin-left: -5px; margin-right: -20px; padding: 1rem;\"><h2 id=\"part2\" style=\"border-color: rgb(255, 255, 255); color: rgb(255, 255, 255);\">--- Part Two ---</h2><p style=\"border-color: rgb(204, 204, 204); color: rgb(204, 204, 204);\">Your handheld device indicates that the distress signal is coming from a beacon nearby. The distress beacon is not detected by any sensor, but the distress beacon must have <code style=\"border: 1px solid rgb(51, 51, 64); color: rgb(204, 204, 204); background: rgb(16, 16, 26);\">x</code> and <code style=\"border: 1px solid rgb(51, 51, 64); color: rgb(204, 204, 204); background: rgb(16, 16, 26);\">y</code> coordinates each no lower than <code style=\"border: 1px solid rgb(51, 51, 64); color: rgb(204, 204, 204); background: rgb(16, 16, 26);\">0</code> and no larger than <code style=\"border: 1px solid rgb(51, 51, 64); color: rgb(204, 204, 204); background: rgb(16, 16, 26);\">4000000</code>.</p>\n",
    "<p style=\"border-color: rgb(204, 204, 204); color: rgb(204, 204, 204);\">To isolate the distress beacon's signal, you need to determine its <em style=\"border-color: rgb(255, 255, 255); color: rgb(255, 255, 255); text-shadow: rgb(255, 255, 255) 0px 0px 5px;\">tuning frequency</em>, which can be found by multiplying its <code style=\"border: 1px solid rgb(51, 51, 64); color: rgb(204, 204, 204); background: rgb(16, 16, 26);\">x</code> coordinate by <code style=\"border: 1px solid rgb(51, 51, 64); color: rgb(204, 204, 204); background: rgb(16, 16, 26);\">4000000</code> and then adding its <code style=\"border: 1px solid rgb(51, 51, 64); color: rgb(204, 204, 204); background: rgb(16, 16, 26);\">y</code> coordinate.</p>\n",
    "<p style=\"border-color: rgb(204, 204, 204); color: rgb(204, 204, 204);\">In the example above, the search space is smaller: instead, the <code style=\"border: 1px solid rgb(51, 51, 64); color: rgb(204, 204, 204); background: rgb(16, 16, 26);\">x</code> and <code style=\"border: 1px solid rgb(51, 51, 64); color: rgb(204, 204, 204); background: rgb(16, 16, 26);\">y</code> coordinates can each be at most <code style=\"border: 1px solid rgb(51, 51, 64); color: rgb(204, 204, 204); background: rgb(16, 16, 26);\">20</code>. With this reduced search area, there is only a single position that could have a beacon: <code style=\"border: 1px solid rgb(51, 51, 64); color: rgb(204, 204, 204); background: rgb(16, 16, 26);\">x=14, y=11</code>. The tuning frequency for this distress beacon is <code style=\"border: 1px solid rgb(51, 51, 64); color: rgb(204, 204, 204); background: rgb(16, 16, 26);\"><em style=\"border-color: rgb(255, 255, 255); color: rgb(255, 255, 255); text-shadow: rgb(255, 255, 255) 0px 0px 5px;\">56000011</em></code>.</p>\n",
    "<p style=\"border-color: rgb(204, 204, 204); color: rgb(204, 204, 204);\">Find the only possible position for the distress beacon. <em style=\"border-color: rgb(255, 255, 255); color: rgb(255, 255, 255); text-shadow: rgb(255, 255, 255) 0px 0px 5px;\">What is its tuning frequency?</em></p>\n",
    "</div>"
   ]
  },
  {
   "cell_type": "code",
   "execution_count": 7,
   "id": "e56a1bb7-55b2-4656-a7cf-cad968c5a264",
   "metadata": {},
   "outputs": [],
   "source": [
    "search_space = 4000000"
   ]
  },
  {
   "cell_type": "code",
   "execution_count": 8,
   "id": "3233689b-0e3d-437f-979d-7aea06488f7b",
   "metadata": {},
   "outputs": [],
   "source": [
    "radii = [np.sum(np.abs(beacon - sensor)) for sensor, beacon in zip(sensors, beacons)]"
   ]
  },
  {
   "cell_type": "code",
   "execution_count": 9,
   "id": "f224f18e-bd95-4619-954e-23a469384a2c",
   "metadata": {},
   "outputs": [],
   "source": [
    "for y in range(0, search_space):\n",
    "    ranges = []\n",
    "    for sensor, radius in zip(sensors, radii):\n",
    "        distance_to_row = abs(y - sensor[1])\n",
    "        if distance_to_row > radius:\n",
    "            continue\n",
    "        row_length = 2*(radius - distance_to_row) + 1\n",
    "        insert_range((sensor[0] - row_length//2, sensor[0] + row_length//2), ranges)\n",
    "    if len(ranges) == 2:\n",
    "        break\n",
    "x = ranges[0][1]"
   ]
  },
  {
   "cell_type": "code",
   "execution_count": 10,
   "id": "8ee7f357-8424-41cf-946b-4917c187e848",
   "metadata": {},
   "outputs": [
    {
     "data": {
      "text/plain": [
       "(2960218, 3211051)"
      ]
     },
     "execution_count": 10,
     "metadata": {},
     "output_type": "execute_result"
    }
   ],
   "source": [
    "x, y"
   ]
  },
  {
   "cell_type": "code",
   "execution_count": 11,
   "id": "0046d532-21c4-445b-8930-e1aab402facc",
   "metadata": {},
   "outputs": [
    {
     "data": {
      "text/plain": [
       "11840875211051"
      ]
     },
     "execution_count": 11,
     "metadata": {},
     "output_type": "execute_result"
    }
   ],
   "source": [
    "x*4000000 + y"
   ]
  },
  {
   "cell_type": "markdown",
   "id": "f786ccfb-ca38-4749-ba0f-a578b246643b",
   "metadata": {},
   "source": [
    "---\n",
    "\n",
    "A very fast solution that represents the bounds of each diamond as a line segment. The desired spot can be found by searching for 3 adjacent intersections."
   ]
  },
  {
   "cell_type": "code",
   "execution_count": 12,
   "id": "0f8719e5-04cf-4d9e-95b7-296177f0206b",
   "metadata": {},
   "outputs": [],
   "source": [
    "# modified from https://stackoverflow.com/a/9997374\n",
    "def ccw(A,B,C):\n",
    "    return (C[1]-A[1]) * (B[0]-A[0]) > (B[1]-A[1]) * (C[0]-A[0])\n",
    "\n",
    "# Return true if line segments AB and CD intersect\n",
    "def intersect(l1, l2):\n",
    "    A, B = l1\n",
    "    C, D = l2\n",
    "    if ccw(A,C,D) == ccw(B,C,D) or ccw(A,B,C) == ccw(A,B,D):\n",
    "        return None\n",
    "    run, rise = l1[1] - l1[0]\n",
    "    slope1 = rise // run\n",
    "\n",
    "    run, rise = l2[1] - l2[0]\n",
    "    slope2 = rise // run\n",
    "\n",
    "    x = (l2[0][1] - slope2*l2[0][0] - l1[0][1] + slope1*l1[0][0]) // (slope1 - slope2)\n",
    "    return x, slope1*x + l1[0][1] - slope1*l1[0][0]"
   ]
  },
  {
   "cell_type": "code",
   "execution_count": 13,
   "id": "c74e5457-d3a2-461e-b2b4-033f9dad8cf6",
   "metadata": {},
   "outputs": [],
   "source": [
    "positive_line_segments = [] # line segments with positive slopes\n",
    "negative_line_segments = [] # line segments with negative slopes\n",
    "for sensor, radius in zip(sensors, radii):\n",
    "    positive_line_segments.append([\n",
    "        (sensor + [-radius, 0], sensor + [0, -radius]),\n",
    "        (sensor + [0, radius], sensor + [radius, 0])\n",
    "    ])\n",
    "    negative_line_segments.append([\n",
    "        (sensor + [-radius, 0], sensor + [0, radius]),\n",
    "        (sensor + [0, -radius], sensor + [radius, 0])\n",
    "    ])"
   ]
  },
  {
   "cell_type": "code",
   "execution_count": 14,
   "id": "ceebf5e7-a46e-42ed-b84c-496388397739",
   "metadata": {},
   "outputs": [],
   "source": [
    "intersections = set()\n",
    "for i, sa in enumerate(sensors):\n",
    "    for j, sb in enumerate(sensors[i+1:], start=i+1):\n",
    "        for l1 in positive_line_segments[i]:\n",
    "            for l2 in negative_line_segments[j]:\n",
    "                if (p := intersect(l1, l2)) is not None:\n",
    "                    intersections.add(p)\n",
    "intersections = np.array(sorted(intersections))\n",
    "prev_x = intersections[0][0]\n",
    "corner_i = 0\n",
    "for i in range(1, len(intersections)):\n",
    "    if intersections[i][0] - prev_x > 1:\n",
    "        prev_x = intersections[i][0]\n",
    "        corner_i = i\n",
    "        continue\n",
    "    if i - corner_i == 2:\n",
    "        break"
   ]
  },
  {
   "cell_type": "code",
   "execution_count": 15,
   "id": "b0a20e36-177b-4a34-aaa5-f64b226062ae",
   "metadata": {},
   "outputs": [
    {
     "data": {
      "text/plain": [
       "(2960219, 3211051)"
      ]
     },
     "execution_count": 15,
     "metadata": {},
     "output_type": "execute_result"
    }
   ],
   "source": [
    "x, y = intersections[corner_i] + [1, 0]\n",
    "x, y"
   ]
  },
  {
   "cell_type": "code",
   "execution_count": 16,
   "id": "c8e0756f-0db2-4a64-bc00-4e8f94ec1792",
   "metadata": {},
   "outputs": [
    {
     "data": {
      "text/plain": [
       "11840879211051"
      ]
     },
     "execution_count": 16,
     "metadata": {},
     "output_type": "execute_result"
    }
   ],
   "source": [
    "x*4000000 + y"
   ]
  }
 ],
 "metadata": {
  "kernelspec": {
   "display_name": "Python 3 (ipykernel)",
   "language": "python",
   "name": "python3"
  },
  "language_info": {
   "codemirror_mode": {
    "name": "ipython",
    "version": 3
   },
   "file_extension": ".py",
   "mimetype": "text/x-python",
   "name": "python",
   "nbconvert_exporter": "python",
   "pygments_lexer": "ipython3",
   "version": "3.10.8"
  }
 },
 "nbformat": 4,
 "nbformat_minor": 5
}
