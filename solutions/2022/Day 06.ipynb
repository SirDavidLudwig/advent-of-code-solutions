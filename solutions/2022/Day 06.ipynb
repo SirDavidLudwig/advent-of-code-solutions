{
 "cells": [
  {
   "cell_type": "markdown",
   "id": "79f41678-7e9b-4c6e-a995-85a319396158",
   "metadata": {},
   "source": [
    "<div style=\"background-color: rgb(15, 15, 35); border: 1px solid rgb(255, 255, 255); color: rgb(204, 204, 204); font-family: monospace; margin-left: -5px; margin-right: -20px; padding: 1rem;\"><h2 style=\"border-color: rgb(255, 255, 255); color: rgb(255, 255, 255);\">--- Day 6: Tuning Trouble ---</h2><p style=\"border-color: rgb(204, 204, 204); color: rgb(204, 204, 204);\">The preparations are finally complete; you and the Elves leave camp on foot and begin to make your way toward the <em class=\"star\" style=\"border-color: rgb(255, 255, 102); color: rgb(255, 255, 102); text-shadow: rgb(255, 255, 102) 0px 0px 5px;\">star</em> fruit grove.</p>\n",
    "<p style=\"border-color: rgb(204, 204, 204); color: rgb(204, 204, 204);\">As you move through the dense undergrowth, one of the Elves gives you a handheld <em style=\"border-color: rgb(255, 255, 255); color: rgb(255, 255, 255); text-shadow: rgb(255, 255, 255) 0px 0px 5px;\">device</em>. He says that it has many fancy features, but the most important one to set up right now is the <em style=\"border-color: rgb(255, 255, 255); color: rgb(255, 255, 255); text-shadow: rgb(255, 255, 255) 0px 0px 5px;\">communication system</em>.</p>\n",
    "<p style=\"border-color: rgb(204, 204, 204); color: rgb(204, 204, 204);\">However, because he's heard you have <a href=\"/2016/day/6\" style=\"border-color: rgb(0, 153, 0); color: rgb(0, 153, 0);\">significant</a> <a href=\"/2016/day/25\" style=\"border-color: rgb(0, 153, 0); color: rgb(0, 153, 0);\">experience</a> <a href=\"/2019/day/7\" style=\"border-color: rgb(0, 153, 0); color: rgb(0, 153, 0);\">dealing</a> <a href=\"/2019/day/9\" style=\"border-color: rgb(0, 153, 0); color: rgb(0, 153, 0);\">with</a> <a href=\"/2019/day/16\" style=\"border-color: rgb(0, 153, 0); color: rgb(0, 153, 0);\">signal-based</a> <a href=\"/2021/day/25\" style=\"border-color: rgb(0, 153, 0); color: rgb(0, 153, 0);\">systems</a>, he convinced the other Elves that it would be okay to give you their one malfunctioning device - surely you'll have no problem fixing it.</p>\n",
    "<p style=\"border-color: rgb(204, 204, 204); color: rgb(204, 204, 204);\">As if inspired by comedic timing, the device emits a few <span title=\"The magic smoke, on the other hand, seems to be contained... FOR NOW!\" style=\"border-color: rgb(204, 204, 204); color: rgb(204, 204, 204);\">colorful sparks</span>.</p>\n",
    "<p style=\"border-color: rgb(204, 204, 204); color: rgb(204, 204, 204);\">To be able to communicate with the Elves, the device needs to <em style=\"border-color: rgb(255, 255, 255); color: rgb(255, 255, 255); text-shadow: rgb(255, 255, 255) 0px 0px 5px;\">lock on to their signal</em>. The signal is a series of seemingly-random characters that the device receives one at a time.</p>\n",
    "<p style=\"border-color: rgb(204, 204, 204); color: rgb(204, 204, 204);\">To fix the communication system, you need to add a subroutine to the device that detects a <em style=\"border-color: rgb(255, 255, 255); color: rgb(255, 255, 255); text-shadow: rgb(255, 255, 255) 0px 0px 5px;\">start-of-packet marker</em> in the datastream. In the protocol being used by the Elves, the start of a packet is indicated by a sequence of <em style=\"border-color: rgb(255, 255, 255); color: rgb(255, 255, 255); text-shadow: rgb(255, 255, 255) 0px 0px 5px;\">four characters that are all different</em>.</p>\n",
    "<p style=\"border-color: rgb(204, 204, 204); color: rgb(204, 204, 204);\">The device will send your subroutine a datastream buffer (your puzzle input); your subroutine needs to identify the first position where the four most recently received characters were all different. Specifically, it needs to report the number of characters from the beginning of the buffer to the end of the first such four-character marker.</p>\n",
    "<p style=\"border-color: rgb(204, 204, 204); color: rgb(204, 204, 204);\">For example, suppose you receive the following datastream buffer:</p>\n",
    "<pre style=\"border: 1px solid rgb(51, 51, 64); color: rgb(204, 204, 204); display: inline-block;\"><code style=\"border-color: rgb(204, 204, 204); color: rgb(204, 204, 204);\">mjqjpqmgbljsphdztnvjfqwrcgsmlb</code></pre>\n",
    "<p style=\"border-color: rgb(204, 204, 204); color: rgb(204, 204, 204);\">After the first three characters (<code style=\"border: 1px solid rgb(51, 51, 64); color: rgb(204, 204, 204); background: rgb(16, 16, 26);\">mjq</code>) have been received, there haven't been enough characters received yet to find the marker. The first time a marker could occur is after the fourth character is received, making the most recent four characters <code style=\"border: 1px solid rgb(51, 51, 64); color: rgb(204, 204, 204); background: rgb(16, 16, 26);\">mjqj</code>. Because <code style=\"border: 1px solid rgb(51, 51, 64); color: rgb(204, 204, 204); background: rgb(16, 16, 26);\">j</code> is repeated, this isn't a marker.</p>\n",
    "<p style=\"border-color: rgb(204, 204, 204); color: rgb(204, 204, 204);\">The first time a marker appears is after the <em style=\"border-color: rgb(255, 255, 255); color: rgb(255, 255, 255); text-shadow: rgb(255, 255, 255) 0px 0px 5px;\">seventh</em> character arrives. Once it does, the last four characters received are <code style=\"border: 1px solid rgb(51, 51, 64); color: rgb(204, 204, 204); background: rgb(16, 16, 26);\">jpqm</code>, which are all different. In this case, your subroutine should report the value <code style=\"border: 1px solid rgb(51, 51, 64); color: rgb(204, 204, 204); background: rgb(16, 16, 26);\"><em style=\"border-color: rgb(255, 255, 255); color: rgb(255, 255, 255); text-shadow: rgb(255, 255, 255) 0px 0px 5px;\">7</em></code>, because the first start-of-packet marker is complete after 7 characters have been processed.</p>\n",
    "<p style=\"border-color: rgb(204, 204, 204); color: rgb(204, 204, 204);\">Here are a few more examples:</p>\n",
    "<ul style=\"border-color: rgb(204, 204, 204); color: rgb(204, 204, 204);\">\n",
    "<li style=\"border-color: rgb(204, 204, 204); color: rgb(204, 204, 204);\"><code style=\"border: 1px solid rgb(51, 51, 64); color: rgb(204, 204, 204); background: rgb(16, 16, 26);\">bvwbjplbgvbhsrlpgdmjqwftvncz</code>: first marker after character <code style=\"border: 1px solid rgb(51, 51, 64); color: rgb(204, 204, 204); background: rgb(16, 16, 26);\"><em style=\"border-color: rgb(255, 255, 255); color: rgb(255, 255, 255); text-shadow: rgb(255, 255, 255) 0px 0px 5px;\">5</em></code></li>\n",
    "<li style=\"border-color: rgb(204, 204, 204); color: rgb(204, 204, 204);\"><code style=\"border: 1px solid rgb(51, 51, 64); color: rgb(204, 204, 204); background: rgb(16, 16, 26);\">nppdvjthqldpwncqszvftbrmjlhg</code>: first marker after character <code style=\"border: 1px solid rgb(51, 51, 64); color: rgb(204, 204, 204); background: rgb(16, 16, 26);\"><em style=\"border-color: rgb(255, 255, 255); color: rgb(255, 255, 255); text-shadow: rgb(255, 255, 255) 0px 0px 5px;\">6</em></code></li>\n",
    "<li style=\"border-color: rgb(204, 204, 204); color: rgb(204, 204, 204);\"><code style=\"border: 1px solid rgb(51, 51, 64); color: rgb(204, 204, 204); background: rgb(16, 16, 26);\">nznrnfrfntjfmvfwmzdfjlvtqnbhcprsg</code>: first marker after character <code style=\"border: 1px solid rgb(51, 51, 64); color: rgb(204, 204, 204); background: rgb(16, 16, 26);\"><em style=\"border-color: rgb(255, 255, 255); color: rgb(255, 255, 255); text-shadow: rgb(255, 255, 255) 0px 0px 5px;\">10</em></code></li>\n",
    "<li style=\"border-color: rgb(204, 204, 204); color: rgb(204, 204, 204);\"><code style=\"border: 1px solid rgb(51, 51, 64); color: rgb(204, 204, 204); background: rgb(16, 16, 26);\">zcfzfwzzqfrljwzlrfnpqdbhtmscgvjw</code>: first marker after character <code style=\"border: 1px solid rgb(51, 51, 64); color: rgb(204, 204, 204); background: rgb(16, 16, 26);\"><em style=\"border-color: rgb(255, 255, 255); color: rgb(255, 255, 255); text-shadow: rgb(255, 255, 255) 0px 0px 5px;\">11</em></code></li>\n",
    "</ul>\n",
    "<p style=\"border-color: rgb(204, 204, 204); color: rgb(204, 204, 204);\"><em style=\"border-color: rgb(255, 255, 255); color: rgb(255, 255, 255); text-shadow: rgb(255, 255, 255) 0px 0px 5px;\">How many characters need to be processed before the first start-of-packet marker is detected?</em></p>\n",
    "</div>"
   ]
  },
  {
   "cell_type": "code",
   "execution_count": 1,
   "id": "af1a4df1-42a4-4eb6-b2a8-28f313d577d8",
   "metadata": {},
   "outputs": [],
   "source": [
    "with open(\"./puzzle_inputs/06.txt\") as f:\n",
    "    signal = f.read().strip()"
   ]
  },
  {
   "cell_type": "code",
   "execution_count": 2,
   "id": "4d237416-8dc4-45e2-98ca-de84405fb918",
   "metadata": {},
   "outputs": [
    {
     "name": "stdout",
     "output_type": "stream",
     "text": [
      "1848\n"
     ]
    }
   ],
   "source": [
    "# naive solution\n",
    "for i in range(4, len(signal)):\n",
    "    if len(set([c for c in signal[i-4:i]])) == 4:\n",
    "        print(i)\n",
    "        break"
   ]
  },
  {
   "cell_type": "markdown",
   "id": "ca447fed-3c97-44c0-8fdd-9f057a361436",
   "metadata": {},
   "source": [
    "<div style=\"background-color: rgb(15, 15, 35); border: 1px solid rgb(255, 255, 255); color: rgb(204, 204, 204); font-family: monospace; margin-left: -5px; margin-right: -20px; padding: 1rem;\"><h2 id=\"part2\" style=\"border-color: rgb(255, 255, 255); color: rgb(255, 255, 255);\">--- Part Two ---</h2><p style=\"border-color: rgb(204, 204, 204); color: rgb(204, 204, 204);\">Your device's communication system is correctly detecting packets, but still isn't working. It looks like it also needs to look for <em style=\"border-color: rgb(255, 255, 255); color: rgb(255, 255, 255); text-shadow: rgb(255, 255, 255) 0px 0px 5px;\">messages</em>.</p>\n",
    "<p style=\"border-color: rgb(204, 204, 204); color: rgb(204, 204, 204);\">A <em style=\"border-color: rgb(255, 255, 255); color: rgb(255, 255, 255); text-shadow: rgb(255, 255, 255) 0px 0px 5px;\">start-of-message marker</em> is just like a start-of-packet marker, except it consists of <em style=\"border-color: rgb(255, 255, 255); color: rgb(255, 255, 255); text-shadow: rgb(255, 255, 255) 0px 0px 5px;\">14 distinct characters</em> rather than 4.</p>\n",
    "<p style=\"border-color: rgb(204, 204, 204); color: rgb(204, 204, 204);\">Here are the first positions of start-of-message markers for all of the above examples:</p>\n",
    "<ul style=\"border-color: rgb(204, 204, 204); color: rgb(204, 204, 204);\">\n",
    "<li style=\"border-color: rgb(204, 204, 204); color: rgb(204, 204, 204);\"><code style=\"border: 1px solid rgb(51, 51, 64); color: rgb(204, 204, 204); background: rgb(16, 16, 26);\">mjqjpqmgbljsphdztnvjfqwrcgsmlb</code>: first marker after character <code style=\"border: 1px solid rgb(51, 51, 64); color: rgb(204, 204, 204); background: rgb(16, 16, 26);\"><em style=\"border-color: rgb(255, 255, 255); color: rgb(255, 255, 255); text-shadow: rgb(255, 255, 255) 0px 0px 5px;\">19</em></code></li>\n",
    "<li style=\"border-color: rgb(204, 204, 204); color: rgb(204, 204, 204);\"><code style=\"border: 1px solid rgb(51, 51, 64); color: rgb(204, 204, 204); background: rgb(16, 16, 26);\">bvwbjplbgvbhsrlpgdmjqwftvncz</code>: first marker after character <code style=\"border: 1px solid rgb(51, 51, 64); color: rgb(204, 204, 204); background: rgb(16, 16, 26);\"><em style=\"border-color: rgb(255, 255, 255); color: rgb(255, 255, 255); text-shadow: rgb(255, 255, 255) 0px 0px 5px;\">23</em></code></li>\n",
    "<li style=\"border-color: rgb(204, 204, 204); color: rgb(204, 204, 204);\"><code style=\"border: 1px solid rgb(51, 51, 64); color: rgb(204, 204, 204); background: rgb(16, 16, 26);\">nppdvjthqldpwncqszvftbrmjlhg</code>: first marker after character <code style=\"border: 1px solid rgb(51, 51, 64); color: rgb(204, 204, 204); background: rgb(16, 16, 26);\"><em style=\"border-color: rgb(255, 255, 255); color: rgb(255, 255, 255); text-shadow: rgb(255, 255, 255) 0px 0px 5px;\">23</em></code></li>\n",
    "<li style=\"border-color: rgb(204, 204, 204); color: rgb(204, 204, 204);\"><code style=\"border: 1px solid rgb(51, 51, 64); color: rgb(204, 204, 204); background: rgb(16, 16, 26);\">nznrnfrfntjfmvfwmzdfjlvtqnbhcprsg</code>: first marker after character <code style=\"border: 1px solid rgb(51, 51, 64); color: rgb(204, 204, 204); background: rgb(16, 16, 26);\"><em style=\"border-color: rgb(255, 255, 255); color: rgb(255, 255, 255); text-shadow: rgb(255, 255, 255) 0px 0px 5px;\">29</em></code></li>\n",
    "<li style=\"border-color: rgb(204, 204, 204); color: rgb(204, 204, 204);\"><code style=\"border: 1px solid rgb(51, 51, 64); color: rgb(204, 204, 204); background: rgb(16, 16, 26);\">zcfzfwzzqfrljwzlrfnpqdbhtmscgvjw</code>: first marker after character <code style=\"border: 1px solid rgb(51, 51, 64); color: rgb(204, 204, 204); background: rgb(16, 16, 26);\"><em style=\"border-color: rgb(255, 255, 255); color: rgb(255, 255, 255); text-shadow: rgb(255, 255, 255) 0px 0px 5px;\">26</em></code></li>\n",
    "</ul>\n",
    "<p style=\"border-color: rgb(204, 204, 204); color: rgb(204, 204, 204);\"><em style=\"border-color: rgb(255, 255, 255); color: rgb(255, 255, 255); text-shadow: rgb(255, 255, 255) 0px 0px 5px;\">How many characters need to be processed before the first start-of-message marker is detected?</em></p>\n",
    "</div>"
   ]
  },
  {
   "cell_type": "code",
   "execution_count": 3,
   "id": "af4f96df-3ede-430a-874f-952ef032e918",
   "metadata": {},
   "outputs": [
    {
     "name": "stdout",
     "output_type": "stream",
     "text": [
      "2308\n"
     ]
    }
   ],
   "source": [
    "n = 14\n",
    "for i in range(n, len(signal)):\n",
    "    if len(set([c for c in signal[i-n:i]])) == n:\n",
    "        print(i)\n",
    "        break"
   ]
  },
  {
   "cell_type": "markdown",
   "id": "3751b9f8-9c9b-4c20-9c6f-b84b8865bcc7",
   "metadata": {},
   "source": [
    "---\n",
    "\n",
    "## Extra\n",
    "\n",
    "An efficient implementation"
   ]
  },
  {
   "cell_type": "code",
   "execution_count": 4,
   "id": "ba1a9872-d63e-4059-82d4-d75af7b07bf7",
   "metadata": {},
   "outputs": [],
   "source": [
    "import numpy as np"
   ]
  },
  {
   "cell_type": "code",
   "execution_count": 5,
   "id": "acb3f2f1-5a2c-4388-953b-1eea17671a8e",
   "metadata": {},
   "outputs": [],
   "source": [
    "def find_start_packet(signal, n):\n",
    "    a = ord('a')\n",
    "    nonzero = 0\n",
    "    counts = np.zeros(26, dtype=int)\n",
    "    for i in range(len(signal)):\n",
    "        index = ord(signal[i]) - a\n",
    "        if counts[index] == 0:\n",
    "            nonzero += 1\n",
    "        counts[index] += 1\n",
    "        if i >= n:\n",
    "            index = ord(signal[i-n]) - a\n",
    "            counts[index] -= 1\n",
    "            if counts[index] == 0:\n",
    "                nonzero -= 1\n",
    "        if nonzero == n:\n",
    "            break\n",
    "    return i + 1"
   ]
  },
  {
   "cell_type": "code",
   "execution_count": 6,
   "id": "4be2d3ce-16c9-4dc0-b033-c3e7082b9148",
   "metadata": {},
   "outputs": [
    {
     "data": {
      "text/plain": [
       "1848"
      ]
     },
     "execution_count": 6,
     "metadata": {},
     "output_type": "execute_result"
    }
   ],
   "source": [
    "find_start_packet(signal, 4)"
   ]
  },
  {
   "cell_type": "code",
   "execution_count": 7,
   "id": "30fb3b9b-a89e-42ed-9076-50e852fb962b",
   "metadata": {},
   "outputs": [
    {
     "data": {
      "text/plain": [
       "2308"
      ]
     },
     "execution_count": 7,
     "metadata": {},
     "output_type": "execute_result"
    }
   ],
   "source": [
    "find_start_packet(signal, 14)"
   ]
  }
 ],
 "metadata": {
  "kernelspec": {
   "display_name": "Python 3 (ipykernel)",
   "language": "python",
   "name": "python3"
  },
  "language_info": {
   "codemirror_mode": {
    "name": "ipython",
    "version": 3
   },
   "file_extension": ".py",
   "mimetype": "text/x-python",
   "name": "python",
   "nbconvert_exporter": "python",
   "pygments_lexer": "ipython3",
   "version": "3.10.6"
  }
 },
 "nbformat": 4,
 "nbformat_minor": 5
}
