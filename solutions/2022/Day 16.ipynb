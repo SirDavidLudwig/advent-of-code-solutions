{
 "cells": [
  {
   "cell_type": "code",
   "execution_count": 1,
   "id": "5fcda4f8",
   "metadata": {},
   "outputs": [],
   "source": [
    "import sys\n",
    "sys.path.append(\"../../common\")"
   ]
  },
  {
   "cell_type": "code",
   "execution_count": 37,
   "id": "ed57221c",
   "metadata": {},
   "outputs": [],
   "source": [
    "import aoc\n",
    "from collections import deque\n",
    "import heapq\n",
    "import numpy as np\n",
    "import re"
   ]
  },
  {
   "cell_type": "code",
   "execution_count": 122,
   "id": "66c604f3",
   "metadata": {},
   "outputs": [],
   "source": [
    "flow_rates = {}\n",
    "links = {}\n",
    "with open(\"./puzzle_inputs/16.txt\") as f:\n",
    "    for line in f:\n",
    "        tunnel, flow_rate, *linked_tunnels = re.findall(\"([A-Z]{2}|\\d+)\", line)\n",
    "        flow_rates[tunnel] = int(flow_rate)\n",
    "        links[tunnel] = linked_tunnels\n",
    "valve_ids = {link: index for index, link in enumerate(links)}\n",
    "valve_map = {v: k for k, v in valve_ids.items()}"
   ]
  },
  {
   "cell_type": "code",
   "execution_count": 123,
   "id": "ad8fb45b-3804-4cb9-baaf-22656b2a6192",
   "metadata": {},
   "outputs": [
    {
     "data": {
      "text/plain": [
       "array([ 0,  0,  0,  0, 10,  0, 15,  0,  0,  0,  0,  0,  0, 20, 19, 14,  0,\n",
       "        0, 18,  0,  0,  0,  0,  0,  0,  0,  0,  3,  0,  0,  0,  0, 17, 24,\n",
       "        0,  0,  0,  0, 22,  8,  4,  0,  0, 21,  0,  0,  0,  0,  0,  0,  0,\n",
       "        7,  0,  0,  0,  0,  0,  0, 11,  0])"
      ]
     },
     "execution_count": 123,
     "metadata": {},
     "output_type": "execute_result"
    }
   ],
   "source": [
    "flow_rates = np.array([flow_rates[valve] for valve in valve_ids])\n",
    "flow_rates"
   ]
  },
  {
   "cell_type": "code",
   "execution_count": 165,
   "id": "8dd18549-39c7-4ef3-a907-c51b3cdc5531",
   "metadata": {},
   "outputs": [
    {
     "data": {
      "text/plain": [
       "(60, 60)"
      ]
     },
     "execution_count": 165,
     "metadata": {},
     "output_type": "execute_result"
    }
   ],
   "source": [
    "distance_mat = np.zeros((len(links), len(links)), dtype=int)\n",
    "for start in links:\n",
    "    visited = set()\n",
    "    queue = deque([(start, 0)])\n",
    "    while len(queue) > 0:\n",
    "        tunnel, distance = queue.popleft()\n",
    "        visited.add(tunnel)\n",
    "        i, j = valve_ids[start], valve_ids[tunnel]\n",
    "        distance_mat[i,j] = distance + 1\n",
    "        for link in links[tunnel]:\n",
    "            if link in visited:\n",
    "                continue\n",
    "            queue.append((link, distance + 1))\n",
    "    len(visited)\n",
    "# distance_mat = distance_mat[valves_worth_opening][:,valves_worth_opening]\n",
    "distance_mat.shape"
   ]
  },
  {
   "cell_type": "code",
   "execution_count": 205,
   "id": "5bd80036-56b5-4188-9e2d-634861e8b832",
   "metadata": {},
   "outputs": [
    {
     "data": {
      "text/plain": [
       "{4, 6, 13, 14, 15, 18, 27, 32, 33, 38, 39, 40, 43, 51, 58}"
      ]
     },
     "execution_count": 205,
     "metadata": {},
     "output_type": "execute_result"
    }
   ],
   "source": [
    "valves_worth_opening = set([valve for valve, flow_rate in enumerate(flow_rates) if flow_rate > 0])\n",
    "valves_worth_opening"
   ]
  },
  {
   "cell_type": "code",
   "execution_count": 206,
   "id": "ae68dc47-7c91-4ea0-ae8f-b3c2a3e57897",
   "metadata": {},
   "outputs": [
    {
     "data": {
      "text/plain": [
       "array([[ 1,  3,  8, ...,  6, 14, 12],\n",
       "       [ 3,  1,  9, ...,  8, 16, 14],\n",
       "       [ 8,  8,  1, ...,  5, 11,  9],\n",
       "       ...,\n",
       "       [ 6,  8,  6, ...,  1, 11,  9],\n",
       "       [14, 16, 11, ..., 11,  1,  3],\n",
       "       [12, 14,  9, ...,  9,  3,  1]])"
      ]
     },
     "execution_count": 206,
     "metadata": {},
     "output_type": "execute_result"
    }
   ],
   "source": [
    "distance_mat"
   ]
  },
  {
   "cell_type": "code",
   "execution_count": 207,
   "id": "a077ae56-763a-43f4-a0a8-48dcd314f660",
   "metadata": {},
   "outputs": [],
   "source": [
    "time_mat = np.full_like(distance_mat, 30)\n",
    "cost_mat = np.zeros_like(distance_mat)\n",
    "for i in range(len(cost_mat)):\n",
    "    for j in range(len(cost_mat)):\n",
    "        # Update the current row\n",
    "        time_remaining = time_mat[i][j] - distance_mat[i][j]\n",
    "        cost = time_remaining*flow_rates[j] + cost_mat[i][j]\n",
    "        if cost <= cost_mat[i][j]:\n",
    "            continue\n",
    "        cost_mat[i][j] = cost\n",
    "        # Update other rows\n",
    "        for k in range(len(cost_mat)):\n",
    "            if cost >= cost_mat[j][k]:\n",
    "                cost_mat[j][k] = cost\n",
    "                time_mat[j][k] = time_remaining"
   ]
  },
  {
   "cell_type": "code",
   "execution_count": 199,
   "id": "148e433b-90aa-428a-9d88-5090f9217c8b",
   "metadata": {},
   "outputs": [
    {
     "data": {
      "text/plain": [
       "array([  0,   0,   0,   0, 280,   0, 375,   0,   0,   0,   0,   0,   0,\n",
       "       500, 475, 364,   0,   0, 252,   0,   0,   0,   0,   0,   0,   0,\n",
       "         0,  69,   0,   0,   0,   0, 374, 624,   0,   0,   0,   0, 616,\n",
       "       184,  76,   0,   0, 546,   0,   0,   0,   0,   0,   0,   0, 161,\n",
       "         0,   0,   0,   0,   0,   0, 176,   0])"
      ]
     },
     "execution_count": 199,
     "metadata": {},
     "output_type": "execute_result"
    }
   ],
   "source": [
    "cost_mat[0]"
   ]
  },
  {
   "cell_type": "code",
   "execution_count": 159,
   "id": "e8fd67e1-146b-4ab8-a61a-d3b1005adb3d",
   "metadata": {},
   "outputs": [],
   "source": [
    "for i in range(len(cost_mat)):\n",
    "    if i == row:\n",
    "        continue\n",
    "    current = cost_mat[0][i]\n",
    "    if current == 0:\n",
    "        continue\n",
    "    time_remaining = cost_mat[0][i] // flow_rates[i]\n",
    "    for j in range(len(cost_mat)):\n",
    "        new_cost = (time_remaining - distance_mat[i][j])*flow_rates[j]\n",
    "        if new_cost < 0:\n",
    "            continue\n",
    "        cost_mat[i][j] = max(cost_mat[i][j], new_cost + current)"
   ]
  },
  {
   "cell_type": "code",
   "execution_count": 160,
   "id": "d3547c4f-7a34-4649-9174-12a95facb987",
   "metadata": {},
   "outputs": [
    {
     "data": {
      "text/plain": [
       "624"
      ]
     },
     "execution_count": 160,
     "metadata": {},
     "output_type": "execute_result"
    }
   ],
   "source": [
    "np.max(cost_mat)"
   ]
  },
  {
   "cell_type": "code",
   "execution_count": 139,
   "id": "e4003e80-2f54-499d-9890-532d206c6ad2",
   "metadata": {},
   "outputs": [],
   "source": [
    "for i in np.where(cost_mat[0] > 0)[0]:\n",
    "    cost_mat[i] = cost_mat[0][i]"
   ]
  },
  {
   "cell_type": "code",
   "execution_count": 140,
   "id": "6d314e4d-930c-4b66-94fe-09dcbdfc0bd8",
   "metadata": {},
   "outputs": [
    {
     "data": {
      "text/plain": [
       "array([280, 280, 280, 280, 280, 280, 280, 280, 280, 280, 280, 280, 280,\n",
       "       280, 280, 280, 280, 280, 280, 280, 280, 280, 280, 280, 280, 280,\n",
       "       280, 280, 280, 280, 280, 280, 280, 280, 280, 280, 280, 280, 280,\n",
       "       280, 280, 280, 280, 280, 280, 280, 280, 280, 280, 280, 280, 280,\n",
       "       280, 280, 280, 280, 280, 280, 280, 280])"
      ]
     },
     "execution_count": 140,
     "metadata": {},
     "output_type": "execute_result"
    }
   ],
   "source": [
    "cost_mat[4]"
   ]
  },
  {
   "cell_type": "code",
   "execution_count": 208,
   "id": "ab0bbd40-c43b-4791-9d7d-16a410f0f498",
   "metadata": {},
   "outputs": [],
   "source": [
    "from time import time as current_seconds"
   ]
  },
  {
   "cell_type": "code",
   "execution_count": 212,
   "id": "a158407a-d026-4240-b13a-c73fb15bc4a6",
   "metadata": {},
   "outputs": [
    {
     "name": "stdout",
     "output_type": "stream",
     "text": [
      " 30"
     ]
    }
   ],
   "source": [
    "heap = [(0, 0, valve_ids[\"AA\"], set())] # (total_pressure, total_time, valve)\n",
    "s = current_seconds()\n",
    "max_pressure = 0\n",
    "best_path = None\n",
    "while len(heap) > 0:\n",
    "    if current_seconds() - s > 1:\n",
    "        print(\"\\r\", len(heap), end=\"\")\n",
    "        s = current_seconds()\n",
    "    total_pressure_neg, total_time, current_valve, opened_valves = heapq.heappop(heap)\n",
    "    if -total_pressure_neg > max_pressure:\n",
    "        best_path = opened_valves\n",
    "    max_pressure = max(max_pressure, -total_pressure_neg)\n",
    "    for valve in valves_worth_opening - opened_valves:\n",
    "    # for valve in valves_worth_opening:\n",
    "        if valve in opened_valves:\n",
    "            continue\n",
    "        time = total_time + distance_mat[current_valve, valve]\n",
    "        if time > 30:\n",
    "            continue\n",
    "        pressure = -total_pressure_neg + (30 - time)*flow_rates[valve]\n",
    "        heapq.heappush(heap, (-pressure, time, valve, opened_valves | set([valve])))\n",
    "        # heapq.heappush(heap, (-pressure, time, valve, opened_valves + [valve]))\n"
   ]
  },
  {
   "cell_type": "code",
   "execution_count": 213,
   "id": "5c97e80d-4d02-469b-8b9c-03ed8ebb50a9",
   "metadata": {},
   "outputs": [
    {
     "data": {
      "text/plain": [
       "2124"
      ]
     },
     "execution_count": 213,
     "metadata": {},
     "output_type": "execute_result"
    }
   ],
   "source": [
    "max_pressure"
   ]
  },
  {
   "cell_type": "code",
   "execution_count": null,
   "id": "9e58fef2-0e51-4a5a-87cf-0b13a7c26828",
   "metadata": {},
   "outputs": [],
   "source": []
  }
 ],
 "metadata": {
  "kernelspec": {
   "display_name": "Python 3 (ipykernel)",
   "language": "python",
   "name": "python3"
  },
  "language_info": {
   "codemirror_mode": {
    "name": "ipython",
    "version": 3
   },
   "file_extension": ".py",
   "mimetype": "text/x-python",
   "name": "python",
   "nbconvert_exporter": "python",
   "pygments_lexer": "ipython3",
   "version": "3.10.8"
  }
 },
 "nbformat": 4,
 "nbformat_minor": 5
}
