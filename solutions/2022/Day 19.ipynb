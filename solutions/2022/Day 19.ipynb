{
 "cells": [
  {
   "cell_type": "markdown",
   "id": "24fa9ddf-d80c-498b-b619-247cdd1d594f",
   "metadata": {},
   "source": [
    "<div style=\"background-color: rgb(15, 15, 35); border: 1px solid rgb(255, 255, 255); color: rgb(204, 204, 204); font-family: monospace; margin-left: -5px; margin-right: -20px; padding: 1rem;\"><h2 style=\"border-color: rgb(255, 255, 255); color: rgb(255, 255, 255);\">--- Day 19: Not Enough Minerals ---</h2><p style=\"border-color: rgb(204, 204, 204); color: rgb(204, 204, 204);\">Your scans show that the lava did indeed form obsidian!</p>\n",
    "<p style=\"border-color: rgb(204, 204, 204); color: rgb(204, 204, 204);\">The wind has changed direction enough to stop sending lava droplets toward you, so you and the elephants exit the cave. As you do, you notice a collection of <a href=\"https://en.wikipedia.org/wiki/Geode\" target=\"_blank\" style=\"border-color: rgb(0, 153, 0); color: rgb(0, 153, 0);\">geodes</a> around the pond. Perhaps you could use the obsidian to create some <em style=\"border-color: rgb(255, 255, 255); color: rgb(255, 255, 255); text-shadow: rgb(255, 255, 255) 0px 0px 5px;\">geode-cracking robots</em> and break them open?</p>\n",
    "<p style=\"border-color: rgb(204, 204, 204); color: rgb(204, 204, 204);\">To collect the obsidian from the bottom of the pond, you'll need waterproof <em style=\"border-color: rgb(255, 255, 255); color: rgb(255, 255, 255); text-shadow: rgb(255, 255, 255) 0px 0px 5px;\">obsidian-collecting robots</em>. Fortunately, there is an abundant amount of clay nearby that you can use to make them waterproof.</p>\n",
    "<p style=\"border-color: rgb(204, 204, 204); color: rgb(204, 204, 204);\">In order to harvest the clay, you'll need special-purpose <em style=\"border-color: rgb(255, 255, 255); color: rgb(255, 255, 255); text-shadow: rgb(255, 255, 255) 0px 0px 5px;\">clay-collecting robots</em>. To make any type of robot, you'll need <em style=\"border-color: rgb(255, 255, 255); color: rgb(255, 255, 255); text-shadow: rgb(255, 255, 255) 0px 0px 5px;\">ore</em>, which is also plentiful but in the opposite direction from the clay.</p>\n",
    "<p style=\"border-color: rgb(204, 204, 204); color: rgb(204, 204, 204);\">Collecting ore requires <em style=\"border-color: rgb(255, 255, 255); color: rgb(255, 255, 255); text-shadow: rgb(255, 255, 255) 0px 0px 5px;\">ore-collecting robots</em> with big drills. Fortunately, <em style=\"border-color: rgb(255, 255, 255); color: rgb(255, 255, 255); text-shadow: rgb(255, 255, 255) 0px 0px 5px;\">you have exactly one ore-collecting robot</em> in your pack that you can use to <span title=\"If You Give A Mouse An Ore-Collecting Robot\" style=\"border-color: rgb(204, 204, 204); color: rgb(204, 204, 204);\">kickstart</span> the whole operation.</p>\n",
    "<p style=\"border-color: rgb(204, 204, 204); color: rgb(204, 204, 204);\">Each robot can collect 1 of its resource type per minute. It also takes one minute for the robot factory (also conveniently from your pack) to construct any type of robot, although it consumes the necessary resources available when construction begins.</p>\n",
    "<p style=\"border-color: rgb(204, 204, 204); color: rgb(204, 204, 204);\">The robot factory has many <em style=\"border-color: rgb(255, 255, 255); color: rgb(255, 255, 255); text-shadow: rgb(255, 255, 255) 0px 0px 5px;\">blueprints</em> (your puzzle input) you can choose from, but once you've configured it with a blueprint, you can't change it. You'll need to work out which blueprint is best.</p>\n",
    "<p style=\"border-color: rgb(204, 204, 204); color: rgb(204, 204, 204);\">For example:</p>\n",
    "<pre style=\"border: 1px solid rgb(51, 51, 64); color: rgb(204, 204, 204); background-color: rgb(16, 16, 26); display: inline-block;\"><code style=\"border-color: rgb(204, 204, 204); color: rgb(204, 204, 204); background-color: rgb(16, 16, 26);\">Blueprint 1:\n",
    "  Each ore robot costs 4 ore.\n",
    "  Each clay robot costs 2 ore.\n",
    "  Each obsidian robot costs 3 ore and 14 clay.\n",
    "  Each geode robot costs 2 ore and 7 obsidian.\n",
    "\n",
    "Blueprint 2:\n",
    "  Each ore robot costs 2 ore.\n",
    "  Each clay robot costs 3 ore.\n",
    "  Each obsidian robot costs 3 ore and 8 clay.\n",
    "  Each geode robot costs 3 ore and 12 obsidian.\n",
    "</code></pre>\n",
    "<p style=\"border-color: rgb(204, 204, 204); color: rgb(204, 204, 204);\">(Blueprints have been line-wrapped here for legibility. The robot factory's actual assortment of blueprints are provided one blueprint per line.)</p>\n",
    "<p style=\"border-color: rgb(204, 204, 204); color: rgb(204, 204, 204);\">The elephants are starting to look hungry, so you shouldn't take too long; you need to figure out which blueprint would maximize the number of opened geodes after <em style=\"border-color: rgb(255, 255, 255); color: rgb(255, 255, 255); text-shadow: rgb(255, 255, 255) 0px 0px 5px;\">24 minutes</em> by figuring out which robots to build and when to build them.</p>\n",
    "<p style=\"border-color: rgb(204, 204, 204); color: rgb(204, 204, 204);\">Using blueprint 1 in the example above, the largest number of geodes you could open in 24 minutes is <code style=\"border: 1px solid rgb(51, 51, 64); color: rgb(204, 204, 204); background: rgb(16, 16, 26);\"><em style=\"border-color: rgb(255, 255, 255); color: rgb(255, 255, 255); text-shadow: rgb(255, 255, 255) 0px 0px 5px;\">9</em></code>. One way to achieve that is:</p>\n",
    "<pre style=\"border: 1px solid rgb(51, 51, 64); color: rgb(204, 204, 204); background-color: rgb(16, 16, 26); display: inline-block;\"><code style=\"border-color: rgb(204, 204, 204); color: rgb(204, 204, 204); background-color: rgb(16, 16, 26);\">== Minute 1 ==\n",
    "1 ore-collecting robot collects 1 ore; you now have 1 ore.\n",
    "\n",
    "== Minute 2 ==\n",
    "1 ore-collecting robot collects 1 ore; you now have 2 ore.\n",
    "\n",
    "== Minute 3 ==\n",
    "Spend 2 ore to start building a clay-collecting robot.\n",
    "1 ore-collecting robot collects 1 ore; you now have 1 ore.\n",
    "The new clay-collecting robot is ready; you now have 1 of them.\n",
    "\n",
    "== Minute 4 ==\n",
    "1 ore-collecting robot collects 1 ore; you now have 2 ore.\n",
    "1 clay-collecting robot collects 1 clay; you now have 1 clay.\n",
    "\n",
    "== Minute 5 ==\n",
    "Spend 2 ore to start building a clay-collecting robot.\n",
    "1 ore-collecting robot collects 1 ore; you now have 1 ore.\n",
    "1 clay-collecting robot collects 1 clay; you now have 2 clay.\n",
    "The new clay-collecting robot is ready; you now have 2 of them.\n",
    "\n",
    "== Minute 6 ==\n",
    "1 ore-collecting robot collects 1 ore; you now have 2 ore.\n",
    "2 clay-collecting robots collect 2 clay; you now have 4 clay.\n",
    "\n",
    "== Minute 7 ==\n",
    "Spend 2 ore to start building a clay-collecting robot.\n",
    "1 ore-collecting robot collects 1 ore; you now have 1 ore.\n",
    "2 clay-collecting robots collect 2 clay; you now have 6 clay.\n",
    "The new clay-collecting robot is ready; you now have 3 of them.\n",
    "\n",
    "== Minute 8 ==\n",
    "1 ore-collecting robot collects 1 ore; you now have 2 ore.\n",
    "3 clay-collecting robots collect 3 clay; you now have 9 clay.\n",
    "\n",
    "== Minute 9 ==\n",
    "1 ore-collecting robot collects 1 ore; you now have 3 ore.\n",
    "3 clay-collecting robots collect 3 clay; you now have 12 clay.\n",
    "\n",
    "== Minute 10 ==\n",
    "1 ore-collecting robot collects 1 ore; you now have 4 ore.\n",
    "3 clay-collecting robots collect 3 clay; you now have 15 clay.\n",
    "\n",
    "== Minute 11 ==\n",
    "Spend 3 ore and 14 clay to start building an obsidian-collecting robot.\n",
    "1 ore-collecting robot collects 1 ore; you now have 2 ore.\n",
    "3 clay-collecting robots collect 3 clay; you now have 4 clay.\n",
    "The new obsidian-collecting robot is ready; you now have 1 of them.\n",
    "\n",
    "== Minute 12 ==\n",
    "Spend 2 ore to start building a clay-collecting robot.\n",
    "1 ore-collecting robot collects 1 ore; you now have 1 ore.\n",
    "3 clay-collecting robots collect 3 clay; you now have 7 clay.\n",
    "1 obsidian-collecting robot collects 1 obsidian; you now have 1 obsidian.\n",
    "The new clay-collecting robot is ready; you now have 4 of them.\n",
    "\n",
    "== Minute 13 ==\n",
    "1 ore-collecting robot collects 1 ore; you now have 2 ore.\n",
    "4 clay-collecting robots collect 4 clay; you now have 11 clay.\n",
    "1 obsidian-collecting robot collects 1 obsidian; you now have 2 obsidian.\n",
    "\n",
    "== Minute 14 ==\n",
    "1 ore-collecting robot collects 1 ore; you now have 3 ore.\n",
    "4 clay-collecting robots collect 4 clay; you now have 15 clay.\n",
    "1 obsidian-collecting robot collects 1 obsidian; you now have 3 obsidian.\n",
    "\n",
    "== Minute 15 ==\n",
    "Spend 3 ore and 14 clay to start building an obsidian-collecting robot.\n",
    "1 ore-collecting robot collects 1 ore; you now have 1 ore.\n",
    "4 clay-collecting robots collect 4 clay; you now have 5 clay.\n",
    "1 obsidian-collecting robot collects 1 obsidian; you now have 4 obsidian.\n",
    "The new obsidian-collecting robot is ready; you now have 2 of them.\n",
    "\n",
    "== Minute 16 ==\n",
    "1 ore-collecting robot collects 1 ore; you now have 2 ore.\n",
    "4 clay-collecting robots collect 4 clay; you now have 9 clay.\n",
    "2 obsidian-collecting robots collect 2 obsidian; you now have 6 obsidian.\n",
    "\n",
    "== Minute 17 ==\n",
    "1 ore-collecting robot collects 1 ore; you now have 3 ore.\n",
    "4 clay-collecting robots collect 4 clay; you now have 13 clay.\n",
    "2 obsidian-collecting robots collect 2 obsidian; you now have 8 obsidian.\n",
    "\n",
    "== Minute 18 ==\n",
    "Spend 2 ore and 7 obsidian to start building a geode-cracking robot.\n",
    "1 ore-collecting robot collects 1 ore; you now have 2 ore.\n",
    "4 clay-collecting robots collect 4 clay; you now have 17 clay.\n",
    "2 obsidian-collecting robots collect 2 obsidian; you now have 3 obsidian.\n",
    "The new geode-cracking robot is ready; you now have 1 of them.\n",
    "\n",
    "== Minute 19 ==\n",
    "1 ore-collecting robot collects 1 ore; you now have 3 ore.\n",
    "4 clay-collecting robots collect 4 clay; you now have 21 clay.\n",
    "2 obsidian-collecting robots collect 2 obsidian; you now have 5 obsidian.\n",
    "1 geode-cracking robot cracks 1 geode; you now have 1 open geode.\n",
    "\n",
    "== Minute 20 ==\n",
    "1 ore-collecting robot collects 1 ore; you now have 4 ore.\n",
    "4 clay-collecting robots collect 4 clay; you now have 25 clay.\n",
    "2 obsidian-collecting robots collect 2 obsidian; you now have 7 obsidian.\n",
    "1 geode-cracking robot cracks 1 geode; you now have 2 open geodes.\n",
    "\n",
    "== Minute 21 ==\n",
    "Spend 2 ore and 7 obsidian to start building a geode-cracking robot.\n",
    "1 ore-collecting robot collects 1 ore; you now have 3 ore.\n",
    "4 clay-collecting robots collect 4 clay; you now have 29 clay.\n",
    "2 obsidian-collecting robots collect 2 obsidian; you now have 2 obsidian.\n",
    "1 geode-cracking robot cracks 1 geode; you now have 3 open geodes.\n",
    "The new geode-cracking robot is ready; you now have 2 of them.\n",
    "\n",
    "== Minute 22 ==\n",
    "1 ore-collecting robot collects 1 ore; you now have 4 ore.\n",
    "4 clay-collecting robots collect 4 clay; you now have 33 clay.\n",
    "2 obsidian-collecting robots collect 2 obsidian; you now have 4 obsidian.\n",
    "2 geode-cracking robots crack 2 geodes; you now have 5 open geodes.\n",
    "\n",
    "== Minute 23 ==\n",
    "1 ore-collecting robot collects 1 ore; you now have 5 ore.\n",
    "4 clay-collecting robots collect 4 clay; you now have 37 clay.\n",
    "2 obsidian-collecting robots collect 2 obsidian; you now have 6 obsidian.\n",
    "2 geode-cracking robots crack 2 geodes; you now have 7 open geodes.\n",
    "\n",
    "== Minute 24 ==\n",
    "1 ore-collecting robot collects 1 ore; you now have 6 ore.\n",
    "4 clay-collecting robots collect 4 clay; you now have 41 clay.\n",
    "2 obsidian-collecting robots collect 2 obsidian; you now have 8 obsidian.\n",
    "2 geode-cracking robots crack 2 geodes; you now have 9 open geodes.\n",
    "</code></pre>\n",
    "<p style=\"border-color: rgb(204, 204, 204); color: rgb(204, 204, 204);\">However, by using blueprint 2 in the example above, you could do even better: the largest number of geodes you could open in 24 minutes is <code style=\"border: 1px solid rgb(51, 51, 64); color: rgb(204, 204, 204); background: rgb(16, 16, 26);\"><em style=\"border-color: rgb(255, 255, 255); color: rgb(255, 255, 255); text-shadow: rgb(255, 255, 255) 0px 0px 5px;\">12</em></code>.</p>\n",
    "<p style=\"border-color: rgb(204, 204, 204); color: rgb(204, 204, 204);\">Determine the <em style=\"border-color: rgb(255, 255, 255); color: rgb(255, 255, 255); text-shadow: rgb(255, 255, 255) 0px 0px 5px;\">quality level</em> of each blueprint by <em style=\"border-color: rgb(255, 255, 255); color: rgb(255, 255, 255); text-shadow: rgb(255, 255, 255) 0px 0px 5px;\">multiplying that blueprint's ID number</em> with the largest number of geodes that can be opened in 24 minutes using that blueprint. In this example, the first blueprint has ID 1 and can open 9 geodes, so its quality level is <code style=\"border: 1px solid rgb(51, 51, 64); color: rgb(204, 204, 204); background: rgb(16, 16, 26);\"><em style=\"border-color: rgb(255, 255, 255); color: rgb(255, 255, 255); text-shadow: rgb(255, 255, 255) 0px 0px 5px;\">9</em></code>. The second blueprint has ID 2 and can open 12 geodes, so its quality level is <code style=\"border: 1px solid rgb(51, 51, 64); color: rgb(204, 204, 204); background: rgb(16, 16, 26);\"><em style=\"border-color: rgb(255, 255, 255); color: rgb(255, 255, 255); text-shadow: rgb(255, 255, 255) 0px 0px 5px;\">24</em></code>. Finally, if you <em style=\"border-color: rgb(255, 255, 255); color: rgb(255, 255, 255); text-shadow: rgb(255, 255, 255) 0px 0px 5px;\">add up the quality levels</em> of all of the blueprints in the list, you get <code style=\"border: 1px solid rgb(51, 51, 64); color: rgb(204, 204, 204); background: rgb(16, 16, 26);\"><em style=\"border-color: rgb(255, 255, 255); color: rgb(255, 255, 255); text-shadow: rgb(255, 255, 255) 0px 0px 5px;\">33</em></code>.</p>\n",
    "<p style=\"border-color: rgb(204, 204, 204); color: rgb(204, 204, 204);\">Determine the quality level of each blueprint using the largest number of geodes it could produce in 24 minutes. <em style=\"border-color: rgb(255, 255, 255); color: rgb(255, 255, 255); text-shadow: rgb(255, 255, 255) 0px 0px 5px;\">What do you get if you add up the quality level of all of the blueprints in your list?</em></p>\n",
    "</div>"
   ]
  },
  {
   "cell_type": "markdown",
   "id": "5401d88b-aa0c-4aed-a2fd-ca9d7bc83aa2",
   "metadata": {},
   "source": [
    "Heuristic as minimum distance from a geode.\n",
    "\n",
    "Given a state, what is it's minimum distance to forming a geode.\n",
    "\n",
    "At a particular state, we assume the maximum number of geodes we can achieve, given where we are.\n",
    "\n",
    "Actually, solve this is minimizing the loss. Starting at state 0, the loss is 0. Each level we add the current depth to the loss and subtract the number of geodes we got.\n"
   ]
  },
  {
   "cell_type": "code",
   "execution_count": 1,
   "id": "faed2335-819f-423c-8a12-8f1332becbd1",
   "metadata": {},
   "outputs": [],
   "source": [
    "import sys\n",
    "sys.path.append(\"../../common\")"
   ]
  },
  {
   "cell_type": "code",
   "execution_count": 36,
   "id": "b80b3042-a924-4d36-81e3-fdcb7329e73c",
   "metadata": {},
   "outputs": [],
   "source": [
    "import aoc\n",
    "import heapq\n",
    "import numpy as np\n",
    "import re"
   ]
  },
  {
   "cell_type": "code",
   "execution_count": 37,
   "id": "5a7f3f3b-abef-4961-9815-1a83baead073",
   "metadata": {},
   "outputs": [],
   "source": [
    "blueprints = []\n",
    "with open(\"./puzzle_inputs/19_test.txt\") as f:\n",
    "    for line in f:\n",
    "        values = iter(map(int, re.findall(r\"\\d+\", line)))\n",
    "        blueprints.append({\n",
    "            \"blueprint_id\": next(values),\n",
    "            \"ore_robot_ore\": next(values),\n",
    "            \"clay_robot_ore\": next(values),\n",
    "            \"obsidian_robot_ore\": next(values),\n",
    "            \"obsidian_robot_clay\": next(values),\n",
    "            \"geode_robot_ore\": next(values),\n",
    "            \"geode_robot_obsidian\": next(values),\n",
    "        })"
   ]
  },
  {
   "cell_type": "code",
   "execution_count": 51,
   "id": "17c67872-43f5-490c-a2b7-7332e53f26ea",
   "metadata": {},
   "outputs": [],
   "source": [
    "from dataclasses import dataclass, field"
   ]
  },
  {
   "cell_type": "code",
   "execution_count": 95,
   "id": "d464f4d0-ac33-4f73-bced-3de772f70b45",
   "metadata": {},
   "outputs": [
    {
     "name": "stdout",
     "output_type": "stream",
     "text": [
      "{'blueprint_id': 1, 'ore_robot_ore': 4, 'clay_robot_ore': 2, 'obsidian_robot_ore': 3, 'obsidian_robot_clay': 14, 'geode_robot_ore': 2, 'geode_robot_obsidian': 7}\n",
      "[State(loss=6, minute=3, quantity=(9, 0, 0, 0), rate=(1.0, 1.0, 0.0, 0.0)), State(loss=15, minute=5, quantity=(15, 0, 0, 0), rate=(2.0, 0.0, 0.0, 0.0))]\n"
     ]
    }
   ],
   "source": [
    "ORE = 0\n",
    "CLAY = 1\n",
    "OBSIDIAN = 2\n",
    "GEODE = 3\n",
    "\n",
    "@dataclass(order=True, frozen=True)\n",
    "class State:\n",
    "    loss: int\n",
    "    minute: int\n",
    "    quantity: tuple[int, ...]\n",
    "    rate: tuple[int, ...]\n",
    "\n",
    "    def next_state(self, delta, item):\n",
    "        n = self.minute + delta\n",
    "        loss = n*(n+1)//2 - self.quantity[GEODE] - delta*self.rate[GEODE]\n",
    "        rate_delta = np.zeros(4)\n",
    "        rate_delta[item] = 1\n",
    "        return State(\n",
    "            loss=loss,\n",
    "            minute=state.minute + delta,\n",
    "            quantity = tuple(self.quantity + delta*np.array(quantity)),\n",
    "            rate=tuple(self.rate + rate_delta)\n",
    "        )\n",
    "\n",
    "for blueprint in blueprints:\n",
    "\n",
    "    print(blueprint)\n",
    "    initial_state = State(\n",
    "        loss=0,\n",
    "        minute=0,\n",
    "        quantity=(0, 0, 0, 0),\n",
    "        rate=(1, 0, 0, 0)\n",
    "    )\n",
    "    q = [initial_state]\n",
    "    all_states = set()\n",
    "\n",
    "    best_losses = np.full(24, np.inf)\n",
    "    best_outcome = np.inf\n",
    "\n",
    "    while len(q) > 0:\n",
    "        state = heapq.heappop(q)\n",
    "\n",
    "        # next ore robot state\n",
    "        delta = max(0, int(np.ceil((blueprint[\"ore_robot_ore\"] - state.quantity[ORE]) / state.rate[ORE]))) + 1\n",
    "        if delta + state.minute < 23:\n",
    "            next_state = state.next_state(delta, ORE)\n",
    "            if next_state.loss <= best_losses[next_state.minute]:\n",
    "                if next_state not in all_states:\n",
    "                    all_states.add(next_state)\n",
    "                    heapq.heappush(q, next_state)\n",
    "\n",
    "        # next clay robot state\n",
    "        delta = max(0, int(np.ceil((blueprint[\"clay_robot_ore\"] - state.quantity[ORE]) / state.rate[ORE]))) + 1\n",
    "        if delta + state.minute < 23:\n",
    "            next_state = state.next_state(delta, CLAY)\n",
    "            if next_state not in all_states:\n",
    "                all_states.add(next_state)\n",
    "                heapq.heappush(q, next_state)\n",
    "\n",
    "        # check if we can create obsidian robots\n",
    "        # if rate[CLAY] > 0:\n",
    "        #     print(rate[ORE] / blueprint[\"obsidian_robot_ore\"], rate[CLAY] / blueprint[\"obsidian_robot_clay\"])\n",
    "        print(q)\n",
    "        break\n",
    "\n",
    "    break"
   ]
  },
  {
   "cell_type": "code",
   "execution_count": 80,
   "id": "4a251589-a5e8-41f0-bbbc-3c81a52d45bb",
   "metadata": {},
   "outputs": [
    {
     "data": {
      "text/plain": [
       "<function numpy.full(shape, fill_value, dtype=None, order='C', *, like=None)>"
      ]
     },
     "execution_count": 80,
     "metadata": {},
     "output_type": "execute_result"
    }
   ],
   "source": [
    "np.full"
   ]
  },
  {
   "cell_type": "code",
   "execution_count": 84,
   "id": "7c17b51e-187c-4755-9b40-dd100ee4eb6e",
   "metadata": {},
   "outputs": [
    {
     "data": {
      "text/plain": [
       "20"
      ]
     },
     "execution_count": 84,
     "metadata": {},
     "output_type": "execute_result"
    }
   ],
   "source": [
    "5*4"
   ]
  },
  {
   "cell_type": "code",
   "execution_count": 93,
   "id": "301321c6-3603-4cf5-89f3-3d31eeae2a44",
   "metadata": {},
   "outputs": [
    {
     "data": {
      "text/plain": [
       "6.0"
      ]
     },
     "execution_count": 93,
     "metadata": {},
     "output_type": "execute_result"
    }
   ],
   "source": [
    "3*(3+1)/2"
   ]
  },
  {
   "cell_type": "code",
   "execution_count": null,
   "id": "9fc66deb-2e3f-4f04-9983-4d1efd4629ef",
   "metadata": {},
   "outputs": [],
   "source": []
  }
 ],
 "metadata": {
  "kernelspec": {
   "display_name": "Python 3 (ipykernel)",
   "language": "python",
   "name": "python3"
  },
  "language_info": {
   "codemirror_mode": {
    "name": "ipython",
    "version": 3
   },
   "file_extension": ".py",
   "mimetype": "text/x-python",
   "name": "python",
   "nbconvert_exporter": "python",
   "pygments_lexer": "ipython3",
   "version": "3.10.6"
  }
 },
 "nbformat": 4,
 "nbformat_minor": 5
}
