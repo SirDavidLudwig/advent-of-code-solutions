{
 "cells": [
  {
   "cell_type": "code",
   "execution_count": 5,
   "metadata": {},
   "outputs": [],
   "source": [
    "from collections import defaultdict\n",
    "import itertools\n",
    "import numpy as np"
   ]
  },
  {
   "cell_type": "code",
   "execution_count": 212,
   "metadata": {},
   "outputs": [],
   "source": [
    "p1_start = 4-1\n",
    "p2_start = 8-1"
   ]
  },
  {
   "cell_type": "code",
   "execution_count": 32,
   "metadata": {},
   "outputs": [],
   "source": [
    "pos = [p1_start-1, p2_start-1]\n",
    "scores = [0, 0]"
   ]
  },
  {
   "cell_type": "code",
   "execution_count": 33,
   "metadata": {},
   "outputs": [],
   "source": [
    "turn = 0\n",
    "value = 0\n",
    "rolls = 0\n",
    "while scores[0] < 1000 and scores[1] < 1000:\n",
    "\tmove = value+1 + value+2 + value+3\n",
    "\tpos[turn] = (pos[turn] + move) % 10\n",
    "\tscores[turn] += pos[turn]+1\n",
    "\tvalue = (value + 3) % 100\n",
    "\trolls += 3\n",
    "\tturn = int(not turn)"
   ]
  },
  {
   "cell_type": "code",
   "execution_count": 34,
   "metadata": {},
   "outputs": [
    {
     "data": {
      "text/plain": [
       "1002474"
      ]
     },
     "execution_count": 34,
     "metadata": {},
     "output_type": "execute_result"
    }
   ],
   "source": [
    "min(scores)*rolls"
   ]
  },
  {
   "cell_type": "markdown",
   "metadata": {},
   "source": [
    "___"
   ]
  },
  {
   "cell_type": "code",
   "execution_count": 8,
   "metadata": {},
   "outputs": [],
   "source": [
    "kernel = np.array([1, 3, 6, 7, 6, 3, 1], dtype=np.int64)\n",
    "rolls = np.arange(3, 10, dtype=np.int64)"
   ]
  },
  {
   "cell_type": "markdown",
   "metadata": {},
   "source": []
  },
  {
   "cell_type": "code",
   "execution_count": 784,
   "metadata": {},
   "outputs": [],
   "source": [
    "scores = np.zeros((2,10,21), dtype=np.int64)\n",
    "scores[0][p1_start][0] = 1\n",
    "scores[1][p2_start][0] = 1"
   ]
  },
  {
   "cell_type": "code",
   "execution_count": 785,
   "metadata": {},
   "outputs": [],
   "source": [
    "new_scores = np.zeros((2,10,21+10), dtype=np.int64)\n",
    "p = 0\n",
    "turns_played = 0\n",
    "split = 1\n",
    "splits = 0"
   ]
  },
  {
   "cell_type": "code",
   "execution_count": 795,
   "metadata": {},
   "outputs": [
    {
     "name": "stdout",
     "output_type": "stream",
     "text": [
      "834516\n"
     ]
    }
   ],
   "source": [
    "# while np.max(scores[0]) != 0 and np.max(scores[1]) != 0:\n",
    "new_scores[p][:,:21] = 0\n",
    "for i in range(10):\n",
    "\tpos = i+1\n",
    "\tfor j in range(21): # j is the current score\n",
    "\t\tm = scores[p][i][j]\n",
    "\t\tif m == 0:\n",
    "\t\t\tcontinue\n",
    "\t\tfor (newpos, k) in zip((i + rolls) % 10, kernel):\n",
    "\t\t\tnewscore = j+newpos+1\n",
    "\t\t\tif newscore < 21:\n",
    "\t\t\t\tsplits += m*k\n",
    "\t\t\tnew_scores[p][newpos][newscore] += m*k*split\n",
    "scores[p] = new_scores[p][:,:21]\n",
    "split = splits\n",
    "p = int(not p)\n",
    "print(split)\n",
    "turns_played += 1"
   ]
  },
  {
   "cell_type": "code",
   "execution_count": 796,
   "metadata": {},
   "outputs": [
    {
     "name": "stdout",
     "output_type": "stream",
     "text": [
      "Player 1 wins: 5092595712\n",
      "Player 2 wins: 0\n"
     ]
    }
   ],
   "source": [
    "print(\"Player 1 wins:\", np.sum(new_scores[0][:,21:]))\n",
    "print(\"Player 2 wins:\", np.sum(new_scores[1][:,21:]))"
   ]
  },
  {
   "cell_type": "code",
   "execution_count": 762,
   "metadata": {},
   "outputs": [
    {
     "name": "stdout",
     "output_type": "stream",
     "text": [
      "Player 1\n",
      "[[        0         0         0         0         0         0  40891068\n",
      "  139250664 261923868 198929520 112726728  66309840 112726728 222137964\n",
      "  407805516 523847736 573580116 384597072 145881648  23208444         0]\n",
      " [        0         0         0         0         0         0         0\n",
      "   19892952 119357712 298394280 348126660 246451572 117147384  79571808\n",
      "  117147384 254187720 417751992 576895608 498428964 298394280  69625332]\n",
      " [        0         0         0         0         0         0         0\n",
      "          0   6630984  59678856 248661900 384597072 384597072 222137964\n",
      "  112726728  66309840 112726728 222137964 401174532 464168880 365809284]\n",
      " [        0         0         0         0         0         0         0\n",
      "    3315492   3315492         0  19892952 122673204 311656248 404490024\n",
      "  301709772 185667552  79571808  43101396  76256316 185667552 281816820]\n",
      " [        0         0         0         0         0         0         0\n",
      "          0   9946476   9946476   1105164         0  39785904 159143616\n",
      "  316076904 298394280 225453456 113831892  40891068   9946476  49732380]\n",
      " [        0         0         0         0         0         0         0\n",
      "          0         0  19892952  19892952   3315492         0         0\n",
      "   66309840 179036568 229874112 225453456 135935172  54153036         0]\n",
      " [        0         0         0         0         0         0         0\n",
      "          0         0         0  23208444  23208444  13261968         0\n",
      "          0  23208444 102780252 165774600 212191488 165774600 102780252]\n",
      " [        0         0         0         0         0         0         0\n",
      "          0         0         0         0  19892952  19892952  27629100\n",
      "   19892952   3315492  19892952  66309840 135935172 225453456 229874112]\n",
      " [        0         0         0         0         0         0         0\n",
      "          0         0         0         0         0   9946476   9946476\n",
      "   46416888  59678856  49732380  19892952  50837544 113831892 225453456]\n",
      " [        0         0         0         0         0         0         0\n",
      "          0         0         0         0         0         0   3315492\n",
      "    3315492  49732380 119357712 139250664  79571808  46416888  79571808]]\n"
     ]
    }
   ],
   "source": [
    "print(\"Player 1\")\n",
    "print(scores[0])"
   ]
  },
  {
   "cell_type": "code",
   "execution_count": 757,
   "metadata": {},
   "outputs": [
    {
     "name": "stdout",
     "output_type": "stream",
     "text": [
      "\n",
      "Player 2\n",
      "[[      0       0       0   63423  380538  887922  887922  380538   63423\n",
      "        0       0       0       0       0       0       0       0       0\n",
      "        0       0       0]\n",
      " [      0       0       0       0       0  126846  443961  761076  443961\n",
      "   126846       0       0       0       0       0       0       0       0\n",
      "        0       0       0]\n",
      " [      0       0       0       0       0       0       0  147987  380538\n",
      "   380538  147987       0       0       0       0       0       0       0\n",
      "        0       0       0]\n",
      " [      0       0       0       0       0   21141       0       0       0\n",
      "   126846  190269  126846       0       0       0       0       0       0\n",
      "        0       0       0]\n",
      " [      0       0       0       0       0       0   63423   63423       0\n",
      "        0       0   63423   63423       0       0       0       0       0\n",
      "        0       0       0]\n",
      " [      0       0       0       0       0       0       0  126846  190269\n",
      "   126846       0       0       0   21141       0       0       0       0\n",
      "        0       0       0]\n",
      " [      0       0       0       0       0       0       0       0  147987\n",
      "   380538  380538  147987       0       0       0       0       0       0\n",
      "        0       0       0]\n",
      " [      0       0       0       0       0       0       0       0       0\n",
      "   126846  443961  761076  443961  126846       0       0       0       0\n",
      "        0       0       0]\n",
      " [      0       0       0       0       0       0       0       0       0\n",
      "        0   63423  380538  887922  887922  380538   63423       0       0\n",
      "        0       0       0]\n",
      " [      0       0       0       0       0       0       0       0       0\n",
      "        0       0   21141  190269  761076 1035909  761076  190269   21141\n",
      "        0       0       0]]\n"
     ]
    }
   ],
   "source": [
    "print(\"\\nPlayer 2\")\n",
    "print(scores[1])"
   ]
  },
  {
   "cell_type": "code",
   "execution_count": 551,
   "metadata": {},
   "outputs": [
    {
     "data": {
      "text/plain": [
       "array([[      0,       0,       0,       0,       0,       0,  188811,\n",
       "         642978, 1209411,  918540,  520506,  306180,  520506, 1025703,\n",
       "        1883007, 2418822, 2648457, 1775844,  673596,  107163,       0],\n",
       "       [      0,       0,       0,       0,       0,       0,       0,\n",
       "          91854,  551124, 1377810, 1607445, 1137969,  540918,  367416,\n",
       "         540918, 1173690, 1928934, 2663766, 2301453, 1377810,  321489],\n",
       "       [      0,       0,       0,       0,       0,       0,       0,\n",
       "              0,   30618,  275562, 1148175, 1775844, 1775844, 1025703,\n",
       "         520506,  306180,  520506, 1025703, 1852389, 2143260, 1689093],\n",
       "       [      0,       0,       0,       0,       0,       0,       0,\n",
       "          15309,   15309,       0,   91854,  566433, 1439046, 1867698,\n",
       "        1393119,  857304,  367416,  199017,  352107,  857304, 1301265],\n",
       "       [      0,       0,       0,       0,       0,       0,       0,\n",
       "              0,   45927,   45927,    5103,       0,  183708,  734832,\n",
       "        1459458, 1377810, 1041012,  525609,  188811,   45927,  229635],\n",
       "       [      0,       0,       0,       0,       0,       0,       0,\n",
       "              0,       0,   91854,   91854,   15309,       0,       0,\n",
       "         306180,  826686, 1061424, 1041012,  627669,  250047,       0],\n",
       "       [      0,       0,       0,       0,       0,       0,       0,\n",
       "              0,       0,       0,  107163,  107163,   61236,       0,\n",
       "              0,  107163,  474579,  765450,  979776,  765450,  474579],\n",
       "       [      0,       0,       0,       0,       0,       0,       0,\n",
       "              0,       0,       0,       0,   91854,   91854,  127575,\n",
       "          91854,   15309,   91854,  306180,  627669, 1041012, 1061424],\n",
       "       [      0,       0,       0,       0,       0,       0,       0,\n",
       "              0,       0,       0,       0,       0,   45927,   45927,\n",
       "         214326,  275562,  229635,   91854,  234738,  525609, 1041012],\n",
       "       [      0,       0,       0,       0,       0,       0,       0,\n",
       "              0,       0,       0,       0,       0,       0,   15309,\n",
       "          15309,  229635,  551124,  642978,  367416,  214326,  367416]])"
      ]
     },
     "execution_count": 551,
     "metadata": {},
     "output_type": "execute_result"
    }
   ],
   "source": [
    "scores[0]"
   ]
  },
  {
   "cell_type": "markdown",
   "metadata": {},
   "source": [
    "---"
   ]
  },
  {
   "cell_type": "code",
   "execution_count": 330,
   "metadata": {},
   "outputs": [],
   "source": [
    "nodes = [(3, 0, 1)]\n",
    "wins = 0"
   ]
  },
  {
   "cell_type": "code",
   "execution_count": 335,
   "metadata": {},
   "outputs": [
    {
     "data": {
      "text/plain": [
       "3473604"
      ]
     },
     "execution_count": 335,
     "metadata": {},
     "output_type": "execute_result"
    }
   ],
   "source": [
    "new_nodes = []\n",
    "for (pos, score, paths) in nodes:\n",
    "\tfor newpos, k in zip((pos + rolls)%10, kernel):\n",
    "\t\tnewscore = score+newpos+1\n",
    "\t\tif newscore >= 21:\n",
    "\t\t\twins += paths*k\n",
    "\t\telse:\n",
    "\t\t\tnew_nodes.append((newpos, newscore, paths*k))\n",
    "nodes = new_nodes\n",
    "wins"
   ]
  },
  {
   "cell_type": "code",
   "execution_count": 289,
   "metadata": {},
   "outputs": [
    {
     "data": {
      "text/plain": [
       "0"
      ]
     },
     "execution_count": 289,
     "metadata": {},
     "output_type": "execute_result"
    }
   ],
   "source": [
    "t = 0\n",
    "for node in nodes:\n",
    "\tif node[1] >= 21:\n",
    "\t\tt += node[2]\n",
    "t"
   ]
  },
  {
   "cell_type": "code",
   "execution_count": 287,
   "metadata": {},
   "outputs": [
    {
     "data": {
      "text/plain": [
       "343"
      ]
     },
     "execution_count": 287,
     "metadata": {},
     "output_type": "execute_result"
    }
   ],
   "source": [
    "len(nodes)"
   ]
  },
  {
   "cell_type": "markdown",
   "metadata": {},
   "source": [
    "---\n",
    "\n",
    "## Trivial"
   ]
  },
  {
   "cell_type": "code",
   "execution_count": 72,
   "metadata": {},
   "outputs": [],
   "source": [
    "nodes = []\n",
    "wins = [0, 0]((3, 0), (7, 0))\n",
    "p = 0"
   ]
  },
  {
   "cell_type": "code",
   "execution_count": 77,
   "metadata": {},
   "outputs": [
    {
     "data": {
      "text/plain": [
       "([3359232, 0], 10989675)"
      ]
     },
     "execution_count": 77,
     "metadata": {},
     "output_type": "execute_result"
    }
   ],
   "source": [
    "new_nodes = []\n",
    "for node in nodes:\n",
    "\tpos, score = node[p]\n",
    "\tother = node[int(not p)]\n",
    "\tfor a in range(1, 4):\n",
    "\t\tfor b in range(1, 4):\n",
    "\t\t\tfor c in range(1, 4):\n",
    "\t\t\t\troll = a+b+c\n",
    "\t\t\t\tnewpos = (roll + pos)%10\n",
    "\t\t\t\tnewscore = score+newpos+1\n",
    "\t\t\t\tif newscore >= 21:\n",
    "\t\t\t\t\twins[p] += 1\n",
    "\t\t\t\telif p == 0:\n",
    "\t\t\t\t\tnew_nodes.append(((newpos, newscore), other))\n",
    "\t\t\t\telse:\n",
    "\t\t\t\t\tnew_nodes.append((other, (newpos, newscore)))\n",
    "nodes = new_nodes\n",
    "p = int(not p)\n",
    "wins, len(nodes)"
   ]
  },
  {
   "cell_type": "markdown",
   "metadata": {},
   "source": [
    "---\n",
    "\n",
    "## Dictionary Trivial"
   ]
  },
  {
   "cell_type": "code",
   "execution_count": 78,
   "metadata": {},
   "outputs": [],
   "source": [
    "nodes = {((3, 0), (7, 0)): 1}\n",
    "wins = [0, 0]\n",
    "p = 0"
   ]
  },
  {
   "cell_type": "code",
   "execution_count": 83,
   "metadata": {},
   "outputs": [
    {
     "data": {
      "text/plain": [
       "([3359232, 0], 5439)"
      ]
     },
     "execution_count": 83,
     "metadata": {},
     "output_type": "execute_result"
    }
   ],
   "source": [
    "new_nodes = defaultdict(int)\n",
    "for node in nodes:\n",
    "\tpos, score = node[p]\n",
    "\tother = node[int(not p)]\n",
    "\tfor _ in range(nodes[node]):\n",
    "\t\tfor a in range(1, 4):\n",
    "\t\t\tfor b in range(1, 4):\n",
    "\t\t\t\tfor c in range(1, 4):\n",
    "\t\t\t\t\troll = a+b+c\n",
    "\t\t\t\t\tnewpos = (roll + pos)%10\n",
    "\t\t\t\t\tnewscore = score+newpos+1\n",
    "\t\t\t\t\tif newscore >= 21:\n",
    "\t\t\t\t\t\twins[p] += 1\n",
    "\t\t\t\t\telif p == 0:\n",
    "\t\t\t\t\t\tnew_nodes[((newpos, newscore), other)] += 1\n",
    "\t\t\t\t\telse:\n",
    "\t\t\t\t\t\tnew_nodes[(other, (newpos, newscore))] += 1\n",
    "nodes = new_nodes\n",
    "p = int(not p)\n",
    "wins, len(nodes)"
   ]
  },
  {
   "cell_type": "markdown",
   "metadata": {},
   "source": [
    "---\n",
    "\n",
    "## Multiplicative Dictionary Trivial"
   ]
  },
  {
   "cell_type": "code",
   "execution_count": 84,
   "metadata": {},
   "outputs": [],
   "source": [
    "p1_start = 5\n",
    "p2_start = 6\n",
    "\n",
    "nodes = {((p1_start-1, 0), (p2_start-1, 0)): 1}\n",
    "wins = [0, 0]\n",
    "p = 0"
   ]
  },
  {
   "cell_type": "code",
   "execution_count": 85,
   "metadata": {},
   "outputs": [
    {
     "data": {
      "text/plain": [
       "([919758187195363, 635572886949720], 0)"
      ]
     },
     "execution_count": 85,
     "metadata": {},
     "output_type": "execute_result"
    }
   ],
   "source": [
    "while len(nodes) > 0:\n",
    "\tnew_nodes = defaultdict(int)\n",
    "\tfor node in nodes:\n",
    "\t\tpos, score = node[p]\n",
    "\t\tother = node[int(not p)]\n",
    "\t\tm = nodes[node]\n",
    "\t\tfor a in range(1, 4):\n",
    "\t\t\tfor b in range(1, 4):\n",
    "\t\t\t\tfor c in range(1, 4):\n",
    "\t\t\t\t\troll = a+b+c\n",
    "\t\t\t\t\tnewpos = (roll + pos)%10\n",
    "\t\t\t\t\tnewscore = score+newpos+1\n",
    "\t\t\t\t\tif newscore >= 21:\n",
    "\t\t\t\t\t\twins[p] += m\n",
    "\t\t\t\t\telif p == 0:\n",
    "\t\t\t\t\t\tnew_nodes[((newpos, newscore), other)] += m\n",
    "\t\t\t\t\telse:\n",
    "\t\t\t\t\t\tnew_nodes[(other, (newpos, newscore))] += m\n",
    "\tnodes = new_nodes\n",
    "\tp = int(not p)\n",
    "wins, len(nodes)"
   ]
  },
  {
   "cell_type": "code",
   "execution_count": 904,
   "metadata": {},
   "outputs": [
    {
     "data": {
      "text/plain": [
       "919758187195363"
      ]
     },
     "execution_count": 904,
     "metadata": {},
     "output_type": "execute_result"
    }
   ],
   "source": [
    "np.max(wins)"
   ]
  },
  {
   "cell_type": "code",
   "execution_count": 886,
   "metadata": {},
   "outputs": [
    {
     "data": {
      "text/plain": [
       "False"
      ]
     },
     "execution_count": 886,
     "metadata": {},
     "output_type": "execute_result"
    }
   ],
   "source": [
    "911090395997650 > 919758187195363"
   ]
  },
  {
   "cell_type": "markdown",
   "metadata": {},
   "source": [
    "---\n",
    "\n",
    "## Multiplicative Dictionary Reduced"
   ]
  },
  {
   "cell_type": "code",
   "execution_count": 95,
   "metadata": {},
   "outputs": [],
   "source": [
    "p1_start = 5\n",
    "p2_start = 6\n",
    "\n",
    "nodes = {((p1_start-1, 0), (p2_start-1, 0)): 1}\n",
    "wins = [0, 0]\n",
    "p = 0"
   ]
  },
  {
   "cell_type": "code",
   "execution_count": 96,
   "metadata": {},
   "outputs": [
    {
     "data": {
      "text/plain": [
       "([919758187195363, 635572886949720], 0)"
      ]
     },
     "execution_count": 96,
     "metadata": {},
     "output_type": "execute_result"
    }
   ],
   "source": [
    "while len(nodes) > 0:\n",
    "\tnew_nodes = defaultdict(int)\n",
    "\tfor node in nodes:\n",
    "\t\tpos, score = node[p]\n",
    "\t\tother = node[int(not p)]\n",
    "\t\tm = nodes[node]\n",
    "\t\tfor (newpos, k) in zip((pos + rolls) % 10, kernel):\n",
    "\t\t\tnewscore = score+newpos+1\n",
    "\t\t\tif newscore >= 21:\n",
    "\t\t\t\twins[p] += m*k\n",
    "\t\t\telif p == 0:\n",
    "\t\t\t\tnew_nodes[((newpos, newscore), other)] += m*k\n",
    "\t\t\telse:\n",
    "\t\t\t\tnew_nodes[(other, (newpos, newscore))] += m*k\n",
    "\tnodes = new_nodes\n",
    "\tp = int(not p)\n",
    "wins, len(nodes)"
   ]
  },
  {
   "cell_type": "code",
   "execution_count": null,
   "metadata": {},
   "outputs": [],
   "source": []
  },
  {
   "cell_type": "code",
   "execution_count": 19,
   "metadata": {},
   "outputs": [
    {
     "data": {
      "text/plain": [
       "919758187195363"
      ]
     },
     "execution_count": 19,
     "metadata": {},
     "output_type": "execute_result"
    }
   ],
   "source": [
    "np.max(wins)"
   ]
  },
  {
   "cell_type": "markdown",
   "metadata": {},
   "source": [
    "---\n",
    "## Split State-space"
   ]
  },
  {
   "cell_type": "code",
   "execution_count": 249,
   "metadata": {},
   "outputs": [],
   "source": [
    "p1_start = 4\n",
    "p2_start = 8\n",
    "\n",
    "nodes = [\n",
    "\t{(p1_start-1, 0): 1},\n",
    "\t{(p2_start-1, 0): 1}\n",
    "]\n",
    "splits = [1, 1]\n",
    "wins = [0, 0]\n",
    "num_splits = 1\n",
    "p = 0"
   ]
  },
  {
   "cell_type": "code",
   "execution_count": 248,
   "metadata": {},
   "outputs": [
    {
     "name": "stdout",
     "output_type": "stream",
     "text": [
      "112995\n"
     ]
    },
    {
     "data": {
      "text/plain": [
       "([5235678, 0], 5439)"
      ]
     },
     "execution_count": 248,
     "metadata": {},
     "output_type": "execute_result"
    }
   ],
   "source": [
    "# while num_splits > 0:\n",
    "new_nodes = defaultdict(int)\n",
    "new_splits = 0\n",
    "for node in nodes[p]:\n",
    "\tpos, score = node\n",
    "\tm = nodes[p][node]\n",
    "\n",
    "\tfor (newpos, k) in zip((pos + rolls) % 10, kernel):\n",
    "\t\tnewscore = score+newpos+1\n",
    "\t\tif newscore >= 21:\n",
    "\t\t\twins[p] += m*k\n",
    "\t\telse:\n",
    "\t\t\tnew_splits += m*k\n",
    "\t\t\tnew_nodes[(newpos, newscore)] += m*k\n",
    "nodes[p] = new_nodes\n",
    "num_splits = new_splits\n",
    "p = int(not p)\n",
    "print(num_splits)\n",
    "wins, len(nodes[0])*len(nodes[1])"
   ]
  },
  {
   "cell_type": "code",
   "execution_count": null,
   "metadata": {},
   "outputs": [],
   "source": []
  },
  {
   "cell_type": "code",
   "execution_count": null,
   "metadata": {},
   "outputs": [],
   "source": []
  }
 ],
 "metadata": {
  "interpreter": {
   "hash": "916dbcbb3f70747c44a77c7bcd40155683ae19c65e1c03b4aa3499c5328201f1"
  },
  "kernelspec": {
   "display_name": "Python 3 (ipykernel)",
   "language": "python",
   "name": "python3"
  },
  "language_info": {
   "codemirror_mode": {
    "name": "ipython",
    "version": 3
   },
   "file_extension": ".py",
   "mimetype": "text/x-python",
   "name": "python",
   "nbconvert_exporter": "python",
   "pygments_lexer": "ipython3",
   "version": "3.10.6"
  }
 },
 "nbformat": 4,
 "nbformat_minor": 4
}
