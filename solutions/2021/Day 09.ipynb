{
 "cells": [
  {
   "cell_type": "markdown",
   "metadata": {},
   "source": [
    "# Advent of Code 2021"
   ]
  },
  {
   "cell_type": "code",
   "execution_count": 73,
   "metadata": {},
   "outputs": [],
   "source": [
    "from collections import defaultdict\n",
    "import matplotlib.pyplot as plt\n",
    "import numpy as np\n",
    "import queue\n",
    "\n",
    "import common"
   ]
  },
  {
   "cell_type": "markdown",
   "metadata": {},
   "source": [
    "## Day 9: Smoke Basin\n",
    "\n",
    "### Part 1:\n",
    "\n",
    "These caves seem to be lava tubes. Parts are even still volcanically active; small hydrothermal vents release smoke into the caves that slowly settles like rain.\n",
    "\n",
    "If you can model how the smoke flows through the caves, you might be able to avoid it and be that much safer. The submarine generates a heightmap of the floor of the nearby caves for you (your puzzle input).\n",
    "\n",
    "Smoke flows to the lowest point of the area it's in. For example, consider the following heightmap:\n",
    "\n",
    "```\n",
    "2199943210\n",
    "3987894921\n",
    "9856789892\n",
    "8767896789\n",
    "9899965678\n",
    "```\n",
    "\n",
    "Each number corresponds to the height of a particular location, where `9` is the highest and `0` is the lowest a location can be.\n",
    "\n",
    "Your first goal is to find the **low points** - the locations that are lower than any of its adjacent locations. Most locations have four adjacent locations (up, down, left, and right); locations on the edge or corner of the map have three or two adjacent locations, respectively. (Diagonal locations do not count as adjacent.)\n",
    "\n",
    "In the above example, there are **four** low points, all highlighted: two are in the first row (a `1` and a `0`), one is in the third row (a `5`), and one is in the bottom row (also a `5`). All other locations on the heightmap have some lower adjacent location, and so are not low points.\n",
    "\n",
    "The **risk level** of a low point is **1 plus its height**. In the above example, the risk levels of the low points are `2`, `1`, `6`, and `6`. The sum of the risk levels of all low points in the heightmap is therefore `15`.\n",
    "\n",
    "Find all of the low points on your heightmap. **What is the sum of the risk levels of all low points on your heightmap?**"
   ]
  },
  {
   "cell_type": "code",
   "execution_count": 112,
   "metadata": {},
   "outputs": [
    {
     "data": {
      "text/plain": [
       "(102, 102)"
      ]
     },
     "execution_count": 112,
     "metadata": {},
     "output_type": "execute_result"
    }
   ],
   "source": [
    "with open(\"./private/2021/09.in\") as f:\n",
    "\theightmap = [[int(i) for i in line.strip()] for line in f]\n",
    "heightmap = np.pad(np.array(heightmap), 1, constant_values=10)\n",
    "heightmap.shape"
   ]
  },
  {
   "cell_type": "code",
   "execution_count": 113,
   "metadata": {},
   "outputs": [],
   "source": [
    "rows, cols = [], []\n",
    "for i in range(1, heightmap.shape[0] - 1):\n",
    "\tfor j in range(1, heightmap.shape[1] - 1):\n",
    "\t\tindices = i+np.array([-1, 0, 0, 1]), j+np.array([0, -1, 1, 0])\n",
    "\t\tif np.all(heightmap[i,j] < heightmap[indices]):\n",
    "\t\t\trows.append(i)\n",
    "\t\t\tcols.append(j)\n",
    "rows, cols = np.array([rows, cols])"
   ]
  },
  {
   "cell_type": "code",
   "execution_count": 114,
   "metadata": {},
   "outputs": [
    {
     "data": {
      "text/plain": [
       "(array([  1,   1,   1,   1,   2,   2,   2,   2,   3,   3,   4,   4,   4,\n",
       "          4,   5,   5,   5,   6,   6,   7,   7,   7,   7,   8,   8,  10,\n",
       "         10,  11,  11,  11,  11,  11,  12,  12,  13,  13,  13,  14,  15,\n",
       "         15,  16,  16,  16,  17,  18,  18,  19,  19,  19,  20,  20,  23,\n",
       "         23,  23,  23,  25,  25,  25,  25,  25,  26,  26,  26,  27,  28,\n",
       "         28,  29,  29,  30,  31,  31,  32,  32,  32,  33,  34,  35,  35,\n",
       "         35,  35,  35,  36,  36,  37,  37,  38,  39,  39,  40,  41,  42,\n",
       "         42,  42,  43,  43,  44,  44,  45,  45,  45,  46,  46,  46,  48,\n",
       "         48,  48,  50,  50,  50,  50,  50,  51,  51,  51,  51,  52,  52,\n",
       "         55,  55,  55,  56,  56,  57,  57,  57,  57,  58,  58,  59,  59,\n",
       "         59,  59,  60,  60,  60,  60,  61,  63,  63,  64,  64,  65,  65,\n",
       "         65,  65,  66,  66,  67,  68,  69,  69,  70,  70,  71,  72,  72,\n",
       "         73,  74,  74,  74,  74,  75,  75,  76,  76,  76,  77,  78,  78,\n",
       "         79,  79,  80,  80,  80,  81,  81,  82,  82,  82,  83,  84,  84,\n",
       "         84,  84,  85,  86,  86,  86,  87,  89,  90,  90,  91,  91,  91,\n",
       "         92,  93,  94,  94,  94,  95,  95,  95,  95,  95,  96,  97,  98,\n",
       "         98,  98,  99, 100, 100, 100, 100, 100, 100]),\n",
       " array([ 15,  61,  69,  91,   1,   5,  37,  85,  26,  66,  45,  54,  79,\n",
       "         98,  20,  60,  89,  13,  84,   9,  26,  62,  67,  14,  93,   8,\n",
       "        100,  33,  37,  53,  60,  72,  28,  46,   1,  18,  85,  90,  12,\n",
       "         78,  35,  57,  66,  42,  50,  97,   1,   7,  18,  28,  82,   3,\n",
       "         38,  65,  85,  10,  51,  59,  73, 100,  60,  83,  90,  65,  19,\n",
       "         27,   6,  11,  43,  35,  94,  72,  78,  85,  28,  56,   8,  14,\n",
       "         24,  50, 100,   1,  90,  29,  67,  76,  38,  44,  27,  85,   4,\n",
       "         16,  57,  33,  93,  41,  78,  56,  62, 100,  24,  47,  71,   9,\n",
       "         90,  96,   4,  16,  35,  42,  68,  26,  54,  71, 100,  57,  81,\n",
       "         31,  76,  92,  67,  98,  20,  27,  49,  61,   9,  40,   2,  27,\n",
       "         36,  55,  45,  78,  85, 100,  32,  17,  94,  26,  38,  13,  46,\n",
       "         62, 100,  57,  71,   2,  41,  77,  87,  19,  55,  93,  31,  67,\n",
       "         42,  12,  38,  72,  80,  23,  50,   4,  90,  98,  18,  45,  78,\n",
       "          8,  58,  27,  69,  83,   3, 100,  15,  34,  96,  64,  49,  55,\n",
       "         79,  91,  40,   9,  22,  73,  61,  30,  58,  93,  40,  51,  83,\n",
       "         64,   2,  16,  46,  58,  10,  29,  69,  87,  99,  35,  54,  76,\n",
       "         86,  94,  24,   3,   9,  41,  49,  63,  99]))"
      ]
     },
     "execution_count": 114,
     "metadata": {},
     "output_type": "execute_result"
    }
   ],
   "source": [
    "rows, cols"
   ]
  },
  {
   "cell_type": "code",
   "execution_count": 115,
   "metadata": {},
   "outputs": [
    {
     "data": {
      "text/plain": [
       "486"
      ]
     },
     "execution_count": 115,
     "metadata": {},
     "output_type": "execute_result"
    }
   ],
   "source": [
    "risk = np.sum(heightmap[rows,cols]+1)\n",
    "risk"
   ]
  },
  {
   "cell_type": "markdown",
   "metadata": {},
   "source": [
    "### Part 2:\n",
    "\n",
    "Next, you need to find the largest basins so you know what areas are most important to avoid.\n",
    "\n",
    "A **basin** is all locations that eventually flow downward to a single low point. Therefore, every low point has a basin, although some basins are very small. Locations of height `9` do not count as being in any basin, and all other locations will always be part of exactly one basin.\n",
    "\n",
    "The **size** of a basin is the number of locations within the basin, including the low point. The example above has four basins.\n",
    "\n",
    "The top-left basin, size `3`:\n",
    "\n",
    "```\n",
    "2199943210\n",
    "3987894921\n",
    "9856789892\n",
    "8767896789\n",
    "9899965678\n",
    "```\n",
    "\n",
    "The top-right basin, size `9`:\n",
    "\n",
    "```\n",
    "2199943210\n",
    "3987894921\n",
    "9856789892\n",
    "8767896789\n",
    "9899965678\n",
    "```\n",
    "\n",
    "The middle basin, size `14`:\n",
    "\n",
    "```\n",
    "2199943210\n",
    "3987894921\n",
    "9856789892\n",
    "8767896789\n",
    "9899965678\n",
    "```\n",
    "\n",
    "The bottom-right basin, size `9`:\n",
    "\n",
    "```\n",
    "2199943210\n",
    "3987894921\n",
    "9856789892\n",
    "8767896789\n",
    "9899965678\n",
    "```\n",
    "\n",
    "Find the three largest basins and multiply their sizes together. In the above example, this is `9 * 14 * 9 = **1134`.\n",
    "\n",
    "**What do you get if you multiply together the sizes of the three largest basins?**"
   ]
  },
  {
   "cell_type": "code",
   "execution_count": 116,
   "metadata": {},
   "outputs": [],
   "source": [
    "q = queue.Queue()\n",
    "\n",
    "sizes = []\n",
    "for i in range(len(rows)):\n",
    "\tq.put((rows[i], cols[i]))\n",
    "\n",
    "\tsearch_map = heightmap.copy()\n",
    "\twhile not q.empty():\n",
    "\t\ti,j = q.get()\n",
    "\t\tsearch_map[i,j] = 11\n",
    "\t\tfor index in [(i-1, j), (i, j-1), (i, j+1), (i+1, j)]:\n",
    "\t\t\tif search_map[index] < 9:\n",
    "\t\t\t\tq.put(index)\n",
    "\tsizes.append(np.sum(search_map == 11))\n",
    "sizes = np.array(sizes)"
   ]
  },
  {
   "cell_type": "code",
   "execution_count": 117,
   "metadata": {},
   "outputs": [
    {
     "data": {
      "text/plain": [
       "1059300"
      ]
     },
     "execution_count": 117,
     "metadata": {},
     "output_type": "execute_result"
    }
   ],
   "source": [
    "np.product(sizes[np.argpartition(sizes, -3)[-3:]])"
   ]
  },
  {
   "cell_type": "code",
   "execution_count": null,
   "metadata": {},
   "outputs": [],
   "source": []
  }
 ],
 "metadata": {
  "interpreter": {
   "hash": "0f595d3fc34ed11edbc38d9dec2a54c03fa2bf2c415ca6a655d899d5167c3720"
  },
  "kernelspec": {
   "display_name": "Python 3.9.5 64-bit ('base': conda)",
   "language": "python",
   "name": "python3"
  },
  "language_info": {
   "codemirror_mode": {
    "name": "ipython",
    "version": 3
   },
   "file_extension": ".py",
   "mimetype": "text/x-python",
   "name": "python",
   "nbconvert_exporter": "python",
   "pygments_lexer": "ipython3",
   "version": "3.9.5"
  },
  "orig_nbformat": 4
 },
 "nbformat": 4,
 "nbformat_minor": 2
}
