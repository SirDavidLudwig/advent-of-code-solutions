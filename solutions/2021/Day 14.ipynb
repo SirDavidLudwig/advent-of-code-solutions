{
 "cells": [
  {
   "cell_type": "markdown",
   "metadata": {},
   "source": [
    "# Advent of Code 2021"
   ]
  },
  {
   "cell_type": "code",
   "execution_count": 175,
   "metadata": {},
   "outputs": [],
   "source": [
    "from collections import defaultdict\n",
    "import matplotlib.pyplot as plt\n",
    "import numpy as np\n",
    "import queue\n",
    "\n",
    "import common"
   ]
  },
  {
   "cell_type": "markdown",
   "metadata": {},
   "source": [
    "## Day 14: Extended Polymerization\n",
    "\n",
    "### Part 1:\n",
    "\n",
    "The incredible pressures at this depth are starting to put a strain on your submarine. The submarine has polymerization equipment that would produce suitable materials to reinforce the submarine, and the nearby volcanically-active caves should even have the necessary input elements in sufficient quantities.\n",
    "\n",
    "The submarine manual contains  OH\">instructions for finding the optimal polymer formula; specifically, it offers a **polymer template** and a list of **pair insertion** rules (your puzzle input). You just need to work out what polymer would result after repeating the pair insertion process a few times.\n",
    "\n",
    "For example:\n",
    "\n",
    "```\n",
    "NNCB\n",
    "\n",
    "CH -> B\n",
    "HH -> N\n",
    "CB -> H\n",
    "NH -> C\n",
    "HB -> C\n",
    "HC -> B\n",
    "HN -> C\n",
    "NN -> C\n",
    "BH -> H\n",
    "NC -> B\n",
    "NB -> B\n",
    "BN -> B\n",
    "BB -> N\n",
    "BC -> B\n",
    "CC -> N\n",
    "CN -> C\n",
    "```\n",
    "\n",
    "The first line is the **polymer template** - this is the starting point of the process.\n",
    "\n",
    "The following section defines the **pair insertion** rules. A rule like `AB -> C` means that when elements `A` and `B` are immediately adjacent, element `C` should be inserted between them. These insertions all happen simultaneously.\n",
    "\n",
    "So, starting with the polymer template `NNCB`, the first step simultaneously considers all three pairs:\n",
    "\n",
    "- The first pair (`NN`) matches the rule `NN -> C`, so element `C` is inserted between the first `N` and the second `N`.\n",
    "- The second pair (`NC`) matches the rule `NC -> B`, so element `B` is inserted between the `N` and the `C`.\n",
    "- The third pair (`CB`) matches the rule `CB -> H`, so element `H` is inserted between the `C` and the `B`.\n",
    "\n",
    "Note that these pairs overlap: the second element of one pair is the first element of the next pair. Also, because all pairs are considered simultaneously, inserted elements are not considered to be part of a pair until the next step.\n",
    "\n",
    "After the first step of this process, the polymer becomes `N**C**N**B**C**H**B`.\n",
    "\n",
    "Here are the results of a few steps using the above rules:\n",
    "\n",
    "```\n",
    "Template:     NNCB\n",
    "After step 1: NCNBCHB\n",
    "After step 2: NBCCNBBBCBHCB\n",
    "After step 3: NBBBCNCCNBBNBNBBCHBHHBCHB\n",
    "After step 4: NBBNBNBBCCNBCNCCNBBNBBNBBBNBBNBBCBHCBHHNHCBBCBHCB\n",
    "```\n",
    "\n",
    "This polymer grows quickly. After step 5, it has length 97; After step 10, it has length 3073. After step 10, `B` occurs 1749 times, `C` occurs 298 times, `H` occurs 161 times, and `N` occurs 865 times; taking the quantity of the most common element (`B`, 1749) and subtracting the quantity of the least common element (`H`, 161) produces `1749 - 161 = **1588`.\n",
    "\n",
    "Apply 10 steps of pair insertion to the polymer template and find the most and least common elements in the result. **What do you get if you take the quantity of the most common element and subtract the quantity of the least common element?**"
   ]
  },
  {
   "cell_type": "code",
   "execution_count": 165,
   "metadata": {},
   "outputs": [],
   "source": [
    "rules = {}\n",
    "with open(\"./private/2021/14.in\") as f:\n",
    "\ttemplate = f.readline().strip()\n",
    "\tf.readline()\n",
    "\tfor line in f:\n",
    "\t\tk, v = line.strip().split(\" -> \")\n",
    "\t\trules[k] = v"
   ]
  },
  {
   "cell_type": "code",
   "execution_count": 169,
   "metadata": {},
   "outputs": [],
   "source": [
    "polymer = defaultdict(int)\n",
    "for i in range(1, len(template), 1):\n",
    "\tpolymer[template[i-1:i+1]] += 1"
   ]
  },
  {
   "cell_type": "code",
   "execution_count": 173,
   "metadata": {},
   "outputs": [],
   "source": [
    "char_counts = defaultdict(int)\n",
    "for c in template:\n",
    "\tchar_counts[c] += 1"
   ]
  },
  {
   "cell_type": "code",
   "execution_count": 163,
   "metadata": {},
   "outputs": [],
   "source": [
    "for _ in range(40):\n",
    "\tnewpolymer = defaultdict(int)\n",
    "\tfor pair, count in polymer.items():\n",
    "\t\tnewpolymer[pair] = count\n",
    "\n",
    "\tfor pair in polymer:\n",
    "\t\tleft = pair[0] + rules[pair]\n",
    "\t\tright = rules[pair] + pair[1]\n",
    "\n",
    "\t\tchar_counts[rules[pair]] += polymer[pair]\n",
    "\n",
    "\t\tnewpolymer[pair] = 0\n",
    "\t\tnewpolymer[left] += polymer[pair]\n",
    "\t\tnewpolymer[right] += polymer[pair]\n",
    "\n",
    "\tpolymer = newpolymer"
   ]
  },
  {
   "cell_type": "code",
   "execution_count": 159,
   "metadata": {},
   "outputs": [
    {
     "name": "stdout",
     "output_type": "stream",
     "text": [
      "2651311098752\n"
     ]
    }
   ],
   "source": [
    "counts = np.array(list(char_counts.values()))\n",
    "print(np.max(counts) - np.min(counts))"
   ]
  },
  {
   "cell_type": "markdown",
   "metadata": {},
   "source": [
    "### Part 2:\n",
    "\n",
    "The resulting polymer isn't nearly strong enough to reinforce the submarine. You'll need to run more steps of the pair insertion process; a total of **40 steps** should do it.\n",
    "\n",
    "In the above example, the most common element is `B` (occurring `2192039569602` times) and the least common element is `H` (occurring `3849876073` times); subtracting these produces `2188189693529`.\n",
    "\n",
    "Apply **40** steps of pair insertion to the polymer template and find the most and least common elements in the result. **What do you get if you take the quantity of the most common element and subtract the quantity of the least common element?**"
   ]
  },
  {
   "cell_type": "code",
   "execution_count": 168,
   "metadata": {},
   "outputs": [
    {
     "data": {
      "text/plain": [
       "3"
      ]
     },
     "execution_count": 168,
     "metadata": {},
     "output_type": "execute_result"
    }
   ],
   "source": []
  },
  {
   "cell_type": "code",
   "execution_count": null,
   "metadata": {},
   "outputs": [],
   "source": []
  }
 ],
 "metadata": {
  "interpreter": {
   "hash": "0f595d3fc34ed11edbc38d9dec2a54c03fa2bf2c415ca6a655d899d5167c3720"
  },
  "kernelspec": {
   "display_name": "Python 3 (ipykernel)",
   "language": "python",
   "name": "python3"
  },
  "language_info": {
   "codemirror_mode": {
    "name": "ipython",
    "version": 3
   },
   "file_extension": ".py",
   "mimetype": "text/x-python",
   "name": "python",
   "nbconvert_exporter": "python",
   "pygments_lexer": "ipython3",
   "version": "3.9.5"
  }
 },
 "nbformat": 4,
 "nbformat_minor": 4
}
