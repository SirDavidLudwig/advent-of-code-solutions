{
 "cells": [
  {
   "cell_type": "markdown",
   "metadata": {},
   "source": [
    "# Advent of Code 2021"
   ]
  },
  {
   "cell_type": "code",
   "execution_count": 1,
   "metadata": {},
   "outputs": [],
   "source": [
    "from collections import defaultdict\n",
    "import matplotlib.pyplot as plt\n",
    "import numpy as np\n",
    "\n",
    "import common"
   ]
  },
  {
   "cell_type": "markdown",
   "metadata": {},
   "source": [
    "## Day 8: Seven Segment Search\n",
    "\n",
    "### Part 1:\n",
    "\n",
    "You barely reach the safety of the cave when the whale smashes into the cave mouth, collapsing it. Sensors indicate another exit to this cave at a much greater depth, so you have no choice but to press on.\n",
    "\n",
    "As your submarine slowly makes its way through the cave system, you notice that the four-digit seven-segment displays in your submarine are malfunctioning; they must have been damaged during the escape. You'll be in a lot of trouble without them, so you'd better figure out what's wrong.\n",
    "\n",
    "Each digit of a seven-segment display is rendered by turning on or off any of seven segments named `a` through `g`:\n",
    "\n",
    "```\n",
    "0:      1:      2:      3:      4:\n",
    " aaaa    ....    aaaa    aaaa    ....\n",
    "b    c  .    c  .    c  .    c  b    c\n",
    "b    c  .    c  .    c  .    c  b    c\n",
    " ....    ....    dddd    dddd    dddd\n",
    "e    f  .    f  e    .  .    f  .    f\n",
    "e    f  .    f  e    .  .    f  .    f\n",
    " gggg    ....    gggg    gggg    ....\n",
    "\n",
    "  5:      6:      7:      8:      9:\n",
    " aaaa    aaaa    aaaa    aaaa    aaaa\n",
    "b    .  b    .  .    c  b    c  b    c\n",
    "b    .  b    .  .    c  b    c  b    c\n",
    " dddd    dddd    ....    dddd    dddd\n",
    ".    f  e    f  .    f  e    f  .    f\n",
    ".    f  e    f  .    f  e    f  .    f\n",
    " gggg    gggg    ....    gggg    gggg\n",
    "```\n",
    "\n",
    "So, to render a `1`, only segments `c` and `f` would be turned on; the rest would be off. To render a `7`, only segments `a`, `c`, and `f` would be turned on.\n",
    "\n",
    "The problem is that the signals which control the segments have been mixed up on each display. The submarine is still trying to display numbers by producing output on signal wires `a` through `g`, but those wires are connected to segments **randomly**. Worse, the wire/segment connections are mixed up separately for each four-digit display! (All of the digits **within** a display use the same connections, though.)\n",
    "\n",
    "So, you might know that only signal wires `b` and `g` are turned on, but that doesn't mean **segments** `b` and `g` are turned on: the only digit that uses two segments is `1`, so it must mean segments `c` and `f` are meant to be on. With just that information, you still can't tell which wire (`b`/`g`) goes to which segment (`c`/`f`). For that, you'll need to collect more information.\n",
    "\n",
    "For each display, you watch the changing signals for a while, make a note of **all ten unique signal patterns** you see, and then write down a single **four digit output value** (your puzzle input). Using the signal patterns, you should be able to work out which pattern corresponds to which digit.\n",
    "\n",
    "For example, here is what you might see in a single entry in your notes:\n",
    "\n",
    "```\n",
    "acedgfb cdfbe gcdfa fbcad dab cefabd cdfgeb eafb cagedb ab |\n",
    "cdfeb fcadb cdfeb cdbaf\n",
    "```\n",
    "\n",
    "(The entry is wrapped here to two lines so it fits; in your notes, it will all be on a single line.)\n",
    "\n",
    "Each entry consists of ten **unique signal patterns**, a `|` delimiter, and finally the **four digit output value**. Within an entry, the same wire/segment connections are used (but you don't know what the connections actually are). The unique signal patterns correspond to the ten different ways the submarine tries to render a digit using the current wire/segment connections. Because `7` is the only digit that uses three segments, `dab` in the above example means that to render a `7`, signal lines `d`, `a`, and `b` are on. Because `4` is the only digit that uses four segments, `eafb` means that to render a `4`, signal lines `e`, `a`, `f`, and `b` are on.\n",
    "\n",
    "Using this information, you should be able to work out which combination of signal wires corresponds to each of the ten digits. Then, you can decode the four digit output value. Unfortunately, in the above example, all of the digits in the output value (`cdfeb fcadb cdfeb cdbaf`) use five segments and are more difficult to deduce.\n",
    "\n",
    "For now, **focus on the easy digits**. Consider this larger example:\n",
    "\n",
    "```\n",
    "be cfbegad cbdgef fgaecd cgeb fdcge agebfd fecdb fabcd edb |\n",
    "fdgacbe cefdb cefbgd gcbe\n",
    "edbfga begcd cbg gc gcadebf fbgde acbgfd abcde gfcbed gfec |\n",
    "fcgedb cgb dgebacf gc\n",
    "fgaebd cg bdaec gdafb agbcfd gdcbef bgcad gfac gcb cdgabef |\n",
    "cg cg fdcagb cbg\n",
    "fbegcd cbd adcefb dageb afcb bc aefdc ecdab fgdeca fcdbega |\n",
    "efabcd cedba gadfec cb\n",
    "aecbfdg fbg gf bafeg dbefa fcge gcbea fcaegb dgceab fcbdga |\n",
    "gecf egdcabf bgf bfgea\n",
    "fgeab ca afcebg bdacfeg cfaedg gcfdb baec bfadeg bafgc acf |\n",
    "gebdcfa ecba ca fadegcb\n",
    "dbcfg fgd bdegcaf fgec aegbdf ecdfab fbedc dacgb gdcebf gf |\n",
    "cefg dcbef fcge gbcadfe\n",
    "bdfegc cbegaf gecbf dfcage bdacg ed bedf ced adcbefg gebcd |\n",
    "ed bcgafe cdgba cbgef\n",
    "egadfb cdbfeg cegd fecab cgb gbdefca cg fgcdab egfdb bfceg |\n",
    "gbdfcae bgc cg cgb\n",
    "gcafb gcf dcaebfg ecagb gf abcdeg gaef cafbge fdbac fegbdc |\n",
    "fgae cfgab fg bagce\n",
    "```\n",
    "\n",
    "Because the digits `1`, `4`, `7`, and `8` each use a unique number of segments, you should be able to tell which combinations of signals correspond to those digits. Counting **only digits in the output values** (the part after `|` on each line), in the above example, there are `26` instances of digits that use a unique number of segments (highlighted above).\n",
    "\n",
    "**In the output values, how many times do digits `1`, `4`, `7`, or `8` appear?**"
   ]
  },
  {
   "cell_type": "code",
   "execution_count": 45,
   "metadata": {},
   "outputs": [],
   "source": [
    "test_input = \"\"\"be cfbegad cbdgef fgaecd cgeb fdcge agebfd fecdb fabcd edb | fdgacbe cefdb cefbgd gcbe\n",
    "edbfga begcd cbg gc gcadebf fbgde acbgfd abcde gfcbed gfec | fcgedb cgb dgebacf gc\n",
    "fgaebd cg bdaec gdafb agbcfd gdcbef bgcad gfac gcb cdgabef | cg cg fdcagb cbg\n",
    "fbegcd cbd adcefb dageb afcb bc aefdc ecdab fgdeca fcdbega | efabcd cedba gadfec cb\n",
    "aecbfdg fbg gf bafeg dbefa fcge gcbea fcaegb dgceab fcbdga | gecf egdcabf bgf bfgea\n",
    "fgeab ca afcebg bdacfeg cfaedg gcfdb baec bfadeg bafgc acf | gebdcfa ecba ca fadegcb\n",
    "dbcfg fgd bdegcaf fgec aegbdf ecdfab fbedc dacgb gdcebf gf | cefg dcbef fcge gbcadfe\n",
    "bdfegc cbegaf gecbf dfcage bdacg ed bedf ced adcbefg gebcd | ed bcgafe cdgba cbgef\n",
    "egadfb cdbfeg cegd fecab cgb gbdefca cg fgcdab egfdb bfceg | gbdfcae bgc cg cgb\n",
    "gcafb gcf dcaebfg ecagb gf abcdeg gaef cafbge fdbac fegbdc | fgae cfgab fg bagce\n",
    "\"\"\".strip()"
   ]
  },
  {
   "cell_type": "code",
   "execution_count": 54,
   "metadata": {},
   "outputs": [
    {
     "data": {
      "text/plain": [
       "200"
      ]
     },
     "execution_count": 54,
     "metadata": {},
     "output_type": "execute_result"
    }
   ],
   "source": [
    "entries = []\n",
    "with open(\"./private/2021/08.in\") as f:\n",
    "\tfor line in f:\n",
    "\t\tpatterns, digits = line.split(\" | \")\n",
    "\t\tpattern_sets = [set([c for c in pattern]) for pattern in patterns.split()]\n",
    "\t\tdigit_sets = [set([c for c in pattern]) for pattern in digits.split()]\n",
    "\t\tentries.append((pattern_sets, digit_sets))\n",
    "len(entries)"
   ]
  },
  {
   "cell_type": "code",
   "execution_count": 55,
   "metadata": {},
   "outputs": [
    {
     "data": {
      "text/plain": [
       "367"
      ]
     },
     "execution_count": 55,
     "metadata": {},
     "output_type": "execute_result"
    }
   ],
   "source": [
    "total = 0\n",
    "for entry in entries:\n",
    "\ttotal += sum([1 for digit in entry[1] if len(digit) in (2, 4, 3, 7)])\n",
    "total"
   ]
  },
  {
   "cell_type": "markdown",
   "metadata": {},
   "source": [
    "### Part 2:\n",
    "\n",
    "Through a little deduction, you should now be able to determine the remaining digits. Consider again the first example above:\n",
    "\n",
    "```\n",
    "acedgfb cdfbe gcdfa fbcad dab cefabd cdfgeb eafb cagedb ab |\n",
    "cdfeb fcadb cdfeb cdbaf\n",
    "```\n",
    "\n",
    "After some careful analysis, the mapping between signal wires and segments only make sense in the following configuration:\n",
    "\n",
    "```\n",
    " dddd\n",
    "e    a\n",
    "e    a\n",
    " ffff\n",
    "g    b\n",
    "g    b\n",
    " cccc\n",
    "```\n",
    "\n",
    "So, the unique signal patterns would correspond to the following digits:\n",
    "\n",
    "- `acedgfb`: `8`\n",
    "- `cdfbe`: `5`\n",
    "- `gcdfa`: `2`\n",
    "- `fbcad`: `3`\n",
    "- `dab`: `7`\n",
    "- `cefabd`: `9`\n",
    "- `cdfgeb`: `6`\n",
    "- `eafb`: `4`\n",
    "- `cagedb`: `0`\n",
    "- `ab`: `1`\n",
    "\n",
    "Then, the four digits of the output value can be decoded:\n",
    "\n",
    "- `cdfeb`: `5`\n",
    "- `fcadb`: `3`\n",
    "- `cdfeb`: `5`\n",
    "- `cdbaf`: `3`\n",
    "\n",
    "Therefore, the output value for this entry is `5353`.\n",
    "\n",
    "Following this same process for each entry in the second, larger example above, the output value of each entry can be determined:\n",
    "\n",
    "- `fdgacbe cefdb cefbgd gcbe`: `8394`\n",
    "- `fcgedb cgb dgebacf gc`: `9781`\n",
    "- `cg cg fdcagb cbg`: `1197`\n",
    "- `efabcd cedba gadfec cb`: `9361`\n",
    "- `gecf egdcabf bgf bfgea`: `4873`\n",
    "- `gebdcfa ecba ca fadegcb`: `8418`\n",
    "- `cefg dcbef fcge gbcadfe`: `4548`\n",
    "- `ed bcgafe cdgba cbgef`: `1625`\n",
    "- `gbdfcae bgc cg cgb`: `8717`\n",
    "- `fgae cfgab fg bagce`: `4315`\n",
    "\n",
    "Adding all of the output values in this larger example produces `61229`.\n",
    "\n",
    "For each entry, determine all of the wire/segment connections and decode the four-digit output values. **What do you get if you add up all of the output values?**"
   ]
  },
  {
   "cell_type": "code",
   "execution_count": 56,
   "metadata": {},
   "outputs": [],
   "source": [
    "digit_segments = {\n",
    "\t0: set(['a', 'b', 'c', 'e', 'f', 'g']),\n",
    "\t1: set(['c', 'f']),\n",
    "\t2: set(['a', 'c', 'd', 'e', 'g']),\n",
    "\t3: set(['a', 'c', 'd', 'f', 'g']),\n",
    "\t4: set(['b', 'c', 'd', 'f']),\n",
    "\t5: set(['a', 'b', 'd', 'f', 'g']),\n",
    "\t6: set(['a', 'b', 'd', 'e', 'f', 'g']),\n",
    "\t7: set(['a', 'c', 'f']),\n",
    "\t8: set(['a', 'b', 'c', 'd', 'e', 'f', 'g']),\n",
    "\t9: set(['a', 'b', 'c', 'd', 'f', 'g'])\n",
    "}"
   ]
  },
  {
   "cell_type": "code",
   "execution_count": 57,
   "metadata": {},
   "outputs": [],
   "source": [
    "def search(entry, mapping=None, choices=set(['a', 'b', 'c', 'd', 'e', 'f', 'g'])):\n",
    "\tif mapping is None:\n",
    "\t\tmapping = {}\n",
    "\tif len(mapping) == 7:\n",
    "\t\tfor digit in entry[0]:\n",
    "\t\t\ttest = set([mapping[c] for c in digit])\n",
    "\t\t\tif test not in digit_segments.values():\n",
    "\t\t\t\treturn None\n",
    "\t\treturn mapping\n",
    "\tm = chr(ord('a') + len(mapping))\n",
    "\tfor c in choices:\n",
    "\t\tmapping[c] = m\n",
    "\t\tresult = search(entry, mapping, choices - set(c))\n",
    "\t\tif result is not None:\n",
    "\t\t\treturn result\n",
    "\t\tdel mapping[c]"
   ]
  },
  {
   "cell_type": "code",
   "execution_count": 65,
   "metadata": {},
   "outputs": [
    {
     "name": "stdout",
     "output_type": "stream",
     "text": [
      "Total: 974512\n"
     ]
    }
   ],
   "source": [
    "total = 0\n",
    "for i, entry in enumerate(entries):\n",
    "\tprint(f\"\\r{i+1}/{len(entries)}\", end=\"\")\n",
    "\tmapping = search(entry)\n",
    "\tnumber = \"\"\n",
    "\tfor digit in entry[1]:\n",
    "\t\tmapped_digit = set([mapping[c] for c in digit])\n",
    "\t\tfor d in digit_segments:\n",
    "\t\t\tif digit_segments[d] == mapped_digit:\n",
    "\t\t\t\tnumber += str(d)\n",
    "\t\t\t\tbreak\n",
    "\tassert len(number) == 4\n",
    "\ttotal += int(number)\n",
    "print(\"\\rTotal:\", total)"
   ]
  }
 ],
 "metadata": {
  "interpreter": {
   "hash": "0f595d3fc34ed11edbc38d9dec2a54c03fa2bf2c415ca6a655d899d5167c3720"
  },
  "kernelspec": {
   "display_name": "Python 3.9.5 64-bit ('base': conda)",
   "language": "python",
   "name": "python3"
  },
  "language_info": {
   "codemirror_mode": {
    "name": "ipython",
    "version": 3
   },
   "file_extension": ".py",
   "mimetype": "text/x-python",
   "name": "python",
   "nbconvert_exporter": "python",
   "pygments_lexer": "ipython3",
   "version": "3.9.5"
  },
  "orig_nbformat": 4
 },
 "nbformat": 4,
 "nbformat_minor": 2
}
