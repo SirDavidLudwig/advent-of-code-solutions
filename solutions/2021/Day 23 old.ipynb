{
 "cells": [
  {
   "cell_type": "code",
   "execution_count": 10,
   "metadata": {},
   "outputs": [],
   "source": [
    "from collections import defaultdict\n",
    "import itertools\n",
    "import numpy as np\n",
    "\n",
    "import common"
   ]
  },
  {
   "cell_type": "code",
   "execution_count": 31,
   "metadata": {},
   "outputs": [],
   "source": [
    "maze = np.zeros((5,13), dtype=np.int32)\n",
    "# with open(\"./private/2021/23.in\") as f:\n",
    "with open(\"./private/2021/23_sample.in\") as f:\n",
    "\tfor i, line in enumerate(f):\n",
    "\t\tfor j, c in enumerate(line.rstrip()):\n",
    "\t\t\tif c == '#':\n",
    "\t\t\t\tmaze[i][j] = 9"
   ]
  },
  {
   "cell_type": "code",
   "execution_count": 33,
   "metadata": {},
   "outputs": [
    {
     "data": {
      "text/plain": [
       "array([[9, 9, 9, 9, 9, 9, 9, 9, 9, 9, 9, 9, 9],\n",
       "       [9, 0, 0, 0, 0, 0, 0, 0, 0, 0, 0, 0, 9],\n",
       "       [9, 9, 9, 0, 9, 0, 9, 0, 9, 0, 9, 9, 9],\n",
       "       [0, 0, 9, 0, 9, 0, 9, 0, 9, 0, 9, 0, 0],\n",
       "       [0, 0, 9, 9, 9, 9, 9, 9, 9, 9, 9, 0, 0]])"
      ]
     },
     "execution_count": 33,
     "metadata": {},
     "output_type": "execute_result"
    }
   ],
   "source": [
    "maze"
   ]
  },
  {
   "cell_type": "code",
   "execution_count": null,
   "metadata": {},
   "outputs": [],
   "source": [
    "maze = np.array()"
   ]
  },
  {
   "cell_type": "code",
   "execution_count": null,
   "metadata": {},
   "outputs": [],
   "source": [
    "class Agent:"
   ]
  },
  {
   "cell_type": "code",
   "execution_count": null,
   "metadata": {},
   "outputs": [],
   "source": [
    "positions = []"
   ]
  },
  {
   "cell_type": "code",
   "execution_count": null,
   "metadata": {},
   "outputs": [],
   "source": [
    "agents = [\n",
    "\t[]\n",
    "]"
   ]
  }
 ],
 "metadata": {
  "interpreter": {
   "hash": "0f595d3fc34ed11edbc38d9dec2a54c03fa2bf2c415ca6a655d899d5167c3720"
  },
  "kernelspec": {
   "display_name": "Python 3 (ipykernel)",
   "language": "python",
   "name": "python3"
  },
  "language_info": {
   "codemirror_mode": {
    "name": "ipython",
    "version": 3
   },
   "file_extension": ".py",
   "mimetype": "text/x-python",
   "name": "python",
   "nbconvert_exporter": "python",
   "pygments_lexer": "ipython3",
   "version": "3.10.6"
  }
 },
 "nbformat": 4,
 "nbformat_minor": 4
}
