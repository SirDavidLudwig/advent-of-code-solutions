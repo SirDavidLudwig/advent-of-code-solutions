{
 "cells": [
  {
   "cell_type": "markdown",
   "metadata": {},
   "source": [
    "# Advent of Code 2021"
   ]
  },
  {
   "cell_type": "code",
   "execution_count": 1,
   "metadata": {},
   "outputs": [],
   "source": [
    "from collections import defaultdict\n",
    "import heapq\n",
    "import matplotlib.pyplot as plt\n",
    "import numpy as np\n",
    "import queue\n",
    "import re\n",
    "\n",
    "import common"
   ]
  },
  {
   "cell_type": "markdown",
   "metadata": {},
   "source": [
    "## Day 17: Trick Shot\n",
    "\n",
    "### Part 1:\n",
    "\n",
    "You finally decode the Elves' message. `HI`, the message says. You continue searching for the sleigh keys.\n",
    "\n",
    "Ahead of you is what appears to be a large ocean trench. Could the keys have fallen into it? You'd better send a probe to investigate.\n",
    "\n",
    "The probe launcher on your submarine can fire the probe with any integer velocity in the `x` (forward) and `y` (upward, or downward if negative) directions. For example, an initial `x,y` velocity like `0,10` would fire the probe straight up, while an initial velocity like `10,-1` would fire the probe forward at a slight downward angle.\n",
    "\n",
    "The probe's `x,y` position starts at `0,0`. Then, it will follow some trajectory by moving in **steps**. On each step, these changes occur in the following order:\n",
    "\n",
    "- The probe's `x` position increases by its `x` velocity.\n",
    "- The probe's `y` position increases by its `y` velocity.\n",
    "- Due to drag, the probe's `x` velocity changes by `1` toward the value `0`; that is, it decreases by `1` if it is greater than `0`, increases by `1` if it is less than `0`, or does not change if it is already `0`.\n",
    "- Due to gravity, the probe's `y` velocity decreases by `1`.\n",
    "\n",
    "For the probe to successfully make it into the trench, the probe must be on some trajectory that causes it to be within a **target area** after any step. The submarine computer has already calculated this target area (your puzzle input). For example:\n",
    "\n",
    "```\n",
    "target area: x=20..30, y=-10..-5\n",
    "```\n",
    "\n",
    "This target area means that you need to find initial `x,y` velocity values such that after any step, the probe's `x` position is at least `20` and at most `30`, **and** the probe's `y` position is at least `-10` and at most `-5`.\n",
    "\n",
    "Given this target area, one initial velocity that causes the probe to be within the target area after any step is `7,2`:\n",
    "\n",
    "```\n",
    ".............#....#............\n",
    ".......#..............#........\n",
    "...............................\n",
    "S........................#.....\n",
    "...............................\n",
    "...............................\n",
    "...........................#...\n",
    "...............................\n",
    "....................TTTTTTTTTTT\n",
    "....................TTTTTTTTTTT\n",
    "....................TTTTTTTT#TT\n",
    "....................TTTTTTTTTTT\n",
    "....................TTTTTTTTTTT\n",
    "....................TTTTTTTTTTT\n",
    "```\n",
    "\n",
    "In this diagram, `S` is the probe's initial position, `0,0`. The `x` coordinate increases to the right, and the `y` coordinate increases upward. In the bottom right, positions that are within the target area are shown as `T`. After each step (until the target area is reached), the position of the probe is marked with `#`. (The bottom-right `#` is both a position the probe reaches and a position in the target area.)\n",
    "\n",
    "Another initial velocity that causes the probe to be within the target area after any step is `6,3`:\n",
    "\n",
    "```\n",
    "...............#..#............\n",
    "...........#........#..........\n",
    "...............................\n",
    "......#..............#.........\n",
    "...............................\n",
    "...............................\n",
    "S....................#.........\n",
    "...............................\n",
    "...............................\n",
    "...............................\n",
    ".....................#.........\n",
    "....................TTTTTTTTTTT\n",
    "....................TTTTTTTTTTT\n",
    "....................TTTTTTTTTTT\n",
    "....................TTTTTTTTTTT\n",
    "....................T#TTTTTTTTT\n",
    "....................TTTTTTTTTTT\n",
    "```\n",
    "\n",
    "Another one is `9,0`:\n",
    "\n",
    "```\n",
    "S........#.....................\n",
    ".................#.............\n",
    "...............................\n",
    "........................#......\n",
    "...............................\n",
    "....................TTTTTTTTTTT\n",
    "....................TTTTTTTTTT#\n",
    "....................TTTTTTTTTTT\n",
    "....................TTTTTTTTTTT\n",
    "....................TTTTTTTTTTT\n",
    "....................TTTTTTTTTTT\n",
    "```\n",
    "\n",
    "One initial velocity that **doesn't** cause the probe to be within the target area after any step is `17,-4`:\n",
    "\n",
    "```\n",
    "S..............................................................\n",
    "...............................................................\n",
    "...............................................................\n",
    "...............................................................\n",
    ".................#.............................................\n",
    "....................TTTTTTTTTTT................................\n",
    "....................TTTTTTTTTTT................................\n",
    "....................TTTTTTTTTTT................................\n",
    "....................TTTTTTTTTTT................................\n",
    "....................TTTTTTTTTTT..#.............................\n",
    "....................TTTTTTTTTTT................................\n",
    "...............................................................\n",
    "...............................................................\n",
    "...............................................................\n",
    "...............................................................\n",
    "................................................#..............\n",
    "...............................................................\n",
    "...............................................................\n",
    "...............................................................\n",
    "...............................................................\n",
    "...............................................................\n",
    "...............................................................\n",
    "..............................................................#\n",
    "```\n",
    "\n",
    "The probe appears to pass through the target area, but is never within it after any step. Instead, it continues down and to the right - only the first few steps are shown.\n",
    "\n",
    "If you're going to fire a highly scientific probe out of a super cool probe launcher, you might as well do it with **style**. How high can you make the probe go while still reaching the target area?\n",
    "\n",
    "In the above example, using an initial velocity of `6,9` is the best you can do, causing the probe to reach a maximum `y` position of `45`. (Any higher initial `y` velocity causes the probe to overshoot the target area entirely.)\n",
    "\n",
    "Find the initial velocity that causes the probe to reach the highest `y` position and still eventually be within the target area after any step. **What is the highest `y` position it reaches on this trajectory?**"
   ]
  },
  {
   "cell_type": "code",
   "execution_count": 80,
   "metadata": {},
   "outputs": [],
   "source": [
    "with open(\"./private/2021/17.in\") as f:\n",
    "\tline = f.readline().strip()\n",
    "\tvalues = re.findall(r\"x=(-?\\d+)\\.\\.(-?\\d+), y=(-?\\d+)\\.\\.(-?\\d+)\", line)[0]\n",
    "\tx_target = np.array(list(map(int, values[:2])))\n",
    "\ty_target = np.array(list(map(int, values[2:])))"
   ]
  },
  {
   "cell_type": "code",
   "execution_count": 81,
   "metadata": {},
   "outputs": [],
   "source": [
    "def rx(x_vel, n):\n",
    "\tn -= 1\n",
    "\txn = min(n, x_vel)\n",
    "\treturn x_vel + xn*x_vel - xn*(xn+1)//2\n",
    "\n",
    "def ry(y_vel, n):\n",
    "\tn -= 1\n",
    "\treturn y_vel + n*y_vel - n*(n+1)//2"
   ]
  },
  {
   "cell_type": "code",
   "execution_count": 82,
   "metadata": {},
   "outputs": [],
   "source": [
    "# Reverse one time step from target to locate position y=0\n",
    "init_y_vel = -(y_target[0] + 1)"
   ]
  },
  {
   "cell_type": "code",
   "execution_count": 83,
   "metadata": {},
   "outputs": [
    {
     "data": {
      "text/plain": [
       "7626"
      ]
     },
     "execution_count": 83,
     "metadata": {},
     "output_type": "execute_result"
    }
   ],
   "source": [
    "ry(init_y_vel, init_y_vel)"
   ]
  },
  {
   "cell_type": "markdown",
   "metadata": {},
   "source": [
    "### Part 2:\n",
    "\n",
    "Maybe a fancy trick shot isn't the best idea; after all, you only have one probe, so you had better not miss.\n",
    "\n",
    "To get the best idea of what your options are for launching the probe, you need to find **every initial velocity** that causes the probe to eventually be within the target area after any step.\n",
    "\n",
    "In the above example, there are `112` different initial velocity values that meet these criteria:\n",
    "\n",
    "```\n",
    "23,-10  25,-9   27,-5   29,-6   22,-6   21,-7   9,0     27,-7   24,-5\n",
    "25,-7   26,-6   25,-5   6,8     11,-2   20,-5   29,-10  6,3     28,-7\n",
    "8,0     30,-6   29,-8   20,-10  6,7     6,4     6,1     14,-4   21,-6\n",
    "26,-10  7,-1    7,7     8,-1    21,-9   6,2     20,-7   30,-10  14,-3\n",
    "20,-8   13,-2   7,3     28,-8   29,-9   15,-3   22,-5   26,-8   25,-8\n",
    "25,-6   15,-4   9,-2    15,-2   12,-2   28,-9   12,-3   24,-6   23,-7\n",
    "25,-10  7,8     11,-3   26,-7   7,1     23,-9   6,0     22,-10  27,-6\n",
    "8,1     22,-8   13,-4   7,6     28,-6   11,-4   12,-4   26,-9   7,4\n",
    "24,-10  23,-8   30,-8   7,0     9,-1    10,-1   26,-5   22,-9   6,5\n",
    "7,5     23,-6   28,-10  10,-2   11,-1   20,-9   14,-2   29,-7   13,-3\n",
    "23,-5   24,-8   27,-9   30,-7   28,-5   21,-10  7,9     6,6     21,-5\n",
    "27,-10  7,2     30,-9   21,-8   22,-7   24,-9   20,-6   6,9     29,-5\n",
    "8,-2    27,-8   30,-5   24,-7\n",
    "```\n",
    "\n",
    "**How many distinct initial velocity values cause the probe to be within the target area after any step?**"
   ]
  },
  {
   "cell_type": "markdown",
   "metadata": {},
   "source": [
    "### Brute-force approach\n",
    "\n",
    "Quick and easy..."
   ]
  },
  {
   "cell_type": "code",
   "execution_count": 201,
   "metadata": {},
   "outputs": [
    {
     "data": {
      "text/plain": [
       "2032"
      ]
     },
     "execution_count": 201,
     "metadata": {},
     "output_type": "execute_result"
    }
   ],
   "source": [
    "max_n = 1\n",
    "while ry(init_y_vel, max_n) >= 0:\n",
    "\tmax_n += 1\n",
    "\n",
    "velocities = set()\n",
    "valid_y = set()\n",
    "for n in range(1, max_n+1):\n",
    "\tfor x_vel in range(1, x_target[1]+1):\n",
    "\t\tif not (x_target[0] <= rx(x_vel, n) <= x_target[1]):\n",
    "\t\t\tcontinue\n",
    "\t\tfor y_vel in range(y_target[0], -(y_target[0] + 1)+1):\n",
    "\t\t\tif y_target[0] <= ry(y_vel, n) <= y_target[1]:\n",
    "\t\t\t\tvelocities.add((x_vel, y_vel))\n",
    "\t\t\t\tvalid_y.add((y_vel, n))\n",
    "len(velocities)"
   ]
  },
  {
   "cell_type": "markdown",
   "metadata": {},
   "source": [
    "---\n",
    "### Efficient Approach\n",
    "\n",
    "This works by first efficiently determining the possible y velocities with their corresponding timesteps that have the potential to land in the target."
   ]
  },
  {
   "cell_type": "code",
   "execution_count": 213,
   "metadata": {},
   "outputs": [
    {
     "data": {
      "text/plain": [
       "234"
      ]
     },
     "execution_count": 213,
     "metadata": {},
     "output_type": "execute_result"
    }
   ],
   "source": [
    "valid_y_vel = defaultdict(list)\n",
    "min_y_vel = y_target[0]\n",
    "max_y_vel = -(y_target[0] + 1)\n",
    "min_n = 1\n",
    "\n",
    "for y_vel in range(min_y_vel, max_y_vel+1):\n",
    "\ty = ry(y_vel, min_n)\n",
    "\twhile y > y_target[1]:\n",
    "\t\tmin_n += 1\n",
    "\t\ty = ry(y_vel, min_n)\n",
    "\tn = min_n\n",
    "\twhile y >= y_target[0]:\n",
    "\t\tvalid_y_vel[y_vel].append(n)\n",
    "\t\tn += 1\n",
    "\t\ty = ry(y_vel, n)\n",
    "len(valid_y_vel)"
   ]
  },
  {
   "cell_type": "markdown",
   "metadata": {},
   "source": [
    "From the possible y velocity values at specific time steps, find corresponding x velocity values."
   ]
  },
  {
   "cell_type": "code",
   "execution_count": 214,
   "metadata": {},
   "outputs": [
    {
     "data": {
      "text/plain": [
       "2032"
      ]
     },
     "execution_count": 214,
     "metadata": {},
     "output_type": "execute_result"
    }
   ],
   "source": [
    "valid_init_vel = set()\n",
    "max_x_vel = x_target[1]\n",
    "for y_vel in valid_y_vel:\n",
    "\tmin_n = valid_y_vel[y_vel][0]\n",
    "\twhile rx(max_x_vel, min_n) > x_target[1]:\n",
    "\t\tmax_x_vel -= 1\n",
    "\tfor n in valid_y_vel[y_vel]:\n",
    "\t\tx_vel = max_x_vel\n",
    "\t\twhile rx(x_vel, n) >= x_target[0]:\n",
    "\t\t\tif rx(x_vel, n) <= x_target[1]:\n",
    "\t\t\t\tvalid_init_vel.add((x_vel, y_vel))\n",
    "\t\t\tx_vel -= 1\n",
    "len(valid_init_vel)"
   ]
  }
 ],
 "metadata": {
  "interpreter": {
   "hash": "0f595d3fc34ed11edbc38d9dec2a54c03fa2bf2c415ca6a655d899d5167c3720"
  },
  "kernelspec": {
   "display_name": "Python 3 (ipykernel)",
   "language": "python",
   "name": "python3"
  },
  "language_info": {
   "codemirror_mode": {
    "name": "ipython",
    "version": 3
   },
   "file_extension": ".py",
   "mimetype": "text/x-python",
   "name": "python",
   "nbconvert_exporter": "python",
   "pygments_lexer": "ipython3",
   "version": "3.9.5"
  }
 },
 "nbformat": 4,
 "nbformat_minor": 4
}
