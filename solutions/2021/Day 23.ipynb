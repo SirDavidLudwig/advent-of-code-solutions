{
 "cells": [
  {
   "cell_type": "markdown",
   "id": "403f76ee-148a-4489-a261-4d60fde4b7c6",
   "metadata": {},
   "source": [
    "<div style=\"background-color: rgb(15, 15, 35); border: 1px solid rgb(255, 255, 255); color: rgb(204, 204, 204); font-family: monospace; margin-left: -5px; margin-right: -20px; padding: 1rem;\"><h2 style=\"border-color: rgb(255, 255, 255); color: rgb(255, 255, 255);\">--- Day 23: Amphipod ---</h2><p style=\"border-color: rgb(204, 204, 204); color: rgb(204, 204, 204);\">A group of <a href=\"https://en.wikipedia.org/wiki/Amphipoda\" target=\"_blank\" style=\"border-color: rgb(0, 153, 0); color: rgb(0, 153, 0);\">amphipods</a> notice your fancy submarine and flag you down. \"With such an impressive shell,\" one amphipod <span title=\"What? You didn't know amphipods can talk?\" style=\"border-color: rgb(204, 204, 204); color: rgb(204, 204, 204);\">says</span>, \"surely you can help us with a question that has stumped our best scientists.\"</p>\n",
    "<p style=\"border-color: rgb(204, 204, 204); color: rgb(204, 204, 204);\">They go on to explain that a group of timid, stubborn amphipods live in a nearby burrow. Four types of amphipods live there: <em style=\"border-color: rgb(255, 255, 255); color: rgb(255, 255, 255); text-shadow: rgb(255, 255, 255) 0px 0px 5px;\">Amber</em> (<code style=\"border: 1px solid rgb(51, 51, 64); color: rgb(204, 204, 204); background: rgb(16, 16, 26);\">A</code>), <em style=\"border-color: rgb(255, 255, 255); color: rgb(255, 255, 255); text-shadow: rgb(255, 255, 255) 0px 0px 5px;\">Bronze</em> (<code style=\"border: 1px solid rgb(51, 51, 64); color: rgb(204, 204, 204); background: rgb(16, 16, 26);\">B</code>), <em style=\"border-color: rgb(255, 255, 255); color: rgb(255, 255, 255); text-shadow: rgb(255, 255, 255) 0px 0px 5px;\">Copper</em> (<code style=\"border: 1px solid rgb(51, 51, 64); color: rgb(204, 204, 204); background: rgb(16, 16, 26);\">C</code>), and <em style=\"border-color: rgb(255, 255, 255); color: rgb(255, 255, 255); text-shadow: rgb(255, 255, 255) 0px 0px 5px;\">Desert</em> (<code style=\"border: 1px solid rgb(51, 51, 64); color: rgb(204, 204, 204); background: rgb(16, 16, 26);\">D</code>). They live in a burrow that consists of a <em style=\"border-color: rgb(255, 255, 255); color: rgb(255, 255, 255); text-shadow: rgb(255, 255, 255) 0px 0px 5px;\">hallway</em> and four <em style=\"border-color: rgb(255, 255, 255); color: rgb(255, 255, 255); text-shadow: rgb(255, 255, 255) 0px 0px 5px;\">side rooms</em>. The side rooms are initially full of amphipods, and the hallway is initially empty.</p>\n",
    "<p style=\"border-color: rgb(204, 204, 204); color: rgb(204, 204, 204);\">They give you a <em style=\"border-color: rgb(255, 255, 255); color: rgb(255, 255, 255); text-shadow: rgb(255, 255, 255) 0px 0px 5px;\">diagram of the situation</em> (your puzzle input), including locations of each amphipod (<code style=\"border: 1px solid rgb(51, 51, 64); color: rgb(204, 204, 204); background: rgb(16, 16, 26);\">A</code>, <code style=\"border: 1px solid rgb(51, 51, 64); color: rgb(204, 204, 204); background: rgb(16, 16, 26);\">B</code>, <code style=\"border: 1px solid rgb(51, 51, 64); color: rgb(204, 204, 204); background: rgb(16, 16, 26);\">C</code>, or <code style=\"border: 1px solid rgb(51, 51, 64); color: rgb(204, 204, 204); background: rgb(16, 16, 26);\">D</code>, each of which is occupying an otherwise open space), walls (<code style=\"border: 1px solid rgb(51, 51, 64); color: rgb(204, 204, 204); background: rgb(16, 16, 26);\">#</code>), and open space (<code style=\"border: 1px solid rgb(51, 51, 64); color: rgb(204, 204, 204); background: rgb(16, 16, 26);\">.</code>).</p>\n",
    "<p style=\"border-color: rgb(204, 204, 204); color: rgb(204, 204, 204);\">For example:</p>\n",
    "<pre style=\"border: 1px solid rgb(51, 51, 64); color: rgb(204, 204, 204); display: inline-block;\"><code style=\"border-color: rgb(204, 204, 204); color: rgb(204, 204, 204);\">#############\n",
    "#...........#\n",
    "###B#C#B#D###\n",
    "  #A#D#C#A#\n",
    "  #########\n",
    "</code></pre>\n",
    "<p style=\"border-color: rgb(204, 204, 204); color: rgb(204, 204, 204);\">The amphipods would like a method to organize every amphipod into side rooms so that each side room contains one type of amphipod and the types are sorted <code style=\"border: 1px solid rgb(51, 51, 64); color: rgb(204, 204, 204); background: rgb(16, 16, 26);\">A</code>-<code style=\"border: 1px solid rgb(51, 51, 64); color: rgb(204, 204, 204); background: rgb(16, 16, 26);\">D</code> going left to right, like this:</p>\n",
    "<pre style=\"border: 1px solid rgb(51, 51, 64); color: rgb(204, 204, 204); display: inline-block;\"><code style=\"border-color: rgb(204, 204, 204); color: rgb(204, 204, 204);\">#############\n",
    "#...........#\n",
    "###A#B#C#D###\n",
    "  #A#B#C#D#\n",
    "  #########\n",
    "</code></pre>\n",
    "<p style=\"border-color: rgb(204, 204, 204); color: rgb(204, 204, 204);\">Amphipods can move up, down, left, or right so long as they are moving into an unoccupied open space. Each type of amphipod requires a different amount of <em style=\"border-color: rgb(255, 255, 255); color: rgb(255, 255, 255); text-shadow: rgb(255, 255, 255) 0px 0px 5px;\">energy</em> to move one step: Amber amphipods require <code style=\"border: 1px solid rgb(51, 51, 64); color: rgb(204, 204, 204); background: rgb(16, 16, 26);\">1</code> energy per step, Bronze amphipods require <code style=\"border: 1px solid rgb(51, 51, 64); color: rgb(204, 204, 204); background: rgb(16, 16, 26);\">10</code> energy, Copper amphipods require <code style=\"border: 1px solid rgb(51, 51, 64); color: rgb(204, 204, 204); background: rgb(16, 16, 26);\">100</code>, and Desert ones require <code style=\"border: 1px solid rgb(51, 51, 64); color: rgb(204, 204, 204); background: rgb(16, 16, 26);\">1000</code>. The amphipods would like you to find a way to organize the amphipods that requires the <em style=\"border-color: rgb(255, 255, 255); color: rgb(255, 255, 255); text-shadow: rgb(255, 255, 255) 0px 0px 5px;\">least total energy</em>.</p>\n",
    "<p style=\"border-color: rgb(204, 204, 204); color: rgb(204, 204, 204);\">However, because they are timid and stubborn, the amphipods have some extra rules:</p>\n",
    "<ul style=\"border-color: rgb(204, 204, 204); color: rgb(204, 204, 204);\">\n",
    "<li style=\"border-color: rgb(204, 204, 204); color: rgb(204, 204, 204);\">Amphipods will never <em style=\"border-color: rgb(255, 255, 255); color: rgb(255, 255, 255); text-shadow: rgb(255, 255, 255) 0px 0px 5px;\">stop on the space immediately outside any room</em>. They can move into that space so long as they immediately continue moving. (Specifically, this refers to the four open spaces in the hallway that are directly above an amphipod starting position.)</li>\n",
    "<li style=\"border-color: rgb(204, 204, 204); color: rgb(204, 204, 204);\">Amphipods will never <em style=\"border-color: rgb(255, 255, 255); color: rgb(255, 255, 255); text-shadow: rgb(255, 255, 255) 0px 0px 5px;\">move from the hallway into a room</em> unless that room is their destination room <em style=\"border-color: rgb(255, 255, 255); color: rgb(255, 255, 255); text-shadow: rgb(255, 255, 255) 0px 0px 5px;\">and</em> that room contains no amphipods which do not also have that room as their own destination. If an amphipod's starting room is not its destination room, it can stay in that room until it leaves the room. (For example, an Amber amphipod will not move from the hallway into the right three rooms, and will only move into the leftmost room if that room is empty or if it only contains other Amber amphipods.)</li>\n",
    "<li style=\"border-color: rgb(204, 204, 204); color: rgb(204, 204, 204);\">Once an amphipod stops moving in the hallway, <em style=\"border-color: rgb(255, 255, 255); color: rgb(255, 255, 255); text-shadow: rgb(255, 255, 255) 0px 0px 5px;\">it will stay in that spot until it can move into a room</em>. (That is, once any amphipod starts moving, any other amphipods currently in the hallway are locked in place and will not move again until they can move fully into a room.)</li>\n",
    "</ul>\n",
    "<p style=\"border-color: rgb(204, 204, 204); color: rgb(204, 204, 204);\">In the above example, the amphipods can be organized using a minimum of <code style=\"border: 1px solid rgb(51, 51, 64); color: rgb(204, 204, 204); background: rgb(16, 16, 26);\"><em style=\"border-color: rgb(255, 255, 255); color: rgb(255, 255, 255); text-shadow: rgb(255, 255, 255) 0px 0px 5px;\">12521</em></code> energy. One way to do this is shown below.</p>\n",
    "<p style=\"border-color: rgb(204, 204, 204); color: rgb(204, 204, 204);\">Starting configuration:</p>\n",
    "<pre style=\"border: 1px solid rgb(51, 51, 64); color: rgb(204, 204, 204); display: inline-block;\"><code style=\"border-color: rgb(204, 204, 204); color: rgb(204, 204, 204);\">#############\n",
    "#...........#\n",
    "###B#C#B#D###\n",
    "  #A#D#C#A#\n",
    "  #########\n",
    "</code></pre>\n",
    "<p style=\"border-color: rgb(204, 204, 204); color: rgb(204, 204, 204);\">One Bronze amphipod moves into the hallway, taking 4 steps and using <code style=\"border: 1px solid rgb(51, 51, 64); color: rgb(204, 204, 204); background: rgb(16, 16, 26);\">40</code> energy:</p>\n",
    "<pre style=\"border: 1px solid rgb(51, 51, 64); color: rgb(204, 204, 204); display: inline-block;\"><code style=\"border-color: rgb(204, 204, 204); color: rgb(204, 204, 204);\">#############\n",
    "#...B.......#\n",
    "###B#C#.#D###\n",
    "  #A#D#C#A#\n",
    "  #########\n",
    "</code></pre>\n",
    "<p style=\"border-color: rgb(204, 204, 204); color: rgb(204, 204, 204);\">The only Copper amphipod not in its side room moves there, taking 4 steps and using <code style=\"border: 1px solid rgb(51, 51, 64); color: rgb(204, 204, 204); background: rgb(16, 16, 26);\">400</code> energy:</p>\n",
    "<pre style=\"border: 1px solid rgb(51, 51, 64); color: rgb(204, 204, 204); display: inline-block;\"><code style=\"border-color: rgb(204, 204, 204); color: rgb(204, 204, 204);\">#############\n",
    "#...B.......#\n",
    "###B#.#C#D###\n",
    "  #A#D#C#A#\n",
    "  #########\n",
    "</code></pre>\n",
    "<p style=\"border-color: rgb(204, 204, 204); color: rgb(204, 204, 204);\">A Desert amphipod moves out of the way, taking 3 steps and using <code style=\"border: 1px solid rgb(51, 51, 64); color: rgb(204, 204, 204); background: rgb(16, 16, 26);\">3000</code> energy, and then the Bronze amphipod takes its place, taking 3 steps and using <code style=\"border: 1px solid rgb(51, 51, 64); color: rgb(204, 204, 204); background: rgb(16, 16, 26);\">30</code> energy:</p>\n",
    "<pre style=\"border: 1px solid rgb(51, 51, 64); color: rgb(204, 204, 204); display: inline-block;\"><code style=\"border-color: rgb(204, 204, 204); color: rgb(204, 204, 204);\">#############\n",
    "#.....D.....#\n",
    "###B#.#C#D###\n",
    "  #A#B#C#A#\n",
    "  #########\n",
    "</code></pre>\n",
    "<p style=\"border-color: rgb(204, 204, 204); color: rgb(204, 204, 204);\">The leftmost Bronze amphipod moves to its room using <code style=\"border: 1px solid rgb(51, 51, 64); color: rgb(204, 204, 204); background: rgb(16, 16, 26);\">40</code> energy:</p>\n",
    "<pre style=\"border: 1px solid rgb(51, 51, 64); color: rgb(204, 204, 204); display: inline-block;\"><code style=\"border-color: rgb(204, 204, 204); color: rgb(204, 204, 204);\">#############\n",
    "#.....D.....#\n",
    "###.#B#C#D###\n",
    "  #A#B#C#A#\n",
    "  #########\n",
    "</code></pre>\n",
    "<p style=\"border-color: rgb(204, 204, 204); color: rgb(204, 204, 204);\">Both amphipods in the rightmost room move into the hallway, using <code style=\"border: 1px solid rgb(51, 51, 64); color: rgb(204, 204, 204); background: rgb(16, 16, 26);\">2003</code> energy in total:</p>\n",
    "<pre style=\"border: 1px solid rgb(51, 51, 64); color: rgb(204, 204, 204); display: inline-block;\"><code style=\"border-color: rgb(204, 204, 204); color: rgb(204, 204, 204);\">#############\n",
    "#.....D.D.A.#\n",
    "###.#B#C#.###\n",
    "  #A#B#C#.#\n",
    "  #########\n",
    "</code></pre>\n",
    "<p style=\"border-color: rgb(204, 204, 204); color: rgb(204, 204, 204);\">Both Desert amphipods move into the rightmost room using <code style=\"border: 1px solid rgb(51, 51, 64); color: rgb(204, 204, 204); background: rgb(16, 16, 26);\">7000</code> energy:</p>\n",
    "<pre style=\"border: 1px solid rgb(51, 51, 64); color: rgb(204, 204, 204); display: inline-block;\"><code style=\"border-color: rgb(204, 204, 204); color: rgb(204, 204, 204);\">#############\n",
    "#.........A.#\n",
    "###.#B#C#D###\n",
    "  #A#B#C#D#\n",
    "  #########\n",
    "</code></pre>\n",
    "<p style=\"border-color: rgb(204, 204, 204); color: rgb(204, 204, 204);\">Finally, the last Amber amphipod moves into its room, using <code style=\"border: 1px solid rgb(51, 51, 64); color: rgb(204, 204, 204); background: rgb(16, 16, 26);\">8</code> energy:</p>\n",
    "<pre style=\"border: 1px solid rgb(51, 51, 64); color: rgb(204, 204, 204); display: inline-block;\"><code style=\"border-color: rgb(204, 204, 204); color: rgb(204, 204, 204);\">#############\n",
    "#...........#\n",
    "###A#B#C#D###\n",
    "  #A#B#C#D#\n",
    "  #########\n",
    "</code></pre>\n",
    "<p style=\"border-color: rgb(204, 204, 204); color: rgb(204, 204, 204);\"><em style=\"border-color: rgb(255, 255, 255); color: rgb(255, 255, 255); text-shadow: rgb(255, 255, 255) 0px 0px 5px;\">What is the least energy required to organize the amphipods?</em></p>\n",
    "</div>"
   ]
  },
  {
   "cell_type": "code",
   "execution_count": 1,
   "id": "0e981617-6fec-46c8-b226-c5c86bd05b4a",
   "metadata": {},
   "outputs": [],
   "source": [
    "import heapq\n",
    "import numpy as np"
   ]
  },
  {
   "cell_type": "code",
   "execution_count": 2,
   "id": "b15a8ef8-6148-42d7-91f2-2e0bfa0d8cec",
   "metadata": {},
   "outputs": [],
   "source": [
    "with open(\"./puzzle_inputs/23.txt\") as f:\n",
    "    lines = f.readlines()"
   ]
  },
  {
   "cell_type": "code",
   "execution_count": 3,
   "id": "8eb465b2-aae0-42e4-9dfd-13a391cb51e2",
   "metadata": {},
   "outputs": [],
   "source": [
    "lines = \"\"\"#############\n",
    "#...........#\n",
    "###B#C#B#D###\n",
    "  #A#D#C#A#\n",
    "  ########\"\"\".split('\\n')"
   ]
  },
  {
   "cell_type": "code",
   "execution_count": 4,
   "id": "7b4e056d-bc86-4d6b-b895-a67a4b7f0bd0",
   "metadata": {},
   "outputs": [],
   "source": [
    "r1, r2 = lines[2:4]\n",
    "r1 = list(map(lambda c: ord(c)-65, r1[3:3+8:2]))\n",
    "r2 = list(map(lambda c: ord(c)-65, r2[3:3+8:2]))\n",
    "initial_rooms = np.vstack((r1, r2)).T.astype(np.int8)\n",
    "initial_hallway = np.full(7, -1, dtype=np.int8)"
   ]
  },
  {
   "cell_type": "code",
   "execution_count": 10,
   "id": "5948b5cc-607e-4712-9f7e-bcea3aa61331",
   "metadata": {},
   "outputs": [],
   "source": [
    "goal_state = encode(np.array([-1]*7, dtype=np.int8), np.tile(np.array([[0, 1, 2, 3]], dtype=np.int8), (2, 1)).T)"
   ]
  },
  {
   "cell_type": "code",
   "execution_count": 11,
   "id": "16a280b1-197c-4103-aa78-dbb81b81c3d5",
   "metadata": {},
   "outputs": [],
   "source": [
    "# (hallway index, room index) -> distance to room (bottom slot)\n",
    "dist = np.array([\n",
    "    [4, 3, 3, 5, 7, 9, 10],\n",
    "    [6, 5, 3, 3, 5, 7, 8],\n",
    "    [8, 7, 5, 3, 3, 5, 6],\n",
    "    [10, 9, 7, 5, 3, 3, 4]\n",
    "]).T\n",
    "energy_cost = np.array([1, 10, 100, 1000])"
   ]
  },
  {
   "cell_type": "code",
   "execution_count": 12,
   "id": "bdc5d5c9-3b42-451a-9fc4-4f3909154dbb",
   "metadata": {},
   "outputs": [],
   "source": [
    "# hallway distance\n",
    "hdist = np.array([\n",
    "    [0, 1, 3, 5, 7, 9, 10],\n",
    "    [1, 0, 2, 4, 6, 8, 9],\n",
    "    [3, 2, 0, 2, 4, 6, 7],\n",
    "    [5, 4, 2, 0, 2, 4, 5],\n",
    "    [7, 6, 4, 2, 0, 2, 3],\n",
    "    [9, 8, 6, 4, 2, 0, 1],\n",
    "    [10, 9, 7, 5, 3, 1, 0]\n",
    "])"
   ]
  },
  {
   "cell_type": "code",
   "execution_count": 13,
   "id": "fd26c96b-154f-4c93-a1fc-68f4ab57adaf",
   "metadata": {},
   "outputs": [
    {
     "name": "stdout",
     "output_type": "stream",
     "text": [
      "#############\n",
      "#...........#\n",
      "###B#C#B#D###\n",
      "  #A#D#C#A#  \n",
      "  #########\n"
     ]
    }
   ],
   "source": [
    "def draw(state=None, hallway=None, rooms=None):\n",
    "    if state is not None:\n",
    "        hallway, rooms = decode(state)\n",
    "    hallway = hallway + 65\n",
    "    hallway[np.where(hallway == 64)] = ord('.')\n",
    "    rooms = rooms.T + 65\n",
    "    rooms[np.where(rooms == 64)] = ord('.')\n",
    "    print(\"#############\")\n",
    "    print(f\"#{chr(hallway[0])}{'.'.join(map(chr, hallway[1:-1]))}{chr(hallway[-1])}#\")\n",
    "    print(f\"###{'#'.join(map(chr, rooms[0]))}###\")\n",
    "    for row in rooms[1:]:\n",
    "        print(f\"  #{'#'.join(map(chr, row))}#  \")\n",
    "    print(\"  #########\")\n",
    "\n",
    "    # print(\"###rooms[0][0]#rooms[1][0]#B#D###\")\n",
    "draw(hallway=initial_hallway, rooms=initial_rooms)"
   ]
  },
  {
   "cell_type": "code",
   "execution_count": 15,
   "id": "0733479b-61cd-4503-aa37-a1b07a4e280c",
   "metadata": {},
   "outputs": [
    {
     "data": {
      "text/plain": [
       "array([[1, 0],\n",
       "       [2, 3],\n",
       "       [1, 2],\n",
       "       [3, 0]], dtype=int8)"
      ]
     },
     "execution_count": 15,
     "metadata": {},
     "output_type": "execute_result"
    }
   ],
   "source": [
    "initial_rooms"
   ]
  },
  {
   "cell_type": "code",
   "execution_count": 14,
   "id": "7fd349f6-4894-41c0-9fdf-17ce706b8a33",
   "metadata": {},
   "outputs": [],
   "source": [
    "def encode(hallway, rooms):\n",
    "    return hallway.tobytes() + rooms.tobytes()\n",
    "\n",
    "def decode(state):\n",
    "    hallway = np.frombuffer(state, count=7, dtype=np.int8)\n",
    "    rooms = np.frombuffer(state, offset=7, dtype=np.int8).reshape((4, 2))\n",
    "    return hallway, rooms\n",
    "\n",
    "def heuristic(hallway, rooms):\n",
    "    d = -np.sum(energy_cost) # offset always moving to bottom cell\n",
    "    for r, room in enumerate(rooms):\n",
    "        for j, a in enumerate(room):\n",
    "            if r == a: # in correct room\n",
    "                d += energy_cost[a]*(1 - j)\n",
    "            else: # incorrect room\n",
    "                d += energy_cost[a]*(2*abs(a - r) + 3 + j)\n",
    "    return d\n",
    "\n",
    "def neighbors(state):\n",
    "    hallway, rooms = decode(state)\n",
    "    neighbors = []\n",
    "    # rooms to hallway\n",
    "    for i, room in enumerate(rooms):\n",
    "        j = 0\n",
    "        while j < 1 and room[j] == -1:\n",
    "            j += 1\n",
    "        if room[j] == -1:\n",
    "            continue\n",
    "        a = room[j]\n",
    "        new_rooms = rooms.copy()\n",
    "        new_rooms[i][j] = -1\n",
    "        left = i + 1\n",
    "        right = i + 2\n",
    "        while left >= 0 and hallway[left] == -1:\n",
    "            new_hallway = hallway.copy()\n",
    "            new_hallway[left] = a\n",
    "            h = heuristic(new_hallway, new_rooms)\n",
    "            yield (h, encode(new_hallway, new_rooms.copy()))\n",
    "            left -= 1\n",
    "        while right < len(hallway) and hallway[right] == -1:\n",
    "            new_hallway = hallway.copy()\n",
    "            new_hallway[right] = a\n",
    "            h = heuristic(new_hallway, new_rooms)\n",
    "            yield (h, encode(new_hallway, new_rooms.copy()))\n",
    "            right += 1\n",
    "    # hallway to room\n",
    "    # for\n",
    "\n",
    "    return neighbors"
   ]
  },
  {
   "cell_type": "code",
   "execution_count": 193,
   "id": "e8f3fcc2-de4d-43ec-98e1-be96638f7d49",
   "metadata": {},
   "outputs": [],
   "source": [
    "q = [(heuristic(initial_hallway, initial_rooms), 0, initial_hallway, initial_rooms)]\n"
   ]
  },
  {
   "cell_type": "code",
   "execution_count": null,
   "id": "69bfe70c-7466-4329-a153-8c1c2c8aa374",
   "metadata": {},
   "outputs": [],
   "source": []
  }
 ],
 "metadata": {
  "kernelspec": {
   "display_name": "Python 3 (ipykernel)",
   "language": "python",
   "name": "python3"
  },
  "language_info": {
   "codemirror_mode": {
    "name": "ipython",
    "version": 3
   },
   "file_extension": ".py",
   "mimetype": "text/x-python",
   "name": "python",
   "nbconvert_exporter": "python",
   "pygments_lexer": "ipython3",
   "version": "3.11.6"
  }
 },
 "nbformat": 4,
 "nbformat_minor": 5
}
