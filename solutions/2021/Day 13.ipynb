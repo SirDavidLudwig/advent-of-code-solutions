{
 "cells": [
  {
   "cell_type": "markdown",
   "metadata": {},
   "source": [
    "# Advent of Code 2021"
   ]
  },
  {
   "cell_type": "code",
   "execution_count": 1,
   "metadata": {},
   "outputs": [],
   "source": [
    "from collections import defaultdict\n",
    "import matplotlib.pyplot as plt\n",
    "import numpy as np\n",
    "import queue\n",
    "\n",
    "import common"
   ]
  },
  {
   "cell_type": "code",
   "execution_count": 242,
   "metadata": {},
   "outputs": [],
   "source": [
    "\n",
    "dots = []\n",
    "folds = []\n",
    "with open(\"./private/2021/13.in\") as f:\n",
    "\tfor line in f:\n",
    "\t\tif line == \"\\n\":\n",
    "\t\t\tbreak\n",
    "\t\tdots.append(common.csv(line))\n",
    "\tfor line in f:\n",
    "\t\taxis, value = line.strip().split('=')\n",
    "\t\tfolds.append((axis[-1] == 'y', int(value)))\n",
    "dots = np.array(dots)\n",
    "folds = np.array(folds)"
   ]
  },
  {
   "cell_type": "code",
   "execution_count": 243,
   "metadata": {},
   "outputs": [],
   "source": [
    "x, y = dots.T\n",
    "grid = np.zeros((np.max(dots[:,1]+1), np.max(dots[:,0]+1)))\n",
    "grid[y,x] = np.inf"
   ]
  },
  {
   "cell_type": "code",
   "execution_count": 244,
   "metadata": {},
   "outputs": [],
   "source": [
    "for (axis, dist) in folds:\n",
    "\tif axis == 1: # flip that shit\n",
    "\t\tgrid = grid.T\n",
    "\n",
    "\tleft = grid[:,:dist]\n",
    "\tright = grid[:,dist+1:][:,::-1]\n",
    "\n",
    "\toffset = right.shape[1] - left.shape[1]\n",
    "\tleft = np.pad(left, ((0, 0), (max(offset, 0), 0)))\n",
    "\tright = np.pad(right, ((0, 0), (max(-offset, 0), 0)))\n",
    "\tgrid = left + right\n",
    "\n",
    "\tif axis == 1: # now flip that shit back\n",
    "\t\tgrid = grid.T"
   ]
  },
  {
   "cell_type": "code",
   "execution_count": 245,
   "metadata": {},
   "outputs": [
    {
     "name": "stdout",
     "output_type": "stream",
     "text": [
      "####      #  #        ##      #  #       ##       ####      #  #      ###       \n",
      "   #      #  #         #      #  #      #  #      #         #  #      #  #      \n",
      "  #       #  #         #      #  #      #  #      ###       ####      #  #      \n",
      " #        #  #         #      #  #      ####      #         #  #      ###       \n",
      "#         #  #      #  #      #  #      #  #      #         #  #      #         \n",
      "####       ##        ##        ##       #  #      #         #  #      #         \n"
     ]
    }
   ],
   "source": [
    "for i in range(grid.shape[0]):\n",
    "\tfor j in range(grid.shape[1]):\n",
    "\t\tprint('#' if grid[i][j] == np.inf else ' ', end=\"\")\n",
    "\t\tif np.all(grid[:,j] == 0):\n",
    "\t\t\tprint('     ', end=\"\")\n",
    "\tprint()"
   ]
  },
  {
   "cell_type": "code",
   "execution_count": 181,
   "metadata": {},
   "outputs": [
    {
     "data": {
      "text/plain": [
       "array([[1, 1, 1, 1, 0, 1, 0, 0, 1, 0, 0, 0, 1, 1, 0, 1, 0, 0, 1, 0, 0, 1,\n",
       "        1, 0, 0, 1, 1, 1, 1, 0, 1, 0, 0, 1, 0, 1, 1, 1, 0, 0],\n",
       "       [0, 0, 0, 1, 0, 1, 0, 0, 1, 0, 0, 0, 0, 1, 0, 1, 0, 0, 1, 0, 1, 0,\n",
       "        0, 1, 0, 1, 0, 0, 0, 0, 1, 0, 0, 1, 0, 1, 0, 0, 1, 0],\n",
       "       [0, 0, 1, 0, 0, 1, 0, 0, 1, 0, 0, 0, 0, 1, 0, 1, 0, 0, 1, 0, 1, 0,\n",
       "        0, 1, 0, 1, 1, 1, 0, 0, 1, 1, 1, 1, 0, 1, 0, 0, 1, 0],\n",
       "       [0, 1, 0, 0, 0, 1, 0, 0, 1, 0, 0, 0, 0, 1, 0, 1, 0, 0, 1, 0, 1, 1,\n",
       "        1, 1, 0, 1, 0, 0, 0, 0, 1, 0, 0, 1, 0, 1, 1, 1, 0, 0],\n",
       "       [1, 0, 0, 0, 0, 1, 0, 0, 1, 0, 1, 0, 0, 1, 0, 1, 0, 0, 1, 0, 1, 0,\n",
       "        0, 1, 0, 1, 0, 0, 0, 0, 1, 0, 0, 1, 0, 1, 0, 0, 0, 0],\n",
       "       [1, 1, 1, 1, 0, 0, 1, 1, 0, 0, 0, 1, 1, 0, 0, 0, 1, 1, 0, 0, 1, 0,\n",
       "        0, 1, 0, 1, 0, 0, 0, 0, 1, 0, 0, 1, 0, 1, 0, 0, 0, 0]])"
      ]
     },
     "execution_count": 181,
     "metadata": {},
     "output_type": "execute_result"
    }
   ],
   "source": [
    "np.sum()"
   ]
  },
  {
   "cell_type": "code",
   "execution_count": 180,
   "metadata": {},
   "outputs": [
    {
     "data": {
      "text/plain": [
       "array([[inf, inf, inf, inf,  0., inf,  0.,  0., inf,  0.,  0.,  0., inf,\n",
       "        inf,  0., inf,  0.,  0., inf,  0.,  0., inf, inf,  0.,  0., inf,\n",
       "        inf, inf, inf,  0., inf,  0.,  0., inf,  0., inf, inf, inf,  0.,\n",
       "         0.],\n",
       "       [ 0.,  0.,  0., inf,  0., inf,  0.,  0., inf,  0.,  0.,  0.,  0.,\n",
       "        inf,  0., inf,  0.,  0., inf,  0., inf,  0.,  0., inf,  0., inf,\n",
       "         0.,  0.,  0.,  0., inf,  0.,  0., inf,  0., inf,  0.,  0., inf,\n",
       "         0.],\n",
       "       [ 0.,  0., inf,  0.,  0., inf,  0.,  0., inf,  0.,  0.,  0.,  0.,\n",
       "        inf,  0., inf,  0.,  0., inf,  0., inf,  0.,  0., inf,  0., inf,\n",
       "        inf, inf,  0.,  0., inf, inf, inf, inf,  0., inf,  0.,  0., inf,\n",
       "         0.],\n",
       "       [ 0., inf,  0.,  0.,  0., inf,  0.,  0., inf,  0.,  0.,  0.,  0.,\n",
       "        inf,  0., inf,  0.,  0., inf,  0., inf, inf, inf, inf,  0., inf,\n",
       "         0.,  0.,  0.,  0., inf,  0.,  0., inf,  0., inf, inf, inf,  0.,\n",
       "         0.],\n",
       "       [inf,  0.,  0.,  0.,  0., inf,  0.,  0., inf,  0., inf,  0.,  0.,\n",
       "        inf,  0., inf,  0.,  0., inf,  0., inf,  0.,  0., inf,  0., inf,\n",
       "         0.,  0.,  0.,  0., inf,  0.,  0., inf,  0., inf,  0.,  0.,  0.,\n",
       "         0.],\n",
       "       [inf, inf, inf, inf,  0.,  0., inf, inf,  0.,  0.,  0., inf, inf,\n",
       "         0.,  0.,  0., inf, inf,  0.,  0., inf,  0.,  0., inf,  0., inf,\n",
       "         0.,  0.,  0.,  0., inf,  0.,  0., inf,  0., inf,  0.,  0.,  0.,\n",
       "         0.]])"
      ]
     },
     "execution_count": 180,
     "metadata": {},
     "output_type": "execute_result"
    }
   ],
   "source": [
    "grid"
   ]
  },
  {
   "cell_type": "code",
   "execution_count": 160,
   "metadata": {},
   "outputs": [
    {
     "data": {
      "text/plain": [
       "737"
      ]
     },
     "execution_count": 160,
     "metadata": {},
     "output_type": "execute_result"
    }
   ],
   "source": [
    "np.sum(grid == np.inf)"
   ]
  },
  {
   "cell_type": "code",
   "execution_count": 77,
   "metadata": {},
   "outputs": [],
   "source": [
    "a = np.array([[1], [2], [3]])\n",
    "b = np.array([[4], [5], [6]])"
   ]
  },
  {
   "cell_type": "code",
   "execution_count": 79,
   "metadata": {},
   "outputs": [
    {
     "data": {
      "text/plain": [
       "array([[1, 4],\n",
       "       [2, 5],\n",
       "       [3, 6]])"
      ]
     },
     "execution_count": 79,
     "metadata": {},
     "output_type": "execute_result"
    }
   ],
   "source": [
    "np.column_stack((a, b))"
   ]
  },
  {
   "cell_type": "code",
   "execution_count": 161,
   "metadata": {},
   "outputs": [
    {
     "data": {
      "text/plain": [
       "array([[0., 0., 0., ..., 0., 0., 0.],\n",
       "       [0., 0., 0., ..., 0., 0., 0.],\n",
       "       [0., 0., 0., ..., 0., 0., 0.],\n",
       "       ...,\n",
       "       [0., 0., 0., ..., 0., 0., 0.],\n",
       "       [0., 0., 0., ..., 0., 0., 0.],\n",
       "       [0., 0., 0., ..., 0., 0., 0.]])"
      ]
     },
     "execution_count": 161,
     "metadata": {},
     "output_type": "execute_result"
    }
   ],
   "source": [
    "grid"
   ]
  },
  {
   "cell_type": "code",
   "execution_count": null,
   "metadata": {},
   "outputs": [],
   "source": []
  }
 ],
 "metadata": {
  "interpreter": {
   "hash": "0f595d3fc34ed11edbc38d9dec2a54c03fa2bf2c415ca6a655d899d5167c3720"
  },
  "kernelspec": {
   "display_name": "Python 3.9.5 64-bit ('base': conda)",
   "language": "python",
   "name": "python3"
  },
  "language_info": {
   "codemirror_mode": {
    "name": "ipython",
    "version": 3
   },
   "file_extension": ".py",
   "mimetype": "text/x-python",
   "name": "python",
   "nbconvert_exporter": "python",
   "pygments_lexer": "ipython3",
   "version": "3.9.5"
  },
  "orig_nbformat": 4
 },
 "nbformat": 4,
 "nbformat_minor": 2
}
