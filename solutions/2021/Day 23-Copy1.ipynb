{
 "cells": [
  {
   "cell_type": "markdown",
   "id": "403f76ee-148a-4489-a261-4d60fde4b7c6",
   "metadata": {},
   "source": [
    "<div style=\"background-color: rgb(15, 15, 35); border: 1px solid rgb(255, 255, 255); color: rgb(204, 204, 204); font-family: monospace; margin-left: -5px; margin-right: -20px; padding: 1rem;\"><h2 style=\"border-color: rgb(255, 255, 255); color: rgb(255, 255, 255);\">--- Day 23: Amphipod ---</h2><p style=\"border-color: rgb(204, 204, 204); color: rgb(204, 204, 204);\">A group of <a href=\"https://en.wikipedia.org/wiki/Amphipoda\" target=\"_blank\" style=\"border-color: rgb(0, 153, 0); color: rgb(0, 153, 0);\">amphipods</a> notice your fancy submarine and flag you down. \"With such an impressive shell,\" one amphipod <span title=\"What? You didn't know amphipods can talk?\" style=\"border-color: rgb(204, 204, 204); color: rgb(204, 204, 204);\">says</span>, \"surely you can help us with a question that has stumped our best scientists.\"</p>\n",
    "<p style=\"border-color: rgb(204, 204, 204); color: rgb(204, 204, 204);\">They go on to explain that a group of timid, stubborn amphipods live in a nearby burrow. Four types of amphipods live there: <em style=\"border-color: rgb(255, 255, 255); color: rgb(255, 255, 255); text-shadow: rgb(255, 255, 255) 0px 0px 5px;\">Amber</em> (<code style=\"border: 1px solid rgb(51, 51, 64); color: rgb(204, 204, 204); background: rgb(16, 16, 26);\">A</code>), <em style=\"border-color: rgb(255, 255, 255); color: rgb(255, 255, 255); text-shadow: rgb(255, 255, 255) 0px 0px 5px;\">Bronze</em> (<code style=\"border: 1px solid rgb(51, 51, 64); color: rgb(204, 204, 204); background: rgb(16, 16, 26);\">B</code>), <em style=\"border-color: rgb(255, 255, 255); color: rgb(255, 255, 255); text-shadow: rgb(255, 255, 255) 0px 0px 5px;\">Copper</em> (<code style=\"border: 1px solid rgb(51, 51, 64); color: rgb(204, 204, 204); background: rgb(16, 16, 26);\">C</code>), and <em style=\"border-color: rgb(255, 255, 255); color: rgb(255, 255, 255); text-shadow: rgb(255, 255, 255) 0px 0px 5px;\">Desert</em> (<code style=\"border: 1px solid rgb(51, 51, 64); color: rgb(204, 204, 204); background: rgb(16, 16, 26);\">D</code>). They live in a burrow that consists of a <em style=\"border-color: rgb(255, 255, 255); color: rgb(255, 255, 255); text-shadow: rgb(255, 255, 255) 0px 0px 5px;\">hallway</em> and four <em style=\"border-color: rgb(255, 255, 255); color: rgb(255, 255, 255); text-shadow: rgb(255, 255, 255) 0px 0px 5px;\">side rooms</em>. The side rooms are initially full of amphipods, and the hallway is initially empty.</p>\n",
    "<p style=\"border-color: rgb(204, 204, 204); color: rgb(204, 204, 204);\">They give you a <em style=\"border-color: rgb(255, 255, 255); color: rgb(255, 255, 255); text-shadow: rgb(255, 255, 255) 0px 0px 5px;\">diagram of the situation</em> (your puzzle input), including locations of each amphipod (<code style=\"border: 1px solid rgb(51, 51, 64); color: rgb(204, 204, 204); background: rgb(16, 16, 26);\">A</code>, <code style=\"border: 1px solid rgb(51, 51, 64); color: rgb(204, 204, 204); background: rgb(16, 16, 26);\">B</code>, <code style=\"border: 1px solid rgb(51, 51, 64); color: rgb(204, 204, 204); background: rgb(16, 16, 26);\">C</code>, or <code style=\"border: 1px solid rgb(51, 51, 64); color: rgb(204, 204, 204); background: rgb(16, 16, 26);\">D</code>, each of which is occupying an otherwise open space), walls (<code style=\"border: 1px solid rgb(51, 51, 64); color: rgb(204, 204, 204); background: rgb(16, 16, 26);\">#</code>), and open space (<code style=\"border: 1px solid rgb(51, 51, 64); color: rgb(204, 204, 204); background: rgb(16, 16, 26);\">.</code>).</p>\n",
    "<p style=\"border-color: rgb(204, 204, 204); color: rgb(204, 204, 204);\">For example:</p>\n",
    "<pre style=\"border: 1px solid rgb(51, 51, 64); color: rgb(204, 204, 204); display: inline-block;\"><code style=\"border-color: rgb(204, 204, 204); color: rgb(204, 204, 204);\">#############\n",
    "#...........#\n",
    "###B#C#B#D###\n",
    "  #A#D#C#A#\n",
    "  #########\n",
    "</code></pre>\n",
    "<p style=\"border-color: rgb(204, 204, 204); color: rgb(204, 204, 204);\">The amphipods would like a method to organize every amphipod into side rooms so that each side room contains one type of amphipod and the types are sorted <code style=\"border: 1px solid rgb(51, 51, 64); color: rgb(204, 204, 204); background: rgb(16, 16, 26);\">A</code>-<code style=\"border: 1px solid rgb(51, 51, 64); color: rgb(204, 204, 204); background: rgb(16, 16, 26);\">D</code> going left to right, like this:</p>\n",
    "<pre style=\"border: 1px solid rgb(51, 51, 64); color: rgb(204, 204, 204); display: inline-block;\"><code style=\"border-color: rgb(204, 204, 204); color: rgb(204, 204, 204);\">#############\n",
    "#...........#\n",
    "###A#B#C#D###\n",
    "  #A#B#C#D#\n",
    "  #########\n",
    "</code></pre>\n",
    "<p style=\"border-color: rgb(204, 204, 204); color: rgb(204, 204, 204);\">Amphipods can move up, down, left, or right so long as they are moving into an unoccupied open space. Each type of amphipod requires a different amount of <em style=\"border-color: rgb(255, 255, 255); color: rgb(255, 255, 255); text-shadow: rgb(255, 255, 255) 0px 0px 5px;\">energy</em> to move one step: Amber amphipods require <code style=\"border: 1px solid rgb(51, 51, 64); color: rgb(204, 204, 204); background: rgb(16, 16, 26);\">1</code> energy per step, Bronze amphipods require <code style=\"border: 1px solid rgb(51, 51, 64); color: rgb(204, 204, 204); background: rgb(16, 16, 26);\">10</code> energy, Copper amphipods require <code style=\"border: 1px solid rgb(51, 51, 64); color: rgb(204, 204, 204); background: rgb(16, 16, 26);\">100</code>, and Desert ones require <code style=\"border: 1px solid rgb(51, 51, 64); color: rgb(204, 204, 204); background: rgb(16, 16, 26);\">1000</code>. The amphipods would like you to find a way to organize the amphipods that requires the <em style=\"border-color: rgb(255, 255, 255); color: rgb(255, 255, 255); text-shadow: rgb(255, 255, 255) 0px 0px 5px;\">least total energy</em>.</p>\n",
    "<p style=\"border-color: rgb(204, 204, 204); color: rgb(204, 204, 204);\">However, because they are timid and stubborn, the amphipods have some extra rules:</p>\n",
    "<ul style=\"border-color: rgb(204, 204, 204); color: rgb(204, 204, 204);\">\n",
    "<li style=\"border-color: rgb(204, 204, 204); color: rgb(204, 204, 204);\">Amphipods will never <em style=\"border-color: rgb(255, 255, 255); color: rgb(255, 255, 255); text-shadow: rgb(255, 255, 255) 0px 0px 5px;\">stop on the space immediately outside any room</em>. They can move into that space so long as they immediately continue moving. (Specifically, this refers to the four open spaces in the hallway that are directly above an amphipod starting position.)</li>\n",
    "<li style=\"border-color: rgb(204, 204, 204); color: rgb(204, 204, 204);\">Amphipods will never <em style=\"border-color: rgb(255, 255, 255); color: rgb(255, 255, 255); text-shadow: rgb(255, 255, 255) 0px 0px 5px;\">move from the hallway into a room</em> unless that room is their destination room <em style=\"border-color: rgb(255, 255, 255); color: rgb(255, 255, 255); text-shadow: rgb(255, 255, 255) 0px 0px 5px;\">and</em> that room contains no amphipods which do not also have that room as their own destination. If an amphipod's starting room is not its destination room, it can stay in that room until it leaves the room. (For example, an Amber amphipod will not move from the hallway into the right three rooms, and will only move into the leftmost room if that room is empty or if it only contains other Amber amphipods.)</li>\n",
    "<li style=\"border-color: rgb(204, 204, 204); color: rgb(204, 204, 204);\">Once an amphipod stops moving in the hallway, <em style=\"border-color: rgb(255, 255, 255); color: rgb(255, 255, 255); text-shadow: rgb(255, 255, 255) 0px 0px 5px;\">it will stay in that spot until it can move into a room</em>. (That is, once any amphipod starts moving, any other amphipods currently in the hallway are locked in place and will not move again until they can move fully into a room.)</li>\n",
    "</ul>\n",
    "<p style=\"border-color: rgb(204, 204, 204); color: rgb(204, 204, 204);\">In the above example, the amphipods can be organized using a minimum of <code style=\"border: 1px solid rgb(51, 51, 64); color: rgb(204, 204, 204); background: rgb(16, 16, 26);\"><em style=\"border-color: rgb(255, 255, 255); color: rgb(255, 255, 255); text-shadow: rgb(255, 255, 255) 0px 0px 5px;\">12521</em></code> energy. One way to do this is shown below.</p>\n",
    "<p style=\"border-color: rgb(204, 204, 204); color: rgb(204, 204, 204);\">Starting configuration:</p>\n",
    "<pre style=\"border: 1px solid rgb(51, 51, 64); color: rgb(204, 204, 204); display: inline-block;\"><code style=\"border-color: rgb(204, 204, 204); color: rgb(204, 204, 204);\">#############\n",
    "#...........#\n",
    "###B#C#B#D###\n",
    "  #A#D#C#A#\n",
    "  #########\n",
    "</code></pre>\n",
    "<p style=\"border-color: rgb(204, 204, 204); color: rgb(204, 204, 204);\">One Bronze amphipod moves into the hallway, taking 4 steps and using <code style=\"border: 1px solid rgb(51, 51, 64); color: rgb(204, 204, 204); background: rgb(16, 16, 26);\">40</code> energy:</p>\n",
    "<pre style=\"border: 1px solid rgb(51, 51, 64); color: rgb(204, 204, 204); display: inline-block;\"><code style=\"border-color: rgb(204, 204, 204); color: rgb(204, 204, 204);\">#############\n",
    "#...B.......#\n",
    "###B#C#.#D###\n",
    "  #A#D#C#A#\n",
    "  #########\n",
    "</code></pre>\n",
    "<p style=\"border-color: rgb(204, 204, 204); color: rgb(204, 204, 204);\">The only Copper amphipod not in its side room moves there, taking 4 steps and using <code style=\"border: 1px solid rgb(51, 51, 64); color: rgb(204, 204, 204); background: rgb(16, 16, 26);\">400</code> energy:</p>\n",
    "<pre style=\"border: 1px solid rgb(51, 51, 64); color: rgb(204, 204, 204); display: inline-block;\"><code style=\"border-color: rgb(204, 204, 204); color: rgb(204, 204, 204);\">#############\n",
    "#...B.......#\n",
    "###B#.#C#D###\n",
    "  #A#D#C#A#\n",
    "  #########\n",
    "</code></pre>\n",
    "<p style=\"border-color: rgb(204, 204, 204); color: rgb(204, 204, 204);\">A Desert amphipod moves out of the way, taking 3 steps and using <code style=\"border: 1px solid rgb(51, 51, 64); color: rgb(204, 204, 204); background: rgb(16, 16, 26);\">3000</code> energy, and then the Bronze amphipod takes its place, taking 3 steps and using <code style=\"border: 1px solid rgb(51, 51, 64); color: rgb(204, 204, 204); background: rgb(16, 16, 26);\">30</code> energy:</p>\n",
    "<pre style=\"border: 1px solid rgb(51, 51, 64); color: rgb(204, 204, 204); display: inline-block;\"><code style=\"border-color: rgb(204, 204, 204); color: rgb(204, 204, 204);\">#############\n",
    "#.....D.....#\n",
    "###B#.#C#D###\n",
    "  #A#B#C#A#\n",
    "  #########\n",
    "</code></pre>\n",
    "<p style=\"border-color: rgb(204, 204, 204); color: rgb(204, 204, 204);\">The leftmost Bronze amphipod moves to its room using <code style=\"border: 1px solid rgb(51, 51, 64); color: rgb(204, 204, 204); background: rgb(16, 16, 26);\">40</code> energy:</p>\n",
    "<pre style=\"border: 1px solid rgb(51, 51, 64); color: rgb(204, 204, 204); display: inline-block;\"><code style=\"border-color: rgb(204, 204, 204); color: rgb(204, 204, 204);\">#############\n",
    "#.....D.....#\n",
    "###.#B#C#D###\n",
    "  #A#B#C#A#\n",
    "  #########\n",
    "</code></pre>\n",
    "<p style=\"border-color: rgb(204, 204, 204); color: rgb(204, 204, 204);\">Both amphipods in the rightmost room move into the hallway, using <code style=\"border: 1px solid rgb(51, 51, 64); color: rgb(204, 204, 204); background: rgb(16, 16, 26);\">2003</code> energy in total:</p>\n",
    "<pre style=\"border: 1px solid rgb(51, 51, 64); color: rgb(204, 204, 204); display: inline-block;\"><code style=\"border-color: rgb(204, 204, 204); color: rgb(204, 204, 204);\">#############\n",
    "#.....D.D.A.#\n",
    "###.#B#C#.###\n",
    "  #A#B#C#.#\n",
    "  #########\n",
    "</code></pre>\n",
    "<p style=\"border-color: rgb(204, 204, 204); color: rgb(204, 204, 204);\">Both Desert amphipods move into the rightmost room using <code style=\"border: 1px solid rgb(51, 51, 64); color: rgb(204, 204, 204); background: rgb(16, 16, 26);\">7000</code> energy:</p>\n",
    "<pre style=\"border: 1px solid rgb(51, 51, 64); color: rgb(204, 204, 204); display: inline-block;\"><code style=\"border-color: rgb(204, 204, 204); color: rgb(204, 204, 204);\">#############\n",
    "#.........A.#\n",
    "###.#B#C#D###\n",
    "  #A#B#C#D#\n",
    "  #########\n",
    "</code></pre>\n",
    "<p style=\"border-color: rgb(204, 204, 204); color: rgb(204, 204, 204);\">Finally, the last Amber amphipod moves into its room, using <code style=\"border: 1px solid rgb(51, 51, 64); color: rgb(204, 204, 204); background: rgb(16, 16, 26);\">8</code> energy:</p>\n",
    "<pre style=\"border: 1px solid rgb(51, 51, 64); color: rgb(204, 204, 204); display: inline-block;\"><code style=\"border-color: rgb(204, 204, 204); color: rgb(204, 204, 204);\">#############\n",
    "#...........#\n",
    "###A#B#C#D###\n",
    "  #A#B#C#D#\n",
    "  #########\n",
    "</code></pre>\n",
    "<p style=\"border-color: rgb(204, 204, 204); color: rgb(204, 204, 204);\"><em style=\"border-color: rgb(255, 255, 255); color: rgb(255, 255, 255); text-shadow: rgb(255, 255, 255) 0px 0px 5px;\">What is the least energy required to organize the amphipods?</em></p>\n",
    "</div>"
   ]
  },
  {
   "cell_type": "code",
   "execution_count": 299,
   "id": "0e981617-6fec-46c8-b226-c5c86bd05b4a",
   "metadata": {},
   "outputs": [],
   "source": [
    "import sys\n",
    "sys.path.append('../../common')\n",
    "\n",
    "from aoc import *\n",
    "from functools import cache\n",
    "import numpy as np\n",
    "import re\n",
    "from tqdm import tqdm"
   ]
  },
  {
   "cell_type": "code",
   "execution_count": 168,
   "id": "b15a8ef8-6148-42d7-91f2-2e0bfa0d8cec",
   "metadata": {},
   "outputs": [],
   "source": [
    "with open(\"./puzzle_inputs/23.txt\") as f:\n",
    "    lines = f.readlines()"
   ]
  },
  {
   "cell_type": "code",
   "execution_count": 169,
   "id": "8eb465b2-aae0-42e4-9dfd-13a391cb51e2",
   "metadata": {},
   "outputs": [],
   "source": [
    "lines = \"\"\"#############\n",
    "#...........#\n",
    "###B#C#B#D###\n",
    "  #A#D#C#A#\n",
    "  #########\"\"\".split('\\n')"
   ]
  },
  {
   "cell_type": "code",
   "execution_count": 170,
   "id": "5970dcec-6f44-4beb-9823-bc137e7c6530",
   "metadata": {},
   "outputs": [
    {
     "data": {
      "text/plain": [
       "['#############',\n",
       " '#...........#',\n",
       " '###B#C#B#D###',\n",
       " '  #A#D#C#A#',\n",
       " '  #########']"
      ]
     },
     "execution_count": 170,
     "metadata": {},
     "output_type": "execute_result"
    }
   ],
   "source": [
    "lines"
   ]
  },
  {
   "cell_type": "code",
   "execution_count": 172,
   "id": "89f3871e-b8b6-4a21-99a6-c003ddbfb714",
   "metadata": {},
   "outputs": [
    {
     "data": {
      "text/plain": [
       "['#############',\n",
       " '#...........#',\n",
       " '###.#.#.#.###',\n",
       " '  #.#.#.#.#',\n",
       " '  #########']"
      ]
     },
     "execution_count": 172,
     "metadata": {},
     "output_type": "execute_result"
    }
   ],
   "source": [
    "empty_world = [re.sub(r\"[ABCD]\", '.', line) for line in lines]\n",
    "empty_world"
   ]
  },
  {
   "cell_type": "code",
   "execution_count": 173,
   "id": "3ed80538-b7df-4bce-8fb7-c4b3993d734c",
   "metadata": {},
   "outputs": [
    {
     "data": {
      "text/plain": [
       "19"
      ]
     },
     "execution_count": 173,
     "metadata": {},
     "output_type": "execute_result"
    }
   ],
   "source": [
    "valid_positions = [(i,j) for i in range(len(empty_world)) for j in range(len(empty_world[i])) if empty_world[i][j] == '.']\n",
    "len(valid_positions)"
   ]
  },
  {
   "cell_type": "code",
   "execution_count": 246,
   "id": "0b4e8dc4-2860-4453-96ef-f0790f200492",
   "metadata": {},
   "outputs": [
    {
     "name": "stdout",
     "output_type": "stream",
     "text": [
      "#############\n",
      "#...........#\n",
      "###B#C#B#D###\n",
      "  #A#D#C#A#\n",
      "  #########\n"
     ]
    }
   ],
   "source": [
    "def draw(state):\n",
    "    data = [[c for c in line.rstrip()] for line in empty_world]\n",
    "    index = 0\n",
    "    for amphipod in \"ABCD\":\n",
    "        for _ in range(2):\n",
    "            i, j = state[index]\n",
    "            data[i][j] = amphipod\n",
    "            index += 1\n",
    "    print('\\n'.join(''.join(line) for line in data))\n",
    "draw(initial_state)"
   ]
  },
  {
   "cell_type": "code",
   "execution_count": 174,
   "id": "be40a7dd-245b-473c-8d1b-9f55383145d8",
   "metadata": {},
   "outputs": [
    {
     "data": {
      "text/plain": [
       "((3, 3), (3, 9), (2, 3), (2, 7), (2, 5), (3, 7), (2, 9), (3, 5))"
      ]
     },
     "execution_count": 174,
     "metadata": {},
     "output_type": "execute_result"
    }
   ],
   "source": [
    "initial_state = () # A A B B C C D D\n",
    "for a in \"ABCD\":\n",
    "    for i, line in enumerate(lines):\n",
    "        for j, c in enumerate(line):\n",
    "            if c == a:\n",
    "                initial_state += (i,j),\n",
    "initial_state"
   ]
  },
  {
   "cell_type": "code",
   "execution_count": 194,
   "id": "3a2fec90-7e32-4804-9396-cc4bed0c1c0c",
   "metadata": {},
   "outputs": [],
   "source": [
    "@cache\n",
    "def distance_to(a, b):\n",
    "    def neighbors(pos):\n",
    "        for d in dirdelta(dirs()):\n",
    "            i, j = tuple(pos + d)\n",
    "            if empty_world[i][j] != '.':\n",
    "                continue\n",
    "            yield (1, (i, j))\n",
    "    for dist, pos, _ in astar(a, neighbors):\n",
    "        if pos == b:\n",
    "            return dist\n",
    "    raise Exception(\"Failed to find goal\")"
   ]
  },
  {
   "cell_type": "code",
   "execution_count": 264,
   "id": "ba8ca41e-4876-48fb-9cf1-c51ec4305f73",
   "metadata": {},
   "outputs": [],
   "source": [
    "def amphipod_positions(state, amphipod):\n",
    "    n = len(state) // 4\n",
    "    i = \"ABCD\".index(amphipod)\n",
    "    return state[n*i:n*(i+1)]"
   ]
  },
  {
   "cell_type": "code",
   "execution_count": 322,
   "id": "6cc84512-1bff-425d-9699-8e464a9528e9",
   "metadata": {},
   "outputs": [],
   "source": [
    "i_to_pos = valid_positions\n",
    "pos_to_i = {pos: i for i, pos in enumerate(valid_positions)}"
   ]
  },
  {
   "cell_type": "code",
   "execution_count": 317,
   "id": "69bfe70c-7466-4329-a153-8c1c2c8aa374",
   "metadata": {},
   "outputs": [],
   "source": [
    "movement_cost = {\n",
    "    'A': 1,\n",
    "    'B': 10,\n",
    "    'C': 100,\n",
    "    'D': 1000\n",
    "}\n",
    "\n",
    "goal_pos = {\n",
    "    'A': (len(lines)-2, 3),\n",
    "    'B': (len(lines)-2, 5),\n",
    "    'C': (len(lines)-2, 7),\n",
    "    'D': (len(lines)-2, 9)\n",
    "}\n",
    "\n",
    "def encode_state(state):\n",
    "    n = len(state) // 4\n",
    "    encoded_state = np.full(len(valid_positions), '.')\n",
    "    for amphipod in \"ABCD\":\n",
    "\n",
    "    return encoded_state.join()\n",
    "\n",
    "def decode_state(state):\n",
    "    pass\n",
    "\n",
    "def neighbors(state):\n",
    "    n = len(state) // 4 # number of amphipods per type\n",
    "    for index, amphipod in enumerate(\"ABCD\"):\n",
    "        for offset, pos in enumerate(amphipod_positions(state, amphipod)):\n",
    "            for delta in dirdelta(dirs()):\n",
    "                i, j = npos = tuple(pos + delta)\n",
    "                if empty_world[i][j] != '.':\n",
    "                    continue\n",
    "                if npos in state:\n",
    "                    continue\n",
    "                yield (movement_cost[amphipod], state[:n*index+offset] + (npos,) + state[n*index+offset+1:])\n",
    "\n",
    "def heuristic(state):\n",
    "    h = 0\n",
    "    for amphipod in \"ABCD\":\n",
    "        for i, pos in enumerate(amphipod_positions(state, amphipod)):\n",
    "            h += movement_cost[amphipod]*(distance_to(pos, goal_pos[amphipod]) - i)\n",
    "    return h\n",
    "\n",
    "def is_goal(state):\n",
    "    for amphipod in \"ABCD\":\n",
    "        goal_col = goal_pos[amphipod][1]\n",
    "        for pos in amphipod_positions(state, amphipod):\n",
    "            if pos[0] == 1 or pos[1] != goal_col: # in hallway or not in correct column\n",
    "                return False\n",
    "    return True"
   ]
  },
  {
   "cell_type": "code",
   "execution_count": 318,
   "id": "1435408f-06de-4c99-8c7d-fc2804933adf",
   "metadata": {},
   "outputs": [
    {
     "name": "stdout",
     "output_type": "stream",
     "text": [
      "#############\n",
      "#...........#\n",
      "###B#C#B#D###\n",
      "  #A#D#C#A#\n",
      "  #########\n",
      "\n",
      "#############\n",
      "#......B....#\n",
      "###B#C#.#D###\n",
      "  #A#D#C#A#\n",
      "  #########\n",
      "\n",
      "#############\n",
      "#.....B.....#\n",
      "###B#C#.#D###\n",
      "  #A#D#C#A#\n",
      "  #########\n",
      "\n",
      "#############\n",
      "#....B......#\n",
      "###B#C#.#D###\n",
      "  #A#D#C#A#\n",
      "  #########\n",
      "\n",
      "#############\n",
      "#...B.......#\n",
      "###B#C#.#D###\n",
      "  #A#D#C#A#\n",
      "  #########\n",
      "\n",
      "#############\n",
      "#..B........#\n",
      "###B#C#.#D###\n",
      "  #A#D#C#A#\n",
      "  #########\n",
      "\n",
      "#############\n",
      "#.B.........#\n",
      "###B#C#.#D###\n",
      "  #A#D#C#A#\n",
      "  #########\n",
      "\n",
      "#############\n",
      "#.BB........#\n",
      "###.#C#.#D###\n",
      "  #A#D#C#A#\n",
      "  #########\n",
      "\n",
      "#############\n",
      "#B.B........#\n",
      "###.#C#.#D###\n",
      "  #A#D#C#A#\n",
      "  #########\n",
      "\n",
      "#############\n",
      "#BB.........#\n",
      "###.#C#.#D###\n",
      "  #A#D#C#A#\n",
      "  #########\n",
      "\n",
      "#############\n",
      "#BB.........#\n",
      "###A#C#.#D###\n",
      "  #.#D#C#A#\n",
      "  #########\n",
      "\n",
      "#############\n",
      "#BBA........#\n",
      "###.#C#.#D###\n",
      "  #.#D#C#A#\n",
      "  #########\n",
      "\n",
      "#############\n",
      "#BB.A.......#\n",
      "###.#C#.#D###\n",
      "  #.#D#C#A#\n",
      "  #########\n",
      "\n",
      "#############\n",
      "#BB..A......#\n",
      "###.#C#.#D###\n",
      "  #.#D#C#A#\n",
      "  #########\n",
      "\n",
      "#############\n",
      "#BB...A.....#\n",
      "###.#C#.#D###\n",
      "  #.#D#C#A#\n",
      "  #########\n",
      "\n",
      "#############\n",
      "#BB..CA.....#\n",
      "###.#.#.#D###\n",
      "  #.#D#C#A#\n",
      "  #########\n",
      "\n",
      "#############\n",
      "#BB.C.A.....#\n",
      "###.#.#.#D###\n",
      "  #.#D#C#A#\n",
      "  #########\n",
      "\n",
      "#############\n",
      "#BB.CA......#\n",
      "###.#.#.#D###\n",
      "  #.#D#C#A#\n",
      "  #########\n",
      "\n",
      "#############\n",
      "#BBC.A......#\n",
      "###.#.#.#D###\n",
      "  #.#D#C#A#\n",
      "  #########\n",
      "\n",
      "#############\n",
      "#BBCA.......#\n",
      "###.#.#.#D###\n",
      "  #.#D#C#A#\n",
      "  #########\n",
      "\n",
      "#############\n",
      "#BBCA.......#\n",
      "###.#D#.#D###\n",
      "  #.#.#C#A#\n",
      "  #########\n",
      "\n",
      "#############\n",
      "#BBCAD......#\n",
      "###.#.#.#D###\n",
      "  #.#.#C#A#\n",
      "  #########\n",
      "\n",
      "#############\n",
      "#BBCA.D.....#\n",
      "###.#.#.#D###\n",
      "  #.#.#C#A#\n",
      "  #########\n",
      "\n",
      "#############\n",
      "#BBCA..D....#\n",
      "###.#.#.#D###\n",
      "  #.#.#C#A#\n",
      "  #########\n",
      "\n",
      "#############\n",
      "#BBCA...D...#\n",
      "###.#.#.#D###\n",
      "  #.#.#C#A#\n",
      "  #########\n",
      "\n",
      "#############\n",
      "#BBCA....D..#\n",
      "###.#.#.#D###\n",
      "  #.#.#C#A#\n",
      "  #########\n",
      "\n",
      "#############\n",
      "#BBC.A...D..#\n",
      "###.#.#.#D###\n",
      "  #.#.#C#A#\n",
      "  #########\n",
      "\n",
      "#############\n",
      "#BBC.....D..#\n",
      "###.#A#.#D###\n",
      "  #.#.#C#A#\n",
      "  #########\n",
      "\n"
     ]
    }
   ],
   "source": [
    "for state in parents:\n",
    "    draw(state)\n",
    "    print()"
   ]
  },
  {
   "cell_type": "code",
   "execution_count": 319,
   "id": "c496cc95-6fe0-4bde-90f7-2edeaf15a57a",
   "metadata": {},
   "outputs": [],
   "source": [
    "from IPython.display import clear_output\n",
    "import time"
   ]
  },
  {
   "cell_type": "code",
   "execution_count": 320,
   "id": "8dc2b7c5-2024-4d1f-a85e-7986fb512825",
   "metadata": {},
   "outputs": [
    {
     "ename": "KeyboardInterrupt",
     "evalue": "",
     "output_type": "error",
     "traceback": [
      "\u001b[0;31m---------------------------------------------------------------------------\u001b[0m",
      "\u001b[0;31mKeyboardInterrupt\u001b[0m                         Traceback (most recent call last)",
      "Cell \u001b[0;32mIn[320], line 2\u001b[0m\n\u001b[1;32m      1\u001b[0m t \u001b[38;5;241m=\u001b[39m \u001b[38;5;241m0\u001b[39m\n\u001b[0;32m----> 2\u001b[0m \u001b[38;5;28;43;01mfor\u001b[39;49;00m\u001b[43m \u001b[49m\u001b[43mi\u001b[49m\u001b[43m,\u001b[49m\u001b[43m \u001b[49m\u001b[43m(\u001b[49m\u001b[43mcost\u001b[49m\u001b[43m,\u001b[49m\u001b[43m \u001b[49m\u001b[43mstate\u001b[49m\u001b[43m,\u001b[49m\u001b[43m \u001b[49m\u001b[43mparents\u001b[49m\u001b[43m)\u001b[49m\u001b[43m \u001b[49m\u001b[38;5;129;43;01min\u001b[39;49;00m\u001b[43m \u001b[49m\u001b[38;5;28;43menumerate\u001b[39;49m\u001b[43m(\u001b[49m\u001b[43mastar\u001b[49m\u001b[43m(\u001b[49m\u001b[43minitial_state\u001b[49m\u001b[43m,\u001b[49m\u001b[43m \u001b[49m\u001b[43mneighbors\u001b[49m\u001b[43m,\u001b[49m\u001b[43m \u001b[49m\u001b[43mheuristic\u001b[49m\u001b[43m)\u001b[49m\u001b[43m)\u001b[49m\u001b[43m:\u001b[49m\n\u001b[1;32m      3\u001b[0m \u001b[43m    \u001b[49m\u001b[38;5;28;43;01mif\u001b[39;49;00m\u001b[43m \u001b[49m\u001b[43mtime\u001b[49m\u001b[38;5;241;43m.\u001b[39;49m\u001b[43mtime\u001b[49m\u001b[43m(\u001b[49m\u001b[43m)\u001b[49m\u001b[43m \u001b[49m\u001b[38;5;241;43m>\u001b[39;49m\u001b[43m \u001b[49m\u001b[43mt\u001b[49m\u001b[43m:\u001b[49m\n\u001b[1;32m      4\u001b[0m \u001b[43m        \u001b[49m\u001b[43mt\u001b[49m\u001b[43m \u001b[49m\u001b[38;5;241;43m=\u001b[39;49m\u001b[43m \u001b[49m\u001b[43mtime\u001b[49m\u001b[38;5;241;43m.\u001b[39;49m\u001b[43mtime\u001b[49m\u001b[43m(\u001b[49m\u001b[43m)\u001b[49m\u001b[43m \u001b[49m\u001b[38;5;241;43m+\u001b[39;49m\u001b[43m \u001b[49m\u001b[38;5;241;43m1\u001b[39;49m\n",
      "File \u001b[0;32m~/Misc/advent-of-code/solutions/2021/../../common/aoc.py:145\u001b[0m, in \u001b[0;36mastar\u001b[0;34m(initial_state, neighbors, h, init_cost)\u001b[0m\n\u001b[1;32m    143\u001b[0m \u001b[38;5;28;01mif\u001b[39;00m \u001b[38;5;129;01mnot\u001b[39;00m (\u001b[38;5;28mself\u001b[39m\u001b[38;5;241m.\u001b[39mstart[axis] \u001b[38;5;241m<\u001b[39m point \u001b[38;5;241m<\u001b[39m \u001b[38;5;28mself\u001b[39m\u001b[38;5;241m.\u001b[39mend[axis]):\n\u001b[1;32m    144\u001b[0m     \u001b[38;5;28;01mreturn\u001b[39;00m [\u001b[38;5;28mself\u001b[39m]\n\u001b[0;32m--> 145\u001b[0m a_end \u001b[38;5;241m=\u001b[39m \u001b[38;5;28mlist\u001b[39m(\u001b[38;5;28mself\u001b[39m\u001b[38;5;241m.\u001b[39mend)\n\u001b[1;32m    146\u001b[0m b_start \u001b[38;5;241m=\u001b[39m \u001b[38;5;28mlist\u001b[39m(\u001b[38;5;28mself\u001b[39m\u001b[38;5;241m.\u001b[39mstart)\n\u001b[1;32m    147\u001b[0m a_end[axis] \u001b[38;5;241m=\u001b[39m b_start[axis] \u001b[38;5;241m=\u001b[39m point\n",
      "Cell \u001b[0;32mIn[317], line 19\u001b[0m, in \u001b[0;36mneighbors\u001b[0;34m(state)\u001b[0m\n\u001b[1;32m     17\u001b[0m \u001b[38;5;28;01mfor\u001b[39;00m index, amphipod \u001b[38;5;129;01min\u001b[39;00m \u001b[38;5;28menumerate\u001b[39m(\u001b[38;5;124m\"\u001b[39m\u001b[38;5;124mABCD\u001b[39m\u001b[38;5;124m\"\u001b[39m):\n\u001b[1;32m     18\u001b[0m     \u001b[38;5;28;01mfor\u001b[39;00m offset, pos \u001b[38;5;129;01min\u001b[39;00m \u001b[38;5;28menumerate\u001b[39m(amphipod_positions(state, amphipod)):\n\u001b[0;32m---> 19\u001b[0m         \u001b[38;5;28;01mfor\u001b[39;00m delta \u001b[38;5;129;01min\u001b[39;00m \u001b[43mdirdelta\u001b[49m\u001b[43m(\u001b[49m\u001b[43mdirs\u001b[49m\u001b[43m(\u001b[49m\u001b[43m)\u001b[49m\u001b[43m)\u001b[49m:\n\u001b[1;32m     20\u001b[0m             i, j \u001b[38;5;241m=\u001b[39m npos \u001b[38;5;241m=\u001b[39m \u001b[38;5;28mtuple\u001b[39m(pos \u001b[38;5;241m+\u001b[39m delta)\n\u001b[1;32m     21\u001b[0m             \u001b[38;5;28;01mif\u001b[39;00m empty_world[i][j] \u001b[38;5;241m!=\u001b[39m \u001b[38;5;124m'\u001b[39m\u001b[38;5;124m.\u001b[39m\u001b[38;5;124m'\u001b[39m:\n",
      "File \u001b[0;32m~/Misc/advent-of-code/solutions/2021/../../common/aoc.py:35\u001b[0m, in \u001b[0;36mdirdelta\u001b[0;34m(dir)\u001b[0m\n\u001b[1;32m     32\u001b[0m \u001b[38;5;129m@static_vars\u001b[39m(delta_map\u001b[38;5;241m=\u001b[39m{\u001b[38;5;124m'\u001b[39m\u001b[38;5;124mn\u001b[39m\u001b[38;5;124m'\u001b[39m: (\u001b[38;5;241m-\u001b[39m\u001b[38;5;241m1\u001b[39m, \u001b[38;5;241m0\u001b[39m), \u001b[38;5;124m'\u001b[39m\u001b[38;5;124ms\u001b[39m\u001b[38;5;124m'\u001b[39m: (\u001b[38;5;241m1\u001b[39m, \u001b[38;5;241m0\u001b[39m), \u001b[38;5;124m'\u001b[39m\u001b[38;5;124mw\u001b[39m\u001b[38;5;124m'\u001b[39m: (\u001b[38;5;241m0\u001b[39m, \u001b[38;5;241m-\u001b[39m\u001b[38;5;241m1\u001b[39m), \u001b[38;5;124m'\u001b[39m\u001b[38;5;124me\u001b[39m\u001b[38;5;124m'\u001b[39m: (\u001b[38;5;241m0\u001b[39m, \u001b[38;5;241m1\u001b[39m)})\n\u001b[1;32m     33\u001b[0m \u001b[38;5;28;01mdef\u001b[39;00m \u001b[38;5;21mdirdelta\u001b[39m(\u001b[38;5;28mdir\u001b[39m):\n\u001b[1;32m     34\u001b[0m     \u001b[38;5;28;01mif\u001b[39;00m \u001b[38;5;129;01mnot\u001b[39;00m \u001b[38;5;28misinstance\u001b[39m(\u001b[38;5;28mdir\u001b[39m, \u001b[38;5;28mstr\u001b[39m):\n\u001b[0;32m---> 35\u001b[0m         \u001b[38;5;28;01mreturn\u001b[39;00m \u001b[38;5;28mlist\u001b[39m(\u001b[38;5;28mmap\u001b[39m(dirdelta, \u001b[38;5;28mdir\u001b[39m))\n\u001b[1;32m     36\u001b[0m     \u001b[38;5;28;01mreturn\u001b[39;00m (\u001b[38;5;241m0\u001b[39m, \u001b[38;5;241m0\u001b[39m) \u001b[38;5;241m+\u001b[39m np\u001b[38;5;241m.\u001b[39msum([dirdelta\u001b[38;5;241m.\u001b[39mdelta_map[c] \u001b[38;5;28;01mfor\u001b[39;00m c \u001b[38;5;129;01min\u001b[39;00m \u001b[38;5;28mdir\u001b[39m], axis\u001b[38;5;241m=\u001b[39m\u001b[38;5;241m0\u001b[39m)\n",
      "File \u001b[0;32m~/Misc/advent-of-code/solutions/2021/../../common/aoc.py:36\u001b[0m, in \u001b[0;36mdirdelta\u001b[0;34m(dir)\u001b[0m\n\u001b[1;32m     34\u001b[0m \u001b[38;5;28;01mif\u001b[39;00m \u001b[38;5;129;01mnot\u001b[39;00m \u001b[38;5;28misinstance\u001b[39m(\u001b[38;5;28mdir\u001b[39m, \u001b[38;5;28mstr\u001b[39m):\n\u001b[1;32m     35\u001b[0m     \u001b[38;5;28;01mreturn\u001b[39;00m \u001b[38;5;28mlist\u001b[39m(\u001b[38;5;28mmap\u001b[39m(dirdelta, \u001b[38;5;28mdir\u001b[39m))\n\u001b[0;32m---> 36\u001b[0m \u001b[38;5;28;01mreturn\u001b[39;00m (\u001b[38;5;241m0\u001b[39m, \u001b[38;5;241m0\u001b[39m) \u001b[38;5;241m+\u001b[39m \u001b[43mnp\u001b[49m\u001b[38;5;241;43m.\u001b[39;49m\u001b[43msum\u001b[49m\u001b[43m(\u001b[49m\u001b[43m[\u001b[49m\u001b[43mdirdelta\u001b[49m\u001b[38;5;241;43m.\u001b[39;49m\u001b[43mdelta_map\u001b[49m\u001b[43m[\u001b[49m\u001b[43mc\u001b[49m\u001b[43m]\u001b[49m\u001b[43m \u001b[49m\u001b[38;5;28;43;01mfor\u001b[39;49;00m\u001b[43m \u001b[49m\u001b[43mc\u001b[49m\u001b[43m \u001b[49m\u001b[38;5;129;43;01min\u001b[39;49;00m\u001b[43m \u001b[49m\u001b[38;5;28;43mdir\u001b[39;49m\u001b[43m]\u001b[49m\u001b[43m,\u001b[49m\u001b[43m \u001b[49m\u001b[43maxis\u001b[49m\u001b[38;5;241;43m=\u001b[39;49m\u001b[38;5;241;43m0\u001b[39;49m\u001b[43m)\u001b[49m\n",
      "File \u001b[0;32m/opt/conda/lib/python3.11/site-packages/numpy/core/fromnumeric.py:2313\u001b[0m, in \u001b[0;36msum\u001b[0;34m(a, axis, dtype, out, keepdims, initial, where)\u001b[0m\n\u001b[1;32m   2310\u001b[0m         \u001b[38;5;28;01mreturn\u001b[39;00m out\n\u001b[1;32m   2311\u001b[0m     \u001b[38;5;28;01mreturn\u001b[39;00m res\n\u001b[0;32m-> 2313\u001b[0m \u001b[38;5;28;01mreturn\u001b[39;00m \u001b[43m_wrapreduction\u001b[49m\u001b[43m(\u001b[49m\u001b[43ma\u001b[49m\u001b[43m,\u001b[49m\u001b[43m \u001b[49m\u001b[43mnp\u001b[49m\u001b[38;5;241;43m.\u001b[39;49m\u001b[43madd\u001b[49m\u001b[43m,\u001b[49m\u001b[43m \u001b[49m\u001b[38;5;124;43m'\u001b[39;49m\u001b[38;5;124;43msum\u001b[39;49m\u001b[38;5;124;43m'\u001b[39;49m\u001b[43m,\u001b[49m\u001b[43m \u001b[49m\u001b[43maxis\u001b[49m\u001b[43m,\u001b[49m\u001b[43m \u001b[49m\u001b[43mdtype\u001b[49m\u001b[43m,\u001b[49m\u001b[43m \u001b[49m\u001b[43mout\u001b[49m\u001b[43m,\u001b[49m\u001b[43m \u001b[49m\u001b[43mkeepdims\u001b[49m\u001b[38;5;241;43m=\u001b[39;49m\u001b[43mkeepdims\u001b[49m\u001b[43m,\u001b[49m\n\u001b[1;32m   2314\u001b[0m \u001b[43m                      \u001b[49m\u001b[43minitial\u001b[49m\u001b[38;5;241;43m=\u001b[39;49m\u001b[43minitial\u001b[49m\u001b[43m,\u001b[49m\u001b[43m \u001b[49m\u001b[43mwhere\u001b[49m\u001b[38;5;241;43m=\u001b[39;49m\u001b[43mwhere\u001b[49m\u001b[43m)\u001b[49m\n",
      "File \u001b[0;32m/opt/conda/lib/python3.11/site-packages/numpy/core/fromnumeric.py:71\u001b[0m, in \u001b[0;36m_wrapreduction\u001b[0;34m(obj, ufunc, method, axis, dtype, out, **kwargs)\u001b[0m\n\u001b[1;32m     60\u001b[0m     \u001b[38;5;28;01mexcept\u001b[39;00m \u001b[38;5;167;01mTypeError\u001b[39;00m:\n\u001b[1;32m     61\u001b[0m         \u001b[38;5;66;03m# A TypeError occurs if the object does have such a method in its\u001b[39;00m\n\u001b[1;32m     62\u001b[0m         \u001b[38;5;66;03m# class, but its signature is not identical to that of NumPy's. This\u001b[39;00m\n\u001b[0;32m   (...)\u001b[0m\n\u001b[1;32m     66\u001b[0m         \u001b[38;5;66;03m# Call _wrapit from within the except clause to ensure a potential\u001b[39;00m\n\u001b[1;32m     67\u001b[0m         \u001b[38;5;66;03m# exception has a traceback chain.\u001b[39;00m\n\u001b[1;32m     68\u001b[0m         \u001b[38;5;28;01mreturn\u001b[39;00m _wrapit(obj, method, \u001b[38;5;241m*\u001b[39margs, \u001b[38;5;241m*\u001b[39m\u001b[38;5;241m*\u001b[39mkwds)\n\u001b[0;32m---> 71\u001b[0m \u001b[38;5;28;01mdef\u001b[39;00m \u001b[38;5;21m_wrapreduction\u001b[39m(obj, ufunc, method, axis, dtype, out, \u001b[38;5;241m*\u001b[39m\u001b[38;5;241m*\u001b[39mkwargs):\n\u001b[1;32m     72\u001b[0m     passkwargs \u001b[38;5;241m=\u001b[39m {k: v \u001b[38;5;28;01mfor\u001b[39;00m k, v \u001b[38;5;129;01min\u001b[39;00m kwargs\u001b[38;5;241m.\u001b[39mitems()\n\u001b[1;32m     73\u001b[0m                   \u001b[38;5;28;01mif\u001b[39;00m v \u001b[38;5;129;01mis\u001b[39;00m \u001b[38;5;129;01mnot\u001b[39;00m np\u001b[38;5;241m.\u001b[39m_NoValue}\n\u001b[1;32m     75\u001b[0m     \u001b[38;5;28;01mif\u001b[39;00m \u001b[38;5;28mtype\u001b[39m(obj) \u001b[38;5;129;01mis\u001b[39;00m \u001b[38;5;129;01mnot\u001b[39;00m mu\u001b[38;5;241m.\u001b[39mndarray:\n",
      "\u001b[0;31mKeyboardInterrupt\u001b[0m: "
     ]
    }
   ],
   "source": [
    "t = 0\n",
    "for i, (cost, state, parents) in enumerate(astar(initial_state, neighbors, heuristic)):\n",
    "    if time.time() > t:\n",
    "        t = time.time() + 1\n",
    "        print(i, heuristic(state))\n",
    "        draw(state)\n",
    "        clear_output(wait=True)\n",
    "    if is_goal(state):\n",
    "        break\n",
    "print(cost)"
   ]
  },
  {
   "cell_type": "code",
   "execution_count": null,
   "id": "a6fbdc88-33bc-473f-a055-1fbea3300ec2",
   "metadata": {},
   "outputs": [],
   "source": []
  }
 ],
 "metadata": {
  "kernelspec": {
   "display_name": "Python 3 (ipykernel)",
   "language": "python",
   "name": "python3"
  },
  "language_info": {
   "codemirror_mode": {
    "name": "ipython",
    "version": 3
   },
   "file_extension": ".py",
   "mimetype": "text/x-python",
   "name": "python",
   "nbconvert_exporter": "python",
   "pygments_lexer": "ipython3",
   "version": "3.11.6"
  }
 },
 "nbformat": 4,
 "nbformat_minor": 5
}
