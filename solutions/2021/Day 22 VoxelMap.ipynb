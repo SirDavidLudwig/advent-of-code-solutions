{
 "cells": [
  {
   "cell_type": "code",
   "execution_count": 14,
   "id": "1f553642-e0fc-4656-bced-d5a8733be72a",
   "metadata": {},
   "outputs": [],
   "source": [
    "import sys\n",
    "sys.path.append(\"../../common\")"
   ]
  },
  {
   "cell_type": "code",
   "execution_count": 36,
   "id": "b77b4f07-39ea-4410-af2f-4b1618f31f24",
   "metadata": {},
   "outputs": [],
   "source": [
    "from aoc import *\n",
    "import numpy as np\n",
    "import re"
   ]
  },
  {
   "cell_type": "code",
   "execution_count": 37,
   "id": "3472a91d-36a6-4b2f-a19c-526be7c19b68",
   "metadata": {},
   "outputs": [],
   "source": [
    "with open(\"./puzzle_inputs/22.txt\") as f:\n",
    "    data = f.read().strip()"
   ]
  },
  {
   "cell_type": "code",
   "execution_count": 38,
   "id": "5de4c5f9-3e68-44cf-bcae-ac763bb02a20",
   "metadata": {},
   "outputs": [],
   "source": [
    "voxel_map = VoxelMap()\n",
    "for line in data.split('\\n'):\n",
    "    value, coords = line.split()\n",
    "    start, end = npints(coords).reshape((-1, 2)).T\n",
    "    voxel_map[Voxel(start, end+1)] = value"
   ]
  },
  {
   "cell_type": "code",
   "execution_count": 39,
   "id": "dd2d88f1-f69a-4b40-8229-fd13bcfdfbf2",
   "metadata": {},
   "outputs": [
    {
     "data": {
      "text/plain": [
       "553201"
      ]
     },
     "execution_count": 39,
     "metadata": {},
     "output_type": "execute_result"
    }
   ],
   "source": [
    "sum(i.volume()*(v == 'on') for i, v in voxel_map[Voxel((-50, -50, -50), (51, 51, 51))])"
   ]
  },
  {
   "cell_type": "code",
   "execution_count": 40,
   "id": "53e9ccfc-f9c8-4390-9263-4e82b94f88ce",
   "metadata": {},
   "outputs": [
    {
     "data": {
      "text/plain": [
       "1263946820845866"
      ]
     },
     "execution_count": 40,
     "metadata": {},
     "output_type": "execute_result"
    }
   ],
   "source": [
    "sum(k.volume() for k, v in voxel_map.items() if v == 'on')"
   ]
  }
 ],
 "metadata": {
  "kernelspec": {
   "display_name": "Python 3 (ipykernel)",
   "language": "python",
   "name": "python3"
  },
  "language_info": {
   "codemirror_mode": {
    "name": "ipython",
    "version": 3
   },
   "file_extension": ".py",
   "mimetype": "text/x-python",
   "name": "python",
   "nbconvert_exporter": "python",
   "pygments_lexer": "ipython3",
   "version": "3.10.6"
  }
 },
 "nbformat": 4,
 "nbformat_minor": 5
}
