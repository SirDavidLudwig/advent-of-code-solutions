{
 "cells": [
  {
   "cell_type": "markdown",
   "metadata": {},
   "source": [
    "# Advent of Code 2021"
   ]
  },
  {
   "cell_type": "code",
   "execution_count": 9,
   "metadata": {},
   "outputs": [],
   "source": [
    "import matplotlib.pyplot as plt\n",
    "import numpy as np"
   ]
  },
  {
   "cell_type": "markdown",
   "metadata": {},
   "source": [
    "## Day 2: Dive!\n",
    "\n",
    "### Part 1:\n",
    "\n",
    "Now, you need to figure out how to pilot this thing.\n",
    "\n",
    "It seems like the submarine can take a series of commands like `forward 1`, `down 2`, or `up 3`:\n",
    "\n",
    "- `forward X` increases the horizontal position by X units.\n",
    "- `down X` increases the depth by X units.\n",
    "- `up X` decreases the depth by X units.\n",
    "\n",
    "Note that since you're on a submarine, `down` and `up` affect your **depth**, and so they have the opposite result of what you might expect.\n",
    "\n",
    "The submarine seems to already have a planned course (your puzzle input). You should probably figure out where it's going. For example:\n",
    "\n",
    "```\n",
    "forward 5\n",
    "down 5\n",
    "forward 8\n",
    "up 3\n",
    "down 8\n",
    "forward 2\n",
    "```\n",
    "\n",
    "Your horizontal position and depth both start at `0`. The steps above would then modify them as follows:\n",
    "\n",
    "`forward 5` adds `5` to your horizontal position, a total of `5`.\n",
    "`down 5` adds `5` to your depth, resulting in a value of `5`.\n",
    "`forward 8` adds `8` to your horizontal position, a total of `13`.\n",
    "`up 3` decreases your depth by `3`, resulting in a value of `2`.\n",
    "`down 8` adds `8` to your depth, resulting in a value of `10`.\n",
    "`forward 2` adds `2` to your horizontal position, a total of `15`.\n",
    "After following these instructions, you would have a horizontal position of `15` and a depth of `10`. (Multiplying these together produces `150`.)\n",
    "\n",
    "Calculate the horizontal position and depth you would have after following the planned course. **What do you get if you multiply your final horizontal position by your final depth?**"
   ]
  },
  {
   "cell_type": "code",
   "execution_count": 16,
   "metadata": {},
   "outputs": [
    {
     "data": {
      "text/plain": [
       "1000"
      ]
     },
     "execution_count": 16,
     "metadata": {},
     "output_type": "execute_result"
    }
   ],
   "source": [
    "move_map = {k:i for i, k in enumerate((\"forward\", \"up\", \"down\"))}\n",
    "move_pair = lambda x: (move_map[x[0]], int(x[1]))\n",
    "with open(\"./private/2021/02.in\") as f:\n",
    "\tmoves = list(map(move_pair, [line.split() for line in f]))\n",
    "len(moves)"
   ]
  },
  {
   "cell_type": "code",
   "execution_count": 21,
   "metadata": {},
   "outputs": [
    {
     "name": "stdout",
     "output_type": "stream",
     "text": [
      "Horizontal: 2065\n",
      "Depth: 917\n",
      "Horizontal*Depth: 1893605\n"
     ]
    }
   ],
   "source": [
    "move_mat = np.array([[1, 0], [0, -1], [0, 1]])\n",
    "pos = np.array([0, 0]) # horizontal, depth\n",
    "\n",
    "for (m, d) in moves:\n",
    "\tpos += d*move_mat[m]\n",
    "\n",
    "print(\"Horizontal:\", pos[0])\n",
    "print(\"Depth:\", pos[1])\n",
    "print(\"Horizontal*Depth:\", np.product(pos))\n"
   ]
  },
  {
   "cell_type": "markdown",
   "metadata": {},
   "source": [
    "### Part 2\n",
    "\n",
    "Based on your calculations, the planned course doesn't seem to make any sense. You find the submarine manual and discover that the process is actually slightly more complicated.\n",
    "\n",
    "In addition to horizontal position and depth, you'll also need to track a third value, **aim**, which also starts at `0`. The commands also mean something entirely different than you first thought:\n",
    "\n",
    "- `down X` **increases** your aim by X units.\n",
    "- `up X` **decreases** your aim by X units.\n",
    "- `forward X` does two things:\n",
    "\t- It increases your horizontal position by `X` units.\n",
    "\t- It increases your depth by your aim **multiplied by** `X`.\n",
    "\t\n",
    "Again note that since you're on a submarine, `down` and `up` do the opposite of what you might expect: \"down\" means aiming in the positive direction.\n",
    "\n",
    "Now, the above example does something different:\n",
    "\n",
    "- `forward 5` adds `5` to your horizontal position, a total of `5`. Because your aim is `0`, your depth does not change.\n",
    "- `down 5` adds `5` to your aim, resulting in a value of 5.\n",
    "- `forward 8` adds `8` to your horizontal position, a total of `13`. Because your aim is `5`, your depth increases by `8*5=40`.\n",
    "- `up 3` decreases your aim by `3`, resulting in a value of `2`.\n",
    "- `down 8` adds `8` to your aim, resulting in a value of `10`.\n",
    "- `forward 2` adds `2` to your horizontal position, a total of `15`. Because your aim is `10`, your depth increases by `2*10=20` to a total of `60`.\n",
    "\n",
    "After following these new instructions, you would have a horizontal position of `15` and a depth of 60. (Multiplying these produces `900`.)\n",
    "\n",
    "Using this new interpretation of the commands, calculate the horizontal position and depth you would have after following the planned course. **What do you get if you multiply your final horizontal position by your final depth?**"
   ]
  },
  {
   "cell_type": "code",
   "execution_count": 34,
   "metadata": {},
   "outputs": [
    {
     "name": "stdout",
     "output_type": "stream",
     "text": [
      "Horizontal: 2065\n",
      "Aim: 917\n",
      "Depth: 1026990\n",
      "Horizontal*Depth: 2120734350\n"
     ]
    }
   ],
   "source": [
    "move_mat = np.array([[1, 0], [0, -1], [0, 1]]) # forward, up, down\n",
    "pos = np.array([0, 0]) # horizontal, aim\n",
    "depth = 0\n",
    "\n",
    "for (m, d) in moves:\n",
    "\tpos += d*move_mat[m]\n",
    "\tif m == 0: # forward\n",
    "\t\tdepth += d*pos[1]\n",
    "\n",
    "print(\"Horizontal:\", pos[0])\n",
    "print(\"Aim:\", pos[1])\n",
    "print(\"Depth:\", depth)\n",
    "print(\"Horizontal*Depth:\", pos[0]*depth)\n"
   ]
  },
  {
   "cell_type": "markdown",
   "metadata": {},
   "source": []
  }
 ],
 "metadata": {
  "interpreter": {
   "hash": "0f595d3fc34ed11edbc38d9dec2a54c03fa2bf2c415ca6a655d899d5167c3720"
  },
  "kernelspec": {
   "display_name": "Python 3.9.5 64-bit ('base': conda)",
   "language": "python",
   "name": "python3"
  },
  "language_info": {
   "codemirror_mode": {
    "name": "ipython",
    "version": 3
   },
   "file_extension": ".py",
   "mimetype": "text/x-python",
   "name": "python",
   "nbconvert_exporter": "python",
   "pygments_lexer": "ipython3",
   "version": "3.9.5"
  },
  "orig_nbformat": 4
 },
 "nbformat": 4,
 "nbformat_minor": 2
}
