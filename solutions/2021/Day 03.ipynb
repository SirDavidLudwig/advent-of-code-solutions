{
 "cells": [
  {
   "cell_type": "markdown",
   "metadata": {},
   "source": [
    "# Advent of Code 2021"
   ]
  },
  {
   "cell_type": "code",
   "execution_count": 2,
   "metadata": {},
   "outputs": [],
   "source": [
    "import matplotlib.pyplot as plt\n",
    "import numpy as np"
   ]
  },
  {
   "cell_type": "markdown",
   "metadata": {},
   "source": [
    "## Day 3: Binary Diagnostic\n",
    "\n",
    "### Part 1:\n",
    "\n",
    "The submarine has been making some odd creaking noises, so you ask it to produce a diagnostic report just in case.\n",
    "\n",
    "The diagnostic report (your puzzle input) consists of a list of binary numbers which, when decoded properly, can tell you many useful things about the conditions of the submarine. The first parameter to check is the **power consumption**.\n",
    "\n",
    "You need to use the binary numbers in the diagnostic report to generate two new binary numbers (called the **gamma rate** and the **epsilon rate**). The power consumption can then be found by multiplying the gamma rate by the epsilon rate.\n",
    "\n",
    "Each bit in the gamma rate can be determined by finding the **most common bit in the corresponding position** of all numbers in the diagnostic report. For example, given the following diagnostic report:\n",
    "\n",
    "```\n",
    "00100\n",
    "11110\n",
    "10110\n",
    "10111\n",
    "10101\n",
    "01111\n",
    "00111\n",
    "11100\n",
    "10000\n",
    "11001\n",
    "00010\n",
    "01010\n",
    "```\n",
    "\n",
    "Considering only the first bit of each number, there are five `0` bits and seven `1` bits. Since the most common bit is `1`, the first bit of the gamma rate is `1`.\n",
    "\n",
    "The most common second bit of the numbers in the diagnostic report is `0`, so the second bit of the gamma rate is `0`.\n",
    "\n",
    "The most common value of the third, fourth, and fifth bits are `1`, `1`, and `0`, respectively, and so the final three bits of the gamma rate are `110`.\n",
    "\n",
    "So, the gamma rate is the binary number `10110`, or `22` in decimal.\n",
    "\n",
    "The epsilon rate is calculated in a similar way; rather than use the most common bit, the least common bit from each position is used. So, the epsilon rate is `01001`, or `9` in decimal. Multiplying the gamma rate (`22`) by the epsilon rate (`9`) produces the power consumption, `198`.\n",
    "\n",
    "Use the binary numbers in your diagnostic report to calculate the gamma rate and epsilon rate, then multiply them together. **What is the power consumption of the submarine?** (Be sure to represent your answer in decimal, not binary.)"
   ]
  },
  {
   "cell_type": "code",
   "execution_count": 9,
   "metadata": {},
   "outputs": [
    {
     "data": {
      "text/plain": [
       "(1000, 12)"
      ]
     },
     "execution_count": 9,
     "metadata": {},
     "output_type": "execute_result"
    }
   ],
   "source": [
    "with open(\"./private/2021/03.in\") as f:\n",
    "\tvalues = np.array([list(map(int, line.strip())) for line in f])\n",
    "values.shape"
   ]
  },
  {
   "cell_type": "code",
   "execution_count": 46,
   "metadata": {},
   "outputs": [
    {
     "name": "stdout",
     "output_type": "stream",
     "text": [
      "Gamma bits:   [1 0 1 1 0 0 1 0 0 0 0 1]\n",
      "Epsilon bits: [0 1 0 0 1 1 0 1 1 1 1 0]\n"
     ]
    }
   ],
   "source": [
    "gamma_bits = np.sum(values, axis=0) > len(values)/2\n",
    "epsilon_bits = gamma_bits != 1\n",
    "\n",
    "print(\"Gamma bits:  \", gamma_bits.astype(\"int\"))\n",
    "print(\"Epsilon bits:\", epsilon_bits.astype(\"int\"))"
   ]
  },
  {
   "cell_type": "code",
   "execution_count": 49,
   "metadata": {},
   "outputs": [
    {
     "name": "stdout",
     "output_type": "stream",
     "text": [
      "Gamma:   2849\n",
      "Epsilon: 1246\n",
      "Power Consumption: 3549854\n"
     ]
    }
   ],
   "source": [
    "bits_to_decimal = lambda x: int(''.join(map(str, x.astype(\"int\"))), 2)\n",
    "\n",
    "gamma = bits_to_decimal(gamma_bits)\n",
    "epsilon = bits_to_decimal(epsilon_bits)\n",
    "\n",
    "print(\"Gamma:  \", gamma)\n",
    "print(\"Epsilon:\", epsilon)\n",
    "print(\"Power Consumption:\", gamma*epsilon)"
   ]
  },
  {
   "cell_type": "markdown",
   "metadata": {},
   "source": [
    "### Part 2:\n",
    "\n",
    "Next, you should verify the **life support rating**, which can be determined by multiplying the **oxygen generator rating** by the **CO2 scrubber rating**.\n",
    "\n",
    "Both the oxygen generator rating and the CO2 scrubber rating are values that can be found in your diagnostic report - finding them is the tricky part. Both values are located using a similar process that involves filtering out values until only one remains. Before searching for either rating value, start with the full list of binary numbers from your diagnostic report and **consider just the first bit** of those numbers. Then:\n",
    "\n",
    "- Keep only numbers selected by the **bit criteria** for the type of rating value for which you are searching. Discard numbers which do not match the bit criteria.\n",
    "- If you only have one number left, stop; this is the rating value for which you are searching.\n",
    "- Otherwise, repeat the process, considering the next bit to the right.\n",
    "\n",
    "The **bit criteria** depends on which type of rating value you want to find:\n",
    "\n",
    "- To find **oxygen generator rating**, determine the **most common** value (`0` or `1`) in the current bit position, and keep only numbers with that bit in that position. If `0` and `1` are equally common, keep values with a `1` in the position being considered.\n",
    "- To find **CO2 scrubber rating**, determine the **least common** value (`0` or `1`) in the current bit position, and keep only numbers with that bit in that position. If `0` and `1` are equally common, keep values with a `0` in the position being considered.\n",
    "\n",
    "For example, to determine the **oxygen generator rating** value using the same example diagnostic report from above:\n",
    "\n",
    "- Start with all 12 numbers and consider only the first bit of each number. There are more `1` bits (7) than `0` bits (5), so keep only the 7 numbers with a `1` in the first position: `11110`, `10110`, `10111`, `10101`, `11100`, `10000`, and `11001`.\n",
    "- Then, consider the second bit of the 7 remaining numbers: there are more `0` bits (4) than `1` bits (3), so keep only the 4 numbers with a `0` in the second position: `10110`, `10111`, `10101`, and `10000`.\n",
    "- In the third position, three of the four numbers have a `1`, so keep those three: `10110`, `10111`, and `10101`.\n",
    "- In the fourth position, two of the three numbers have a `1`, so keep those two: `10110` and `10111`.\n",
    "- In the fifth position, there are an equal number of `0` bits and `1` bits (one each). So, to find the **oxygen generator rating**, keep the number with a `1` in that position: `10111`.\n",
    "- As there is only one number left, stop; the **oxygen generator rating** is `10111`, or `23` in decimal.\n",
    "\n",
    "Then, to determine the **CO2 scrubber rating** value from the same example above:\n",
    "\n",
    "- Start again with all 12 numbers and consider only the first bit of each number. There are fewer `0` bits (5) than `1` bits (7), so keep only the 5 numbers with a `0` in the first position: `00100`, `01111`, `00111`, `00010`, and `01010`.\n",
    "- Then, consider the second bit of the 5 remaining numbers: there are fewer `1` bits (2) than `0` bits (3), so keep only the 2 numbers with a `1` in the second position: `01111` and `01010`.\n",
    "- In the third position, there are an equal number of `0` bits and `1` bits (one each). So, to find the **CO2 scrubber rating**, keep the number with a `0` in that position: `01010`.\n",
    "- As there is only one number left, stop; the **CO2 scrubber rating** is `01010`, or `10` in decimal.\n",
    "\n",
    "Finally, to find the life support rating, multiply the oxygen generator rating (`23`) by the CO2 scrubber rating (`10`) to get `230`.\n",
    "\n",
    "Use the binary numbers in your diagnostic report to calculate the oxygen generator rating and CO2 scrubber rating, then multiply them together. **What is the life support rating of the submarine?** (Be sure to represent your answer in decimal, not binary.)"
   ]
  },
  {
   "cell_type": "code",
   "execution_count": 154,
   "metadata": {},
   "outputs": [],
   "source": [
    "def bit_criteria_search(values, most_common=True):\n",
    "\tnum_bits = values.shape[1]\n",
    "\tbits = \"\"\n",
    "\tfor i in range(num_bits):\n",
    "\t\tif len(values) == 1:\n",
    "\t\t\tbits += ''.join(map(str, values[0][i:]))\n",
    "\t\t\tbreak\n",
    "\t\ttotal_ones = np.sum(values[:,i])\n",
    "\t\tbit = total_ones >= len(values)/2\n",
    "\t\tif not most_common:\n",
    "\t\t\tbit = not bit\n",
    "\t\tindices = np.where(values[:,i] == bit)\n",
    "\t\tvalues = values[indices]\n",
    "\t\tbits += str(int(bit))\n",
    "\tassert len(bits) == num_bits\n",
    "\treturn bits"
   ]
  },
  {
   "cell_type": "code",
   "execution_count": 155,
   "metadata": {},
   "outputs": [],
   "source": [
    "test = [\n",
    "\t\"00100\",\n",
    "\t\"11110\",\n",
    "\t\"10110\",\n",
    "\t\"10111\",\n",
    "\t\"10101\",\n",
    "\t\"01111\",\n",
    "\t\"00111\",\n",
    "\t\"11100\",\n",
    "\t\"10000\",\n",
    "\t\"11001\",\n",
    "\t\"00010\",\n",
    "\t\"01010\"\n",
    "]\n",
    "test = np.array(list(map(lambda x: [int(i) for i in x], test)))"
   ]
  },
  {
   "cell_type": "code",
   "execution_count": 159,
   "metadata": {},
   "outputs": [
    {
     "data": {
      "text/plain": [
       "'10111'"
      ]
     },
     "execution_count": 159,
     "metadata": {},
     "output_type": "execute_result"
    }
   ],
   "source": [
    "bit_criteria_search(test, most_common=True)"
   ]
  },
  {
   "cell_type": "code",
   "execution_count": 160,
   "metadata": {},
   "outputs": [
    {
     "data": {
      "text/plain": [
       "'01010'"
      ]
     },
     "execution_count": 160,
     "metadata": {},
     "output_type": "execute_result"
    }
   ],
   "source": [
    "bit_criteria_search(test, most_common=False)"
   ]
  },
  {
   "cell_type": "code",
   "execution_count": 161,
   "metadata": {},
   "outputs": [
    {
     "data": {
      "text/plain": [
       "2783"
      ]
     },
     "execution_count": 161,
     "metadata": {},
     "output_type": "execute_result"
    }
   ],
   "source": [
    "bits = bit_criteria_search(values, most_common=True)\n",
    "oxygen_generator_rating = int(bits, 2)\n",
    "oxygen_generator_rating"
   ]
  },
  {
   "cell_type": "code",
   "execution_count": 162,
   "metadata": {},
   "outputs": [
    {
     "data": {
      "text/plain": [
       "1353"
      ]
     },
     "execution_count": 162,
     "metadata": {},
     "output_type": "execute_result"
    }
   ],
   "source": [
    "bits = bit_criteria_search(values, most_common=False)\n",
    "co2_scrubber_rating = int(bits, 2)\n",
    "co2_scrubber_rating"
   ]
  },
  {
   "cell_type": "code",
   "execution_count": 163,
   "metadata": {},
   "outputs": [
    {
     "data": {
      "text/plain": [
       "3765399"
      ]
     },
     "execution_count": 163,
     "metadata": {},
     "output_type": "execute_result"
    }
   ],
   "source": [
    "life_support_rating = oxygen_generator_rating*co2_scrubber_rating\n",
    "life_support_rating"
   ]
  },
  {
   "cell_type": "markdown",
   "metadata": {},
   "source": []
  }
 ],
 "metadata": {
  "interpreter": {
   "hash": "0f595d3fc34ed11edbc38d9dec2a54c03fa2bf2c415ca6a655d899d5167c3720"
  },
  "kernelspec": {
   "display_name": "Python 3.9.5 64-bit ('base': conda)",
   "language": "python",
   "name": "python3"
  },
  "language_info": {
   "codemirror_mode": {
    "name": "ipython",
    "version": 3
   },
   "file_extension": ".py",
   "mimetype": "text/x-python",
   "name": "python",
   "nbconvert_exporter": "python",
   "pygments_lexer": "ipython3",
   "version": "3.9.5"
  },
  "orig_nbformat": 4
 },
 "nbformat": 4,
 "nbformat_minor": 2
}
