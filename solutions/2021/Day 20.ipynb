{
 "cells": [
  {
   "cell_type": "code",
   "execution_count": 1,
   "metadata": {},
   "outputs": [],
   "source": [
    "import numpy as np"
   ]
  },
  {
   "cell_type": "markdown",
   "metadata": {},
   "source": [
    "## Day 20: Trench Map\n",
    "\n",
    "### Part 1:\n",
    "\n",
    "With the scanners fully deployed, you turn their attention to mapping the floor of the ocean trench.\n",
    "\n",
    "When you get back the image from the scanners, it seems to just be random noise. Perhaps you can combine an image enhancement algorithm and the input image (your puzzle input) to clean it up a little.\n",
    "\n",
    "For example:\n",
    "\n",
    "```\n",
    "..#.#..#####.#.#.#.###.##.....###.##.#..###.####..#####..#....#..#..##..##\n",
    "#..######.###...####..#..#####..##..#.#####...##.#.#..#.##..#.#......#.###\n",
    ".######.###.####...#.##.##..#..#..#####.....#.#....###..#.##......#.....#.\n",
    ".#..#..##..#...##.######.####.####.#.#...#.......#..#.#.#...####.##.#.....\n",
    ".#..#...##.#.##..#...##.#.##..###.#......#.#.......#.#.#.####.###.##...#..\n",
    "...####.#..#..#.##.#....##..#.####....##...##..#...#......#.#.......#.....\n",
    "..##..####..#...#.#.#...##..#.#..###..#####........#..####......#..#\n",
    "\n",
    "#..#.\n",
    "#....\n",
    "##..#\n",
    "..#..\n",
    "..###\n",
    "```\n",
    "\n",
    "The first section is the **image enhancement algorithm**. It is normally given on a single line, but it has been wrapped to multiple lines in this example for legibility. The second section is the **input image**, a two-dimensional grid of **light pixels** (`#`) and **dark pixels** (`.`).\n",
    "\n",
    "The image enhancement algorithm describes how to enhance an image by **simultaneously** converting all pixels in the input image into an output image. Each pixel of the output image is determined by looking at a 3x3 square of pixels centered on the corresponding input image pixel. So, to determine the value of the pixel at (5,10) in the output image, nine pixels from the input image need to be considered: (4,9), (4,10), (4,11), (5,9), (5,10), (5,11), (6,9), (6,10), and (6,11). These nine input pixels are combined into a single binary number that is used as an index in the **image enhancement algorithm** string.\n",
    "\n",
    "For example, to determine the output pixel that corresponds to the very middle pixel of the input image, the nine pixels marked by `[...]` would need to be considered:\n",
    "\n",
    "```\n",
    "# . . # .\n",
    "#[. . .].\n",
    "#[# . .]#\n",
    ".[. # .].\n",
    ". . # # #\n",
    "```\n",
    "\n",
    "Starting from the top-left and reading across each row, these pixels are `...`, then `#..`, then `.#.`; combining these forms `...#...#.`. By turning dark pixels (`.`) into `0` and light pixels (`#`) into `1`, the binary number `000100010` can be formed, which is `34` in decimal.\n",
    "\n",
    "The image enhancement algorithm string is exactly 512 characters long, enough to match every possible 9-bit binary number. The first few characters of the string (numbered starting from zero) are as follows:\n",
    "\n",
    "```\n",
    "0         10        20        30  34    40        50        60        70\n",
    "|         |         |         |   |     |         |         |         |\n",
    "..#.#..#####.#.#.#.###.##.....###.##.#..###.####..#####..#....#..#..##..##\n",
    "```\n",
    "\n",
    "In the middle of this first group of characters, the character at index 34 can be found: `#`. So, the output pixel in the center of the output image should be `#`, a **light pixel**.\n",
    "\n",
    "This process can then be repeated to calculate every pixel of the output image.\n",
    "\n",
    "Through advances in imaging technology, the images being operated on here are **infinite** in size. **Every** pixel of the infinite output image needs to be calculated exactly based on the relevant pixels of the input image. The small input image you have is only a small region of the actual infinite input image; the rest of the input image consists of dark pixels (`.`). For the purposes of the example, to save on space, only a portion of the infinite-sized input and output images will be shown.\n",
    "\n",
    "The starting input image, therefore, looks something like this, with more dark pixels (`.`) extending forever in every direction not shown here:\n",
    "\n",
    "```\n",
    "...............\n",
    "...............\n",
    "...............\n",
    "...............\n",
    "...............\n",
    ".....#..#......\n",
    ".....#.........\n",
    ".....##..#.....\n",
    ".......#.......\n",
    ".......###.....\n",
    "...............\n",
    "...............\n",
    "...............\n",
    "...............\n",
    "...............\n",
    "```\n",
    "\n",
    "By applying the image enhancement algorithm to every pixel simultaneously, the following output image can be obtained:\n",
    "\n",
    "```\n",
    "...............\n",
    "...............\n",
    "...............\n",
    "...............\n",
    ".....##.##.....\n",
    "....#..#.#.....\n",
    "....##.#..#....\n",
    "....####..#....\n",
    ".....#..##.....\n",
    "......##..#....\n",
    ".......#.#.....\n",
    "...............\n",
    "...............\n",
    "...............\n",
    "...............\n",
    "```\n",
    "\n",
    "Through further advances in imaging technology, the above output image can also be used as an input image! This allows it to be enhanced **a second time**:\n",
    "\n",
    "```\n",
    "...............\n",
    "...............\n",
    "...............\n",
    "..........#....\n",
    "....#..#.#.....\n",
    "...#.#...###...\n",
    "...#...##.#....\n",
    "...#.....#.#...\n",
    "....#.#####....\n",
    ".....#.#####...\n",
    "......##.##....\n",
    ".......###.....\n",
    "...............\n",
    "...............\n",
    "...............\n",
    "```\n",
    "\n",
    "Truly incredible - now the small details are really starting to come through. After enhancing the original input image twice, `35` pixels are lit.\n",
    "\n",
    "Start with the original input image and apply the image enhancement algorithm twice, being careful to account for the infinite size of the images. **How many pixels are lit in the resulting image?**"
   ]
  },
  {
   "cell_type": "code",
   "execution_count": 2,
   "metadata": {},
   "outputs": [],
   "source": [
    "with open(\"./private/2021/20.in\") as f:\n",
    "\tenhancement = f.readline().strip()\n",
    "\tf.readline() # blank\n",
    "\timage = np.array([[int(c=='#') for c in line] for line in f ]).astype(np.uint8)"
   ]
  },
  {
   "cell_type": "code",
   "execution_count": 3,
   "metadata": {},
   "outputs": [
    {
     "data": {
      "text/plain": [
       "array([256, 128,  64,  32,  16,   8,   4,   2,   1], dtype=int32)"
      ]
     },
     "execution_count": 3,
     "metadata": {},
     "output_type": "execute_result"
    }
   ],
   "source": [
    "np.full(9, 2)**np.arange(8, -1, -1)"
   ]
  },
  {
   "cell_type": "code",
   "execution_count": 4,
   "metadata": {},
   "outputs": [],
   "source": [
    "POWERS = np.full(9, 2)**np.arange(8, -1, -1)\n",
    "\n",
    "def enhance_pixel(image, i, j):\n",
    "\twindow = image[i-1:i+2,j-1:j+2]\n",
    "\tindex = np.sum(POWERS*window.flatten())\n",
    "\treturn int(enhancement[index] == '#')\n",
    "\n",
    "def enhance(image, levels=1):\n",
    "\timage = np.pad(image, levels + 2)\n",
    "\tnew_img = np.zeros_like(image)\n",
    "\tfor level in range(levels):\n",
    "\t\tfor i in range(1, image.shape[0] - 1):\n",
    "\t\t\tfor j in range(1, image.shape[1] - 1):\n",
    "\t\t\t\tnew_img[i,j] = enhance_pixel(image, i, j)\n",
    "\t\timage[:,:] = new_img\n",
    "\t\tif (level & 1):\n",
    "\t\t\timage[-2,:] = image[:,-2] = 0\n",
    "\treturn image\n",
    "\n",
    "def draw(image):\n",
    "\tfor row in image:\n",
    "\t\tfor col in row:\n",
    "\t\t\tprint(' #' if col else ' .', end=\"\")\n",
    "\t\tprint()"
   ]
  },
  {
   "cell_type": "code",
   "execution_count": 5,
   "metadata": {},
   "outputs": [],
   "source": [
    "img = enhance(image, 2)"
   ]
  },
  {
   "cell_type": "code",
   "execution_count": 6,
   "metadata": {},
   "outputs": [
    {
     "data": {
      "text/plain": [
       "5275"
      ]
     },
     "execution_count": 6,
     "metadata": {},
     "output_type": "execute_result"
    }
   ],
   "source": [
    "img.sum()"
   ]
  },
  {
   "cell_type": "markdown",
   "metadata": {},
   "source": [
    "### Part 2:\n",
    "\n",
    "You still can't quite make out the details in the image. Maybe you just didn't enhance it enough.\n",
    "\n",
    "If you enhance the starting input image in the above example a total of **50** times, `3351` pixels are lit in the final output image.\n",
    "\n",
    "Start again with the original input image and apply the image enhancement algorithm 50 times. **How many pixels are lit in the resulting image?**"
   ]
  },
  {
   "cell_type": "code",
   "execution_count": 7,
   "metadata": {},
   "outputs": [],
   "source": [
    "img = enhance(image, 50)"
   ]
  },
  {
   "cell_type": "code",
   "execution_count": 8,
   "metadata": {},
   "outputs": [
    {
     "data": {
      "text/plain": [
       "16482"
      ]
     },
     "execution_count": 8,
     "metadata": {},
     "output_type": "execute_result"
    }
   ],
   "source": [
    "img.sum()"
   ]
  },
  {
   "cell_type": "code",
   "execution_count": null,
   "metadata": {},
   "outputs": [],
   "source": []
  }
 ],
 "metadata": {
  "interpreter": {
   "hash": "0f595d3fc34ed11edbc38d9dec2a54c03fa2bf2c415ca6a655d899d5167c3720"
  },
  "kernelspec": {
   "display_name": "Python 3.9.5 64-bit ('base': conda)",
   "language": "python",
   "name": "python3"
  },
  "language_info": {
   "codemirror_mode": {
    "name": "ipython",
    "version": 3
   },
   "file_extension": ".py",
   "mimetype": "text/x-python",
   "name": "python",
   "nbconvert_exporter": "python",
   "pygments_lexer": "ipython3",
   "version": "3.9.5"
  },
  "orig_nbformat": 4
 },
 "nbformat": 4,
 "nbformat_minor": 2
}
