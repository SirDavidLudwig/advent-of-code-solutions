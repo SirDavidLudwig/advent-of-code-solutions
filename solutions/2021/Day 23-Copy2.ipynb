{
 "cells": [
  {
   "cell_type": "markdown",
   "id": "403f76ee-148a-4489-a261-4d60fde4b7c6",
   "metadata": {},
   "source": [
    "<div style=\"background-color: rgb(15, 15, 35); border: 1px solid rgb(255, 255, 255); color: rgb(204, 204, 204); font-family: monospace; margin-left: -5px; margin-right: -20px; padding: 1rem;\"><h2 style=\"border-color: rgb(255, 255, 255); color: rgb(255, 255, 255);\">--- Day 23: Amphipod ---</h2><p style=\"border-color: rgb(204, 204, 204); color: rgb(204, 204, 204);\">A group of <a href=\"https://en.wikipedia.org/wiki/Amphipoda\" target=\"_blank\" style=\"border-color: rgb(0, 153, 0); color: rgb(0, 153, 0);\">amphipods</a> notice your fancy submarine and flag you down. \"With such an impressive shell,\" one amphipod <span title=\"What? You didn't know amphipods can talk?\" style=\"border-color: rgb(204, 204, 204); color: rgb(204, 204, 204);\">says</span>, \"surely you can help us with a question that has stumped our best scientists.\"</p>\n",
    "<p style=\"border-color: rgb(204, 204, 204); color: rgb(204, 204, 204);\">They go on to explain that a group of timid, stubborn amphipods live in a nearby burrow. Four types of amphipods live there: <em style=\"border-color: rgb(255, 255, 255); color: rgb(255, 255, 255); text-shadow: rgb(255, 255, 255) 0px 0px 5px;\">Amber</em> (<code style=\"border: 1px solid rgb(51, 51, 64); color: rgb(204, 204, 204); background: rgb(16, 16, 26);\">A</code>), <em style=\"border-color: rgb(255, 255, 255); color: rgb(255, 255, 255); text-shadow: rgb(255, 255, 255) 0px 0px 5px;\">Bronze</em> (<code style=\"border: 1px solid rgb(51, 51, 64); color: rgb(204, 204, 204); background: rgb(16, 16, 26);\">B</code>), <em style=\"border-color: rgb(255, 255, 255); color: rgb(255, 255, 255); text-shadow: rgb(255, 255, 255) 0px 0px 5px;\">Copper</em> (<code style=\"border: 1px solid rgb(51, 51, 64); color: rgb(204, 204, 204); background: rgb(16, 16, 26);\">C</code>), and <em style=\"border-color: rgb(255, 255, 255); color: rgb(255, 255, 255); text-shadow: rgb(255, 255, 255) 0px 0px 5px;\">Desert</em> (<code style=\"border: 1px solid rgb(51, 51, 64); color: rgb(204, 204, 204); background: rgb(16, 16, 26);\">D</code>). They live in a burrow that consists of a <em style=\"border-color: rgb(255, 255, 255); color: rgb(255, 255, 255); text-shadow: rgb(255, 255, 255) 0px 0px 5px;\">hallway</em> and four <em style=\"border-color: rgb(255, 255, 255); color: rgb(255, 255, 255); text-shadow: rgb(255, 255, 255) 0px 0px 5px;\">side rooms</em>. The side rooms are initially full of amphipods, and the hallway is initially empty.</p>\n",
    "<p style=\"border-color: rgb(204, 204, 204); color: rgb(204, 204, 204);\">They give you a <em style=\"border-color: rgb(255, 255, 255); color: rgb(255, 255, 255); text-shadow: rgb(255, 255, 255) 0px 0px 5px;\">diagram of the situation</em> (your puzzle input), including locations of each amphipod (<code style=\"border: 1px solid rgb(51, 51, 64); color: rgb(204, 204, 204); background: rgb(16, 16, 26);\">A</code>, <code style=\"border: 1px solid rgb(51, 51, 64); color: rgb(204, 204, 204); background: rgb(16, 16, 26);\">B</code>, <code style=\"border: 1px solid rgb(51, 51, 64); color: rgb(204, 204, 204); background: rgb(16, 16, 26);\">C</code>, or <code style=\"border: 1px solid rgb(51, 51, 64); color: rgb(204, 204, 204); background: rgb(16, 16, 26);\">D</code>, each of which is occupying an otherwise open space), walls (<code style=\"border: 1px solid rgb(51, 51, 64); color: rgb(204, 204, 204); background: rgb(16, 16, 26);\">#</code>), and open space (<code style=\"border: 1px solid rgb(51, 51, 64); color: rgb(204, 204, 204); background: rgb(16, 16, 26);\">.</code>).</p>\n",
    "<p style=\"border-color: rgb(204, 204, 204); color: rgb(204, 204, 204);\">For example:</p>\n",
    "<pre style=\"border: 1px solid rgb(51, 51, 64); color: rgb(204, 204, 204); display: inline-block;\"><code style=\"border-color: rgb(204, 204, 204); color: rgb(204, 204, 204);\">#############\n",
    "#...........#\n",
    "###B#C#B#D###\n",
    "  #A#D#C#A#\n",
    "  #########\n",
    "</code></pre>\n",
    "<p style=\"border-color: rgb(204, 204, 204); color: rgb(204, 204, 204);\">The amphipods would like a method to organize every amphipod into side rooms so that each side room contains one type of amphipod and the types are sorted <code style=\"border: 1px solid rgb(51, 51, 64); color: rgb(204, 204, 204); background: rgb(16, 16, 26);\">A</code>-<code style=\"border: 1px solid rgb(51, 51, 64); color: rgb(204, 204, 204); background: rgb(16, 16, 26);\">D</code> going left to right, like this:</p>\n",
    "<pre style=\"border: 1px solid rgb(51, 51, 64); color: rgb(204, 204, 204); display: inline-block;\"><code style=\"border-color: rgb(204, 204, 204); color: rgb(204, 204, 204);\">#############\n",
    "#...........#\n",
    "###A#B#C#D###\n",
    "  #A#B#C#D#\n",
    "  #########\n",
    "</code></pre>\n",
    "<p style=\"border-color: rgb(204, 204, 204); color: rgb(204, 204, 204);\">Amphipods can move up, down, left, or right so long as they are moving into an unoccupied open space. Each type of amphipod requires a different amount of <em style=\"border-color: rgb(255, 255, 255); color: rgb(255, 255, 255); text-shadow: rgb(255, 255, 255) 0px 0px 5px;\">energy</em> to move one step: Amber amphipods require <code style=\"border: 1px solid rgb(51, 51, 64); color: rgb(204, 204, 204); background: rgb(16, 16, 26);\">1</code> energy per step, Bronze amphipods require <code style=\"border: 1px solid rgb(51, 51, 64); color: rgb(204, 204, 204); background: rgb(16, 16, 26);\">10</code> energy, Copper amphipods require <code style=\"border: 1px solid rgb(51, 51, 64); color: rgb(204, 204, 204); background: rgb(16, 16, 26);\">100</code>, and Desert ones require <code style=\"border: 1px solid rgb(51, 51, 64); color: rgb(204, 204, 204); background: rgb(16, 16, 26);\">1000</code>. The amphipods would like you to find a way to organize the amphipods that requires the <em style=\"border-color: rgb(255, 255, 255); color: rgb(255, 255, 255); text-shadow: rgb(255, 255, 255) 0px 0px 5px;\">least total energy</em>.</p>\n",
    "<p style=\"border-color: rgb(204, 204, 204); color: rgb(204, 204, 204);\">However, because they are timid and stubborn, the amphipods have some extra rules:</p>\n",
    "<ul style=\"border-color: rgb(204, 204, 204); color: rgb(204, 204, 204);\">\n",
    "<li style=\"border-color: rgb(204, 204, 204); color: rgb(204, 204, 204);\">Amphipods will never <em style=\"border-color: rgb(255, 255, 255); color: rgb(255, 255, 255); text-shadow: rgb(255, 255, 255) 0px 0px 5px;\">stop on the space immediately outside any room</em>. They can move into that space so long as they immediately continue moving. (Specifically, this refers to the four open spaces in the hallway that are directly above an amphipod starting position.)</li>\n",
    "<li style=\"border-color: rgb(204, 204, 204); color: rgb(204, 204, 204);\">Amphipods will never <em style=\"border-color: rgb(255, 255, 255); color: rgb(255, 255, 255); text-shadow: rgb(255, 255, 255) 0px 0px 5px;\">move from the hallway into a room</em> unless that room is their destination room <em style=\"border-color: rgb(255, 255, 255); color: rgb(255, 255, 255); text-shadow: rgb(255, 255, 255) 0px 0px 5px;\">and</em> that room contains no amphipods which do not also have that room as their own destination. If an amphipod's starting room is not its destination room, it can stay in that room until it leaves the room. (For example, an Amber amphipod will not move from the hallway into the right three rooms, and will only move into the leftmost room if that room is empty or if it only contains other Amber amphipods.)</li>\n",
    "<li style=\"border-color: rgb(204, 204, 204); color: rgb(204, 204, 204);\">Once an amphipod stops moving in the hallway, <em style=\"border-color: rgb(255, 255, 255); color: rgb(255, 255, 255); text-shadow: rgb(255, 255, 255) 0px 0px 5px;\">it will stay in that spot until it can move into a room</em>. (That is, once any amphipod starts moving, any other amphipods currently in the hallway are locked in place and will not move again until they can move fully into a room.)</li>\n",
    "</ul>\n",
    "<p style=\"border-color: rgb(204, 204, 204); color: rgb(204, 204, 204);\">In the above example, the amphipods can be organized using a minimum of <code style=\"border: 1px solid rgb(51, 51, 64); color: rgb(204, 204, 204); background: rgb(16, 16, 26);\"><em style=\"border-color: rgb(255, 255, 255); color: rgb(255, 255, 255); text-shadow: rgb(255, 255, 255) 0px 0px 5px;\">12521</em></code> energy. One way to do this is shown below.</p>\n",
    "<p style=\"border-color: rgb(204, 204, 204); color: rgb(204, 204, 204);\">Starting configuration:</p>\n",
    "<pre style=\"border: 1px solid rgb(51, 51, 64); color: rgb(204, 204, 204); display: inline-block;\"><code style=\"border-color: rgb(204, 204, 204); color: rgb(204, 204, 204);\">#############\n",
    "#...........#\n",
    "###B#C#B#D###\n",
    "  #A#D#C#A#\n",
    "  #########\n",
    "</code></pre>\n",
    "<p style=\"border-color: rgb(204, 204, 204); color: rgb(204, 204, 204);\">One Bronze amphipod moves into the hallway, taking 4 steps and using <code style=\"border: 1px solid rgb(51, 51, 64); color: rgb(204, 204, 204); background: rgb(16, 16, 26);\">40</code> energy:</p>\n",
    "<pre style=\"border: 1px solid rgb(51, 51, 64); color: rgb(204, 204, 204); display: inline-block;\"><code style=\"border-color: rgb(204, 204, 204); color: rgb(204, 204, 204);\">#############\n",
    "#...B.......#\n",
    "###B#C#.#D###\n",
    "  #A#D#C#A#\n",
    "  #########\n",
    "</code></pre>\n",
    "<p style=\"border-color: rgb(204, 204, 204); color: rgb(204, 204, 204);\">The only Copper amphipod not in its side room moves there, taking 4 steps and using <code style=\"border: 1px solid rgb(51, 51, 64); color: rgb(204, 204, 204); background: rgb(16, 16, 26);\">400</code> energy:</p>\n",
    "<pre style=\"border: 1px solid rgb(51, 51, 64); color: rgb(204, 204, 204); display: inline-block;\"><code style=\"border-color: rgb(204, 204, 204); color: rgb(204, 204, 204);\">#############\n",
    "#...B.......#\n",
    "###B#.#C#D###\n",
    "  #A#D#C#A#\n",
    "  #########\n",
    "</code></pre>\n",
    "<p style=\"border-color: rgb(204, 204, 204); color: rgb(204, 204, 204);\">A Desert amphipod moves out of the way, taking 3 steps and using <code style=\"border: 1px solid rgb(51, 51, 64); color: rgb(204, 204, 204); background: rgb(16, 16, 26);\">3000</code> energy, and then the Bronze amphipod takes its place, taking 3 steps and using <code style=\"border: 1px solid rgb(51, 51, 64); color: rgb(204, 204, 204); background: rgb(16, 16, 26);\">30</code> energy:</p>\n",
    "<pre style=\"border: 1px solid rgb(51, 51, 64); color: rgb(204, 204, 204); display: inline-block;\"><code style=\"border-color: rgb(204, 204, 204); color: rgb(204, 204, 204);\">#############\n",
    "#.....D.....#\n",
    "###B#.#C#D###\n",
    "  #A#B#C#A#\n",
    "  #########\n",
    "</code></pre>\n",
    "<p style=\"border-color: rgb(204, 204, 204); color: rgb(204, 204, 204);\">The leftmost Bronze amphipod moves to its room using <code style=\"border: 1px solid rgb(51, 51, 64); color: rgb(204, 204, 204); background: rgb(16, 16, 26);\">40</code> energy:</p>\n",
    "<pre style=\"border: 1px solid rgb(51, 51, 64); color: rgb(204, 204, 204); display: inline-block;\"><code style=\"border-color: rgb(204, 204, 204); color: rgb(204, 204, 204);\">#############\n",
    "#.....D.....#\n",
    "###.#B#C#D###\n",
    "  #A#B#C#A#\n",
    "  #########\n",
    "</code></pre>\n",
    "<p style=\"border-color: rgb(204, 204, 204); color: rgb(204, 204, 204);\">Both amphipods in the rightmost room move into the hallway, using <code style=\"border: 1px solid rgb(51, 51, 64); color: rgb(204, 204, 204); background: rgb(16, 16, 26);\">2003</code> energy in total:</p>\n",
    "<pre style=\"border: 1px solid rgb(51, 51, 64); color: rgb(204, 204, 204); display: inline-block;\"><code style=\"border-color: rgb(204, 204, 204); color: rgb(204, 204, 204);\">#############\n",
    "#.....D.D.A.#\n",
    "###.#B#C#.###\n",
    "  #A#B#C#.#\n",
    "  #########\n",
    "</code></pre>\n",
    "<p style=\"border-color: rgb(204, 204, 204); color: rgb(204, 204, 204);\">Both Desert amphipods move into the rightmost room using <code style=\"border: 1px solid rgb(51, 51, 64); color: rgb(204, 204, 204); background: rgb(16, 16, 26);\">7000</code> energy:</p>\n",
    "<pre style=\"border: 1px solid rgb(51, 51, 64); color: rgb(204, 204, 204); display: inline-block;\"><code style=\"border-color: rgb(204, 204, 204); color: rgb(204, 204, 204);\">#############\n",
    "#.........A.#\n",
    "###.#B#C#D###\n",
    "  #A#B#C#D#\n",
    "  #########\n",
    "</code></pre>\n",
    "<p style=\"border-color: rgb(204, 204, 204); color: rgb(204, 204, 204);\">Finally, the last Amber amphipod moves into its room, using <code style=\"border: 1px solid rgb(51, 51, 64); color: rgb(204, 204, 204); background: rgb(16, 16, 26);\">8</code> energy:</p>\n",
    "<pre style=\"border: 1px solid rgb(51, 51, 64); color: rgb(204, 204, 204); display: inline-block;\"><code style=\"border-color: rgb(204, 204, 204); color: rgb(204, 204, 204);\">#############\n",
    "#...........#\n",
    "###A#B#C#D###\n",
    "  #A#B#C#D#\n",
    "  #########\n",
    "</code></pre>\n",
    "<p style=\"border-color: rgb(204, 204, 204); color: rgb(204, 204, 204);\"><em style=\"border-color: rgb(255, 255, 255); color: rgb(255, 255, 255); text-shadow: rgb(255, 255, 255) 0px 0px 5px;\">What is the least energy required to organize the amphipods?</em></p>\n",
    "</div>"
   ]
  },
  {
   "cell_type": "code",
   "execution_count": 1,
   "id": "0e981617-6fec-46c8-b226-c5c86bd05b4a",
   "metadata": {},
   "outputs": [],
   "source": [
    "import sys\n",
    "sys.path.append('../../common')\n",
    "\n",
    "from aoc import *\n",
    "from functools import cache\n",
    "import numpy as np\n",
    "import re\n",
    "from tqdm import tqdm"
   ]
  },
  {
   "cell_type": "code",
   "execution_count": 2,
   "id": "b15a8ef8-6148-42d7-91f2-2e0bfa0d8cec",
   "metadata": {},
   "outputs": [],
   "source": [
    "with open(\"./puzzle_inputs/23.txt\") as f:\n",
    "    lines = f.readlines()"
   ]
  },
  {
   "cell_type": "code",
   "execution_count": 3,
   "id": "8eb465b2-aae0-42e4-9dfd-13a391cb51e2",
   "metadata": {},
   "outputs": [],
   "source": [
    "lines = \"\"\"#############\n",
    "#...........#\n",
    "###B#C#B#D###\n",
    "  #A#D#C#A#\n",
    "  #########\"\"\".split('\\n')"
   ]
  },
  {
   "cell_type": "code",
   "execution_count": 4,
   "id": "680f5f75-0db4-479b-8429-fe0b38a5a90e",
   "metadata": {},
   "outputs": [],
   "source": [
    "goal_lines = \"\"\"#############\n",
    "#...........#\n",
    "###A#B#C#D###\n",
    "  #A#B#C#D#\n",
    "  #########\"\"\".split('\\n')"
   ]
  },
  {
   "cell_type": "code",
   "execution_count": 5,
   "id": "5970dcec-6f44-4beb-9823-bc137e7c6530",
   "metadata": {},
   "outputs": [
    {
     "data": {
      "text/plain": [
       "['#############',\n",
       " '#...........#',\n",
       " '###B#C#B#D###',\n",
       " '  #A#D#C#A#',\n",
       " '  #########']"
      ]
     },
     "execution_count": 5,
     "metadata": {},
     "output_type": "execute_result"
    }
   ],
   "source": [
    "world = lines\n",
    "world"
   ]
  },
  {
   "cell_type": "code",
   "execution_count": 6,
   "id": "89f3871e-b8b6-4a21-99a6-c003ddbfb714",
   "metadata": {},
   "outputs": [
    {
     "data": {
      "text/plain": [
       "['#############',\n",
       " '#...........#',\n",
       " '###.#.#.#.###',\n",
       " '  #.#.#.#.#',\n",
       " '  #########']"
      ]
     },
     "execution_count": 6,
     "metadata": {},
     "output_type": "execute_result"
    }
   ],
   "source": [
    "empty_world = [re.sub(r\"[ABCD]\", '.', line) for line in lines]\n",
    "empty_world"
   ]
  },
  {
   "cell_type": "code",
   "execution_count": 14,
   "id": "6cc84512-1bff-425d-9699-8e464a9528e9",
   "metadata": {},
   "outputs": [],
   "source": [
    "i_to_pos = [(i,j) for i in range(len(world)) for j in range(len(world[i])) if empty_world[i][j] == '.']\n",
    "pos_to_i = {pos: i for i, pos in enumerate(i_to_pos)}\n",
    "excluded_positions = set(zip((1, 1, 1, 1), range(3, 10, 2))) # don't stop above column"
   ]
  },
  {
   "cell_type": "code",
   "execution_count": 15,
   "id": "0b4e8dc4-2860-4453-96ef-f0790f200492",
   "metadata": {},
   "outputs": [
    {
     "ename": "NameError",
     "evalue": "name 'initial_state' is not defined",
     "output_type": "error",
     "traceback": [
      "\u001b[0;31m---------------------------------------------------------------------------\u001b[0m",
      "\u001b[0;31mNameError\u001b[0m                                 Traceback (most recent call last)",
      "Cell \u001b[0;32mIn[15], line 6\u001b[0m\n\u001b[1;32m      4\u001b[0m         result[i][j] \u001b[38;5;241m=\u001b[39m state[index]\n\u001b[1;32m      5\u001b[0m     \u001b[38;5;28mprint\u001b[39m(\u001b[38;5;124m'\u001b[39m\u001b[38;5;130;01m\\n\u001b[39;00m\u001b[38;5;124m'\u001b[39m\u001b[38;5;241m.\u001b[39mjoin(\u001b[38;5;124m'\u001b[39m\u001b[38;5;124m'\u001b[39m\u001b[38;5;241m.\u001b[39mjoin(line) \u001b[38;5;28;01mfor\u001b[39;00m line \u001b[38;5;129;01min\u001b[39;00m result))\n\u001b[0;32m----> 6\u001b[0m draw(\u001b[43minitial_state\u001b[49m)\n",
      "\u001b[0;31mNameError\u001b[0m: name 'initial_state' is not defined"
     ]
    }
   ],
   "source": [
    "def draw(state):\n",
    "    result = [[c for c in line.rstrip()] for line in empty_world]\n",
    "    for index, (i, j) in enumerate(i_to_pos):\n",
    "        result[i][j] = state[index]\n",
    "    print('\\n'.join(''.join(line) for line in result))\n",
    "draw(initial_state)"
   ]
  },
  {
   "cell_type": "code",
   "execution_count": 25,
   "id": "3a2fec90-7e32-4804-9396-cc4bed0c1c0c",
   "metadata": {},
   "outputs": [],
   "source": [
    "@cache\n",
    "def distance_to(a, b):\n",
    "    def neighbors(pos):\n",
    "        for d in dirdelta(dirs()):\n",
    "            i, j = tuple(pos + d)\n",
    "            if empty_world[i][j] != '.':\n",
    "                continue\n",
    "            yield (1, (i, j))\n",
    "    for dist, pos, _ in astar(a, neighbors):\n",
    "        if pos == b:\n",
    "            return dist\n",
    "    raise Exception(\"Failed to find b\")"
   ]
  },
  {
   "cell_type": "code",
   "execution_count": 20,
   "id": "69bfe70c-7466-4329-a153-8c1c2c8aa374",
   "metadata": {},
   "outputs": [],
   "source": [
    "movement_cost = {\n",
    "    'A': 1,\n",
    "    'B': 10,\n",
    "    'C': 100,\n",
    "    'D': 1000\n",
    "}\n",
    "\n",
    "goal_pos = {\n",
    "    'A': (len(lines)-2, 3),\n",
    "    'B': (len(lines)-2, 5),\n",
    "    'C': (len(lines)-2, 7),\n",
    "    'D': (len(lines)-2, 9)\n",
    "}\n",
    "\n",
    "@cache\n",
    "def neighbors(state):\n",
    "    result = []\n",
    "    for index, amphipod in enumerate(state):\n",
    "        if amphipod == '.':\n",
    "            continue\n",
    "        start = i_to_pos[index]\n",
    "        q = [(0, start)]\n",
    "        visited = set()\n",
    "        while len(q):\n",
    "            dist, pos = q.pop(0)\n",
    "            if pos not in excluded_positions and dist > 0:\n",
    "                new_state = list(state)\n",
    "                new_state[pos_to_i[pos]] = amphipod\n",
    "                new_state[index] = '.'\n",
    "                result.append((dist*movement_cost[amphipod], ''.join(new_state)))\n",
    "            visited.add(pos)\n",
    "            for delta in dirdelta(dirs()):\n",
    "                i, j = npos = tuple(pos + delta)\n",
    "                if npos not in pos_to_i:\n",
    "                    continue\n",
    "                if state[pos_to_i[npos]] != '.':\n",
    "                    continue\n",
    "                if npos in visited:\n",
    "                    continue\n",
    "                q.append((dist + 1, npos))\n",
    "    return result\n",
    "\n",
    "@cache\n",
    "def heuristic(state):\n",
    "    h = -sum(movement_cost.values())\n",
    "    for index, amphipod in enumerate(state):\n",
    "        if amphipod == '.':\n",
    "            continue\n",
    "        h += movement_cost[amphipod]*distance_to(i_to_pos[index], goal_pos[amphipod])\n",
    "    return h\n",
    "\n",
    "@cache\n",
    "def is_goal(state):\n",
    "    return state == '...........ABCDABCD'"
   ]
  },
  {
   "cell_type": "code",
   "execution_count": 18,
   "id": "c496cc95-6fe0-4bde-90f7-2edeaf15a57a",
   "metadata": {},
   "outputs": [],
   "source": [
    "from IPython.display import clear_output\n",
    "import time"
   ]
  },
  {
   "cell_type": "code",
   "execution_count": 198,
   "id": "8dc2b7c5-2024-4d1f-a85e-7986fb512825",
   "metadata": {},
   "outputs": [
    {
     "name": "stdout",
     "output_type": "stream",
     "text": [
      "12521\n"
     ]
    }
   ],
   "source": [
    "t = 0\n",
    "for i, (cost, state, parents) in enumerate(astar(initial_state, neighbors, heuristic)):\n",
    "    if time.time() > t:\n",
    "        t = time.time() + 1\n",
    "        print(i, cost+heuristic(state))\n",
    "        draw(state)\n",
    "        clear_output(wait=True)\n",
    "    if is_goal(state):\n",
    "        break\n",
    "print(cost)"
   ]
  },
  {
   "cell_type": "code",
   "execution_count": null,
   "id": "a6fbdc88-33bc-473f-a055-1fbea3300ec2",
   "metadata": {},
   "outputs": [],
   "source": []
  }
 ],
 "metadata": {
  "kernelspec": {
   "display_name": "Python 3 (ipykernel)",
   "language": "python",
   "name": "python3"
  },
  "language_info": {
   "codemirror_mode": {
    "name": "ipython",
    "version": 3
   },
   "file_extension": ".py",
   "mimetype": "text/x-python",
   "name": "python",
   "nbconvert_exporter": "python",
   "pygments_lexer": "ipython3",
   "version": "3.11.6"
  }
 },
 "nbformat": 4,
 "nbformat_minor": 5
}
