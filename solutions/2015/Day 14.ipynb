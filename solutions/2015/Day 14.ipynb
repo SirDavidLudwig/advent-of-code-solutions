{
 "cells": [
  {
   "cell_type": "markdown",
   "id": "0abd6d70-464c-4d9f-a9b7-3effc8129cd7",
   "metadata": {},
   "source": [
    "<div style=\"background-color: rgb(15, 15, 35); border: 1px solid rgb(255, 255, 255); color: rgb(204, 204, 204); font-family: monospace; margin-left: -5px; margin-right: -20px; padding: 1rem;\"><h2 style=\"border-color: rgb(255, 255, 255); color: rgb(255, 255, 255);\">--- Day 14: Reindeer Olympics ---</h2><p style=\"border-color: rgb(204, 204, 204); color: rgb(204, 204, 204);\">This year is the Reindeer Olympics!  Reindeer can fly at high speeds, but must rest occasionally to recover their energy.  Santa would like to know which of his reindeer is fastest, and so he has them race.</p>\n",
    "<p style=\"border-color: rgb(204, 204, 204); color: rgb(204, 204, 204);\">Reindeer can only either be <em style=\"border-color: rgb(255, 255, 255); color: rgb(255, 255, 255); text-shadow: rgb(255, 255, 255) 0px 0px 5px;\">flying</em> (always at their top speed) or <em style=\"border-color: rgb(255, 255, 255); color: rgb(255, 255, 255); text-shadow: rgb(255, 255, 255) 0px 0px 5px;\">resting</em> (not moving at all), and always spend whole seconds in either state.</p>\n",
    "<p style=\"border-color: rgb(204, 204, 204); color: rgb(204, 204, 204);\">For example, suppose you have the following Reindeer:</p>\n",
    "<ul style=\"border-color: rgb(204, 204, 204); color: rgb(204, 204, 204);\">\n",
    "<li style=\"border-color: rgb(204, 204, 204); color: rgb(204, 204, 204);\">Comet can fly <em style=\"border-color: rgb(255, 255, 255); color: rgb(255, 255, 255); text-shadow: rgb(255, 255, 255) 0px 0px 5px;\">14 km/s for 10 seconds</em>, but then must rest for <em style=\"border-color: rgb(255, 255, 255); color: rgb(255, 255, 255); text-shadow: rgb(255, 255, 255) 0px 0px 5px;\">127 seconds</em>.</li>\n",
    "<li style=\"border-color: rgb(204, 204, 204); color: rgb(204, 204, 204);\">Dancer can fly <em style=\"border-color: rgb(255, 255, 255); color: rgb(255, 255, 255); text-shadow: rgb(255, 255, 255) 0px 0px 5px;\">16 km/s for 11 seconds</em>, but then must rest for <em style=\"border-color: rgb(255, 255, 255); color: rgb(255, 255, 255); text-shadow: rgb(255, 255, 255) 0px 0px 5px;\">162 seconds</em>.</li>\n",
    "</ul>\n",
    "<p style=\"border-color: rgb(204, 204, 204); color: rgb(204, 204, 204);\">After one second, Comet has gone 14 km, while Dancer has gone 16 km.  After ten seconds, Comet has gone 140 km, while Dancer has gone 160 km.  On the eleventh second, Comet begins resting (staying at 140 km), and Dancer continues on for a total distance of 176 km.  On the 12th second, both reindeer are resting.  They continue to rest until the 138th second, when Comet flies for another ten seconds.  On the 174th second, Dancer flies for another 11 seconds.</p>\n",
    "<p style=\"border-color: rgb(204, 204, 204); color: rgb(204, 204, 204);\">In this example, after the 1000th second, both reindeer are resting, and Comet is in the lead at <em style=\"border-color: rgb(255, 255, 255); color: rgb(255, 255, 255); text-shadow: rgb(255, 255, 255) 0px 0px 5px;\"><code style=\"border: 1px solid rgb(51, 51, 64); color: rgb(255, 255, 255); text-shadow: rgb(255, 255, 255) 0px 0px 5px; background: rgb(16, 16, 26);\">1120</code></em> km (poor Dancer has only gotten <code style=\"border: 1px solid rgb(51, 51, 64); color: rgb(204, 204, 204); background: rgb(16, 16, 26);\">1056</code> km by that point).  So, in this situation, Comet would win (if the race ended at 1000 seconds).</p>\n",
    "<p style=\"border-color: rgb(204, 204, 204); color: rgb(204, 204, 204);\">Given the descriptions of each reindeer (in your puzzle input), after exactly <code style=\"border: 1px solid rgb(51, 51, 64); color: rgb(204, 204, 204); background: rgb(16, 16, 26);\">2503</code> seconds, <em style=\"border-color: rgb(255, 255, 255); color: rgb(255, 255, 255); text-shadow: rgb(255, 255, 255) 0px 0px 5px;\">what distance has the winning reindeer traveled</em>?</p>\n",
    "</div>"
   ]
  },
  {
   "cell_type": "code",
   "execution_count": 4,
   "id": "8302391d-b1c0-45fd-8311-f4a07f364375",
   "metadata": {},
   "outputs": [],
   "source": [
    "import re"
   ]
  },
  {
   "cell_type": "code",
   "execution_count": 1,
   "id": "462ad576-e5fb-4e0d-b06d-a3bf9d154061",
   "metadata": {},
   "outputs": [],
   "source": [
    "with open(\"./puzzle_inputs/14.txt\") as f:\n",
    "    info = f.readlines()"
   ]
  },
  {
   "cell_type": "code",
   "execution_count": 76,
   "id": "b2591d10-cbed-4ffa-90fd-16be4a3cd8de",
   "metadata": {},
   "outputs": [
    {
     "data": {
      "text/plain": [
       "2640"
      ]
     },
     "execution_count": 76,
     "metadata": {},
     "output_type": "execute_result"
    }
   ],
   "source": [
    "time = 2503\n",
    "longest_distance = -1\n",
    "for line in info:\n",
    "    speed, endurance, rest = map(int, re.findall(\"\\d+\", line))\n",
    "    cycle = endurance + rest\n",
    "    distance = time//cycle*speed*endurance + min(time%cycle, endurance)*speed\n",
    "    longest_distance = max(longest_distance, distance)\n",
    "longest_distance"
   ]
  },
  {
   "cell_type": "markdown",
   "id": "084ca010-626a-4639-b816-485dcdef9ebd",
   "metadata": {},
   "source": [
    "<div style=\"background-color: rgb(15, 15, 35); border: 1px solid rgb(255, 255, 255); color: rgb(204, 204, 204); font-family: monospace; margin-left: -5px; margin-right: -20px; padding: 1rem;\"><h2 id=\"part2\" style=\"border-color: rgb(255, 255, 255); color: rgb(255, 255, 255);\">--- Part Two ---</h2><p style=\"border-color: rgb(204, 204, 204); color: rgb(204, 204, 204);\">Seeing how reindeer move in bursts, Santa decides he's not pleased with the old scoring system.</p>\n",
    "<p style=\"border-color: rgb(204, 204, 204); color: rgb(204, 204, 204);\">Instead, at the end of each second, he awards one point to the reindeer currently in the lead.  (If there are multiple reindeer tied for the lead, they each get one point.)  He keeps the traditional 2503 second time limit, of course, as doing otherwise would be <span title=\"It also risks choosing a duration that isn't coprime with the cycle times of each reindeer.\" style=\"border-color: rgb(204, 204, 204); color: rgb(204, 204, 204);\">entirely ridiculous</span>.</p>\n",
    "<p style=\"border-color: rgb(204, 204, 204); color: rgb(204, 204, 204);\">Given the example reindeer from above, after the first second, Dancer is in the lead and gets one point.  He stays in the lead until several seconds into Comet's second burst: after the 140th second, Comet pulls into the lead and gets his first point.  Of course, since Dancer had been in the lead for the 139 seconds before that, he has accumulated 139 points by the 140th second.</p>\n",
    "<p style=\"border-color: rgb(204, 204, 204); color: rgb(204, 204, 204);\">After the 1000th second, Dancer has accumulated <em style=\"border-color: rgb(255, 255, 255); color: rgb(255, 255, 255); text-shadow: rgb(255, 255, 255) 0px 0px 5px;\"><code style=\"border: 1px solid rgb(51, 51, 64); color: rgb(255, 255, 255); text-shadow: rgb(255, 255, 255) 0px 0px 5px; background: rgb(16, 16, 26);\">689</code></em> points, while poor Comet, our old champion, only has <code style=\"border: 1px solid rgb(51, 51, 64); color: rgb(204, 204, 204); background: rgb(16, 16, 26);\">312</code>.  So, with the new scoring system, Dancer would win (if the race ended at 1000 seconds).</p>\n",
    "<p style=\"border-color: rgb(204, 204, 204); color: rgb(204, 204, 204);\">Again given the descriptions of each reindeer (in your puzzle input), after exactly <code style=\"border: 1px solid rgb(51, 51, 64); color: rgb(204, 204, 204); background: rgb(16, 16, 26);\">2503</code> seconds, <em style=\"border-color: rgb(255, 255, 255); color: rgb(255, 255, 255); text-shadow: rgb(255, 255, 255) 0px 0px 5px;\">how many points does the winning reindeer have</em>?</p>\n",
    "</div>"
   ]
  },
  {
   "cell_type": "code",
   "execution_count": 120,
   "id": "ea877786-0324-437e-85f0-6cc1a391cac0",
   "metadata": {},
   "outputs": [],
   "source": [
    "class Reindeer:\n",
    "    def __init__(self, speed, endurance, rest):\n",
    "        self.speed = speed\n",
    "        self.endurance = endurance\n",
    "        self.rest = rest\n",
    "        self.cycle = endurance + rest\n",
    "\n",
    "    def begin(self):\n",
    "        self.distance = 0\n",
    "        self.current_step = 0\n",
    "        self.points = 0\n",
    "\n",
    "    def step(self):\n",
    "        if self.current_step % self.cycle < self.endurance:\n",
    "            self.distance += self.speed\n",
    "        self.current_step += 1"
   ]
  },
  {
   "cell_type": "code",
   "execution_count": 121,
   "id": "234f30ff-ff0c-4d3f-8d36-87a17ae84f3e",
   "metadata": {},
   "outputs": [
    {
     "data": {
      "text/plain": [
       "9"
      ]
     },
     "execution_count": 121,
     "metadata": {},
     "output_type": "execute_result"
    }
   ],
   "source": [
    "reindeer = []\n",
    "for line in info:\n",
    "    speed, endurance, rest = map(int, re.findall(\"\\d+\", line))\n",
    "    reindeer.append(Reindeer(speed, endurance, rest))\n",
    "len(reindeer)"
   ]
  },
  {
   "cell_type": "code",
   "execution_count": 124,
   "id": "4187127a-de14-42f6-9c6e-ec2f3dcaac0d",
   "metadata": {},
   "outputs": [],
   "source": [
    "for r in reindeer:\n",
    "    r.begin()\n",
    "\n",
    "furthest_distance = -1\n",
    "winning = set()\n",
    "for i in range(2503):\n",
    "    for r in reindeer:\n",
    "        r.step()\n",
    "        if r.distance == furthest_distance:\n",
    "            winning.add(r)\n",
    "        elif r.distance > furthest_distance:\n",
    "            furthest_distance = r.distance\n",
    "            winning = set([r])\n",
    "    for r in winning:\n",
    "        r.points += 1"
   ]
  },
  {
   "cell_type": "code",
   "execution_count": 125,
   "id": "ed1a2e99-2471-4117-85be-fb36cc03f20e",
   "metadata": {},
   "outputs": [
    {
     "data": {
      "text/plain": [
       "1102"
      ]
     },
     "execution_count": 125,
     "metadata": {},
     "output_type": "execute_result"
    }
   ],
   "source": [
    "max(r.points for r in reindeer)"
   ]
  },
  {
   "cell_type": "code",
   "execution_count": null,
   "id": "762b3e91-88e5-4ab8-a9ad-36336829c666",
   "metadata": {},
   "outputs": [],
   "source": []
  }
 ],
 "metadata": {
  "kernelspec": {
   "display_name": "Python 3 (ipykernel)",
   "language": "python",
   "name": "python3"
  },
  "language_info": {
   "codemirror_mode": {
    "name": "ipython",
    "version": 3
   },
   "file_extension": ".py",
   "mimetype": "text/x-python",
   "name": "python",
   "nbconvert_exporter": "python",
   "pygments_lexer": "ipython3",
   "version": "3.10.6"
  }
 },
 "nbformat": 4,
 "nbformat_minor": 5
}
