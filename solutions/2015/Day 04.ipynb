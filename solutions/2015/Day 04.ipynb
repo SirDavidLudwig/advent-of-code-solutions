{
 "cells": [
  {
   "cell_type": "markdown",
   "id": "046545fb-1b4c-4b78-b053-7dfbcc9dc93a",
   "metadata": {},
   "source": [
    "<div style=\"background-color: rgb(15, 15, 35); border: 1px solid rgb(255, 255, 255); color: rgb(204, 204, 204); font-family: monospace; margin-left: -5px; margin-right: -20px; padding: 1rem;\"><h2 style=\"border-color: rgb(255, 255, 255); color: rgb(255, 255, 255);\">--- Day 4: The Ideal Stocking Stuffer ---</h2><p style=\"border-color: rgb(204, 204, 204); color: rgb(204, 204, 204);\">Santa needs help <a href=\"https://en.wikipedia.org/wiki/Bitcoin#Mining\" style=\"border-color: rgb(0, 153, 0); color: rgb(0, 153, 0);\">mining</a> some <span title=\"Hey, mined your own business!\" style=\"border-color: rgb(204, 204, 204); color: rgb(204, 204, 204);\">AdventCoins</span> (very similar to <a href=\"https://en.wikipedia.org/wiki/Bitcoin\" style=\"border-color: rgb(0, 153, 0); color: rgb(0, 153, 0);\">bitcoins</a>) to use as gifts for all the economically forward-thinking little girls and boys.</p>\n",
    "<p style=\"border-color: rgb(204, 204, 204); color: rgb(204, 204, 204);\">To do this, he needs to find <a href=\"https://en.wikipedia.org/wiki/MD5\" style=\"border-color: rgb(0, 153, 0); color: rgb(0, 153, 0);\">MD5</a> hashes which, in <a href=\"https://en.wikipedia.org/wiki/Hexadecimal\" style=\"border-color: rgb(0, 153, 0); color: rgb(0, 153, 0);\">hexadecimal</a>, start with at least <em style=\"border-color: rgb(255, 255, 255); color: rgb(255, 255, 255); text-shadow: rgb(255, 255, 255) 0px 0px 5px;\">five zeroes</em>.  The input to the MD5 hash is some secret key (your puzzle input, given below) followed by a number in decimal. To mine AdventCoins, you must find Santa the lowest positive number (no leading zeroes: <code style=\"border: 1px solid rgb(51, 51, 64); color: rgb(204, 204, 204); background: rgb(16, 16, 26);\">1</code>, <code style=\"border: 1px solid rgb(51, 51, 64); color: rgb(204, 204, 204); background: rgb(16, 16, 26);\">2</code>, <code style=\"border: 1px solid rgb(51, 51, 64); color: rgb(204, 204, 204); background: rgb(16, 16, 26);\">3</code>, ...) that produces such a hash.</p>\n",
    "<p style=\"border-color: rgb(204, 204, 204); color: rgb(204, 204, 204);\">For example:</p>\n",
    "<ul style=\"border-color: rgb(204, 204, 204); color: rgb(204, 204, 204);\">\n",
    "<li style=\"border-color: rgb(204, 204, 204); color: rgb(204, 204, 204);\">If your secret key is <code style=\"border: 1px solid rgb(51, 51, 64); color: rgb(204, 204, 204); background: rgb(16, 16, 26);\">abcdef</code>, the answer is <code style=\"border: 1px solid rgb(51, 51, 64); color: rgb(204, 204, 204); background: rgb(16, 16, 26);\">609043</code>, because the MD5 hash of <code style=\"border: 1px solid rgb(51, 51, 64); color: rgb(204, 204, 204); background: rgb(16, 16, 26);\">abcdef609043</code> starts with five zeroes (<code style=\"border: 1px solid rgb(51, 51, 64); color: rgb(204, 204, 204); background: rgb(16, 16, 26);\">000001dbbfa...</code>), and it is the lowest such number to do so.</li>\n",
    "<li style=\"border-color: rgb(204, 204, 204); color: rgb(204, 204, 204);\">If your secret key is <code style=\"border: 1px solid rgb(51, 51, 64); color: rgb(204, 204, 204); background: rgb(16, 16, 26);\">pqrstuv</code>, the lowest number it combines with to make an MD5 hash starting with five zeroes is <code style=\"border: 1px solid rgb(51, 51, 64); color: rgb(204, 204, 204); background: rgb(16, 16, 26);\">1048970</code>; that is, the MD5 hash of <code style=\"border: 1px solid rgb(51, 51, 64); color: rgb(204, 204, 204); background: rgb(16, 16, 26);\">pqrstuv1048970</code> looks like <code style=\"border: 1px solid rgb(51, 51, 64); color: rgb(204, 204, 204); background: rgb(16, 16, 26);\">000006136ef...</code>.</li>\n",
    "</ul>\n",
    "</div>"
   ]
  },
  {
   "cell_type": "code",
   "execution_count": 1,
   "id": "e272735d-1907-43c0-b0ce-3098a94f9736",
   "metadata": {},
   "outputs": [],
   "source": [
    "import hashlib\n",
    "import itertools"
   ]
  },
  {
   "cell_type": "code",
   "execution_count": 2,
   "id": "de0492f1-b54e-44c7-9fd1-e2dad63901e0",
   "metadata": {},
   "outputs": [],
   "source": [
    "with open(\"./puzzle_inputs/04.txt\") as f:\n",
    "    key = f.read().strip()"
   ]
  },
  {
   "cell_type": "code",
   "execution_count": 3,
   "id": "17544dd8-c38f-4995-8b84-4a48adb0e264",
   "metadata": {},
   "outputs": [
    {
     "data": {
      "text/plain": [
       "254575"
      ]
     },
     "execution_count": 3,
     "metadata": {},
     "output_type": "execute_result"
    }
   ],
   "source": [
    "for i in itertools.count(start=1):\n",
    "    hash_prefix = hashlib.md5(f\"{key}{i}\".encode()).hexdigest()[:5]\n",
    "    if hash_prefix == '0'*5:\n",
    "        break\n",
    "i"
   ]
  },
  {
   "cell_type": "markdown",
   "id": "527d4b27-225c-47e9-ae2d-7f6093d8dc9d",
   "metadata": {},
   "source": [
    "<div style=\"background-color: rgb(15, 15, 35); border: 1px solid rgb(255, 255, 255); color: rgb(204, 204, 204); font-family: monospace; margin-left: -5px; margin-right: -20px; padding: 1rem;\"><h2 id=\"part2\" style=\"border-color: rgb(255, 255, 255); color: rgb(255, 255, 255);\">--- Part Two ---</h2><p style=\"border-color: rgb(204, 204, 204); color: rgb(204, 204, 204);\">Now find one that starts with <em style=\"border-color: rgb(255, 255, 255); color: rgb(255, 255, 255); text-shadow: rgb(255, 255, 255) 0px 0px 5px;\">six zeroes</em>.</p>\n",
    "</div>"
   ]
  },
  {
   "cell_type": "code",
   "execution_count": 4,
   "id": "e2421bef-2796-421a-af77-8970f00c8d78",
   "metadata": {},
   "outputs": [
    {
     "data": {
      "text/plain": [
       "1038736"
      ]
     },
     "execution_count": 4,
     "metadata": {},
     "output_type": "execute_result"
    }
   ],
   "source": [
    "for i in itertools.count(start=1):\n",
    "    hash_prefix = hashlib.md5(f\"{key}{i}\".encode()).hexdigest()[:6]\n",
    "    if hash_prefix == '0'*6:\n",
    "        break\n",
    "i"
   ]
  }
 ],
 "metadata": {
  "kernelspec": {
   "display_name": "Python 3 (ipykernel)",
   "language": "python",
   "name": "python3"
  },
  "language_info": {
   "codemirror_mode": {
    "name": "ipython",
    "version": 3
   },
   "file_extension": ".py",
   "mimetype": "text/x-python",
   "name": "python",
   "nbconvert_exporter": "python",
   "pygments_lexer": "ipython3",
   "version": "3.10.6"
  }
 },
 "nbformat": 4,
 "nbformat_minor": 5
}
