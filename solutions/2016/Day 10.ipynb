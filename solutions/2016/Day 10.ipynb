{
 "cells": [
  {
   "cell_type": "markdown",
   "id": "636da0ed-b99a-4614-9048-b088d20e98c8",
   "metadata": {},
   "source": [
    "<div style=\"background-color: rgb(15, 15, 35); border: 1px solid rgb(255, 255, 255); color: rgb(204, 204, 204); font-family: monospace; margin-left: -5px; margin-right: -20px; padding: 1rem;\"><h2 style=\"border-color: rgb(255, 255, 255); color: rgb(255, 255, 255);\">--- Day 10: Balance Bots ---</h2><p style=\"border-color: rgb(204, 204, 204); color: rgb(204, 204, 204);\">You come upon a factory in which many robots are zooming around handing small microchips to each other.</p>\n",
    "<p style=\"border-color: rgb(204, 204, 204); color: rgb(204, 204, 204);\">Upon closer examination, you notice that each bot only proceeds when it has <em style=\"border-color: rgb(255, 255, 255); color: rgb(255, 255, 255); text-shadow: rgb(255, 255, 255) 0px 0px 5px;\">two</em> microchips, and once it does, it gives each one to a different bot or puts it in a marked \"output\" bin. Sometimes, bots take microchips from \"input\" bins, too.</p>\n",
    "<p style=\"border-color: rgb(204, 204, 204); color: rgb(204, 204, 204);\">Inspecting one of the microchips, it seems like they each contain a single number; the bots must use some logic to decide what to do with each chip. You access the local control computer and download the bots' instructions (your puzzle input).</p>\n",
    "<p style=\"border-color: rgb(204, 204, 204); color: rgb(204, 204, 204);\">Some of the instructions specify that a specific-valued microchip should be given to a specific bot; the rest of the instructions indicate what a given bot should do with its <em style=\"border-color: rgb(255, 255, 255); color: rgb(255, 255, 255); text-shadow: rgb(255, 255, 255) 0px 0px 5px;\">lower-value</em> or <em style=\"border-color: rgb(255, 255, 255); color: rgb(255, 255, 255); text-shadow: rgb(255, 255, 255) 0px 0px 5px;\">higher-value</em> chip.</p>\n",
    "<p style=\"border-color: rgb(204, 204, 204); color: rgb(204, 204, 204);\">For example, consider the following instructions:</p>\n",
    "<pre style=\"border: 1px solid rgb(51, 51, 64); color: rgb(204, 204, 204); background-color: rgb(16, 16, 26); display: inline-block;\"><code style=\"border-color: rgb(204, 204, 204); color: rgb(204, 204, 204); background-color: rgb(16, 16, 26);\">value 5 goes to bot 2\n",
    "bot 2 gives low to bot 1 and high to bot 0\n",
    "value 3 goes to bot 1\n",
    "bot 1 gives low to output 1 and high to bot 0\n",
    "bot 0 gives low to output 2 and high to output 0\n",
    "value 2 goes to bot 2\n",
    "</code></pre>\n",
    "<ul style=\"border-color: rgb(204, 204, 204); color: rgb(204, 204, 204);\">\n",
    "<li style=\"border-color: rgb(204, 204, 204); color: rgb(204, 204, 204);\">Initially, bot <code style=\"border: 1px solid rgb(51, 51, 64); color: rgb(204, 204, 204); background: rgb(16, 16, 26);\">1</code> starts with a value-<code style=\"border: 1px solid rgb(51, 51, 64); color: rgb(204, 204, 204); background: rgb(16, 16, 26);\">3</code> chip, and bot <code style=\"border: 1px solid rgb(51, 51, 64); color: rgb(204, 204, 204); background: rgb(16, 16, 26);\">2</code> starts with a value-<code style=\"border: 1px solid rgb(51, 51, 64); color: rgb(204, 204, 204); background: rgb(16, 16, 26);\">2</code> chip and a value-<code style=\"border: 1px solid rgb(51, 51, 64); color: rgb(204, 204, 204); background: rgb(16, 16, 26);\">5</code> chip.</li>\n",
    "<li style=\"border-color: rgb(204, 204, 204); color: rgb(204, 204, 204);\">Because bot <code style=\"border: 1px solid rgb(51, 51, 64); color: rgb(204, 204, 204); background: rgb(16, 16, 26);\">2</code> has two microchips, it gives its lower one (<code style=\"border: 1px solid rgb(51, 51, 64); color: rgb(204, 204, 204); background: rgb(16, 16, 26);\">2</code>) to bot <code style=\"border: 1px solid rgb(51, 51, 64); color: rgb(204, 204, 204); background: rgb(16, 16, 26);\">1</code> and its higher one (<code style=\"border: 1px solid rgb(51, 51, 64); color: rgb(204, 204, 204); background: rgb(16, 16, 26);\">5</code>) to bot <code style=\"border: 1px solid rgb(51, 51, 64); color: rgb(204, 204, 204); background: rgb(16, 16, 26);\">0</code>.</li>\n",
    "<li style=\"border-color: rgb(204, 204, 204); color: rgb(204, 204, 204);\">Then, bot <code style=\"border: 1px solid rgb(51, 51, 64); color: rgb(204, 204, 204); background: rgb(16, 16, 26);\">1</code> has two microchips; it puts the value-<code style=\"border: 1px solid rgb(51, 51, 64); color: rgb(204, 204, 204); background: rgb(16, 16, 26);\">2</code> chip in output <code style=\"border: 1px solid rgb(51, 51, 64); color: rgb(204, 204, 204); background: rgb(16, 16, 26);\">1</code> and gives the value-<code style=\"border: 1px solid rgb(51, 51, 64); color: rgb(204, 204, 204); background: rgb(16, 16, 26);\">3</code> chip to bot <code style=\"border: 1px solid rgb(51, 51, 64); color: rgb(204, 204, 204); background: rgb(16, 16, 26);\">0</code>.</li>\n",
    "<li style=\"border-color: rgb(204, 204, 204); color: rgb(204, 204, 204);\">Finally, bot <code style=\"border: 1px solid rgb(51, 51, 64); color: rgb(204, 204, 204); background: rgb(16, 16, 26);\">0</code> has two microchips; it puts the <code style=\"border: 1px solid rgb(51, 51, 64); color: rgb(204, 204, 204); background: rgb(16, 16, 26);\">3</code> in output <code style=\"border: 1px solid rgb(51, 51, 64); color: rgb(204, 204, 204); background: rgb(16, 16, 26);\">2</code> and the <code style=\"border: 1px solid rgb(51, 51, 64); color: rgb(204, 204, 204); background: rgb(16, 16, 26);\">5</code> in output <code style=\"border: 1px solid rgb(51, 51, 64); color: rgb(204, 204, 204); background: rgb(16, 16, 26);\">0</code>.</li>\n",
    "</ul>\n",
    "<p style=\"border-color: rgb(204, 204, 204); color: rgb(204, 204, 204);\">In the end, output bin <code style=\"border: 1px solid rgb(51, 51, 64); color: rgb(204, 204, 204); background: rgb(16, 16, 26);\">0</code> contains a value-<code style=\"border: 1px solid rgb(51, 51, 64); color: rgb(204, 204, 204); background: rgb(16, 16, 26);\">5</code> microchip, output bin <code style=\"border: 1px solid rgb(51, 51, 64); color: rgb(204, 204, 204); background: rgb(16, 16, 26);\">1</code> contains a value-<code style=\"border: 1px solid rgb(51, 51, 64); color: rgb(204, 204, 204); background: rgb(16, 16, 26);\">2</code> microchip, and output bin <code style=\"border: 1px solid rgb(51, 51, 64); color: rgb(204, 204, 204); background: rgb(16, 16, 26);\">2</code> contains a value-<code style=\"border: 1px solid rgb(51, 51, 64); color: rgb(204, 204, 204); background: rgb(16, 16, 26);\">3</code> microchip. In this configuration, bot number <em style=\"border-color: rgb(255, 255, 255); color: rgb(255, 255, 255); text-shadow: rgb(255, 255, 255) 0px 0px 5px;\"><code style=\"border: 1px solid rgb(51, 51, 64); color: rgb(255, 255, 255); text-shadow: rgb(255, 255, 255) 0px 0px 5px; background: rgb(16, 16, 26);\">2</code></em> is responsible for comparing value-<code style=\"border: 1px solid rgb(51, 51, 64); color: rgb(204, 204, 204); background: rgb(16, 16, 26);\">5</code> microchips with value-<code style=\"border: 1px solid rgb(51, 51, 64); color: rgb(204, 204, 204); background: rgb(16, 16, 26);\">2</code> microchips.</p>\n",
    "<p style=\"border-color: rgb(204, 204, 204); color: rgb(204, 204, 204);\">Based on your instructions, <em style=\"border-color: rgb(255, 255, 255); color: rgb(255, 255, 255); text-shadow: rgb(255, 255, 255) 0px 0px 5px;\">what is the number of the bot</em> that is responsible for comparing value-<code style=\"border: 1px solid rgb(51, 51, 64); color: rgb(204, 204, 204); background: rgb(16, 16, 26);\">61</code> microchips with value-<code style=\"border: 1px solid rgb(51, 51, 64); color: rgb(204, 204, 204); background: rgb(16, 16, 26);\">17</code> microchips?</p>\n",
    "</div>"
   ]
  },
  {
   "cell_type": "code",
   "execution_count": 1,
   "id": "9d72a8f4",
   "metadata": {},
   "outputs": [],
   "source": [
    "import sys\n",
    "sys.path.append(\"../../common\")"
   ]
  },
  {
   "cell_type": "code",
   "execution_count": 9,
   "id": "62b0ec11",
   "metadata": {},
   "outputs": [],
   "source": [
    "import aoc\n",
    "from collections import defaultdict\n",
    "import numpy as np\n",
    "import re"
   ]
  },
  {
   "cell_type": "code",
   "execution_count": 3,
   "id": "a949b336",
   "metadata": {},
   "outputs": [],
   "source": [
    "with open(\"./puzzle_inputs/10.txt\") as f:\n",
    "    lines = f.readlines()"
   ]
  },
  {
   "cell_type": "code",
   "execution_count": 43,
   "id": "3bed7948-705b-4d4d-8dfd-8c01f5cc570c",
   "metadata": {},
   "outputs": [
    {
     "name": "stdout",
     "output_type": "stream",
     "text": [
      "116\n"
     ]
    }
   ],
   "source": [
    "inventories = defaultdict(lambda: [])\n",
    "swaps = {}\n",
    "for line in lines:\n",
    "    if \"output\" in lines:\n",
    "        continue\n",
    "    elif line.startswith(\"value\"):\n",
    "        a, b = map(int, re.findall(\"\\d+\", line))\n",
    "        inventories[b].append(a)\n",
    "    else:\n",
    "        a, b, c = map(int, re.findall(\"\\d+\", line))\n",
    "        swaps[a] = (b, c)\n",
    "\n",
    "q = [i for i in inventories if len(inventories[i]) == 2]\n",
    "while True:\n",
    "    i = q.pop(0)\n",
    "    a, b = sorted(inventories[i])\n",
    "    if a == 17 and b == 61:\n",
    "        print(i)\n",
    "        break\n",
    "    x, y = swaps[i]\n",
    "    assert x != y\n",
    "    if len(inventories[x]) == 2 or len(inventories[y]) == 2:\n",
    "        q.append(i)\n",
    "        continue\n",
    "    inventories[i].clear()\n",
    "    inventories[x].append(a)\n",
    "    inventories[y].append(b)\n",
    "    if len(inventories[x]) == 2:\n",
    "        q.append(x)\n",
    "    if len(inventories[y]) == 2:\n",
    "        q.append(y)"
   ]
  },
  {
   "cell_type": "markdown",
   "id": "bea52c8f-8705-4a69-b6a0-ddd0c5643df3",
   "metadata": {},
   "source": [
    "<div style=\"background-color: rgb(15, 15, 35); border: 1px solid rgb(255, 255, 255); color: rgb(204, 204, 204); font-family: monospace; margin-left: -5px; margin-right: -20px; padding: 1rem;\"><h2 id=\"part2\" style=\"border-color: rgb(255, 255, 255); color: rgb(255, 255, 255);\">--- Part Two ---</h2><p style=\"border-color: rgb(204, 204, 204); color: rgb(204, 204, 204);\"><span title=\"What do you get if you multiply six by nine?\" style=\"border-color: rgb(204, 204, 204); color: rgb(204, 204, 204);\">What do you get</span> if you <em style=\"border-color: rgb(255, 255, 255); color: rgb(255, 255, 255); text-shadow: rgb(255, 255, 255) 0px 0px 5px;\">multiply together the values</em> of one chip in each of outputs <code style=\"border: 1px solid rgb(51, 51, 64); color: rgb(204, 204, 204); background: rgb(16, 16, 26);\">0</code>, <code style=\"border: 1px solid rgb(51, 51, 64); color: rgb(204, 204, 204); background: rgb(16, 16, 26);\">1</code>, and <code style=\"border: 1px solid rgb(51, 51, 64); color: rgb(204, 204, 204); background: rgb(16, 16, 26);\">2</code>?</p>\n",
    "</div>"
   ]
  },
  {
   "cell_type": "code",
   "execution_count": 60,
   "id": "ea79fdec-7a34-478e-97d2-e372dcb3b44c",
   "metadata": {},
   "outputs": [],
   "source": [
    "inventories = defaultdict(lambda: [])\n",
    "outputs = defaultdict(lambda: [])\n",
    "swaps = {}\n",
    "for line in lines:\n",
    "    if line.startswith(\"value\"):\n",
    "        a, b = map(int, re.findall(\"\\d+\", line))\n",
    "        inventories[b].append(a)\n",
    "    else:\n",
    "        a, b, c = map(int, re.findall(\"\\d+\", line))\n",
    "        dest = re.findall(\"[a-z]+(?=\\s\\d)\", line)[1:]\n",
    "        if dest[0] == \"output\":\n",
    "            b = -b - 1\n",
    "        if dest[1] == \"output\":\n",
    "            c = -c - 1\n",
    "        swaps[a] = (b, c)\n",
    "\n",
    "q = [i for i in inventories if len(inventories[i]) == 2]\n",
    "while len(q):\n",
    "    i = q.pop(0)\n",
    "    a, b = sorted(inventories[i])\n",
    "    x, y = swaps[i]\n",
    "    assert x != y\n",
    "    if x >= 0 and len(inventories[x]) == 2 or y >= 0 and len(inventories[y]) == 2:\n",
    "        q.append(i)\n",
    "        continue\n",
    "    inventories[i].clear()\n",
    "    if x >= 0:\n",
    "        inventories[x].append(a)\n",
    "        if len(inventories[x]) == 2:\n",
    "            q.append(x)\n",
    "    else:\n",
    "        outputs[-x-1].append(a)\n",
    "\n",
    "    if y >= 0:\n",
    "        inventories[y].append(b)\n",
    "        if len(inventories[y]) == 2:\n",
    "            q.append(y)\n",
    "    else:\n",
    "        outputs[-y-1].append(b)"
   ]
  },
  {
   "cell_type": "code",
   "execution_count": 64,
   "id": "6b9c4ace-db60-4a12-a893-bd5a76f95229",
   "metadata": {},
   "outputs": [
    {
     "data": {
      "text/plain": [
       "23903"
      ]
     },
     "execution_count": 64,
     "metadata": {},
     "output_type": "execute_result"
    }
   ],
   "source": [
    "outputs[0][0]*outputs[1][0]*outputs[2][0]"
   ]
  },
  {
   "cell_type": "code",
   "execution_count": null,
   "id": "3ded2830-02b5-4d93-b888-3180c21a6c37",
   "metadata": {},
   "outputs": [],
   "source": []
  }
 ],
 "metadata": {
  "kernelspec": {
   "display_name": "Python 3 (ipykernel)",
   "language": "python",
   "name": "python3"
  },
  "language_info": {
   "codemirror_mode": {
    "name": "ipython",
    "version": 3
   },
   "file_extension": ".py",
   "mimetype": "text/x-python",
   "name": "python",
   "nbconvert_exporter": "python",
   "pygments_lexer": "ipython3",
   "version": "3.10.6"
  }
 },
 "nbformat": 4,
 "nbformat_minor": 5
}
