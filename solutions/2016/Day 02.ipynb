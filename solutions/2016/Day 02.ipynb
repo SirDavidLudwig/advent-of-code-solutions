{
 "cells": [
  {
   "cell_type": "markdown",
   "id": "bc790bdf-0b79-4398-8132-0b6c0efecfd4",
   "metadata": {},
   "source": [
    "<div style=\"background-color: rgb(15, 15, 35); border: 1px solid rgb(255, 255, 255); color: rgb(204, 204, 204); font-family: monospace; margin-left: -5px; margin-right: -20px; padding: 1rem;\"><h2 style=\"border-color: rgb(255, 255, 255); color: rgb(255, 255, 255);\">--- Day 2: Bathroom Security ---</h2><p style=\"border-color: rgb(204, 204, 204); color: rgb(204, 204, 204);\">You arrive at <em style=\"border-color: rgb(255, 255, 255); color: rgb(255, 255, 255); text-shadow: rgb(255, 255, 255) 0px 0px 5px;\">Easter Bunny Headquarters</em> under cover of darkness. However, you left in such a rush that you forgot to use the bathroom! Fancy office buildings like this one usually have keypad locks on their bathrooms, so you search the front desk for the code.</p>\n",
    "<p style=\"border-color: rgb(204, 204, 204); color: rgb(204, 204, 204);\">\"In order to improve security,\" the document you find says, \"bathroom codes will no longer be written down.  Instead, please memorize and follow the procedure below to access the bathrooms.\"</p>\n",
    "<p style=\"border-color: rgb(204, 204, 204); color: rgb(204, 204, 204);\">The document goes on to explain that each button to be pressed can be found by starting on the previous button and moving to adjacent buttons on the keypad: <code style=\"border: 1px solid rgb(51, 51, 64); color: rgb(204, 204, 204); background: rgb(16, 16, 26);\">U</code> moves up, <code style=\"border: 1px solid rgb(51, 51, 64); color: rgb(204, 204, 204); background: rgb(16, 16, 26);\">D</code> moves down, <code style=\"border: 1px solid rgb(51, 51, 64); color: rgb(204, 204, 204); background: rgb(16, 16, 26);\">L</code> moves left, and <code style=\"border: 1px solid rgb(51, 51, 64); color: rgb(204, 204, 204); background: rgb(16, 16, 26);\">R</code> moves right. Each line of instructions corresponds to one button, starting at the previous button (or, for the first line, <em style=\"border-color: rgb(255, 255, 255); color: rgb(255, 255, 255); text-shadow: rgb(255, 255, 255) 0px 0px 5px;\">the \"5\" button</em>); press whatever button you're on at the end of each line. If a move doesn't lead to a button, ignore it.</p>\n",
    "<p style=\"border-color: rgb(204, 204, 204); color: rgb(204, 204, 204);\">You can't hold it much longer, so you decide to figure out the code as you walk to the bathroom. You picture a keypad like this:</p>\n",
    "<pre style=\"border: 1px solid rgb(51, 51, 64); color: rgb(204, 204, 204); background-color: rgb(16, 16, 26); display: inline-block;\"><code style=\"border-color: rgb(204, 204, 204); color: rgb(204, 204, 204); background-color: rgb(16, 16, 26);\">1 2 3\n",
    "4 5 6\n",
    "7 8 9\n",
    "</code></pre>\n",
    "<p style=\"border-color: rgb(204, 204, 204); color: rgb(204, 204, 204);\">Suppose your instructions are:</p>\n",
    "<pre style=\"border: 1px solid rgb(51, 51, 64); color: rgb(204, 204, 204); background-color: rgb(16, 16, 26); display: inline-block;\"><code style=\"border-color: rgb(204, 204, 204); color: rgb(204, 204, 204); background-color: rgb(16, 16, 26);\">ULL\n",
    "RRDDD\n",
    "LURDL\n",
    "UUUUD\n",
    "</code></pre>\n",
    "<ul style=\"border-color: rgb(204, 204, 204); color: rgb(204, 204, 204);\">\n",
    "<li style=\"border-color: rgb(204, 204, 204); color: rgb(204, 204, 204);\">You start at \"5\" and move up (to \"2\"), left (to \"1\"), and left (you can't, and stay on \"1\"), so the first button is <code style=\"border: 1px solid rgb(51, 51, 64); color: rgb(204, 204, 204); background: rgb(16, 16, 26);\">1</code>.</li>\n",
    "<li style=\"border-color: rgb(204, 204, 204); color: rgb(204, 204, 204);\">Starting from the previous button (\"1\"), you move right twice (to \"3\") and then down three times (stopping at \"9\" after two moves and ignoring the third), ending up with <code style=\"border: 1px solid rgb(51, 51, 64); color: rgb(204, 204, 204); background: rgb(16, 16, 26);\">9</code>.</li>\n",
    "<li style=\"border-color: rgb(204, 204, 204); color: rgb(204, 204, 204);\">Continuing from \"9\", you move left, up, right, down, and left, ending with <code style=\"border: 1px solid rgb(51, 51, 64); color: rgb(204, 204, 204); background: rgb(16, 16, 26);\">8</code>.</li>\n",
    "<li style=\"border-color: rgb(204, 204, 204); color: rgb(204, 204, 204);\">Finally, you move up four times (stopping at \"2\"), then down once, ending with <code style=\"border: 1px solid rgb(51, 51, 64); color: rgb(204, 204, 204); background: rgb(16, 16, 26);\">5</code>.</li>\n",
    "</ul>\n",
    "<p style=\"border-color: rgb(204, 204, 204); color: rgb(204, 204, 204);\">So, in this example, the bathroom code is <code style=\"border: 1px solid rgb(51, 51, 64); color: rgb(204, 204, 204); background: rgb(16, 16, 26);\">1985</code>.</p>\n",
    "<p style=\"border-color: rgb(204, 204, 204); color: rgb(204, 204, 204);\">Your puzzle input is the instructions from the document you found at the front desk. What is the <em style=\"border-color: rgb(255, 255, 255); color: rgb(255, 255, 255); text-shadow: rgb(255, 255, 255) 0px 0px 5px;\">bathroom code</em>?</p>\n",
    "</div>"
   ]
  },
  {
   "cell_type": "code",
   "execution_count": 1,
   "id": "9d72a8f4",
   "metadata": {},
   "outputs": [],
   "source": [
    "import sys\n",
    "sys.path.append(\"../../common\")"
   ]
  },
  {
   "cell_type": "code",
   "execution_count": 2,
   "id": "62b0ec11",
   "metadata": {},
   "outputs": [],
   "source": [
    "import aoc\n",
    "import numpy as np\n",
    "import re"
   ]
  },
  {
   "cell_type": "code",
   "execution_count": 49,
   "id": "a949b336",
   "metadata": {},
   "outputs": [
    {
     "data": {
      "text/plain": [
       "5"
      ]
     },
     "execution_count": 49,
     "metadata": {},
     "output_type": "execute_result"
    }
   ],
   "source": [
    "with open(\"./puzzle_inputs/02.txt\") as f:\n",
    "    lines = f.readlines()\n",
    "len(lines)"
   ]
  },
  {
   "cell_type": "code",
   "execution_count": 27,
   "id": "f34a4840-0f1b-430c-ac2a-4467e0e49af1",
   "metadata": {},
   "outputs": [],
   "source": [
    "lines = \"\"\"ULL\n",
    "RRDDD\n",
    "LURDL\n",
    "UUUUD\"\"\".split('\\n')"
   ]
  },
  {
   "cell_type": "code",
   "execution_count": 53,
   "id": "98811d14-5572-42bf-a505-738b8e6904f2",
   "metadata": {},
   "outputs": [
    {
     "data": {
      "text/plain": [
       "'76792'"
      ]
     },
     "execution_count": 53,
     "metadata": {},
     "output_type": "execute_result"
    }
   ],
   "source": [
    "loc = np.array([1, 1])\n",
    "code = \"\"\n",
    "for line in lines:\n",
    "    for c in line:\n",
    "        if c == 'U' and loc[0] > 0:\n",
    "            loc[0] -= 1\n",
    "        elif c == 'D' and loc[0] < 2:\n",
    "            loc[0] += 1\n",
    "        elif c == 'L' and loc[1] > 0:\n",
    "            loc[1] -= 1\n",
    "        elif c == 'R' and loc[1] < 2:\n",
    "            loc[1] += 1\n",
    "    code += str(loc[0]*3 + loc[1] + 1)\n",
    "code"
   ]
  },
  {
   "cell_type": "markdown",
   "id": "95744c13-f585-4882-b2b7-1660fb6bf177",
   "metadata": {},
   "source": [
    "<div style=\"background-color: rgb(15, 15, 35); border: 1px solid rgb(255, 255, 255); color: rgb(204, 204, 204); font-family: monospace; margin-left: -5px; margin-right: -20px; padding: 1rem;\"><h2 id=\"part2\" style=\"border-color: rgb(255, 255, 255); color: rgb(255, 255, 255);\">--- Part Two ---</h2><p style=\"border-color: rgb(204, 204, 204); color: rgb(204, 204, 204);\">You finally arrive at the bathroom (it's a several minute walk from the lobby so visitors can behold the many fancy conference rooms and water coolers on this floor) and go to punch in the code.  Much to your bladder's dismay, the keypad is not at all like you imagined it.  Instead, you are confronted with the result of hundreds of man-hours of <span title=\"User Group 143 found a diamond shape to be the most environmentally friendly.\" style=\"border-color: rgb(204, 204, 204); color: rgb(204, 204, 204);\">bathroom-keypad-design meetings:</span></p>\n",
    "<pre style=\"border: 1px solid rgb(51, 51, 64); color: rgb(204, 204, 204); background-color: rgb(16, 16, 26); display: inline-block;\"><code style=\"border-color: rgb(204, 204, 204); color: rgb(204, 204, 204); background-color: rgb(16, 16, 26);\">    1\n",
    "  2 3 4\n",
    "5 6 7 8 9\n",
    "  A B C\n",
    "    D\n",
    "</code></pre>\n",
    "<p style=\"border-color: rgb(204, 204, 204); color: rgb(204, 204, 204);\">You still start at \"5\" and stop when you're at an edge, but given the same instructions as above, the outcome is very different:</p>\n",
    "<ul style=\"border-color: rgb(204, 204, 204); color: rgb(204, 204, 204);\">\n",
    "<li style=\"border-color: rgb(204, 204, 204); color: rgb(204, 204, 204);\">You start at \"5\" and don't move at all (up and left are both edges), ending at <code style=\"border: 1px solid rgb(51, 51, 64); color: rgb(204, 204, 204); background: rgb(16, 16, 26);\">5</code>.</li>\n",
    "<li style=\"border-color: rgb(204, 204, 204); color: rgb(204, 204, 204);\">Continuing from \"5\", you move right twice and down three times (through \"6\", \"7\", \"B\", \"D\", \"D\"), ending at <code style=\"border: 1px solid rgb(51, 51, 64); color: rgb(204, 204, 204); background: rgb(16, 16, 26);\">D</code>.</li>\n",
    "<li style=\"border-color: rgb(204, 204, 204); color: rgb(204, 204, 204);\">Then, from \"D\", you move five more times (through \"D\", \"B\", \"C\", \"C\", \"B\"), ending at <code style=\"border: 1px solid rgb(51, 51, 64); color: rgb(204, 204, 204); background: rgb(16, 16, 26);\">B</code>.</li>\n",
    "<li style=\"border-color: rgb(204, 204, 204); color: rgb(204, 204, 204);\">Finally, after five more moves, you end at <code style=\"border: 1px solid rgb(51, 51, 64); color: rgb(204, 204, 204); background: rgb(16, 16, 26);\">3</code>.</li>\n",
    "</ul>\n",
    "<p style=\"border-color: rgb(204, 204, 204); color: rgb(204, 204, 204);\">So, given the actual keypad layout, the code would be <code style=\"border: 1px solid rgb(51, 51, 64); color: rgb(204, 204, 204); background: rgb(16, 16, 26);\">5DB3</code>.</p>\n",
    "<p style=\"border-color: rgb(204, 204, 204); color: rgb(204, 204, 204);\">Using the same instructions in your puzzle input, what is the correct <em style=\"border-color: rgb(255, 255, 255); color: rgb(255, 255, 255); text-shadow: rgb(255, 255, 255) 0px 0px 5px;\">bathroom code</em>?</p>\n",
    "</div>"
   ]
  },
  {
   "cell_type": "code",
   "execution_count": 46,
   "id": "156a9f3b-3ced-47b2-898d-93941cbb2b23",
   "metadata": {},
   "outputs": [],
   "source": [
    "keypad = [\n",
    "    \"#######\",\n",
    "    \"###1###\",\n",
    "    \"##234##\",\n",
    "    \"#56789#\",\n",
    "    \"##ABC##\",\n",
    "    \"###D###\",\n",
    "    \"#######\"\n",
    "]"
   ]
  },
  {
   "cell_type": "code",
   "execution_count": 54,
   "id": "d92ca654-0d55-4610-9019-be574ff2a9c4",
   "metadata": {},
   "outputs": [
    {
     "data": {
      "text/plain": [
       "'A7AC3'"
      ]
     },
     "execution_count": 54,
     "metadata": {},
     "output_type": "execute_result"
    }
   ],
   "source": [
    "loc = [3, 1]\n",
    "code = \"\"\n",
    "for line in lines:\n",
    "    for c in line:\n",
    "        if c == 'U' and keypad[loc[0]-1][loc[1]] != '#':\n",
    "            loc[0] -= 1\n",
    "        elif c == 'D' and keypad[loc[0]+1][loc[1]] != '#':\n",
    "            loc[0] += 1\n",
    "        elif c == 'L' and keypad[loc[0]][loc[1]-1] != '#':\n",
    "            loc[1] -= 1\n",
    "        elif c == 'R' and keypad[loc[0]][loc[1]+1] != '#':\n",
    "            loc[1] += 1\n",
    "    code += (keypad[loc[0]][loc[1]])\n",
    "code"
   ]
  },
  {
   "cell_type": "code",
   "execution_count": null,
   "id": "9ab97800-eb00-4188-a1dd-4228dbf4fdfa",
   "metadata": {},
   "outputs": [],
   "source": []
  }
 ],
 "metadata": {
  "kernelspec": {
   "display_name": "Python 3 (ipykernel)",
   "language": "python",
   "name": "python3"
  },
  "language_info": {
   "codemirror_mode": {
    "name": "ipython",
    "version": 3
   },
   "file_extension": ".py",
   "mimetype": "text/x-python",
   "name": "python",
   "nbconvert_exporter": "python",
   "pygments_lexer": "ipython3",
   "version": "3.10.6"
  }
 },
 "nbformat": 4,
 "nbformat_minor": 5
}
