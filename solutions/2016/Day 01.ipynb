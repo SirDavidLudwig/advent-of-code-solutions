{
 "cells": [
  {
   "cell_type": "markdown",
   "id": "763ad871-39e9-4841-8d21-bbf684109a1c",
   "metadata": {},
   "source": [
    "<div style=\"background-color: rgb(15, 15, 35); border: 1px solid rgb(255, 255, 255); color: rgb(204, 204, 204); font-family: monospace; margin-left: -5px; margin-right: -20px; padding: 1rem;\"><h2 style=\"border-color: rgb(255, 255, 255); color: rgb(255, 255, 255);\">--- Day 1: No Time for a Taxicab ---</h2><p style=\"border-color: rgb(204, 204, 204); color: rgb(204, 204, 204);\">Santa's sleigh uses a <span title=\"An atomic clock is too inaccurate; he might end up in a wall!\" style=\"border-color: rgb(204, 204, 204); color: rgb(204, 204, 204);\">very high-precision clock</span> to guide its movements, and the clock's oscillator is regulated by stars. Unfortunately, the stars have been stolen... by the Easter Bunny.  To save Christmas, Santa needs you to retrieve all <em class=\"star\" style=\"border-color: rgb(255, 255, 102); color: rgb(255, 255, 102); text-shadow: rgb(255, 255, 102) 0px 0px 5px;\">fifty stars</em> by December 25th.</p>\n",
    "<p style=\"border-color: rgb(204, 204, 204); color: rgb(204, 204, 204);\">Collect stars by solving puzzles.  Two puzzles will be made available on each day in the Advent calendar; the second puzzle is unlocked when you complete the first.  Each puzzle grants <em class=\"star\" style=\"border-color: rgb(255, 255, 102); color: rgb(255, 255, 102); text-shadow: rgb(255, 255, 102) 0px 0px 5px;\">one star</em>. Good luck!</p>\n",
    "<p style=\"border-color: rgb(204, 204, 204); color: rgb(204, 204, 204);\">You're airdropped near <em style=\"border-color: rgb(255, 255, 255); color: rgb(255, 255, 255); text-shadow: rgb(255, 255, 255) 0px 0px 5px;\">Easter Bunny Headquarters</em> in a city somewhere.  \"Near\", unfortunately, is as close as you can get - the instructions on the Easter Bunny Recruiting Document the Elves intercepted start here, and nobody had time to work them out further.</p>\n",
    "<p style=\"border-color: rgb(204, 204, 204); color: rgb(204, 204, 204);\">The Document indicates that you should start at the given coordinates (where you just landed) and face North.  Then, follow the provided sequence: either turn left (<code style=\"border: 1px solid rgb(51, 51, 64); color: rgb(204, 204, 204); background: rgb(16, 16, 26);\">L</code>) or right (<code style=\"border: 1px solid rgb(51, 51, 64); color: rgb(204, 204, 204); background: rgb(16, 16, 26);\">R</code>) 90 degrees, then walk forward the given number of blocks, ending at a new intersection.</p>\n",
    "<p style=\"border-color: rgb(204, 204, 204); color: rgb(204, 204, 204);\">There's no time to follow such ridiculous instructions on foot, though, so you take a moment and work out the destination.  Given that you can only walk on the <a href=\"https://en.wikipedia.org/wiki/Taxicab_geometry\" style=\"border-color: rgb(0, 153, 0); color: rgb(0, 153, 0);\">street grid of the city</a>, how far is the shortest path to the destination?</p>\n",
    "<p style=\"border-color: rgb(204, 204, 204); color: rgb(204, 204, 204);\">For example:</p>\n",
    "<ul style=\"border-color: rgb(204, 204, 204); color: rgb(204, 204, 204);\">\n",
    "<li style=\"border-color: rgb(204, 204, 204); color: rgb(204, 204, 204);\">Following <code style=\"border: 1px solid rgb(51, 51, 64); color: rgb(204, 204, 204); background: rgb(16, 16, 26);\">R2, L3</code> leaves you <code style=\"border: 1px solid rgb(51, 51, 64); color: rgb(204, 204, 204); background: rgb(16, 16, 26);\">2</code> blocks East and <code style=\"border: 1px solid rgb(51, 51, 64); color: rgb(204, 204, 204); background: rgb(16, 16, 26);\">3</code> blocks North, or <code style=\"border: 1px solid rgb(51, 51, 64); color: rgb(204, 204, 204); background: rgb(16, 16, 26);\">5</code> blocks away.</li>\n",
    "<li style=\"border-color: rgb(204, 204, 204); color: rgb(204, 204, 204);\"><code style=\"border: 1px solid rgb(51, 51, 64); color: rgb(204, 204, 204); background: rgb(16, 16, 26);\">R2, R2, R2</code> leaves you <code style=\"border: 1px solid rgb(51, 51, 64); color: rgb(204, 204, 204); background: rgb(16, 16, 26);\">2</code> blocks due South of your starting position, which is <code style=\"border: 1px solid rgb(51, 51, 64); color: rgb(204, 204, 204); background: rgb(16, 16, 26);\">2</code> blocks away.</li>\n",
    "<li style=\"border-color: rgb(204, 204, 204); color: rgb(204, 204, 204);\"><code style=\"border: 1px solid rgb(51, 51, 64); color: rgb(204, 204, 204); background: rgb(16, 16, 26);\">R5, L5, R5, R3</code> leaves you <code style=\"border: 1px solid rgb(51, 51, 64); color: rgb(204, 204, 204); background: rgb(16, 16, 26);\">12</code> blocks away.</li>\n",
    "</ul>\n",
    "<p style=\"border-color: rgb(204, 204, 204); color: rgb(204, 204, 204);\"><em style=\"border-color: rgb(255, 255, 255); color: rgb(255, 255, 255); text-shadow: rgb(255, 255, 255) 0px 0px 5px;\">How many blocks away</em> is Easter Bunny HQ?</p>\n",
    "</div>"
   ]
  },
  {
   "cell_type": "code",
   "execution_count": 1,
   "id": "e97ad655",
   "metadata": {},
   "outputs": [],
   "source": [
    "import sys\n",
    "sys.path.append(\"../../common\")"
   ]
  },
  {
   "cell_type": "code",
   "execution_count": 2,
   "id": "0d9dd751",
   "metadata": {},
   "outputs": [],
   "source": [
    "import aoc\n",
    "import numpy as np\n",
    "import re"
   ]
  },
  {
   "cell_type": "code",
   "execution_count": 5,
   "id": "b2be1e21",
   "metadata": {},
   "outputs": [
    {
     "data": {
      "text/plain": [
       "1"
      ]
     },
     "execution_count": 5,
     "metadata": {},
     "output_type": "execute_result"
    }
   ],
   "source": [
    "with open(\"./puzzle_inputs/01.txt\") as f:\n",
    "    lines = f.readlines()\n",
    "len(lines)"
   ]
  },
  {
   "cell_type": "code",
   "execution_count": 31,
   "id": "7c1e40d1-113d-4155-9ca4-675163d703bd",
   "metadata": {},
   "outputs": [],
   "source": [
    "deltas = np.array([\n",
    "    (-1, 0),\n",
    "    (0, -1),\n",
    "    (1, 0),\n",
    "    (0, 1)\n",
    "])"
   ]
  },
  {
   "cell_type": "code",
   "execution_count": 32,
   "id": "35613444-2591-4446-8c73-cc88691bb44a",
   "metadata": {},
   "outputs": [],
   "source": [
    "d = 0\n",
    "l = np.array([0, 0])\n",
    "for move in re.findall(\"([LR])(\\d+)\", lines[0]):\n",
    "    if move[0] == 'L':\n",
    "        d = (d + 1) % 4\n",
    "    else:\n",
    "        d = (d - 1) % 4\n",
    "    l += int(move[1])*deltas[d]"
   ]
  },
  {
   "cell_type": "code",
   "execution_count": 33,
   "id": "da63e694-4c30-42e0-a659-56df9b5e00e1",
   "metadata": {},
   "outputs": [
    {
     "data": {
      "text/plain": [
       "234"
      ]
     },
     "execution_count": 33,
     "metadata": {},
     "output_type": "execute_result"
    }
   ],
   "source": [
    "np.sum(np.abs(l))"
   ]
  },
  {
   "cell_type": "markdown",
   "id": "1e42ecc0-5800-4ff8-b6ee-92e960ed580a",
   "metadata": {},
   "source": [
    "<div style=\"background-color: rgb(15, 15, 35); border: 1px solid rgb(255, 255, 255); color: rgb(204, 204, 204); font-family: monospace; margin-left: -5px; margin-right: -20px; padding: 1rem;\"><h2 id=\"part2\" style=\"border-color: rgb(255, 255, 255); color: rgb(255, 255, 255);\">--- Part Two ---</h2><p style=\"border-color: rgb(204, 204, 204); color: rgb(204, 204, 204);\">Then, you notice the instructions continue on the back of the Recruiting Document.  Easter Bunny HQ is actually at the first location you visit twice.</p>\n",
    "<p style=\"border-color: rgb(204, 204, 204); color: rgb(204, 204, 204);\">For example, if your instructions are <code style=\"border: 1px solid rgb(51, 51, 64); color: rgb(204, 204, 204); background: rgb(16, 16, 26);\">R8, R4, R4, R8</code>, the first location you visit twice is <code style=\"border: 1px solid rgb(51, 51, 64); color: rgb(204, 204, 204); background: rgb(16, 16, 26);\">4</code> blocks away, due East.</p>\n",
    "<p style=\"border-color: rgb(204, 204, 204); color: rgb(204, 204, 204);\">How many blocks away is the <em style=\"border-color: rgb(255, 255, 255); color: rgb(255, 255, 255); text-shadow: rgb(255, 255, 255) 0px 0px 5px;\">first location you visit twice</em>?</p>\n",
    "</div>"
   ]
  },
  {
   "cell_type": "code",
   "execution_count": 39,
   "id": "87da2c8c-fb8f-4721-9716-9751bf17d7e7",
   "metadata": {},
   "outputs": [],
   "source": [
    "d = 0\n",
    "l = np.array([0, 0])\n",
    "locations = set([tuple(l)])\n",
    "dest = None\n",
    "for move in re.findall(\"([LR])(\\d+)\", lines[0]):\n",
    "    if move[0] == 'L':\n",
    "        d = (d + 1) % 4\n",
    "    else:\n",
    "        d = (d - 1) % 4\n",
    "    for i in range(int(move[1])):\n",
    "        l += deltas[d]\n",
    "        if tuple(l) in locations:\n",
    "            dest = l\n",
    "            break\n",
    "        locations.add(tuple(l))\n",
    "    if dest is not None:\n",
    "        break"
   ]
  },
  {
   "cell_type": "code",
   "execution_count": 40,
   "id": "0893d49f-d051-45ba-b466-3b34b687438f",
   "metadata": {},
   "outputs": [
    {
     "data": {
      "text/plain": [
       "113"
      ]
     },
     "execution_count": 40,
     "metadata": {},
     "output_type": "execute_result"
    }
   ],
   "source": [
    "np.sum(np.abs(dest))"
   ]
  },
  {
   "cell_type": "code",
   "execution_count": null,
   "id": "acd3a44f-b594-4c74-b2b3-b3704d35b732",
   "metadata": {},
   "outputs": [],
   "source": []
  }
 ],
 "metadata": {
  "kernelspec": {
   "display_name": "Python 3 (ipykernel)",
   "language": "python",
   "name": "python3"
  },
  "language_info": {
   "codemirror_mode": {
    "name": "ipython",
    "version": 3
   },
   "file_extension": ".py",
   "mimetype": "text/x-python",
   "name": "python",
   "nbconvert_exporter": "python",
   "pygments_lexer": "ipython3",
   "version": "3.10.6"
  }
 },
 "nbformat": 4,
 "nbformat_minor": 5
}
