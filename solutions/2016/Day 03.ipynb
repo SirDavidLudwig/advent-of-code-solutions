{
 "cells": [
  {
   "cell_type": "markdown",
   "id": "0ce757bb-9c4a-4880-8e4a-e0c668a1aa45",
   "metadata": {},
   "source": [
    "<div style=\"background-color: rgb(15, 15, 35); border: 1px solid rgb(255, 255, 255); color: rgb(204, 204, 204); font-family: monospace; margin-left: -5px; margin-right: -20px; padding: 1rem;\"><h2 style=\"border-color: rgb(255, 255, 255); color: rgb(255, 255, 255);\">--- Day 3: Squares With Three Sides ---</h2><p style=\"border-color: rgb(204, 204, 204); color: rgb(204, 204, 204);\">Now that you can think clearly, you move deeper into the labyrinth of hallways and office furniture that makes up this part of Easter Bunny HQ. This must be a graphic design department; the walls are covered in specifications for triangles.</p>\n",
    "<p style=\"border-color: rgb(204, 204, 204); color: rgb(204, 204, 204);\">Or are they?</p>\n",
    "<p style=\"border-color: rgb(204, 204, 204); color: rgb(204, 204, 204);\">The design document gives the side lengths of each triangle it describes, but... <code style=\"border: 1px solid rgb(51, 51, 64); color: rgb(204, 204, 204); background: rgb(16, 16, 26);\">5 10 25</code>?  Some of these aren't triangles. You can't help but mark the impossible ones.</p>\n",
    "<p style=\"border-color: rgb(204, 204, 204); color: rgb(204, 204, 204);\">In a valid triangle, the sum of any two sides must be larger than the remaining side.  For example, the \"triangle\" given above is <span title=\"Unless it's on a sphere!\" style=\"border-color: rgb(204, 204, 204); color: rgb(204, 204, 204);\">impossible</span>, because <code style=\"border: 1px solid rgb(51, 51, 64); color: rgb(204, 204, 204); background: rgb(16, 16, 26);\">5 + 10</code> is not larger than <code style=\"border: 1px solid rgb(51, 51, 64); color: rgb(204, 204, 204); background: rgb(16, 16, 26);\">25</code>.</p>\n",
    "<p style=\"border-color: rgb(204, 204, 204); color: rgb(204, 204, 204);\">In your puzzle input, <em style=\"border-color: rgb(255, 255, 255); color: rgb(255, 255, 255); text-shadow: rgb(255, 255, 255) 0px 0px 5px;\">how many</em> of the listed triangles are <em style=\"border-color: rgb(255, 255, 255); color: rgb(255, 255, 255); text-shadow: rgb(255, 255, 255) 0px 0px 5px;\">possible</em>?</p>\n",
    "</div>"
   ]
  },
  {
   "cell_type": "code",
   "execution_count": 1,
   "id": "9d72a8f4",
   "metadata": {},
   "outputs": [],
   "source": [
    "import sys\n",
    "sys.path.append(\"../../common\")"
   ]
  },
  {
   "cell_type": "code",
   "execution_count": 6,
   "id": "62b0ec11",
   "metadata": {},
   "outputs": [],
   "source": [
    "import aoc\n",
    "import itertools as it\n",
    "import numpy as np\n",
    "import re"
   ]
  },
  {
   "cell_type": "code",
   "execution_count": 11,
   "id": "a949b336",
   "metadata": {},
   "outputs": [
    {
     "data": {
      "text/plain": [
       "1902"
      ]
     },
     "execution_count": 11,
     "metadata": {},
     "output_type": "execute_result"
    }
   ],
   "source": [
    "with open(\"./puzzle_inputs/03.txt\") as f:\n",
    "    lines = f.readlines()\n",
    "len(lines)"
   ]
  },
  {
   "cell_type": "code",
   "execution_count": 46,
   "id": "c95a7101-a0dc-4b02-802e-6a095366bee6",
   "metadata": {},
   "outputs": [
    {
     "data": {
      "text/plain": [
       "['  883  357  185\\n',\n",
       " '  572  189  424\\n',\n",
       " '  842  206  272\\n',\n",
       " '   55  656   94\\n',\n",
       " '  612  375   90\\n']"
      ]
     },
     "execution_count": 46,
     "metadata": {},
     "output_type": "execute_result"
    }
   ],
   "source": [
    "lines[:5]"
   ]
  },
  {
   "cell_type": "code",
   "execution_count": 37,
   "id": "3e54a8a4-9186-4de6-8165-ba21447f562e",
   "metadata": {},
   "outputs": [
    {
     "data": {
      "text/plain": [
       "982"
      ]
     },
     "execution_count": 37,
     "metadata": {},
     "output_type": "execute_result"
    }
   ],
   "source": [
    "n = 0\n",
    "for line in lines:\n",
    "    sides = sorted(map(int, re.findall(\"\\d+\", line)))\n",
    "    is_valid = True\n",
    "    for a, b in it.combinations(range(3), 2):\n",
    "        r = next(iter(set(range(3)) - set([a, b])))\n",
    "        if sides[a]+sides[b] <= sides[r]:\n",
    "            is_valid = False\n",
    "    if is_valid:\n",
    "        n += 1\n",
    "n"
   ]
  },
  {
   "cell_type": "markdown",
   "id": "fb600c66-e7e1-4920-9e2a-3d42dba00e58",
   "metadata": {},
   "source": [
    "<div style=\"background-color: rgb(15, 15, 35); border: 1px solid rgb(255, 255, 255); color: rgb(204, 204, 204); font-family: monospace; margin-left: -5px; margin-right: -20px; padding: 1rem;\"><h2 id=\"part2\" style=\"border-color: rgb(255, 255, 255); color: rgb(255, 255, 255);\">--- Part Two ---</h2><p style=\"border-color: rgb(204, 204, 204); color: rgb(204, 204, 204);\">Now that you've helpfully marked up their design documents, it occurs to you that triangles are specified in groups of three <em style=\"border-color: rgb(255, 255, 255); color: rgb(255, 255, 255); text-shadow: rgb(255, 255, 255) 0px 0px 5px;\">vertically</em>.  Each set of three numbers in a column specifies a triangle.  Rows are unrelated.</p>\n",
    "<p style=\"border-color: rgb(204, 204, 204); color: rgb(204, 204, 204);\">For example, given the following specification, numbers with the same hundreds digit would be part of the same triangle:</p>\n",
    "<pre style=\"border: 1px solid rgb(51, 51, 64); color: rgb(204, 204, 204); background-color: rgb(16, 16, 26); display: inline-block;\"><code style=\"border-color: rgb(204, 204, 204); color: rgb(204, 204, 204); background-color: rgb(16, 16, 26);\">101 301 501\n",
    "102 302 502\n",
    "103 303 503\n",
    "201 401 601\n",
    "202 402 602\n",
    "203 403 603\n",
    "</code></pre>\n",
    "<p style=\"border-color: rgb(204, 204, 204); color: rgb(204, 204, 204);\">In your puzzle input, and instead reading by columns, <em style=\"border-color: rgb(255, 255, 255); color: rgb(255, 255, 255); text-shadow: rgb(255, 255, 255) 0px 0px 5px;\">how many</em> of the listed triangles are <em style=\"border-color: rgb(255, 255, 255); color: rgb(255, 255, 255); text-shadow: rgb(255, 255, 255) 0px 0px 5px;\">possible</em>?</p>\n",
    "</div>"
   ]
  },
  {
   "cell_type": "code",
   "execution_count": 24,
   "id": "5677cebf-0684-4a3f-9207-97fc41ae9e63",
   "metadata": {},
   "outputs": [],
   "source": [
    "assert len(lines) % 3 == 0"
   ]
  },
  {
   "cell_type": "code",
   "execution_count": 51,
   "id": "8e35f60f-5b72-420b-a6f0-6475add9076a",
   "metadata": {},
   "outputs": [
    {
     "data": {
      "text/plain": [
       "array([[883, 572, 842],\n",
       "       [ 55, 612, 663],\n",
       "       [183, 551, 714],\n",
       "       ...,\n",
       "       [632, 133, 723],\n",
       "       [620,  58, 608],\n",
       "       [520, 328, 215]])"
      ]
     },
     "execution_count": 51,
     "metadata": {},
     "output_type": "execute_result"
    }
   ],
   "source": [
    "digits = np.array([list(map(int, re.findall(\"\\d+\", line))) for line in lines])\n",
    "digits = np.concatenate(tuple(digits.T)).reshape((-1, 3))\n",
    "digits"
   ]
  },
  {
   "cell_type": "code",
   "execution_count": 53,
   "id": "fb32a5ae-4843-4c8b-b7d4-d744c58aeae4",
   "metadata": {},
   "outputs": [
    {
     "data": {
      "text/plain": [
       "1826"
      ]
     },
     "execution_count": 53,
     "metadata": {},
     "output_type": "execute_result"
    }
   ],
   "source": [
    "n = 0\n",
    "for line in digits:\n",
    "    sides = line\n",
    "    is_valid = True\n",
    "    for a, b in it.combinations(range(3), 2):\n",
    "        r = next(iter(set(range(3)) - set([a, b])))\n",
    "        if sides[a]+sides[b] <= sides[r]:\n",
    "            is_valid = False\n",
    "    if is_valid:\n",
    "        n += 1\n",
    "n"
   ]
  },
  {
   "cell_type": "code",
   "execution_count": null,
   "id": "07e4d161-1e5d-4d10-937a-bfe6075a2e7e",
   "metadata": {},
   "outputs": [],
   "source": []
  }
 ],
 "metadata": {
  "kernelspec": {
   "display_name": "Python 3 (ipykernel)",
   "language": "python",
   "name": "python3"
  },
  "language_info": {
   "codemirror_mode": {
    "name": "ipython",
    "version": 3
   },
   "file_extension": ".py",
   "mimetype": "text/x-python",
   "name": "python",
   "nbconvert_exporter": "python",
   "pygments_lexer": "ipython3",
   "version": "3.10.6"
  }
 },
 "nbformat": 4,
 "nbformat_minor": 5
}
