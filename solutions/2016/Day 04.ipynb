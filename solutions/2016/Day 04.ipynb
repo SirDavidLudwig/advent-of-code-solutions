{
 "cells": [
  {
   "cell_type": "markdown",
   "id": "17c67a13-9001-4932-aafb-d30e1f8a1b49",
   "metadata": {},
   "source": [
    "<div style=\"background-color: rgb(15, 15, 35); border: 1px solid rgb(255, 255, 255); color: rgb(204, 204, 204); font-family: monospace; margin-left: -5px; margin-right: -20px; padding: 1rem;\"><h2 style=\"border-color: rgb(255, 255, 255); color: rgb(255, 255, 255);\">--- Day 4: Security Through Obscurity ---</h2><p style=\"border-color: rgb(204, 204, 204); color: rgb(204, 204, 204);\">Finally, you come across an information kiosk with a list of rooms.  Of course, the list is encrypted and full of decoy data, but the instructions to decode the list are barely hidden nearby.  Better remove the decoy data first.</p>\n",
    "<p style=\"border-color: rgb(204, 204, 204); color: rgb(204, 204, 204);\">Each room consists of an encrypted name (lowercase letters separated by dashes) followed by a dash, a sector ID, and a checksum in square brackets.</p>\n",
    "<p style=\"border-color: rgb(204, 204, 204); color: rgb(204, 204, 204);\">A room is real (not a decoy) if the checksum is the five most common letters in the encrypted name, in order, with ties broken by alphabetization.  For example:</p>\n",
    "<ul style=\"border-color: rgb(204, 204, 204); color: rgb(204, 204, 204);\">\n",
    "<li style=\"border-color: rgb(204, 204, 204); color: rgb(204, 204, 204);\"><code style=\"border: 1px solid rgb(51, 51, 64); color: rgb(204, 204, 204); background: rgb(16, 16, 26);\">aaaaa-bbb-z-y-x-123[abxyz]</code> is a real room because the most common letters are <code style=\"border: 1px solid rgb(51, 51, 64); color: rgb(204, 204, 204); background: rgb(16, 16, 26);\">a</code> (5), <code style=\"border: 1px solid rgb(51, 51, 64); color: rgb(204, 204, 204); background: rgb(16, 16, 26);\">b</code> (3), and then a tie between <code style=\"border: 1px solid rgb(51, 51, 64); color: rgb(204, 204, 204); background: rgb(16, 16, 26);\">x</code>, <code style=\"border: 1px solid rgb(51, 51, 64); color: rgb(204, 204, 204); background: rgb(16, 16, 26);\">y</code>, and <code style=\"border: 1px solid rgb(51, 51, 64); color: rgb(204, 204, 204); background: rgb(16, 16, 26);\">z</code>, which are listed alphabetically.</li>\n",
    "<li style=\"border-color: rgb(204, 204, 204); color: rgb(204, 204, 204);\"><code style=\"border: 1px solid rgb(51, 51, 64); color: rgb(204, 204, 204); background: rgb(16, 16, 26);\">a-b-c-d-e-f-g-h-987[abcde]</code> is a real room because although the letters are all tied (1 of each), the first five are listed alphabetically.</li>\n",
    "<li style=\"border-color: rgb(204, 204, 204); color: rgb(204, 204, 204);\"><code style=\"border: 1px solid rgb(51, 51, 64); color: rgb(204, 204, 204); background: rgb(16, 16, 26);\">not-a-real-room-404[oarel]</code> is a real room.</li>\n",
    "<li style=\"border-color: rgb(204, 204, 204); color: rgb(204, 204, 204);\"><code style=\"border: 1px solid rgb(51, 51, 64); color: rgb(204, 204, 204); background: rgb(16, 16, 26);\">totally-real-room-200[decoy]</code> is not.</li>\n",
    "</ul>\n",
    "<p style=\"border-color: rgb(204, 204, 204); color: rgb(204, 204, 204);\">Of the real rooms from the list above, the sum of their sector IDs is <code style=\"border: 1px solid rgb(51, 51, 64); color: rgb(204, 204, 204); background: rgb(16, 16, 26);\">1514</code>.</p>\n",
    "<p style=\"border-color: rgb(204, 204, 204); color: rgb(204, 204, 204);\">What is the <em style=\"border-color: rgb(255, 255, 255); color: rgb(255, 255, 255); text-shadow: rgb(255, 255, 255) 0px 0px 5px;\">sum of the sector IDs of the real rooms</em>?</p>\n",
    "</div>"
   ]
  },
  {
   "cell_type": "code",
   "execution_count": 16,
   "id": "9d72a8f4",
   "metadata": {},
   "outputs": [],
   "source": [
    "import sys\n",
    "sys.path.append(\"../../common\")"
   ]
  },
  {
   "cell_type": "code",
   "execution_count": 17,
   "id": "62b0ec11",
   "metadata": {},
   "outputs": [],
   "source": [
    "import aoc\n",
    "import numpy as np\n",
    "import re"
   ]
  },
  {
   "cell_type": "code",
   "execution_count": 75,
   "id": "a949b336",
   "metadata": {},
   "outputs": [],
   "source": [
    "with open(\"./puzzle_inputs/04.txt\") as f:\n",
    "    lines = f.readlines()"
   ]
  },
  {
   "cell_type": "code",
   "execution_count": 73,
   "id": "4557d011-cb53-4da1-be3f-594bd6a75b94",
   "metadata": {},
   "outputs": [],
   "source": [
    "lines = \"\"\"aaaaa-bbb-z-y-x-123[abxyz]\n",
    "a-b-c-d-e-f-g-h-987[abcde]\n",
    "not-a-real-room-404[oarel]\n",
    "totally-real-room-200[decoy]\"\"\".split('\\n')"
   ]
  },
  {
   "cell_type": "code",
   "execution_count": 84,
   "id": "935783f2-568c-48fc-b0b3-3bce6ef00478",
   "metadata": {},
   "outputs": [
    {
     "data": {
      "text/plain": [
       "278221"
      ]
     },
     "execution_count": 84,
     "metadata": {},
     "output_type": "execute_result"
    }
   ],
   "source": [
    "total = 0\n",
    "for line in lines:\n",
    "    *a, b = line.strip().split('-')\n",
    "    a = ''.join(a)\n",
    "    sector_id, checksum = b.split('[')\n",
    "    checksum = checksum[:-1]\n",
    "    chars, counts = np.unique(list(a), return_counts=True)\n",
    "    items = sorted(zip(counts, chars), key=lambda x: (x[0], -ord(x[1])), reverse=True)\n",
    "    most_common = []\n",
    "    for item in items:\n",
    "        if len(most_common) > 5 and item[0] != most_common[-1][0]:\n",
    "            break\n",
    "        most_common.append(item)\n",
    "    most_common_chars = set(c[1] for c in most_common[:5])\n",
    "    if all(c in most_common_chars for c in checksum):\n",
    "        total += int(sector_id)\n",
    "total"
   ]
  },
  {
   "cell_type": "markdown",
   "id": "5eb88d0c-7c4f-45b9-84d8-d5ec6d00a906",
   "metadata": {},
   "source": [
    "<div style=\"background-color: rgb(15, 15, 35); border: 1px solid rgb(255, 255, 255); color: rgb(204, 204, 204); font-family: monospace; margin-left: -5px; margin-right: -20px; padding: 1rem;\"><h2 id=\"part2\" style=\"border-color: rgb(255, 255, 255); color: rgb(255, 255, 255);\">--- Part Two ---</h2><p style=\"border-color: rgb(204, 204, 204); color: rgb(204, 204, 204);\">With all the decoy data out of the way, it's time to decrypt this list and get moving.</p>\n",
    "<p style=\"border-color: rgb(204, 204, 204); color: rgb(204, 204, 204);\">The room names are encrypted by a state-of-the-art <a href=\"https://en.wikipedia.org/wiki/Caesar_cipher\" style=\"border-color: rgb(0, 153, 0); color: rgb(0, 153, 0);\">shift cipher</a>, which is nearly unbreakable without <span title=\"...or, like, half of a napkin.\" style=\"border-color: rgb(204, 204, 204); color: rgb(204, 204, 204);\">the right software</span>. However, the information kiosk designers at Easter Bunny HQ were not expecting to deal with a master cryptographer like yourself.</p>\n",
    "<p style=\"border-color: rgb(204, 204, 204); color: rgb(204, 204, 204);\">To decrypt a room name, rotate each letter forward through the alphabet a number of times equal to the room's sector ID.  <code style=\"border: 1px solid rgb(51, 51, 64); color: rgb(204, 204, 204); background: rgb(16, 16, 26);\">A</code> becomes <code style=\"border: 1px solid rgb(51, 51, 64); color: rgb(204, 204, 204); background: rgb(16, 16, 26);\">B</code>, <code style=\"border: 1px solid rgb(51, 51, 64); color: rgb(204, 204, 204); background: rgb(16, 16, 26);\">B</code> becomes <code style=\"border: 1px solid rgb(51, 51, 64); color: rgb(204, 204, 204); background: rgb(16, 16, 26);\">C</code>, <code style=\"border: 1px solid rgb(51, 51, 64); color: rgb(204, 204, 204); background: rgb(16, 16, 26);\">Z</code> becomes <code style=\"border: 1px solid rgb(51, 51, 64); color: rgb(204, 204, 204); background: rgb(16, 16, 26);\">A</code>, and so on. Dashes become spaces.</p>\n",
    "<p style=\"border-color: rgb(204, 204, 204); color: rgb(204, 204, 204);\">For example, the real name for <code style=\"border: 1px solid rgb(51, 51, 64); color: rgb(204, 204, 204); background: rgb(16, 16, 26);\">qzmt-zixmtkozy-ivhz-343</code> is <code style=\"border: 1px solid rgb(51, 51, 64); color: rgb(204, 204, 204); background: rgb(16, 16, 26);\">very encrypted name</code>.</p>\n",
    "<p style=\"border-color: rgb(204, 204, 204); color: rgb(204, 204, 204);\"><em style=\"border-color: rgb(255, 255, 255); color: rgb(255, 255, 255); text-shadow: rgb(255, 255, 255) 0px 0px 5px;\">What is the sector ID</em> of the room where North Pole objects are stored?</p>\n",
    "</div>"
   ]
  },
  {
   "cell_type": "code",
   "execution_count": 87,
   "id": "eb76efa1-8a84-4b56-b013-6ee73cb4d35a",
   "metadata": {},
   "outputs": [],
   "source": [
    "names = []\n",
    "sector_ids = []\n",
    "for line in lines:\n",
    "    *a, b = line.strip().split('-')\n",
    "    name = a\n",
    "    a = ''.join(a)\n",
    "    sector_id, checksum = b.split('[')\n",
    "    checksum = checksum[:-1]\n",
    "    chars, counts = np.unique(list(a), return_counts=True)\n",
    "    items = sorted(zip(counts, chars), key=lambda x: (x[0], -ord(x[1])), reverse=True)\n",
    "    most_common = []\n",
    "    for item in items:\n",
    "        if len(most_common) > 5 and item[0] != most_common[-1][0]:\n",
    "            break\n",
    "        most_common.append(item)\n",
    "    most_common_chars = set(c[1] for c in most_common[:5])\n",
    "    if all(c in most_common_chars for c in checksum):\n",
    "        names.append(name)\n",
    "        sector_ids.append(int(sector_id))"
   ]
  },
  {
   "cell_type": "code",
   "execution_count": 104,
   "id": "898a1ccf-fc84-4822-bcb8-f7bd0f7006bf",
   "metadata": {},
   "outputs": [
    {
     "name": "stdout",
     "output_type": "stream",
     "text": [
      "267 northpole object storage \n"
     ]
    }
   ],
   "source": [
    "for name, sector_id in zip(names, sector_ids):\n",
    "    dname = \"\"\n",
    "    for word in name:\n",
    "        for c in word:\n",
    "            c = chr(((ord(c) - 97) + sector_id) % 26 + 97)\n",
    "            dname += c\n",
    "        dname += \" \"\n",
    "    if \"north\" in dname:\n",
    "        print(sector_id, dname)"
   ]
  },
  {
   "cell_type": "code",
   "execution_count": null,
   "id": "640a738c-79d4-4e4c-a88a-439834a6bf2e",
   "metadata": {},
   "outputs": [],
   "source": []
  }
 ],
 "metadata": {
  "kernelspec": {
   "display_name": "Python 3 (ipykernel)",
   "language": "python",
   "name": "python3"
  },
  "language_info": {
   "codemirror_mode": {
    "name": "ipython",
    "version": 3
   },
   "file_extension": ".py",
   "mimetype": "text/x-python",
   "name": "python",
   "nbconvert_exporter": "python",
   "pygments_lexer": "ipython3",
   "version": "3.10.6"
  }
 },
 "nbformat": 4,
 "nbformat_minor": 5
}
