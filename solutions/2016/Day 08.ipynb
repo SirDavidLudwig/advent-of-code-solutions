{
 "cells": [
  {
   "cell_type": "markdown",
   "id": "731bb589-92bf-4d24-9829-26f3da18fca0",
   "metadata": {},
   "source": [
    "<div style=\"background-color: rgb(15, 15, 35); border: 1px solid rgb(255, 255, 255); color: rgb(204, 204, 204); font-family: monospace; margin-left: -5px; margin-right: -20px; padding: 1rem;\"><h2 style=\"border-color: rgb(255, 255, 255); color: rgb(255, 255, 255);\">--- Day 8: Two-Factor Authentication ---</h2><p style=\"border-color: rgb(204, 204, 204); color: rgb(204, 204, 204);\">You come across a door implementing what you can only assume is an implementation of <a href=\"https://en.wikipedia.org/wiki/Multi-factor_authentication\" style=\"border-color: rgb(0, 153, 0); color: rgb(0, 153, 0);\">two-factor authentication</a> after a long game of <a href=\"https://en.wikipedia.org/wiki/Requirement\" style=\"border-color: rgb(0, 153, 0); color: rgb(0, 153, 0);\">requirements</a> <a href=\"https://en.wikipedia.org/wiki/Chinese_whispers\" style=\"border-color: rgb(0, 153, 0); color: rgb(0, 153, 0);\">telephone</a>.</p>\n",
    "<p style=\"border-color: rgb(204, 204, 204); color: rgb(204, 204, 204);\">To get past the door, you first swipe a keycard (no problem; there was one on a nearby desk). Then, it displays a code on a <a href=\"https://www.google.com/search?q=tiny+lcd&amp;tbm=isch\" style=\"border-color: rgb(0, 153, 0); color: rgb(0, 153, 0);\">little screen</a>, and you type that code on a keypad. Then, presumably, the door unlocks.</p>\n",
    "<p style=\"border-color: rgb(204, 204, 204); color: rgb(204, 204, 204);\">Unfortunately, the screen has been <span title=\"BUT BY WHOM?!\" style=\"border-color: rgb(204, 204, 204); color: rgb(204, 204, 204);\">smashed</span>. After a few minutes, you've taken everything apart and figured out how it works. Now you just have to work out what the screen <em style=\"border-color: rgb(255, 255, 255); color: rgb(255, 255, 255); text-shadow: rgb(255, 255, 255) 0px 0px 5px;\">would</em> have displayed.</p>\n",
    "<p style=\"border-color: rgb(204, 204, 204); color: rgb(204, 204, 204);\">The magnetic strip on the card you swiped encodes a series of instructions for the screen; these instructions are your puzzle input. The screen is <em style=\"border-color: rgb(255, 255, 255); color: rgb(255, 255, 255); text-shadow: rgb(255, 255, 255) 0px 0px 5px;\"><code style=\"border: 1px solid rgb(51, 51, 64); color: rgb(255, 255, 255); text-shadow: rgb(255, 255, 255) 0px 0px 5px; background: rgb(16, 16, 26);\">50</code> pixels wide and <code style=\"border: 1px solid rgb(51, 51, 64); color: rgb(255, 255, 255); text-shadow: rgb(255, 255, 255) 0px 0px 5px; background: rgb(16, 16, 26);\">6</code> pixels tall</em>, all of which start <em style=\"border-color: rgb(255, 255, 255); color: rgb(255, 255, 255); text-shadow: rgb(255, 255, 255) 0px 0px 5px;\">off</em>, and is capable of three somewhat peculiar operations:</p>\n",
    "<ul style=\"border-color: rgb(204, 204, 204); color: rgb(204, 204, 204);\">\n",
    "<li style=\"border-color: rgb(204, 204, 204); color: rgb(204, 204, 204);\"><code style=\"border: 1px solid rgb(51, 51, 64); color: rgb(204, 204, 204); background: rgb(16, 16, 26);\">rect AxB</code> turns <em style=\"border-color: rgb(255, 255, 255); color: rgb(255, 255, 255); text-shadow: rgb(255, 255, 255) 0px 0px 5px;\">on</em> all of the pixels in a rectangle at the top-left of the screen which is <code style=\"border: 1px solid rgb(51, 51, 64); color: rgb(204, 204, 204); background: rgb(16, 16, 26);\">A</code> wide and <code style=\"border: 1px solid rgb(51, 51, 64); color: rgb(204, 204, 204); background: rgb(16, 16, 26);\">B</code> tall.</li>\n",
    "<li style=\"border-color: rgb(204, 204, 204); color: rgb(204, 204, 204);\"><code style=\"border: 1px solid rgb(51, 51, 64); color: rgb(204, 204, 204); background: rgb(16, 16, 26);\">rotate row y=A by B</code> shifts all of the pixels in row <code style=\"border: 1px solid rgb(51, 51, 64); color: rgb(204, 204, 204); background: rgb(16, 16, 26);\">A</code> (0 is the top row) <em style=\"border-color: rgb(255, 255, 255); color: rgb(255, 255, 255); text-shadow: rgb(255, 255, 255) 0px 0px 5px;\">right</em> by <code style=\"border: 1px solid rgb(51, 51, 64); color: rgb(204, 204, 204); background: rgb(16, 16, 26);\">B</code> pixels. Pixels that would fall off the right end appear at the left end of the row.</li>\n",
    "<li style=\"border-color: rgb(204, 204, 204); color: rgb(204, 204, 204);\"><code style=\"border: 1px solid rgb(51, 51, 64); color: rgb(204, 204, 204); background: rgb(16, 16, 26);\">rotate column x=A by B</code> shifts all of the pixels in column <code style=\"border: 1px solid rgb(51, 51, 64); color: rgb(204, 204, 204); background: rgb(16, 16, 26);\">A</code> (0 is the left column) <em style=\"border-color: rgb(255, 255, 255); color: rgb(255, 255, 255); text-shadow: rgb(255, 255, 255) 0px 0px 5px;\">down</em> by <code style=\"border: 1px solid rgb(51, 51, 64); color: rgb(204, 204, 204); background: rgb(16, 16, 26);\">B</code> pixels. Pixels that would fall off the bottom appear at the top of the column.</li>\n",
    "</ul>\n",
    "<p style=\"border-color: rgb(204, 204, 204); color: rgb(204, 204, 204);\">For example, here is a simple sequence on a smaller screen:</p>\n",
    "<ul style=\"border-color: rgb(204, 204, 204); color: rgb(204, 204, 204);\">\n",
    "<li style=\"border-color: rgb(204, 204, 204); color: rgb(204, 204, 204);\"><p style=\"border-color: rgb(204, 204, 204); color: rgb(204, 204, 204);\"><code style=\"border: 1px solid rgb(51, 51, 64); color: rgb(204, 204, 204); background: rgb(16, 16, 26);\">rect 3x2</code> creates a small rectangle in the top-left corner:</p><pre style=\"border: 1px solid rgb(51, 51, 64); color: rgb(204, 204, 204); background-color: rgb(16, 16, 26); display: inline-block;\"><code style=\"border-color: rgb(204, 204, 204); color: rgb(204, 204, 204); background-color: rgb(16, 16, 26);\">###....\n",
    "###....\n",
    ".......</code></pre></li>\n",
    "<li style=\"border-color: rgb(204, 204, 204); color: rgb(204, 204, 204);\"><p style=\"border-color: rgb(204, 204, 204); color: rgb(204, 204, 204);\"><code style=\"border: 1px solid rgb(51, 51, 64); color: rgb(204, 204, 204); background: rgb(16, 16, 26);\">rotate column x=1 by 1</code> rotates the second column down by one pixel:</p><pre style=\"border: 1px solid rgb(51, 51, 64); color: rgb(204, 204, 204); background-color: rgb(16, 16, 26); display: inline-block;\"><code style=\"border-color: rgb(204, 204, 204); color: rgb(204, 204, 204); background-color: rgb(16, 16, 26);\">#.#....\n",
    "###....\n",
    ".#.....</code></pre></li>\n",
    "<li style=\"border-color: rgb(204, 204, 204); color: rgb(204, 204, 204);\"><p style=\"border-color: rgb(204, 204, 204); color: rgb(204, 204, 204);\"><code style=\"border: 1px solid rgb(51, 51, 64); color: rgb(204, 204, 204); background: rgb(16, 16, 26);\">rotate row y=0 by 4</code> rotates the top row right by four pixels:</p><pre style=\"border: 1px solid rgb(51, 51, 64); color: rgb(204, 204, 204); background-color: rgb(16, 16, 26); display: inline-block;\"><code style=\"border-color: rgb(204, 204, 204); color: rgb(204, 204, 204); background-color: rgb(16, 16, 26);\">....#.#\n",
    "###....\n",
    ".#.....</code></pre></li>\n",
    "<li style=\"border-color: rgb(204, 204, 204); color: rgb(204, 204, 204);\"><p style=\"border-color: rgb(204, 204, 204); color: rgb(204, 204, 204);\"><code style=\"border: 1px solid rgb(51, 51, 64); color: rgb(204, 204, 204); background: rgb(16, 16, 26);\">rotate column x=1 by 1</code> again rotates the second column down by one pixel, causing the bottom pixel to wrap back to the top:</p><pre style=\"border: 1px solid rgb(51, 51, 64); color: rgb(204, 204, 204); background-color: rgb(16, 16, 26); display: inline-block;\"><code style=\"border-color: rgb(204, 204, 204); color: rgb(204, 204, 204); background-color: rgb(16, 16, 26);\">.#..#.#\n",
    "#.#....\n",
    ".#.....</code></pre></li>\n",
    "</ul>\n",
    "<p style=\"border-color: rgb(204, 204, 204); color: rgb(204, 204, 204);\">As you can see, this display technology is extremely powerful, and will soon dominate the tiny-code-displaying-screen market.  That's what the advertisement on the back of the display tries to convince you, anyway.</p>\n",
    "<p style=\"border-color: rgb(204, 204, 204); color: rgb(204, 204, 204);\">There seems to be an intermediate check of the voltage used by the display: after you swipe your card, if the screen did work, <em style=\"border-color: rgb(255, 255, 255); color: rgb(255, 255, 255); text-shadow: rgb(255, 255, 255) 0px 0px 5px;\">how many pixels should be lit?</em></p>\n",
    "</div>"
   ]
  },
  {
   "cell_type": "code",
   "execution_count": 1,
   "id": "9d72a8f4",
   "metadata": {},
   "outputs": [],
   "source": [
    "import sys\n",
    "sys.path.append(\"../../common\")"
   ]
  },
  {
   "cell_type": "code",
   "execution_count": 2,
   "id": "62b0ec11",
   "metadata": {},
   "outputs": [],
   "source": [
    "import aoc\n",
    "import numpy as np\n",
    "import re"
   ]
  },
  {
   "cell_type": "code",
   "execution_count": 3,
   "id": "a949b336",
   "metadata": {},
   "outputs": [],
   "source": [
    "with open(\"./puzzle_inputs/08.txt\") as f:\n",
    "    lines = f.readlines()"
   ]
  },
  {
   "cell_type": "code",
   "execution_count": 17,
   "id": "bf829976-ccee-4c39-b0d3-6cc59b6877cd",
   "metadata": {},
   "outputs": [],
   "source": [
    "screen = np.zeros((6, 50))\n",
    "for line in lines:\n",
    "    ins, *args = line.strip().split()\n",
    "    if ins == \"rect\":\n",
    "        w, h = map(int, args[0].split('x'))\n",
    "        screen[:h,:w] = 1\n",
    "    elif ins == \"rotate\" and args[0] == \"column\":\n",
    "        x, r = map(int, re.findall(f\"\\d+\", ''.join(args[-3:])))\n",
    "        screen[:,x] = np.roll(screen[:,x], r)\n",
    "    elif ins == \"rotate\" and args[0] == \"row\":\n",
    "        y, r = map(int, re.findall(f\"\\d+\", ''.join(args[-3:])))\n",
    "        screen[y,:] = np.roll(screen[y,:], r)"
   ]
  },
  {
   "cell_type": "code",
   "execution_count": 20,
   "id": "59665610-9982-4108-bbfa-612bc0f396a5",
   "metadata": {},
   "outputs": [
    {
     "data": {
      "text/plain": [
       "110"
      ]
     },
     "execution_count": 20,
     "metadata": {},
     "output_type": "execute_result"
    }
   ],
   "source": [
    "int(np.sum(screen))"
   ]
  },
  {
   "cell_type": "markdown",
   "id": "1f87881d-075d-4ac4-9130-8bd193f2ab4e",
   "metadata": {},
   "source": [
    "<div style=\"background-color: rgb(15, 15, 35); border: 1px solid rgb(255, 255, 255); color: rgb(204, 204, 204); font-family: monospace; margin-left: -5px; margin-right: -20px; padding: 1rem;\"><h2 id=\"part2\" style=\"border-color: rgb(255, 255, 255); color: rgb(255, 255, 255);\">--- Part Two ---</h2><p style=\"border-color: rgb(204, 204, 204); color: rgb(204, 204, 204);\">You notice that the screen is only capable of displaying capital letters; in the font it uses, each letter is <code style=\"border: 1px solid rgb(51, 51, 64); color: rgb(204, 204, 204); background: rgb(16, 16, 26);\">5</code> pixels wide and <code style=\"border: 1px solid rgb(51, 51, 64); color: rgb(204, 204, 204); background: rgb(16, 16, 26);\">6</code> tall.</p>\n",
    "<p style=\"border-color: rgb(204, 204, 204); color: rgb(204, 204, 204);\">After you swipe your card, <em style=\"border-color: rgb(255, 255, 255); color: rgb(255, 255, 255); text-shadow: rgb(255, 255, 255) 0px 0px 5px;\">what code is the screen trying to display?</em></p>\n",
    "</div>"
   ]
  },
  {
   "cell_type": "code",
   "execution_count": 25,
   "id": "e37b1631-ac50-4254-94e1-762c40e6fa2e",
   "metadata": {},
   "outputs": [
    {
     "name": "stdout",
     "output_type": "stream",
     "text": [
      "####     ##   #  #   ###    #  #    ##    ###    #      #   #    ##   \n",
      "   #      #   #  #   #  #   # #    #  #   #  #   #      #   #     #   \n",
      "  #       #   ####   #  #   ##     #      #  #   #       # #      #   \n",
      " #        #   #  #   ###    # #    #      ###    #        #       #   \n",
      "#      #  #   #  #   # #    # #    #  #   #      #        #    #  #   \n",
      "####    ##    #  #   #  #   #  #    ##    #      ####     #     ##    \n"
     ]
    }
   ],
   "source": [
    "for row in screen:\n",
    "    for i, c in enumerate(row):\n",
    "        print('#' if c else ' ', end=\"\")\n",
    "        if (i+1) % 5 == 0:\n",
    "            print(end=\"  \")\n",
    "    print()"
   ]
  }
 ],
 "metadata": {
  "kernelspec": {
   "display_name": "Python 3 (ipykernel)",
   "language": "python",
   "name": "python3"
  },
  "language_info": {
   "codemirror_mode": {
    "name": "ipython",
    "version": 3
   },
   "file_extension": ".py",
   "mimetype": "text/x-python",
   "name": "python",
   "nbconvert_exporter": "python",
   "pygments_lexer": "ipython3",
   "version": "3.10.6"
  }
 },
 "nbformat": 4,
 "nbformat_minor": 5
}
