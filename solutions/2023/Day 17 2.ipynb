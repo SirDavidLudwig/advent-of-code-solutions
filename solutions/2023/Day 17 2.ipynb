{
 "cells": [
  {
   "cell_type": "code",
   "execution_count": 611,
   "id": "ad1388a2-2eab-405e-af5d-54e1e8252c28",
   "metadata": {},
   "outputs": [],
   "source": [
    "import sys\n",
    "sys.path.append(\"../../common\")"
   ]
  },
  {
   "cell_type": "code",
   "execution_count": 612,
   "id": "887c554c-a230-43bf-b8a6-5c3c5b77e9ac",
   "metadata": {},
   "outputs": [],
   "source": [
    "from aoc import *\n",
    "from dataclasses import dataclass, field, replace\n",
    "import heapq\n",
    "import numpy as np\n",
    "from tqdm import tqdm\n",
    "import time\n",
    "import re\n",
    "\n",
    "from IPython.display import clear_output"
   ]
  },
  {
   "cell_type": "code",
   "execution_count": 613,
   "id": "065608ce-4bb5-4619-9f0e-18f8fb21cc68",
   "metadata": {},
   "outputs": [],
   "source": [
    "with open(\"./puzzle_inputs/17.txt\") as f:\n",
    "    lines = f.readlines()"
   ]
  },
  {
   "cell_type": "code",
   "execution_count": 575,
   "id": "ef8ac3e5-166d-475f-a085-2e04d335600c",
   "metadata": {},
   "outputs": [],
   "source": [
    "lines = \"\"\"2413432311323\n",
    "3215453535623\n",
    "3255245654254\n",
    "3446585845452\n",
    "4546657867536\n",
    "1438598798454\n",
    "4457876987766\n",
    "3637877979653\n",
    "4654967986887\n",
    "4564679986453\n",
    "1224686865563\n",
    "2546548887735\n",
    "4322674655533\"\"\".split('\\n')"
   ]
  },
  {
   "cell_type": "code",
   "execution_count": 576,
   "id": "987d8a97-6d2b-422f-9e42-4c32ef35423b",
   "metadata": {},
   "outputs": [],
   "source": [
    "def astar(initial_state, goal_check, h, init_cost=0):\n",
    "    q = [(init_cost + h(initial_state), init_cost, initial_state)]\n",
    "    visited = set()\n",
    "    cost = 0\n",
    "    while len(q) > 0:\n",
    "        _, cost, state = heapq.heappop(q)\n",
    "        if is_end(state):\n",
    "            break\n",
    "        if state in visited:\n",
    "            continue\n",
    "        visited.add(state)\n",
    "        for ncost, neighbor in state.neighbors:\n",
    "            if neighbor in visited:\n",
    "                continue\n",
    "            ncost = ncost + cost\n",
    "            heapq.heappush(q, (ncost+h(neighbor), ncost, neighbor))\n",
    "    else:\n",
    "        raise Exception(\"Goal not found\")\n",
    "    return cost"
   ]
  },
  {
   "cell_type": "code",
   "execution_count": 597,
   "id": "56f1cf3f-6831-45cd-a2b3-110e1ea87340",
   "metadata": {},
   "outputs": [],
   "source": [
    "grid = np.array([[int(c) for c in line.strip()] for line in lines])\n",
    "\n",
    "# goal conditions\n",
    "goal = np.array(grid.shape) - 1\n",
    "is_end = lambda state: np.all(state.pos == goal)\n",
    "\n",
    "# astar(State.init(grid, (0, 0)), is_end, h)"
   ]
  },
  {
   "cell_type": "code",
   "execution_count": 598,
   "id": "5cb1861e-ac15-41f6-8f5c-f766f2581817",
   "metadata": {},
   "outputs": [
    {
     "name": "stdout",
     "output_type": "stream",
     "text": [
      "Num iterations: 1 Num visited: 0\n",
      "Num iterations: 14626 Num visited: 1245\n",
      "Num iterations: 28923 Num visited: 1757\n",
      "Num iterations: 42497 Num visited: 2134\n",
      "Num iterations: 56045 Num visited: 2373\n",
      "Num iterations: 69570 Num visited: 2629\n",
      "Num iterations: 83084 Num visited: 2787\n",
      "Num iterations: 96829 Num visited: 2922\n",
      "Num iterations: 108113 Num visited: 3144\n",
      "Num iterations: 121427 Num visited: 3318\n",
      "Num iterations: 134492 Num visited: 3466\n",
      "Num iterations: 147942 Num visited: 3615\n",
      "Num iterations: 161190 Num visited: 3771\n",
      "Num iterations: 174388 Num visited: 3890\n",
      "Num iterations: 187444 Num visited: 3954\n",
      "Num iterations: 200514 Num visited: 4121\n",
      "Num iterations: 213936 Num visited: 4257\n",
      "Num iterations: 227085 Num visited: 4290\n",
      "Num iterations: 240033 Num visited: 4455\n",
      "Num iterations: 253186 Num visited: 4588\n",
      "Num iterations: 266551 Num visited: 4629\n",
      "Num iterations: 279094 Num visited: 4757\n",
      "Num iterations: 292043 Num visited: 4893\n"
     ]
    },
    {
     "name": "stderr",
     "output_type": "stream",
     "text": [
      "\n",
      "KeyboardInterrupt\n",
      "\n"
     ]
    }
   ],
   "source": [
    "dijkstra(State.init(grid, (0, 0)), is_end)"
   ]
  },
  {
   "cell_type": "code",
   "execution_count": 485,
   "id": "32724bfa-4b7d-4356-986d-412fda4835c9",
   "metadata": {},
   "outputs": [],
   "source": [
    "deltas = {\n",
    "    'u': np.array((-1, 0)),\n",
    "    'd': np.array((1, 0)),\n",
    "    'l': np.array((0, -1)),\n",
    "    'r': np.array((0, 1))\n",
    "}\n",
    "reverse_direction = {\n",
    "    'u': 'd',\n",
    "    'd': 'u',\n",
    "    'l': 'r',\n",
    "    'r': 'l'\n",
    "}"
   ]
  },
  {
   "cell_type": "code",
   "execution_count": 580,
   "id": "202ead3b-533d-4255-b79f-656604ac530b",
   "metadata": {},
   "outputs": [],
   "source": [
    "@dataclass(frozen=True, order=True)\n",
    "class State:\n",
    "    grid: np.ndarray = field(repr=False, hash=False, compare=False)\n",
    "    pos: np.ndarray = field(compare=False)\n",
    "    direction: str = field(compare=False)\n",
    "    moves: int = field(compare=False)\n",
    "\n",
    "    @classmethod\n",
    "    def init(cls, grid, pos):\n",
    "        return cls(grid, np.array(pos), '', 0)\n",
    "\n",
    "    def neighbors(self):\n",
    "        for ndirection, delta in deltas.items():\n",
    "            if reverse_direction[ndirection] == self.direction:\n",
    "                continue\n",
    "            npos = self.pos + delta\n",
    "            if np.any(npos < 0) or np.any(npos >= self.grid.shape):\n",
    "                continue\n",
    "            nmoves = self.moves+1 if ndirection == self.direction else 1\n",
    "            if nmoves > 3:\n",
    "                continue\n",
    "            yield (self.grid[*npos], replace(self, pos=npos, direction=ndirection, moves=nmoves))\n",
    "\n",
    "    def __eq__(self, other):\n",
    "        return np.all(self.pos == other.pos) \\\n",
    "            and self.direction == other.direction \\\n",
    "            and self.moves == other.moves\n",
    "\n",
    "    def __hash__(self):\n",
    "        return hash((tuple(self.pos), self.direction, self.moves))"
   ]
  },
  {
   "cell_type": "code",
   "execution_count": 477,
   "id": "4b729d45-7a81-470b-b20a-07e644905831",
   "metadata": {},
   "outputs": [
    {
     "data": {
      "text/plain": [
       "102"
      ]
     },
     "execution_count": 477,
     "metadata": {},
     "output_type": "execute_result"
    }
   ],
   "source": [
    "grid = np.array([[int(c) for c in line.strip()] for line in lines])\n",
    "\n",
    "# goal conditions\n",
    "goal = np.array(grid.shape) - 1\n",
    "is_end = lambda state: np.all(state.pos == goal)\n",
    "\n",
    "# heuristic\n",
    "h = lambda state: np.linalg.norm(goal - state.pos, ord=1)\n",
    "\n",
    "astar(State.init(grid, (0, 0)), is_end, h)"
   ]
  },
  {
   "cell_type": "code",
   "execution_count": 603,
   "id": "415fecf3-8599-4dda-8271-b39766d3dc74",
   "metadata": {},
   "outputs": [],
   "source": [
    "@dataclass(frozen=True, order=True)\n",
    "class State:\n",
    "    grid: np.ndarray = field(repr=False, hash=False, compare=False)\n",
    "    pos: np.ndarray = field(compare=False)\n",
    "    direction: str = field(compare=False)\n",
    "    moves: int = field(compare=False)\n",
    "\n",
    "    @classmethod\n",
    "    def init(cls, grid, pos):\n",
    "        return cls(grid, np.array(pos), '', 0)\n",
    "\n",
    "    def neighbors(self):\n",
    "        neighbors = []\n",
    "        for ndirection, delta in deltas.items():\n",
    "            if 0 < self.moves < 4 and self.direction != ndirection:\n",
    "                continue\n",
    "            if reverse_direction[ndirection] == self.direction:\n",
    "                continue\n",
    "            npos = self.pos + delta\n",
    "            if np.any(npos < 0) or np.any(npos >= self.grid.shape):\n",
    "                continue\n",
    "            nmoves = self.moves+1 if ndirection == self.direction else 1\n",
    "            if nmoves > 10:\n",
    "                continue\n",
    "            neighbors.append((self.grid[*npos], replace(self, pos=npos, direction=ndirection, moves=nmoves)))\n",
    "        return neighbors\n",
    "\n",
    "    def __eq__(self, other):\n",
    "        return np.all(self.pos == other.pos) \\\n",
    "            and self.direction == other.direction \\\n",
    "            and self.moves == other.moves\n",
    "\n",
    "    def __hash__(self):\n",
    "        return hash((tuple(self.pos), self.direction, self.moves))"
   ]
  },
  {
   "cell_type": "code",
   "execution_count": 572,
   "id": "2e81a385-a6dc-46c2-9092-4d64243fe62a",
   "metadata": {},
   "outputs": [
    {
     "data": {
      "text/plain": [
       "809"
      ]
     },
     "execution_count": 572,
     "metadata": {},
     "output_type": "execute_result"
    }
   ],
   "source": [
    "grid = np.array([[int(c) for c in line.strip()] for line in lines])\n",
    "\n",
    "# goal conditions\n",
    "goal = np.array(grid.shape) - 1\n",
    "is_end = lambda state: np.all(state.pos == goal)\n",
    "\n",
    "# heuristic\n",
    "h = lambda state: np.linalg.norm(goal - state.pos, ord=1)\n",
    "\n",
    "astar(State.init(grid, (0, 0)), is_end, h)"
   ]
  },
  {
   "cell_type": "code",
   "execution_count": 614,
   "id": "c1617138-8868-4db4-882c-600c5483ef99",
   "metadata": {},
   "outputs": [],
   "source": [
    "@dataclass(frozen=True, order=True)\n",
    "class State:\n",
    "    grid: np.ndarray = field(repr=False, hash=False, compare=False)\n",
    "    pos: np.ndarray = field(compare=False)\n",
    "    direction: str = field(compare=False)\n",
    "    moves: int = field(compare=False)\n",
    "\n",
    "    @classmethod\n",
    "    def init(cls, grid, pos):\n",
    "        return cls(grid, np.array(pos), '', 0)\n",
    "\n",
    "    def neighbors(self):\n",
    "        for ndirection, delta in deltas.items():\n",
    "            if reverse_direction[ndirection] == self.direction:\n",
    "                continue\n",
    "            npos = self.pos + delta\n",
    "            if np.any(npos < 0) or np.any(npos >= self.grid.shape):\n",
    "                continue\n",
    "            nmoves = self.moves+1 if ndirection == self.direction else 1\n",
    "            if nmoves > 3:\n",
    "                continue\n",
    "            yield (self.grid[*npos], replace(self, pos=npos, direction=ndirection, moves=nmoves))\n",
    "\n",
    "    def __eq__(self, other):\n",
    "        return np.all(self.pos == other.pos) \\\n",
    "            and self.direction == other.direction \\\n",
    "            and self.moves == other.moves\n",
    "\n",
    "    def __hash__(self):\n",
    "        return hash((tuple(self.pos), self.direction, self.moves))"
   ]
  },
  {
   "cell_type": "code",
   "execution_count": 615,
   "id": "c94c0551-b954-4106-aa31-194a7e9ca6dd",
   "metadata": {},
   "outputs": [],
   "source": [
    "def astar(initial_state, neighbors, h = lambda *_: 0, init_cost=0):\n",
    "    q = [(init_cost + h(initial_state), init_cost, initial_state)]\n",
    "    visited = set()\n",
    "    while len(q) > 0:\n",
    "        _, cost, state = heapq.heappop(q)\n",
    "        if state in visited:\n",
    "            continue\n",
    "        yield (cost, state)\n",
    "        visited.add(state)\n",
    "        for ncost, neighbor in neighbors(state):\n",
    "            if neighbor in visited:\n",
    "                continue\n",
    "            ncost = ncost + cost\n",
    "            heapq.heappush(q, (ncost+h(neighbor), ncost, neighbor))\n",
    "    else:\n",
    "        raise Exception(\"Goal not found\")"
   ]
  },
  {
   "cell_type": "code",
   "execution_count": 616,
   "id": "22797a06-2431-4f25-b7f2-fe430b28700e",
   "metadata": {},
   "outputs": [
    {
     "ename": "KeyboardInterrupt",
     "evalue": "",
     "output_type": "error",
     "traceback": [
      "\u001b[0;31m---------------------------------------------------------------------------\u001b[0m",
      "\u001b[0;31mKeyboardInterrupt\u001b[0m                         Traceback (most recent call last)",
      "Cell \u001b[0;32mIn[616], line 5\u001b[0m\n\u001b[1;32m      3\u001b[0m \u001b[38;5;66;03m# h = lambda state: np.linalg.norm(goal - state.pos, ord=1)\u001b[39;00m\n\u001b[1;32m      4\u001b[0m goal \u001b[38;5;241m=\u001b[39m np\u001b[38;5;241m.\u001b[39marray(grid\u001b[38;5;241m.\u001b[39mshape) \u001b[38;5;241m-\u001b[39m \u001b[38;5;241m1\u001b[39m\n\u001b[0;32m----> 5\u001b[0m \u001b[38;5;28;43;01mfor\u001b[39;49;00m\u001b[43m \u001b[49m\u001b[43mcost\u001b[49m\u001b[43m,\u001b[49m\u001b[43m \u001b[49m\u001b[43mstate\u001b[49m\u001b[43m \u001b[49m\u001b[38;5;129;43;01min\u001b[39;49;00m\u001b[43m \u001b[49m\u001b[43mastar\u001b[49m\u001b[43m(\u001b[49m\u001b[43mState\u001b[49m\u001b[38;5;241;43m.\u001b[39;49m\u001b[43minit\u001b[49m\u001b[43m(\u001b[49m\u001b[43mgrid\u001b[49m\u001b[43m,\u001b[49m\u001b[43m \u001b[49m\u001b[43m(\u001b[49m\u001b[38;5;241;43m0\u001b[39;49m\u001b[43m,\u001b[49m\u001b[43m \u001b[49m\u001b[38;5;241;43m0\u001b[39;49m\u001b[43m)\u001b[49m\u001b[43m)\u001b[49m\u001b[43m,\u001b[49m\u001b[43m \u001b[49m\u001b[43mState\u001b[49m\u001b[38;5;241;43m.\u001b[39;49m\u001b[43mneighbors\u001b[49m\u001b[43m)\u001b[49m\u001b[43m:\u001b[49m\n\u001b[1;32m      6\u001b[0m \u001b[43m    \u001b[49m\u001b[38;5;28;43;01mif\u001b[39;49;00m\u001b[43m \u001b[49m\u001b[43mnp\u001b[49m\u001b[38;5;241;43m.\u001b[39;49m\u001b[43mall\u001b[49m\u001b[43m(\u001b[49m\u001b[43mstate\u001b[49m\u001b[38;5;241;43m.\u001b[39;49m\u001b[43mpos\u001b[49m\u001b[43m \u001b[49m\u001b[38;5;241;43m==\u001b[39;49m\u001b[43m \u001b[49m\u001b[43mgoal\u001b[49m\u001b[43m)\u001b[49m\u001b[43m:\u001b[49m\n\u001b[1;32m      7\u001b[0m \u001b[43m        \u001b[49m\u001b[38;5;28;43mprint\u001b[39;49m\u001b[43m(\u001b[49m\u001b[43mcost\u001b[49m\u001b[43m)\u001b[49m\n",
      "Cell \u001b[0;32mIn[615], line 10\u001b[0m, in \u001b[0;36mastar\u001b[0;34m(initial_state, neighbors, h, init_cost)\u001b[0m\n\u001b[1;32m      8\u001b[0m \u001b[38;5;28;01myield\u001b[39;00m (cost, state)\n\u001b[1;32m      9\u001b[0m visited\u001b[38;5;241m.\u001b[39madd(state)\n\u001b[0;32m---> 10\u001b[0m \u001b[43m\u001b[49m\u001b[38;5;28;43;01mfor\u001b[39;49;00m\u001b[43m \u001b[49m\u001b[43mncost\u001b[49m\u001b[43m,\u001b[49m\u001b[43m \u001b[49m\u001b[43mneighbor\u001b[49m\u001b[43m \u001b[49m\u001b[38;5;129;43;01min\u001b[39;49;00m\u001b[43m \u001b[49m\u001b[43mneighbors\u001b[49m\u001b[43m(\u001b[49m\u001b[43mstate\u001b[49m\u001b[43m)\u001b[49m\u001b[43m:\u001b[49m\n\u001b[1;32m     11\u001b[0m \u001b[43m    \u001b[49m\u001b[38;5;28;43;01mif\u001b[39;49;00m\u001b[43m \u001b[49m\u001b[43mneighbor\u001b[49m\u001b[43m \u001b[49m\u001b[38;5;129;43;01min\u001b[39;49;00m\u001b[43m \u001b[49m\u001b[43mvisited\u001b[49m\u001b[43m:\u001b[49m\n\u001b[1;32m     12\u001b[0m \u001b[43m        \u001b[49m\u001b[38;5;28;43;01mcontinue\u001b[39;49;00m\n",
      "Cell \u001b[0;32mIn[614], line 22\u001b[0m, in \u001b[0;36mState.neighbors\u001b[0;34m(self)\u001b[0m\n\u001b[1;32m     20\u001b[0m \u001b[38;5;28;01mif\u001b[39;00m nmoves \u001b[38;5;241m>\u001b[39m \u001b[38;5;241m3\u001b[39m:\n\u001b[1;32m     21\u001b[0m     \u001b[38;5;28;01mcontinue\u001b[39;00m\n\u001b[0;32m---> 22\u001b[0m \u001b[38;5;28;01myield\u001b[39;00m (\u001b[38;5;28mself\u001b[39m\u001b[38;5;241m.\u001b[39mgrid[\u001b[38;5;241m*\u001b[39mnpos], \u001b[43mreplace\u001b[49m\u001b[43m(\u001b[49m\u001b[38;5;28;43mself\u001b[39;49m\u001b[43m,\u001b[49m\u001b[43m \u001b[49m\u001b[43mpos\u001b[49m\u001b[38;5;241;43m=\u001b[39;49m\u001b[43mnpos\u001b[49m\u001b[43m,\u001b[49m\u001b[43m \u001b[49m\u001b[43mdirection\u001b[49m\u001b[38;5;241;43m=\u001b[39;49m\u001b[43mndirection\u001b[49m\u001b[43m,\u001b[49m\u001b[43m \u001b[49m\u001b[43mmoves\u001b[49m\u001b[38;5;241;43m=\u001b[39;49m\u001b[43mnmoves\u001b[49m\u001b[43m)\u001b[49m)\n",
      "File \u001b[0;32m/opt/conda/lib/python3.11/dataclasses.py:1453\u001b[0m, in \u001b[0;36mreplace\u001b[0;34m(obj, **changes)\u001b[0m\n\u001b[1;32m   1446\u001b[0m     \u001b[38;5;66;03m# Apply the normal decorator.\u001b[39;00m\n\u001b[1;32m   1447\u001b[0m     \u001b[38;5;28;01mreturn\u001b[39;00m dataclass(\u001b[38;5;28mcls\u001b[39m, init\u001b[38;5;241m=\u001b[39minit, \u001b[38;5;28mrepr\u001b[39m\u001b[38;5;241m=\u001b[39m\u001b[38;5;28mrepr\u001b[39m, eq\u001b[38;5;241m=\u001b[39meq, order\u001b[38;5;241m=\u001b[39morder,\n\u001b[1;32m   1448\u001b[0m                      unsafe_hash\u001b[38;5;241m=\u001b[39munsafe_hash, frozen\u001b[38;5;241m=\u001b[39mfrozen,\n\u001b[1;32m   1449\u001b[0m                      match_args\u001b[38;5;241m=\u001b[39mmatch_args, kw_only\u001b[38;5;241m=\u001b[39mkw_only, slots\u001b[38;5;241m=\u001b[39mslots,\n\u001b[1;32m   1450\u001b[0m                      weakref_slot\u001b[38;5;241m=\u001b[39mweakref_slot)\n\u001b[0;32m-> 1453\u001b[0m \u001b[38;5;28;01mdef\u001b[39;00m \u001b[38;5;21mreplace\u001b[39m(obj, \u001b[38;5;241m/\u001b[39m, \u001b[38;5;241m*\u001b[39m\u001b[38;5;241m*\u001b[39mchanges):\n\u001b[1;32m   1454\u001b[0m \u001b[38;5;250m    \u001b[39m\u001b[38;5;124;03m\"\"\"Return a new object replacing specified fields with new values.\u001b[39;00m\n\u001b[1;32m   1455\u001b[0m \n\u001b[1;32m   1456\u001b[0m \u001b[38;5;124;03m    This is especially useful for frozen classes.  Example usage::\u001b[39;00m\n\u001b[0;32m   (...)\u001b[0m\n\u001b[1;32m   1465\u001b[0m \u001b[38;5;124;03m      assert c1.x == 3 and c1.y == 2\u001b[39;00m\n\u001b[1;32m   1466\u001b[0m \u001b[38;5;124;03m    \"\"\"\u001b[39;00m\n\u001b[1;32m   1468\u001b[0m     \u001b[38;5;66;03m# We're going to mutate 'changes', but that's okay because it's a\u001b[39;00m\n\u001b[1;32m   1469\u001b[0m     \u001b[38;5;66;03m# new dict, even if called with 'replace(obj, **my_changes)'.\u001b[39;00m\n",
      "\u001b[0;31mKeyboardInterrupt\u001b[0m: "
     ]
    }
   ],
   "source": [
    "grid = np.array([[int(c) for c in line.strip()] for line in lines])\n",
    "\n",
    "# h = lambda state: np.linalg.norm(goal - state.pos, ord=1)\n",
    "goal = np.array(grid.shape) - 1\n",
    "for cost, state in astar(State.init(grid, (0, 0)), State.neighbors):\n",
    "    if np.all(state.pos == goal):\n",
    "        print(cost)\n",
    "        break"
   ]
  },
  {
   "cell_type": "code",
   "execution_count": null,
   "id": "362ea9ac-e51b-4785-9b3c-82468ce9e9a0",
   "metadata": {},
   "outputs": [],
   "source": [
    "# Dijkstra\n",
    "grid = np.array([[int(c) for c in line.strip()] for line in lines])\n",
    "\n",
    "goal = np.array(grid.shape) - 1\n",
    "\n",
    "for cost, state in astar(State.init(grid, (0, 0)), State.neighbors):\n",
    "    if np.all(state.pos == goal):\n",
    "        print(cost)\n",
    "        break"
   ]
  }
 ],
 "metadata": {
  "kernelspec": {
   "display_name": "Python 3 (ipykernel)",
   "language": "python",
   "name": "python3"
  },
  "language_info": {
   "codemirror_mode": {
    "name": "ipython",
    "version": 3
   },
   "file_extension": ".py",
   "mimetype": "text/x-python",
   "name": "python",
   "nbconvert_exporter": "python",
   "pygments_lexer": "ipython3",
   "version": "3.11.6"
  }
 },
 "nbformat": 4,
 "nbformat_minor": 5
}
