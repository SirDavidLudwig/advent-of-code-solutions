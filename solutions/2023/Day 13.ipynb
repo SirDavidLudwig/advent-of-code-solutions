{
 "cells": [
  {
   "cell_type": "code",
   "execution_count": 143,
   "id": "9d72a8f4",
   "metadata": {},
   "outputs": [],
   "source": [
    "import sys\n",
    "sys.path.append(\"../../common\")"
   ]
  },
  {
   "cell_type": "code",
   "execution_count": 144,
   "id": "62b0ec11",
   "metadata": {},
   "outputs": [],
   "source": [
    "from aoc import *\n",
    "import numpy as np\n",
    "import re"
   ]
  },
  {
   "cell_type": "code",
   "execution_count": 142,
   "id": "dfd81755-4f8a-4b00-892c-3ce54cbea403",
   "metadata": {},
   "outputs": [],
   "source": [
    "data = \"\"\"#.##..##.\n",
    "..#.##.#.\n",
    "##......#\n",
    "##......#\n",
    "..#.##.#.\n",
    "..##..##.\n",
    "#.#.##.#.\n",
    "\n",
    "#...##..#\n",
    "#....#..#\n",
    "..##..###\n",
    "#####.##.\n",
    "#####.##.\n",
    "..##..###\n",
    "#....#..#\"\"\""
   ]
  },
  {
   "cell_type": "code",
   "execution_count": 145,
   "id": "a949b336",
   "metadata": {},
   "outputs": [],
   "source": [
    "with open(\"./puzzle_inputs/13.txt\") as f:\n",
    "    data = f.read()"
   ]
  },
  {
   "cell_type": "code",
   "execution_count": 146,
   "id": "8728f46a-cea6-4e4f-b7e9-a1d01dfcafcf",
   "metadata": {},
   "outputs": [],
   "source": [
    "groups = data.split('\\n\\n')"
   ]
  },
  {
   "cell_type": "code",
   "execution_count": 138,
   "id": "7d128b41-41b7-4714-a06b-d96e031ad231",
   "metadata": {},
   "outputs": [
    {
     "data": {
      "text/plain": [
       "34100"
      ]
     },
     "execution_count": 138,
     "metadata": {},
     "output_type": "execute_result"
    }
   ],
   "source": [
    "perfect = 0\n",
    "for gi, group in enumerate(groups):\n",
    "    grid = np.array([list(g.strip()) for g in group.strip().split('\\n')])\n",
    "    found = -1\n",
    "    for j in range(1, grid.shape[1]):\n",
    "        left = grid[:,:j]\n",
    "        right = grid[:,j:]\n",
    "        width = min(left.shape[1], right.shape[1])\n",
    "        left = left[:,-width:]\n",
    "        right = right[:,:width]\n",
    "        if np.all(left == np.flip(right, axis=1)):\n",
    "            perfect += j\n",
    "            assert found == -1\n",
    "            found = j\n",
    "    for i in range(1, grid.shape[0]):\n",
    "        top = grid[:i]\n",
    "        bottom = grid[i:]\n",
    "        height = min(top.shape[0], bottom.shape[0])\n",
    "        top = top[-height:]\n",
    "        bottom = bottom[:height]\n",
    "        if np.all(top == np.flip(bottom, axis=0)):\n",
    "            perfect += 100*i\n",
    "            assert found == -1\n",
    "            found = i\n",
    "perfect"
   ]
  },
  {
   "cell_type": "code",
   "execution_count": 139,
   "id": "488c5f8c-8ace-4d23-89e1-d9aefb839bc2",
   "metadata": {},
   "outputs": [
    {
     "data": {
      "text/plain": [
       "33106"
      ]
     },
     "execution_count": 139,
     "metadata": {},
     "output_type": "execute_result"
    }
   ],
   "source": [
    "perfect = 0\n",
    "for gi, group in enumerate(groups):\n",
    "    grid = np.array([list(g.strip()) for g in group.strip().split('\\n')])\n",
    "    found = -1\n",
    "    for j in range(1, grid.shape[1]):\n",
    "        left = grid[:,:j]\n",
    "        right = grid[:,j:]\n",
    "        width = min(left.shape[1], right.shape[1])\n",
    "        left = left[:,-width:]\n",
    "        right = right[:,:width]\n",
    "        if np.sum(left != np.flip(right, axis=1)) == 1:\n",
    "            perfect += j\n",
    "            assert found == -1\n",
    "            found = j\n",
    "    for i in range(1, grid.shape[0]):\n",
    "        top = grid[:i]\n",
    "        bottom = grid[i:]\n",
    "        height = min(top.shape[0], bottom.shape[0])\n",
    "        top = top[-height:]\n",
    "        bottom = bottom[:height]\n",
    "        if np.sum(top != np.flip(bottom, axis=0)) == 1:\n",
    "            perfect += 100*i\n",
    "            assert found == -1\n",
    "            found = i\n",
    "perfect"
   ]
  },
  {
   "cell_type": "code",
   "execution_count": null,
   "id": "c8549678-ff26-40ae-a448-eae642cf80aa",
   "metadata": {},
   "outputs": [],
   "source": []
  }
 ],
 "metadata": {
  "kernelspec": {
   "display_name": "Python 3 (ipykernel)",
   "language": "python",
   "name": "python3"
  },
  "language_info": {
   "codemirror_mode": {
    "name": "ipython",
    "version": 3
   },
   "file_extension": ".py",
   "mimetype": "text/x-python",
   "name": "python",
   "nbconvert_exporter": "python",
   "pygments_lexer": "ipython3",
   "version": "3.11.6"
  }
 },
 "nbformat": 4,
 "nbformat_minor": 5
}
