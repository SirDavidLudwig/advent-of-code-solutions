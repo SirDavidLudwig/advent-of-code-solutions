{
 "cells": [
  {
   "cell_type": "code",
   "execution_count": 324,
   "id": "9d72a8f4",
   "metadata": {},
   "outputs": [],
   "source": [
    "import sys\n",
    "sys.path.append(\"../../common\")"
   ]
  },
  {
   "cell_type": "code",
   "execution_count": 325,
   "id": "62b0ec11",
   "metadata": {},
   "outputs": [],
   "source": [
    "from aoc import *\n",
    "import numpy as np\n",
    "import re\n",
    "import shapely"
   ]
  },
  {
   "cell_type": "code",
   "execution_count": 326,
   "id": "a949b336",
   "metadata": {},
   "outputs": [],
   "source": [
    "with open(\"./puzzle_inputs/18.txt\") as f:\n",
    "    lines = f.readlines()"
   ]
  },
  {
   "cell_type": "code",
   "execution_count": 327,
   "id": "cb995dab-24b4-4074-a116-0154f9b6130c",
   "metadata": {},
   "outputs": [],
   "source": [
    "lines = \"\"\"R 6 (#70c710)\n",
    "D 5 (#0dc571)\n",
    "L 2 (#5713f0)\n",
    "D 2 (#d2c081)\n",
    "R 2 (#59c680)\n",
    "D 2 (#411b91)\n",
    "L 5 (#8ceee2)\n",
    "U 2 (#caa173)\n",
    "L 1 (#1b58a2)\n",
    "U 2 (#caa171)\n",
    "R 2 (#7807d2)\n",
    "U 3 (#a77fa3)\n",
    "L 2 (#015232)\n",
    "U 2 (#7a21e3)\"\"\".split('\\n')"
   ]
  },
  {
   "cell_type": "code",
   "execution_count": 328,
   "id": "e5830762-30cb-4833-8a30-1deead4521e8",
   "metadata": {},
   "outputs": [],
   "source": [
    "dmap = {\n",
    "    'u': 'n',\n",
    "    'l': 'w',\n",
    "    'r': 'e',\n",
    "    'd': 's'\n",
    "}\n",
    "dig_dir = 'eswn'"
   ]
  },
  {
   "cell_type": "code",
   "execution_count": 329,
   "id": "e1fb2d1b-31d7-4a63-a1a9-c61b3d050f8d",
   "metadata": {},
   "outputs": [],
   "source": [
    "def is_outside_turn(d1, d2, inside_on_right=True):\n",
    "    return inside_on_right and turn(d1, -90) == d2 \\\n",
    "        or not inside_on_right and turn(d1, 90) == d2"
   ]
  },
  {
   "cell_type": "code",
   "execution_count": 330,
   "id": "274a54aa-ddfa-4230-a58c-7055c4ad1ac0",
   "metadata": {},
   "outputs": [
    {
     "data": {
      "text/plain": [
       "'n'"
      ]
     },
     "execution_count": 330,
     "metadata": {},
     "output_type": "execute_result"
    }
   ],
   "source": [
    "revdir('s')"
   ]
  },
  {
   "cell_type": "code",
   "execution_count": 322,
   "id": "22fad442-1347-418a-9406-602dfa149abc",
   "metadata": {},
   "outputs": [],
   "source": [
    "current = arr((0, 0))\n",
    "verts = []\n",
    "prev_d = None\n",
    "for line in lines + [lines[0]]:\n",
    "    d, n, h = line.lower().split()\n",
    "    n = int(n)\n",
    "    d = dmap[d]\n",
    "    offset_dir = None\n",
    "    if prev_d is not None and is_outside_turn(prev_d, d):\n",
    "        offset_dir = prev_d+revdir(d)\n",
    "        # print(\"Outside turn... Moving toward\", offset_dir)\n",
    "    elif prev_d and not is_outside_turn(prev_d, d):\n",
    "        offset_dir = revdir(prev_d)+d\n",
    "        # print(\"Inside turn... Moving toward\", offset_dir)\n",
    "    if offset_dir is not None:\n",
    "        verts.append(current + 0.5*dirdelta(offset_dir))\n",
    "    current = current + n*dirdelta(d)\n",
    "    prev_d = d"
   ]
  },
  {
   "cell_type": "code",
   "execution_count": 323,
   "id": "7915483e-12f2-4217-836b-ea4e43b6c0ce",
   "metadata": {},
   "outputs": [
    {
     "data": {
      "text/plain": [
       "76387.0"
      ]
     },
     "execution_count": 323,
     "metadata": {},
     "output_type": "execute_result"
    }
   ],
   "source": [
    "shapely.Polygon(verts).area"
   ]
  },
  {
   "cell_type": "code",
   "execution_count": 273,
   "id": "aa8687cc-548d-4aa7-bf4b-4e7ff238e801",
   "metadata": {},
   "outputs": [],
   "source": [
    "def create_polygon(lines, offset=0):\n",
    "    current = arr((offset))\n",
    "    points = []\n",
    "    for line in lines:\n",
    "        d, n, h = line.lower().split()\n",
    "        n = int(n)\n",
    "        d = dmap[d]\n",
    "        current = current + n*dirdelta(d)\n",
    "        points.append(current)\n",
    "    return shapely.Polygon(points)"
   ]
  },
  {
   "cell_type": "code",
   "execution_count": 276,
   "id": "66626292-4587-4521-96c0-5e3bbfb64d75",
   "metadata": {},
   "outputs": [],
   "source": [
    "p1 = create_polygon(lines)"
   ]
  },
  {
   "cell_type": "code",
   "execution_count": 278,
   "id": "04a0580d-b70f-4120-9213-d979d154dc5e",
   "metadata": {},
   "outputs": [
    {
     "data": {
      "text/plain": [
       "(0.0, 0.0, 9.0, 6.0)"
      ]
     },
     "execution_count": 278,
     "metadata": {},
     "output_type": "execute_result"
    }
   ],
   "source": [
    "p1.bounds"
   ]
  },
  {
   "cell_type": "code",
   "execution_count": 266,
   "id": "a418b693-3eaa-4542-9d60-b14b35af0378",
   "metadata": {},
   "outputs": [],
   "source": [
    "current = arr((0, 0))\n",
    "points = []\n",
    "for line in lines:\n",
    "    d, n, h = line.lower().split()\n",
    "    n = int(n)\n",
    "    d = dmap[d]\n",
    "    current = current + n*dirdelta(d)\n",
    "    points.append(current)\n",
    "# offset = np.min(points)\n",
    "# points = [p - offset + 2 for p in points]"
   ]
  },
  {
   "cell_type": "code",
   "execution_count": null,
   "id": "4d736af5-1f8d-4d67-b976-68f12d7995d2",
   "metadata": {},
   "outputs": [],
   "source": [
    "current = arr((1, 1))\n",
    "points = []\n",
    "for line in lines:\n",
    "    d, n, h = line.lower().split()\n",
    "    n = int(n)\n",
    "    d = dmap[d]\n",
    "    current = current + n*dirdelta(d)\n",
    "    points.append(current)\n",
    "# offset = np.min(points)\n",
    "# points = [p - offset + 2 for p in points]"
   ]
  },
  {
   "cell_type": "code",
   "execution_count": 268,
   "id": "5eb82fbb-f784-4aa6-bac2-02cc56708438",
   "metadata": {},
   "outputs": [
    {
     "data": {
      "image/svg+xml": [
       "<svg xmlns=\"http://www.w3.org/2000/svg\" xmlns:xlink=\"http://www.w3.org/1999/xlink\" width=\"100.0\" height=\"100.0\" viewBox=\"-0.36 -0.36 9.719999999999999 6.720000000000001\" preserveAspectRatio=\"xMinYMin meet\"><g transform=\"matrix(1,0,0,-1,0,6.0)\"><path fill-rule=\"evenodd\" fill=\"#66cc99\" stroke=\"#555555\" stroke-width=\"0.1944\" opacity=\"0.6\" d=\"M 0.0,6.0 L 5.0,6.0 L 5.0,4.0 L 7.0,4.0 L 7.0,6.0 L 9.0,6.0 L 9.0,1.0 L 7.0,1.0 L 7.0,0.0 L 5.0,0.0 L 5.0,2.0 L 2.0,2.0 L 2.0,0.0 L 0.0,0.0 L 0.0,6.0 z\" /></g></svg>"
      ],
      "text/plain": [
       "<POLYGON ((0 6, 5 6, 5 4, 7 4, 7 6, 9 6, 9 1, 7 1, 7 0, 5 0, 5 2, 2 2, 2 0, ...>"
      ]
     },
     "execution_count": 268,
     "metadata": {},
     "output_type": "execute_result"
    }
   ],
   "source": [
    "polygon = shapely.Polygon(points)\n",
    "polygon"
   ]
  },
  {
   "cell_type": "code",
   "execution_count": 269,
   "id": "de49b509-2fbb-4769-94e8-a4d3bc075d00",
   "metadata": {},
   "outputs": [
    {
     "data": {
      "text/plain": [
       "42.0"
      ]
     },
     "execution_count": 269,
     "metadata": {},
     "output_type": "execute_result"
    }
   ],
   "source": [
    "polygon.area"
   ]
  },
  {
   "cell_type": "code",
   "execution_count": null,
   "id": "90c88216-0db8-4338-9f61-7a7195dadde3",
   "metadata": {},
   "outputs": [],
   "source": [
    "polygon."
   ]
  },
  {
   "cell_type": "code",
   "execution_count": 197,
   "id": "e6518828-5b16-4654-b0ab-8cae6186182a",
   "metadata": {},
   "outputs": [
    {
     "data": {
      "text/plain": [
       "[array([0, 0]),\n",
       " array([0, 6]),\n",
       " array([5, 6]),\n",
       " array([5, 4]),\n",
       " array([7, 4]),\n",
       " array([7, 6]),\n",
       " array([9, 6]),\n",
       " array([9, 1]),\n",
       " array([7, 1]),\n",
       " array([7, 0]),\n",
       " array([5, 0]),\n",
       " array([5, 2]),\n",
       " array([2, 2]),\n",
       " array([2, 0]),\n",
       " array([0, 0])]"
      ]
     },
     "execution_count": 197,
     "metadata": {},
     "output_type": "execute_result"
    }
   ],
   "source": [
    "points"
   ]
  },
  {
   "cell_type": "code",
   "execution_count": 207,
   "id": "c74aa6e0-c6c3-4f4c-9654-0a51536d851a",
   "metadata": {},
   "outputs": [
    {
     "name": "stdout",
     "output_type": "stream",
     "text": [
      "Top edge found\n",
      "Vertical\n",
      "Top edge found\n",
      "Vertical\n",
      "Top edge found\n",
      "Vertical\n",
      "Top edge found\n",
      "Vertical\n",
      "Top edge found\n",
      "Vertical\n",
      "Bottom edge found\n",
      "Vertical\n",
      "Top edge found\n",
      "Vertical\n",
      "Top edge found\n"
     ]
    }
   ],
   "source": [
    "for (y1, x1), (y2, x2) in zip(points, np.roll(points, -1, axis=0)):\n",
    "    if y1 == y2:\n",
    "        midpoint = (x2 - x1)/2\n",
    "        point = shapely.Point((midpoint, y1-0.5))\n",
    "        if polygon.contains(point):\n",
    "            print(\"Bottom edge found\")\n",
    "        else:\n",
    "            print(\"Top edge found\")\n",
    "        # horizontal edge\n",
    "        # print(\"Horizontal\")\n",
    "    else:\n",
    "        # vertical edge\n",
    "        print(\"Vertical\")"
   ]
  },
  {
   "cell_type": "code",
   "execution_count": 174,
   "id": "2d4f9b6c-1106-43c9-951b-339faf8e298e",
   "metadata": {},
   "outputs": [
    {
     "data": {
      "image/svg+xml": [
       "<svg xmlns=\"http://www.w3.org/2000/svg\" xmlns:xlink=\"http://www.w3.org/1999/xlink\" width=\"100.0\" height=\"100.0\" viewBox=\"1.6 1.6 10.8 7.800000000000001\" preserveAspectRatio=\"xMinYMin meet\"><g transform=\"matrix(1,0,0,-1,0,11.0)\"><path fill-rule=\"evenodd\" fill=\"#66cc99\" stroke=\"#555555\" stroke-width=\"0.21600000000000003\" opacity=\"0.6\" d=\"M 2.0,2.0 L 2.0,5.5 L 2.0,9.0 L 5.0,9.0 L 8.0,9.0 L 8.0,6.0 L 10.0,6.0 L 10.0,9.0 L 12.0,9.0 L 12.0,6.0 L 12.0,3.0 L 9.0,3.0 L 9.0,2.0 L 7.0,2.0 L 7.0,5.0 L 4.0,5.0 L 4.0,2.0 L 2.0,2.0 z\" /></g></svg>"
      ],
      "text/plain": [
       "<POLYGON ((2 2, 2 5.5, 2 9, 5 9, 8 9, 8 6, 10 6, 10 9, 12 9, 12 6, 12 3, 9 3...>"
      ]
     },
     "execution_count": 174,
     "metadata": {},
     "output_type": "execute_result"
    }
   ],
   "source": [
    "polygon."
   ]
  },
  {
   "cell_type": "code",
   "execution_count": 170,
   "id": "ebaf58d8-6d6b-4c96-b026-b1234c907d7c",
   "metadata": {},
   "outputs": [
    {
     "data": {
      "text/plain": [
       "52.0"
      ]
     },
     "execution_count": 170,
     "metadata": {},
     "output_type": "execute_result"
    }
   ],
   "source": [
    "polygon.area"
   ]
  },
  {
   "cell_type": "code",
   "execution_count": 157,
   "id": "27185d01-3299-4579-8599-aec253d144ef",
   "metadata": {},
   "outputs": [
    {
     "name": "stderr",
     "output_type": "stream",
     "text": [
      "/tmp/ipykernel_3360931/206501628.py:2: DeprecationWarning: `product` is deprecated as of NumPy 1.25.0, and will be removed in NumPy 2.0. Please use `prod` instead.\n",
      "  voxel.volume()\n"
     ]
    },
    {
     "data": {
      "text/plain": [
       "70"
      ]
     },
     "execution_count": 157,
     "metadata": {},
     "output_type": "execute_result"
    }
   ],
   "source": [
    "voxel = Voxel(polygon.bounds[:2], np.array(polygon.bounds[2:]) + 1)\n",
    "voxel.volume()"
   ]
  },
  {
   "cell_type": "code",
   "execution_count": null,
   "id": "7b21cdc2-795b-4739-912d-a0290ebe76ba",
   "metadata": {},
   "outputs": [],
   "source": [
    "for"
   ]
  },
  {
   "cell_type": "code",
   "execution_count": 152,
   "id": "18c96fb2-1c34-433e-8e5b-edf01c7ab807",
   "metadata": {},
   "outputs": [
    {
     "data": {
      "text/plain": [
       "(2.0, 11.0)"
      ]
     },
     "execution_count": 152,
     "metadata": {},
     "output_type": "execute_result"
    }
   ],
   "source": [
    "polygon.bounds[::2]"
   ]
  },
  {
   "cell_type": "code",
   "execution_count": null,
   "id": "f7187c4d-7eab-4ea0-8395-72192afb6738",
   "metadata": {},
   "outputs": [],
   "source": [
    "voxel.subdivide()"
   ]
  },
  {
   "cell_type": "code",
   "execution_count": 134,
   "id": "6fc68699-6598-4940-b43a-34f28f910241",
   "metadata": {},
   "outputs": [],
   "source": [
    "current = arr((0, 0))\n",
    "points = [current]\n",
    "for line in lines[:-1]:\n",
    "    _, _, h = line.lower().strip().split()\n",
    "    n = int(h[2:-2], 16)\n",
    "    d = dig_dir[int(h[-2])]\n",
    "    points.append(points[-1] + n*dirdelta(d))\n",
    "points = np.array(points)"
   ]
  },
  {
   "cell_type": "code",
   "execution_count": 135,
   "id": "46003aa2-64fa-4b3b-a496-1fde7c8d8c6f",
   "metadata": {},
   "outputs": [
    {
     "data": {
      "text/plain": [
       "array([[      0,       0],\n",
       "       [      0,  461937],\n",
       "       [  56407,  461937],\n",
       "       [  56407,  818608],\n",
       "       [ 919647,  818608],\n",
       "       [ 919647, 1186328],\n",
       "       [1186328, 1186328],\n",
       "       [1186328,  609066],\n",
       "       [ 356353,  609066],\n",
       "       [ 356353,  497056],\n",
       "       [1186328,  497056],\n",
       "       [1186328,    5411],\n",
       "       [ 500254,    5411],\n",
       "       [ 500254,       0]])"
      ]
     },
     "execution_count": 135,
     "metadata": {},
     "output_type": "execute_result"
    }
   ],
   "source": [
    "points"
   ]
  },
  {
   "cell_type": "code",
   "execution_count": null,
   "id": "fefcf458-7686-42ad-97de-9c657037a557",
   "metadata": {},
   "outputs": [],
   "source": []
  },
  {
   "cell_type": "code",
   "execution_count": 136,
   "id": "1e331ed7-dc5d-4b9c-a41e-faf74c2b3386",
   "metadata": {},
   "outputs": [
    {
     "data": {
      "image/svg+xml": [
       "<svg xmlns=\"http://www.w3.org/2000/svg\" xmlns:xlink=\"http://www.w3.org/1999/xlink\" width=\"300\" height=\"300\" viewBox=\"-47453.12 -47453.12 1281234.2400000002 1281234.2400000002\" preserveAspectRatio=\"xMinYMin meet\"><g transform=\"matrix(1,0,0,-1,0,1186328.0)\"><path fill-rule=\"evenodd\" fill=\"#66cc99\" stroke=\"#555555\" stroke-width=\"8541.5616\" opacity=\"0.6\" d=\"M 0.0,0.0 L 0.0,461937.0 L 56407.0,461937.0 L 56407.0,818608.0 L 919647.0,818608.0 L 919647.0,1186328.0 L 1186328.0,1186328.0 L 1186328.0,609066.0 L 356353.0,609066.0 L 356353.0,497056.0 L 1186328.0,497056.0 L 1186328.0,5411.0 L 500254.0,5411.0 L 500254.0,0.0 L 0.0,0.0 z\" /></g></svg>"
      ],
      "text/plain": [
       "<POLYGON ((0 0, 0 461937, 56407 461937, 56407 818608, 919647 818608, 919647 ...>"
      ]
     },
     "execution_count": 136,
     "metadata": {},
     "output_type": "execute_result"
    }
   ],
   "source": [
    "shapely.Polygon(points).area"
   ]
  },
  {
   "cell_type": "code",
   "execution_count": null,
   "id": "f47c2635-35e6-4745-9da7-99df00bdb95e",
   "metadata": {},
   "outputs": [],
   "source": []
  }
 ],
 "metadata": {
  "kernelspec": {
   "display_name": "Python 3 (ipykernel)",
   "language": "python",
   "name": "python3"
  },
  "language_info": {
   "codemirror_mode": {
    "name": "ipython",
    "version": 3
   },
   "file_extension": ".py",
   "mimetype": "text/x-python",
   "name": "python",
   "nbconvert_exporter": "python",
   "pygments_lexer": "ipython3",
   "version": "3.11.6"
  }
 },
 "nbformat": 4,
 "nbformat_minor": 5
}
