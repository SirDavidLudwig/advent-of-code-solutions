{
 "cells": [
  {
   "cell_type": "code",
   "execution_count": 1,
   "id": "9d72a8f4",
   "metadata": {},
   "outputs": [],
   "source": [
    "import sys\n",
    "sys.path.append(\"../../common\")"
   ]
  },
  {
   "cell_type": "code",
   "execution_count": 2,
   "id": "62b0ec11",
   "metadata": {},
   "outputs": [],
   "source": [
    "from aoc import *\n",
    "import heapq\n",
    "import numpy as np\n",
    "import re"
   ]
  },
  {
   "cell_type": "code",
   "execution_count": 3,
   "id": "a949b336",
   "metadata": {},
   "outputs": [],
   "source": [
    "with open(\"./puzzle_inputs/17.txt\") as f:\n",
    "    lines = f.readlines()"
   ]
  },
  {
   "cell_type": "code",
   "execution_count": 4,
   "id": "ae047218-5834-4d35-8523-3a382df839db",
   "metadata": {},
   "outputs": [],
   "source": [
    "lines = \"\"\"2413432311323\n",
    "3215453535623\n",
    "3255245654254\n",
    "3446585845452\n",
    "4546657867536\n",
    "1438598798454\n",
    "4457876987766\n",
    "3637877979653\n",
    "4654967986887\n",
    "4564679986453\n",
    "1224686865563\n",
    "2546548887735\n",
    "4322674655533\"\"\".split('\\n')"
   ]
  },
  {
   "cell_type": "code",
   "execution_count": 11,
   "id": "c0d142dd-4bca-4756-b738-934b95198f61",
   "metadata": {},
   "outputs": [],
   "source": [
    "deltas"
   ]
  },
  {
   "cell_type": "code",
   "execution_count": 74,
   "id": "6ad7d832-0ca5-4092-b21b-6f4d47096dc6",
   "metadata": {},
   "outputs": [],
   "source": [
    "import time"
   ]
  },
  {
   "cell_type": "code",
   "execution_count": 75,
   "id": "7a35dd18-e900-4d0a-a5e6-f0b46724f594",
   "metadata": {},
   "outputs": [
    {
     "name": "stdout",
     "output_type": "stream",
     "text": [
      "1 23\n"
     ]
    }
   ],
   "source": [
    "grid = np.array([list(map(int, list(line.strip()))) for line in lines])\n",
    "start = np.array([0, 0])\n",
    "end = tuple(np.array(grid.shape) - 1)\n",
    "dist_mat = np.zeros_like(grid)\n",
    "q = [(np.sum(np.abs(end-start)), 0, tuple(start), 'r', 0)] # cost, pos, direction, move count\n",
    "visited = set()\n",
    "t = time.time()\n",
    "i = 0\n",
    "while dist_mat[*end] == 0:\n",
    "    _, cost, pos, d, move_count = heapq.heappop(q)\n",
    "    pos = np.array(pos)\n",
    "    dist_mat[*pos] = cost\n",
    "    visited.add((*pos, d, move_count))\n",
    "    i += 1\n",
    "    for delta_d, delta in deltas.items():\n",
    "        npos = pos + delta\n",
    "        if np.any(npos < 0) or np.any(npos >= grid.shape):\n",
    "            continue\n",
    "        mc = 0\n",
    "        if delta_d == d:\n",
    "            mc = move_count + 1\n",
    "        if mc > 3:\n",
    "            continue\n",
    "        if (*pos, d, mc) in visited:\n",
    "            continue\n",
    "        ncost = cost+grid[*npos]\n",
    "        heapq.heappush(q, (ncost+np.sum(np.abs(end-npos)), ncost, tuple(npos), delta_d, mc))\n",
    "    if time.time() > t:\n",
    "        t = time.time() + 1\n",
    "        print(i, np.sum(np.abs(end-npos)))"
   ]
  },
  {
   "cell_type": "code",
   "execution_count": 71,
   "id": "e8c0ac55-c877-4fdc-8876-f8da6a5c8bfc",
   "metadata": {},
   "outputs": [
    {
     "data": {
      "text/plain": [
       "119"
      ]
     },
     "execution_count": 71,
     "metadata": {},
     "output_type": "execute_result"
    }
   ],
   "source": [
    "dist_mat[-1,-1]"
   ]
  },
  {
   "cell_type": "code",
   "execution_count": 76,
   "id": "4160fef4-2399-42ff-912e-50edd922c068",
   "metadata": {},
   "outputs": [
    {
     "data": {
      "text/plain": [
       "array([[ 88,  64,  91,  98,  97,  75,  85, 102, 103,  90, 101, 106, 107],\n",
       "       [ 95,  97,  98,  98,  99,  71,  71,  99,  92, 102, 100, 107,  94],\n",
       "       [ 97,  98,  99, 100, 101,  80,  99,  95, 102, 106, 107, 108, 109],\n",
       "       [ 95,  99,  97,  95, 100,  82, 103, 102, 106, 107, 108, 108, 110],\n",
       "       [ 99,  84,  93,  89, 100,  98, 104, 106, 107, 106, 109, 110, 111],\n",
       "       [ 98, 101,  99, 103, 104, 104, 106, 106, 108, 106, 110, 111, 111],\n",
       "       [ 88, 101,  98,  97, 105, 101, 107, 108, 108, 110, 109, 109, 111],\n",
       "       [100,  99, 104, 104, 105, 107, 108, 109, 110, 102, 112, 113, 114],\n",
       "       [102, 100, 102, 105, 107, 108, 109, 110, 110, 106, 111, 111, 115],\n",
       "       [104, 102, 106, 107, 108, 109, 110, 110, 111, 109, 114, 114, 113],\n",
       "       [105, 105, 107, 108, 109, 109, 111, 111, 109, 114, 115, 116, 117],\n",
       "       [105, 107, 108, 106, 109, 110, 110, 111, 113, 110, 116, 117, 117],\n",
       "       [107, 108, 109, 110, 111, 112, 113, 111, 113, 116,   0,   0, 119]])"
      ]
     },
     "execution_count": 76,
     "metadata": {},
     "output_type": "execute_result"
    }
   ],
   "source": [
    "dist_mat"
   ]
  },
  {
   "cell_type": "code",
   "execution_count": null,
   "id": "33ac8012-8938-46b7-acd1-d8b7be66670d",
   "metadata": {},
   "outputs": [],
   "source": []
  }
 ],
 "metadata": {
  "kernelspec": {
   "display_name": "Python 3 (ipykernel)",
   "language": "python",
   "name": "python3"
  },
  "language_info": {
   "codemirror_mode": {
    "name": "ipython",
    "version": 3
   },
   "file_extension": ".py",
   "mimetype": "text/x-python",
   "name": "python",
   "nbconvert_exporter": "python",
   "pygments_lexer": "ipython3",
   "version": "3.11.6"
  }
 },
 "nbformat": 4,
 "nbformat_minor": 5
}
