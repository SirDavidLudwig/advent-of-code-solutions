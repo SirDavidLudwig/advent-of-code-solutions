{
 "cells": [
  {
   "cell_type": "markdown",
   "id": "17afe719-b2ed-4797-86ff-709270f081b7",
   "metadata": {},
   "source": [
    "<div style=\"background-color: rgb(15, 15, 35); border: 1px solid rgb(255, 255, 255); color: rgb(204, 204, 204); font-family: monospace; margin-left: -5px; margin-right: -20px; padding: 1rem;\"><h2 style=\"border-color: rgb(255, 255, 255); color: rgb(255, 255, 255);\">--- Day 19: Aplenty ---</h2><p style=\"border-color: rgb(204, 204, 204); color: rgb(204, 204, 204);\">The Elves of Gear Island are thankful for your help and send you on your way. They even have a hang glider that someone <a href=\"9\" style=\"border-color: rgb(0, 153, 0); color: rgb(0, 153, 0);\">stole</a> from Desert Island; since you're already going that direction, it would help them a lot if you would use it to get down there and return it to them.</p>\n",
    "<p style=\"border-color: rgb(204, 204, 204); color: rgb(204, 204, 204);\">As you reach the bottom of the <em style=\"border-color: rgb(255, 255, 255); color: rgb(255, 255, 255); text-shadow: rgb(255, 255, 255) 0px 0px 5px;\">relentless avalanche of machine parts</em>, you discover that they're already forming a formidable heap. Don't worry, though - a group of Elves is already here organizing the parts, and they have a <span title=\"This part sparks joy. This part sparks joy. This part ALSO sparks joy... I think we need a different system.\" style=\"border-color: rgb(204, 204, 204); color: rgb(204, 204, 204);\"><em style=\"border-color: rgb(255, 255, 255); color: rgb(255, 255, 255); text-shadow: rgb(255, 255, 255) 0px 0px 5px;\">system</em></span>.</p>\n",
    "<p style=\"border-color: rgb(204, 204, 204); color: rgb(204, 204, 204);\">To start, each part is rated in each of four categories:</p>\n",
    "<ul style=\"border-color: rgb(204, 204, 204); color: rgb(204, 204, 204);\">\n",
    "<li style=\"border-color: rgb(204, 204, 204); color: rgb(204, 204, 204);\"><code style=\"border: 1px solid rgb(51, 51, 64); color: rgb(204, 204, 204); background: rgb(16, 16, 26);\">x</code>: E<em style=\"border-color: rgb(255, 255, 255); color: rgb(255, 255, 255); text-shadow: rgb(255, 255, 255) 0px 0px 5px;\">x</em>tremely cool looking</li>\n",
    "<li style=\"border-color: rgb(204, 204, 204); color: rgb(204, 204, 204);\"><code style=\"border: 1px solid rgb(51, 51, 64); color: rgb(204, 204, 204); background: rgb(16, 16, 26);\">m</code>: <em style=\"border-color: rgb(255, 255, 255); color: rgb(255, 255, 255); text-shadow: rgb(255, 255, 255) 0px 0px 5px;\">M</em>usical (it makes a noise when you hit it)</li>\n",
    "<li style=\"border-color: rgb(204, 204, 204); color: rgb(204, 204, 204);\"><code style=\"border: 1px solid rgb(51, 51, 64); color: rgb(204, 204, 204); background: rgb(16, 16, 26);\">a</code>: <em style=\"border-color: rgb(255, 255, 255); color: rgb(255, 255, 255); text-shadow: rgb(255, 255, 255) 0px 0px 5px;\">A</em>erodynamic</li>\n",
    "<li style=\"border-color: rgb(204, 204, 204); color: rgb(204, 204, 204);\"><code style=\"border: 1px solid rgb(51, 51, 64); color: rgb(204, 204, 204); background: rgb(16, 16, 26);\">s</code>: <em style=\"border-color: rgb(255, 255, 255); color: rgb(255, 255, 255); text-shadow: rgb(255, 255, 255) 0px 0px 5px;\">S</em>hiny</li>\n",
    "</ul>\n",
    "<p style=\"border-color: rgb(204, 204, 204); color: rgb(204, 204, 204);\">Then, each part is sent through a series of <em style=\"border-color: rgb(255, 255, 255); color: rgb(255, 255, 255); text-shadow: rgb(255, 255, 255) 0px 0px 5px;\">workflows</em> that will ultimately <em style=\"border-color: rgb(255, 255, 255); color: rgb(255, 255, 255); text-shadow: rgb(255, 255, 255) 0px 0px 5px;\">accept</em> or <em style=\"border-color: rgb(255, 255, 255); color: rgb(255, 255, 255); text-shadow: rgb(255, 255, 255) 0px 0px 5px;\">reject</em> the part. Each workflow has a name and contains a list of <em style=\"border-color: rgb(255, 255, 255); color: rgb(255, 255, 255); text-shadow: rgb(255, 255, 255) 0px 0px 5px;\">rules</em>; each rule specifies a condition and where to send the part if the condition is true. The first rule that matches the part being considered is applied immediately, and the part moves on to the destination described by the rule. (The last rule in each workflow has no condition and always applies if reached.)</p>\n",
    "<p style=\"border-color: rgb(204, 204, 204); color: rgb(204, 204, 204);\">Consider the workflow <code style=\"border: 1px solid rgb(51, 51, 64); color: rgb(204, 204, 204); background: rgb(16, 16, 26);\">ex{x&gt;10:one,m&lt;20:two,a&gt;30:R,A}</code>. This workflow is named <code style=\"border: 1px solid rgb(51, 51, 64); color: rgb(204, 204, 204); background: rgb(16, 16, 26);\">ex</code> and contains four rules. If workflow <code style=\"border: 1px solid rgb(51, 51, 64); color: rgb(204, 204, 204); background: rgb(16, 16, 26);\">ex</code> were considering a specific part, it would perform the following steps in order:</p>\n",
    "<ul style=\"border-color: rgb(204, 204, 204); color: rgb(204, 204, 204);\">\n",
    "<li style=\"border-color: rgb(204, 204, 204); color: rgb(204, 204, 204);\">Rule \"<code style=\"border: 1px solid rgb(51, 51, 64); color: rgb(204, 204, 204); background: rgb(16, 16, 26);\">x&gt;10:one</code>\": If the part's <code style=\"border: 1px solid rgb(51, 51, 64); color: rgb(204, 204, 204); background: rgb(16, 16, 26);\">x</code> is more than <code style=\"border: 1px solid rgb(51, 51, 64); color: rgb(204, 204, 204); background: rgb(16, 16, 26);\">10</code>, send the part to the workflow named <code style=\"border: 1px solid rgb(51, 51, 64); color: rgb(204, 204, 204); background: rgb(16, 16, 26);\">one</code>.</li>\n",
    "<li style=\"border-color: rgb(204, 204, 204); color: rgb(204, 204, 204);\">Rule \"<code style=\"border: 1px solid rgb(51, 51, 64); color: rgb(204, 204, 204); background: rgb(16, 16, 26);\">m&lt;20:two</code>\": Otherwise, if the part's <code style=\"border: 1px solid rgb(51, 51, 64); color: rgb(204, 204, 204); background: rgb(16, 16, 26);\">m</code> is less than <code style=\"border: 1px solid rgb(51, 51, 64); color: rgb(204, 204, 204); background: rgb(16, 16, 26);\">20</code>, send the part to the workflow named <code style=\"border: 1px solid rgb(51, 51, 64); color: rgb(204, 204, 204); background: rgb(16, 16, 26);\">two</code>.</li>\n",
    "<li style=\"border-color: rgb(204, 204, 204); color: rgb(204, 204, 204);\">Rule \"<code style=\"border: 1px solid rgb(51, 51, 64); color: rgb(204, 204, 204); background: rgb(16, 16, 26);\">a&gt;30:R</code>\": Otherwise, if the part's <code style=\"border: 1px solid rgb(51, 51, 64); color: rgb(204, 204, 204); background: rgb(16, 16, 26);\">a</code> is more than <code style=\"border: 1px solid rgb(51, 51, 64); color: rgb(204, 204, 204); background: rgb(16, 16, 26);\">30</code>, the part is immediately <em style=\"border-color: rgb(255, 255, 255); color: rgb(255, 255, 255); text-shadow: rgb(255, 255, 255) 0px 0px 5px;\">rejected</em> (<code style=\"border: 1px solid rgb(51, 51, 64); color: rgb(204, 204, 204); background: rgb(16, 16, 26);\">R</code>).</li>\n",
    "<li style=\"border-color: rgb(204, 204, 204); color: rgb(204, 204, 204);\">Rule \"<code style=\"border: 1px solid rgb(51, 51, 64); color: rgb(204, 204, 204); background: rgb(16, 16, 26);\">A</code>\": Otherwise, because no other rules matched the part, the part is immediately <em style=\"border-color: rgb(255, 255, 255); color: rgb(255, 255, 255); text-shadow: rgb(255, 255, 255) 0px 0px 5px;\">accepted</em> (<code style=\"border: 1px solid rgb(51, 51, 64); color: rgb(204, 204, 204); background: rgb(16, 16, 26);\">A</code>).</li>\n",
    "</ul>\n",
    "<p style=\"border-color: rgb(204, 204, 204); color: rgb(204, 204, 204);\">If a part is sent to another workflow, it immediately switches to the start of that workflow instead and never returns. If a part is <em style=\"border-color: rgb(255, 255, 255); color: rgb(255, 255, 255); text-shadow: rgb(255, 255, 255) 0px 0px 5px;\">accepted</em> (sent to <code style=\"border: 1px solid rgb(51, 51, 64); color: rgb(204, 204, 204); background: rgb(16, 16, 26);\">A</code>) or <em style=\"border-color: rgb(255, 255, 255); color: rgb(255, 255, 255); text-shadow: rgb(255, 255, 255) 0px 0px 5px;\">rejected</em> (sent to <code style=\"border: 1px solid rgb(51, 51, 64); color: rgb(204, 204, 204); background: rgb(16, 16, 26);\">R</code>), the part immediately stops any further processing.</p>\n",
    "<p style=\"border-color: rgb(204, 204, 204); color: rgb(204, 204, 204);\">The system works, but it's not keeping up with the torrent of weird metal shapes. The Elves ask if you can help sort a few parts and give you the list of workflows and some part ratings (your puzzle input). For example:</p>\n",
    "<pre style=\"border: 1px solid rgb(51, 51, 64); color: rgb(204, 204, 204); background-color: rgb(16, 16, 26); display: inline-block;\"><code style=\"border-color: rgb(204, 204, 204); color: rgb(204, 204, 204); background-color: rgb(16, 16, 26);\">px{a&lt;2006:qkq,m&gt;2090:A,rfg}\n",
    "pv{a&gt;1716:R,A}\n",
    "lnx{m&gt;1548:A,A}\n",
    "rfg{s&lt;537:gd,x&gt;2440:R,A}\n",
    "qs{s&gt;3448:A,lnx}\n",
    "qkq{x&lt;1416:A,crn}\n",
    "crn{x&gt;2662:A,R}\n",
    "in{s&lt;1351:px,qqz}\n",
    "qqz{s&gt;2770:qs,m&lt;1801:hdj,R}\n",
    "gd{a&gt;3333:R,R}\n",
    "hdj{m&gt;838:A,pv}\n",
    "\n",
    "{x=787,m=2655,a=1222,s=2876}\n",
    "{x=1679,m=44,a=2067,s=496}\n",
    "{x=2036,m=264,a=79,s=2244}\n",
    "{x=2461,m=1339,a=466,s=291}\n",
    "{x=2127,m=1623,a=2188,s=1013}\n",
    "</code></pre>\n",
    "<p style=\"border-color: rgb(204, 204, 204); color: rgb(204, 204, 204);\">The workflows are listed first, followed by a blank line, then the ratings of the parts the Elves would like you to sort. All parts begin in the workflow named <code style=\"border: 1px solid rgb(51, 51, 64); color: rgb(204, 204, 204); background: rgb(16, 16, 26);\">in</code>. In this example, the five listed parts go through the following workflows:</p>\n",
    "<ul style=\"border-color: rgb(204, 204, 204); color: rgb(204, 204, 204);\">\n",
    "<li style=\"border-color: rgb(204, 204, 204); color: rgb(204, 204, 204);\"><code style=\"border: 1px solid rgb(51, 51, 64); color: rgb(204, 204, 204); background: rgb(16, 16, 26);\">{x=787,m=2655,a=1222,s=2876}</code>: <code style=\"border: 1px solid rgb(51, 51, 64); color: rgb(204, 204, 204); background: rgb(16, 16, 26);\">in</code> -&gt; <code style=\"border: 1px solid rgb(51, 51, 64); color: rgb(204, 204, 204); background: rgb(16, 16, 26);\">qqz</code> -&gt; <code style=\"border: 1px solid rgb(51, 51, 64); color: rgb(204, 204, 204); background: rgb(16, 16, 26);\">qs</code> -&gt; <code style=\"border: 1px solid rgb(51, 51, 64); color: rgb(204, 204, 204); background: rgb(16, 16, 26);\">lnx</code> -&gt; <code style=\"border: 1px solid rgb(51, 51, 64); color: rgb(204, 204, 204); background: rgb(16, 16, 26);\"><em style=\"border-color: rgb(255, 255, 255); color: rgb(255, 255, 255); text-shadow: rgb(255, 255, 255) 0px 0px 5px;\">A</em></code></li>\n",
    "<li style=\"border-color: rgb(204, 204, 204); color: rgb(204, 204, 204);\"><code style=\"border: 1px solid rgb(51, 51, 64); color: rgb(204, 204, 204); background: rgb(16, 16, 26);\">{x=1679,m=44,a=2067,s=496}</code>: <code style=\"border: 1px solid rgb(51, 51, 64); color: rgb(204, 204, 204); background: rgb(16, 16, 26);\">in</code> -&gt; <code style=\"border: 1px solid rgb(51, 51, 64); color: rgb(204, 204, 204); background: rgb(16, 16, 26);\">px</code> -&gt; <code style=\"border: 1px solid rgb(51, 51, 64); color: rgb(204, 204, 204); background: rgb(16, 16, 26);\">rfg</code> -&gt; <code style=\"border: 1px solid rgb(51, 51, 64); color: rgb(204, 204, 204); background: rgb(16, 16, 26);\">gd</code> -&gt; <code style=\"border: 1px solid rgb(51, 51, 64); color: rgb(204, 204, 204); background: rgb(16, 16, 26);\"><em style=\"border-color: rgb(255, 255, 255); color: rgb(255, 255, 255); text-shadow: rgb(255, 255, 255) 0px 0px 5px;\">R</em></code></li>\n",
    "<li style=\"border-color: rgb(204, 204, 204); color: rgb(204, 204, 204);\"><code style=\"border: 1px solid rgb(51, 51, 64); color: rgb(204, 204, 204); background: rgb(16, 16, 26);\">{x=2036,m=264,a=79,s=2244}</code>: <code style=\"border: 1px solid rgb(51, 51, 64); color: rgb(204, 204, 204); background: rgb(16, 16, 26);\">in</code> -&gt; <code style=\"border: 1px solid rgb(51, 51, 64); color: rgb(204, 204, 204); background: rgb(16, 16, 26);\">qqz</code> -&gt; <code style=\"border: 1px solid rgb(51, 51, 64); color: rgb(204, 204, 204); background: rgb(16, 16, 26);\">hdj</code> -&gt; <code style=\"border: 1px solid rgb(51, 51, 64); color: rgb(204, 204, 204); background: rgb(16, 16, 26);\">pv</code> -&gt; <code style=\"border: 1px solid rgb(51, 51, 64); color: rgb(204, 204, 204); background: rgb(16, 16, 26);\"><em style=\"border-color: rgb(255, 255, 255); color: rgb(255, 255, 255); text-shadow: rgb(255, 255, 255) 0px 0px 5px;\">A</em></code></li>\n",
    "<li style=\"border-color: rgb(204, 204, 204); color: rgb(204, 204, 204);\"><code style=\"border: 1px solid rgb(51, 51, 64); color: rgb(204, 204, 204); background: rgb(16, 16, 26);\">{x=2461,m=1339,a=466,s=291}</code>: <code style=\"border: 1px solid rgb(51, 51, 64); color: rgb(204, 204, 204); background: rgb(16, 16, 26);\">in</code> -&gt; <code style=\"border: 1px solid rgb(51, 51, 64); color: rgb(204, 204, 204); background: rgb(16, 16, 26);\">px</code> -&gt; <code style=\"border: 1px solid rgb(51, 51, 64); color: rgb(204, 204, 204); background: rgb(16, 16, 26);\">qkq</code> -&gt; <code style=\"border: 1px solid rgb(51, 51, 64); color: rgb(204, 204, 204); background: rgb(16, 16, 26);\">crn</code> -&gt; <code style=\"border: 1px solid rgb(51, 51, 64); color: rgb(204, 204, 204); background: rgb(16, 16, 26);\"><em style=\"border-color: rgb(255, 255, 255); color: rgb(255, 255, 255); text-shadow: rgb(255, 255, 255) 0px 0px 5px;\">R</em></code></li>\n",
    "<li style=\"border-color: rgb(204, 204, 204); color: rgb(204, 204, 204);\"><code style=\"border: 1px solid rgb(51, 51, 64); color: rgb(204, 204, 204); background: rgb(16, 16, 26);\">{x=2127,m=1623,a=2188,s=1013}</code>: <code style=\"border: 1px solid rgb(51, 51, 64); color: rgb(204, 204, 204); background: rgb(16, 16, 26);\">in</code> -&gt; <code style=\"border: 1px solid rgb(51, 51, 64); color: rgb(204, 204, 204); background: rgb(16, 16, 26);\">px</code> -&gt; <code style=\"border: 1px solid rgb(51, 51, 64); color: rgb(204, 204, 204); background: rgb(16, 16, 26);\">rfg</code> -&gt; <code style=\"border: 1px solid rgb(51, 51, 64); color: rgb(204, 204, 204); background: rgb(16, 16, 26);\"><em style=\"border-color: rgb(255, 255, 255); color: rgb(255, 255, 255); text-shadow: rgb(255, 255, 255) 0px 0px 5px;\">A</em></code></li>\n",
    "</ul>\n",
    "<p style=\"border-color: rgb(204, 204, 204); color: rgb(204, 204, 204);\">Ultimately, three parts are <em style=\"border-color: rgb(255, 255, 255); color: rgb(255, 255, 255); text-shadow: rgb(255, 255, 255) 0px 0px 5px;\">accepted</em>. Adding up the <code style=\"border: 1px solid rgb(51, 51, 64); color: rgb(204, 204, 204); background: rgb(16, 16, 26);\">x</code>, <code style=\"border: 1px solid rgb(51, 51, 64); color: rgb(204, 204, 204); background: rgb(16, 16, 26);\">m</code>, <code style=\"border: 1px solid rgb(51, 51, 64); color: rgb(204, 204, 204); background: rgb(16, 16, 26);\">a</code>, and <code style=\"border: 1px solid rgb(51, 51, 64); color: rgb(204, 204, 204); background: rgb(16, 16, 26);\">s</code> rating for each of the accepted parts gives <code style=\"border: 1px solid rgb(51, 51, 64); color: rgb(204, 204, 204); background: rgb(16, 16, 26);\">7540</code> for the part with <code style=\"border: 1px solid rgb(51, 51, 64); color: rgb(204, 204, 204); background: rgb(16, 16, 26);\">x=787</code>, <code style=\"border: 1px solid rgb(51, 51, 64); color: rgb(204, 204, 204); background: rgb(16, 16, 26);\">4623</code> for the part with <code style=\"border: 1px solid rgb(51, 51, 64); color: rgb(204, 204, 204); background: rgb(16, 16, 26);\">x=2036</code>, and <code style=\"border: 1px solid rgb(51, 51, 64); color: rgb(204, 204, 204); background: rgb(16, 16, 26);\">6951</code> for the part with <code style=\"border: 1px solid rgb(51, 51, 64); color: rgb(204, 204, 204); background: rgb(16, 16, 26);\">x=2127</code>. Adding all of the ratings for <em style=\"border-color: rgb(255, 255, 255); color: rgb(255, 255, 255); text-shadow: rgb(255, 255, 255) 0px 0px 5px;\">all</em> of the accepted parts gives the sum total of <code style=\"border: 1px solid rgb(51, 51, 64); color: rgb(204, 204, 204); background: rgb(16, 16, 26);\"><em style=\"border-color: rgb(255, 255, 255); color: rgb(255, 255, 255); text-shadow: rgb(255, 255, 255) 0px 0px 5px;\">19114</em></code>.</p>\n",
    "<p style=\"border-color: rgb(204, 204, 204); color: rgb(204, 204, 204);\">Sort through all of the parts you've been given; <em style=\"border-color: rgb(255, 255, 255); color: rgb(255, 255, 255); text-shadow: rgb(255, 255, 255) 0px 0px 5px;\">what do you get if you add together all of the rating numbers for all of the parts that ultimately get accepted?</em></p>\n",
    "</div>"
   ]
  },
  {
   "cell_type": "code",
   "execution_count": 2,
   "id": "9d72a8f4",
   "metadata": {},
   "outputs": [],
   "source": [
    "import sys\n",
    "sys.path.append(\"../../common\")"
   ]
  },
  {
   "cell_type": "code",
   "execution_count": 27,
   "id": "62b0ec11",
   "metadata": {},
   "outputs": [],
   "source": [
    "from aoc import *\n",
    "from copy import deepcopy\n",
    "import numpy as np\n",
    "import re"
   ]
  },
  {
   "cell_type": "code",
   "execution_count": 28,
   "id": "a949b336",
   "metadata": {},
   "outputs": [],
   "source": [
    "with open(\"./puzzle_inputs/19.txt\") as f:\n",
    "    inp = f.read()"
   ]
  },
  {
   "cell_type": "code",
   "execution_count": 42,
   "id": "84938d95-406c-472f-9eb5-6afc7ec0a209",
   "metadata": {},
   "outputs": [],
   "source": [
    "def check_part(part, workflow=\"in\"):\n",
    "\t*rules, default = workflow_rules[workflow]\n",
    "\tfor (cond, to) in rules:\n",
    "\t\tif eval(cond):\n",
    "\t\t\tif to in workflow_rules:\n",
    "\t\t\t\treturn check_part(part, to)\n",
    "\t\t\telse:\n",
    "\t\t\t\treturn to == 'A'\n",
    "\tif default in workflow_rules:\n",
    "\t\treturn check_part(part, default)\n",
    "\treturn default == 'A'"
   ]
  },
  {
   "cell_type": "code",
   "execution_count": 43,
   "id": "c6312c8e-7392-4af0-9971-baac87e060c5",
   "metadata": {},
   "outputs": [],
   "source": [
    "inpa, inpb = inp.strip().split('\\n\\n')\n",
    "workflow_rules = {}\n",
    "for line in inpa.split('\\n'):\n",
    "    name, rules = line[:-1].split('{')\n",
    "    default = rules.split(',')[-1]\n",
    "\n",
    "    info = {'x': 5000, 'm': 123, 'a': 34, 's': 234}\n",
    "\n",
    "    workflow_rules[name] = []\n",
    "    for rule in rules.split(',')[:-1]:\n",
    "        cond, to = rule.split(':')\n",
    "        # cond = cond.replace('=', '==')\n",
    "        cond = f\"part['{cond[0]}']\" + cond[1:]\n",
    "        workflow_rules[name].append((cond, to))\n",
    "    workflow_rules[name].append(default)"
   ]
  },
  {
   "cell_type": "code",
   "execution_count": 44,
   "id": "c5ec54a2-8a1c-4edb-b055-e544c71e95eb",
   "metadata": {},
   "outputs": [
    {
     "data": {
      "text/plain": [
       "348378"
      ]
     },
     "execution_count": 44,
     "metadata": {},
     "output_type": "execute_result"
    }
   ],
   "source": [
    "ans = 0\n",
    "for part in inpb.strip().split('\\n'):\n",
    "\tpart = dict(re.findall('(\\w+)=(\\d+)', part))\n",
    "\tfor k, v in part.items():\n",
    "\t\tpart[k] = int(v)\n",
    "\tif not check_part(part):\n",
    "\t\tcontinue\n",
    "\tans += sum(part.values())\n",
    "ans"
   ]
  },
  {
   "cell_type": "markdown",
   "id": "4158c59f-93d2-453b-b62e-56e14fe59cf1",
   "metadata": {},
   "source": [
    "<div style=\"background-color: rgb(15, 15, 35); border: 1px solid rgb(255, 255, 255); color: rgb(204, 204, 204); font-family: monospace; margin-left: -5px; margin-right: -20px; padding: 1rem;\"><h2 id=\"part2\" style=\"border-color: rgb(255, 255, 255); color: rgb(255, 255, 255);\">--- Part Two ---</h2><p style=\"border-color: rgb(204, 204, 204); color: rgb(204, 204, 204);\">Even with your help, the sorting process <em style=\"border-color: rgb(255, 255, 255); color: rgb(255, 255, 255); text-shadow: rgb(255, 255, 255) 0px 0px 5px;\">still</em> isn't fast enough.</p>\n",
    "<p style=\"border-color: rgb(204, 204, 204); color: rgb(204, 204, 204);\">One of the Elves comes up with a new plan: rather than sort parts individually through all of these workflows, maybe you can figure out in advance which combinations of ratings will be accepted or rejected.</p>\n",
    "<p style=\"border-color: rgb(204, 204, 204); color: rgb(204, 204, 204);\">Each of the four ratings (<code style=\"border: 1px solid rgb(51, 51, 64); color: rgb(204, 204, 204); background: rgb(16, 16, 26);\">x</code>, <code style=\"border: 1px solid rgb(51, 51, 64); color: rgb(204, 204, 204); background: rgb(16, 16, 26);\">m</code>, <code style=\"border: 1px solid rgb(51, 51, 64); color: rgb(204, 204, 204); background: rgb(16, 16, 26);\">a</code>, <code style=\"border: 1px solid rgb(51, 51, 64); color: rgb(204, 204, 204); background: rgb(16, 16, 26);\">s</code>) can have an integer value ranging from a minimum of <code style=\"border: 1px solid rgb(51, 51, 64); color: rgb(204, 204, 204); background: rgb(16, 16, 26);\">1</code> to a maximum of <code style=\"border: 1px solid rgb(51, 51, 64); color: rgb(204, 204, 204); background: rgb(16, 16, 26);\">4000</code>. Of <em style=\"border-color: rgb(255, 255, 255); color: rgb(255, 255, 255); text-shadow: rgb(255, 255, 255) 0px 0px 5px;\">all possible distinct combinations</em> of ratings, your job is to figure out which ones will be <em style=\"border-color: rgb(255, 255, 255); color: rgb(255, 255, 255); text-shadow: rgb(255, 255, 255) 0px 0px 5px;\">accepted</em>.</p>\n",
    "<p style=\"border-color: rgb(204, 204, 204); color: rgb(204, 204, 204);\">In the above example, there are <code style=\"border: 1px solid rgb(51, 51, 64); color: rgb(204, 204, 204); background: rgb(16, 16, 26);\"><em style=\"border-color: rgb(255, 255, 255); color: rgb(255, 255, 255); text-shadow: rgb(255, 255, 255) 0px 0px 5px;\">167409079868000</em></code> distinct combinations of ratings that will be accepted.</p>\n",
    "<p style=\"border-color: rgb(204, 204, 204); color: rgb(204, 204, 204);\">Consider only your list of workflows; the list of part ratings that the Elves wanted you to sort is no longer relevant. <em style=\"border-color: rgb(255, 255, 255); color: rgb(255, 255, 255); text-shadow: rgb(255, 255, 255) 0px 0px 5px;\">How many distinct combinations of ratings will be accepted by the Elves' workflows?</em></p>\n",
    "</div>"
   ]
  },
  {
   "cell_type": "code",
   "execution_count": 49,
   "id": "8b4ab20e-33a3-4a86-b50d-884f0a14054f",
   "metadata": {},
   "outputs": [],
   "source": [
    "workflow_rules = {}\n",
    "for line in inpa.split('\\n'):\n",
    "\tname, rules = line[:-1].split('{')\n",
    "\tdefault = rules.split(',')[-1]\n",
    "\n",
    "\tworkflow_rules[name] = []\n",
    "\tfor rule in rules.split(',')[:-1]:\n",
    "\t\tcond, to = rule.split(':')\n",
    "\t\tcond = re.split('([<=>])', cond)\n",
    "\t\tcond[-1] = int(cond[-1])\n",
    "\t\tworkflow_rules[name].append((cond, to))\n",
    "\tworkflow_rules[name].append(default)"
   ]
  },
  {
   "cell_type": "code",
   "execution_count": 101,
   "id": "c556d7fa-e92b-476b-870a-06252a02006a",
   "metadata": {},
   "outputs": [],
   "source": [
    "def combs(part):\n",
    "\tresult = 1\n",
    "\tfor ranges in part.values():\n",
    "\t\tn = 0\n",
    "\t\tfor a, b in ranges:\n",
    "\t\t\tn += b-a+1\n",
    "\t\tresult *= n\n",
    "\treturn result\n",
    "\n",
    "\n",
    "def intersect(a, b):\n",
    "\tif a[0] > a[1] or b[0] > b[1]:\n",
    "\t\treturn None\n",
    "\tif b[0] < a[0]:\n",
    "\t\ta, b = b, a\n",
    "\tif b[1] < a[0]:\n",
    "\t\treturn None\n",
    "\treturn (max(a[0], b[0]), min(a[1], b[1]))\n",
    "\n",
    "\n",
    "def difference(a, b):\n",
    "\tif a[0] > a[1]:\n",
    "\t\treturn None\n",
    "\tif b[0] > b[1]:\n",
    "\t\treturn a\n",
    "\tif b[1] < a[0] or b[0] > a[1]:\n",
    "\t\treturn a\n",
    "\tif b[0] <= a[0] and b[1] >= a[1]:\n",
    "\t\treturn []\n",
    "\tif b[0] > a[0] and b[1] < a[1]: # b is inside of a\n",
    "\t\treturn [\n",
    "\t\t\t(a[0], b[0]-1),\n",
    "\t\t\t(b[1]+1, a[1])\n",
    "\t\t]\n",
    "\tif b[0] <= a[0]:\n",
    "\t\treturn [(b[1]+1, a[1])]\n",
    "\tif b[1] >= a[1]:\n",
    "\t\treturn [(a[0], b[0]-1)]\n",
    "\traise Exception()\n",
    "\n",
    "def branch(part, key, op, value):\n",
    "\tif op == '<':\n",
    "\t\tvalid = (1, value-1)\n",
    "\telif op == '>':\n",
    "\t\tvalid = (value+1, 4001)\n",
    "\telif op == '=':\n",
    "\t\tvalid = (value, value)\n",
    "\telse:\n",
    "\t\traise Exception(\"Unknown op\", op)\n",
    "\ta = deepcopy(part)\n",
    "\tb = part\n",
    "\ta[key] = [intersect(v, valid) for v in a[key]]\n",
    "\tb[key] = [d for v in b[key] for d in difference(v, valid)]\n",
    "\treturn a, b\n",
    "\n",
    "def count(part, workflow):\n",
    "    if workflow == 'A':\n",
    "        return combs(part)\n",
    "    elif workflow == 'R':\n",
    "        return 0\n",
    "    *rules, default = workflow_rules[workflow]\n",
    "    result = 0\n",
    "    for ((k, op, value), to) in rules:\n",
    "        a, b = branch(part, k, op, value)\n",
    "        result += count(a, to)\n",
    "        part = b\n",
    "    return result + count(part, default)"
   ]
  },
  {
   "cell_type": "code",
   "execution_count": 102,
   "id": "103c85ec-b4ee-4fae-b230-3d73d73dc1dd",
   "metadata": {},
   "outputs": [
    {
     "name": "stdout",
     "output_type": "stream",
     "text": [
      "121158073425385\n"
     ]
    }
   ],
   "source": [
    "print(count({k: [(1, 4000)] for k in \"xmas\"}, \"in\"))"
   ]
  },
  {
   "cell_type": "code",
   "execution_count": null,
   "id": "4ca39bd9-ad20-49c9-bc08-89c766885b9c",
   "metadata": {},
   "outputs": [],
   "source": []
  }
 ],
 "metadata": {
  "kernelspec": {
   "display_name": "Python 3 (ipykernel)",
   "language": "python",
   "name": "python3"
  },
  "language_info": {
   "codemirror_mode": {
    "name": "ipython",
    "version": 3
   },
   "file_extension": ".py",
   "mimetype": "text/x-python",
   "name": "python",
   "nbconvert_exporter": "python",
   "pygments_lexer": "ipython3",
   "version": "3.11.6"
  }
 },
 "nbformat": 4,
 "nbformat_minor": 5
}
