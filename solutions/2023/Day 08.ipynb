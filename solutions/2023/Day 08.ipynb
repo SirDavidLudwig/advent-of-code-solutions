{
 "cells": [
  {
   "cell_type": "code",
   "execution_count": 1,
   "id": "9d72a8f4",
   "metadata": {},
   "outputs": [],
   "source": [
    "import sys\n",
    "sys.path.append(\"../../common\")"
   ]
  },
  {
   "cell_type": "code",
   "execution_count": 2,
   "id": "62b0ec11",
   "metadata": {},
   "outputs": [],
   "source": [
    "from aoc import *\n",
    "import numpy as np\n",
    "import re"
   ]
  },
  {
   "cell_type": "code",
   "execution_count": 3,
   "id": "a949b336",
   "metadata": {},
   "outputs": [],
   "source": [
    "with open(\"./puzzle_inputs/08.txt\") as f:\n",
    "    lines = f.readlines()"
   ]
  },
  {
   "cell_type": "code",
   "execution_count": 17,
   "id": "53f3cec9-5096-4cdf-a8a1-7b96c47d824a",
   "metadata": {},
   "outputs": [],
   "source": [
    "moves = lines[0].strip()"
   ]
  },
  {
   "cell_type": "code",
   "execution_count": 14,
   "id": "f0b02b1e-35db-47dd-8560-cf0b7ba4b595",
   "metadata": {},
   "outputs": [],
   "source": [
    "dest = {}\n",
    "for line in lines[2:]:\n",
    "    a, b, c = re.findall(r'\\w+', line.strip())\n",
    "    dest[a] = (b, c)"
   ]
  },
  {
   "cell_type": "code",
   "execution_count": 21,
   "id": "5117ce94-9b5f-4058-b979-eaadc6ade59d",
   "metadata": {},
   "outputs": [
    {
     "data": {
      "text/plain": [
       "11567"
      ]
     },
     "execution_count": 21,
     "metadata": {},
     "output_type": "execute_result"
    }
   ],
   "source": [
    "current = \"AAA\"\n",
    "i = 0\n",
    "n = 0\n",
    "while current != \"ZZZ\":\n",
    "    m = moves[i]\n",
    "    current = dest[current][m == \"R\"]\n",
    "    i = (i + 1) % len(moves)\n",
    "    n += 1\n",
    "n"
   ]
  },
  {
   "cell_type": "code",
   "execution_count": 35,
   "id": "a417ab6b-2bad-40ba-bc4b-22d3512322b1",
   "metadata": {},
   "outputs": [
    {
     "data": {
      "text/plain": [
       "6"
      ]
     },
     "execution_count": 35,
     "metadata": {},
     "output_type": "execute_result"
    }
   ],
   "source": [
    "starts = [i for i in dest if i.endswith(\"A\")]\n",
    "len(starts)"
   ]
  },
  {
   "cell_type": "code",
   "execution_count": 37,
   "id": "9b218c77-8d34-4d21-8de5-bf1f46b33d60",
   "metadata": {},
   "outputs": [
    {
     "data": {
      "text/plain": [
       "[11567, 21251, 12643, 16409, 19099, 14257]"
      ]
     },
     "execution_count": 37,
     "metadata": {},
     "output_type": "execute_result"
    }
   ],
   "source": [
    "nums = []\n",
    "for start in starts:\n",
    "    current = start\n",
    "    i = 0\n",
    "    n = 0\n",
    "    while not current.endswith(\"Z\"):\n",
    "        m = moves[i]\n",
    "        current = dest[current][m == \"R\"]\n",
    "        i = (i + 1) % len(moves)\n",
    "        n += 1\n",
    "    nums.append(n)\n",
    "nums"
   ]
  },
  {
   "cell_type": "code",
   "execution_count": 46,
   "id": "c49f14e4-2751-4ed5-97e2-ce5f65f49c1e",
   "metadata": {},
   "outputs": [
    {
     "data": {
      "text/plain": [
       "9858474970153"
      ]
     },
     "execution_count": 46,
     "metadata": {},
     "output_type": "execute_result"
    }
   ],
   "source": [
    "np.lcm.reduce(nums)"
   ]
  },
  {
   "cell_type": "code",
   "execution_count": null,
   "id": "ba55d62d-3bf5-4e4c-883c-50b0d2f0c7f5",
   "metadata": {},
   "outputs": [],
   "source": []
  }
 ],
 "metadata": {
  "kernelspec": {
   "display_name": "Python 3 (ipykernel)",
   "language": "python",
   "name": "python3"
  },
  "language_info": {
   "codemirror_mode": {
    "name": "ipython",
    "version": 3
   },
   "file_extension": ".py",
   "mimetype": "text/x-python",
   "name": "python",
   "nbconvert_exporter": "python",
   "pygments_lexer": "ipython3",
   "version": "3.11.6"
  }
 },
 "nbformat": 4,
 "nbformat_minor": 5
}
