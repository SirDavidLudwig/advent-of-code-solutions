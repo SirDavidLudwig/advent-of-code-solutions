{
 "cells": [
  {
   "cell_type": "markdown",
   "id": "93a3843c-61a9-4c5e-a1dc-5a73af9181cc",
   "metadata": {},
   "source": [
    "<div style=\"background-color: rgb(15, 15, 35); border: 1px solid rgb(255, 255, 255); color: rgb(204, 204, 204); font-family: monospace; margin-left: -5px; margin-right: -20px; padding: 1rem;\"><h2 style=\"border-color: rgb(255, 255, 255); color: rgb(255, 255, 255);\">--- Day 5: If You Give A Seed A Fertilizer ---</h2><p style=\"border-color: rgb(204, 204, 204); color: rgb(204, 204, 204);\">You take the boat and find the gardener right where you were told he would be: managing a giant \"garden\" that looks more to you like a farm.</p>\n",
    "<p style=\"border-color: rgb(204, 204, 204); color: rgb(204, 204, 204);\">\"A water source? Island Island <em style=\"border-color: rgb(255, 255, 255); color: rgb(255, 255, 255); text-shadow: rgb(255, 255, 255) 0px 0px 5px;\">is</em> the water source!\" You point out that Snow Island isn't receiving any water.</p>\n",
    "<p style=\"border-color: rgb(204, 204, 204); color: rgb(204, 204, 204);\">\"Oh, we had to stop the water because we <em style=\"border-color: rgb(255, 255, 255); color: rgb(255, 255, 255); text-shadow: rgb(255, 255, 255) 0px 0px 5px;\">ran out of sand</em> to <a href=\"https://en.wikipedia.org/wiki/Sand_filter\" target=\"_blank\" style=\"border-color: rgb(0, 153, 0); color: rgb(0, 153, 0);\">filter</a> it with! Can't make snow with dirty water. Don't worry, I'm sure we'll get more sand soon; we only turned off the water a few days... weeks... oh no.\" His face sinks into a look of horrified realization.</p>\n",
    "<p style=\"border-color: rgb(204, 204, 204); color: rgb(204, 204, 204);\">\"I've been so busy making sure everyone here has food that I completely forgot to check why we stopped getting more sand! There's a ferry leaving soon that is headed over in that direction - it's much faster than your boat. Could you please go check it out?\"</p>\n",
    "<p style=\"border-color: rgb(204, 204, 204); color: rgb(204, 204, 204);\">You barely have time to agree to this request when he brings up another. \"While you wait for the ferry, maybe you can help us with our <em style=\"border-color: rgb(255, 255, 255); color: rgb(255, 255, 255); text-shadow: rgb(255, 255, 255) 0px 0px 5px;\">food production problem</em>. The latest Island Island <a href=\"https://en.wikipedia.org/wiki/Almanac\" target=\"_blank\" style=\"border-color: rgb(0, 153, 0); color: rgb(0, 153, 0);\">Almanac</a> just arrived and we're having trouble making sense of it.\"</p>\n",
    "<p style=\"border-color: rgb(204, 204, 204); color: rgb(204, 204, 204);\">The almanac (your puzzle input) lists all of the seeds that need to be planted. It also lists what type of soil to use with each kind of seed, what type of fertilizer to use with each kind of soil, what type of water to use with each kind of fertilizer, and so on. Every type of seed, soil, fertilizer and so on is identified with a number, but numbers are reused by each category - that is, soil <code style=\"border: 1px solid rgb(51, 51, 64); color: rgb(204, 204, 204); background: rgb(16, 16, 26);\">123</code> and fertilizer <code style=\"border: 1px solid rgb(51, 51, 64); color: rgb(204, 204, 204); background: rgb(16, 16, 26);\">123</code> aren't necessarily related to each other.</p>\n",
    "<p style=\"border-color: rgb(204, 204, 204); color: rgb(204, 204, 204);\">For example:</p>\n",
    "<pre style=\"border: 1px solid rgb(51, 51, 64); color: rgb(204, 204, 204); background-color: rgb(16, 16, 26); display: inline-block;\"><code style=\"border-color: rgb(204, 204, 204); color: rgb(204, 204, 204); background-color: rgb(16, 16, 26);\">seeds: 79 14 55 13\n",
    "\n",
    "seed-to-soil map:\n",
    "50 98 2\n",
    "52 50 48\n",
    "\n",
    "soil-to-fertilizer map:\n",
    "0 15 37\n",
    "37 52 2\n",
    "39 0 15\n",
    "\n",
    "fertilizer-to-water map:\n",
    "49 53 8\n",
    "0 11 42\n",
    "42 0 7\n",
    "57 7 4\n",
    "\n",
    "water-to-light map:\n",
    "88 18 7\n",
    "18 25 70\n",
    "\n",
    "light-to-temperature map:\n",
    "45 77 23\n",
    "81 45 19\n",
    "68 64 13\n",
    "\n",
    "temperature-to-humidity map:\n",
    "0 69 1\n",
    "1 0 69\n",
    "\n",
    "humidity-to-location map:\n",
    "60 56 37\n",
    "56 93 4\n",
    "</code></pre>\n",
    "<p style=\"border-color: rgb(204, 204, 204); color: rgb(204, 204, 204);\">The almanac starts by listing which seeds need to be planted: seeds <code style=\"border: 1px solid rgb(51, 51, 64); color: rgb(204, 204, 204); background: rgb(16, 16, 26);\">79</code>, <code style=\"border: 1px solid rgb(51, 51, 64); color: rgb(204, 204, 204); background: rgb(16, 16, 26);\">14</code>, <code style=\"border: 1px solid rgb(51, 51, 64); color: rgb(204, 204, 204); background: rgb(16, 16, 26);\">55</code>, and <code style=\"border: 1px solid rgb(51, 51, 64); color: rgb(204, 204, 204); background: rgb(16, 16, 26);\">13</code>.</p>\n",
    "<p style=\"border-color: rgb(204, 204, 204); color: rgb(204, 204, 204);\">The rest of the almanac contains a list of <em style=\"border-color: rgb(255, 255, 255); color: rgb(255, 255, 255); text-shadow: rgb(255, 255, 255) 0px 0px 5px;\">maps</em> which describe how to convert numbers from a <em style=\"border-color: rgb(255, 255, 255); color: rgb(255, 255, 255); text-shadow: rgb(255, 255, 255) 0px 0px 5px;\">source category</em> into numbers in a <em style=\"border-color: rgb(255, 255, 255); color: rgb(255, 255, 255); text-shadow: rgb(255, 255, 255) 0px 0px 5px;\">destination category</em>. That is, the section that starts with <code style=\"border: 1px solid rgb(51, 51, 64); color: rgb(204, 204, 204); background: rgb(16, 16, 26);\">seed-to-soil map:</code> describes how to convert a <em style=\"border-color: rgb(255, 255, 255); color: rgb(255, 255, 255); text-shadow: rgb(255, 255, 255) 0px 0px 5px;\">seed number</em> (the source) to a <em style=\"border-color: rgb(255, 255, 255); color: rgb(255, 255, 255); text-shadow: rgb(255, 255, 255) 0px 0px 5px;\">soil number</em> (the destination). This lets the gardener and his team know which soil to use with which seeds, which water to use with which fertilizer, and so on.</p>\n",
    "<p style=\"border-color: rgb(204, 204, 204); color: rgb(204, 204, 204);\">Rather than list every source number and its corresponding destination number one by one, the maps describe entire <em style=\"border-color: rgb(255, 255, 255); color: rgb(255, 255, 255); text-shadow: rgb(255, 255, 255) 0px 0px 5px;\">ranges</em> of numbers that can be converted. Each line within a map contains <span title=\"Don't blame me for the weird order. Blame LXC container.conf UID mappings.\" style=\"border-color: rgb(204, 204, 204); color: rgb(204, 204, 204);\">three numbers</span>: the <em style=\"border-color: rgb(255, 255, 255); color: rgb(255, 255, 255); text-shadow: rgb(255, 255, 255) 0px 0px 5px;\">destination range start</em>, the <em style=\"border-color: rgb(255, 255, 255); color: rgb(255, 255, 255); text-shadow: rgb(255, 255, 255) 0px 0px 5px;\">source range start</em>, and the <em style=\"border-color: rgb(255, 255, 255); color: rgb(255, 255, 255); text-shadow: rgb(255, 255, 255) 0px 0px 5px;\">range length</em>.</p>\n",
    "<p style=\"border-color: rgb(204, 204, 204); color: rgb(204, 204, 204);\">Consider again the example <code style=\"border: 1px solid rgb(51, 51, 64); color: rgb(204, 204, 204); background: rgb(16, 16, 26);\">seed-to-soil map</code>:</p>\n",
    "<pre style=\"border: 1px solid rgb(51, 51, 64); color: rgb(204, 204, 204); background-color: rgb(16, 16, 26); display: inline-block;\"><code style=\"border-color: rgb(204, 204, 204); color: rgb(204, 204, 204); background-color: rgb(16, 16, 26);\">50 98 2\n",
    "52 50 48\n",
    "</code></pre>\n",
    "<p style=\"border-color: rgb(204, 204, 204); color: rgb(204, 204, 204);\">The first line has a <em style=\"border-color: rgb(255, 255, 255); color: rgb(255, 255, 255); text-shadow: rgb(255, 255, 255) 0px 0px 5px;\">destination range start</em> of <code style=\"border: 1px solid rgb(51, 51, 64); color: rgb(204, 204, 204); background: rgb(16, 16, 26);\">50</code>, a <em style=\"border-color: rgb(255, 255, 255); color: rgb(255, 255, 255); text-shadow: rgb(255, 255, 255) 0px 0px 5px;\">source range start</em> of <code style=\"border: 1px solid rgb(51, 51, 64); color: rgb(204, 204, 204); background: rgb(16, 16, 26);\">98</code>, and a <em style=\"border-color: rgb(255, 255, 255); color: rgb(255, 255, 255); text-shadow: rgb(255, 255, 255) 0px 0px 5px;\">range length</em> of <code style=\"border: 1px solid rgb(51, 51, 64); color: rgb(204, 204, 204); background: rgb(16, 16, 26);\">2</code>. This line means that the source range starts at <code style=\"border: 1px solid rgb(51, 51, 64); color: rgb(204, 204, 204); background: rgb(16, 16, 26);\">98</code> and contains two values: <code style=\"border: 1px solid rgb(51, 51, 64); color: rgb(204, 204, 204); background: rgb(16, 16, 26);\">98</code> and <code style=\"border: 1px solid rgb(51, 51, 64); color: rgb(204, 204, 204); background: rgb(16, 16, 26);\">99</code>. The destination range is the same length, but it starts at <code style=\"border: 1px solid rgb(51, 51, 64); color: rgb(204, 204, 204); background: rgb(16, 16, 26);\">50</code>, so its two values are <code style=\"border: 1px solid rgb(51, 51, 64); color: rgb(204, 204, 204); background: rgb(16, 16, 26);\">50</code> and <code style=\"border: 1px solid rgb(51, 51, 64); color: rgb(204, 204, 204); background: rgb(16, 16, 26);\">51</code>. With this information, you know that seed number <code style=\"border: 1px solid rgb(51, 51, 64); color: rgb(204, 204, 204); background: rgb(16, 16, 26);\">98</code> corresponds to soil number <code style=\"border: 1px solid rgb(51, 51, 64); color: rgb(204, 204, 204); background: rgb(16, 16, 26);\">50</code> and that seed number <code style=\"border: 1px solid rgb(51, 51, 64); color: rgb(204, 204, 204); background: rgb(16, 16, 26);\">99</code> corresponds to soil number <code style=\"border: 1px solid rgb(51, 51, 64); color: rgb(204, 204, 204); background: rgb(16, 16, 26);\">51</code>.</p>\n",
    "<p style=\"border-color: rgb(204, 204, 204); color: rgb(204, 204, 204);\">The second line means that the source range starts at <code style=\"border: 1px solid rgb(51, 51, 64); color: rgb(204, 204, 204); background: rgb(16, 16, 26);\">50</code> and contains <code style=\"border: 1px solid rgb(51, 51, 64); color: rgb(204, 204, 204); background: rgb(16, 16, 26);\">48</code> values: <code style=\"border: 1px solid rgb(51, 51, 64); color: rgb(204, 204, 204); background: rgb(16, 16, 26);\">50</code>, <code style=\"border: 1px solid rgb(51, 51, 64); color: rgb(204, 204, 204); background: rgb(16, 16, 26);\">51</code>, ..., <code style=\"border: 1px solid rgb(51, 51, 64); color: rgb(204, 204, 204); background: rgb(16, 16, 26);\">96</code>, <code style=\"border: 1px solid rgb(51, 51, 64); color: rgb(204, 204, 204); background: rgb(16, 16, 26);\">97</code>. This corresponds to a destination range starting at <code style=\"border: 1px solid rgb(51, 51, 64); color: rgb(204, 204, 204); background: rgb(16, 16, 26);\">52</code> and also containing <code style=\"border: 1px solid rgb(51, 51, 64); color: rgb(204, 204, 204); background: rgb(16, 16, 26);\">48</code> values: <code style=\"border: 1px solid rgb(51, 51, 64); color: rgb(204, 204, 204); background: rgb(16, 16, 26);\">52</code>, <code style=\"border: 1px solid rgb(51, 51, 64); color: rgb(204, 204, 204); background: rgb(16, 16, 26);\">53</code>, ..., <code style=\"border: 1px solid rgb(51, 51, 64); color: rgb(204, 204, 204); background: rgb(16, 16, 26);\">98</code>, <code style=\"border: 1px solid rgb(51, 51, 64); color: rgb(204, 204, 204); background: rgb(16, 16, 26);\">99</code>. So, seed number <code style=\"border: 1px solid rgb(51, 51, 64); color: rgb(204, 204, 204); background: rgb(16, 16, 26);\">53</code> corresponds to soil number <code style=\"border: 1px solid rgb(51, 51, 64); color: rgb(204, 204, 204); background: rgb(16, 16, 26);\">55</code>.</p>\n",
    "<p style=\"border-color: rgb(204, 204, 204); color: rgb(204, 204, 204);\">Any source numbers that <em style=\"border-color: rgb(255, 255, 255); color: rgb(255, 255, 255); text-shadow: rgb(255, 255, 255) 0px 0px 5px;\">aren't mapped</em> correspond to the <em style=\"border-color: rgb(255, 255, 255); color: rgb(255, 255, 255); text-shadow: rgb(255, 255, 255) 0px 0px 5px;\">same</em> destination number. So, seed number <code style=\"border: 1px solid rgb(51, 51, 64); color: rgb(204, 204, 204); background: rgb(16, 16, 26);\">10</code> corresponds to soil number <code style=\"border: 1px solid rgb(51, 51, 64); color: rgb(204, 204, 204); background: rgb(16, 16, 26);\">10</code>.</p>\n",
    "<p style=\"border-color: rgb(204, 204, 204); color: rgb(204, 204, 204);\">So, the entire list of seed numbers and their corresponding soil numbers looks like this:</p>\n",
    "<pre style=\"border: 1px solid rgb(51, 51, 64); color: rgb(204, 204, 204); background-color: rgb(16, 16, 26); display: inline-block;\"><code style=\"border-color: rgb(204, 204, 204); color: rgb(204, 204, 204); background-color: rgb(16, 16, 26);\">seed  soil\n",
    "0     0\n",
    "1     1\n",
    "...   ...\n",
    "48    48\n",
    "49    49\n",
    "50    52\n",
    "51    53\n",
    "...   ...\n",
    "96    98\n",
    "97    99\n",
    "98    50\n",
    "99    51\n",
    "</code></pre>\n",
    "<p style=\"border-color: rgb(204, 204, 204); color: rgb(204, 204, 204);\">With this map, you can look up the soil number required for each initial seed number:</p>\n",
    "<ul style=\"border-color: rgb(204, 204, 204); color: rgb(204, 204, 204);\">\n",
    "<li style=\"border-color: rgb(204, 204, 204); color: rgb(204, 204, 204);\">Seed number <code style=\"border: 1px solid rgb(51, 51, 64); color: rgb(204, 204, 204); background: rgb(16, 16, 26);\">79</code> corresponds to soil number <code style=\"border: 1px solid rgb(51, 51, 64); color: rgb(204, 204, 204); background: rgb(16, 16, 26);\">81</code>.</li>\n",
    "<li style=\"border-color: rgb(204, 204, 204); color: rgb(204, 204, 204);\">Seed number <code style=\"border: 1px solid rgb(51, 51, 64); color: rgb(204, 204, 204); background: rgb(16, 16, 26);\">14</code> corresponds to soil number <code style=\"border: 1px solid rgb(51, 51, 64); color: rgb(204, 204, 204); background: rgb(16, 16, 26);\">14</code>.</li>\n",
    "<li style=\"border-color: rgb(204, 204, 204); color: rgb(204, 204, 204);\">Seed number <code style=\"border: 1px solid rgb(51, 51, 64); color: rgb(204, 204, 204); background: rgb(16, 16, 26);\">55</code> corresponds to soil number <code style=\"border: 1px solid rgb(51, 51, 64); color: rgb(204, 204, 204); background: rgb(16, 16, 26);\">57</code>.</li>\n",
    "<li style=\"border-color: rgb(204, 204, 204); color: rgb(204, 204, 204);\">Seed number <code style=\"border: 1px solid rgb(51, 51, 64); color: rgb(204, 204, 204); background: rgb(16, 16, 26);\">13</code> corresponds to soil number <code style=\"border: 1px solid rgb(51, 51, 64); color: rgb(204, 204, 204); background: rgb(16, 16, 26);\">13</code>.</li>\n",
    "</ul>\n",
    "<p style=\"border-color: rgb(204, 204, 204); color: rgb(204, 204, 204);\">The gardener and his team want to get started as soon as possible, so they'd like to know the closest location that needs a seed. Using these maps, find <em style=\"border-color: rgb(255, 255, 255); color: rgb(255, 255, 255); text-shadow: rgb(255, 255, 255) 0px 0px 5px;\">the lowest location number that corresponds to any of the initial seeds</em>. To do this, you'll need to convert each seed number through other categories until you can find its corresponding <em style=\"border-color: rgb(255, 255, 255); color: rgb(255, 255, 255); text-shadow: rgb(255, 255, 255) 0px 0px 5px;\">location number</em>. In this example, the corresponding types are:</p>\n",
    "<ul style=\"border-color: rgb(204, 204, 204); color: rgb(204, 204, 204);\">\n",
    "<li style=\"border-color: rgb(204, 204, 204); color: rgb(204, 204, 204);\">Seed <code style=\"border: 1px solid rgb(51, 51, 64); color: rgb(204, 204, 204); background: rgb(16, 16, 26);\">79</code>, soil <code style=\"border: 1px solid rgb(51, 51, 64); color: rgb(204, 204, 204); background: rgb(16, 16, 26);\">81</code>, fertilizer <code style=\"border: 1px solid rgb(51, 51, 64); color: rgb(204, 204, 204); background: rgb(16, 16, 26);\">81</code>, water <code style=\"border: 1px solid rgb(51, 51, 64); color: rgb(204, 204, 204); background: rgb(16, 16, 26);\">81</code>, light <code style=\"border: 1px solid rgb(51, 51, 64); color: rgb(204, 204, 204); background: rgb(16, 16, 26);\">74</code>, temperature <code style=\"border: 1px solid rgb(51, 51, 64); color: rgb(204, 204, 204); background: rgb(16, 16, 26);\">78</code>, humidity <code style=\"border: 1px solid rgb(51, 51, 64); color: rgb(204, 204, 204); background: rgb(16, 16, 26);\">78</code>, <em style=\"border-color: rgb(255, 255, 255); color: rgb(255, 255, 255); text-shadow: rgb(255, 255, 255) 0px 0px 5px;\">location <code style=\"border: 1px solid rgb(51, 51, 64); color: rgb(255, 255, 255); text-shadow: rgb(255, 255, 255) 0px 0px 5px; background: rgb(16, 16, 26);\">82</code></em>.</li>\n",
    "<li style=\"border-color: rgb(204, 204, 204); color: rgb(204, 204, 204);\">Seed <code style=\"border: 1px solid rgb(51, 51, 64); color: rgb(204, 204, 204); background: rgb(16, 16, 26);\">14</code>, soil <code style=\"border: 1px solid rgb(51, 51, 64); color: rgb(204, 204, 204); background: rgb(16, 16, 26);\">14</code>, fertilizer <code style=\"border: 1px solid rgb(51, 51, 64); color: rgb(204, 204, 204); background: rgb(16, 16, 26);\">53</code>, water <code style=\"border: 1px solid rgb(51, 51, 64); color: rgb(204, 204, 204); background: rgb(16, 16, 26);\">49</code>, light <code style=\"border: 1px solid rgb(51, 51, 64); color: rgb(204, 204, 204); background: rgb(16, 16, 26);\">42</code>, temperature <code style=\"border: 1px solid rgb(51, 51, 64); color: rgb(204, 204, 204); background: rgb(16, 16, 26);\">42</code>, humidity <code style=\"border: 1px solid rgb(51, 51, 64); color: rgb(204, 204, 204); background: rgb(16, 16, 26);\">43</code>, <em style=\"border-color: rgb(255, 255, 255); color: rgb(255, 255, 255); text-shadow: rgb(255, 255, 255) 0px 0px 5px;\">location <code style=\"border: 1px solid rgb(51, 51, 64); color: rgb(255, 255, 255); text-shadow: rgb(255, 255, 255) 0px 0px 5px; background: rgb(16, 16, 26);\">43</code></em>.</li>\n",
    "<li style=\"border-color: rgb(204, 204, 204); color: rgb(204, 204, 204);\">Seed <code style=\"border: 1px solid rgb(51, 51, 64); color: rgb(204, 204, 204); background: rgb(16, 16, 26);\">55</code>, soil <code style=\"border: 1px solid rgb(51, 51, 64); color: rgb(204, 204, 204); background: rgb(16, 16, 26);\">57</code>, fertilizer <code style=\"border: 1px solid rgb(51, 51, 64); color: rgb(204, 204, 204); background: rgb(16, 16, 26);\">57</code>, water <code style=\"border: 1px solid rgb(51, 51, 64); color: rgb(204, 204, 204); background: rgb(16, 16, 26);\">53</code>, light <code style=\"border: 1px solid rgb(51, 51, 64); color: rgb(204, 204, 204); background: rgb(16, 16, 26);\">46</code>, temperature <code style=\"border: 1px solid rgb(51, 51, 64); color: rgb(204, 204, 204); background: rgb(16, 16, 26);\">82</code>, humidity <code style=\"border: 1px solid rgb(51, 51, 64); color: rgb(204, 204, 204); background: rgb(16, 16, 26);\">82</code>, <em style=\"border-color: rgb(255, 255, 255); color: rgb(255, 255, 255); text-shadow: rgb(255, 255, 255) 0px 0px 5px;\">location <code style=\"border: 1px solid rgb(51, 51, 64); color: rgb(255, 255, 255); text-shadow: rgb(255, 255, 255) 0px 0px 5px; background: rgb(16, 16, 26);\">86</code></em>.</li>\n",
    "<li style=\"border-color: rgb(204, 204, 204); color: rgb(204, 204, 204);\">Seed <code style=\"border: 1px solid rgb(51, 51, 64); color: rgb(204, 204, 204); background: rgb(16, 16, 26);\">13</code>, soil <code style=\"border: 1px solid rgb(51, 51, 64); color: rgb(204, 204, 204); background: rgb(16, 16, 26);\">13</code>, fertilizer <code style=\"border: 1px solid rgb(51, 51, 64); color: rgb(204, 204, 204); background: rgb(16, 16, 26);\">52</code>, water <code style=\"border: 1px solid rgb(51, 51, 64); color: rgb(204, 204, 204); background: rgb(16, 16, 26);\">41</code>, light <code style=\"border: 1px solid rgb(51, 51, 64); color: rgb(204, 204, 204); background: rgb(16, 16, 26);\">34</code>, temperature <code style=\"border: 1px solid rgb(51, 51, 64); color: rgb(204, 204, 204); background: rgb(16, 16, 26);\">34</code>, humidity <code style=\"border: 1px solid rgb(51, 51, 64); color: rgb(204, 204, 204); background: rgb(16, 16, 26);\">35</code>, <em style=\"border-color: rgb(255, 255, 255); color: rgb(255, 255, 255); text-shadow: rgb(255, 255, 255) 0px 0px 5px;\">location <code style=\"border: 1px solid rgb(51, 51, 64); color: rgb(255, 255, 255); text-shadow: rgb(255, 255, 255) 0px 0px 5px; background: rgb(16, 16, 26);\">35</code></em>.</li>\n",
    "</ul>\n",
    "<p style=\"border-color: rgb(204, 204, 204); color: rgb(204, 204, 204);\">So, the lowest location number in this example is <code style=\"border: 1px solid rgb(51, 51, 64); color: rgb(204, 204, 204); background: rgb(16, 16, 26);\"><em style=\"border-color: rgb(255, 255, 255); color: rgb(255, 255, 255); text-shadow: rgb(255, 255, 255) 0px 0px 5px;\">35</em></code>.</p>\n",
    "<p style=\"border-color: rgb(204, 204, 204); color: rgb(204, 204, 204);\"><em style=\"border-color: rgb(255, 255, 255); color: rgb(255, 255, 255); text-shadow: rgb(255, 255, 255) 0px 0px 5px;\">What is the lowest location number that corresponds to any of the initial seed numbers?</em></p>\n",
    "</div>"
   ]
  },
  {
   "cell_type": "code",
   "execution_count": 1,
   "id": "9d72a8f4",
   "metadata": {},
   "outputs": [],
   "source": [
    "import sys\n",
    "sys.path.append(\"../../common\")"
   ]
  },
  {
   "cell_type": "code",
   "execution_count": 2,
   "id": "62b0ec11",
   "metadata": {},
   "outputs": [],
   "source": [
    "from aoc import *\n",
    "import numpy as np\n",
    "import re"
   ]
  },
  {
   "cell_type": "code",
   "execution_count": 3,
   "id": "a949b336",
   "metadata": {},
   "outputs": [],
   "source": [
    "with open(\"./puzzle_inputs/05.txt\") as f:\n",
    "    data = f.read().strip()"
   ]
  },
  {
   "cell_type": "code",
   "execution_count": 4,
   "id": "dcd2f653-d137-47f0-af7b-16f07855860c",
   "metadata": {},
   "outputs": [],
   "source": [
    "data = \"\"\"seeds: 79 14 55 13\n",
    "\n",
    "seed-to-soil map:\n",
    "50 98 2\n",
    "52 50 48\n",
    "\n",
    "soil-to-fertilizer map:\n",
    "0 15 37\n",
    "37 52 2\n",
    "39 0 15\n",
    "\n",
    "fertilizer-to-water map:\n",
    "49 53 8\n",
    "0 11 42\n",
    "42 0 7\n",
    "57 7 4\n",
    "\n",
    "water-to-light map:\n",
    "88 18 7\n",
    "18 25 70\n",
    "\n",
    "light-to-temperature map:\n",
    "45 77 23\n",
    "81 45 19\n",
    "68 64 13\n",
    "\n",
    "temperature-to-humidity map:\n",
    "0 69 1\n",
    "1 0 69\n",
    "\n",
    "humidity-to-location map:\n",
    "60 56 37\n",
    "56 93 4\"\"\""
   ]
  },
  {
   "cell_type": "code",
   "execution_count": 11,
   "id": "193e4b85-8585-4e5e-a961-4eb3e21c1e27",
   "metadata": {},
   "outputs": [],
   "source": [
    "seeds, *groups = data.split('\\n\\n')\n",
    "groups = [list(map(ints, g.split('\\n')[1:])) for g in groups]"
   ]
  },
  {
   "cell_type": "code",
   "execution_count": 12,
   "id": "441dbaa1-3602-4d07-937a-757c75a6c17b",
   "metadata": {},
   "outputs": [
    {
     "data": {
      "text/plain": [
       "7"
      ]
     },
     "execution_count": 12,
     "metadata": {},
     "output_type": "execute_result"
    }
   ],
   "source": [
    "maps = []\n",
    "for i, group in enumerate(groups):\n",
    "    m = VoxelMap()\n",
    "    for dest, src, n in group:\n",
    "        m[Voxel(src, src+n)] = (dest-src) # all we need is the offset\n",
    "    maps.append(m)\n",
    "len(maps)"
   ]
  },
  {
   "cell_type": "code",
   "execution_count": 13,
   "id": "b4135c02-0271-4370-a9dd-450422fbe76b",
   "metadata": {},
   "outputs": [
    {
     "data": {
      "text/plain": [
       "382895070"
      ]
     },
     "execution_count": 13,
     "metadata": {},
     "output_type": "execute_result"
    }
   ],
   "source": [
    "lowest = np.inf\n",
    "for seed in map(Voxel.point, ints(seeds.split(': ')[1])):\n",
    "    for m in maps:\n",
    "        found = m[seed] # [[intersection][value]]\n",
    "        if len(found) == 0:\n",
    "            continue\n",
    "        intersection, offset = found[0]\n",
    "        seed = intersection.offset(offset)\n",
    "    lowest = min(lowest, seed.start[0])\n",
    "lowest"
   ]
  },
  {
   "cell_type": "markdown",
   "id": "571e62a3-c4cf-4550-a1c9-321bd149b8d6",
   "metadata": {
    "tags": []
   },
   "source": [
    "<div style=\"background-color: rgb(15, 15, 35); border: 1px solid rgb(255, 255, 255); color: rgb(204, 204, 204); font-family: monospace; margin-left: -5px; margin-right: -20px; padding: 1rem;\"><h2 id=\"part2\" style=\"border-color: rgb(255, 255, 255); color: rgb(255, 255, 255);\">--- Part Two ---</h2><p style=\"border-color: rgb(204, 204, 204); color: rgb(204, 204, 204);\">Everyone will starve if you only plant such a small number of seeds. Re-reading the almanac, it looks like the <code style=\"border: 1px solid rgb(51, 51, 64); color: rgb(204, 204, 204); background: rgb(16, 16, 26);\">seeds:</code> line actually describes <em style=\"border-color: rgb(255, 255, 255); color: rgb(255, 255, 255); text-shadow: rgb(255, 255, 255) 0px 0px 5px;\">ranges of seed numbers</em>.</p>\n",
    "<p style=\"border-color: rgb(204, 204, 204); color: rgb(204, 204, 204);\">The values on the initial <code style=\"border: 1px solid rgb(51, 51, 64); color: rgb(204, 204, 204); background: rgb(16, 16, 26);\">seeds:</code> line come in pairs. Within each pair, the first value is the <em style=\"border-color: rgb(255, 255, 255); color: rgb(255, 255, 255); text-shadow: rgb(255, 255, 255) 0px 0px 5px;\">start</em> of the range and the second value is the <em style=\"border-color: rgb(255, 255, 255); color: rgb(255, 255, 255); text-shadow: rgb(255, 255, 255) 0px 0px 5px;\">length</em> of the range. So, in the first line of the example above:</p>\n",
    "<pre style=\"border: 1px solid rgb(51, 51, 64); color: rgb(204, 204, 204); background-color: rgb(16, 16, 26); display: inline-block;\"><code style=\"border-color: rgb(204, 204, 204); color: rgb(204, 204, 204); background-color: rgb(16, 16, 26);\">seeds: 79 14 55 13</code></pre>\n",
    "<p style=\"border-color: rgb(204, 204, 204); color: rgb(204, 204, 204);\">This line describes two ranges of seed numbers to be planted in the garden. The first range starts with seed number <code style=\"border: 1px solid rgb(51, 51, 64); color: rgb(204, 204, 204); background: rgb(16, 16, 26);\">79</code> and contains <code style=\"border: 1px solid rgb(51, 51, 64); color: rgb(204, 204, 204); background: rgb(16, 16, 26);\">14</code> values: <code style=\"border: 1px solid rgb(51, 51, 64); color: rgb(204, 204, 204); background: rgb(16, 16, 26);\">79</code>, <code style=\"border: 1px solid rgb(51, 51, 64); color: rgb(204, 204, 204); background: rgb(16, 16, 26);\">80</code>, ..., <code style=\"border: 1px solid rgb(51, 51, 64); color: rgb(204, 204, 204); background: rgb(16, 16, 26);\">91</code>, <code style=\"border: 1px solid rgb(51, 51, 64); color: rgb(204, 204, 204); background: rgb(16, 16, 26);\">92</code>. The second range starts with seed number <code style=\"border: 1px solid rgb(51, 51, 64); color: rgb(204, 204, 204); background: rgb(16, 16, 26);\">55</code> and contains <code style=\"border: 1px solid rgb(51, 51, 64); color: rgb(204, 204, 204); background: rgb(16, 16, 26);\">13</code> values: <code style=\"border: 1px solid rgb(51, 51, 64); color: rgb(204, 204, 204); background: rgb(16, 16, 26);\">55</code>, <code style=\"border: 1px solid rgb(51, 51, 64); color: rgb(204, 204, 204); background: rgb(16, 16, 26);\">56</code>, ..., <code style=\"border: 1px solid rgb(51, 51, 64); color: rgb(204, 204, 204); background: rgb(16, 16, 26);\">66</code>, <code style=\"border: 1px solid rgb(51, 51, 64); color: rgb(204, 204, 204); background: rgb(16, 16, 26);\">67</code>.</p>\n",
    "<p style=\"border-color: rgb(204, 204, 204); color: rgb(204, 204, 204);\">Now, rather than considering four seed numbers, you need to consider a total of <em style=\"border-color: rgb(255, 255, 255); color: rgb(255, 255, 255); text-shadow: rgb(255, 255, 255) 0px 0px 5px;\">27</em> seed numbers.</p>\n",
    "<p style=\"border-color: rgb(204, 204, 204); color: rgb(204, 204, 204);\">In the above example, the lowest location number can be obtained from seed number <code style=\"border: 1px solid rgb(51, 51, 64); color: rgb(204, 204, 204); background: rgb(16, 16, 26);\">82</code>, which corresponds to soil <code style=\"border: 1px solid rgb(51, 51, 64); color: rgb(204, 204, 204); background: rgb(16, 16, 26);\">84</code>, fertilizer <code style=\"border: 1px solid rgb(51, 51, 64); color: rgb(204, 204, 204); background: rgb(16, 16, 26);\">84</code>, water <code style=\"border: 1px solid rgb(51, 51, 64); color: rgb(204, 204, 204); background: rgb(16, 16, 26);\">84</code>, light <code style=\"border: 1px solid rgb(51, 51, 64); color: rgb(204, 204, 204); background: rgb(16, 16, 26);\">77</code>, temperature <code style=\"border: 1px solid rgb(51, 51, 64); color: rgb(204, 204, 204); background: rgb(16, 16, 26);\">45</code>, humidity <code style=\"border: 1px solid rgb(51, 51, 64); color: rgb(204, 204, 204); background: rgb(16, 16, 26);\">46</code>, and <em style=\"border-color: rgb(255, 255, 255); color: rgb(255, 255, 255); text-shadow: rgb(255, 255, 255) 0px 0px 5px;\">location <code style=\"border: 1px solid rgb(51, 51, 64); color: rgb(255, 255, 255); text-shadow: rgb(255, 255, 255) 0px 0px 5px; background: rgb(16, 16, 26);\">46</code></em>. So, the lowest location number is <code style=\"border: 1px solid rgb(51, 51, 64); color: rgb(204, 204, 204); background: rgb(16, 16, 26);\"><em style=\"border-color: rgb(255, 255, 255); color: rgb(255, 255, 255); text-shadow: rgb(255, 255, 255) 0px 0px 5px;\">46</em></code>.</p>\n",
    "<p style=\"border-color: rgb(204, 204, 204); color: rgb(204, 204, 204);\">Consider all of the initial seed numbers listed in the ranges on the first line of the almanac. <em style=\"border-color: rgb(255, 255, 255); color: rgb(255, 255, 255); text-shadow: rgb(255, 255, 255) 0px 0px 5px;\">What is the lowest location number that corresponds to any of the initial seed numbers?</em></p>\n",
    "</div>"
   ]
  },
  {
   "cell_type": "code",
   "execution_count": 14,
   "id": "bf15875c-e8bb-4be9-a140-fdfd807cbaee",
   "metadata": {},
   "outputs": [],
   "source": [
    "seeds, *groups = data.split('\\n\\n')\n",
    "groups = [list(map(ints, g.split('\\n')[1:])) for g in groups]\n",
    "\n",
    "seeds = npints(seeds.split(': ')[1]).reshape((-1, 2))\n",
    "seeds[:,1] += seeds[:,0]"
   ]
  },
  {
   "cell_type": "code",
   "execution_count": 15,
   "id": "3b007fce-47c5-4b69-996d-f0b6127234bb",
   "metadata": {},
   "outputs": [
    {
     "data": {
      "text/plain": [
       "7"
      ]
     },
     "execution_count": 15,
     "metadata": {},
     "output_type": "execute_result"
    }
   ],
   "source": [
    "maps = []\n",
    "for i, group in enumerate(groups):\n",
    "    m = VoxelMap()\n",
    "    for dest, src, n in group:\n",
    "        m[Voxel(src, src+n)] = (dest-src)\n",
    "    maps.append(m)\n",
    "len(maps)"
   ]
  },
  {
   "cell_type": "code",
   "execution_count": 16,
   "id": "8e510ecb-7a3b-46a5-bc77-2a07deaed554",
   "metadata": {},
   "outputs": [
    {
     "data": {
      "text/plain": [
       "17729182"
      ]
     },
     "execution_count": 16,
     "metadata": {},
     "output_type": "execute_result"
    }
   ],
   "source": [
    "lowest = np.inf\n",
    "for seed_range in seeds:\n",
    "    voxels = [Voxel(*map(int, seed_range))]\n",
    "    for m in maps:\n",
    "        next_voxels = []\n",
    "        for voxel in voxels:\n",
    "            found = m[voxel]\n",
    "            if len(found) == 0:\n",
    "                next_voxels.append(voxel)\n",
    "                continue\n",
    "            remaining = [voxel]\n",
    "            for (intersection, offset) in found:\n",
    "                next_voxels.append(intersection.offset(offset))\n",
    "                remaining = [x for r in remaining for x in r-intersection]\n",
    "            next_voxels += remaining\n",
    "        voxels = next_voxels\n",
    "    lowest = min(lowest, *(x.start[0] for x in voxels))\n",
    "lowest"
   ]
  }
 ],
 "metadata": {
  "kernelspec": {
   "display_name": "Python 3 (ipykernel)",
   "language": "python",
   "name": "python3"
  },
  "language_info": {
   "codemirror_mode": {
    "name": "ipython",
    "version": 3
   },
   "file_extension": ".py",
   "mimetype": "text/x-python",
   "name": "python",
   "nbconvert_exporter": "python",
   "pygments_lexer": "ipython3",
   "version": "3.11.6"
  }
 },
 "nbformat": 4,
 "nbformat_minor": 5
}
