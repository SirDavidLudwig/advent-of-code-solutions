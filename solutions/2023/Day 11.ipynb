{
 "cells": [
  {
   "cell_type": "code",
   "execution_count": 2,
   "id": "9d72a8f4",
   "metadata": {},
   "outputs": [],
   "source": [
    "import sys\n",
    "sys.path.append(\"../../common\")\n"
   ]
  },
  {
   "cell_type": "code",
   "execution_count": 3,
   "id": "62b0ec11",
   "metadata": {},
   "outputs": [],
   "source": [
    "from aoc import *\n",
    "import numpy as np\n",
    "from scipy.spatial.distance import cdist\n",
    "import re\n"
   ]
  },
  {
   "cell_type": "code",
   "execution_count": 88,
   "id": "a949b336",
   "metadata": {},
   "outputs": [],
   "source": [
    "with open(\"./puzzle_inputs/11.txt\") as f:\n",
    "    lines = f.readlines()\n",
    "grid = np.array([[int(c == '#') for c in line.strip()] for line in lines])\n"
   ]
  },
  {
   "cell_type": "code",
   "execution_count": 93,
   "id": "bbfdbe77-4984-4cbd-922e-575953523213",
   "metadata": {},
   "outputs": [
    {
     "data": {
      "text/plain": [
       "(array([ 19,  49,  51,  55,  57,  61,  65,  71,  79,  81,  85, 116]),)"
      ]
     },
     "execution_count": 93,
     "metadata": {},
     "output_type": "execute_result"
    }
   ],
   "source": [
    "np.where(grid.sum(axis=1) == 0)\n"
   ]
  },
  {
   "cell_type": "code",
   "execution_count": 80,
   "id": "9613ea27-db2b-4b79-8ad1-f88b4e0b791a",
   "metadata": {},
   "outputs": [],
   "source": [
    "empty_cols = np.where(grid.sum(axis=0) == 0)[0]\n",
    "empty_rows = np.where(grid.sum(axis=1) == 0)[0]\n"
   ]
  },
  {
   "cell_type": "code",
   "execution_count": 81,
   "id": "5a0a9416-9799-45b6-beb6-859f7637bd71",
   "metadata": {},
   "outputs": [
    {
     "data": {
      "text/plain": [
       "array([ 23,  27,  30,  53,  54,  55,  66,  85,  86, 100, 125])"
      ]
     },
     "execution_count": 81,
     "metadata": {},
     "output_type": "execute_result"
    }
   ],
   "source": [
    "empty_cols\n"
   ]
  },
  {
   "cell_type": "code",
   "execution_count": 82,
   "id": "ffa8632d-4dfc-428e-a3a6-a7de11af6540",
   "metadata": {},
   "outputs": [],
   "source": [
    "row_offset = np.zeros(grid.shape[1])\n",
    "col_offset = np.zeros(grid.shape[1])\n",
    "for i in empty_cols:\n",
    "    col_offset[i:] += 1\n",
    "for i in empty_rows:\n",
    "    row_offset[i:] += 1\n"
   ]
  },
  {
   "cell_type": "code",
   "execution_count": 83,
   "id": "a14d6ea5-1b2d-460f-8e75-80a3087c31ab",
   "metadata": {},
   "outputs": [],
   "source": [
    "new_galaxies = []\n",
    "for (i, j) in galaxies:\n",
    "    di, dj = row_offset[i], col_offset[j]\n",
    "    new_galaxies.append((i+di, j+dj))\n",
    "new_galaxies = np.array(new_galaxies)\n"
   ]
  },
  {
   "cell_type": "code",
   "execution_count": 84,
   "id": "5a48a585-f351-4278-857b-4d49151002df",
   "metadata": {},
   "outputs": [
    {
     "data": {
      "text/plain": [
       "9608724"
      ]
     },
     "execution_count": 84,
     "metadata": {},
     "output_type": "execute_result"
    }
   ],
   "source": [
    "int(np.sum(cdist(new_galaxies, new_galaxies, metric=\"cityblock\"))//2)\n"
   ]
  },
  {
   "cell_type": "code",
   "execution_count": 102,
   "id": "a731b884-1650-4b27-9834-407988a11e4c",
   "metadata": {},
   "outputs": [],
   "source": [
    "row_offset = np.zeros(grid.shape[1])\n",
    "col_offset = np.zeros(grid.shape[1])\n",
    "for i in empty_cols:\n",
    "    col_offset[i:] += 999999\n",
    "for i in empty_rows:\n",
    "    row_offset[i:] += 999999\n"
   ]
  },
  {
   "cell_type": "code",
   "execution_count": 103,
   "id": "36f59540-dd44-4b66-9602-0e3fc34ced72",
   "metadata": {},
   "outputs": [],
   "source": [
    "new_galaxies = []\n",
    "for (i, j) in galaxies:\n",
    "    di, dj = row_offset[i], col_offset[j]\n",
    "    new_galaxies.append((i+di, j+dj))\n",
    "new_galaxies = np.array(new_galaxies)\n"
   ]
  },
  {
   "cell_type": "code",
   "execution_count": 104,
   "id": "10eca3c0-f67b-4add-88b9-46fb58c0cb05",
   "metadata": {},
   "outputs": [
    {
     "data": {
      "text/plain": [
       "904633799472"
      ]
     },
     "execution_count": 104,
     "metadata": {},
     "output_type": "execute_result"
    }
   ],
   "source": [
    "int(np.sum(cdist(new_galaxies, new_galaxies, metric=\"cityblock\"))//2)\n"
   ]
  },
  {
   "cell_type": "code",
   "execution_count": null,
   "id": "4df6aa80-3817-4b2e-b786-76aeea00d5dd",
   "metadata": {},
   "outputs": [],
   "source": []
  }
 ],
 "metadata": {
  "kernelspec": {
   "display_name": "Python 3 (ipykernel)",
   "language": "python",
   "name": "python3"
  },
  "language_info": {
   "codemirror_mode": {
    "name": "ipython",
    "version": 3
   },
   "file_extension": ".py",
   "mimetype": "text/x-python",
   "name": "python",
   "nbconvert_exporter": "python",
   "pygments_lexer": "ipython3",
   "version": "3.11.6"
  }
 },
 "nbformat": 4,
 "nbformat_minor": 5
}
