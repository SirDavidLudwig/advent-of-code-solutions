{
 "cells": [
  {
   "cell_type": "code",
   "execution_count": 619,
   "id": "5e6aa79d-bf9e-4324-adc6-1731ddb584a5",
   "metadata": {},
   "outputs": [],
   "source": [
    "from IPython.display import clear_output\n",
    "import numpy as np\n",
    "import re\n",
    "import sympy as sp\n",
    "from sympy import lambdify\n",
    "from sympy.solvers import solve"
   ]
  },
  {
   "cell_type": "code",
   "execution_count": 622,
   "id": "6a958f9e-ed0d-4a4a-983e-4ef2ad94ba04",
   "metadata": {},
   "outputs": [],
   "source": [
    "hailstone_positions = []\n",
    "hailstone_velocities = []\n",
    "with open(\"./puzzle_inputs/24.txt\") as f:\n",
    "    for line in f:\n",
    "        x, y, z, vx, vy, vz = map(int, re.findall(r\"-?\\d+\", line))\n",
    "        hailstone_positions.append((x, y, z))\n",
    "        hailstone_velocities.append((vx, vy, vz))\n",
    "hailstone_positions = np.array(hailstone_positions, dtype=np.float128)\n",
    "hailstone_velocities = np.array(hailstone_velocities, dtype=np.float128)"
   ]
  },
  {
   "cell_type": "code",
   "execution_count": 623,
   "id": "0da40a0d-7acf-420b-9249-e6e7b0edf32b",
   "metadata": {},
   "outputs": [],
   "source": [
    "throw_position = np.array([24, 13, 10], dtype=np.float128)\n",
    "throw_velocity = np.array([-3, 1, 2], dtype=np.float128)"
   ]
  },
  {
   "cell_type": "code",
   "execution_count": 624,
   "id": "ca09a0e2-04c1-40df-8d2c-c03d436e6c7d",
   "metadata": {},
   "outputs": [
    {
     "data": {
      "text/plain": [
       "300"
      ]
     },
     "execution_count": 624,
     "metadata": {},
     "output_type": "execute_result"
    }
   ],
   "source": [
    "n = len(hailstone_positions)\n",
    "n"
   ]
  },
  {
   "cell_type": "code",
   "execution_count": 472,
   "id": "206f5023-8946-4e9b-a2e8-ac44f660ebdc",
   "metadata": {},
   "outputs": [],
   "source": [
    "h = sp.IndexedBase(\"h\", shape=(n, 3))\n",
    "p = sp.IndexedBase(\"p\", shape=(3,))\n",
    "vh = sp.IndexedBase(\"v_h\", shape=(n, 3))\n",
    "vp = sp.IndexedBase(\"v_p\", shape=(3,))\n",
    "t = sp.IndexedBase(\"t\", shape=(n,))\n",
    "i = sp.Idx(\"i\")"
   ]
  },
  {
   "cell_type": "code",
   "execution_count": 473,
   "id": "7b99ea85-9229-46de-b9e7-72f63e10038c",
   "metadata": {},
   "outputs": [
    {
     "data": {
      "text/latex": [
       "$\\displaystyle \\left({h}_{i,0} - {p}_{0} + {t}_{i} {v_{h}}_{i,0} - {t}_{i} {v_{p}}_{0}\\right)^{2} + \\left({h}_{i,1} - {p}_{1} + {t}_{i} {v_{h}}_{i,1} - {t}_{i} {v_{p}}_{1}\\right)^{2} + \\left({h}_{i,2} - {p}_{2} + {t}_{i} {v_{h}}_{i,2} - {t}_{i} {v_{p}}_{2}\\right)^{2}$"
      ],
      "text/plain": [
       "(h[i, 0] - p[0] + t[i]*v_h[i, 0] - t[i]*v_p[0])**2 + (h[i, 1] - p[1] + t[i]*v_h[i, 1] - t[i]*v_p[1])**2 + (h[i, 2] - p[2] + t[i]*v_h[i, 2] - t[i]*v_p[2])**2"
      ]
     },
     "execution_count": 473,
     "metadata": {},
     "output_type": "execute_result"
    }
   ],
   "source": [
    "# Generalized distance formula\n",
    "f = sum((h[i,j] + t[i]*vh[i,j] - p[j] - t[i]*vp[j])**2 for j in range(3))\n",
    "f = lambdify([h, p, vh, vp, t, i], f)\n",
    "f(h, p, vh, vp, t, i)"
   ]
  },
  {
   "cell_type": "code",
   "execution_count": 474,
   "id": "ed2fcf6a-a7e5-45b6-b1d2-ba47780840c8",
   "metadata": {},
   "outputs": [
    {
     "data": {
      "text/latex": [
       "$\\displaystyle \\frac{- {h}_{i,0} {v_{h}}_{i,0} + {h}_{i,0} {v_{p}}_{0} - {h}_{i,1} {v_{h}}_{i,1} + {h}_{i,1} {v_{p}}_{1} - {h}_{i,2} {v_{h}}_{i,2} + {h}_{i,2} {v_{p}}_{2} + {p}_{0} {v_{h}}_{i,0} - {p}_{0} {v_{p}}_{0} + {p}_{1} {v_{h}}_{i,1} - {p}_{1} {v_{p}}_{1} + {p}_{2} {v_{h}}_{i,2} - {p}_{2} {v_{p}}_{2}}{{v_{h}}_{i,0}^{2} - 2 {v_{h}}_{i,0} {v_{p}}_{0} + {v_{h}}_{i,1}^{2} - 2 {v_{h}}_{i,1} {v_{p}}_{1} + {v_{h}}_{i,2}^{2} - 2 {v_{h}}_{i,2} {v_{p}}_{2} + {v_{p}}_{0}^{2} + {v_{p}}_{1}^{2} + {v_{p}}_{2}^{2}}$"
      ],
      "text/plain": [
       "(-h[i, 0]*v_h[i, 0] + h[i, 0]*v_p[0] - h[i, 1]*v_h[i, 1] + h[i, 1]*v_p[1] - h[i, 2]*v_h[i, 2] + h[i, 2]*v_p[2] + p[0]*v_h[i, 0] - p[0]*v_p[0] + p[1]*v_h[i, 1] - p[1]*v_p[1] + p[2]*v_h[i, 2] - p[2]*v_p[2])/(v_h[i, 0]**2 - 2*v_h[i, 0]*v_p[0] + v_h[i, 1]**2 - 2*v_h[i, 1]*v_p[1] + v_h[i, 2]**2 - 2*v_h[i, 2]*v_p[2] + v_p[0]**2 + v_p[1]**2 + v_p[2]**2)"
      ]
     },
     "execution_count": 474,
     "metadata": {},
     "output_type": "execute_result"
    }
   ],
   "source": [
    "# Differentiate and solve for t\n",
    "df_dt = f(h, p, vh, vp, t, i).diff(t[i])\n",
    "optimal_t = solve(df_dt, t[i])[0]\n",
    "optimal_t\n",
    "# optimize_t = lambdify([h, p, vh, vp, i], solve(df_dt, t[i])[0])"
   ]
  },
  {
   "cell_type": "code",
   "execution_count": 475,
   "id": "8e5a3dcd-1fcd-430c-82b2-9431564062c1",
   "metadata": {},
   "outputs": [
    {
     "data": {
      "text/latex": [
       "$\\displaystyle \\left(\\frac{\\left({v_{h}}_{i,0} - {v_{p}}_{0}\\right) \\left(- {h}_{i,0} {v_{h}}_{i,0} + {h}_{i,0} {v_{p}}_{0} - {h}_{i,1} {v_{h}}_{i,1} + {h}_{i,1} {v_{p}}_{1} - {h}_{i,2} {v_{h}}_{i,2} + {h}_{i,2} {v_{p}}_{2} + {p}_{0} {v_{h}}_{i,0} - {p}_{0} {v_{p}}_{0} + {p}_{1} {v_{h}}_{i,1} - {p}_{1} {v_{p}}_{1} + {p}_{2} {v_{h}}_{i,2} - {p}_{2} {v_{p}}_{2}\\right)}{{v_{h}}_{i,0}^{2} - 2 {v_{h}}_{i,0} {v_{p}}_{0} + {v_{h}}_{i,1}^{2} - 2 {v_{h}}_{i,1} {v_{p}}_{1} + {v_{h}}_{i,2}^{2} - 2 {v_{h}}_{i,2} {v_{p}}_{2} + {v_{p}}_{0}^{2} + {v_{p}}_{1}^{2} + {v_{p}}_{2}^{2}} + {h}_{i,0} - {p}_{0}\\right)^{2} + \\left(\\frac{\\left({v_{h}}_{i,1} - {v_{p}}_{1}\\right) \\left(- {h}_{i,0} {v_{h}}_{i,0} + {h}_{i,0} {v_{p}}_{0} - {h}_{i,1} {v_{h}}_{i,1} + {h}_{i,1} {v_{p}}_{1} - {h}_{i,2} {v_{h}}_{i,2} + {h}_{i,2} {v_{p}}_{2} + {p}_{0} {v_{h}}_{i,0} - {p}_{0} {v_{p}}_{0} + {p}_{1} {v_{h}}_{i,1} - {p}_{1} {v_{p}}_{1} + {p}_{2} {v_{h}}_{i,2} - {p}_{2} {v_{p}}_{2}\\right)}{{v_{h}}_{i,0}^{2} - 2 {v_{h}}_{i,0} {v_{p}}_{0} + {v_{h}}_{i,1}^{2} - 2 {v_{h}}_{i,1} {v_{p}}_{1} + {v_{h}}_{i,2}^{2} - 2 {v_{h}}_{i,2} {v_{p}}_{2} + {v_{p}}_{0}^{2} + {v_{p}}_{1}^{2} + {v_{p}}_{2}^{2}} + {h}_{i,1} - {p}_{1}\\right)^{2} + \\left(\\frac{\\left({v_{h}}_{i,2} - {v_{p}}_{2}\\right) \\left(- {h}_{i,0} {v_{h}}_{i,0} + {h}_{i,0} {v_{p}}_{0} - {h}_{i,1} {v_{h}}_{i,1} + {h}_{i,1} {v_{p}}_{1} - {h}_{i,2} {v_{h}}_{i,2} + {h}_{i,2} {v_{p}}_{2} + {p}_{0} {v_{h}}_{i,0} - {p}_{0} {v_{p}}_{0} + {p}_{1} {v_{h}}_{i,1} - {p}_{1} {v_{p}}_{1} + {p}_{2} {v_{h}}_{i,2} - {p}_{2} {v_{p}}_{2}\\right)}{{v_{h}}_{i,0}^{2} - 2 {v_{h}}_{i,0} {v_{p}}_{0} + {v_{h}}_{i,1}^{2} - 2 {v_{h}}_{i,1} {v_{p}}_{1} + {v_{h}}_{i,2}^{2} - 2 {v_{h}}_{i,2} {v_{p}}_{2} + {v_{p}}_{0}^{2} + {v_{p}}_{1}^{2} + {v_{p}}_{2}^{2}} + {h}_{i,2} - {p}_{2}\\right)^{2}$"
      ],
      "text/plain": [
       "((v_h[i, 0] - v_p[0])*(-h[i, 0]*v_h[i, 0] + h[i, 0]*v_p[0] - h[i, 1]*v_h[i, 1] + h[i, 1]*v_p[1] - h[i, 2]*v_h[i, 2] + h[i, 2]*v_p[2] + p[0]*v_h[i, 0] - p[0]*v_p[0] + p[1]*v_h[i, 1] - p[1]*v_p[1] + p[2]*v_h[i, 2] - p[2]*v_p[2])/(v_h[i, 0]**2 - 2*v_h[i, 0]*v_p[0] + v_h[i, 1]**2 - 2*v_h[i, 1]*v_p[1] + v_h[i, 2]**2 - 2*v_h[i, 2]*v_p[2] + v_p[0]**2 + v_p[1]**2 + v_p[2]**2) + h[i, 0] - p[0])**2 + ((v_h[i, 1] - v_p[1])*(-h[i, 0]*v_h[i, 0] + h[i, 0]*v_p[0] - h[i, 1]*v_h[i, 1] + h[i, 1]*v_p[1] - h[i, 2]*v_h[i, 2] + h[i, 2]*v_p[2] + p[0]*v_h[i, 0] - p[0]*v_p[0] + p[1]*v_h[i, 1] - p[1]*v_p[1] + p[2]*v_h[i, 2] - p[2]*v_p[2])/(v_h[i, 0]**2 - 2*v_h[i, 0]*v_p[0] + v_h[i, 1]**2 - 2*v_h[i, 1]*v_p[1] + v_h[i, 2]**2 - 2*v_h[i, 2]*v_p[2] + v_p[0]**2 + v_p[1]**2 + v_p[2]**2) + h[i, 1] - p[1])**2 + ((v_h[i, 2] - v_p[2])*(-h[i, 0]*v_h[i, 0] + h[i, 0]*v_p[0] - h[i, 1]*v_h[i, 1] + h[i, 1]*v_p[1] - h[i, 2]*v_h[i, 2] + h[i, 2]*v_p[2] + p[0]*v_h[i, 0] - p[0]*v_p[0] + p[1]*v_h[i, 1] - p[1]*v_p[1] + p[2]*v_h[i, 2] - p[2]*v_p[2])/(v_h[i, 0]**2 - 2*v_h[i, 0]*v_p[0] + v_h[i, 1]**2 - 2*v_h[i, 1]*v_p[1] + v_h[i, 2]**2 - 2*v_h[i, 2]*v_p[2] + v_p[0]**2 + v_p[1]**2 + v_p[2]**2) + h[i, 2] - p[2])**2"
      ]
     },
     "execution_count": 475,
     "metadata": {},
     "output_type": "execute_result"
    }
   ],
   "source": [
    "# Substitute the solved t back into the equation\n",
    "d = sum((h[i,j] - p[j] + optimal_t*(vh[i,j] - vp[j]))**2 for j in range(3))\n",
    "d = lambdify([h, p, vh, vp, i], d)\n",
    "d(h, p, vh, vp, i)"
   ]
  },
  {
   "cell_type": "code",
   "execution_count": 681,
   "id": "5e709519-491f-44d0-a819-9a90a7949138",
   "metadata": {},
   "outputs": [],
   "source": [
    "# d(hailstone_positions, throw_position, hailstone_velocities, throw_velocity, ...)"
   ]
  },
  {
   "cell_type": "code",
   "execution_count": 462,
   "id": "ecee8ce6-fab8-42a7-9347-23e6e113a51f",
   "metadata": {},
   "outputs": [],
   "source": [
    "# Compute derivatives with respect to throw position\n",
    "dd_dp = sp.Array([d(h, p, vh, vp, i).diff(p[index]) for index in range(3)])\n",
    "dd_dp = lambdify([h, p, vh, vp, i], dd_dp)\n",
    "\n",
    "# Compute derivatives with respect to throw velocity\n",
    "dd_dv = sp.Array([d(h, p, vh, vp, i).diff(vp[index]) for index in range(3)])\n",
    "dd_dv = lambdify([h, p, vh, vp, i], dd_dv)"
   ]
  },
  {
   "cell_type": "code",
   "execution_count": 683,
   "id": "794bf8f2-0544-4daa-8e46-4f00c69e9e6e",
   "metadata": {},
   "outputs": [],
   "source": [
    "# dd_dp(hailstone_positions, throw_position, hailstone_velocities, throw_velocity, ...)"
   ]
  },
  {
   "cell_type": "code",
   "execution_count": 501,
   "id": "f3035c08-09b4-4c66-b9ef-f47bc7e7b7ee",
   "metadata": {},
   "outputs": [
    {
     "data": {
      "text/plain": [
       "array([[-163067.04185997, -163072.59090745, -163067.31128833,\n",
       "        -163075.51618683, -163075.17437008],\n",
       "       [ -19769.15446513,  -19766.70707664,  -19760.08959144,\n",
       "         -19756.81855202,  -19767.55771438],\n",
       "       [-104591.4369063 , -104593.59124765, -104587.14178545,\n",
       "        -104590.66589627, -104595.58711278]], dtype=float128)"
      ]
     },
     "execution_count": 501,
     "metadata": {},
     "output_type": "execute_result"
    }
   ],
   "source": [
    "dd_dv(hailstone_positions, throw_position, hailstone_velocities, throw_velocity, ...)"
   ]
  },
  {
   "cell_type": "code",
   "execution_count": 664,
   "id": "1d856ada-c835-4b16-9c60-704286b05451",
   "metadata": {},
   "outputs": [],
   "source": [
    "scale = 1\n",
    "start = np.float128(200000000000000) / scale\n",
    "end = np.float128(400000000000000) / scale"
   ]
  },
  {
   "cell_type": "code",
   "execution_count": 665,
   "id": "96ee393e-6fc6-405f-b5bc-23154fcd4c49",
   "metadata": {},
   "outputs": [],
   "source": [
    "throw_position = np.random.uniform(start, end, size=3).astype(np.float128)\n",
    "throw_velocity = np.random.normal(size=3).astype(np.float128)\n",
    "\n",
    "throw_position = np.array([461522278379691, 278970483473653, 243127954482398], dtype=np.float128)\n",
    "throw_velocity = np.array([-336.,   29.,   38.], dtype=np.float128)"
   ]
  },
  {
   "cell_type": "code",
   "execution_count": 666,
   "id": "e4841638-056f-4264-9138-83eb892f3a05",
   "metadata": {},
   "outputs": [
    {
     "name": "stdout",
     "output_type": "stream",
     "text": [
      "[4.61522278e+14 2.78970483e+14 2.43127954e+14]\n",
      "[-336.   29.   38.]\n"
     ]
    }
   ],
   "source": [
    "print(throw_position)\n",
    "print(throw_velocity)"
   ]
  },
  {
   "cell_type": "code",
   "execution_count": 667,
   "id": "f1b84dd7-a9a3-4e7c-a960-eaa86b4ae610",
   "metadata": {},
   "outputs": [
    {
     "data": {
      "text/plain": [
       "723.85328332885634156"
      ]
     },
     "execution_count": 667,
     "metadata": {},
     "output_type": "execute_result"
    }
   ],
   "source": [
    "d(hailstone_positions, throw_position, hailstone_velocities, throw_velocity, ...).mean()"
   ]
  },
  {
   "cell_type": "code",
   "execution_count": 673,
   "id": "85182318-259d-4819-b85e-f9c60d7800a3",
   "metadata": {},
   "outputs": [
    {
     "ename": "KeyboardInterrupt",
     "evalue": "",
     "output_type": "error",
     "traceback": [
      "\u001b[0;31m---------------------------------------------------------------------------\u001b[0m",
      "\u001b[0;31mKeyboardInterrupt\u001b[0m                         Traceback (most recent call last)",
      "Cell \u001b[0;32mIn[673], line 5\u001b[0m\n\u001b[1;32m      2\u001b[0m epsilon \u001b[38;5;241m=\u001b[39m \u001b[38;5;241m1e-5\u001b[39m\n\u001b[1;32m      4\u001b[0m step \u001b[38;5;241m=\u001b[39m \u001b[38;5;241m0\u001b[39m\n\u001b[0;32m----> 5\u001b[0m \u001b[38;5;28;01mwhile\u001b[39;00m \u001b[38;5;28mabs\u001b[39m(\u001b[38;5;241m0\u001b[39m \u001b[38;5;241m-\u001b[39m (y \u001b[38;5;241m:=\u001b[39m \u001b[43md\u001b[49m\u001b[43m(\u001b[49m\u001b[43mhailstone_positions\u001b[49m\u001b[43m,\u001b[49m\u001b[43m \u001b[49m\u001b[43mthrow_position\u001b[49m\u001b[43m,\u001b[49m\u001b[43m \u001b[49m\u001b[43mhailstone_velocities\u001b[49m\u001b[43m,\u001b[49m\u001b[43m \u001b[49m\u001b[43mthrow_velocity\u001b[49m\u001b[43m,\u001b[49m\u001b[43m \u001b[49m\u001b[38;5;241;43m.\u001b[39;49m\u001b[38;5;241;43m.\u001b[39;49m\u001b[38;5;241;43m.\u001b[39;49m\u001b[43m)\u001b[49m\u001b[38;5;241m.\u001b[39msum())) \u001b[38;5;241m>\u001b[39m epsilon:\n\u001b[1;32m      6\u001b[0m     grads \u001b[38;5;241m=\u001b[39m (\n\u001b[1;32m      7\u001b[0m         dd_dp(hailstone_positions, throw_position, hailstone_velocities, throw_velocity, \u001b[38;5;241m.\u001b[39m\u001b[38;5;241m.\u001b[39m\u001b[38;5;241m.\u001b[39m)\u001b[38;5;241m.\u001b[39mmean(\u001b[38;5;241m1\u001b[39m),\n\u001b[1;32m      8\u001b[0m         \u001b[38;5;66;03m# dd_dv(hailstone_positions, throw_position, hailstone_velocities, throw_velocity, ...).mean(1)\u001b[39;00m\n\u001b[1;32m      9\u001b[0m     )\n\u001b[1;32m     10\u001b[0m     \u001b[38;5;28;01mfor\u001b[39;00m v, grad \u001b[38;5;129;01min\u001b[39;00m \u001b[38;5;28mzip\u001b[39m([throw_position, throw_velocity], grads):\n",
      "File \u001b[0;32m<lambdifygenerated-111>:2\u001b[0m, in \u001b[0;36m_lambdifygenerated\u001b[0;34m(Dummy_590, Dummy_592, Dummy_589, Dummy_591, Dummy_593)\u001b[0m\n\u001b[1;32m      1\u001b[0m \u001b[38;5;28;01mdef\u001b[39;00m \u001b[38;5;21m_lambdifygenerated\u001b[39m(Dummy_590, Dummy_592, Dummy_589, Dummy_591, Dummy_593):\n\u001b[0;32m----> 2\u001b[0m     \u001b[38;5;28;01mreturn\u001b[39;00m (\u001b[43m(\u001b[49m\u001b[43mDummy_589\u001b[49m\u001b[43m[\u001b[49m\u001b[43mDummy_593\u001b[49m\u001b[43m,\u001b[49m\u001b[43m \u001b[49m\u001b[38;5;241;43m0\u001b[39;49m\u001b[43m]\u001b[49m\u001b[43m \u001b[49m\u001b[38;5;241;43m-\u001b[39;49m\u001b[43m \u001b[49m\u001b[43mDummy_591\u001b[49m\u001b[43m[\u001b[49m\u001b[38;5;241;43m0\u001b[39;49m\u001b[43m]\u001b[49m\u001b[43m)\u001b[49m\u001b[38;5;241;43m*\u001b[39;49m\u001b[43m(\u001b[49m\u001b[38;5;241;43m-\u001b[39;49m\u001b[43mDummy_589\u001b[49m\u001b[43m[\u001b[49m\u001b[43mDummy_593\u001b[49m\u001b[43m,\u001b[49m\u001b[43m \u001b[49m\u001b[38;5;241;43m0\u001b[39;49m\u001b[43m]\u001b[49m\u001b[38;5;241;43m*\u001b[39;49m\u001b[43mDummy_590\u001b[49m\u001b[43m[\u001b[49m\u001b[43mDummy_593\u001b[49m\u001b[43m,\u001b[49m\u001b[43m \u001b[49m\u001b[38;5;241;43m0\u001b[39;49m\u001b[43m]\u001b[49m\u001b[43m \u001b[49m\u001b[38;5;241;43m+\u001b[39;49m\u001b[43m \u001b[49m\u001b[43mDummy_589\u001b[49m\u001b[43m[\u001b[49m\u001b[43mDummy_593\u001b[49m\u001b[43m,\u001b[49m\u001b[43m \u001b[49m\u001b[38;5;241;43m0\u001b[39;49m\u001b[43m]\u001b[49m\u001b[38;5;241;43m*\u001b[39;49m\u001b[43mDummy_592\u001b[49m\u001b[43m[\u001b[49m\u001b[38;5;241;43m0\u001b[39;49m\u001b[43m]\u001b[49m\u001b[43m \u001b[49m\u001b[38;5;241;43m-\u001b[39;49m\u001b[43m \u001b[49m\u001b[43mDummy_589\u001b[49m\u001b[43m[\u001b[49m\u001b[43mDummy_593\u001b[49m\u001b[43m,\u001b[49m\u001b[43m \u001b[49m\u001b[38;5;241;43m1\u001b[39;49m\u001b[43m]\u001b[49m\u001b[38;5;241;43m*\u001b[39;49m\u001b[43mDummy_590\u001b[49m\u001b[43m[\u001b[49m\u001b[43mDummy_593\u001b[49m\u001b[43m,\u001b[49m\u001b[43m \u001b[49m\u001b[38;5;241;43m1\u001b[39;49m\u001b[43m]\u001b[49m\u001b[43m \u001b[49m\u001b[38;5;241;43m+\u001b[39;49m\u001b[43m \u001b[49m\u001b[43mDummy_589\u001b[49m\u001b[43m[\u001b[49m\u001b[43mDummy_593\u001b[49m\u001b[43m,\u001b[49m\u001b[43m \u001b[49m\u001b[38;5;241;43m1\u001b[39;49m\u001b[43m]\u001b[49m\u001b[38;5;241;43m*\u001b[39;49m\u001b[43mDummy_592\u001b[49m\u001b[43m[\u001b[49m\u001b[38;5;241;43m1\u001b[39;49m\u001b[43m]\u001b[49m\u001b[43m \u001b[49m\u001b[38;5;241;43m-\u001b[39;49m\u001b[43m \u001b[49m\u001b[43mDummy_589\u001b[49m\u001b[43m[\u001b[49m\u001b[43mDummy_593\u001b[49m\u001b[43m,\u001b[49m\u001b[43m \u001b[49m\u001b[38;5;241;43m2\u001b[39;49m\u001b[43m]\u001b[49m\u001b[38;5;241;43m*\u001b[39;49m\u001b[43mDummy_590\u001b[49m\u001b[43m[\u001b[49m\u001b[43mDummy_593\u001b[49m\u001b[43m,\u001b[49m\u001b[43m \u001b[49m\u001b[38;5;241;43m2\u001b[39;49m\u001b[43m]\u001b[49m\u001b[43m \u001b[49m\u001b[38;5;241;43m+\u001b[39;49m\u001b[43m \u001b[49m\u001b[43mDummy_589\u001b[49m\u001b[43m[\u001b[49m\u001b[43mDummy_593\u001b[49m\u001b[43m,\u001b[49m\u001b[43m \u001b[49m\u001b[38;5;241;43m2\u001b[39;49m\u001b[43m]\u001b[49m\u001b[38;5;241;43m*\u001b[39;49m\u001b[43mDummy_592\u001b[49m\u001b[43m[\u001b[49m\u001b[38;5;241;43m2\u001b[39;49m\u001b[43m]\u001b[49m\u001b[43m \u001b[49m\u001b[38;5;241;43m+\u001b[39;49m\u001b[43m \u001b[49m\u001b[43mDummy_590\u001b[49m\u001b[43m[\u001b[49m\u001b[43mDummy_593\u001b[49m\u001b[43m,\u001b[49m\u001b[43m \u001b[49m\u001b[38;5;241;43m0\u001b[39;49m\u001b[43m]\u001b[49m\u001b[38;5;241;43m*\u001b[39;49m\u001b[43mDummy_591\u001b[49m\u001b[43m[\u001b[49m\u001b[38;5;241;43m0\u001b[39;49m\u001b[43m]\u001b[49m\u001b[43m \u001b[49m\u001b[38;5;241;43m+\u001b[39;49m\u001b[43m \u001b[49m\u001b[43mDummy_590\u001b[49m\u001b[43m[\u001b[49m\u001b[43mDummy_593\u001b[49m\u001b[43m,\u001b[49m\u001b[43m \u001b[49m\u001b[38;5;241;43m1\u001b[39;49m\u001b[43m]\u001b[49m\u001b[38;5;241;43m*\u001b[39;49m\u001b[43mDummy_591\u001b[49m\u001b[43m[\u001b[49m\u001b[38;5;241;43m1\u001b[39;49m\u001b[43m]\u001b[49m\u001b[43m \u001b[49m\u001b[38;5;241;43m+\u001b[39;49m\u001b[43m \u001b[49m\u001b[43mDummy_590\u001b[49m\u001b[43m[\u001b[49m\u001b[43mDummy_593\u001b[49m\u001b[43m,\u001b[49m\u001b[43m \u001b[49m\u001b[38;5;241;43m2\u001b[39;49m\u001b[43m]\u001b[49m\u001b[38;5;241;43m*\u001b[39;49m\u001b[43mDummy_591\u001b[49m\u001b[43m[\u001b[49m\u001b[38;5;241;43m2\u001b[39;49m\u001b[43m]\u001b[49m\u001b[43m \u001b[49m\u001b[38;5;241;43m-\u001b[39;49m\u001b[43m \u001b[49m\u001b[43mDummy_591\u001b[49m\u001b[43m[\u001b[49m\u001b[38;5;241;43m0\u001b[39;49m\u001b[43m]\u001b[49m\u001b[38;5;241;43m*\u001b[39;49m\u001b[43mDummy_592\u001b[49m\u001b[43m[\u001b[49m\u001b[38;5;241;43m0\u001b[39;49m\u001b[43m]\u001b[49m\u001b[43m \u001b[49m\u001b[38;5;241;43m-\u001b[39;49m\u001b[43m \u001b[49m\u001b[43mDummy_591\u001b[49m\u001b[43m[\u001b[49m\u001b[38;5;241;43m1\u001b[39;49m\u001b[43m]\u001b[49m\u001b[38;5;241;43m*\u001b[39;49m\u001b[43mDummy_592\u001b[49m\u001b[43m[\u001b[49m\u001b[38;5;241;43m1\u001b[39;49m\u001b[43m]\u001b[49m\u001b[43m \u001b[49m\u001b[38;5;241;43m-\u001b[39;49m\u001b[43m \u001b[49m\u001b[43mDummy_591\u001b[49m\u001b[43m[\u001b[49m\u001b[38;5;241;43m2\u001b[39;49m\u001b[43m]\u001b[49m\u001b[38;5;241;43m*\u001b[39;49m\u001b[43mDummy_592\u001b[49m\u001b[43m[\u001b[49m\u001b[38;5;241;43m2\u001b[39;49m\u001b[43m]\u001b[49m\u001b[43m)\u001b[49m\u001b[38;5;241;43m/\u001b[39;49m\u001b[43m(\u001b[49m\u001b[43mDummy_589\u001b[49m\u001b[43m[\u001b[49m\u001b[43mDummy_593\u001b[49m\u001b[43m,\u001b[49m\u001b[43m \u001b[49m\u001b[38;5;241;43m0\u001b[39;49m\u001b[43m]\u001b[49m\u001b[38;5;241;43m*\u001b[39;49m\u001b[38;5;241;43m*\u001b[39;49m\u001b[38;5;241;43m2\u001b[39;49m\u001b[43m \u001b[49m\u001b[38;5;241;43m-\u001b[39;49m\u001b[43m \u001b[49m\u001b[38;5;241;43m2\u001b[39;49m\u001b[38;5;241;43m*\u001b[39;49m\u001b[43mDummy_589\u001b[49m\u001b[43m[\u001b[49m\u001b[43mDummy_593\u001b[49m\u001b[43m,\u001b[49m\u001b[43m \u001b[49m\u001b[38;5;241;43m0\u001b[39;49m\u001b[43m]\u001b[49m\u001b[38;5;241;43m*\u001b[39;49m\u001b[43mDummy_591\u001b[49m\u001b[43m[\u001b[49m\u001b[38;5;241;43m0\u001b[39;49m\u001b[43m]\u001b[49m\u001b[43m \u001b[49m\u001b[38;5;241;43m+\u001b[39;49m\u001b[43m \u001b[49m\u001b[43mDummy_589\u001b[49m\u001b[43m[\u001b[49m\u001b[43mDummy_593\u001b[49m\u001b[43m,\u001b[49m\u001b[43m \u001b[49m\u001b[38;5;241;43m1\u001b[39;49m\u001b[43m]\u001b[49m\u001b[38;5;241;43m*\u001b[39;49m\u001b[38;5;241;43m*\u001b[39;49m\u001b[38;5;241;43m2\u001b[39;49m\u001b[43m \u001b[49m\u001b[38;5;241;43m-\u001b[39;49m\u001b[43m \u001b[49m\u001b[38;5;241;43m2\u001b[39;49m\u001b[38;5;241;43m*\u001b[39;49m\u001b[43mDummy_589\u001b[49m\u001b[43m[\u001b[49m\u001b[43mDummy_593\u001b[49m\u001b[43m,\u001b[49m\u001b[43m \u001b[49m\u001b[38;5;241;43m1\u001b[39;49m\u001b[43m]\u001b[49m\u001b[38;5;241;43m*\u001b[39;49m\u001b[43mDummy_591\u001b[49m\u001b[43m[\u001b[49m\u001b[38;5;241;43m1\u001b[39;49m\u001b[43m]\u001b[49m\u001b[43m \u001b[49m\u001b[38;5;241;43m+\u001b[39;49m\u001b[43m \u001b[49m\u001b[43mDummy_589\u001b[49m\u001b[43m[\u001b[49m\u001b[43mDummy_593\u001b[49m\u001b[43m,\u001b[49m\u001b[43m \u001b[49m\u001b[38;5;241;43m2\u001b[39;49m\u001b[43m]\u001b[49m\u001b[38;5;241;43m*\u001b[39;49m\u001b[38;5;241;43m*\u001b[39;49m\u001b[38;5;241;43m2\u001b[39;49m\u001b[43m \u001b[49m\u001b[38;5;241;43m-\u001b[39;49m\u001b[43m \u001b[49m\u001b[38;5;241;43m2\u001b[39;49m\u001b[38;5;241;43m*\u001b[39;49m\u001b[43mDummy_589\u001b[49m\u001b[43m[\u001b[49m\u001b[43mDummy_593\u001b[49m\u001b[43m,\u001b[49m\u001b[43m \u001b[49m\u001b[38;5;241;43m2\u001b[39;49m\u001b[43m]\u001b[49m\u001b[38;5;241;43m*\u001b[39;49m\u001b[43mDummy_591\u001b[49m\u001b[43m[\u001b[49m\u001b[38;5;241;43m2\u001b[39;49m\u001b[43m]\u001b[49m\u001b[43m \u001b[49m\u001b[38;5;241;43m+\u001b[39;49m\u001b[43m \u001b[49m\u001b[43mDummy_591\u001b[49m\u001b[43m[\u001b[49m\u001b[38;5;241;43m0\u001b[39;49m\u001b[43m]\u001b[49m\u001b[38;5;241;43m*\u001b[39;49m\u001b[38;5;241;43m*\u001b[39;49m\u001b[38;5;241;43m2\u001b[39;49m\u001b[43m \u001b[49m\u001b[38;5;241;43m+\u001b[39;49m\u001b[43m \u001b[49m\u001b[43mDummy_591\u001b[49m\u001b[43m[\u001b[49m\u001b[38;5;241;43m1\u001b[39;49m\u001b[43m]\u001b[49m\u001b[38;5;241;43m*\u001b[39;49m\u001b[38;5;241;43m*\u001b[39;49m\u001b[38;5;241;43m2\u001b[39;49m\u001b[43m \u001b[49m\u001b[38;5;241;43m+\u001b[39;49m\u001b[43m \u001b[49m\u001b[43mDummy_591\u001b[49m\u001b[43m[\u001b[49m\u001b[38;5;241;43m2\u001b[39;49m\u001b[43m]\u001b[49m\u001b[38;5;241;43m*\u001b[39;49m\u001b[38;5;241;43m*\u001b[39;49m\u001b[38;5;241;43m2\u001b[39;49m\u001b[43m)\u001b[49m \u001b[38;5;241m+\u001b[39m Dummy_590[Dummy_593, \u001b[38;5;241m0\u001b[39m] \u001b[38;5;241m-\u001b[39m Dummy_592[\u001b[38;5;241m0\u001b[39m])\u001b[38;5;241m*\u001b[39m\u001b[38;5;241m*\u001b[39m\u001b[38;5;241m2\u001b[39m \u001b[38;5;241m+\u001b[39m ((Dummy_589[Dummy_593, \u001b[38;5;241m1\u001b[39m] \u001b[38;5;241m-\u001b[39m Dummy_591[\u001b[38;5;241m1\u001b[39m])\u001b[38;5;241m*\u001b[39m(\u001b[38;5;241m-\u001b[39mDummy_589[Dummy_593, \u001b[38;5;241m0\u001b[39m]\u001b[38;5;241m*\u001b[39mDummy_590[Dummy_593, \u001b[38;5;241m0\u001b[39m] \u001b[38;5;241m+\u001b[39m Dummy_589[Dummy_593, \u001b[38;5;241m0\u001b[39m]\u001b[38;5;241m*\u001b[39mDummy_592[\u001b[38;5;241m0\u001b[39m] \u001b[38;5;241m-\u001b[39m Dummy_589[Dummy_593, \u001b[38;5;241m1\u001b[39m]\u001b[38;5;241m*\u001b[39mDummy_590[Dummy_593, \u001b[38;5;241m1\u001b[39m] \u001b[38;5;241m+\u001b[39m Dummy_589[Dummy_593, \u001b[38;5;241m1\u001b[39m]\u001b[38;5;241m*\u001b[39mDummy_592[\u001b[38;5;241m1\u001b[39m] \u001b[38;5;241m-\u001b[39m Dummy_589[Dummy_593, \u001b[38;5;241m2\u001b[39m]\u001b[38;5;241m*\u001b[39mDummy_590[Dummy_593, \u001b[38;5;241m2\u001b[39m] \u001b[38;5;241m+\u001b[39m Dummy_589[Dummy_593, \u001b[38;5;241m2\u001b[39m]\u001b[38;5;241m*\u001b[39mDummy_592[\u001b[38;5;241m2\u001b[39m] \u001b[38;5;241m+\u001b[39m Dummy_590[Dummy_593, \u001b[38;5;241m0\u001b[39m]\u001b[38;5;241m*\u001b[39mDummy_591[\u001b[38;5;241m0\u001b[39m] \u001b[38;5;241m+\u001b[39m Dummy_590[Dummy_593, \u001b[38;5;241m1\u001b[39m]\u001b[38;5;241m*\u001b[39mDummy_591[\u001b[38;5;241m1\u001b[39m] \u001b[38;5;241m+\u001b[39m Dummy_590[Dummy_593, \u001b[38;5;241m2\u001b[39m]\u001b[38;5;241m*\u001b[39mDummy_591[\u001b[38;5;241m2\u001b[39m] \u001b[38;5;241m-\u001b[39m Dummy_591[\u001b[38;5;241m0\u001b[39m]\u001b[38;5;241m*\u001b[39mDummy_592[\u001b[38;5;241m0\u001b[39m] \u001b[38;5;241m-\u001b[39m Dummy_591[\u001b[38;5;241m1\u001b[39m]\u001b[38;5;241m*\u001b[39mDummy_592[\u001b[38;5;241m1\u001b[39m] \u001b[38;5;241m-\u001b[39m Dummy_591[\u001b[38;5;241m2\u001b[39m]\u001b[38;5;241m*\u001b[39mDummy_592[\u001b[38;5;241m2\u001b[39m])\u001b[38;5;241m/\u001b[39m(Dummy_589[Dummy_593, \u001b[38;5;241m0\u001b[39m]\u001b[38;5;241m*\u001b[39m\u001b[38;5;241m*\u001b[39m\u001b[38;5;241m2\u001b[39m \u001b[38;5;241m-\u001b[39m \u001b[38;5;241m2\u001b[39m\u001b[38;5;241m*\u001b[39mDummy_589[Dummy_593, \u001b[38;5;241m0\u001b[39m]\u001b[38;5;241m*\u001b[39mDummy_591[\u001b[38;5;241m0\u001b[39m] \u001b[38;5;241m+\u001b[39m Dummy_589[Dummy_593, \u001b[38;5;241m1\u001b[39m]\u001b[38;5;241m*\u001b[39m\u001b[38;5;241m*\u001b[39m\u001b[38;5;241m2\u001b[39m \u001b[38;5;241m-\u001b[39m \u001b[38;5;241m2\u001b[39m\u001b[38;5;241m*\u001b[39mDummy_589[Dummy_593, \u001b[38;5;241m1\u001b[39m]\u001b[38;5;241m*\u001b[39mDummy_591[\u001b[38;5;241m1\u001b[39m] \u001b[38;5;241m+\u001b[39m Dummy_589[Dummy_593, \u001b[38;5;241m2\u001b[39m]\u001b[38;5;241m*\u001b[39m\u001b[38;5;241m*\u001b[39m\u001b[38;5;241m2\u001b[39m \u001b[38;5;241m-\u001b[39m \u001b[38;5;241m2\u001b[39m\u001b[38;5;241m*\u001b[39mDummy_589[Dummy_593, \u001b[38;5;241m2\u001b[39m]\u001b[38;5;241m*\u001b[39mDummy_591[\u001b[38;5;241m2\u001b[39m] \u001b[38;5;241m+\u001b[39m Dummy_591[\u001b[38;5;241m0\u001b[39m]\u001b[38;5;241m*\u001b[39m\u001b[38;5;241m*\u001b[39m\u001b[38;5;241m2\u001b[39m \u001b[38;5;241m+\u001b[39m Dummy_591[\u001b[38;5;241m1\u001b[39m]\u001b[38;5;241m*\u001b[39m\u001b[38;5;241m*\u001b[39m\u001b[38;5;241m2\u001b[39m \u001b[38;5;241m+\u001b[39m Dummy_591[\u001b[38;5;241m2\u001b[39m]\u001b[38;5;241m*\u001b[39m\u001b[38;5;241m*\u001b[39m\u001b[38;5;241m2\u001b[39m) \u001b[38;5;241m+\u001b[39m Dummy_590[Dummy_593, \u001b[38;5;241m1\u001b[39m] \u001b[38;5;241m-\u001b[39m Dummy_592[\u001b[38;5;241m1\u001b[39m])\u001b[38;5;241m*\u001b[39m\u001b[38;5;241m*\u001b[39m\u001b[38;5;241m2\u001b[39m \u001b[38;5;241m+\u001b[39m ((Dummy_589[Dummy_593, \u001b[38;5;241m2\u001b[39m] \u001b[38;5;241m-\u001b[39m Dummy_591[\u001b[38;5;241m2\u001b[39m])\u001b[38;5;241m*\u001b[39m(\u001b[38;5;241m-\u001b[39mDummy_589[Dummy_593, \u001b[38;5;241m0\u001b[39m]\u001b[38;5;241m*\u001b[39mDummy_590[Dummy_593, \u001b[38;5;241m0\u001b[39m] \u001b[38;5;241m+\u001b[39m Dummy_589[Dummy_593, \u001b[38;5;241m0\u001b[39m]\u001b[38;5;241m*\u001b[39mDummy_592[\u001b[38;5;241m0\u001b[39m] \u001b[38;5;241m-\u001b[39m Dummy_589[Dummy_593, \u001b[38;5;241m1\u001b[39m]\u001b[38;5;241m*\u001b[39mDummy_590[Dummy_593, \u001b[38;5;241m1\u001b[39m] \u001b[38;5;241m+\u001b[39m Dummy_589[Dummy_593, \u001b[38;5;241m1\u001b[39m]\u001b[38;5;241m*\u001b[39mDummy_592[\u001b[38;5;241m1\u001b[39m] \u001b[38;5;241m-\u001b[39m Dummy_589[Dummy_593, \u001b[38;5;241m2\u001b[39m]\u001b[38;5;241m*\u001b[39mDummy_590[Dummy_593, \u001b[38;5;241m2\u001b[39m] \u001b[38;5;241m+\u001b[39m Dummy_589[Dummy_593, \u001b[38;5;241m2\u001b[39m]\u001b[38;5;241m*\u001b[39mDummy_592[\u001b[38;5;241m2\u001b[39m] \u001b[38;5;241m+\u001b[39m Dummy_590[Dummy_593, \u001b[38;5;241m0\u001b[39m]\u001b[38;5;241m*\u001b[39mDummy_591[\u001b[38;5;241m0\u001b[39m] \u001b[38;5;241m+\u001b[39m Dummy_590[Dummy_593, \u001b[38;5;241m1\u001b[39m]\u001b[38;5;241m*\u001b[39mDummy_591[\u001b[38;5;241m1\u001b[39m] \u001b[38;5;241m+\u001b[39m Dummy_590[Dummy_593, \u001b[38;5;241m2\u001b[39m]\u001b[38;5;241m*\u001b[39mDummy_591[\u001b[38;5;241m2\u001b[39m] \u001b[38;5;241m-\u001b[39m Dummy_591[\u001b[38;5;241m0\u001b[39m]\u001b[38;5;241m*\u001b[39mDummy_592[\u001b[38;5;241m0\u001b[39m] \u001b[38;5;241m-\u001b[39m Dummy_591[\u001b[38;5;241m1\u001b[39m]\u001b[38;5;241m*\u001b[39mDummy_592[\u001b[38;5;241m1\u001b[39m] \u001b[38;5;241m-\u001b[39m Dummy_591[\u001b[38;5;241m2\u001b[39m]\u001b[38;5;241m*\u001b[39mDummy_592[\u001b[38;5;241m2\u001b[39m])\u001b[38;5;241m/\u001b[39m(Dummy_589[Dummy_593, \u001b[38;5;241m0\u001b[39m]\u001b[38;5;241m*\u001b[39m\u001b[38;5;241m*\u001b[39m\u001b[38;5;241m2\u001b[39m \u001b[38;5;241m-\u001b[39m \u001b[38;5;241m2\u001b[39m\u001b[38;5;241m*\u001b[39mDummy_589[Dummy_593, \u001b[38;5;241m0\u001b[39m]\u001b[38;5;241m*\u001b[39mDummy_591[\u001b[38;5;241m0\u001b[39m] \u001b[38;5;241m+\u001b[39m Dummy_589[Dummy_593, \u001b[38;5;241m1\u001b[39m]\u001b[38;5;241m*\u001b[39m\u001b[38;5;241m*\u001b[39m\u001b[38;5;241m2\u001b[39m \u001b[38;5;241m-\u001b[39m \u001b[38;5;241m2\u001b[39m\u001b[38;5;241m*\u001b[39mDummy_589[Dummy_593, \u001b[38;5;241m1\u001b[39m]\u001b[38;5;241m*\u001b[39mDummy_591[\u001b[38;5;241m1\u001b[39m] \u001b[38;5;241m+\u001b[39m Dummy_589[Dummy_593, \u001b[38;5;241m2\u001b[39m]\u001b[38;5;241m*\u001b[39m\u001b[38;5;241m*\u001b[39m\u001b[38;5;241m2\u001b[39m \u001b[38;5;241m-\u001b[39m \u001b[38;5;241m2\u001b[39m\u001b[38;5;241m*\u001b[39mDummy_589[Dummy_593, \u001b[38;5;241m2\u001b[39m]\u001b[38;5;241m*\u001b[39mDummy_591[\u001b[38;5;241m2\u001b[39m] \u001b[38;5;241m+\u001b[39m Dummy_591[\u001b[38;5;241m0\u001b[39m]\u001b[38;5;241m*\u001b[39m\u001b[38;5;241m*\u001b[39m\u001b[38;5;241m2\u001b[39m \u001b[38;5;241m+\u001b[39m Dummy_591[\u001b[38;5;241m1\u001b[39m]\u001b[38;5;241m*\u001b[39m\u001b[38;5;241m*\u001b[39m\u001b[38;5;241m2\u001b[39m \u001b[38;5;241m+\u001b[39m Dummy_591[\u001b[38;5;241m2\u001b[39m]\u001b[38;5;241m*\u001b[39m\u001b[38;5;241m*\u001b[39m\u001b[38;5;241m2\u001b[39m) \u001b[38;5;241m+\u001b[39m Dummy_590[Dummy_593, \u001b[38;5;241m2\u001b[39m] \u001b[38;5;241m-\u001b[39m Dummy_592[\u001b[38;5;241m2\u001b[39m])\u001b[38;5;241m*\u001b[39m\u001b[38;5;241m*\u001b[39m\u001b[38;5;241m2\u001b[39m\n",
      "\u001b[0;31mKeyboardInterrupt\u001b[0m: "
     ]
    }
   ],
   "source": [
    "lr = 1e-4\n",
    "epsilon = 1e-5\n",
    "\n",
    "step = 0\n",
    "while abs(0 - (y := d(hailstone_positions, throw_position, hailstone_velocities, throw_velocity, ...).sum())) > epsilon:\n",
    "    grads = (\n",
    "        dd_dp(hailstone_positions, throw_position, hailstone_velocities, throw_velocity, ...).mean(1),\n",
    "        # dd_dv(hailstone_positions, throw_position, hailstone_velocities, throw_velocity, ...).mean(1)\n",
    "    )\n",
    "    for v, grad in zip([throw_position, throw_velocity], grads):\n",
    "        v -= lr*grad\n",
    "    if step % 100 ==0:\n",
    "        print(\"Step:\", step)\n",
    "        print(\"y = \", y)\n",
    "        print(list(map(int, throw_position)))\n",
    "        print(throw_velocity)\n",
    "        print(\"Gradients:\", grads)\n",
    "        clear_output(wait=True)\n",
    "    step += 1"
   ]
  },
  {
   "cell_type": "code",
   "execution_count": 679,
   "id": "e58330fa-5e48-4a03-9de1-255f29593914",
   "metadata": {},
   "outputs": [
    {
     "data": {
      "text/plain": [
       "983620716335751"
      ]
     },
     "execution_count": 679,
     "metadata": {},
     "output_type": "execute_result"
    }
   ],
   "source": [
    "np.round(throw_position).astype(np.int64).sum()"
   ]
  },
  {
   "cell_type": "code",
   "execution_count": 678,
   "id": "b90a9b8e-8be9-4ba3-a701-56cc64fa902d",
   "metadata": {},
   "outputs": [
    {
     "data": {
      "text/plain": [
       "array([0.00000000e+00, 0.00000000e+00, 0.00000000e+00, 0.00000000e+00,\n",
       "       0.00000000e+00, 0.00000000e+00, 9.31322575e-10, 0.00000000e+00,\n",
       "       0.00000000e+00, 0.00000000e+00, 0.00000000e+00, 0.00000000e+00,\n",
       "       0.00000000e+00, 0.00000000e+00, 0.00000000e+00, 0.00000000e+00,\n",
       "       0.00000000e+00, 0.00000000e+00, 0.00000000e+00, 0.00000000e+00,\n",
       "       0.00000000e+00, 0.00000000e+00, 9.31322575e-10, 0.00000000e+00,\n",
       "       0.00000000e+00, 0.00000000e+00, 0.00000000e+00, 0.00000000e+00,\n",
       "       0.00000000e+00, 0.00000000e+00, 0.00000000e+00, 0.00000000e+00,\n",
       "       0.00000000e+00, 0.00000000e+00, 0.00000000e+00, 0.00000000e+00,\n",
       "       0.00000000e+00, 0.00000000e+00, 0.00000000e+00, 0.00000000e+00,\n",
       "       0.00000000e+00, 0.00000000e+00, 0.00000000e+00, 0.00000000e+00,\n",
       "       0.00000000e+00, 0.00000000e+00, 0.00000000e+00, 0.00000000e+00,\n",
       "       0.00000000e+00, 0.00000000e+00, 0.00000000e+00, 0.00000000e+00,\n",
       "       0.00000000e+00, 0.00000000e+00, 0.00000000e+00, 0.00000000e+00,\n",
       "       0.00000000e+00, 0.00000000e+00, 0.00000000e+00, 0.00000000e+00,\n",
       "       0.00000000e+00, 0.00000000e+00, 0.00000000e+00, 0.00000000e+00,\n",
       "       0.00000000e+00, 0.00000000e+00, 4.65661287e-10, 0.00000000e+00,\n",
       "       0.00000000e+00, 0.00000000e+00, 0.00000000e+00, 0.00000000e+00,\n",
       "       0.00000000e+00, 0.00000000e+00, 0.00000000e+00, 0.00000000e+00,\n",
       "       0.00000000e+00, 0.00000000e+00, 0.00000000e+00, 0.00000000e+00,\n",
       "       0.00000000e+00, 0.00000000e+00, 0.00000000e+00, 0.00000000e+00,\n",
       "       0.00000000e+00, 0.00000000e+00, 0.00000000e+00, 0.00000000e+00,\n",
       "       0.00000000e+00, 0.00000000e+00, 0.00000000e+00, 0.00000000e+00,\n",
       "       0.00000000e+00, 0.00000000e+00, 0.00000000e+00, 0.00000000e+00,\n",
       "       0.00000000e+00, 0.00000000e+00, 0.00000000e+00, 0.00000000e+00,\n",
       "       0.00000000e+00, 0.00000000e+00, 0.00000000e+00, 0.00000000e+00,\n",
       "       0.00000000e+00, 0.00000000e+00, 0.00000000e+00, 0.00000000e+00,\n",
       "       0.00000000e+00, 0.00000000e+00, 0.00000000e+00, 0.00000000e+00,\n",
       "       0.00000000e+00, 0.00000000e+00, 0.00000000e+00, 0.00000000e+00,\n",
       "       0.00000000e+00, 0.00000000e+00, 0.00000000e+00, 0.00000000e+00,\n",
       "       0.00000000e+00, 0.00000000e+00, 0.00000000e+00, 0.00000000e+00,\n",
       "       0.00000000e+00, 0.00000000e+00, 0.00000000e+00, 0.00000000e+00,\n",
       "       0.00000000e+00, 0.00000000e+00, 2.32830644e-10, 1.16415322e-09,\n",
       "       2.32830644e-10, 0.00000000e+00, 0.00000000e+00, 0.00000000e+00,\n",
       "       0.00000000e+00, 0.00000000e+00, 0.00000000e+00, 0.00000000e+00,\n",
       "       0.00000000e+00, 0.00000000e+00, 0.00000000e+00, 0.00000000e+00,\n",
       "       0.00000000e+00, 0.00000000e+00, 0.00000000e+00, 0.00000000e+00,\n",
       "       0.00000000e+00, 0.00000000e+00, 0.00000000e+00, 0.00000000e+00,\n",
       "       0.00000000e+00, 0.00000000e+00, 0.00000000e+00, 0.00000000e+00,\n",
       "       0.00000000e+00, 0.00000000e+00, 0.00000000e+00, 0.00000000e+00,\n",
       "       0.00000000e+00, 0.00000000e+00, 0.00000000e+00, 0.00000000e+00,\n",
       "       0.00000000e+00, 0.00000000e+00, 0.00000000e+00, 0.00000000e+00,\n",
       "       0.00000000e+00, 0.00000000e+00, 0.00000000e+00, 0.00000000e+00,\n",
       "       0.00000000e+00, 0.00000000e+00, 0.00000000e+00, 0.00000000e+00,\n",
       "       0.00000000e+00, 0.00000000e+00, 0.00000000e+00, 0.00000000e+00,\n",
       "       0.00000000e+00, 0.00000000e+00, 0.00000000e+00, 0.00000000e+00,\n",
       "       0.00000000e+00, 0.00000000e+00, 0.00000000e+00, 0.00000000e+00,\n",
       "       2.32830644e-10, 0.00000000e+00, 0.00000000e+00, 0.00000000e+00,\n",
       "       0.00000000e+00, 0.00000000e+00, 0.00000000e+00, 0.00000000e+00,\n",
       "       0.00000000e+00, 0.00000000e+00, 0.00000000e+00, 0.00000000e+00,\n",
       "       0.00000000e+00, 0.00000000e+00, 0.00000000e+00, 0.00000000e+00,\n",
       "       0.00000000e+00, 0.00000000e+00, 0.00000000e+00, 0.00000000e+00,\n",
       "       0.00000000e+00, 0.00000000e+00, 9.31322575e-10, 0.00000000e+00,\n",
       "       0.00000000e+00, 0.00000000e+00, 0.00000000e+00, 0.00000000e+00,\n",
       "       0.00000000e+00, 9.31322575e-10, 0.00000000e+00, 0.00000000e+00,\n",
       "       0.00000000e+00, 0.00000000e+00, 0.00000000e+00, 0.00000000e+00,\n",
       "       0.00000000e+00, 0.00000000e+00, 0.00000000e+00, 0.00000000e+00,\n",
       "       0.00000000e+00, 0.00000000e+00, 0.00000000e+00, 0.00000000e+00,\n",
       "       9.31322575e-10, 0.00000000e+00, 0.00000000e+00, 0.00000000e+00,\n",
       "       0.00000000e+00, 0.00000000e+00, 0.00000000e+00, 0.00000000e+00,\n",
       "       0.00000000e+00, 0.00000000e+00, 0.00000000e+00, 0.00000000e+00,\n",
       "       0.00000000e+00, 2.32830644e-10, 0.00000000e+00, 0.00000000e+00,\n",
       "       0.00000000e+00, 0.00000000e+00, 0.00000000e+00, 0.00000000e+00,\n",
       "       0.00000000e+00, 0.00000000e+00, 0.00000000e+00, 0.00000000e+00,\n",
       "       0.00000000e+00, 0.00000000e+00, 0.00000000e+00, 0.00000000e+00,\n",
       "       0.00000000e+00, 0.00000000e+00, 0.00000000e+00, 0.00000000e+00,\n",
       "       0.00000000e+00, 0.00000000e+00, 0.00000000e+00, 0.00000000e+00,\n",
       "       0.00000000e+00, 2.32830644e-10, 0.00000000e+00, 0.00000000e+00,\n",
       "       0.00000000e+00, 0.00000000e+00, 0.00000000e+00, 0.00000000e+00,\n",
       "       0.00000000e+00, 0.00000000e+00, 0.00000000e+00, 0.00000000e+00,\n",
       "       0.00000000e+00, 0.00000000e+00, 0.00000000e+00, 0.00000000e+00,\n",
       "       0.00000000e+00, 0.00000000e+00, 0.00000000e+00, 0.00000000e+00,\n",
       "       0.00000000e+00, 0.00000000e+00, 0.00000000e+00, 0.00000000e+00,\n",
       "       0.00000000e+00, 0.00000000e+00, 0.00000000e+00, 0.00000000e+00,\n",
       "       0.00000000e+00, 0.00000000e+00, 2.32830644e-10, 0.00000000e+00],\n",
       "      dtype=float128)"
      ]
     },
     "execution_count": 678,
     "metadata": {},
     "output_type": "execute_result"
    }
   ],
   "source": [
    "d(hailstone_positions, np.round(throw_position).astype(np.int64), hailstone_velocities, throw_velocity, ...)"
   ]
  },
  {
   "cell_type": "code",
   "execution_count": null,
   "id": "f9fd143b-e862-493e-92b3-474fc3103dad",
   "metadata": {},
   "outputs": [],
   "source": []
  }
 ],
 "metadata": {
  "kernelspec": {
   "display_name": "Python 3 (Qiime2)",
   "language": "python",
   "name": "qiime2-amplicon-2023.9"
  },
  "language_info": {
   "codemirror_mode": {
    "name": "ipython",
    "version": 3
   },
   "file_extension": ".py",
   "mimetype": "text/x-python",
   "name": "python",
   "nbconvert_exporter": "python",
   "pygments_lexer": "ipython3",
   "version": "3.8.15"
  }
 },
 "nbformat": 4,
 "nbformat_minor": 5
}
