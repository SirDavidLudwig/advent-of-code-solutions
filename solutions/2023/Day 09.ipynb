{
 "cells": [
  {
   "cell_type": "code",
   "execution_count": 1,
   "id": "9d72a8f4",
   "metadata": {},
   "outputs": [],
   "source": [
    "import sys\n",
    "sys.path.append(\"../../common\")"
   ]
  },
  {
   "cell_type": "code",
   "execution_count": 53,
   "id": "62b0ec11",
   "metadata": {},
   "outputs": [],
   "source": [
    "from aoc import *\n",
    "import numpy as np\n",
    "import re"
   ]
  },
  {
   "cell_type": "code",
   "execution_count": 76,
   "id": "a949b336",
   "metadata": {},
   "outputs": [],
   "source": [
    "with open(\"./puzzle_inputs/09.txt\") as f:\n",
    "    lines = f.readlines()"
   ]
  },
  {
   "cell_type": "code",
   "execution_count": 70,
   "id": "3b8180d0-6e93-4b71-9a39-b3e7c8eda094",
   "metadata": {},
   "outputs": [],
   "source": [
    "lines = \"\"\"0 3 6 9 12 15\n",
    "1 3 6 10 15 21\n",
    "10 13 16 21 30 45\"\"\".split('\\n')"
   ]
  },
  {
   "cell_type": "code",
   "execution_count": 57,
   "id": "ea61e201-dfdc-47d8-a07f-f618504e01a5",
   "metadata": {},
   "outputs": [],
   "source": [
    "lines = \"\"\"5  10  13  16  21  30  45\"\"\".split('\\n')"
   ]
  },
  {
   "cell_type": "code",
   "execution_count": 48,
   "id": "d9cb61ac-c87d-4848-a612-ca2d3e6295f6",
   "metadata": {},
   "outputs": [
    {
     "data": {
      "text/plain": [
       "1993300041"
      ]
     },
     "execution_count": 48,
     "metadata": {},
     "output_type": "execute_result"
    }
   ],
   "source": [
    "n = 0\n",
    "for line in lines:\n",
    "    line = np.array(ints(line))\n",
    "    d = line\n",
    "    rows = [list(d)]\n",
    "    while any(d != 0):\n",
    "        d = d[1:] - d[:-1]\n",
    "        rows.append(list(d))\n",
    "    rows[-1].append(0)\n",
    "    for i in range(len(rows)-1, 0, -1):\n",
    "        rows[i-1].append(rows[i][-1] + rows[i-1][-1])\n",
    "    n += rows[0][-1]\n",
    "n"
   ]
  },
  {
   "cell_type": "code",
   "execution_count": 78,
   "id": "f60a2e18-7f3e-4788-b497-f3184ff2cba8",
   "metadata": {},
   "outputs": [
    {
     "data": {
      "text/plain": [
       "1993300041"
      ]
     },
     "execution_count": 78,
     "metadata": {},
     "output_type": "execute_result"
    }
   ],
   "source": [
    "n = 0\n",
    "for line in lines:\n",
    "    line = np.array(ints(line))\n",
    "    d = line\n",
    "    rows = [list(d)]\n",
    "    while any(d != 0):\n",
    "        d = d[1:] - d[:-1]\n",
    "        rows.append(list(d))\n",
    "    p = 0\n",
    "    for i in range(len(rows)-1-1, -1, -1):\n",
    "        p = p + rows[i][-1]\n",
    "    n += p\n",
    "n"
   ]
  },
  {
   "cell_type": "code",
   "execution_count": 69,
   "id": "dc82419c-b1b5-488c-9dd2-c8657a790582",
   "metadata": {},
   "outputs": [
    {
     "data": {
      "text/plain": [
       "1038"
      ]
     },
     "execution_count": 69,
     "metadata": {},
     "output_type": "execute_result"
    }
   ],
   "source": [
    "n = 0\n",
    "for line in lines:\n",
    "    line = np.array(ints(line))\n",
    "    d = line\n",
    "    rows = [list(d)]\n",
    "    while any(d != 0):\n",
    "        d = d[1:] - d[:-1]\n",
    "        rows.append(list(d))\n",
    "    rows[0].append(0)\n",
    "    for i in range(len(rows)-1, 0, -1):\n",
    "        rows[i-1].insert(0, -rows[i][0] + rows[i-1][0])\n",
    "    n += rows[0][0]\n",
    "n"
   ]
  },
  {
   "cell_type": "code",
   "execution_count": 80,
   "id": "7f68bfdd-fae5-4790-b1b0-c4d721c1ad60",
   "metadata": {},
   "outputs": [
    {
     "data": {
      "text/plain": [
       "1038"
      ]
     },
     "execution_count": 80,
     "metadata": {},
     "output_type": "execute_result"
    }
   ],
   "source": [
    "n = 0\n",
    "for line in lines:\n",
    "    line = np.array(ints(line))\n",
    "    d = line\n",
    "    rows = [list(d)]\n",
    "    while any(d != 0):\n",
    "        d = d[1:] - d[:-1]\n",
    "        rows.append(list(d))\n",
    "    p = 0\n",
    "    for i in range(len(rows)-1-1, -1, -1):\n",
    "        p = -p + rows[i][0]\n",
    "    n += p\n",
    "n"
   ]
  },
  {
   "cell_type": "code",
   "execution_count": null,
   "id": "f9d1c19d-ccbb-4f13-89ed-12fa242f7622",
   "metadata": {},
   "outputs": [],
   "source": []
  }
 ],
 "metadata": {
  "kernelspec": {
   "display_name": "Python 3 (ipykernel)",
   "language": "python",
   "name": "python3"
  },
  "language_info": {
   "codemirror_mode": {
    "name": "ipython",
    "version": 3
   },
   "file_extension": ".py",
   "mimetype": "text/x-python",
   "name": "python",
   "nbconvert_exporter": "python",
   "pygments_lexer": "ipython3",
   "version": "3.11.6"
  }
 },
 "nbformat": 4,
 "nbformat_minor": 5
}
