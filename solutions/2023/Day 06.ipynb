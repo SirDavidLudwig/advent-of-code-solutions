{
 "cells": [
  {
   "cell_type": "code",
   "execution_count": 1,
   "id": "9d72a8f4",
   "metadata": {},
   "outputs": [],
   "source": [
    "import sys\n",
    "sys.path.append(\"../../common\")"
   ]
  },
  {
   "cell_type": "code",
   "execution_count": 4,
   "id": "62b0ec11",
   "metadata": {},
   "outputs": [],
   "source": [
    "from aoc import *\n",
    "import numpy as np\n",
    "import re"
   ]
  },
  {
   "cell_type": "code",
   "execution_count": 56,
   "id": "a949b336",
   "metadata": {},
   "outputs": [],
   "source": [
    "with open(\"./puzzle_inputs/06.txt\") as f:\n",
    "    lines = f.readlines()"
   ]
  },
  {
   "cell_type": "code",
   "execution_count": 4,
   "id": "663f84e2-2a7d-444c-bd99-e6d8e397cac8",
   "metadata": {},
   "outputs": [],
   "source": [
    "lines = \"\"\"Time:      7  15   30\n",
    "Distance:  9  40  200\"\"\".split('\\n')"
   ]
  },
  {
   "cell_type": "code",
   "execution_count": 5,
   "id": "0f39c674-97c6-4e14-b18d-7d8d619cfc2a",
   "metadata": {},
   "outputs": [],
   "source": [
    "time = npints(lines[0].split(':')[1])\n",
    "distance = npints(lines[1].split(':')[1])"
   ]
  },
  {
   "cell_type": "code",
   "execution_count": 6,
   "id": "6fef65fd-9f68-468f-a376-5acfbe9c49cf",
   "metadata": {},
   "outputs": [
    {
     "data": {
      "text/plain": [
       "288"
      ]
     },
     "execution_count": 6,
     "metadata": {},
     "output_type": "execute_result"
    }
   ],
   "source": [
    "ans = []\n",
    "for t, d in zip(time, distance):\n",
    "    n = 0\n",
    "    for hold_time in range(0, t+1):\n",
    "        remaining_time = t-hold_time\n",
    "        dist = hold_time*remaining_time\n",
    "        if dist > d:\n",
    "            n += 1\n",
    "    ans.append(n)\n",
    "np.product(ans)"
   ]
  },
  {
   "cell_type": "code",
   "execution_count": 57,
   "id": "f5b46e3a-cae2-4387-b649-d5e7e2fa9fbe",
   "metadata": {},
   "outputs": [],
   "source": [
    "time = int(lines[0].split(':')[1].replace(' ', ''))\n",
    "distance = int(lines[1].split(':')[1].replace(' ', ''))"
   ]
  },
  {
   "cell_type": "code",
   "execution_count": 67,
   "id": "d7d12f6d-968c-4214-8d84-ed214014d717",
   "metadata": {},
   "outputs": [
    {
     "data": {
      "text/plain": [
       "38677673"
      ]
     },
     "execution_count": 67,
     "metadata": {},
     "output_type": "execute_result"
    }
   ],
   "source": [
    "time"
   ]
  },
  {
   "cell_type": "code",
   "execution_count": 59,
   "id": "925180ee-982a-46df-951d-e0c656a94874",
   "metadata": {},
   "outputs": [
    {
     "data": {
      "text/plain": [
       "234102711571236"
      ]
     },
     "execution_count": 59,
     "metadata": {},
     "output_type": "execute_result"
    }
   ],
   "source": [
    "distance"
   ]
  },
  {
   "cell_type": "code",
   "execution_count": 60,
   "id": "42fafede-ec26-49ea-86bd-064ff7877626",
   "metadata": {},
   "outputs": [],
   "source": [
    "f = lambda x: (time - x)*x - distance4\n",
    "fp = lambda x: -2*x + time"
   ]
  },
  {
   "cell_type": "code",
   "execution_count": 61,
   "id": "142a6ca7-6e89-417f-b0e5-1ac849fcce58",
   "metadata": {},
   "outputs": [],
   "source": [
    "a = 0\n",
    "for i in range(100):\n",
    "    a = a - f(a)/fp(a)\n",
    "a = int(np.ceil(a))\n",
    "\n",
    "b = time\n",
    "for i in range(100):\n",
    "    b = b - f(b)/fp(b)\n",
    "b = int(np.floor(b))"
   ]
  },
  {
   "cell_type": "code",
   "execution_count": 62,
   "id": "da8320f8-4143-4289-84b5-fb737569816f",
   "metadata": {},
   "outputs": [
    {
     "data": {
      "text/plain": [
       "23654842"
      ]
     },
     "execution_count": 62,
     "metadata": {},
     "output_type": "execute_result"
    }
   ],
   "source": [
    "b - a + 1"
   ]
  },
  {
   "cell_type": "code",
   "execution_count": 71,
   "id": "5745c76b-85ee-4ba4-9b51-a2d9dea2336e",
   "metadata": {},
   "outputs": [
    {
     "data": {
      "text/plain": [
       "23654842"
      ]
     },
     "execution_count": 71,
     "metadata": {},
     "output_type": "execute_result"
    }
   ],
   "source": [
    "from numba import njit\n",
    "\n",
    "@njit\n",
    "def find(time: int, distance: int):\n",
    "    n = 0\n",
    "    for t in range(1, time):\n",
    "        if (time-t)*t > distance:\n",
    "            n += 1\n",
    "    return n\n",
    "\n",
    "find(time, distance)"
   ]
  },
  {
   "cell_type": "code",
   "execution_count": null,
   "id": "76d8bcc2-b7b8-4b8b-bcbe-7172e00c19d9",
   "metadata": {},
   "outputs": [],
   "source": []
  }
 ],
 "metadata": {
  "kernelspec": {
   "display_name": "Python 3 (ipykernel)",
   "language": "python",
   "name": "python3"
  },
  "language_info": {
   "codemirror_mode": {
    "name": "ipython",
    "version": 3
   },
   "file_extension": ".py",
   "mimetype": "text/x-python",
   "name": "python",
   "nbconvert_exporter": "python",
   "pygments_lexer": "ipython3",
   "version": "3.11.6"
  }
 },
 "nbformat": 4,
 "nbformat_minor": 5
}
