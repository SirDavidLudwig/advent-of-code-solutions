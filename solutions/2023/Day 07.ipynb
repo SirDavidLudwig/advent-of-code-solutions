{
 "cells": [
  {
   "cell_type": "code",
   "execution_count": 216,
   "id": "9d72a8f4",
   "metadata": {},
   "outputs": [],
   "source": [
    "import sys\n",
    "sys.path.append(\"../../common\")"
   ]
  },
  {
   "cell_type": "code",
   "execution_count": 301,
   "id": "62b0ec11",
   "metadata": {},
   "outputs": [],
   "source": [
    "from aoc import *\n",
    "from enum import Enum, auto\n",
    "from collections import defaultdict\n",
    "import numpy as np\n",
    "import re"
   ]
  },
  {
   "cell_type": "code",
   "execution_count": 250,
   "id": "a949b336",
   "metadata": {},
   "outputs": [],
   "source": [
    "with open(\"./puzzle_inputs/07.txt\") as f:\n",
    "    lines = f.readlines()"
   ]
  },
  {
   "cell_type": "code",
   "execution_count": 219,
   "id": "2b209121-58bc-45ac-a84a-c367abd0b587",
   "metadata": {},
   "outputs": [],
   "source": [
    "values = {\n",
    "    **{str(i): i for i in range(2, 10)},\n",
    "    'T': 10,\n",
    "    'J': 11,\n",
    "    'Q': 12,\n",
    "    'K': 13,\n",
    "    'A': 14\n",
    "}\n",
    "wins = {\n",
    "    \"five\": [],\n",
    "    \"four\": [],\n",
    "    \"full\": [],\n",
    "    \"three\": [],\n",
    "    \"two\": [],\n",
    "    \"one\": [],\n",
    "    \"high\": []\n",
    "}\n",
    "for line in lines:\n",
    "    a, b = line.split()\n",
    "    counts = defaultdict(int)\n",
    "    cards = tuple(sorted([values[c] for c in a], reverse=True))\n",
    "    for c in cards:\n",
    "        counts[c] += 1\n",
    "    counts = sorted(list(counts.values()), reverse=True)\n",
    "    if len(counts) == 1:\n",
    "        k = \"five\"\n",
    "    elif len(counts) == 2 and counts[0] == 4:\n",
    "        k = \"four\"\n",
    "    elif len(counts) == 2 and counts[0] == 3 and counts[1] == 2:\n",
    "        k = \"full\"\n",
    "    elif len(counts) == 3 and counts[0] == 3 and counts[1] == 1:\n",
    "        k = \"three\"\n",
    "    elif len(counts) == 3 and counts[0] == 2 and counts[1] == 2:\n",
    "        k = \"two\"\n",
    "    elif len(counts) == 4 and counts[0] == 2 and counts[1] == 1:\n",
    "        k = \"one\"\n",
    "    elif len(counts) == 5:\n",
    "        k = \"high\"\n",
    "    else:\n",
    "        raise Exception(f\"{a} {b}\")\n",
    "    wins[k].append((tuple([values[c] for c in a]), int(b)))\n",
    "\n",
    "for bucket in wins:\n",
    "    wins[bucket] = sorted(wins[bucket], reverse=True)"
   ]
  },
  {
   "cell_type": "code",
   "execution_count": 126,
   "id": "792ab764-5417-479d-84a2-cbd323e40619",
   "metadata": {},
   "outputs": [],
   "source": [
    "hands = [hand for hands in wins.values() for hand in hands]"
   ]
  },
  {
   "cell_type": "code",
   "execution_count": 128,
   "id": "5424544f-fa32-441f-90b2-6e886bff4683",
   "metadata": {},
   "outputs": [
    {
     "data": {
      "text/plain": [
       "250254244"
      ]
     },
     "execution_count": 128,
     "metadata": {},
     "output_type": "execute_result"
    }
   ],
   "source": [
    "n = 0\n",
    "for rank, value in enumerate(hands[::-1], start=1):\n",
    "    n += rank*value[1]\n",
    "n"
   ]
  },
  {
   "cell_type": "code",
   "execution_count": 267,
   "id": "9b3d447d-603b-4cf1-a9b5-296a9ec03af1",
   "metadata": {},
   "outputs": [],
   "source": [
    "types = [\"high\", \"one\", \"two\", \"three\", \"full\", \"four\", \"five\"]\n",
    "type_ranks = {v: i for i, v in enumerate(types)}"
   ]
  },
  {
   "cell_type": "code",
   "execution_count": 268,
   "id": "9ccb24a3-390d-4ce2-a4b0-15146cbc4f79",
   "metadata": {},
   "outputs": [],
   "source": [
    "def hand_type(cards):\n",
    "    counts = defaultdict(int)\n",
    "    cards = tuple(sorted([values[c] for c in cards], reverse=True))\n",
    "    for c in cards:\n",
    "        counts[c] += 1\n",
    "    counts = sorted(list(counts.values()), reverse=True)\n",
    "    if len(counts) == 1:\n",
    "        k = \"five\"\n",
    "    elif len(counts) == 2 and counts[0] == 4:\n",
    "        k = \"four\"\n",
    "    elif len(counts) == 2 and counts[0] == 3 and counts[1] == 2:\n",
    "        k = \"full\"\n",
    "    elif len(counts) == 3 and counts[0] == 3 and counts[1] == 1:\n",
    "        k = \"three\"\n",
    "    elif len(counts) == 3 and counts[0] == 2 and counts[1] == 2:\n",
    "        k = \"two\"\n",
    "    elif len(counts) == 4 and counts[0] == 2 and counts[1] == 1:\n",
    "        k = \"one\"\n",
    "    elif len(counts) == 5:\n",
    "        k = \"high\"\n",
    "    else:\n",
    "        raise Exception(f\"{a} {b}\")\n",
    "    return k\n",
    "\n",
    "def hand_to_tuple(cards):\n",
    "    return tuple([values[c] for c in cards])"
   ]
  },
  {
   "cell_type": "code",
   "execution_count": 231,
   "id": "edb60b94-f510-4609-855c-ebe344347f5a",
   "metadata": {},
   "outputs": [],
   "source": [
    "from itertools import product, repeat"
   ]
  },
  {
   "cell_type": "code",
   "execution_count": 295,
   "id": "fb90f17d-8390-4d90-90ac-4749aa235292",
   "metadata": {},
   "outputs": [],
   "source": [
    "wins = {v: [] for v in types}\n",
    "\n",
    "for line in lines:\n",
    "    a, b = line.split()\n",
    "    if a.count('J') == 0:\n",
    "        wins[hand_type(a)].append((hand_to_tuple(a), int(b)))\n",
    "        continue\n",
    "\n",
    "    best_ht = None\n",
    "    for replacements in product(*repeat(list(values.keys())[1:], a.count('J'))):\n",
    "        a2 = \"\"\n",
    "        i = 0\n",
    "        for c in a:\n",
    "            if c == 'J':\n",
    "                a2 += replacements[i]\n",
    "                i += 1\n",
    "            else:\n",
    "                a2 += c\n",
    "        ht = hand_type(a2)\n",
    "        if best_ht is None or hand_rank_values[ht] > hand_rank_values[best_ht]:\n",
    "            best_ht = ht\n",
    "        elif ht == best_ht and hand_to_tuple(a2) > best_cards:\n",
    "            best_cards = hand_to_tuple(a2)\n",
    "    wins[best_ht].append((hand_to_tuple(a), int(b)))"
   ]
  },
  {
   "cell_type": "code",
   "execution_count": 296,
   "id": "69257a18-acd9-4f08-9402-e34a7bb6f9e7",
   "metadata": {},
   "outputs": [],
   "source": [
    "hands = [hand for hands in wins.values() for hand in sorted(hands)]"
   ]
  },
  {
   "cell_type": "code",
   "execution_count": 298,
   "id": "e3279e42-6996-428d-962f-551f755d6c8f",
   "metadata": {},
   "outputs": [
    {
     "data": {
      "text/plain": [
       "250087440"
      ]
     },
     "execution_count": 298,
     "metadata": {},
     "output_type": "execute_result"
    }
   ],
   "source": [
    "n = 0\n",
    "for rank, value in enumerate(hands, start=1):\n",
    "    n += rank*value[1]\n",
    "n"
   ]
  }
 ],
 "metadata": {
  "kernelspec": {
   "display_name": "Python 3 (ipykernel)",
   "language": "python",
   "name": "python3"
  },
  "language_info": {
   "codemirror_mode": {
    "name": "ipython",
    "version": 3
   },
   "file_extension": ".py",
   "mimetype": "text/x-python",
   "name": "python",
   "nbconvert_exporter": "python",
   "pygments_lexer": "ipython3",
   "version": "3.11.6"
  }
 },
 "nbformat": 4,
 "nbformat_minor": 5
}
