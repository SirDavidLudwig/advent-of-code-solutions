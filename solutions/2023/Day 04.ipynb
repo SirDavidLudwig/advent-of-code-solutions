{
 "cells": [
  {
   "cell_type": "code",
   "execution_count": 18,
   "id": "9d72a8f4",
   "metadata": {},
   "outputs": [],
   "source": [
    "import sys\n",
    "sys.path.append(\"../../common\")"
   ]
  },
  {
   "cell_type": "code",
   "execution_count": 19,
   "id": "62b0ec11",
   "metadata": {},
   "outputs": [],
   "source": [
    "from aoc import *\n",
    "import numpy as np\n",
    "import re"
   ]
  },
  {
   "cell_type": "code",
   "execution_count": 78,
   "id": "a949b336",
   "metadata": {},
   "outputs": [],
   "source": [
    "with open(\"./puzzle_inputs/04.txt\") as f:\n",
    "    lines = f.readlines()"
   ]
  },
  {
   "cell_type": "code",
   "execution_count": 74,
   "id": "b5c87145-b82a-481e-82aa-67848d8146f7",
   "metadata": {},
   "outputs": [],
   "source": [
    "lines = \"\"\"Card 1: 41 48 83 86 17 | 83 86  6 31 17  9 48 53\n",
    "Card 2: 13 32 20 16 61 | 61 30 68 82 17 32 24 19\n",
    "Card 3:  1 21 53 59 44 | 69 82 63 72 16 21 14  1\n",
    "Card 4: 41 92 73 84 69 | 59 84 76 51 58  5 54 83\n",
    "Card 5: 87 83 26 28 32 | 88 30 70 12 93 22 82 36\n",
    "Card 6: 31 18 13 56 72 | 74 77 10 23 35 67 36 11\"\"\".split('\\n')"
   ]
  },
  {
   "cell_type": "code",
   "execution_count": 30,
   "id": "afeafb5c-108d-40a7-98e3-31ce02d6534b",
   "metadata": {},
   "outputs": [
    {
     "data": {
      "text/plain": [
       "28750"
      ]
     },
     "execution_count": 30,
     "metadata": {},
     "output_type": "execute_result"
    }
   ],
   "source": [
    "n = 0\n",
    "for line in lines:\n",
    "    card, right = line.strip().split(': ')\n",
    "    win, nums = right.split(' | ')\n",
    "    nums = ints(nums.split())\n",
    "    win = ints(win.split())\n",
    "    matches = 0\n",
    "    for i in nums:\n",
    "        if i in win:\n",
    "            del win[win.index(i)]\n",
    "            matches += 1\n",
    "    if matches > 0:\n",
    "        n += 2**(matches-1)\n",
    "n"
   ]
  },
  {
   "cell_type": "code",
   "execution_count": 79,
   "id": "b90e7962-7bfb-4362-ab27-50a3d1d657aa",
   "metadata": {},
   "outputs": [],
   "source": [
    "win_counts = {}\n",
    "for line in lines:\n",
    "    card, right = line.strip().split(': ')\n",
    "    card = int(card.split()[-1])\n",
    "    win, nums = right.split(' | ')\n",
    "    nums = ints(nums.split())\n",
    "    win = ints(win.split())\n",
    "    matches = 0\n",
    "    for i in nums:\n",
    "        if i in win:\n",
    "            del win[win.index(i)]\n",
    "            matches += 1\n",
    "    win_counts[card] = matches"
   ]
  },
  {
   "cell_type": "code",
   "execution_count": 84,
   "id": "88c5105e-f8da-423d-b355-759ebb893627",
   "metadata": {},
   "outputs": [],
   "source": [
    "def static_vars(**kwargs):\n",
    "    def decorate(func):\n",
    "        for k in kwargs:\n",
    "            setattr(func, k, kwargs[k])\n",
    "        return func\n",
    "    return decorate"
   ]
  },
  {
   "cell_type": "code",
   "execution_count": 87,
   "id": "79fe3b26-e382-4929-8b64-6c7198a279bf",
   "metadata": {},
   "outputs": [
    {
     "data": {
      "text/plain": [
       "10212704"
      ]
     },
     "execution_count": 87,
     "metadata": {},
     "output_type": "execute_result"
    }
   ],
   "source": [
    "@static_vars(memoized={})\n",
    "def count_cards(card):\n",
    "    if card in count_cards.memoized:\n",
    "        return count_cards.memoized[card]\n",
    "    n = 1\n",
    "    for i in range(card+1, card+win_counts[card]+1):\n",
    "        n += count_cards(i)\n",
    "    count_cards.memoized[card] = n\n",
    "    return n\n",
    "sum(map(count_cards, win_counts.keys()))"
   ]
  },
  {
   "cell_type": "code",
   "execution_count": null,
   "id": "cd1a3962-5f14-457f-b1f1-542d33f3e6e5",
   "metadata": {},
   "outputs": [],
   "source": []
  }
 ],
 "metadata": {
  "kernelspec": {
   "display_name": "Python 3 (ipykernel)",
   "language": "python",
   "name": "python3"
  },
  "language_info": {
   "codemirror_mode": {
    "name": "ipython",
    "version": 3
   },
   "file_extension": ".py",
   "mimetype": "text/x-python",
   "name": "python",
   "nbconvert_exporter": "python",
   "pygments_lexer": "ipython3",
   "version": "3.10.6"
  }
 },
 "nbformat": 4,
 "nbformat_minor": 5
}
