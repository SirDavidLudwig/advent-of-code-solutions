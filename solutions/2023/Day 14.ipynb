{
 "cells": [
  {
   "cell_type": "markdown",
   "id": "7876417d-dac2-4d09-ad39-ef39c81c8436",
   "metadata": {},
   "source": [
    "<div style=\"background-color: rgb(15, 15, 35); border: 1px solid rgb(255, 255, 255); color: rgb(204, 204, 204); font-family: monospace; margin-left: -5px; margin-right: -20px; padding: 1rem;\"><h2 style=\"border-color: rgb(255, 255, 255); color: rgb(255, 255, 255);\">--- Day 14: Parabolic Reflector Dish ---</h2><p style=\"border-color: rgb(204, 204, 204); color: rgb(204, 204, 204);\">You reach the place where all of the mirrors were pointing: a massive <a href=\"https://en.wikipedia.org/wiki/Parabolic_reflector\" target=\"_blank\" style=\"border-color: rgb(0, 153, 0); color: rgb(0, 153, 0);\">parabolic reflector dish</a> <span title=\"Why, where do you attach YOUR massive parabolic reflector dishes?\" style=\"border-color: rgb(204, 204, 204); color: rgb(204, 204, 204);\">attached</span> to the side of another large mountain.</p>\n",
    "<p style=\"border-color: rgb(204, 204, 204); color: rgb(204, 204, 204);\">The dish is made up of many small mirrors, but while the mirrors themselves are roughly in the shape of a parabolic reflector dish, each individual mirror seems to be pointing in slightly the wrong direction. If the dish is meant to focus light, all it's doing right now is sending it in a vague direction.</p>\n",
    "<p style=\"border-color: rgb(204, 204, 204); color: rgb(204, 204, 204);\">This system must be what provides the energy for the lava! If you focus the reflector dish, maybe you can go where it's pointing and use the light to fix the lava production.</p>\n",
    "<p style=\"border-color: rgb(204, 204, 204); color: rgb(204, 204, 204);\">Upon closer inspection, the individual mirrors each appear to be connected via an elaborate system of ropes and pulleys to a large metal platform below the dish. The platform is covered in large rocks of various shapes. Depending on their position, the weight of the rocks deforms the platform, and the shape of the platform controls which ropes move and ultimately the focus of the dish.</p>\n",
    "<p style=\"border-color: rgb(204, 204, 204); color: rgb(204, 204, 204);\">In short: if you move the rocks, you can focus the dish. The platform even has a control panel on the side that lets you <em style=\"border-color: rgb(255, 255, 255); color: rgb(255, 255, 255); text-shadow: rgb(255, 255, 255) 0px 0px 5px;\">tilt</em> it in one of four directions! The rounded rocks (<code style=\"border: 1px solid rgb(51, 51, 64); color: rgb(204, 204, 204); background: rgb(16, 16, 26);\">O</code>) will roll when the platform is tilted, while the cube-shaped rocks (<code style=\"border: 1px solid rgb(51, 51, 64); color: rgb(204, 204, 204); background: rgb(16, 16, 26);\">#</code>) will stay in place. You note the positions of all of the empty spaces (<code style=\"border: 1px solid rgb(51, 51, 64); color: rgb(204, 204, 204); background: rgb(16, 16, 26);\">.</code>) and rocks (your puzzle input). For example:</p>\n",
    "<pre style=\"border: 1px solid rgb(51, 51, 64); color: rgb(204, 204, 204); background-color: rgb(16, 16, 26); display: inline-block;\"><code style=\"border-color: rgb(204, 204, 204); color: rgb(204, 204, 204); background-color: rgb(16, 16, 26);\">O....#....\n",
    "O.OO#....#\n",
    ".....##...\n",
    "OO.#O....O\n",
    ".O.....O#.\n",
    "O.#..O.#.#\n",
    "..O..#O..O\n",
    ".......O..\n",
    "#....###..\n",
    "#OO..#....\n",
    "</code></pre>\n",
    "<p style=\"border-color: rgb(204, 204, 204); color: rgb(204, 204, 204);\">Start by tilting the lever so all of the rocks will slide <em style=\"border-color: rgb(255, 255, 255); color: rgb(255, 255, 255); text-shadow: rgb(255, 255, 255) 0px 0px 5px;\">north</em> as far as they will go:</p>\n",
    "<pre style=\"border: 1px solid rgb(51, 51, 64); color: rgb(204, 204, 204); background-color: rgb(16, 16, 26); display: inline-block;\"><code style=\"border-color: rgb(204, 204, 204); color: rgb(204, 204, 204); background-color: rgb(16, 16, 26);\">OOOO.#.O..\n",
    "OO..#....#\n",
    "OO..O##..O\n",
    "O..#.OO...\n",
    "........#.\n",
    "..#....#.#\n",
    "..O..#.O.O\n",
    "..O.......\n",
    "#....###..\n",
    "#....#....\n",
    "</code></pre>\n",
    "<p style=\"border-color: rgb(204, 204, 204); color: rgb(204, 204, 204);\">You notice that the support beams along the north side of the platform are <em style=\"border-color: rgb(255, 255, 255); color: rgb(255, 255, 255); text-shadow: rgb(255, 255, 255) 0px 0px 5px;\">damaged</em>; to ensure the platform doesn't collapse, you should calculate the <em style=\"border-color: rgb(255, 255, 255); color: rgb(255, 255, 255); text-shadow: rgb(255, 255, 255) 0px 0px 5px;\">total load</em> on the north support beams.</p>\n",
    "<p style=\"border-color: rgb(204, 204, 204); color: rgb(204, 204, 204);\">The amount of load caused by a single rounded rock (<code style=\"border: 1px solid rgb(51, 51, 64); color: rgb(204, 204, 204); background: rgb(16, 16, 26);\">O</code>) is equal to the number of rows from the rock to the south edge of the platform, including the row the rock is on. (Cube-shaped rocks (<code style=\"border: 1px solid rgb(51, 51, 64); color: rgb(204, 204, 204); background: rgb(16, 16, 26);\">#</code>) don't contribute to load.) So, the amount of load caused by each rock in each row is as follows:</p>\n",
    "<pre style=\"border: 1px solid rgb(51, 51, 64); color: rgb(204, 204, 204); background-color: rgb(16, 16, 26); display: inline-block;\"><code style=\"border-color: rgb(204, 204, 204); color: rgb(204, 204, 204); background-color: rgb(16, 16, 26);\">OOOO.#.O.. 10\n",
    "OO..#....#  9\n",
    "OO..O##..O  8\n",
    "O..#.OO...  7\n",
    "........#.  6\n",
    "..#....#.#  5\n",
    "..O..#.O.O  4\n",
    "..O.......  3\n",
    "#....###..  2\n",
    "#....#....  1\n",
    "</code></pre>\n",
    "<p style=\"border-color: rgb(204, 204, 204); color: rgb(204, 204, 204);\">The total load is the sum of the load caused by all of the <em style=\"border-color: rgb(255, 255, 255); color: rgb(255, 255, 255); text-shadow: rgb(255, 255, 255) 0px 0px 5px;\">rounded rocks</em>. In this example, the total load is <code style=\"border: 1px solid rgb(51, 51, 64); color: rgb(204, 204, 204); background: rgb(16, 16, 26);\"><em style=\"border-color: rgb(255, 255, 255); color: rgb(255, 255, 255); text-shadow: rgb(255, 255, 255) 0px 0px 5px;\">136</em></code>.</p>\n",
    "<p style=\"border-color: rgb(204, 204, 204); color: rgb(204, 204, 204);\">Tilt the platform so that the rounded rocks all roll north. Afterward, <em style=\"border-color: rgb(255, 255, 255); color: rgb(255, 255, 255); text-shadow: rgb(255, 255, 255) 0px 0px 5px;\">what is the total load on the north support beams?</em></p>\n",
    "</div>"
   ]
  },
  {
   "cell_type": "code",
   "execution_count": 320,
   "id": "9d72a8f4",
   "metadata": {},
   "outputs": [],
   "source": [
    "import sys\n",
    "sys.path.append(\"../../common\")"
   ]
  },
  {
   "cell_type": "code",
   "execution_count": 321,
   "id": "62b0ec11",
   "metadata": {},
   "outputs": [],
   "source": [
    "from aoc import *\n",
    "import numpy as np\n",
    "import re"
   ]
  },
  {
   "cell_type": "code",
   "execution_count": 322,
   "id": "a949b336",
   "metadata": {},
   "outputs": [],
   "source": [
    "with open(\"./puzzle_inputs/14.txt\") as f:\n",
    "    lines = f.readlines()"
   ]
  },
  {
   "cell_type": "code",
   "execution_count": 226,
   "id": "8b2e1080-c13a-4ece-ba17-0141a828b450",
   "metadata": {},
   "outputs": [],
   "source": [
    "lines = \"\"\"O....#....\n",
    "O.OO#....#\n",
    ".....##...\n",
    "OO.#O....O\n",
    ".O.....O#.\n",
    "O.#..O.#.#\n",
    "..O..#O..O\n",
    ".......O..\n",
    "#....###..\n",
    "#OO..#....\"\"\".split('\\n')"
   ]
  },
  {
   "cell_type": "code",
   "execution_count": 16,
   "id": "2b6bd4dc-d1e3-4b27-809d-dd79fba0bc28",
   "metadata": {},
   "outputs": [],
   "source": [
    "def tilt_up(grid):\n",
    "    moved = 0\n",
    "    for j in range(grid.shape[1]):\n",
    "        for i in range(1, grid.shape[0]):\n",
    "            if grid[i,j] == 'O' and grid[i-1,j] == '.':\n",
    "                grid[i-1,j], grid[i,j] = 'O', '.'\n",
    "                moved += 1\n",
    "    return moved"
   ]
  },
  {
   "cell_type": "code",
   "execution_count": 23,
   "id": "4a03344f-c68d-436e-b349-db59316edd9d",
   "metadata": {},
   "outputs": [
    {
     "data": {
      "text/plain": [
       "array([['O', 'O', '.', ..., '#', 'O', '.'],\n",
       "       ['O', '.', '#', ..., 'O', '.', '#'],\n",
       "       ['O', '.', 'O', ..., '.', '.', 'O'],\n",
       "       ...,\n",
       "       ['.', '.', '#', ..., '.', 'O', '.'],\n",
       "       ['.', '.', '.', ..., '.', '.', '.'],\n",
       "       ['.', '.', '.', ..., '.', '.', '.']], dtype='<U1')"
      ]
     },
     "execution_count": 23,
     "metadata": {},
     "output_type": "execute_result"
    }
   ],
   "source": [
    "grid = np.array([list(line.strip()) for line in lines])\n",
    "while tilt_up(grid) > 0:\n",
    "    ...\n",
    "grid"
   ]
  },
  {
   "cell_type": "code",
   "execution_count": 25,
   "id": "bbaa151d-770d-4dab-98c4-222bede77bfb",
   "metadata": {},
   "outputs": [
    {
     "data": {
      "text/plain": [
       "109466"
      ]
     },
     "execution_count": 25,
     "metadata": {},
     "output_type": "execute_result"
    }
   ],
   "source": [
    "load = 0\n",
    "for i, row in enumerate(grid):\n",
    "    for c in row:\n",
    "        if c == 'O':\n",
    "            load += grid.shape[1] - i\n",
    "load"
   ]
  },
  {
   "cell_type": "markdown",
   "id": "acd12195-6117-41ce-97e9-f15155d3e17b",
   "metadata": {},
   "source": [
    "<div style=\"background-color: rgb(15, 15, 35); border: 1px solid rgb(255, 255, 255); color: rgb(204, 204, 204); font-family: monospace; margin-left: -5px; margin-right: -20px; padding: 1rem;\"><h2 id=\"part2\" style=\"border-color: rgb(255, 255, 255); color: rgb(255, 255, 255);\">--- Part Two ---</h2><p style=\"border-color: rgb(204, 204, 204); color: rgb(204, 204, 204);\">The parabolic reflector dish deforms, but not in a way that focuses the beam. To do that, you'll need to move the rocks to the edges of the platform. Fortunately, a button on the side of the control panel labeled \"<em style=\"border-color: rgb(255, 255, 255); color: rgb(255, 255, 255); text-shadow: rgb(255, 255, 255) 0px 0px 5px;\">spin cycle</em>\" attempts to do just that!</p>\n",
    "<p style=\"border-color: rgb(204, 204, 204); color: rgb(204, 204, 204);\">Each <em style=\"border-color: rgb(255, 255, 255); color: rgb(255, 255, 255); text-shadow: rgb(255, 255, 255) 0px 0px 5px;\">cycle</em> tilts the platform four times so that the rounded rocks roll <em style=\"border-color: rgb(255, 255, 255); color: rgb(255, 255, 255); text-shadow: rgb(255, 255, 255) 0px 0px 5px;\">north</em>, then <em style=\"border-color: rgb(255, 255, 255); color: rgb(255, 255, 255); text-shadow: rgb(255, 255, 255) 0px 0px 5px;\">west</em>, then <em style=\"border-color: rgb(255, 255, 255); color: rgb(255, 255, 255); text-shadow: rgb(255, 255, 255) 0px 0px 5px;\">south</em>, then <em style=\"border-color: rgb(255, 255, 255); color: rgb(255, 255, 255); text-shadow: rgb(255, 255, 255) 0px 0px 5px;\">east</em>. After each tilt, the rounded rocks roll as far as they can before the platform tilts in the next direction. After one cycle, the platform will have finished rolling the rounded rocks in those four directions in that order.</p>\n",
    "<p style=\"border-color: rgb(204, 204, 204); color: rgb(204, 204, 204);\">Here's what happens in the example above after each of the first few cycles:</p>\n",
    "<pre style=\"border: 1px solid rgb(51, 51, 64); color: rgb(204, 204, 204); background-color: rgb(16, 16, 26); display: inline-block;\"><code style=\"border-color: rgb(204, 204, 204); color: rgb(204, 204, 204); background-color: rgb(16, 16, 26);\">After 1 cycle:\n",
    ".....#....\n",
    "....#...O#\n",
    "...OO##...\n",
    ".OO#......\n",
    ".....OOO#.\n",
    ".O#...O#.#\n",
    "....O#....\n",
    "......OOOO\n",
    "#...O###..\n",
    "#..OO#....\n",
    "\n",
    "After 2 cycles:\n",
    ".....#....\n",
    "....#...O#\n",
    ".....##...\n",
    "..O#......\n",
    ".....OOO#.\n",
    ".O#...O#.#\n",
    "....O#...O\n",
    ".......OOO\n",
    "#..OO###..\n",
    "#.OOO#...O\n",
    "\n",
    "After 3 cycles:\n",
    ".....#....\n",
    "....#...O#\n",
    ".....##...\n",
    "..O#......\n",
    ".....OOO#.\n",
    ".O#...O#.#\n",
    "....O#...O\n",
    ".......OOO\n",
    "#...O###.O\n",
    "#.OOO#...O\n",
    "</code></pre>\n",
    "<p style=\"border-color: rgb(204, 204, 204); color: rgb(204, 204, 204);\">This process should work if you leave it running long enough, but you're still worried about the north support beams. To make sure they'll survive for a while, you need to calculate the <em style=\"border-color: rgb(255, 255, 255); color: rgb(255, 255, 255); text-shadow: rgb(255, 255, 255) 0px 0px 5px;\">total load</em> on the north support beams after <code style=\"border: 1px solid rgb(51, 51, 64); color: rgb(204, 204, 204); background: rgb(16, 16, 26);\">1000000000</code> cycles.</p>\n",
    "<p style=\"border-color: rgb(204, 204, 204); color: rgb(204, 204, 204);\">In the above example, after <code style=\"border: 1px solid rgb(51, 51, 64); color: rgb(204, 204, 204); background: rgb(16, 16, 26);\">1000000000</code> cycles, the total load on the north support beams is <code style=\"border: 1px solid rgb(51, 51, 64); color: rgb(204, 204, 204); background: rgb(16, 16, 26);\"><em style=\"border-color: rgb(255, 255, 255); color: rgb(255, 255, 255); text-shadow: rgb(255, 255, 255) 0px 0px 5px;\">64</em></code>.</p>\n",
    "<p style=\"border-color: rgb(204, 204, 204); color: rgb(204, 204, 204);\">Run the spin cycle for <code style=\"border: 1px solid rgb(51, 51, 64); color: rgb(204, 204, 204); background: rgb(16, 16, 26);\">1000000000</code> cycles. Afterward, <em style=\"border-color: rgb(255, 255, 255); color: rgb(255, 255, 255); text-shadow: rgb(255, 255, 255) 0px 0px 5px;\">what is the total load on the north support beams?</em></p>\n",
    "</div>"
   ]
  },
  {
   "cell_type": "code",
   "execution_count": 350,
   "id": "a181e9ab-e6ab-4c45-9bec-4f7e327bf318",
   "metadata": {},
   "outputs": [],
   "source": [
    "tilt_up_memo = {}\n",
    "def tilt_up(grid):\n",
    "    key = ''.join(grid.flatten())\n",
    "    if key in tilt_up_memo:\n",
    "        return tilt_up_memo[key].copy()\n",
    "    grid = grid.copy()\n",
    "    moved = True\n",
    "    while moved:\n",
    "        moved = False\n",
    "        for j in range(grid.shape[1]):\n",
    "            for i in range(1, grid.shape[0]):\n",
    "                if grid[i,j] == 'O' and grid[i-1,j] == '.':\n",
    "                    grid[i-1,j], grid[i,j] = 'O', '.'\n",
    "                    moved = True\n",
    "    tilt_up_memo[key] = grid.copy()\n",
    "    return grid\n",
    "\n",
    "\n",
    "tilt_down_memo = {}\n",
    "def tilt_down(grid):\n",
    "    key = ''.join(grid.flatten())\n",
    "    if key in tilt_down_memo:\n",
    "        return tilt_down_memo[key].copy()\n",
    "    inp = grid\n",
    "    grid = grid.copy()\n",
    "    moved = True\n",
    "    while moved:\n",
    "        moved = False\n",
    "        for j in range(grid.shape[1]):\n",
    "            for i in range(grid.shape[0] - 2, -1, -1):\n",
    "                if grid[i,j] == 'O' and grid[i+1,j] == '.':\n",
    "                    grid[i+1,j], grid[i,j] = 'O', '.'\n",
    "                    moved = True\n",
    "    tilt_down_memo[key] = grid.copy()\n",
    "    return grid\n",
    "\n",
    "\n",
    "tilt_left_memo = {}\n",
    "def tilt_left(grid):\n",
    "    key = ''.join(grid.flatten())\n",
    "    if key in tilt_left_memo:\n",
    "        return tilt_left_memo[key].copy()\n",
    "    grid = grid.copy()\n",
    "    moved = True\n",
    "    while moved:\n",
    "        moved = False\n",
    "        for i in range(grid.shape[0]):\n",
    "            for j in range(1, grid.shape[1]):\n",
    "                if grid[i,j] == 'O' and grid[i,j-1] == '.':\n",
    "                    grid[i,j-1], grid[i,j] = 'O', '.'\n",
    "                    moved = True\n",
    "    tilt_left_memo[key] = grid.copy()\n",
    "    return grid\n",
    "\n",
    "\n",
    "tilt_right_memo = {}\n",
    "def tilt_right(grid):\n",
    "    key = ''.join(grid.flatten())\n",
    "    if key in tilt_right_memo:\n",
    "        return tilt_right_memo[key].copy()\n",
    "    grid = grid.copy()\n",
    "    moved = True\n",
    "    while moved:\n",
    "        moved = False\n",
    "        for i in range(grid.shape[0]):\n",
    "            for j in range(grid.shape[1] - 2, -1, -1):\n",
    "                if grid[i,j] == 'O' and grid[i,j+1] == '.':\n",
    "                    grid[i,j+1], grid[i,j] = 'O', '.'\n",
    "                    moved = True\n",
    "    tilt_right_memo[key] = grid.copy()\n",
    "    return grid"
   ]
  },
  {
   "cell_type": "code",
   "execution_count": 351,
   "id": "3c5eb93f-3647-469a-8150-7f940e4151f6",
   "metadata": {},
   "outputs": [],
   "source": [
    "cycle_memo = {}\n",
    "def cycle(grid):\n",
    "    key = ''.join(grid.flatten())\n",
    "    if key in cycle_memo:\n",
    "        return cycle_memo[key]\n",
    "    grid = tilt_up(grid)\n",
    "    grid = tilt_left(grid)\n",
    "    grid = tilt_down(grid)\n",
    "    grid = tilt_right(grid)\n",
    "    cycle_memo[key] = grid\n",
    "    return grid"
   ]
  },
  {
   "cell_type": "code",
   "execution_count": 360,
   "id": "1c2ec6e1-5dfb-4864-a0c6-7518afe562a8",
   "metadata": {},
   "outputs": [
    {
     "data": {
      "text/plain": [
       "150"
      ]
     },
     "execution_count": 360,
     "metadata": {},
     "output_type": "execute_result"
    }
   ],
   "source": [
    "grid = np.array([list(line.strip()) for line in lines])\n",
    "\n",
    "observed = set([''.join(grid.flatten())])\n",
    "grid = cycle(grid)\n",
    "key = ''.join(grid.flatten())\n",
    "n = 0\n",
    "while key not in observed:\n",
    "    observed.add(key)\n",
    "    grid = cycle(grid)\n",
    "    key = ''.join(grid.flatten())\n",
    "    n += 1\n",
    "n"
   ]
  },
  {
   "cell_type": "code",
   "execution_count": 361,
   "id": "39c0a57e-c365-42e5-8ac6-80e713437315",
   "metadata": {},
   "outputs": [
    {
     "data": {
      "text/plain": [
       "70"
      ]
     },
     "execution_count": 361,
     "metadata": {},
     "output_type": "execute_result"
    }
   ],
   "source": [
    "grid2 = grid.copy()\n",
    "n2 = 0\n",
    "while np.any(grid != grid2) or n2 == 0:\n",
    "    grid2 = cycle(grid2)\n",
    "    n2 += 1\n",
    "n2"
   ]
  },
  {
   "cell_type": "code",
   "execution_count": 362,
   "id": "1ad47c9c-0ebd-4447-a5c6-0c81298caf9a",
   "metadata": {},
   "outputs": [],
   "source": [
    "grid3 = grid2.copy()\n",
    "for i in range((1000000000 - n - 1) % n2):\n",
    "    grid3 = cycle(grid3)"
   ]
  },
  {
   "cell_type": "code",
   "execution_count": 363,
   "id": "5cd290fa-194f-4cab-b581-cad4a5c68124",
   "metadata": {},
   "outputs": [
    {
     "data": {
      "text/plain": [
       "94585"
      ]
     },
     "execution_count": 363,
     "metadata": {},
     "output_type": "execute_result"
    }
   ],
   "source": [
    "load = 0\n",
    "for i, row in enumerate(grid3):\n",
    "    for c in row:\n",
    "        if c == 'O':\n",
    "            load += grid3.shape[1] - i\n",
    "load"
   ]
  },
  {
   "cell_type": "code",
   "execution_count": null,
   "id": "6a3107ee-c43c-4b59-9e17-c9ae3b487037",
   "metadata": {},
   "outputs": [],
   "source": []
  }
 ],
 "metadata": {
  "kernelspec": {
   "display_name": "Python 3 (ipykernel)",
   "language": "python",
   "name": "python3"
  },
  "language_info": {
   "codemirror_mode": {
    "name": "ipython",
    "version": 3
   },
   "file_extension": ".py",
   "mimetype": "text/x-python",
   "name": "python",
   "nbconvert_exporter": "python",
   "pygments_lexer": "ipython3",
   "version": "3.11.6"
  }
 },
 "nbformat": 4,
 "nbformat_minor": 5
}
