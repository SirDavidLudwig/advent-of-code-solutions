{
 "cells": [
  {
   "cell_type": "code",
   "execution_count": 1,
   "id": "24178a9d-da00-44b7-a101-592076940d1a",
   "metadata": {},
   "outputs": [],
   "source": [
    "import sys\n",
    "sys.path.append(\"../../common\")\n",
    "\n",
    "import deepctx as dc\n",
    "from itertools import count\n",
    "import matplotlib.pyplot as plt\n",
    "import numpy as np\n",
    "import re\n",
    "import sympy as sp\n",
    "from sympy import lambdify\n",
    "from sympy.solvers import solve\n",
    "from tqdm import tqdm\n",
    "import tensorflow as tf\n",
    "from IPython.display import clear_output\n"
   ]
  },
  {
   "cell_type": "code",
   "execution_count": null,
   "id": "022c91a3-27ea-41d6-a9ce-f8d23687dbbd",
   "metadata": {},
   "outputs": [],
   "source": [
    "dc.tf.devices.use(gpus=[])"
   ]
  },
  {
   "cell_type": "code",
   "execution_count": 2,
   "id": "c80d0e8a-d0f4-41f9-a0e9-b81db94406c9",
   "metadata": {},
   "outputs": [],
   "source": [
    "with open(\"./puzzle_inputs/24.txt\") as f:\n",
    "    inp = f.read().rstrip()"
   ]
  },
  {
   "cell_type": "code",
   "execution_count": 3,
   "id": "fb3d90bc-96cb-41f8-8e2c-5e516c899945",
   "metadata": {},
   "outputs": [],
   "source": [
    "hailstones = np.array([\n",
    "    list(map(int, re.findall(r\"-?\\d+\", line)))\n",
    "    for line in inp.split('\\n')]).reshape((-1, 2, 3)).astype(np.float64)"
   ]
  },
  {
   "cell_type": "code",
   "execution_count": 4,
   "id": "2d042d0c-1de6-4b05-ad8c-0c202140c52b",
   "metadata": {},
   "outputs": [
    {
     "name": "stderr",
     "output_type": "stream",
     "text": [
      "2023-12-25 01:07:59.848660: I tensorflow/stream_executor/cuda/cuda_gpu_executor.cc:975] successful NUMA node read from SysFS had negative value (-1), but there must be at least one NUMA node, so returning NUMA node zero\n",
      "2023-12-25 01:07:59.848881: I tensorflow/stream_executor/cuda/cuda_gpu_executor.cc:975] successful NUMA node read from SysFS had negative value (-1), but there must be at least one NUMA node, so returning NUMA node zero\n",
      "2023-12-25 01:07:59.877415: I tensorflow/stream_executor/cuda/cuda_gpu_executor.cc:975] successful NUMA node read from SysFS had negative value (-1), but there must be at least one NUMA node, so returning NUMA node zero\n",
      "2023-12-25 01:07:59.877644: I tensorflow/stream_executor/cuda/cuda_gpu_executor.cc:975] successful NUMA node read from SysFS had negative value (-1), but there must be at least one NUMA node, so returning NUMA node zero\n",
      "2023-12-25 01:07:59.877809: I tensorflow/stream_executor/cuda/cuda_gpu_executor.cc:975] successful NUMA node read from SysFS had negative value (-1), but there must be at least one NUMA node, so returning NUMA node zero\n",
      "2023-12-25 01:07:59.877967: I tensorflow/stream_executor/cuda/cuda_gpu_executor.cc:975] successful NUMA node read from SysFS had negative value (-1), but there must be at least one NUMA node, so returning NUMA node zero\n",
      "2023-12-25 01:07:59.878669: I tensorflow/core/platform/cpu_feature_guard.cc:193] This TensorFlow binary is optimized with oneAPI Deep Neural Network Library (oneDNN) to use the following CPU instructions in performance-critical operations:  SSE4.1 SSE4.2 AVX AVX2 FMA\n",
      "To enable them in other operations, rebuild TensorFlow with the appropriate compiler flags.\n",
      "2023-12-25 01:08:00.038411: I tensorflow/stream_executor/cuda/cuda_gpu_executor.cc:975] successful NUMA node read from SysFS had negative value (-1), but there must be at least one NUMA node, so returning NUMA node zero\n",
      "2023-12-25 01:08:00.038610: I tensorflow/stream_executor/cuda/cuda_gpu_executor.cc:975] successful NUMA node read from SysFS had negative value (-1), but there must be at least one NUMA node, so returning NUMA node zero\n",
      "2023-12-25 01:08:00.038776: I tensorflow/stream_executor/cuda/cuda_gpu_executor.cc:975] successful NUMA node read from SysFS had negative value (-1), but there must be at least one NUMA node, so returning NUMA node zero\n",
      "2023-12-25 01:08:00.038935: I tensorflow/stream_executor/cuda/cuda_gpu_executor.cc:975] successful NUMA node read from SysFS had negative value (-1), but there must be at least one NUMA node, so returning NUMA node zero\n",
      "2023-12-25 01:08:00.039089: I tensorflow/stream_executor/cuda/cuda_gpu_executor.cc:975] successful NUMA node read from SysFS had negative value (-1), but there must be at least one NUMA node, so returning NUMA node zero\n",
      "2023-12-25 01:08:00.039244: I tensorflow/stream_executor/cuda/cuda_gpu_executor.cc:975] successful NUMA node read from SysFS had negative value (-1), but there must be at least one NUMA node, so returning NUMA node zero\n",
      "2023-12-25 01:08:00.301026: I tensorflow/stream_executor/cuda/cuda_gpu_executor.cc:975] successful NUMA node read from SysFS had negative value (-1), but there must be at least one NUMA node, so returning NUMA node zero\n",
      "2023-12-25 01:08:00.301245: I tensorflow/stream_executor/cuda/cuda_gpu_executor.cc:975] successful NUMA node read from SysFS had negative value (-1), but there must be at least one NUMA node, so returning NUMA node zero\n",
      "2023-12-25 01:08:00.301407: I tensorflow/stream_executor/cuda/cuda_gpu_executor.cc:975] successful NUMA node read from SysFS had negative value (-1), but there must be at least one NUMA node, so returning NUMA node zero\n",
      "2023-12-25 01:08:00.301564: I tensorflow/stream_executor/cuda/cuda_gpu_executor.cc:975] successful NUMA node read from SysFS had negative value (-1), but there must be at least one NUMA node, so returning NUMA node zero\n",
      "2023-12-25 01:08:00.301719: I tensorflow/stream_executor/cuda/cuda_gpu_executor.cc:975] successful NUMA node read from SysFS had negative value (-1), but there must be at least one NUMA node, so returning NUMA node zero\n",
      "2023-12-25 01:08:00.301866: I tensorflow/core/common_runtime/gpu/gpu_device.cc:1532] Created device /job:localhost/replica:0/task:0/device:GPU:0 with 17765 MB memory:  -> device: 0, name: NVIDIA GeForce RTX 3090, pci bus id: 0000:01:00.0, compute capability: 8.6\n",
      "2023-12-25 01:08:00.302168: I tensorflow/stream_executor/cuda/cuda_gpu_executor.cc:975] successful NUMA node read from SysFS had negative value (-1), but there must be at least one NUMA node, so returning NUMA node zero\n",
      "2023-12-25 01:08:00.302313: I tensorflow/core/common_runtime/gpu/gpu_device.cc:1532] Created device /job:localhost/replica:0/task:0/device:GPU:1 with 22458 MB memory:  -> device: 1, name: NVIDIA GeForce RTX 3090, pci bus id: 0000:21:00.0, compute capability: 8.6\n"
     ]
    }
   ],
   "source": [
    "H = tf.constant(hailstones[:,0,:])\n",
    "VH = tf.constant(hailstones[:,1,:])\n",
    "# H, VH"
   ]
  },
  {
   "cell_type": "code",
   "execution_count": 5,
   "id": "c0a5c372-a5f3-47bd-86f1-a7ab3089b678",
   "metadata": {},
   "outputs": [
    {
     "data": {
      "text/plain": [
       "(<tf.Variable 'Variable:0' shape=(1, 3) dtype=float64, numpy=array([[-0.59015289,  0.52826412,  0.25720672]])>,\n",
       " <tf.Variable 'Variable:0' shape=(1, 3) dtype=float64, numpy=array([[ 0.2999407 ,  0.91428485, -0.50910558]])>)"
      ]
     },
     "execution_count": 5,
     "metadata": {},
     "output_type": "execute_result"
    }
   ],
   "source": [
    "P = tf.Variable(tf.random.normal((1, 3,), dtype=tf.float64), dtype=tf.float64)\n",
    "VP = tf.Variable(tf.random.normal((1, 3,), dtype=tf.float64), dtype=tf.float64)\n",
    "P, VP"
   ]
  },
  {
   "cell_type": "code",
   "execution_count": 88,
   "id": "f27de832-bf9e-4f93-8ee7-931803e9852a",
   "metadata": {},
   "outputs": [
    {
     "data": {
      "text/plain": [
       "<tf.Tensor: shape=(5, 1), dtype=float64, numpy=\n",
       "array([[ 13.63451989],\n",
       "       [ 28.44870458],\n",
       "       [ 12.52866965],\n",
       "       [-12.21696902],\n",
       "       [ -0.92224822]])>"
      ]
     },
     "execution_count": 88,
     "metadata": {},
     "output_type": "execute_result"
    }
   ],
   "source": [
    "t = tf.reduce_mean((H - P) / (VP - VH), axis=1, keepdims=True)\n",
    "t"
   ]
  },
  {
   "cell_type": "code",
   "execution_count": 87,
   "id": "53124ec4-06d0-4485-9838-cfd23109f190",
   "metadata": {},
   "outputs": [
    {
     "data": {
      "text/plain": [
       "<tf.Tensor: shape=(5, 3), dtype=float64, numpy=\n",
       "array([[-2.78920556e-01, -2.18283203e+01, -2.03623247e+01],\n",
       "       [-5.22510259e+00,  1.88680862e+01, -2.79098124e+00],\n",
       "       [-2.95869035e+00,  4.51917379e+00, -1.94676740e-02],\n",
       "       [-2.03299723e+01, -5.86779705e+01, -2.28478259e+01],\n",
       "       [-2.06236866e+01, -2.33380632e+01, -1.56896013e+01]])>"
      ]
     },
     "execution_count": 87,
     "metadata": {},
     "output_type": "execute_result"
    }
   ],
   "source": [
    "d = P + t*VP - H - t*VH\n",
    "d"
   ]
  },
  {
   "cell_type": "code",
   "execution_count": 86,
   "id": "b06b65fc-9251-44d9-aa57-b8b9a838e6d1",
   "metadata": {},
   "outputs": [
    {
     "data": {
      "text/plain": [
       "<tf.Tensor: shape=(5,), dtype=float64, numpy=\n",
       "array([ 297.05921001,  130.36531698,    9.72571977, 1459.47838097,\n",
       "        405.38840998])>"
      ]
     },
     "execution_count": 86,
     "metadata": {},
     "output_type": "execute_result"
    }
   ],
   "source": [
    "tf.losses.mean_squared_error(tf.zeros_like(H), d)"
   ]
  },
  {
   "cell_type": "markdown",
   "id": "95443b23-e0ac-4505-9a82-552719a1385c",
   "metadata": {},
   "source": [
    "---"
   ]
  },
  {
   "cell_type": "code",
   "execution_count": 134,
   "id": "3ad90388-47db-4eaa-8d80-1fe488275e5d",
   "metadata": {},
   "outputs": [],
   "source": [
    "scale = 1/100000000\n",
    "start = 200000000000000\n",
    "end = 400000000000000\n",
    "\n",
    "# scale = 1\n",
    "# start = 7\n",
    "# end = 27"
   ]
  },
  {
   "cell_type": "code",
   "execution_count": 158,
   "id": "ae9d862d-d254-467b-a8c9-d32be8b518b3",
   "metadata": {},
   "outputs": [],
   "source": [
    "@tf.function()\n",
    "def step(P, VP):\n",
    "    with tf.GradientTape() as tape:\n",
    "        loss = compute_loss(P, VP)\n",
    "    grads = tape.gradient(loss, [P, VP])\n",
    "    optimizer.apply_gradients(zip(grads, [P, VP]))\n",
    "    P.assign(tf.clip_by_value(P, start*scale, end*scale))\n",
    "    VP.assign(tf.clip_by_value(VP, -1000*scale, 1000*scale))\n",
    "    return loss"
   ]
  },
  {
   "cell_type": "code",
   "execution_count": 164,
   "id": "93b3eb58-e004-4170-ab08-2d304fbcad58",
   "metadata": {},
   "outputs": [],
   "source": [
    "def compute_loss(P, VP):\n",
    "    t = tf.reduce_max(tf.math.divide_no_nan((H - P), (VP - VH)), axis=1, keepdims=True)\n",
    "    d = P + t*VP - H - t*VH\n",
    "    loss = tf.losses.mean_absolute_error(tf.zeros_like(H), d)\n",
    "    return loss"
   ]
  },
  {
   "cell_type": "code",
   "execution_count": 165,
   "id": "21705a7c-6283-4cba-943b-53c6cd3f63d3",
   "metadata": {},
   "outputs": [],
   "source": [
    "optimizer = tf.keras.optimizers.SGD(learning_rate=1e-1)"
   ]
  },
  {
   "cell_type": "code",
   "execution_count": 166,
   "id": "c6c64982-0667-4c6b-aaa3-68addeb61ccf",
   "metadata": {},
   "outputs": [],
   "source": [
    "P = tf.Variable([(start+end)//2*scale]*3, dtype=tf.float64)\n",
    "VP = tf.Variable(tf.random.uniform((1, 3,), -1000*scale, 1000*scale, dtype=tf.float64), dtype=tf.float64)"
   ]
  },
  {
   "cell_type": "code",
   "execution_count": 167,
   "id": "0d6031b6-8523-4ab4-acf7-386306f0773e",
   "metadata": {},
   "outputs": [
    {
     "data": {
      "text/plain": [
       "(<tf.Variable 'Variable:0' shape=(3,) dtype=float64, numpy=array([3000000., 3000000., 3000000.])>,\n",
       " <tf.Variable 'Variable:0' shape=(1, 3) dtype=float64, numpy=array([[-6.76781154e-06,  4.17407326e-06, -9.05998355e-06]])>)"
      ]
     },
     "execution_count": 167,
     "metadata": {},
     "output_type": "execute_result"
    }
   ],
   "source": [
    "P, VP"
   ]
  },
  {
   "cell_type": "code",
   "execution_count": 168,
   "id": "289091cb-6d2a-416b-be0f-918a8e42f868",
   "metadata": {},
   "outputs": [
    {
     "ename": "KeyboardInterrupt",
     "evalue": "",
     "output_type": "error",
     "traceback": [
      "\u001b[0;31m---------------------------------------------------------------------------\u001b[0m",
      "\u001b[0;31mKeyboardInterrupt\u001b[0m                         Traceback (most recent call last)",
      "Cell \u001b[0;32mIn[168], line 2\u001b[0m\n\u001b[1;32m      1\u001b[0m \u001b[38;5;28;01mfor\u001b[39;00m i \u001b[38;5;129;01min\u001b[39;00m count():\n\u001b[0;32m----> 2\u001b[0m     loss \u001b[38;5;241m=\u001b[39m \u001b[43mstep\u001b[49m\u001b[43m(\u001b[49m\u001b[43mP\u001b[49m\u001b[43m,\u001b[49m\u001b[43m \u001b[49m\u001b[43mVP\u001b[49m\u001b[43m)\u001b[49m\n\u001b[1;32m      3\u001b[0m     \u001b[38;5;28;01mif\u001b[39;00m i \u001b[38;5;241m%\u001b[39m \u001b[38;5;241m100\u001b[39m \u001b[38;5;241m==\u001b[39m \u001b[38;5;241m0\u001b[39m:\n\u001b[1;32m      4\u001b[0m         \u001b[38;5;28mprint\u001b[39m(\u001b[38;5;124mf\u001b[39m\u001b[38;5;124m\"\u001b[39m\u001b[38;5;132;01m{\u001b[39;00mi\u001b[38;5;132;01m=}\u001b[39;00m\u001b[38;5;124m;\u001b[39m\u001b[38;5;130;01m\\n\u001b[39;00m\u001b[38;5;132;01m{\u001b[39;00mP\u001b[38;5;132;01m=}\u001b[39;00m\u001b[38;5;130;01m\\n\u001b[39;00m\u001b[38;5;132;01m{\u001b[39;00mVP\u001b[38;5;132;01m=}\u001b[39;00m\u001b[38;5;130;01m\\n\u001b[39;00m\u001b[38;5;132;01m{\u001b[39;00mtf\u001b[38;5;241m.\u001b[39mreduce_sum(loss)\u001b[38;5;132;01m=}\u001b[39;00m\u001b[38;5;124m\"\u001b[39m)\n",
      "File \u001b[0;32m/opt/conda/envs/qiime2-amplicon-2023.9/lib/python3.8/site-packages/tensorflow/python/util/traceback_utils.py:150\u001b[0m, in \u001b[0;36mfilter_traceback.<locals>.error_handler\u001b[0;34m(*args, **kwargs)\u001b[0m\n\u001b[1;32m    148\u001b[0m filtered_tb \u001b[38;5;241m=\u001b[39m \u001b[38;5;28;01mNone\u001b[39;00m\n\u001b[1;32m    149\u001b[0m \u001b[38;5;28;01mtry\u001b[39;00m:\n\u001b[0;32m--> 150\u001b[0m   \u001b[38;5;28;01mreturn\u001b[39;00m \u001b[43mfn\u001b[49m\u001b[43m(\u001b[49m\u001b[38;5;241;43m*\u001b[39;49m\u001b[43margs\u001b[49m\u001b[43m,\u001b[49m\u001b[43m \u001b[49m\u001b[38;5;241;43m*\u001b[39;49m\u001b[38;5;241;43m*\u001b[39;49m\u001b[43mkwargs\u001b[49m\u001b[43m)\u001b[49m\n\u001b[1;32m    151\u001b[0m \u001b[38;5;28;01mexcept\u001b[39;00m \u001b[38;5;167;01mException\u001b[39;00m \u001b[38;5;28;01mas\u001b[39;00m e:\n\u001b[1;32m    152\u001b[0m   filtered_tb \u001b[38;5;241m=\u001b[39m _process_traceback_frames(e\u001b[38;5;241m.\u001b[39m__traceback__)\n",
      "File \u001b[0;32m/opt/conda/envs/qiime2-amplicon-2023.9/lib/python3.8/site-packages/tensorflow/python/eager/def_function.py:915\u001b[0m, in \u001b[0;36mFunction.__call__\u001b[0;34m(self, *args, **kwds)\u001b[0m\n\u001b[1;32m    912\u001b[0m compiler \u001b[38;5;241m=\u001b[39m \u001b[38;5;124m\"\u001b[39m\u001b[38;5;124mxla\u001b[39m\u001b[38;5;124m\"\u001b[39m \u001b[38;5;28;01mif\u001b[39;00m \u001b[38;5;28mself\u001b[39m\u001b[38;5;241m.\u001b[39m_jit_compile \u001b[38;5;28;01melse\u001b[39;00m \u001b[38;5;124m\"\u001b[39m\u001b[38;5;124mnonXla\u001b[39m\u001b[38;5;124m\"\u001b[39m\n\u001b[1;32m    914\u001b[0m \u001b[38;5;28;01mwith\u001b[39;00m OptionalXlaContext(\u001b[38;5;28mself\u001b[39m\u001b[38;5;241m.\u001b[39m_jit_compile):\n\u001b[0;32m--> 915\u001b[0m   result \u001b[38;5;241m=\u001b[39m \u001b[38;5;28;43mself\u001b[39;49m\u001b[38;5;241;43m.\u001b[39;49m\u001b[43m_call\u001b[49m\u001b[43m(\u001b[49m\u001b[38;5;241;43m*\u001b[39;49m\u001b[43margs\u001b[49m\u001b[43m,\u001b[49m\u001b[43m \u001b[49m\u001b[38;5;241;43m*\u001b[39;49m\u001b[38;5;241;43m*\u001b[39;49m\u001b[43mkwds\u001b[49m\u001b[43m)\u001b[49m\n\u001b[1;32m    917\u001b[0m new_tracing_count \u001b[38;5;241m=\u001b[39m \u001b[38;5;28mself\u001b[39m\u001b[38;5;241m.\u001b[39mexperimental_get_tracing_count()\n\u001b[1;32m    918\u001b[0m without_tracing \u001b[38;5;241m=\u001b[39m (tracing_count \u001b[38;5;241m==\u001b[39m new_tracing_count)\n",
      "File \u001b[0;32m/opt/conda/envs/qiime2-amplicon-2023.9/lib/python3.8/site-packages/tensorflow/python/eager/def_function.py:947\u001b[0m, in \u001b[0;36mFunction._call\u001b[0;34m(self, *args, **kwds)\u001b[0m\n\u001b[1;32m    944\u001b[0m   \u001b[38;5;28mself\u001b[39m\u001b[38;5;241m.\u001b[39m_lock\u001b[38;5;241m.\u001b[39mrelease()\n\u001b[1;32m    945\u001b[0m   \u001b[38;5;66;03m# In this case we have created variables on the first call, so we run the\u001b[39;00m\n\u001b[1;32m    946\u001b[0m   \u001b[38;5;66;03m# defunned version which is guaranteed to never create variables.\u001b[39;00m\n\u001b[0;32m--> 947\u001b[0m   \u001b[38;5;28;01mreturn\u001b[39;00m \u001b[38;5;28;43mself\u001b[39;49m\u001b[38;5;241;43m.\u001b[39;49m\u001b[43m_stateless_fn\u001b[49m\u001b[43m(\u001b[49m\u001b[38;5;241;43m*\u001b[39;49m\u001b[43margs\u001b[49m\u001b[43m,\u001b[49m\u001b[43m \u001b[49m\u001b[38;5;241;43m*\u001b[39;49m\u001b[38;5;241;43m*\u001b[39;49m\u001b[43mkwds\u001b[49m\u001b[43m)\u001b[49m  \u001b[38;5;66;03m# pylint: disable=not-callable\u001b[39;00m\n\u001b[1;32m    948\u001b[0m \u001b[38;5;28;01melif\u001b[39;00m \u001b[38;5;28mself\u001b[39m\u001b[38;5;241m.\u001b[39m_stateful_fn \u001b[38;5;129;01mis\u001b[39;00m \u001b[38;5;129;01mnot\u001b[39;00m \u001b[38;5;28;01mNone\u001b[39;00m:\n\u001b[1;32m    949\u001b[0m   \u001b[38;5;66;03m# Release the lock early so that multiple threads can perform the call\u001b[39;00m\n\u001b[1;32m    950\u001b[0m   \u001b[38;5;66;03m# in parallel.\u001b[39;00m\n\u001b[1;32m    951\u001b[0m   \u001b[38;5;28mself\u001b[39m\u001b[38;5;241m.\u001b[39m_lock\u001b[38;5;241m.\u001b[39mrelease()\n",
      "File \u001b[0;32m/opt/conda/envs/qiime2-amplicon-2023.9/lib/python3.8/site-packages/tensorflow/python/eager/function.py:2453\u001b[0m, in \u001b[0;36mFunction.__call__\u001b[0;34m(self, *args, **kwargs)\u001b[0m\n\u001b[1;32m   2450\u001b[0m \u001b[38;5;28;01mwith\u001b[39;00m \u001b[38;5;28mself\u001b[39m\u001b[38;5;241m.\u001b[39m_lock:\n\u001b[1;32m   2451\u001b[0m   (graph_function,\n\u001b[1;32m   2452\u001b[0m    filtered_flat_args) \u001b[38;5;241m=\u001b[39m \u001b[38;5;28mself\u001b[39m\u001b[38;5;241m.\u001b[39m_maybe_define_function(args, kwargs)\n\u001b[0;32m-> 2453\u001b[0m \u001b[38;5;28;01mreturn\u001b[39;00m \u001b[43mgraph_function\u001b[49m\u001b[38;5;241;43m.\u001b[39;49m\u001b[43m_call_flat\u001b[49m\u001b[43m(\u001b[49m\n\u001b[1;32m   2454\u001b[0m \u001b[43m    \u001b[49m\u001b[43mfiltered_flat_args\u001b[49m\u001b[43m,\u001b[49m\u001b[43m \u001b[49m\u001b[43mcaptured_inputs\u001b[49m\u001b[38;5;241;43m=\u001b[39;49m\u001b[43mgraph_function\u001b[49m\u001b[38;5;241;43m.\u001b[39;49m\u001b[43mcaptured_inputs\u001b[49m\u001b[43m)\u001b[49m\n",
      "File \u001b[0;32m/opt/conda/envs/qiime2-amplicon-2023.9/lib/python3.8/site-packages/tensorflow/python/eager/function.py:1860\u001b[0m, in \u001b[0;36mConcreteFunction._call_flat\u001b[0;34m(self, args, captured_inputs, cancellation_manager)\u001b[0m\n\u001b[1;32m   1856\u001b[0m possible_gradient_type \u001b[38;5;241m=\u001b[39m gradients_util\u001b[38;5;241m.\u001b[39mPossibleTapeGradientTypes(args)\n\u001b[1;32m   1857\u001b[0m \u001b[38;5;28;01mif\u001b[39;00m (possible_gradient_type \u001b[38;5;241m==\u001b[39m gradients_util\u001b[38;5;241m.\u001b[39mPOSSIBLE_GRADIENT_TYPES_NONE\n\u001b[1;32m   1858\u001b[0m     \u001b[38;5;129;01mand\u001b[39;00m executing_eagerly):\n\u001b[1;32m   1859\u001b[0m   \u001b[38;5;66;03m# No tape is watching; skip to running the function.\u001b[39;00m\n\u001b[0;32m-> 1860\u001b[0m   \u001b[38;5;28;01mreturn\u001b[39;00m \u001b[38;5;28mself\u001b[39m\u001b[38;5;241m.\u001b[39m_build_call_outputs(\u001b[38;5;28;43mself\u001b[39;49m\u001b[38;5;241;43m.\u001b[39;49m\u001b[43m_inference_function\u001b[49m\u001b[38;5;241;43m.\u001b[39;49m\u001b[43mcall\u001b[49m\u001b[43m(\u001b[49m\n\u001b[1;32m   1861\u001b[0m \u001b[43m      \u001b[49m\u001b[43mctx\u001b[49m\u001b[43m,\u001b[49m\u001b[43m \u001b[49m\u001b[43margs\u001b[49m\u001b[43m,\u001b[49m\u001b[43m \u001b[49m\u001b[43mcancellation_manager\u001b[49m\u001b[38;5;241;43m=\u001b[39;49m\u001b[43mcancellation_manager\u001b[49m\u001b[43m)\u001b[49m)\n\u001b[1;32m   1862\u001b[0m forward_backward \u001b[38;5;241m=\u001b[39m \u001b[38;5;28mself\u001b[39m\u001b[38;5;241m.\u001b[39m_select_forward_and_backward_functions(\n\u001b[1;32m   1863\u001b[0m     args,\n\u001b[1;32m   1864\u001b[0m     possible_gradient_type,\n\u001b[1;32m   1865\u001b[0m     executing_eagerly)\n\u001b[1;32m   1866\u001b[0m forward_function, args_with_tangents \u001b[38;5;241m=\u001b[39m forward_backward\u001b[38;5;241m.\u001b[39mforward()\n",
      "File \u001b[0;32m/opt/conda/envs/qiime2-amplicon-2023.9/lib/python3.8/site-packages/tensorflow/python/eager/function.py:497\u001b[0m, in \u001b[0;36m_EagerDefinedFunction.call\u001b[0;34m(self, ctx, args, cancellation_manager)\u001b[0m\n\u001b[1;32m    495\u001b[0m \u001b[38;5;28;01mwith\u001b[39;00m _InterpolateFunctionError(\u001b[38;5;28mself\u001b[39m):\n\u001b[1;32m    496\u001b[0m   \u001b[38;5;28;01mif\u001b[39;00m cancellation_manager \u001b[38;5;129;01mis\u001b[39;00m \u001b[38;5;28;01mNone\u001b[39;00m:\n\u001b[0;32m--> 497\u001b[0m     outputs \u001b[38;5;241m=\u001b[39m \u001b[43mexecute\u001b[49m\u001b[38;5;241;43m.\u001b[39;49m\u001b[43mexecute\u001b[49m\u001b[43m(\u001b[49m\n\u001b[1;32m    498\u001b[0m \u001b[43m        \u001b[49m\u001b[38;5;28;43mstr\u001b[39;49m\u001b[43m(\u001b[49m\u001b[38;5;28;43mself\u001b[39;49m\u001b[38;5;241;43m.\u001b[39;49m\u001b[43msignature\u001b[49m\u001b[38;5;241;43m.\u001b[39;49m\u001b[43mname\u001b[49m\u001b[43m)\u001b[49m\u001b[43m,\u001b[49m\n\u001b[1;32m    499\u001b[0m \u001b[43m        \u001b[49m\u001b[43mnum_outputs\u001b[49m\u001b[38;5;241;43m=\u001b[39;49m\u001b[38;5;28;43mself\u001b[39;49m\u001b[38;5;241;43m.\u001b[39;49m\u001b[43m_num_outputs\u001b[49m\u001b[43m,\u001b[49m\n\u001b[1;32m    500\u001b[0m \u001b[43m        \u001b[49m\u001b[43minputs\u001b[49m\u001b[38;5;241;43m=\u001b[39;49m\u001b[43margs\u001b[49m\u001b[43m,\u001b[49m\n\u001b[1;32m    501\u001b[0m \u001b[43m        \u001b[49m\u001b[43mattrs\u001b[49m\u001b[38;5;241;43m=\u001b[39;49m\u001b[43mattrs\u001b[49m\u001b[43m,\u001b[49m\n\u001b[1;32m    502\u001b[0m \u001b[43m        \u001b[49m\u001b[43mctx\u001b[49m\u001b[38;5;241;43m=\u001b[39;49m\u001b[43mctx\u001b[49m\u001b[43m)\u001b[49m\n\u001b[1;32m    503\u001b[0m   \u001b[38;5;28;01melse\u001b[39;00m:\n\u001b[1;32m    504\u001b[0m     outputs \u001b[38;5;241m=\u001b[39m execute\u001b[38;5;241m.\u001b[39mexecute_with_cancellation(\n\u001b[1;32m    505\u001b[0m         \u001b[38;5;28mstr\u001b[39m(\u001b[38;5;28mself\u001b[39m\u001b[38;5;241m.\u001b[39msignature\u001b[38;5;241m.\u001b[39mname),\n\u001b[1;32m    506\u001b[0m         num_outputs\u001b[38;5;241m=\u001b[39m\u001b[38;5;28mself\u001b[39m\u001b[38;5;241m.\u001b[39m_num_outputs,\n\u001b[0;32m   (...)\u001b[0m\n\u001b[1;32m    509\u001b[0m         ctx\u001b[38;5;241m=\u001b[39mctx,\n\u001b[1;32m    510\u001b[0m         cancellation_manager\u001b[38;5;241m=\u001b[39mcancellation_manager)\n",
      "File \u001b[0;32m/opt/conda/envs/qiime2-amplicon-2023.9/lib/python3.8/site-packages/tensorflow/python/eager/execute.py:54\u001b[0m, in \u001b[0;36mquick_execute\u001b[0;34m(op_name, num_outputs, inputs, attrs, ctx, name)\u001b[0m\n\u001b[1;32m     52\u001b[0m \u001b[38;5;28;01mtry\u001b[39;00m:\n\u001b[1;32m     53\u001b[0m   ctx\u001b[38;5;241m.\u001b[39mensure_initialized()\n\u001b[0;32m---> 54\u001b[0m   tensors \u001b[38;5;241m=\u001b[39m \u001b[43mpywrap_tfe\u001b[49m\u001b[38;5;241;43m.\u001b[39;49m\u001b[43mTFE_Py_Execute\u001b[49m\u001b[43m(\u001b[49m\u001b[43mctx\u001b[49m\u001b[38;5;241;43m.\u001b[39;49m\u001b[43m_handle\u001b[49m\u001b[43m,\u001b[49m\u001b[43m \u001b[49m\u001b[43mdevice_name\u001b[49m\u001b[43m,\u001b[49m\u001b[43m \u001b[49m\u001b[43mop_name\u001b[49m\u001b[43m,\u001b[49m\n\u001b[1;32m     55\u001b[0m \u001b[43m                                      \u001b[49m\u001b[43minputs\u001b[49m\u001b[43m,\u001b[49m\u001b[43m \u001b[49m\u001b[43mattrs\u001b[49m\u001b[43m,\u001b[49m\u001b[43m \u001b[49m\u001b[43mnum_outputs\u001b[49m\u001b[43m)\u001b[49m\n\u001b[1;32m     56\u001b[0m \u001b[38;5;28;01mexcept\u001b[39;00m core\u001b[38;5;241m.\u001b[39m_NotOkStatusException \u001b[38;5;28;01mas\u001b[39;00m e:\n\u001b[1;32m     57\u001b[0m   \u001b[38;5;28;01mif\u001b[39;00m name \u001b[38;5;129;01mis\u001b[39;00m \u001b[38;5;129;01mnot\u001b[39;00m \u001b[38;5;28;01mNone\u001b[39;00m:\n",
      "\u001b[0;31mKeyboardInterrupt\u001b[0m: "
     ]
    }
   ],
   "source": [
    "for i in count():\n",
    "    loss = step(P, VP)\n",
    "    if i % 100 == 0:\n",
    "        print(f\"{i=};\\n{P=}\\n{VP=}\\n{tf.reduce_sum(loss)=}\")\n",
    "        clear_output(wait=True)"
   ]
  },
  {
   "cell_type": "code",
   "execution_count": 304,
   "id": "d5bd1e61-eeca-4b34-b125-924e879f75f6",
   "metadata": {},
   "outputs": [
    {
     "data": {
      "text/plain": [
       "(<tf.Variable 'Variable:0' shape=(1, 3) dtype=float64, numpy=array([[23.97465265, 13.04729879, 10.03800169]])>,\n",
       " <tf.Variable 'Variable:0' shape=(1, 3) dtype=float64, numpy=array([[-2.99302384,  0.98382107,  1.98522771]])>)"
      ]
     },
     "execution_count": 304,
     "metadata": {},
     "output_type": "execute_result"
    }
   ],
   "source": [
    "P, VP"
   ]
  },
  {
   "cell_type": "code",
   "execution_count": 306,
   "id": "c3da95ff-14e3-4788-814f-7362e137a67c",
   "metadata": {},
   "outputs": [
    {
     "data": {
      "text/plain": [
       "<tf.Tensor: shape=(1, 3), dtype=float64, numpy=array([[24., 13., 10.]])>"
      ]
     },
     "execution_count": 306,
     "metadata": {},
     "output_type": "execute_result"
    }
   ],
   "source": [
    "tf.round(P)"
   ]
  },
  {
   "cell_type": "code",
   "execution_count": 307,
   "id": "53556356-b307-4613-beaf-76533ff04f95",
   "metadata": {},
   "outputs": [
    {
     "data": {
      "text/plain": [
       "<tf.Tensor: shape=(1, 3), dtype=float64, numpy=array([[-3.,  1.,  2.]])>"
      ]
     },
     "execution_count": 307,
     "metadata": {},
     "output_type": "execute_result"
    }
   ],
   "source": [
    "tf.round(VP)"
   ]
  },
  {
   "cell_type": "markdown",
   "id": "457acc94-37ba-47a9-bfdf-2d83f7ac9fa7",
   "metadata": {},
   "source": [
    "---"
   ]
  },
  {
   "cell_type": "code",
   "execution_count": 763,
   "id": "6898b566-9f82-4339-af5f-cbd17494b137",
   "metadata": {},
   "outputs": [],
   "source": [
    "# scale = 1/100000000\n",
    "# start = 200000000000000\n",
    "# end = 400000000000000\n",
    "\n",
    "scale = 1\n",
    "start = 7\n",
    "end = 27"
   ]
  },
  {
   "cell_type": "code",
   "execution_count": 764,
   "id": "aa616cba-8d19-49b9-a38d-b2ee1fe50135",
   "metadata": {},
   "outputs": [],
   "source": [
    "with open(\"./puzzle_inputs/24_sample.txt\") as f:\n",
    "    inp = f.read().rstrip()"
   ]
  },
  {
   "cell_type": "code",
   "execution_count": 765,
   "id": "bb021fda-391c-48cb-9cb5-226d368d867f",
   "metadata": {},
   "outputs": [],
   "source": [
    "hailstones = np.array([\n",
    "    list(map(int, re.findall(r\"-?\\d+\", line)))\n",
    "    for line in inp.split('\\n')]).reshape((-1, 2, 3)).astype(np.float64)\n",
    "H = tf.constant(hailstones[:,0,:])\n",
    "VH = tf.constant(hailstones[:,1,:])"
   ]
  },
  {
   "cell_type": "code",
   "execution_count": 766,
   "id": "c97703e0-5fbd-49b0-bdd0-824e274105f6",
   "metadata": {},
   "outputs": [
    {
     "data": {
      "text/plain": [
       "(<tf.Tensor: shape=(5, 3), dtype=float64, numpy=\n",
       " array([[19., 13., 30.],\n",
       "        [18., 19., 22.],\n",
       "        [20., 25., 34.],\n",
       "        [12., 31., 28.],\n",
       "        [20., 19., 15.]])>,\n",
       " <tf.Tensor: shape=(5, 3), dtype=float64, numpy=\n",
       " array([[-2.,  1., -2.],\n",
       "        [-1., -1., -2.],\n",
       "        [-2., -2., -4.],\n",
       "        [-1., -2., -1.],\n",
       "        [ 1., -5., -3.]])>)"
      ]
     },
     "execution_count": 766,
     "metadata": {},
     "output_type": "execute_result"
    }
   ],
   "source": [
    "H, VH"
   ]
  },
  {
   "cell_type": "code",
   "execution_count": 822,
   "id": "ef56c5f7-e613-4148-ac7e-4e8483907015",
   "metadata": {},
   "outputs": [],
   "source": [
    "def compute_p_for_times(H, VH, T):\n",
    "    h1, h2 = H[:1], H[1:]\n",
    "    vh1, vh2 = VH[:1], VH[1:]\n",
    "    t1, t2 = T[:1], T[1:]\n",
    "    Pn = ((t1*h2 - t2*h1) + t1*t2*(v2 - v1))/(t1-t2)\n",
    "    return Pn\n",
    "\n",
    "def compute_loss(Pn):\n",
    "    loss = tf.zeros(Pn.shape[0], dtype=tf.float64)\n",
    "    for P in Pn:\n",
    "        loss += tf.losses.mean_absolute_error(P, Pn)\n",
    "    return loss\n",
    "\n",
    "@tf.function()\n",
    "def step(T):\n",
    "    with tf.GradientTape() as tape:\n",
    "        Pn = compute_p_for_times(H, VH, T)\n",
    "        loss = compute_loss(Pn)\n",
    "    grads = tape.gradient(loss, [T])\n",
    "    optimizer.apply_gradients(zip(grads, [T]))\n",
    "    return loss"
   ]
  },
  {
   "cell_type": "code",
   "execution_count": 823,
   "id": "d9824a7c-d8a1-4937-8329-e098904c6cac",
   "metadata": {},
   "outputs": [
    {
     "data": {
      "text/plain": [
       "<tf.Variable 'Variable:0' shape=(5, 1) dtype=float64, numpy=\n",
       "array([[0.84365346],\n",
       "       [0.48348216],\n",
       "       [0.80984814],\n",
       "       [0.78075228],\n",
       "       [0.46138681]])>"
      ]
     },
     "execution_count": 823,
     "metadata": {},
     "output_type": "execute_result"
    }
   ],
   "source": [
    "T = tf.Variable(tf.random.uniform((len(H), 1), dtype=tf.float64))\n",
    "T"
   ]
  },
  {
   "cell_type": "code",
   "execution_count": 824,
   "id": "70aa28df-94b8-4e03-957c-b85078646f2e",
   "metadata": {},
   "outputs": [],
   "source": [
    "# T.assign([\n",
    "#     [5], [3], [4], [6], [1.0]\n",
    "# ])\n",
    "# T"
   ]
  },
  {
   "cell_type": "code",
   "execution_count": 825,
   "id": "ea38dfb6-ddf4-412c-ac25-55fa82a72217",
   "metadata": {},
   "outputs": [
    {
     "data": {
      "text/plain": [
       "<tf.Tensor: shape=(4, 3), dtype=float64, numpy=\n",
       "array([[ 17.79012552,  24.78921809,  11.26106175],\n",
       "       [ 43.95623398, 251.8425288 ,  89.4034166 ],\n",
       "       [-64.41480661, 223.00733152,  13.64700725],\n",
       "       [ 24.26178561,  20.13223945,  -4.12291478]])>"
      ]
     },
     "execution_count": 825,
     "metadata": {},
     "output_type": "execute_result"
    }
   ],
   "source": [
    "compute_p_for_times(H, VH, T)"
   ]
  },
  {
   "cell_type": "code",
   "execution_count": 826,
   "id": "3f0827d0-9116-4aa3-83d9-3944bf478df8",
   "metadata": {},
   "outputs": [
    {
     "data": {
      "text/plain": [
       "<tf.Tensor: shape=(4, 3), dtype=float64, numpy=\n",
       "array([[ 17.79012552,  24.78921809,  11.26106175],\n",
       "       [ 43.95623398, 251.8425288 ,  89.4034166 ],\n",
       "       [-64.41480661, 223.00733152,  13.64700725],\n",
       "       [ 24.26178561,  20.13223945,  -4.12291478]])>"
      ]
     },
     "execution_count": 826,
     "metadata": {},
     "output_type": "execute_result"
    }
   ],
   "source": [
    "Pn = compute_p_for_times(H, VH, T)\n",
    "Pn"
   ]
  },
  {
   "cell_type": "code",
   "execution_count": 827,
   "id": "4f3aac34-ad58-47ab-947c-3aa857b3ecf2",
   "metadata": {},
   "outputs": [
    {
     "data": {
      "text/plain": [
       "<tf.Tensor: shape=(3,), dtype=float64, numpy=array([  5.39833463, 129.94282946,  27.5471427 ])>"
      ]
     },
     "execution_count": 827,
     "metadata": {},
     "output_type": "execute_result"
    }
   ],
   "source": [
    "P = tf.reduce_mean(Pn, axis=0)\n",
    "P"
   ]
  },
  {
   "cell_type": "code",
   "execution_count": 828,
   "id": "a3993022-63ff-4ae7-9572-a75db6e97dbb",
   "metadata": {},
   "outputs": [],
   "source": [
    "optimizer = tf.keras.optimizers.SGD(1e-3)"
   ]
  },
  {
   "cell_type": "code",
   "execution_count": 829,
   "id": "b4835e1e-48eb-439d-a00d-ce17d0f65394",
   "metadata": {},
   "outputs": [
    {
     "ename": "KeyboardInterrupt",
     "evalue": "",
     "output_type": "error",
     "traceback": [
      "\u001b[0;31m---------------------------------------------------------------------------\u001b[0m",
      "\u001b[0;31mKeyboardInterrupt\u001b[0m                         Traceback (most recent call last)",
      "Cell \u001b[0;32mIn[829], line 2\u001b[0m\n\u001b[1;32m      1\u001b[0m \u001b[38;5;28;01mfor\u001b[39;00m i \u001b[38;5;129;01min\u001b[39;00m count():\n\u001b[0;32m----> 2\u001b[0m     loss \u001b[38;5;241m=\u001b[39m \u001b[43mstep\u001b[49m\u001b[43m(\u001b[49m\u001b[43mT\u001b[49m\u001b[43m)\u001b[49m\n\u001b[1;32m      3\u001b[0m     \u001b[38;5;28;01mif\u001b[39;00m i \u001b[38;5;241m%\u001b[39m \u001b[38;5;241m100\u001b[39m \u001b[38;5;241m==\u001b[39m \u001b[38;5;241m0\u001b[39m:\n\u001b[1;32m      4\u001b[0m         P \u001b[38;5;241m=\u001b[39m tf\u001b[38;5;241m.\u001b[39mreduce_mean(compute_p_for_times(H, VH, T), axis\u001b[38;5;241m=\u001b[39m\u001b[38;5;241m0\u001b[39m)\n",
      "File \u001b[0;32m/opt/conda/envs/qiime2-amplicon-2023.9/lib/python3.8/site-packages/tensorflow/python/util/traceback_utils.py:150\u001b[0m, in \u001b[0;36mfilter_traceback.<locals>.error_handler\u001b[0;34m(*args, **kwargs)\u001b[0m\n\u001b[1;32m    148\u001b[0m filtered_tb \u001b[38;5;241m=\u001b[39m \u001b[38;5;28;01mNone\u001b[39;00m\n\u001b[1;32m    149\u001b[0m \u001b[38;5;28;01mtry\u001b[39;00m:\n\u001b[0;32m--> 150\u001b[0m   \u001b[38;5;28;01mreturn\u001b[39;00m \u001b[43mfn\u001b[49m\u001b[43m(\u001b[49m\u001b[38;5;241;43m*\u001b[39;49m\u001b[43margs\u001b[49m\u001b[43m,\u001b[49m\u001b[43m \u001b[49m\u001b[38;5;241;43m*\u001b[39;49m\u001b[38;5;241;43m*\u001b[39;49m\u001b[43mkwargs\u001b[49m\u001b[43m)\u001b[49m\n\u001b[1;32m    151\u001b[0m \u001b[38;5;28;01mexcept\u001b[39;00m \u001b[38;5;167;01mException\u001b[39;00m \u001b[38;5;28;01mas\u001b[39;00m e:\n\u001b[1;32m    152\u001b[0m   filtered_tb \u001b[38;5;241m=\u001b[39m _process_traceback_frames(e\u001b[38;5;241m.\u001b[39m__traceback__)\n",
      "File \u001b[0;32m/opt/conda/envs/qiime2-amplicon-2023.9/lib/python3.8/site-packages/tensorflow/python/eager/def_function.py:915\u001b[0m, in \u001b[0;36mFunction.__call__\u001b[0;34m(self, *args, **kwds)\u001b[0m\n\u001b[1;32m    912\u001b[0m compiler \u001b[38;5;241m=\u001b[39m \u001b[38;5;124m\"\u001b[39m\u001b[38;5;124mxla\u001b[39m\u001b[38;5;124m\"\u001b[39m \u001b[38;5;28;01mif\u001b[39;00m \u001b[38;5;28mself\u001b[39m\u001b[38;5;241m.\u001b[39m_jit_compile \u001b[38;5;28;01melse\u001b[39;00m \u001b[38;5;124m\"\u001b[39m\u001b[38;5;124mnonXla\u001b[39m\u001b[38;5;124m\"\u001b[39m\n\u001b[1;32m    914\u001b[0m \u001b[38;5;28;01mwith\u001b[39;00m OptionalXlaContext(\u001b[38;5;28mself\u001b[39m\u001b[38;5;241m.\u001b[39m_jit_compile):\n\u001b[0;32m--> 915\u001b[0m   result \u001b[38;5;241m=\u001b[39m \u001b[38;5;28;43mself\u001b[39;49m\u001b[38;5;241;43m.\u001b[39;49m\u001b[43m_call\u001b[49m\u001b[43m(\u001b[49m\u001b[38;5;241;43m*\u001b[39;49m\u001b[43margs\u001b[49m\u001b[43m,\u001b[49m\u001b[43m \u001b[49m\u001b[38;5;241;43m*\u001b[39;49m\u001b[38;5;241;43m*\u001b[39;49m\u001b[43mkwds\u001b[49m\u001b[43m)\u001b[49m\n\u001b[1;32m    917\u001b[0m new_tracing_count \u001b[38;5;241m=\u001b[39m \u001b[38;5;28mself\u001b[39m\u001b[38;5;241m.\u001b[39mexperimental_get_tracing_count()\n\u001b[1;32m    918\u001b[0m without_tracing \u001b[38;5;241m=\u001b[39m (tracing_count \u001b[38;5;241m==\u001b[39m new_tracing_count)\n",
      "File \u001b[0;32m/opt/conda/envs/qiime2-amplicon-2023.9/lib/python3.8/site-packages/tensorflow/python/eager/def_function.py:947\u001b[0m, in \u001b[0;36mFunction._call\u001b[0;34m(self, *args, **kwds)\u001b[0m\n\u001b[1;32m    944\u001b[0m   \u001b[38;5;28mself\u001b[39m\u001b[38;5;241m.\u001b[39m_lock\u001b[38;5;241m.\u001b[39mrelease()\n\u001b[1;32m    945\u001b[0m   \u001b[38;5;66;03m# In this case we have created variables on the first call, so we run the\u001b[39;00m\n\u001b[1;32m    946\u001b[0m   \u001b[38;5;66;03m# defunned version which is guaranteed to never create variables.\u001b[39;00m\n\u001b[0;32m--> 947\u001b[0m   \u001b[38;5;28;01mreturn\u001b[39;00m \u001b[38;5;28;43mself\u001b[39;49m\u001b[38;5;241;43m.\u001b[39;49m\u001b[43m_stateless_fn\u001b[49m\u001b[43m(\u001b[49m\u001b[38;5;241;43m*\u001b[39;49m\u001b[43margs\u001b[49m\u001b[43m,\u001b[49m\u001b[43m \u001b[49m\u001b[38;5;241;43m*\u001b[39;49m\u001b[38;5;241;43m*\u001b[39;49m\u001b[43mkwds\u001b[49m\u001b[43m)\u001b[49m  \u001b[38;5;66;03m# pylint: disable=not-callable\u001b[39;00m\n\u001b[1;32m    948\u001b[0m \u001b[38;5;28;01melif\u001b[39;00m \u001b[38;5;28mself\u001b[39m\u001b[38;5;241m.\u001b[39m_stateful_fn \u001b[38;5;129;01mis\u001b[39;00m \u001b[38;5;129;01mnot\u001b[39;00m \u001b[38;5;28;01mNone\u001b[39;00m:\n\u001b[1;32m    949\u001b[0m   \u001b[38;5;66;03m# Release the lock early so that multiple threads can perform the call\u001b[39;00m\n\u001b[1;32m    950\u001b[0m   \u001b[38;5;66;03m# in parallel.\u001b[39;00m\n\u001b[1;32m    951\u001b[0m   \u001b[38;5;28mself\u001b[39m\u001b[38;5;241m.\u001b[39m_lock\u001b[38;5;241m.\u001b[39mrelease()\n",
      "File \u001b[0;32m/opt/conda/envs/qiime2-amplicon-2023.9/lib/python3.8/site-packages/tensorflow/python/eager/function.py:2453\u001b[0m, in \u001b[0;36mFunction.__call__\u001b[0;34m(self, *args, **kwargs)\u001b[0m\n\u001b[1;32m   2450\u001b[0m \u001b[38;5;28;01mwith\u001b[39;00m \u001b[38;5;28mself\u001b[39m\u001b[38;5;241m.\u001b[39m_lock:\n\u001b[1;32m   2451\u001b[0m   (graph_function,\n\u001b[1;32m   2452\u001b[0m    filtered_flat_args) \u001b[38;5;241m=\u001b[39m \u001b[38;5;28mself\u001b[39m\u001b[38;5;241m.\u001b[39m_maybe_define_function(args, kwargs)\n\u001b[0;32m-> 2453\u001b[0m \u001b[38;5;28;01mreturn\u001b[39;00m \u001b[43mgraph_function\u001b[49m\u001b[38;5;241;43m.\u001b[39;49m\u001b[43m_call_flat\u001b[49m\u001b[43m(\u001b[49m\n\u001b[1;32m   2454\u001b[0m \u001b[43m    \u001b[49m\u001b[43mfiltered_flat_args\u001b[49m\u001b[43m,\u001b[49m\u001b[43m \u001b[49m\u001b[43mcaptured_inputs\u001b[49m\u001b[38;5;241;43m=\u001b[39;49m\u001b[43mgraph_function\u001b[49m\u001b[38;5;241;43m.\u001b[39;49m\u001b[43mcaptured_inputs\u001b[49m\u001b[43m)\u001b[49m\n",
      "File \u001b[0;32m/opt/conda/envs/qiime2-amplicon-2023.9/lib/python3.8/site-packages/tensorflow/python/eager/function.py:1860\u001b[0m, in \u001b[0;36mConcreteFunction._call_flat\u001b[0;34m(self, args, captured_inputs, cancellation_manager)\u001b[0m\n\u001b[1;32m   1856\u001b[0m possible_gradient_type \u001b[38;5;241m=\u001b[39m gradients_util\u001b[38;5;241m.\u001b[39mPossibleTapeGradientTypes(args)\n\u001b[1;32m   1857\u001b[0m \u001b[38;5;28;01mif\u001b[39;00m (possible_gradient_type \u001b[38;5;241m==\u001b[39m gradients_util\u001b[38;5;241m.\u001b[39mPOSSIBLE_GRADIENT_TYPES_NONE\n\u001b[1;32m   1858\u001b[0m     \u001b[38;5;129;01mand\u001b[39;00m executing_eagerly):\n\u001b[1;32m   1859\u001b[0m   \u001b[38;5;66;03m# No tape is watching; skip to running the function.\u001b[39;00m\n\u001b[0;32m-> 1860\u001b[0m   \u001b[38;5;28;01mreturn\u001b[39;00m \u001b[38;5;28mself\u001b[39m\u001b[38;5;241m.\u001b[39m_build_call_outputs(\u001b[38;5;28;43mself\u001b[39;49m\u001b[38;5;241;43m.\u001b[39;49m\u001b[43m_inference_function\u001b[49m\u001b[38;5;241;43m.\u001b[39;49m\u001b[43mcall\u001b[49m\u001b[43m(\u001b[49m\n\u001b[1;32m   1861\u001b[0m \u001b[43m      \u001b[49m\u001b[43mctx\u001b[49m\u001b[43m,\u001b[49m\u001b[43m \u001b[49m\u001b[43margs\u001b[49m\u001b[43m,\u001b[49m\u001b[43m \u001b[49m\u001b[43mcancellation_manager\u001b[49m\u001b[38;5;241;43m=\u001b[39;49m\u001b[43mcancellation_manager\u001b[49m\u001b[43m)\u001b[49m)\n\u001b[1;32m   1862\u001b[0m forward_backward \u001b[38;5;241m=\u001b[39m \u001b[38;5;28mself\u001b[39m\u001b[38;5;241m.\u001b[39m_select_forward_and_backward_functions(\n\u001b[1;32m   1863\u001b[0m     args,\n\u001b[1;32m   1864\u001b[0m     possible_gradient_type,\n\u001b[1;32m   1865\u001b[0m     executing_eagerly)\n\u001b[1;32m   1866\u001b[0m forward_function, args_with_tangents \u001b[38;5;241m=\u001b[39m forward_backward\u001b[38;5;241m.\u001b[39mforward()\n",
      "File \u001b[0;32m/opt/conda/envs/qiime2-amplicon-2023.9/lib/python3.8/site-packages/tensorflow/python/eager/function.py:497\u001b[0m, in \u001b[0;36m_EagerDefinedFunction.call\u001b[0;34m(self, ctx, args, cancellation_manager)\u001b[0m\n\u001b[1;32m    495\u001b[0m \u001b[38;5;28;01mwith\u001b[39;00m _InterpolateFunctionError(\u001b[38;5;28mself\u001b[39m):\n\u001b[1;32m    496\u001b[0m   \u001b[38;5;28;01mif\u001b[39;00m cancellation_manager \u001b[38;5;129;01mis\u001b[39;00m \u001b[38;5;28;01mNone\u001b[39;00m:\n\u001b[0;32m--> 497\u001b[0m     outputs \u001b[38;5;241m=\u001b[39m \u001b[43mexecute\u001b[49m\u001b[38;5;241;43m.\u001b[39;49m\u001b[43mexecute\u001b[49m\u001b[43m(\u001b[49m\n\u001b[1;32m    498\u001b[0m \u001b[43m        \u001b[49m\u001b[38;5;28;43mstr\u001b[39;49m\u001b[43m(\u001b[49m\u001b[38;5;28;43mself\u001b[39;49m\u001b[38;5;241;43m.\u001b[39;49m\u001b[43msignature\u001b[49m\u001b[38;5;241;43m.\u001b[39;49m\u001b[43mname\u001b[49m\u001b[43m)\u001b[49m\u001b[43m,\u001b[49m\n\u001b[1;32m    499\u001b[0m \u001b[43m        \u001b[49m\u001b[43mnum_outputs\u001b[49m\u001b[38;5;241;43m=\u001b[39;49m\u001b[38;5;28;43mself\u001b[39;49m\u001b[38;5;241;43m.\u001b[39;49m\u001b[43m_num_outputs\u001b[49m\u001b[43m,\u001b[49m\n\u001b[1;32m    500\u001b[0m \u001b[43m        \u001b[49m\u001b[43minputs\u001b[49m\u001b[38;5;241;43m=\u001b[39;49m\u001b[43margs\u001b[49m\u001b[43m,\u001b[49m\n\u001b[1;32m    501\u001b[0m \u001b[43m        \u001b[49m\u001b[43mattrs\u001b[49m\u001b[38;5;241;43m=\u001b[39;49m\u001b[43mattrs\u001b[49m\u001b[43m,\u001b[49m\n\u001b[1;32m    502\u001b[0m \u001b[43m        \u001b[49m\u001b[43mctx\u001b[49m\u001b[38;5;241;43m=\u001b[39;49m\u001b[43mctx\u001b[49m\u001b[43m)\u001b[49m\n\u001b[1;32m    503\u001b[0m   \u001b[38;5;28;01melse\u001b[39;00m:\n\u001b[1;32m    504\u001b[0m     outputs \u001b[38;5;241m=\u001b[39m execute\u001b[38;5;241m.\u001b[39mexecute_with_cancellation(\n\u001b[1;32m    505\u001b[0m         \u001b[38;5;28mstr\u001b[39m(\u001b[38;5;28mself\u001b[39m\u001b[38;5;241m.\u001b[39msignature\u001b[38;5;241m.\u001b[39mname),\n\u001b[1;32m    506\u001b[0m         num_outputs\u001b[38;5;241m=\u001b[39m\u001b[38;5;28mself\u001b[39m\u001b[38;5;241m.\u001b[39m_num_outputs,\n\u001b[0;32m   (...)\u001b[0m\n\u001b[1;32m    509\u001b[0m         ctx\u001b[38;5;241m=\u001b[39mctx,\n\u001b[1;32m    510\u001b[0m         cancellation_manager\u001b[38;5;241m=\u001b[39mcancellation_manager)\n",
      "File \u001b[0;32m/opt/conda/envs/qiime2-amplicon-2023.9/lib/python3.8/site-packages/tensorflow/python/eager/execute.py:54\u001b[0m, in \u001b[0;36mquick_execute\u001b[0;34m(op_name, num_outputs, inputs, attrs, ctx, name)\u001b[0m\n\u001b[1;32m     52\u001b[0m \u001b[38;5;28;01mtry\u001b[39;00m:\n\u001b[1;32m     53\u001b[0m   ctx\u001b[38;5;241m.\u001b[39mensure_initialized()\n\u001b[0;32m---> 54\u001b[0m   tensors \u001b[38;5;241m=\u001b[39m \u001b[43mpywrap_tfe\u001b[49m\u001b[38;5;241;43m.\u001b[39;49m\u001b[43mTFE_Py_Execute\u001b[49m\u001b[43m(\u001b[49m\u001b[43mctx\u001b[49m\u001b[38;5;241;43m.\u001b[39;49m\u001b[43m_handle\u001b[49m\u001b[43m,\u001b[49m\u001b[43m \u001b[49m\u001b[43mdevice_name\u001b[49m\u001b[43m,\u001b[49m\u001b[43m \u001b[49m\u001b[43mop_name\u001b[49m\u001b[43m,\u001b[49m\n\u001b[1;32m     55\u001b[0m \u001b[43m                                      \u001b[49m\u001b[43minputs\u001b[49m\u001b[43m,\u001b[49m\u001b[43m \u001b[49m\u001b[43mattrs\u001b[49m\u001b[43m,\u001b[49m\u001b[43m \u001b[49m\u001b[43mnum_outputs\u001b[49m\u001b[43m)\u001b[49m\n\u001b[1;32m     56\u001b[0m \u001b[38;5;28;01mexcept\u001b[39;00m core\u001b[38;5;241m.\u001b[39m_NotOkStatusException \u001b[38;5;28;01mas\u001b[39;00m e:\n\u001b[1;32m     57\u001b[0m   \u001b[38;5;28;01mif\u001b[39;00m name \u001b[38;5;129;01mis\u001b[39;00m \u001b[38;5;129;01mnot\u001b[39;00m \u001b[38;5;28;01mNone\u001b[39;00m:\n",
      "\u001b[0;31mKeyboardInterrupt\u001b[0m: "
     ]
    }
   ],
   "source": [
    "for i in count():\n",
    "    loss = step(T)\n",
    "    if i % 100 == 0:\n",
    "        P = tf.reduce_mean(compute_p_for_times(H, VH, T), axis=0)\n",
    "        VP = tf.reduce_mean((H - P + T*VH)/T, axis=0)\n",
    "        print(f\"{i=};\\n{P=}\\n{VP=}\\n{T=}\\n{tf.reduce_sum(loss)=}\")\n",
    "        clear_output(wait=True)"
   ]
  },
  {
   "cell_type": "code",
   "execution_count": 647,
   "id": "8ac0ad5a-b95b-4719-9439-beb893a2fb6c",
   "metadata": {},
   "outputs": [
    {
     "data": {
      "text/plain": [
       "<tf.Tensor: shape=(3,), dtype=float64, numpy=array([19.03554357, 12.88696428, 30.00881846])>"
      ]
     },
     "execution_count": 647,
     "metadata": {},
     "output_type": "execute_result"
    }
   ],
   "source": [
    "P = tf.reduce_mean(compute_p_for_times(H, VH, T), axis=0)\n",
    "P"
   ]
  },
  {
   "cell_type": "code",
   "execution_count": 648,
   "id": "9dabc20d-4678-40e9-b2ac-3160717130bd",
   "metadata": {},
   "outputs": [
    {
     "data": {
      "text/plain": [
       "<tf.Tensor: shape=(3,), dtype=float64, numpy=array([-0.30687868, -4.38646791, -1.58132055])>"
      ]
     },
     "execution_count": 648,
     "metadata": {},
     "output_type": "execute_result"
    }
   ],
   "source": [
    "VP = tf.reduce_mean((H - P + T*VH)/T, axis=0)\n",
    "VP"
   ]
  },
  {
   "cell_type": "code",
   "execution_count": 649,
   "id": "728d568b-2204-449b-beeb-acde02469b05",
   "metadata": {},
   "outputs": [
    {
     "data": {
      "text/plain": [
       "<tf.Tensor: shape=(5, 3), dtype=float64, numpy=\n",
       "array([[19.04197912, 12.97895281, 30.0419803 ],\n",
       "       [25.02236407, 98.4614842 , 60.85841074],\n",
       "       [23.13898611, 71.5408232 , 51.15351942],\n",
       "       [20.12476209, 28.45605505, 35.62147165],\n",
       "       [20.57346402, 34.8697185 , 37.93359567]])>"
      ]
     },
     "execution_count": 649,
     "metadata": {},
     "output_type": "execute_result"
    }
   ],
   "source": [
    "P + VP * T"
   ]
  },
  {
   "cell_type": "code",
   "execution_count": 650,
   "id": "66d94dff-a604-4ca8-86d7-d64c63d07142",
   "metadata": {},
   "outputs": [
    {
     "data": {
      "text/plain": [
       "<tf.Tensor: shape=(5, 3), dtype=float64, numpy=\n",
       "array([[19.04194196, 12.97902902, 30.04194196],\n",
       "       [37.50875322, 38.50875322, 61.01750644],\n",
       "       [46.74309269, 51.74309269, 87.48618538],\n",
       "       [15.54934565, 38.09869129, 31.54934565],\n",
       "       [14.98850677, 44.05746615, 30.03447969]])>"
      ]
     },
     "execution_count": 650,
     "metadata": {},
     "output_type": "execute_result"
    }
   ],
   "source": [
    "H + VH * T"
   ]
  },
  {
   "cell_type": "markdown",
   "id": "03786cc1-bf5f-418c-94a3-9cc5cc43a43d",
   "metadata": {},
   "source": [
    "---"
   ]
  },
  {
   "cell_type": "code",
   "execution_count": 640,
   "id": "85ba7e04-d557-4f1c-a724-e187023a2e7f",
   "metadata": {},
   "outputs": [],
   "source": [
    "# scale = 1/100000000\n",
    "# start = 200000000000000\n",
    "# end = 400000000000000\n",
    "\n",
    "scale = 1\n",
    "start = 7\n",
    "end = 27"
   ]
  },
  {
   "cell_type": "code",
   "execution_count": 641,
   "id": "d68f015c-846b-4079-af94-a4c4c0a1fcaa",
   "metadata": {},
   "outputs": [],
   "source": [
    "with open(\"./puzzle_inputs/24_sample.txt\") as f:\n",
    "    inp = f.read().rstrip()"
   ]
  },
  {
   "cell_type": "code",
   "execution_count": 565,
   "id": "92562df8-77b1-4599-9498-2053ec34c1e4",
   "metadata": {},
   "outputs": [],
   "source": [
    "hailstones = np.array([\n",
    "    list(map(int, re.findall(r\"-?\\d+\", line)))\n",
    "    for line in inp.split('\\n')]).reshape((-1, 2, 3)).astype(np.float64)\n",
    "H = tf.constant(hailstones[:,0,:]) * scale\n",
    "VH = tf.constant(hailstones[:,1,:]) * scale"
   ]
  },
  {
   "cell_type": "code",
   "execution_count": 566,
   "id": "b60bd429-8913-4338-8c45-79d1353828fe",
   "metadata": {},
   "outputs": [],
   "source": [
    "# H, VH"
   ]
  },
  {
   "cell_type": "code",
   "execution_count": 567,
   "id": "bc2f9c19-b2b1-4eca-b314-5342c62151bd",
   "metadata": {},
   "outputs": [
    {
     "data": {
      "text/plain": [
       "<tf.Variable 'Variable:0' shape=(1, 3) dtype=float64, numpy=array([[10.20772451, 19.28932548, 10.85541575]])>"
      ]
     },
     "execution_count": 567,
     "metadata": {},
     "output_type": "execute_result"
    }
   ],
   "source": [
    "P = tf.Variable(tf.random.uniform((1, 3), start, end, dtype=tf.float64))\n",
    "P"
   ]
  },
  {
   "cell_type": "code",
   "execution_count": 568,
   "id": "a11cf230-6087-4d49-a1d6-933f2761f72c",
   "metadata": {},
   "outputs": [
    {
     "data": {
      "text/plain": [
       "<tf.Variable 'Variable:0' shape=(1, 3) dtype=float64, numpy=array([[0.81790247, 0.46203896, 0.52150204]])>"
      ]
     },
     "execution_count": 568,
     "metadata": {},
     "output_type": "execute_result"
    }
   ],
   "source": [
    "VP = tf.Variable(tf.random.uniform((1, 3), dtype=tf.float64))\n",
    "VP"
   ]
  },
  {
   "cell_type": "code",
   "execution_count": 569,
   "id": "2d165f23-db2f-4413-bb35-1a89024493e0",
   "metadata": {},
   "outputs": [],
   "source": [
    "h = sp.Symbol(\"h\")\n",
    "p = sp.Symbol(\"p\")\n",
    "vh = sp.Symbol(\"v_h\")\n",
    "vp = sp.Symbol(\"v_p\")\n",
    "t = sp.Symbol(\"t\")\n",
    "\n",
    "f = (h + t*vh - p - t*vp)**2\n",
    "df_dp = f.diff(p)\n",
    "df_dvp = f.diff(vp)\n",
    "distance = lambdify([h, p, vh, vp, t], f)\n",
    "p_grad = lambdify([h, p, vh, vp, t], df_dp)\n",
    "vp_grad = lambdify([h, p, vh, vp, t], df_dvp)"
   ]
  },
  {
   "cell_type": "code",
   "execution_count": 570,
   "id": "af4248ba-9075-4466-88ba-bb1addc09d42",
   "metadata": {},
   "outputs": [],
   "source": [
    "h = sp.IndexedBase(\"h\")\n",
    "p = sp.IndexedBase(\"p\")\n",
    "vh = sp.IndexedBase(\"v_h\")\n",
    "vp = sp.IndexedBase(\"v_p\")\n",
    "t = sp.Symbol(\"t\")\n",
    "\n",
    "f = (h + t*vh - p - t*vp)**2\n",
    "distance = lambdify([h, p, vh, vp, t], f)\n",
    "\n",
    "# df_dp = f.diff(p)\n",
    "# df_dvp = f.diff(vp)\n",
    "\n",
    "# time optimization\n",
    "df_dt = lambdify([h, p, vh, vp, t], f.diff(t))\n",
    "df_dt_components = sum(df_dt(h[i], p[i], vh[i], vp[i], t) for i in range(3))\n",
    "t_eq = lambdify([h, p, vh, vp], solve(df_dt_components, t)[0])\n",
    "optimize_t = lambda h, p, vh, vp: tf.expand_dims(t_eq(tf.transpose(h), tf.transpose(p), tf.transpose(vh), tf.transpose(vp)), axis=1)"
   ]
  },
  {
   "cell_type": "code",
   "execution_count": 571,
   "id": "3710f108-ad6c-4bd1-820a-91b1b2028611",
   "metadata": {},
   "outputs": [
    {
     "data": {
      "text/plain": [
       "<tf.Tensor: shape=(5, 1), dtype=float64, numpy=\n",
       "array([[5.23941339],\n",
       "       [3.54598477],\n",
       "       [4.24725816],\n",
       "       [4.98022239],\n",
       "       [0.26572594]])>"
      ]
     },
     "execution_count": 571,
     "metadata": {},
     "output_type": "execute_result"
    }
   ],
   "source": [
    "optimize_t(H, P, VH, VP)"
   ]
  },
  {
   "cell_type": "code",
   "execution_count": 585,
   "id": "a936ac32-91db-48aa-92a6-04a21a07ca06",
   "metadata": {},
   "outputs": [
    {
     "data": {
      "text/plain": [
       "<tf.Tensor: shape=(5, 3), dtype=float64, numpy=\n",
       "array([[ 11.94376092,   6.94145045, -11.86678538],\n",
       "       [ -2.692042  ,  10.94738677,  -4.40675281],\n",
       "       [  4.35216756,   9.49248112,  -7.88119562],\n",
       "       [ 14.52256621,   1.1016541 , -19.13433144],\n",
       "       [-19.68132705,   3.48146187,  -6.4176596 ]])>"
      ]
     },
     "execution_count": 585,
     "metadata": {},
     "output_type": "execute_result"
    }
   ],
   "source": [
    "p_grad(H, P, VH, VP, optimize_t(H, P, VH, VP))"
   ]
  },
  {
   "cell_type": "code",
   "execution_count": 584,
   "id": "f37a6e06-8b1e-498a-bc88-02cc5eb3734d",
   "metadata": {},
   "outputs": [
    {
     "data": {
      "text/plain": [
       "<tf.Tensor: shape=(5, 3), dtype=float64, numpy=\n",
       "array([[ 62.5783009 ,  36.36912843, -62.17499421],\n",
       "       [ -9.54593995,  38.81926681, -15.62627835],\n",
       "       [ 18.48477918,  40.31701788, -33.47347242],\n",
       "       [ 72.32560937,   5.48648241, -95.29322581],\n",
       "       [ -5.22983918,   0.92511474,  -1.70533865]])>"
      ]
     },
     "execution_count": 584,
     "metadata": {},
     "output_type": "execute_result"
    }
   ],
   "source": [
    "vp_grad(H, P, VH, VP, optimize_t(H, P, VH, VP))"
   ]
  },
  {
   "cell_type": "code",
   "execution_count": 583,
   "id": "e3248415-90d8-49cc-915d-6b92cd9f6917",
   "metadata": {},
   "outputs": [
    {
     "data": {
      "text/plain": [
       "<tf.Tensor: shape=(5, 3), dtype=float64, numpy=\n",
       "array([[35.66335623, 12.04593358, 35.2051488 ],\n",
       "       [ 1.81177254, 29.96131928,  4.85486757],\n",
       "       [ 4.73534062, 22.52679944, 15.52831112],\n",
       "       [52.72623233,  0.30341044, 91.5306599 ],\n",
       "       [96.83865865,  3.03014419, 10.29658868]])>"
      ]
     },
     "execution_count": 583,
     "metadata": {},
     "output_type": "execute_result"
    }
   ],
   "source": [
    "distance(H, P, VH, VP, optimize_t(H, P, VH, VP))"
   ]
  },
  {
   "cell_type": "code",
   "execution_count": 593,
   "id": "9b900f8f-3a57-4854-8b94-3894d0054acc",
   "metadata": {},
   "outputs": [],
   "source": [
    "h = H.numpy()\n",
    "vh = VH.numpy()\n",
    "p = P.numpy()\n",
    "vp = VP.numpy()"
   ]
  },
  {
   "cell_type": "code",
   "execution_count": 639,
   "id": "97f477ea-f9a5-4be1-afa7-cca7869ef2c3",
   "metadata": {},
   "outputs": [
    {
     "data": {
      "text/plain": [
       "(array([-12.90479145,   5.87819318,   2.42957598]),\n",
       " array([-3.90347277,  1.73140454,  0.77005902]))"
      ]
     },
     "execution_count": 639,
     "metadata": {},
     "output_type": "execute_result"
    }
   ],
   "source": [
    "for i in range(100):\n",
    "    d = distance(h, p, vh, vp, optimize_t(h, p, vh, vp))\n",
    "    t = optimize_t(h, p, vh, vp)\n",
    "    next_p = d / p_grad(h, p, vh, vp, t)\n",
    "    next_vp = d / vp_grad(h, p, vh, vp, t)\n",
    "    if np.any(np.isnan(next_p)) or np.any(np.isnan(next_vp)):\n",
    "        print(\"Found nan\")\n",
    "        break\n",
    "    p = np.sum(next_p, axis=0)\n",
    "    vp = np.sum(next_vp, axis=0)\n",
    "p, vp"
   ]
  },
  {
   "cell_type": "code",
   "execution_count": 576,
   "id": "04608e86-d182-4f9e-8d84-75d0c670406f",
   "metadata": {},
   "outputs": [
    {
     "data": {
      "text/plain": [
       "<tf.Tensor: shape=(5, 3), dtype=float64, numpy=\n",
       "array([[-192.54500868,   31.8189045 , -151.28056891],\n",
       "       [-146.32177766,   20.48082532, -113.81065921],\n",
       "       [-164.48017797,   25.38009934, -129.71262801],\n",
       "       [-180.65130587,   23.63060008, -153.954895  ],\n",
       "       [ -45.42396575,  -16.70725133,  -57.69088159]])>"
      ]
     },
     "execution_count": 576,
     "metadata": {},
     "output_type": "execute_result"
    }
   ],
   "source": [
    "p_grad(h, p, vh, vp, t)"
   ]
  },
  {
   "cell_type": "code",
   "execution_count": 472,
   "id": "0555463a-7f26-4328-8d54-887c2a7ea283",
   "metadata": {},
   "outputs": [
    {
     "data": {
      "text/latex": [
       "$\\displaystyle \\left(2 {v_{h}}_{0} - 2 v_{p}\\right) \\left(t {v_{h}}_{0} - t v_{p} + {h}_{0} - p\\right) + \\left(2 {v_{h}}_{1} - 2 v_{p}\\right) \\left(t {v_{h}}_{1} - t v_{p} + {h}_{1} - p\\right) + \\left(2 {v_{h}}_{2} - 2 v_{p}\\right) \\left(t {v_{h}}_{2} - t v_{p} + {h}_{2} - p\\right)$"
      ],
      "text/plain": [
       "(2*v_h[0] - 2*v_p)*(t*v_h[0] - t*v_p + h[0] - p) + (2*v_h[1] - 2*v_p)*(t*v_h[1] - t*v_p + h[1] - p) + (2*v_h[2] - 2*v_p)*(t*v_h[2] - t*v_p + h[2] - p)"
      ]
     },
     "execution_count": 472,
     "metadata": {},
     "output_type": "execute_result"
    }
   ],
   "source": [
    "df_dt(h[0], p, vh[0], vp, t) + df_dt(h[1], p, vh[1], vp, t) + df_dt(h[2], p, vh[2], vp, t)"
   ]
  },
  {
   "cell_type": "code",
   "execution_count": 382,
   "id": "ea6cfbd9-40b1-4c4d-9d37-ea35350b12a4",
   "metadata": {},
   "outputs": [
    {
     "ename": "TypeError",
     "evalue": "'Add' object is not callable",
     "output_type": "error",
     "traceback": [
      "\u001b[0;31m---------------------------------------------------------------------------\u001b[0m",
      "\u001b[0;31mTypeError\u001b[0m                                 Traceback (most recent call last)",
      "Cell \u001b[0;32mIn[382], line 1\u001b[0m\n\u001b[0;32m----> 1\u001b[0m \u001b[38;5;28;43msum\u001b[39;49m\u001b[43m(\u001b[49m\u001b[43mdf_dt\u001b[49m\u001b[43m(\u001b[49m\u001b[43mh\u001b[49m\u001b[43m[\u001b[49m\u001b[43mi\u001b[49m\u001b[43m]\u001b[49m\u001b[43m,\u001b[49m\u001b[43m \u001b[49m\u001b[43mp\u001b[49m\u001b[43m,\u001b[49m\u001b[43m \u001b[49m\u001b[43mvh\u001b[49m\u001b[43m[\u001b[49m\u001b[43mi\u001b[49m\u001b[43m]\u001b[49m\u001b[43m,\u001b[49m\u001b[43m \u001b[49m\u001b[43mvp\u001b[49m\u001b[43m,\u001b[49m\u001b[43m \u001b[49m\u001b[43mt\u001b[49m\u001b[43m)\u001b[49m\u001b[43m \u001b[49m\u001b[38;5;28;43;01mfor\u001b[39;49;00m\u001b[43m \u001b[49m\u001b[43mi\u001b[49m\u001b[43m \u001b[49m\u001b[38;5;129;43;01min\u001b[39;49;00m\u001b[43m \u001b[49m\u001b[38;5;28;43mrange\u001b[39;49m\u001b[43m(\u001b[49m\u001b[38;5;241;43m3\u001b[39;49m\u001b[43m)\u001b[49m\u001b[43m)\u001b[49m\n",
      "Cell \u001b[0;32mIn[382], line 1\u001b[0m, in \u001b[0;36m<genexpr>\u001b[0;34m(.0)\u001b[0m\n\u001b[0;32m----> 1\u001b[0m \u001b[38;5;28msum\u001b[39m(\u001b[43mdf_dt\u001b[49m\u001b[43m(\u001b[49m\u001b[43mh\u001b[49m\u001b[43m[\u001b[49m\u001b[43mi\u001b[49m\u001b[43m]\u001b[49m\u001b[43m,\u001b[49m\u001b[43m \u001b[49m\u001b[43mp\u001b[49m\u001b[43m,\u001b[49m\u001b[43m \u001b[49m\u001b[43mvh\u001b[49m\u001b[43m[\u001b[49m\u001b[43mi\u001b[49m\u001b[43m]\u001b[49m\u001b[43m,\u001b[49m\u001b[43m \u001b[49m\u001b[43mvp\u001b[49m\u001b[43m,\u001b[49m\u001b[43m \u001b[49m\u001b[43mt\u001b[49m\u001b[43m)\u001b[49m \u001b[38;5;28;01mfor\u001b[39;00m i \u001b[38;5;129;01min\u001b[39;00m \u001b[38;5;28mrange\u001b[39m(\u001b[38;5;241m3\u001b[39m))\n",
      "\u001b[0;31mTypeError\u001b[0m: 'Add' object is not callable"
     ]
    }
   ],
   "source": [
    "sum(df_dt(h[i], p, vh[i], vp, t) for i in range(3))"
   ]
  },
  {
   "cell_type": "code",
   "execution_count": 380,
   "id": "ba7c30d3-d7ee-42f6-99be-b14c5335a036",
   "metadata": {},
   "outputs": [
    {
     "data": {
      "text/latex": [
       "$\\displaystyle \\left(t v_{h} - t v_{p} + h - p\\right)^{2}$"
      ],
      "text/plain": [
       "(t*v_h - t*v_p + h - p)**2"
      ]
     },
     "execution_count": 380,
     "metadata": {},
     "output_type": "execute_result"
    }
   ],
   "source": [
    "f"
   ]
  },
  {
   "cell_type": "code",
   "execution_count": 359,
   "id": "5647b8a3-39da-4814-92d6-df954d77f01b",
   "metadata": {},
   "outputs": [
    {
     "data": {
      "text/latex": [
       "$\\displaystyle \\frac{- h + p}{v_{h} - v_{p}}$"
      ],
      "text/plain": [
       "(-h + p)/(v_h - v_p)"
      ]
     },
     "execution_count": 359,
     "metadata": {},
     "output_type": "execute_result"
    }
   ],
   "source": [
    "solve(df_dt, t)[0]"
   ]
  },
  {
   "cell_type": "code",
   "execution_count": 360,
   "id": "bca6a598-ed33-4667-a539-9e9e2ab527ce",
   "metadata": {},
   "outputs": [
    {
     "data": {
      "text/plain": [
       "<tf.Tensor: shape=(5, 3), dtype=float64, numpy=\n",
       "array([[5., 0., 5.],\n",
       "       [3., 3., 3.],\n",
       "       [4., 4., 4.],\n",
       "       [6., 6., 6.],\n",
       "       [1., 1., 1.]])>"
      ]
     },
     "execution_count": 360,
     "metadata": {},
     "output_type": "execute_result"
    }
   ],
   "source": [
    "t_eq(H, P, VH, VP)"
   ]
  },
  {
   "cell_type": "code",
   "execution_count": 350,
   "id": "e0f0a67b-53f4-4f29-b9d7-89000b85e2fc",
   "metadata": {},
   "outputs": [
    {
     "data": {
      "text/plain": [
       "<tf.Tensor: shape=(3,), dtype=float64, numpy=array([0., 0., 0.])>"
      ]
     },
     "execution_count": 350,
     "metadata": {},
     "output_type": "execute_result"
    }
   ],
   "source": [
    "distance(H[0], P[0], VH[0], VP[0], 5.0)"
   ]
  },
  {
   "cell_type": "code",
   "execution_count": 325,
   "id": "5fca6535-42d8-400c-a642-3d0536f27aac",
   "metadata": {},
   "outputs": [
    {
     "data": {
      "text/plain": [
       "<tf.Tensor: shape=(), dtype=float64, numpy=0.0>"
      ]
     },
     "execution_count": 325,
     "metadata": {},
     "output_type": "execute_result"
    }
   ],
   "source": [
    "p_grad(H[0], P[0], VH[0], VP[0], 5.0)"
   ]
  },
  {
   "cell_type": "code",
   "execution_count": 324,
   "id": "90a0a86b-17ee-4902-83f2-49fdf41270d2",
   "metadata": {},
   "outputs": [
    {
     "data": {
      "text/plain": [
       "<tf.Tensor: shape=(), dtype=float64, numpy=0.0>"
      ]
     },
     "execution_count": 324,
     "metadata": {},
     "output_type": "execute_result"
    }
   ],
   "source": [
    "v_grad(H[0], P[0], VH[0], VP[0], 5.0)"
   ]
  },
  {
   "cell_type": "code",
   "execution_count": 311,
   "id": "4a545914-7990-4197-b12e-8350773207d5",
   "metadata": {},
   "outputs": [
    {
     "data": {
      "text/plain": [
       "<tf.Variable 'UnreadVariable' shape=(1, 3) dtype=float64, numpy=array([[-3.,  1.,  2.]])>"
      ]
     },
     "execution_count": 311,
     "metadata": {},
     "output_type": "execute_result"
    }
   ],
   "source": [
    "P.assign([[24, 13, 10]])\n",
    "VP.assign([[-3, 1, 2]])"
   ]
  },
  {
   "cell_type": "code",
   "execution_count": 312,
   "id": "780d1d81-16e2-4c14-a9c8-31c4cca932e8",
   "metadata": {},
   "outputs": [
    {
     "data": {
      "text/plain": [
       "<tf.Tensor: shape=(), dtype=float64, numpy=5.0>"
      ]
     },
     "execution_count": 312,
     "metadata": {},
     "output_type": "execute_result"
    }
   ],
   "source": [
    "optimal_t(H[0], P[0], VH[0], VP[0])"
   ]
  },
  {
   "cell_type": "code",
   "execution_count": 303,
   "id": "4e4e4732-d5b3-43d0-ba4e-58b9fc19b557",
   "metadata": {},
   "outputs": [
    {
     "data": {
      "text/plain": [
       "<tf.Tensor: shape=(3,), dtype=float64, numpy=array([3.93736453e+14, 2.78205093e+14, 2.98742186e+14])>"
      ]
     },
     "execution_count": 303,
     "metadata": {},
     "output_type": "execute_result"
    }
   ],
   "source": [
    "P[0]"
   ]
  },
  {
   "cell_type": "code",
   "execution_count": 298,
   "id": "f4a0beb7-9a01-4d9a-b9b8-c11c5d7cf59d",
   "metadata": {},
   "outputs": [
    {
     "data": {
      "text/latex": [
       "$\\displaystyle - 2 t {v_{h}}_{0} + 2 t {v_{p}}_{0} - 2 {h}_{0} + 2 {p}_{0}$"
      ],
      "text/plain": [
       "-2*t*v_h[0] + 2*t*v_p[0] - 2*h[0] + 2*p[0]"
      ]
     },
     "execution_count": 298,
     "metadata": {},
     "output_type": "execute_result"
    }
   ],
   "source": [
    "distance(h, p, vh, vp, t).diff(p[0])\n",
    "distance(h, p, vh, vp, t).diff(p[0])\n",
    "distance(h, p, vh, vp, t).diff(p[0])"
   ]
  },
  {
   "cell_type": "code",
   "execution_count": 668,
   "id": "563610bd-32f1-4e9a-9bc2-a87c8680f449",
   "metadata": {},
   "outputs": [],
   "source": [
    "# min_distance(H, P, VH, VP)"
   ]
  },
  {
   "cell_type": "code",
   "execution_count": 675,
   "id": "47a62596-659f-4e02-af68-982a685f6ff1",
   "metadata": {},
   "outputs": [],
   "source": [
    "optimizer = tf.keras.optimizers.Adam(1e-2)"
   ]
  },
  {
   "cell_type": "code",
   "execution_count": 676,
   "id": "6e96628e-4b37-4e80-85be-af7c03210032",
   "metadata": {},
   "outputs": [],
   "source": [
    "@tf.function()\n",
    "def step(P, VP):\n",
    "    with tf.GradientTape() as tape:\n",
    "        y_pred = tf.reduce_sum(min_distance(H, P, VH, VP))\n",
    "        loss = tf.keras.losses.mean_absolute_error([0.0], y_pred)\n",
    "    grads = tape.gradient(loss, [P, VP])\n",
    "    optimizer.apply_gradients(zip(grads, [P, VP]))\n",
    "    return loss"
   ]
  },
  {
   "cell_type": "code",
   "execution_count": 682,
   "id": "fd75b4fa-f8f4-449b-9526-0389b898ad92",
   "metadata": {},
   "outputs": [],
   "source": [
    "def go():\n",
    "    for i in count():\n",
    "        loss = step(P, VP)\n",
    "        if i % 100 == 0:\n",
    "            print(f\"{i=};\\n{P=}\\n{VP=}\\n{tf.reduce_sum(loss)=}\")\n",
    "            clear_output(wait=True)\n",
    "        if loss < 1e-3:\n",
    "            break"
   ]
  },
  {
   "cell_type": "code",
   "execution_count": 704,
   "id": "fc93ed26-e913-454a-8158-4d62dc6fe8f3",
   "metadata": {},
   "outputs": [],
   "source": [
    "P = tf.Variable(tf.random.uniform((1, 3), start, end, dtype=tf.float64))\n",
    "VP = tf.Variable(tf.random.normal((1, 3), dtype=tf.float64))"
   ]
  },
  {
   "cell_type": "code",
   "execution_count": 705,
   "id": "c96ae712-54c0-41b6-884e-16755672dc25",
   "metadata": {},
   "outputs": [
    {
     "data": {
      "text/plain": [
       "<tf.Variable 'Variable:0' shape=(1, 3) dtype=float64, numpy=array([[14.75658668, 19.30516533, 21.46618938]])>"
      ]
     },
     "execution_count": 705,
     "metadata": {},
     "output_type": "execute_result"
    }
   ],
   "source": [
    "P"
   ]
  },
  {
   "cell_type": "code",
   "execution_count": 706,
   "id": "85830738-a85c-465d-80a6-fc0dc4adf499",
   "metadata": {},
   "outputs": [
    {
     "data": {
      "text/plain": [
       "<tf.Variable 'Variable:0' shape=(1, 3) dtype=float64, numpy=array([[-0.21087257, -0.65685728,  1.74092709]])>"
      ]
     },
     "execution_count": 706,
     "metadata": {},
     "output_type": "execute_result"
    }
   ],
   "source": [
    "VP"
   ]
  },
  {
   "cell_type": "code",
   "execution_count": 707,
   "id": "ac4b32ff-ed3c-4404-be62-d60e2a4b0c25",
   "metadata": {},
   "outputs": [
    {
     "name": "stdout",
     "output_type": "stream",
     "text": [
      "i=1100;\n",
      "P=<tf.Variable 'Variable:0' shape=(1, 3) dtype=float64, numpy=array([[23.88191231, 13.16915516, 10.16466116]])>\n",
      "VP=<tf.Variable 'Variable:0' shape=(1, 3) dtype=float64, numpy=array([[-2.97467574,  0.96362812,  1.96607602]])>\n",
      "tf.reduce_sum(loss)=<tf.Tensor: shape=(), dtype=float64, numpy=0.0014270412298931416>\n"
     ]
    }
   ],
   "source": [
    "go()"
   ]
  },
  {
   "cell_type": "code",
   "execution_count": 708,
   "id": "51706dfd-1817-44f6-87b2-e70418530c9b",
   "metadata": {},
   "outputs": [
    {
     "data": {
      "text/plain": [
       "<tf.Tensor: shape=(1, 3), dtype=float64, numpy=array([[24., 13., 10.]])>"
      ]
     },
     "execution_count": 708,
     "metadata": {},
     "output_type": "execute_result"
    }
   ],
   "source": [
    "tf.round(P)"
   ]
  },
  {
   "cell_type": "code",
   "execution_count": 703,
   "id": "3674f554-2b54-4b07-b208-79b9bf5864e5",
   "metadata": {},
   "outputs": [
    {
     "data": {
      "text/plain": [
       "<tf.Tensor: shape=(1, 3), dtype=float64, numpy=array([[-3.,  1.,  2.]])>"
      ]
     },
     "execution_count": 703,
     "metadata": {},
     "output_type": "execute_result"
    }
   ],
   "source": [
    "tf.round(VP)"
   ]
  },
  {
   "cell_type": "markdown",
   "id": "0bfd97af-3ac2-425f-9bf6-c4922fec4d49",
   "metadata": {},
   "source": [
    "---"
   ]
  },
  {
   "cell_type": "code",
   "execution_count": 6,
   "id": "3d56c927-3908-4f92-be36-526ceec80e70",
   "metadata": {},
   "outputs": [],
   "source": [
    "# min_distance(H, P, VH, VP)"
   ]
  },
  {
   "cell_type": "code",
   "execution_count": 404,
   "id": "4ea61f79-c6a0-4615-8c54-fba50d75dbbe",
   "metadata": {},
   "outputs": [],
   "source": [
    "# scale = 100000000000\n",
    "# scale = 0.0001\n",
    "scale = 1"
   ]
  },
  {
   "cell_type": "code",
   "execution_count": 405,
   "id": "0cb622f1-aaa1-4d05-8963-2684f5579d52",
   "metadata": {},
   "outputs": [
    {
     "data": {
      "text/plain": [
       "(200000000000000.0, 400000000000000.0)"
      ]
     },
     "execution_count": 405,
     "metadata": {},
     "output_type": "execute_result"
    }
   ],
   "source": [
    "start = 200000000000000 / scale\n",
    "end = 400000000000000 / scale\n",
    "\n",
    "# start = 200000000000000\n",
    "# end = 400000000000000\n",
    "\n",
    "# start=tf.constant(7.0, dtype=tf.float64)\n",
    "# end=tf.constant(27.0, dtype=tf.float64)\n",
    "start, end"
   ]
  },
  {
   "cell_type": "code",
   "execution_count": 264,
   "id": "ca98d485-0a8c-4048-998b-a73964ff13f3",
   "metadata": {},
   "outputs": [],
   "source": [
    "with open(\"./puzzle_inputs/24.txt\") as f:\n",
    "    inp = f.read().rstrip()"
   ]
  },
  {
   "cell_type": "code",
   "execution_count": 265,
   "id": "a739bb00-992d-4ac6-bd8a-2038870f83a8",
   "metadata": {},
   "outputs": [],
   "source": [
    "hailstones = np.array([\n",
    "    list(map(int, re.findall(r\"-?\\d+\", line)))\n",
    "    for line in inp.split('\\n')]).reshape((-1, 2, 3)).astype(np.float64)"
   ]
  },
  {
   "cell_type": "code",
   "execution_count": 266,
   "id": "803f1252-d622-4d01-b0bf-90f0adc215d2",
   "metadata": {},
   "outputs": [],
   "source": [
    "H = tf.constant(hailstones[:,0,:]) / scale\n",
    "VH = tf.constant(hailstones[:,1,:])\n",
    "# VH"
   ]
  },
  {
   "cell_type": "code",
   "execution_count": 267,
   "id": "ebf80fa6-993a-495d-98ec-4e74a7e9ebaa",
   "metadata": {},
   "outputs": [],
   "source": [
    "h = sp.IndexedBase(\"h\")\n",
    "p = sp.IndexedBase(\"p\")\n",
    "vh = sp.IndexedBase(\"v_h\")\n",
    "vp = sp.IndexedBase(\"v_p\")\n",
    "t = sp.Symbol(\"t\")\n",
    "\n",
    "f = (h + t*vh - p - t*vp)**2\n",
    "distance = lambdify([h, p, vh, vp, t], f)\n",
    "\n",
    "# df_dp = f.diff(p)\n",
    "# df_dvp = f.diff(vp)\n",
    "\n",
    "# time optimization\n",
    "df_dt = lambdify([h, p, vh, vp, t], f.diff(t))\n",
    "df_dt_components = sum(df_dt(h[i], p[i], vh[i], vp[i], t) for i in range(3))\n",
    "t_eq = lambdify([h, p, vh, vp], solve(df_dt_components, t)[0])\n",
    "optimize_t = lambda h, p, vh, vp: tf.expand_dims(t_eq(tf.transpose(h), tf.transpose(p), tf.transpose(vh), tf.transpose(vp)), axis=1)\n"
   ]
  },
  {
   "cell_type": "code",
   "execution_count": 268,
   "id": "a43183a1-c17e-4654-a4b7-90d72afe6f27",
   "metadata": {},
   "outputs": [],
   "source": [
    "P = tf.Variable(tf.random.uniform((1, 3), start, end, dtype=tf.float64))\n",
    "VP = tf.Variable(tf.random.normal((1, 3), dtype=tf.float64))"
   ]
  },
  {
   "cell_type": "code",
   "execution_count": 316,
   "id": "6c5f4b17-473f-4d6e-97a0-850f139d4972",
   "metadata": {},
   "outputs": [],
   "source": [
    "tf.keras.backend.set_epsilon(1e-25)"
   ]
  },
  {
   "cell_type": "code",
   "execution_count": 406,
   "id": "9adb695e-7414-4d7b-8075-3e72d9bf1da3",
   "metadata": {},
   "outputs": [
    {
     "data": {
      "text/plain": [
       "<tf.Variable 'UnreadVariable' shape=(1, 3) dtype=float64, numpy=array([[-336.,   29.,   38.]])>"
      ]
     },
     "execution_count": 406,
     "metadata": {},
     "output_type": "execute_result"
    }
   ],
   "source": [
    "P.assign([[461522278379691.0 / scale, 278970483473653.0 / scale, 243127954482398.0 / scale]])\n",
    "VP.assign([[-336, 29, 38.0]])"
   ]
  },
  {
   "cell_type": "code",
   "execution_count": null,
   "id": "b6a4c8f9-55ac-4c1c-8531-4ebc36f26e66",
   "metadata": {},
   "outputs": [],
   "source": []
  },
  {
   "cell_type": "code",
   "execution_count": 419,
   "id": "0cfd8b99-482f-407c-8fb3-e17e1f9f2a72",
   "metadata": {},
   "outputs": [],
   "source": [
    "tf.keras.backend.epsilon\n",
    "optimizer = tf.keras.optimizers.SGD(1e-12)\n",
    "# optimizer = tf.keras.optimizers.Adam(1e-1)\n",
    "\n",
    "@tf.function()\n",
    "def step(P, VP):\n",
    "    with tf.GradientTape() as tape:\n",
    "        y_pred = tf.reduce_sum(distance(H, P, VH, VP, optimize_t(H, P, VH, VP)))\n",
    "        loss = tf.keras.losses.mean_absolute_error([0.0], y_pred)\n",
    "    # grads = tape.gradient(loss, [P, VP])\n",
    "    # optimizer.apply_gradients(zip(grads, [P, VP]))\n",
    "    grads = tape.gradient(loss, [P])\n",
    "    grads = tf.cast(-1e-25*(grads[0]) * P, dtype=tf.int64)\n",
    "    # P.assign_add(-1e-25*(grads[0] * P))\n",
    "    # optimizer.apply_gradients(zip(grads, [P]))\n",
    "    return loss, grads"
   ]
  },
  {
   "cell_type": "code",
   "execution_count": null,
   "id": "8e15afb1-2ea7-4dac-bdc0-087777ff6a32",
   "metadata": {},
   "outputs": [],
   "source": []
  },
  {
   "cell_type": "code",
   "execution_count": 420,
   "id": "4f5e1d24-e1f2-4741-b087-f28318e21021",
   "metadata": {},
   "outputs": [
    {
     "name": "stdout",
     "output_type": "stream",
     "text": [
      "list(map(int, P.numpy().flatten()*scale))=[461522278379691, 278970483473653, 243127954482398]\n",
      "VP=<tf.Variable 'Variable:0' shape=(1, 3) dtype=float64, numpy=array([[-336.,   29.,   38.]])>\n",
      "tf.reduce_sum(loss)=<tf.Tensor: shape=(), dtype=float64, numpy=6.189780918523508e+39>\n",
      "grads=<tf.Tensor: shape=(1, 3), dtype=int64, numpy=array([[51017974487, 39640529519, 33149495164]])>\n"
     ]
    }
   ],
   "source": [
    "loss, grads = step(P, VP)\n",
    "print(f\"{list(map(int, P.numpy().flatten()*scale))=}\\n{VP=}\\n{tf.reduce_sum(loss)=}\\n{grads=}\")\n",
    "# print(f\"{-1e-25*(grads[0] * P)}\")"
   ]
  },
  {
   "cell_type": "code",
   "execution_count": 403,
   "id": "ee47f97b-6c7a-462d-82de-2e900e3bf4dd",
   "metadata": {},
   "outputs": [
    {
     "name": "stdout",
     "output_type": "stream",
     "text": [
      "list(map(int, p.flatten()))=[4615222783796910080, 2789704834736529920, 2431279544823980032]\n",
      "delta=array([[-32.04425829,  15.399607  ,  14.98889485]], dtype=float128)\n"
     ]
    }
   ],
   "source": [
    "delta = (1e-25*grads[0] * P).numpy().astype(np.float128)\n",
    "p = (P.numpy().astype(np.float128) + delta).astype(np.float64)\n",
    "# P.numpy().astype(np.float128) + delta.numpy()\n",
    "print(f\"{list(map(int, p.flatten()))=}\\n{delta=}\")"
   ]
  },
  {
   "cell_type": "code",
   "execution_count": 385,
   "id": "fac7b1af-4785-40c3-8327-e6bac7df93ca",
   "metadata": {},
   "outputs": [
    {
     "name": "stdout",
     "output_type": "stream",
     "text": [
      "list(map(int, P.numpy().flatten()))=[4615222783796910080, 2789704834736529920, 2431279544823980032]\n",
      "delta=<tf.Tensor: shape=(1, 3), dtype=float64, numpy=array([[-32.04425829,  15.399607  ,  14.98889485]])>\n"
     ]
    }
   ],
   "source": [
    "delta = 1e-25*grads[0] * P\n",
    "P.assign_add(delta)\n",
    "print(f\"{list(map(int, P.numpy().flatten()))=}\\n{delta=}\")"
   ]
  },
  {
   "cell_type": "code",
   "execution_count": 344,
   "id": "895f6e32-33ea-43f0-8bc7-82da7f77981d",
   "metadata": {},
   "outputs": [
    {
     "data": {
      "text/plain": [
       "<tf.Variable 'UnreadVariable' shape=(1, 3) dtype=float64, numpy=array([[4.61522278e+18, 2.78970483e+18, 2.43127954e+18]])>"
      ]
     },
     "execution_count": 344,
     "metadata": {},
     "output_type": "execute_result"
    }
   ],
   "source": [
    "X = tf.Variable(tf.random.uniform((1, 3), start, end, dtype=tf.float64))\n",
    "X.assign(P)"
   ]
  },
  {
   "cell_type": "code",
   "execution_count": 354,
   "id": "9b305254-763d-454b-ac31-c9a6a8d44581",
   "metadata": {},
   "outputs": [],
   "source": [
    "delta = 1e-25*grads[0] * X"
   ]
  },
  {
   "cell_type": "code",
   "execution_count": 355,
   "id": "fd682f6e-fa85-4477-bc71-dd9e74cb50cb",
   "metadata": {},
   "outputs": [
    {
     "data": {
      "text/plain": [
       "<tf.Tensor: shape=(1, 3), dtype=float64, numpy=array([[-32.04425829,  15.399607  ,  14.98889485]])>"
      ]
     },
     "execution_count": 355,
     "metadata": {},
     "output_type": "execute_result"
    }
   ],
   "source": [
    "delta"
   ]
  },
  {
   "cell_type": "code",
   "execution_count": 360,
   "id": "dcab2ea0-0eed-4ebe-be39-a8caedd211a4",
   "metadata": {},
   "outputs": [
    {
     "name": "stderr",
     "output_type": "stream",
     "text": [
      "2023-12-25 01:40:36.466044: W tensorflow/core/framework/op_kernel.cc:1733] UNKNOWN: JIT compilation failed.\n"
     ]
    },
    {
     "ename": "UnknownError",
     "evalue": "JIT compilation failed. [Op:FloorMod]",
     "output_type": "error",
     "traceback": [
      "\u001b[0;31m---------------------------------------------------------------------------\u001b[0m",
      "\u001b[0;31mUnknownError\u001b[0m                              Traceback (most recent call last)",
      "Cell \u001b[0;32mIn[360], line 1\u001b[0m\n\u001b[0;32m----> 1\u001b[0m \u001b[43mtf\u001b[49m\u001b[38;5;241;43m.\u001b[39;49m\u001b[43mmath\u001b[49m\u001b[38;5;241;43m.\u001b[39;49m\u001b[43mmod\u001b[49m\u001b[43m(\u001b[49m\u001b[43mX\u001b[49m\u001b[43m,\u001b[49m\u001b[43m \u001b[49m\u001b[38;5;241;43m10000000\u001b[39;49m\u001b[43m)\u001b[49m\n",
      "File \u001b[0;32m/opt/conda/envs/qiime2-amplicon-2023.9/lib/python3.8/site-packages/tensorflow/python/ops/gen_math_ops.py:4003\u001b[0m, in \u001b[0;36mfloor_mod\u001b[0;34m(x, y, name)\u001b[0m\n\u001b[1;32m   4001\u001b[0m   \u001b[38;5;28;01mreturn\u001b[39;00m _result\n\u001b[1;32m   4002\u001b[0m \u001b[38;5;28;01mexcept\u001b[39;00m _core\u001b[38;5;241m.\u001b[39m_NotOkStatusException \u001b[38;5;28;01mas\u001b[39;00m e:\n\u001b[0;32m-> 4003\u001b[0m   \u001b[43m_ops\u001b[49m\u001b[38;5;241;43m.\u001b[39;49m\u001b[43mraise_from_not_ok_status\u001b[49m\u001b[43m(\u001b[49m\u001b[43me\u001b[49m\u001b[43m,\u001b[49m\u001b[43m \u001b[49m\u001b[43mname\u001b[49m\u001b[43m)\u001b[49m\n\u001b[1;32m   4004\u001b[0m \u001b[38;5;28;01mexcept\u001b[39;00m _core\u001b[38;5;241m.\u001b[39m_FallbackException:\n\u001b[1;32m   4005\u001b[0m   \u001b[38;5;28;01mpass\u001b[39;00m\n",
      "File \u001b[0;32m/opt/conda/envs/qiime2-amplicon-2023.9/lib/python3.8/site-packages/tensorflow/python/framework/ops.py:7164\u001b[0m, in \u001b[0;36mraise_from_not_ok_status\u001b[0;34m(e, name)\u001b[0m\n\u001b[1;32m   7162\u001b[0m \u001b[38;5;28;01mdef\u001b[39;00m \u001b[38;5;21mraise_from_not_ok_status\u001b[39m(e, name):\n\u001b[1;32m   7163\u001b[0m   e\u001b[38;5;241m.\u001b[39mmessage \u001b[38;5;241m+\u001b[39m\u001b[38;5;241m=\u001b[39m (\u001b[38;5;124m\"\u001b[39m\u001b[38;5;124m name: \u001b[39m\u001b[38;5;124m\"\u001b[39m \u001b[38;5;241m+\u001b[39m name \u001b[38;5;28;01mif\u001b[39;00m name \u001b[38;5;129;01mis\u001b[39;00m \u001b[38;5;129;01mnot\u001b[39;00m \u001b[38;5;28;01mNone\u001b[39;00m \u001b[38;5;28;01melse\u001b[39;00m \u001b[38;5;124m\"\u001b[39m\u001b[38;5;124m\"\u001b[39m)\n\u001b[0;32m-> 7164\u001b[0m   \u001b[38;5;28;01mraise\u001b[39;00m core\u001b[38;5;241m.\u001b[39m_status_to_exception(e) \u001b[38;5;28;01mfrom\u001b[39;00m \u001b[38;5;28;01mNone\u001b[39;00m\n",
      "\u001b[0;31mUnknownError\u001b[0m: JIT compilation failed. [Op:FloorMod]"
     ]
    }
   ],
   "source": [
    "tf.math.mod(X, 10000000)"
   ]
  },
  {
   "cell_type": "code",
   "execution_count": 346,
   "id": "2c62064e-8e60-4cc8-a9f8-90fb720b1644",
   "metadata": {},
   "outputs": [
    {
     "name": "stdout",
     "output_type": "stream",
     "text": [
      "list(map(int, X.numpy().flatten()))=[4615222783796910080, 2789704834736529920, 2431279544823980032]\n"
     ]
    }
   ],
   "source": [
    "X.assign_add(1e-25*grads[0] * X)\n",
    "print(f\"{list(map(int, X.numpy().flatten()))=}\")"
   ]
  },
  {
   "cell_type": "code",
   "execution_count": 121,
   "id": "e64f29e8-e4e2-4f72-a8fb-c7b55d103824",
   "metadata": {},
   "outputs": [],
   "source": [
    "tf.keras.backend.set_epsilon(1e-20)"
   ]
  },
  {
   "cell_type": "code",
   "execution_count": 122,
   "id": "e9d4e27b-87d9-4421-9f28-725759cc6f30",
   "metadata": {},
   "outputs": [
    {
     "data": {
      "text/plain": [
       "<tf.Tensor: shape=(), dtype=float64, numpy=322242600.78100586>"
      ]
     },
     "execution_count": 122,
     "metadata": {},
     "output_type": "execute_result"
    }
   ],
   "source": [
    "tf.keras.losses.mean_absolute_error([0.0], tf.reduce_sum(distance(H, P, VH, VP, optimize_t(H, P, VH, VP))))"
   ]
  },
  {
   "cell_type": "code",
   "execution_count": 108,
   "id": "bc42417f-065a-41d8-b10a-77e428c02f25",
   "metadata": {},
   "outputs": [],
   "source": [
    "def go():\n",
    "    for i in count():\n",
    "        loss, grads = step(P, VP)\n",
    "        if i % 100 == 0:\n",
    "\n",
    "            print(f\"{i=};\\n{list(map(int, P.numpy().flatten()*scale))=}\\n{VP=}\\n{tf.reduce_sum(loss)=}\\n{grads=}\")\n",
    "            clear_output(wait=True)\n",
    "        if loss < -10:\n",
    "            break"
   ]
  },
  {
   "cell_type": "code",
   "execution_count": 109,
   "id": "2dfe13d0-6b62-433e-914b-e93b05585fef",
   "metadata": {},
   "outputs": [
    {
     "data": {
      "text/plain": [
       "<tf.Variable 'Variable:0' shape=(1, 3) dtype=float64, numpy=array([[4.61522278e+14, 2.78970483e+14, 2.43127954e+14]])>"
      ]
     },
     "execution_count": 109,
     "metadata": {},
     "output_type": "execute_result"
    }
   ],
   "source": [
    "P"
   ]
  },
  {
   "cell_type": "code",
   "execution_count": 110,
   "id": "fd08ac28-fd3c-4668-bf0f-fb45358153ec",
   "metadata": {},
   "outputs": [
    {
     "data": {
      "text/plain": [
       "<tf.Variable 'Variable:0' shape=(1, 3) dtype=float64, numpy=array([[-336.,   29.,   38.]])>"
      ]
     },
     "execution_count": 110,
     "metadata": {},
     "output_type": "execute_result"
    }
   ],
   "source": [
    "VP"
   ]
  },
  {
   "cell_type": "code",
   "execution_count": 178,
   "id": "b36dd6a4-d716-4a36-bd78-39a0960b7813",
   "metadata": {},
   "outputs": [
    {
     "ename": "KeyboardInterrupt",
     "evalue": "",
     "output_type": "error",
     "traceback": [
      "\u001b[0;31m---------------------------------------------------------------------------\u001b[0m",
      "\u001b[0;31mKeyboardInterrupt\u001b[0m                         Traceback (most recent call last)",
      "Cell \u001b[0;32mIn[178], line 1\u001b[0m\n\u001b[0;32m----> 1\u001b[0m \u001b[43mgo\u001b[49m\u001b[43m(\u001b[49m\u001b[43m)\u001b[49m\n",
      "Cell \u001b[0;32mIn[108], line 3\u001b[0m, in \u001b[0;36mgo\u001b[0;34m()\u001b[0m\n\u001b[1;32m      1\u001b[0m \u001b[38;5;28;01mdef\u001b[39;00m \u001b[38;5;21mgo\u001b[39m():\n\u001b[1;32m      2\u001b[0m     \u001b[38;5;28;01mfor\u001b[39;00m i \u001b[38;5;129;01min\u001b[39;00m count():\n\u001b[0;32m----> 3\u001b[0m         loss, grads \u001b[38;5;241m=\u001b[39m \u001b[43mstep\u001b[49m\u001b[43m(\u001b[49m\u001b[43mP\u001b[49m\u001b[43m,\u001b[49m\u001b[43m \u001b[49m\u001b[43mVP\u001b[49m\u001b[43m)\u001b[49m\n\u001b[1;32m      4\u001b[0m         \u001b[38;5;28;01mif\u001b[39;00m i \u001b[38;5;241m%\u001b[39m \u001b[38;5;241m100\u001b[39m \u001b[38;5;241m==\u001b[39m \u001b[38;5;241m0\u001b[39m:\n\u001b[1;32m      6\u001b[0m             \u001b[38;5;28mprint\u001b[39m(\u001b[38;5;124mf\u001b[39m\u001b[38;5;124m\"\u001b[39m\u001b[38;5;132;01m{\u001b[39;00mi\u001b[38;5;132;01m=}\u001b[39;00m\u001b[38;5;124m;\u001b[39m\u001b[38;5;130;01m\\n\u001b[39;00m\u001b[38;5;132;01m{\u001b[39;00m\u001b[38;5;28mlist\u001b[39m(\u001b[38;5;28mmap\u001b[39m(\u001b[38;5;28mint\u001b[39m,\u001b[38;5;250m \u001b[39mP\u001b[38;5;241m.\u001b[39mnumpy()\u001b[38;5;241m.\u001b[39mflatten()\u001b[38;5;241m*\u001b[39mscale))\u001b[38;5;132;01m=}\u001b[39;00m\u001b[38;5;130;01m\\n\u001b[39;00m\u001b[38;5;132;01m{\u001b[39;00mVP\u001b[38;5;132;01m=}\u001b[39;00m\u001b[38;5;130;01m\\n\u001b[39;00m\u001b[38;5;132;01m{\u001b[39;00mtf\u001b[38;5;241m.\u001b[39mreduce_sum(loss)\u001b[38;5;132;01m=}\u001b[39;00m\u001b[38;5;130;01m\\n\u001b[39;00m\u001b[38;5;132;01m{\u001b[39;00mgrads\u001b[38;5;132;01m=}\u001b[39;00m\u001b[38;5;124m\"\u001b[39m)\n",
      "File \u001b[0;32m/opt/conda/envs/qiime2-amplicon-2023.9/lib/python3.8/site-packages/tensorflow/python/util/traceback_utils.py:150\u001b[0m, in \u001b[0;36mfilter_traceback.<locals>.error_handler\u001b[0;34m(*args, **kwargs)\u001b[0m\n\u001b[1;32m    148\u001b[0m filtered_tb \u001b[38;5;241m=\u001b[39m \u001b[38;5;28;01mNone\u001b[39;00m\n\u001b[1;32m    149\u001b[0m \u001b[38;5;28;01mtry\u001b[39;00m:\n\u001b[0;32m--> 150\u001b[0m   \u001b[38;5;28;01mreturn\u001b[39;00m \u001b[43mfn\u001b[49m\u001b[43m(\u001b[49m\u001b[38;5;241;43m*\u001b[39;49m\u001b[43margs\u001b[49m\u001b[43m,\u001b[49m\u001b[43m \u001b[49m\u001b[38;5;241;43m*\u001b[39;49m\u001b[38;5;241;43m*\u001b[39;49m\u001b[43mkwargs\u001b[49m\u001b[43m)\u001b[49m\n\u001b[1;32m    151\u001b[0m \u001b[38;5;28;01mexcept\u001b[39;00m \u001b[38;5;167;01mException\u001b[39;00m \u001b[38;5;28;01mas\u001b[39;00m e:\n\u001b[1;32m    152\u001b[0m   filtered_tb \u001b[38;5;241m=\u001b[39m _process_traceback_frames(e\u001b[38;5;241m.\u001b[39m__traceback__)\n",
      "File \u001b[0;32m/opt/conda/envs/qiime2-amplicon-2023.9/lib/python3.8/site-packages/tensorflow/python/eager/def_function.py:915\u001b[0m, in \u001b[0;36mFunction.__call__\u001b[0;34m(self, *args, **kwds)\u001b[0m\n\u001b[1;32m    912\u001b[0m compiler \u001b[38;5;241m=\u001b[39m \u001b[38;5;124m\"\u001b[39m\u001b[38;5;124mxla\u001b[39m\u001b[38;5;124m\"\u001b[39m \u001b[38;5;28;01mif\u001b[39;00m \u001b[38;5;28mself\u001b[39m\u001b[38;5;241m.\u001b[39m_jit_compile \u001b[38;5;28;01melse\u001b[39;00m \u001b[38;5;124m\"\u001b[39m\u001b[38;5;124mnonXla\u001b[39m\u001b[38;5;124m\"\u001b[39m\n\u001b[1;32m    914\u001b[0m \u001b[38;5;28;01mwith\u001b[39;00m OptionalXlaContext(\u001b[38;5;28mself\u001b[39m\u001b[38;5;241m.\u001b[39m_jit_compile):\n\u001b[0;32m--> 915\u001b[0m   result \u001b[38;5;241m=\u001b[39m \u001b[38;5;28;43mself\u001b[39;49m\u001b[38;5;241;43m.\u001b[39;49m\u001b[43m_call\u001b[49m\u001b[43m(\u001b[49m\u001b[38;5;241;43m*\u001b[39;49m\u001b[43margs\u001b[49m\u001b[43m,\u001b[49m\u001b[43m \u001b[49m\u001b[38;5;241;43m*\u001b[39;49m\u001b[38;5;241;43m*\u001b[39;49m\u001b[43mkwds\u001b[49m\u001b[43m)\u001b[49m\n\u001b[1;32m    917\u001b[0m new_tracing_count \u001b[38;5;241m=\u001b[39m \u001b[38;5;28mself\u001b[39m\u001b[38;5;241m.\u001b[39mexperimental_get_tracing_count()\n\u001b[1;32m    918\u001b[0m without_tracing \u001b[38;5;241m=\u001b[39m (tracing_count \u001b[38;5;241m==\u001b[39m new_tracing_count)\n",
      "File \u001b[0;32m/opt/conda/envs/qiime2-amplicon-2023.9/lib/python3.8/site-packages/tensorflow/python/eager/def_function.py:954\u001b[0m, in \u001b[0;36mFunction._call\u001b[0;34m(self, *args, **kwds)\u001b[0m\n\u001b[1;32m    951\u001b[0m \u001b[38;5;28mself\u001b[39m\u001b[38;5;241m.\u001b[39m_lock\u001b[38;5;241m.\u001b[39mrelease()\n\u001b[1;32m    952\u001b[0m \u001b[38;5;66;03m# In this case we have not created variables on the first call. So we can\u001b[39;00m\n\u001b[1;32m    953\u001b[0m \u001b[38;5;66;03m# run the first trace but we should fail if variables are created.\u001b[39;00m\n\u001b[0;32m--> 954\u001b[0m results \u001b[38;5;241m=\u001b[39m \u001b[38;5;28;43mself\u001b[39;49m\u001b[38;5;241;43m.\u001b[39;49m\u001b[43m_stateful_fn\u001b[49m\u001b[43m(\u001b[49m\u001b[38;5;241;43m*\u001b[39;49m\u001b[43margs\u001b[49m\u001b[43m,\u001b[49m\u001b[43m \u001b[49m\u001b[38;5;241;43m*\u001b[39;49m\u001b[38;5;241;43m*\u001b[39;49m\u001b[43mkwds\u001b[49m\u001b[43m)\u001b[49m\n\u001b[1;32m    955\u001b[0m \u001b[38;5;28;01mif\u001b[39;00m \u001b[38;5;28mself\u001b[39m\u001b[38;5;241m.\u001b[39m_created_variables \u001b[38;5;129;01mand\u001b[39;00m \u001b[38;5;129;01mnot\u001b[39;00m ALLOW_DYNAMIC_VARIABLE_CREATION:\n\u001b[1;32m    956\u001b[0m   \u001b[38;5;28;01mraise\u001b[39;00m \u001b[38;5;167;01mValueError\u001b[39;00m(\u001b[38;5;124m\"\u001b[39m\u001b[38;5;124mCreating variables on a non-first call to a function\u001b[39m\u001b[38;5;124m\"\u001b[39m\n\u001b[1;32m    957\u001b[0m                    \u001b[38;5;124m\"\u001b[39m\u001b[38;5;124m decorated with tf.function.\u001b[39m\u001b[38;5;124m\"\u001b[39m)\n",
      "File \u001b[0;32m/opt/conda/envs/qiime2-amplicon-2023.9/lib/python3.8/site-packages/tensorflow/python/eager/function.py:2453\u001b[0m, in \u001b[0;36mFunction.__call__\u001b[0;34m(self, *args, **kwargs)\u001b[0m\n\u001b[1;32m   2450\u001b[0m \u001b[38;5;28;01mwith\u001b[39;00m \u001b[38;5;28mself\u001b[39m\u001b[38;5;241m.\u001b[39m_lock:\n\u001b[1;32m   2451\u001b[0m   (graph_function,\n\u001b[1;32m   2452\u001b[0m    filtered_flat_args) \u001b[38;5;241m=\u001b[39m \u001b[38;5;28mself\u001b[39m\u001b[38;5;241m.\u001b[39m_maybe_define_function(args, kwargs)\n\u001b[0;32m-> 2453\u001b[0m \u001b[38;5;28;01mreturn\u001b[39;00m \u001b[43mgraph_function\u001b[49m\u001b[38;5;241;43m.\u001b[39;49m\u001b[43m_call_flat\u001b[49m\u001b[43m(\u001b[49m\n\u001b[1;32m   2454\u001b[0m \u001b[43m    \u001b[49m\u001b[43mfiltered_flat_args\u001b[49m\u001b[43m,\u001b[49m\u001b[43m \u001b[49m\u001b[43mcaptured_inputs\u001b[49m\u001b[38;5;241;43m=\u001b[39;49m\u001b[43mgraph_function\u001b[49m\u001b[38;5;241;43m.\u001b[39;49m\u001b[43mcaptured_inputs\u001b[49m\u001b[43m)\u001b[49m\n",
      "File \u001b[0;32m/opt/conda/envs/qiime2-amplicon-2023.9/lib/python3.8/site-packages/tensorflow/python/eager/function.py:1860\u001b[0m, in \u001b[0;36mConcreteFunction._call_flat\u001b[0;34m(self, args, captured_inputs, cancellation_manager)\u001b[0m\n\u001b[1;32m   1856\u001b[0m possible_gradient_type \u001b[38;5;241m=\u001b[39m gradients_util\u001b[38;5;241m.\u001b[39mPossibleTapeGradientTypes(args)\n\u001b[1;32m   1857\u001b[0m \u001b[38;5;28;01mif\u001b[39;00m (possible_gradient_type \u001b[38;5;241m==\u001b[39m gradients_util\u001b[38;5;241m.\u001b[39mPOSSIBLE_GRADIENT_TYPES_NONE\n\u001b[1;32m   1858\u001b[0m     \u001b[38;5;129;01mand\u001b[39;00m executing_eagerly):\n\u001b[1;32m   1859\u001b[0m   \u001b[38;5;66;03m# No tape is watching; skip to running the function.\u001b[39;00m\n\u001b[0;32m-> 1860\u001b[0m   \u001b[38;5;28;01mreturn\u001b[39;00m \u001b[38;5;28mself\u001b[39m\u001b[38;5;241m.\u001b[39m_build_call_outputs(\u001b[38;5;28;43mself\u001b[39;49m\u001b[38;5;241;43m.\u001b[39;49m\u001b[43m_inference_function\u001b[49m\u001b[38;5;241;43m.\u001b[39;49m\u001b[43mcall\u001b[49m\u001b[43m(\u001b[49m\n\u001b[1;32m   1861\u001b[0m \u001b[43m      \u001b[49m\u001b[43mctx\u001b[49m\u001b[43m,\u001b[49m\u001b[43m \u001b[49m\u001b[43margs\u001b[49m\u001b[43m,\u001b[49m\u001b[43m \u001b[49m\u001b[43mcancellation_manager\u001b[49m\u001b[38;5;241;43m=\u001b[39;49m\u001b[43mcancellation_manager\u001b[49m\u001b[43m)\u001b[49m)\n\u001b[1;32m   1862\u001b[0m forward_backward \u001b[38;5;241m=\u001b[39m \u001b[38;5;28mself\u001b[39m\u001b[38;5;241m.\u001b[39m_select_forward_and_backward_functions(\n\u001b[1;32m   1863\u001b[0m     args,\n\u001b[1;32m   1864\u001b[0m     possible_gradient_type,\n\u001b[1;32m   1865\u001b[0m     executing_eagerly)\n\u001b[1;32m   1866\u001b[0m forward_function, args_with_tangents \u001b[38;5;241m=\u001b[39m forward_backward\u001b[38;5;241m.\u001b[39mforward()\n",
      "File \u001b[0;32m/opt/conda/envs/qiime2-amplicon-2023.9/lib/python3.8/site-packages/tensorflow/python/eager/function.py:497\u001b[0m, in \u001b[0;36m_EagerDefinedFunction.call\u001b[0;34m(self, ctx, args, cancellation_manager)\u001b[0m\n\u001b[1;32m    495\u001b[0m \u001b[38;5;28;01mwith\u001b[39;00m _InterpolateFunctionError(\u001b[38;5;28mself\u001b[39m):\n\u001b[1;32m    496\u001b[0m   \u001b[38;5;28;01mif\u001b[39;00m cancellation_manager \u001b[38;5;129;01mis\u001b[39;00m \u001b[38;5;28;01mNone\u001b[39;00m:\n\u001b[0;32m--> 497\u001b[0m     outputs \u001b[38;5;241m=\u001b[39m \u001b[43mexecute\u001b[49m\u001b[38;5;241;43m.\u001b[39;49m\u001b[43mexecute\u001b[49m\u001b[43m(\u001b[49m\n\u001b[1;32m    498\u001b[0m \u001b[43m        \u001b[49m\u001b[38;5;28;43mstr\u001b[39;49m\u001b[43m(\u001b[49m\u001b[38;5;28;43mself\u001b[39;49m\u001b[38;5;241;43m.\u001b[39;49m\u001b[43msignature\u001b[49m\u001b[38;5;241;43m.\u001b[39;49m\u001b[43mname\u001b[49m\u001b[43m)\u001b[49m\u001b[43m,\u001b[49m\n\u001b[1;32m    499\u001b[0m \u001b[43m        \u001b[49m\u001b[43mnum_outputs\u001b[49m\u001b[38;5;241;43m=\u001b[39;49m\u001b[38;5;28;43mself\u001b[39;49m\u001b[38;5;241;43m.\u001b[39;49m\u001b[43m_num_outputs\u001b[49m\u001b[43m,\u001b[49m\n\u001b[1;32m    500\u001b[0m \u001b[43m        \u001b[49m\u001b[43minputs\u001b[49m\u001b[38;5;241;43m=\u001b[39;49m\u001b[43margs\u001b[49m\u001b[43m,\u001b[49m\n\u001b[1;32m    501\u001b[0m \u001b[43m        \u001b[49m\u001b[43mattrs\u001b[49m\u001b[38;5;241;43m=\u001b[39;49m\u001b[43mattrs\u001b[49m\u001b[43m,\u001b[49m\n\u001b[1;32m    502\u001b[0m \u001b[43m        \u001b[49m\u001b[43mctx\u001b[49m\u001b[38;5;241;43m=\u001b[39;49m\u001b[43mctx\u001b[49m\u001b[43m)\u001b[49m\n\u001b[1;32m    503\u001b[0m   \u001b[38;5;28;01melse\u001b[39;00m:\n\u001b[1;32m    504\u001b[0m     outputs \u001b[38;5;241m=\u001b[39m execute\u001b[38;5;241m.\u001b[39mexecute_with_cancellation(\n\u001b[1;32m    505\u001b[0m         \u001b[38;5;28mstr\u001b[39m(\u001b[38;5;28mself\u001b[39m\u001b[38;5;241m.\u001b[39msignature\u001b[38;5;241m.\u001b[39mname),\n\u001b[1;32m    506\u001b[0m         num_outputs\u001b[38;5;241m=\u001b[39m\u001b[38;5;28mself\u001b[39m\u001b[38;5;241m.\u001b[39m_num_outputs,\n\u001b[0;32m   (...)\u001b[0m\n\u001b[1;32m    509\u001b[0m         ctx\u001b[38;5;241m=\u001b[39mctx,\n\u001b[1;32m    510\u001b[0m         cancellation_manager\u001b[38;5;241m=\u001b[39mcancellation_manager)\n",
      "File \u001b[0;32m/opt/conda/envs/qiime2-amplicon-2023.9/lib/python3.8/site-packages/tensorflow/python/eager/execute.py:54\u001b[0m, in \u001b[0;36mquick_execute\u001b[0;34m(op_name, num_outputs, inputs, attrs, ctx, name)\u001b[0m\n\u001b[1;32m     52\u001b[0m \u001b[38;5;28;01mtry\u001b[39;00m:\n\u001b[1;32m     53\u001b[0m   ctx\u001b[38;5;241m.\u001b[39mensure_initialized()\n\u001b[0;32m---> 54\u001b[0m   tensors \u001b[38;5;241m=\u001b[39m \u001b[43mpywrap_tfe\u001b[49m\u001b[38;5;241;43m.\u001b[39;49m\u001b[43mTFE_Py_Execute\u001b[49m\u001b[43m(\u001b[49m\u001b[43mctx\u001b[49m\u001b[38;5;241;43m.\u001b[39;49m\u001b[43m_handle\u001b[49m\u001b[43m,\u001b[49m\u001b[43m \u001b[49m\u001b[43mdevice_name\u001b[49m\u001b[43m,\u001b[49m\u001b[43m \u001b[49m\u001b[43mop_name\u001b[49m\u001b[43m,\u001b[49m\n\u001b[1;32m     55\u001b[0m \u001b[43m                                      \u001b[49m\u001b[43minputs\u001b[49m\u001b[43m,\u001b[49m\u001b[43m \u001b[49m\u001b[43mattrs\u001b[49m\u001b[43m,\u001b[49m\u001b[43m \u001b[49m\u001b[43mnum_outputs\u001b[49m\u001b[43m)\u001b[49m\n\u001b[1;32m     56\u001b[0m \u001b[38;5;28;01mexcept\u001b[39;00m core\u001b[38;5;241m.\u001b[39m_NotOkStatusException \u001b[38;5;28;01mas\u001b[39;00m e:\n\u001b[1;32m     57\u001b[0m   \u001b[38;5;28;01mif\u001b[39;00m name \u001b[38;5;129;01mis\u001b[39;00m \u001b[38;5;129;01mnot\u001b[39;00m \u001b[38;5;28;01mNone\u001b[39;00m:\n",
      "\u001b[0;31mKeyboardInterrupt\u001b[0m: "
     ]
    }
   ],
   "source": [
    "go()"
   ]
  },
  {
   "cell_type": "code",
   "execution_count": null,
   "id": "8b05efd6-da44-420f-b208-aa132768a3cf",
   "metadata": {},
   "outputs": [],
   "source": [
    "P, VP"
   ]
  },
  {
   "cell_type": "code",
   "execution_count": 1079,
   "id": "4769f673-ad5e-4002-8b1e-f8f3eef25428",
   "metadata": {},
   "outputs": [
    {
     "data": {
      "text/plain": [
       "400.0"
      ]
     },
     "execution_count": 1079,
     "metadata": {},
     "output_type": "execute_result"
    }
   ],
   "source": [
    "end"
   ]
  },
  {
   "cell_type": "code",
   "execution_count": 1080,
   "id": "822b80f3-6aef-4b11-a719-157b4e2fb382",
   "metadata": {},
   "outputs": [
    {
     "data": {
      "text/plain": [
       "True"
      ]
     },
     "execution_count": 1080,
     "metadata": {},
     "output_type": "execute_result"
    }
   ],
   "source": [
    "list(map(int, tf.round(P*1000000000000).numpy().flatten()))[0] > 400000000000000"
   ]
  },
  {
   "cell_type": "code",
   "execution_count": 1081,
   "id": "2fbf5bd1-0fbe-4093-9fff-43cace0eb6c3",
   "metadata": {},
   "outputs": [
    {
     "data": {
      "text/plain": [
       "<tf.Variable 'Variable:0' shape=(1, 3) dtype=float64, numpy=array([[461.52227838, 278.97048347, 243.12795448]])>"
      ]
     },
     "execution_count": 1081,
     "metadata": {},
     "output_type": "execute_result"
    }
   ],
   "source": [
    "P*1000000000000"
   ]
  },
  {
   "cell_type": "code",
   "execution_count": 1629,
   "id": "97e2285c-2789-4e50-892f-2b34bed618af",
   "metadata": {},
   "outputs": [
    {
     "data": {
      "text/plain": [
       "array([[-336.,   29.,   38.]])"
      ]
     },
     "execution_count": 1629,
     "metadata": {},
     "output_type": "execute_result"
    }
   ],
   "source": [
    "slope = VP.numpy()\n",
    "slope"
   ]
  },
  {
   "cell_type": "code",
   "execution_count": 1633,
   "id": "d83ef216-9fa9-4ece-ad80-0949ab1b9a5d",
   "metadata": {},
   "outputs": [
    {
     "data": {
      "text/plain": [
       "17"
      ]
     },
     "execution_count": 1633,
     "metadata": {},
     "output_type": "execute_result"
    }
   ],
   "source": [
    "first_hit_index = np.argmin(optimize_t(H, P, VH, VP))\n",
    "first_hit_index"
   ]
  },
  {
   "cell_type": "code",
   "execution_count": 342,
   "id": "6ddd8ae7-3613-4522-b10c-54740f87b91d",
   "metadata": {},
   "outputs": [],
   "source": [
    "found_P = (P.numpy().flatten()*scale).astype(np.int64)"
   ]
  },
  {
   "cell_type": "code",
   "execution_count": 343,
   "id": "17939b6b-d1a7-4059-b63a-b248f4682653",
   "metadata": {},
   "outputs": [
    {
     "data": {
      "text/plain": [
       "array([461522278379691, 278970483473653, 243127954482398])"
      ]
     },
     "execution_count": 343,
     "metadata": {},
     "output_type": "execute_result"
    }
   ],
   "source": [
    "found_P"
   ]
  },
  {
   "cell_type": "code",
   "execution_count": 58,
   "id": "ab3d1b6d-a7fa-47dc-90a6-ff997a1ef046",
   "metadata": {},
   "outputs": [
    {
     "data": {
      "text/plain": [
       "983620716334964"
      ]
     },
     "execution_count": 58,
     "metadata": {},
     "output_type": "execute_result"
    }
   ],
   "source": [
    "sum(found_P)"
   ]
  },
  {
   "cell_type": "code",
   "execution_count": 1624,
   "id": "b29dd1f6-9bed-4da5-8738-6733266bd2a6",
   "metadata": {},
   "outputs": [
    {
     "data": {
      "text/plain": [
       "[461522278379867, 278970483473622, 243127954482353]"
      ]
     },
     "execution_count": 1624,
     "metadata": {},
     "output_type": "execute_result"
    }
   ],
   "source": [
    "found_P"
   ]
  },
  {
   "cell_type": "code",
   "execution_count": 1369,
   "id": "b0a65f97-f05c-43f8-8a69-711f44a5ff23",
   "metadata": {},
   "outputs": [
    {
     "data": {
      "text/plain": [
       "[461522278379589, 278970483473672, 243127954482411]"
      ]
     },
     "execution_count": 1369,
     "metadata": {},
     "output_type": "execute_result"
    }
   ],
   "source": [
    "found_P"
   ]
  },
  {
   "cell_type": "code",
   "execution_count": 1650,
   "id": "0c3e5037-94d0-47a7-93df-3599ea269013",
   "metadata": {},
   "outputs": [],
   "source": [
    "found_VP = VP.numpy().astype(np.int64)"
   ]
  },
  {
   "cell_type": "code",
   "execution_count": 1653,
   "id": "1bcd3931-0541-490f-90c4-558b148dd5ff",
   "metadata": {},
   "outputs": [],
   "source": [
    "H_np = H.numpy().astype(np.int64)\n",
    "VH_np = VH.numpy().astype(np.int64)\n",
    "\n",
    "for x in range(-1000, 1000+1):\n",
    "    for y in range(-1000, 1000+1):\n",
    "        for z in range(-1000, 1000+1):\n",
    "            new_p = found_P + [x, y, z]\n",
    "            t = optimize_t(H_np, new_p, VH_np, found_VP)\n",
    "            m = np.max(distance(H_np, new_p, VH_np, found_VP, t))\n",
    "        break\n",
    "        print(m)\n",
    "    break"
   ]
  },
  {
   "cell_type": "code",
   "execution_count": 1259,
   "id": "b49c7fb6-2eff-4f62-bd3b-a3a272597b36",
   "metadata": {},
   "outputs": [],
   "source": [
    "# 983620716335745 - wrong\n",
    "# 983620716334964\n",
    "# 983620716334761 - too low"
   ]
  },
  {
   "cell_type": "code",
   "execution_count": 1641,
   "id": "1178ea05-38b9-4124-9611-4a5711bbc082",
   "metadata": {},
   "outputs": [],
   "source": [
    "t = optimize_t(H, P, VH, VP)\n",
    "# t"
   ]
  },
  {
   "cell_type": "code",
   "execution_count": 1642,
   "id": "46f32545-0ec5-4312-9f86-89b980fdff9b",
   "metadata": {},
   "outputs": [],
   "source": [
    "# distance(H*1000000000000, P*1000000000000, VH*1000000000000, VP*1000000000000, t)"
   ]
  },
  {
   "cell_type": "code",
   "execution_count": null,
   "id": "02881013-2762-4edd-9eae-e08587f017b4",
   "metadata": {},
   "outputs": [],
   "source": []
  }
 ],
 "metadata": {
  "kernelspec": {
   "display_name": "Python 3 (Qiime2)",
   "language": "python",
   "name": "qiime2-amplicon-2023.9"
  },
  "language_info": {
   "codemirror_mode": {
    "name": "ipython",
    "version": 3
   },
   "file_extension": ".py",
   "mimetype": "text/x-python",
   "name": "python",
   "nbconvert_exporter": "python",
   "pygments_lexer": "ipython3",
   "version": "3.8.15"
  }
 },
 "nbformat": 4,
 "nbformat_minor": 5
}
