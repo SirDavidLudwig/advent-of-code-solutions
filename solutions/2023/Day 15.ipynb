{
 "cells": [
  {
   "cell_type": "code",
   "execution_count": 4,
   "id": "9d72a8f4",
   "metadata": {},
   "outputs": [],
   "source": [
    "import sys\n",
    "sys.path.append(\"../../common\")"
   ]
  },
  {
   "cell_type": "code",
   "execution_count": 33,
   "id": "62b0ec11",
   "metadata": {},
   "outputs": [],
   "source": [
    "from aoc import *\n",
    "import numpy as np\n",
    "import re"
   ]
  },
  {
   "cell_type": "code",
   "execution_count": 34,
   "id": "a949b336",
   "metadata": {},
   "outputs": [],
   "source": [
    "with open(\"./puzzle_inputs/15.txt\") as f:\n",
    "    data = f.read().strip()"
   ]
  },
  {
   "cell_type": "code",
   "execution_count": 35,
   "id": "edbc7207-9bee-4bfc-8dab-cd7df5cc7222",
   "metadata": {},
   "outputs": [],
   "source": [
    "def hash(x):\n",
    "    current = 0\n",
    "    for c in x:\n",
    "        current += ord(c)\n",
    "        current *= 17\n",
    "        current %= 256\n",
    "    return current"
   ]
  },
  {
   "cell_type": "code",
   "execution_count": 36,
   "id": "14d41afa-e920-46b8-95bc-140feb59c1f5",
   "metadata": {},
   "outputs": [
    {
     "data": {
      "text/plain": [
       "514394"
      ]
     },
     "execution_count": 36,
     "metadata": {},
     "output_type": "execute_result"
    }
   ],
   "source": [
    "sum(map(hash, data.split(',')))"
   ]
  },
  {
   "cell_type": "code",
   "execution_count": 47,
   "id": "cf70cecf-0509-4687-9867-2666662f17c4",
   "metadata": {},
   "outputs": [],
   "source": [
    "buckets = [{} for _ in range(256)]\n",
    "for op in data.split(','):\n",
    "    if op.endswith('-'):\n",
    "        label = op[:-1]\n",
    "        bucket = buckets[hash(label)]\n",
    "        if label in bucket:\n",
    "            del bucket[label]\n",
    "    else:\n",
    "        label, value = op.split('=')\n",
    "        bucket = buckets[hash(label)]\n",
    "        bucket[label] = value"
   ]
  },
  {
   "cell_type": "code",
   "execution_count": 49,
   "id": "4037c28b-32b4-4c72-bd67-cd12dae6a4de",
   "metadata": {},
   "outputs": [
    {
     "data": {
      "text/plain": [
       "236358"
      ]
     },
     "execution_count": 49,
     "metadata": {},
     "output_type": "execute_result"
    }
   ],
   "source": [
    "total = 0\n",
    "for i, bucket in enumerate(buckets):\n",
    "    for slot, value in enumerate(bucket.values()):\n",
    "        total += (i+1)*(slot+1)*int(value)\n",
    "total"
   ]
  },
  {
   "cell_type": "code",
   "execution_count": null,
   "id": "3853fa1a-aa10-49c6-a052-e3f650ea5181",
   "metadata": {},
   "outputs": [],
   "source": []
  }
 ],
 "metadata": {
  "kernelspec": {
   "display_name": "Python 3 (ipykernel)",
   "language": "python",
   "name": "python3"
  },
  "language_info": {
   "codemirror_mode": {
    "name": "ipython",
    "version": 3
   },
   "file_extension": ".py",
   "mimetype": "text/x-python",
   "name": "python",
   "nbconvert_exporter": "python",
   "pygments_lexer": "ipython3",
   "version": "3.11.6"
  }
 },
 "nbformat": 4,
 "nbformat_minor": 5
}
