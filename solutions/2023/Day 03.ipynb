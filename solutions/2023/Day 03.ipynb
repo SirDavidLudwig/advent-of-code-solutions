{
 "cells": [
  {
   "cell_type": "code",
   "execution_count": 1,
   "id": "87a22078",
   "metadata": {},
   "outputs": [],
   "source": [
    "import sys\n",
    "sys.path.append(\"../../common\")"
   ]
  },
  {
   "cell_type": "code",
   "execution_count": 68,
   "id": "9406f7fc",
   "metadata": {},
   "outputs": [],
   "source": [
    "import aoc\n",
    "import numpy as np\n",
    "import re"
   ]
  },
  {
   "cell_type": "code",
   "execution_count": 204,
   "id": "5cf6196a",
   "metadata": {},
   "outputs": [],
   "source": [
    "with open(\"./puzzle_inputs/03.txt\") as f:\n",
    "    lines = f.readlines()"
   ]
  },
  {
   "cell_type": "code",
   "execution_count": 189,
   "id": "d2836175-8e4b-4db5-939f-f53b3b771221",
   "metadata": {},
   "outputs": [],
   "source": [
    "lines = \"\"\"467..114..\n",
    "...*......\n",
    "..35..633.\n",
    "......#...\n",
    "617*......\n",
    ".....+.58.\n",
    "..592.....\n",
    "......755.\n",
    "...$.*....\n",
    ".664.598..\"\"\".split('\\n')"
   ]
  },
  {
   "cell_type": "code",
   "execution_count": 205,
   "id": "f6cc4a5a-6e6b-4228-a190-1438bfdf716b",
   "metadata": {},
   "outputs": [],
   "source": [
    "lines = [l.strip() for l in lines]"
   ]
  },
  {
   "cell_type": "code",
   "execution_count": 100,
   "id": "3755ebf6-d892-4e56-a57c-68de59c104db",
   "metadata": {},
   "outputs": [],
   "source": [
    "symbols = set()\n",
    "for i in range(len(lines)):\n",
    "    for j in range(len(lines[i])):\n",
    "        if lines[i][j] != '.' and not lines[i][j].isdigit():\n",
    "            symbols.add((i,j))"
   ]
  },
  {
   "cell_type": "code",
   "execution_count": 210,
   "id": "0045d585-b666-496a-8e10-25294e09df80",
   "metadata": {},
   "outputs": [],
   "source": [
    "numbers = set()\n",
    "for i, j in symbols:\n",
    "    for dx in range(-1, 2):\n",
    "        for dy in range(-1, 2):\n",
    "            ni = i + dx\n",
    "            nj = j + dy\n",
    "            if ni < 0 or nj < 0 or ni >= len(lines[0]) or nj >= len(lines[0]):\n",
    "                continue\n",
    "            if lines[ni][nj].isdigit():\n",
    "                left = right = nj\n",
    "                while left > 0 and lines[ni][left - 1].isdigit():\n",
    "                    left -= 1\n",
    "                while right < len(lines[0]) - 1 and lines[ni][right + 1].isdigit():\n",
    "                    right += 1\n",
    "                lines[ni][left:right+1]\n",
    "                numbers.add((ni, left, int(lines[ni][left:right+1])))"
   ]
  },
  {
   "cell_type": "code",
   "execution_count": 211,
   "id": "bc226d78-ca9c-45a5-a40d-ee2b5cb92737",
   "metadata": {},
   "outputs": [
    {
     "data": {
      "text/plain": [
       "527369"
      ]
     },
     "execution_count": 211,
     "metadata": {},
     "output_type": "execute_result"
    }
   ],
   "source": [
    "sum(v[2] for v in numbers)"
   ]
  },
  {
   "cell_type": "code",
   "execution_count": 212,
   "id": "ca79400c-b5ae-4313-925c-c5de30315e05",
   "metadata": {},
   "outputs": [],
   "source": [
    "numbers = {}\n",
    "for i in range(len(lines)):\n",
    "    for j in range(len(lines[i])):\n",
    "        if lines[i][j] == '.' or lines[i][j].isdigit():\n",
    "            continue\n",
    "        for dy in range(-1, 2):\n",
    "            ni = i + dy\n",
    "            if ni < 0 or ni >= len(lines):\n",
    "                continue\n",
    "            for dx in range(-1, 2):\n",
    "                nj = j + dx\n",
    "                if nj < 0 or nj >= len(lines[0]):\n",
    "                    continue\n",
    "                if not lines[ni][nj].isdigit():\n",
    "                    continue\n",
    "                left = right = nj\n",
    "                while left > 0 and lines[ni][left-1].isdigit():\n",
    "                    left -= 1\n",
    "                while right < len(lines[0])-1 and lines[ni][right+1].isdigit():\n",
    "                    right += 1\n",
    "                number = int(lines[ni][left:right+1])\n",
    "                numbers[(ni, left)] = number"
   ]
  },
  {
   "cell_type": "code",
   "execution_count": 213,
   "id": "4545e340-2028-48c1-8c81-bc315893191b",
   "metadata": {},
   "outputs": [
    {
     "data": {
      "text/plain": [
       "527369"
      ]
     },
     "execution_count": 213,
     "metadata": {},
     "output_type": "execute_result"
    }
   ],
   "source": [
    "sum(numbers.values())"
   ]
  },
  {
   "cell_type": "code",
   "execution_count": 215,
   "id": "d755d24d-c5bd-4a31-b0a3-243c8677b28d",
   "metadata": {},
   "outputs": [],
   "source": [
    "# for i in range(len(lines)):\n",
    "#     j = 0\n",
    "#     while j < len(lines[0]):\n",
    "#         if (i, j) in numbers:\n",
    "#             print(numbers[(i, j)], end=\"\")\n",
    "#             j += len(str(numbers[(i, j)]))\n",
    "#         else:\n",
    "#             if lines[i][j].isdigit():\n",
    "#                 print('X', end=\"\")\n",
    "#             else:\n",
    "#                 print(lines[i][j], end=\"\")\n",
    "#             j += 1\n",
    "#     print()"
   ]
  },
  {
   "cell_type": "code",
   "execution_count": 218,
   "id": "8551e44a-7c75-482f-9bdd-7555423da3f1",
   "metadata": {},
   "outputs": [],
   "source": [
    "import math"
   ]
  },
  {
   "cell_type": "code",
   "execution_count": 219,
   "id": "eb590b0f-05ad-4b1b-841c-e13c8448d1e9",
   "metadata": {},
   "outputs": [],
   "source": [
    "gear_ratios = 0\n",
    "for i in range(len(lines)):\n",
    "    for j in range(len(lines[i])):\n",
    "        if lines[i][j] != '*':\n",
    "            continue\n",
    "        numbers = {}\n",
    "        for dy in range(-1, 2):\n",
    "            ni = i + dy\n",
    "            if ni < 0 or ni >= len(lines):\n",
    "                continue\n",
    "            for dx in range(-1, 2):\n",
    "                nj = j + dx\n",
    "                if nj < 0 or nj >= len(lines[0]):\n",
    "                    continue\n",
    "                if not lines[ni][nj].isdigit():\n",
    "                    continue\n",
    "                left = right = nj\n",
    "                while left > 0 and lines[ni][left-1].isdigit():\n",
    "                    left -= 1\n",
    "                while right < len(lines[0])-1 and lines[ni][right+1].isdigit():\n",
    "                    right += 1\n",
    "                numbers[(ni, left)] = int(lines[ni][left:right+1])\n",
    "        if len(numbers) == 2:\n",
    "            gear_ratios += math.prod(numbers.values())"
   ]
  },
  {
   "cell_type": "code",
   "execution_count": 220,
   "id": "729e4465-19eb-49a7-be60-9e7c1dec22b0",
   "metadata": {},
   "outputs": [
    {
     "data": {
      "text/plain": [
       "73074886"
      ]
     },
     "execution_count": 220,
     "metadata": {},
     "output_type": "execute_result"
    }
   ],
   "source": [
    "gear_ratios"
   ]
  },
  {
   "cell_type": "code",
   "execution_count": 233,
   "id": "24d58687-1d51-4b39-a74f-c0512b1b7cfc",
   "metadata": {},
   "outputs": [
    {
     "data": {
      "text/plain": [
       "2"
      ]
     },
     "execution_count": 233,
     "metadata": {},
     "output_type": "execute_result"
    }
   ],
   "source": [
    "\"Hello World\".index('l')"
   ]
  },
  {
   "cell_type": "code",
   "execution_count": null,
   "id": "13996648-0ac3-4313-929a-e8d54cb9a384",
   "metadata": {},
   "outputs": [],
   "source": []
  }
 ],
 "metadata": {
  "kernelspec": {
   "display_name": "Python 3 (ipykernel)",
   "language": "python",
   "name": "python3"
  },
  "language_info": {
   "codemirror_mode": {
    "name": "ipython",
    "version": 3
   },
   "file_extension": ".py",
   "mimetype": "text/x-python",
   "name": "python",
   "nbconvert_exporter": "python",
   "pygments_lexer": "ipython3",
   "version": "3.10.6"
  }
 },
 "nbformat": 4,
 "nbformat_minor": 5
}
