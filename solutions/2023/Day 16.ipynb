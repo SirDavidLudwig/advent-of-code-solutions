{
 "cells": [
  {
   "cell_type": "code",
   "execution_count": 154,
   "id": "9d72a8f4",
   "metadata": {},
   "outputs": [],
   "source": [
    "import sys\n",
    "sys.path.append(\"../../common\")"
   ]
  },
  {
   "cell_type": "code",
   "execution_count": 155,
   "id": "62b0ec11",
   "metadata": {},
   "outputs": [],
   "source": [
    "from aoc import *\n",
    "import numpy as np\n",
    "import re"
   ]
  },
  {
   "cell_type": "code",
   "execution_count": 156,
   "id": "a949b336",
   "metadata": {},
   "outputs": [],
   "source": [
    "with open(\"./puzzle_inputs/16.txt\") as f:\n",
    "    data = f.read().strip()"
   ]
  },
  {
   "cell_type": "code",
   "execution_count": 157,
   "id": "9c584adf-cdae-4f9c-90fa-b53193831a22",
   "metadata": {},
   "outputs": [],
   "source": [
    "deltas = {\n",
    "    'l': np.array([0, -1]),\n",
    "    'r': np.array([0, 1]),\n",
    "    'u': np.array([-1, 0]),\n",
    "    'd': np.array([1, 0]),\n",
    "}"
   ]
  },
  {
   "cell_type": "code",
   "execution_count": 159,
   "id": "6687d8f0-9d52-40d3-b107-6775654f90b5",
   "metadata": {},
   "outputs": [],
   "source": [
    "# data"
   ]
  },
  {
   "cell_type": "code",
   "execution_count": 81,
   "id": "3ffbf6f0-71ff-4373-b21f-7a04b97355f3",
   "metadata": {},
   "outputs": [],
   "source": [
    "grid = np.array([list(line) for line in data.strip().split('\\n')])\n",
    "visited = set()\n",
    "q = [((0, 0), \"r\")]\n",
    "while len(q) > 0:\n",
    "    pos, d = q.pop(0)\n",
    "    grid[*pos] = '#'\n",
    "    visited.add((tuple(pos), d))\n",
    "    npos = pos + deltas[d]\n",
    "    if np.any(npos < 0) or np.any(npos >= grid.shape):\n",
    "        continue\n",
    "    if (tuple(npos), d) in visited:\n",
    "        continue\n",
    "    if grid[*npos] == '-':\n",
    "        if d in \"rl\":\n",
    "            q.append((npos, d))\n",
    "        else:\n",
    "            q.append((npos, \"l\"))\n",
    "            q.append((npos, \"r\"))\n",
    "    elif grid[*npos] == '|':\n",
    "        if d in \"rl\":\n",
    "            q.append((npos, \"u\"))\n",
    "            q.append((npos, \"d\"))\n",
    "        else:\n",
    "            q.append((npos, d))\n",
    "    elif grid[*npos] == '\\\\':\n",
    "        if d == 'r':\n",
    "            q.append((npos, \"d\"))\n",
    "        elif d == 'l':\n",
    "            q.append((npos, \"u\"))\n",
    "        elif d == 'u':\n",
    "            q.append((npos, 'l'))\n",
    "        elif d == 'd':\n",
    "            q.append((npos), 'r')\n",
    "    elif grid[*npos] == '/':\n",
    "        if d == 'r':\n",
    "            q.append((npos, 'u'))\n",
    "        elif d == 'l':\n",
    "            q.append((npos, 'd'))\n",
    "        elif d == 'u':\n",
    "            q.append((npos, 'r'))\n",
    "        elif d == 'd':\n",
    "            q.append((npos, 'l'))\n",
    "    else:\n",
    "        q.append((npos, d))"
   ]
  },
  {
   "cell_type": "markdown",
   "id": "19085893-973e-4bb5-af31-a05dab0667d2",
   "metadata": {},
   "source": [
    "##### grid"
   ]
  },
  {
   "cell_type": "code",
   "execution_count": 160,
   "id": "3c07165f-6313-464d-9e5c-da0969a99f14",
   "metadata": {},
   "outputs": [
    {
     "data": {
      "text/plain": [
       "12930"
      ]
     },
     "execution_count": 160,
     "metadata": {},
     "output_type": "execute_result"
    }
   ],
   "source": [
    "len(visited)"
   ]
  },
  {
   "cell_type": "code",
   "execution_count": 161,
   "id": "445a27cc-7d62-40f0-ae8a-b14071965f54",
   "metadata": {},
   "outputs": [],
   "source": [
    "deltas = {\n",
    "    'l': np.array([0, -1]),\n",
    "    'r': np.array([0, 1]),\n",
    "    'u': np.array([-1, 0]),\n",
    "    'd': np.array([1, 0]),\n",
    "}"
   ]
  },
  {
   "cell_type": "code",
   "execution_count": 162,
   "id": "3eea394d-61f9-4447-be94-725e90d6657d",
   "metadata": {},
   "outputs": [],
   "source": [
    "dmap = {\n",
    "    '/': {\n",
    "        'l': 'd',\n",
    "        'r': 'u',\n",
    "        'u': 'r',\n",
    "        'd': 'l'\n",
    "    },\n",
    "    '\\\\': {\n",
    "        'l': 'u',\n",
    "        'r': 'd',\n",
    "        'u': 'l',\n",
    "        'd': 'r'\n",
    "    }\n",
    "}"
   ]
  },
  {
   "cell_type": "code",
   "execution_count": 141,
   "id": "b818d706-c7b1-4902-95ba-693b0e0624a6",
   "metadata": {},
   "outputs": [
    {
     "data": {
      "text/plain": [
       "array([['#', '.', '.', ..., '#', '#', '#'],\n",
       "       ['#', '.', '.', ..., '#', '.', '.'],\n",
       "       ['#', '#', '#', ..., '#', '.', '.'],\n",
       "       ...,\n",
       "       ['.', '.', '.', ..., '#', '#', '#'],\n",
       "       ['.', '.', '.', ..., '.', '#', '.'],\n",
       "       ['/', '.', '.', ..., '.', '#', '.']], dtype='<U1')"
      ]
     },
     "execution_count": 141,
     "metadata": {},
     "output_type": "execute_result"
    }
   ],
   "source": [
    "grid = np.array([list(line) for line in data.strip().split('\\n')])\n",
    "visited = set()\n",
    "q = [(np.array([0, 0]), 'r')]\n",
    "while len(q) > 0:\n",
    "    pos, d = q.pop(0)\n",
    "    while np.all(pos >= 0) and np.all(pos < grid.shape) and (*pos, d) not in visited:\n",
    "        visited.add((*pos, d))\n",
    "        c = grid[*pos]\n",
    "        if c == '-' and d in 'ud':\n",
    "            q.append((pos, 'l'))\n",
    "            q.append((pos, 'r'))\n",
    "            break\n",
    "        if c == '|' and d in 'lr':\n",
    "            q.append((pos, 'u'))\n",
    "            q.append((pos, 'd'))\n",
    "            break\n",
    "        if c in dmap:\n",
    "            d = dmap[c][d]\n",
    "        pos = pos + deltas[d]\n",
    "for (i,j,_) in visited:\n",
    "    grid[i,j] = '#'\n",
    "grid"
   ]
  },
  {
   "cell_type": "code",
   "execution_count": 142,
   "id": "b2178c48-0615-435c-9c25-8e077a681d6b",
   "metadata": {},
   "outputs": [
    {
     "data": {
      "text/plain": [
       "8112"
      ]
     },
     "execution_count": 142,
     "metadata": {},
     "output_type": "execute_result"
    }
   ],
   "source": [
    "np.sum(grid == '#')"
   ]
  },
  {
   "cell_type": "code",
   "execution_count": 163,
   "id": "c001d5a5-0a8d-4ff9-a4e8-c70c44e1a5aa",
   "metadata": {},
   "outputs": [
    {
     "ename": "SyntaxError",
     "evalue": "invalid syntax (2766046519.py, line 22)",
     "output_type": "error",
     "traceback": [
      "\u001b[0;36m  Cell \u001b[0;32mIn[163], line 22\u001b[0;36m\u001b[0m\n\u001b[0;31m    return len(set([(i,j) for i,j,_ in visited]))4\u001b[0m\n\u001b[0m                                                 ^\u001b[0m\n\u001b[0;31mSyntaxError\u001b[0m\u001b[0;31m:\u001b[0m invalid syntax\n"
     ]
    }
   ],
   "source": [
    "def energize(grid, start, d):\n",
    "    start = np.array(start)\n",
    "    grid = np.array([list(line) for line in data.strip().split('\\n')])\n",
    "    visited = set()\n",
    "    q = [(start, d)]\n",
    "    while len(q) > 0:\n",
    "        pos, d = q.pop(0)\n",
    "        while np.all(pos >= 0) and np.all(pos < grid.shape) and (*pos, d) not in visited:\n",
    "            visited.add((*pos, d))\n",
    "            c = grid[*pos]\n",
    "            if c == '-' and d in 'ud':\n",
    "                q.append((pos, 'l'))\n",
    "                q.append((pos, 'r'))\n",
    "                break\n",
    "            if c == '|' and d in 'lr':\n",
    "                q.append((pos, 'u'))\n",
    "                q.append((pos, 'd'))\n",
    "                break\n",
    "            if c in dmap:\n",
    "                d = dmap[c][d]\n",
    "            pos = pos + deltas[d]\n",
    "    return len(set([(i,j) for i,j,_ in visited]))"
   ]
  },
  {
   "cell_type": "code",
   "execution_count": 164,
   "id": "f14e1e0b-9eb0-4d06-9ef3-a534bcfbe12e",
   "metadata": {},
   "outputs": [],
   "source": [
    "from tqdm import tqdm"
   ]
  },
  {
   "cell_type": "code",
   "execution_count": 168,
   "id": "85a2e25b-ed58-43bd-893f-1120ed4aa891",
   "metadata": {},
   "outputs": [
    {
     "name": "stderr",
     "output_type": "stream",
     "text": [
      "100%|██████████| 110/110 [00:21<00:00,  5.19it/s]\n"
     ]
    }
   ],
   "source": [
    "n = 0\n",
    "for j in tqdm(range(grid.shape[1])):\n",
    "    n = max(n, energize(grid, (0, j), 'd'))\n",
    "    n = max(n, energize(grid, (grid.shape[0]-1, j), 'u'))"
   ]
  },
  {
   "cell_type": "code",
   "execution_count": 169,
   "id": "498ba16d-d10b-41f1-af2d-f5d83788d31d",
   "metadata": {},
   "outputs": [
    {
     "name": "stderr",
     "output_type": "stream",
     "text": [
      "100%|██████████| 110/110 [00:20<00:00,  5.47it/s]\n"
     ]
    }
   ],
   "source": [
    "for i in tqdm(range(grid.shape[1])):\n",
    "    n = max(n, energize(grid, (i, 0), 'r'))\n",
    "    n = max(n, energize(grid, (i, grid.shape[1]-1), 'l'))"
   ]
  },
  {
   "cell_type": "code",
   "execution_count": 167,
   "id": "26f15cbe-aac0-4a9e-8d82-a94f85004af3",
   "metadata": {},
   "outputs": [
    {
     "data": {
      "text/plain": [
       "8314"
      ]
     },
     "execution_count": 167,
     "metadata": {},
     "output_type": "execute_result"
    }
   ],
   "source": [
    "n"
   ]
  },
  {
   "cell_type": "code",
   "execution_count": null,
   "id": "bbfb1996-972a-41d5-b85e-d67005f380aa",
   "metadata": {},
   "outputs": [],
   "source": []
  }
 ],
 "metadata": {
  "kernelspec": {
   "display_name": "Python 3 (ipykernel)",
   "language": "python",
   "name": "python3"
  },
  "language_info": {
   "codemirror_mode": {
    "name": "ipython",
    "version": 3
   },
   "file_extension": ".py",
   "mimetype": "text/x-python",
   "name": "python",
   "nbconvert_exporter": "python",
   "pygments_lexer": "ipython3",
   "version": "3.11.6"
  }
 },
 "nbformat": 4,
 "nbformat_minor": 5
}
