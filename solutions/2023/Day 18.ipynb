{
 "cells": [
  {
   "cell_type": "code",
   "execution_count": 441,
   "id": "9d72a8f4",
   "metadata": {},
   "outputs": [],
   "source": [
    "import sys\n",
    "sys.path.append(\"../../common\")"
   ]
  },
  {
   "cell_type": "code",
   "execution_count": 442,
   "id": "62b0ec11",
   "metadata": {},
   "outputs": [],
   "source": [
    "from aoc import *\n",
    "import numpy as np\n",
    "import re\n",
    "import shapely"
   ]
  },
  {
   "cell_type": "code",
   "execution_count": 462,
   "id": "a949b336",
   "metadata": {},
   "outputs": [],
   "source": [
    "with open(\"./puzzle_inputs/18.txt\") as f:\n",
    "    lines = f.readlines()"
   ]
  },
  {
   "cell_type": "code",
   "execution_count": 463,
   "id": "f7a51040-251e-4940-8082-c3a07bf1f475",
   "metadata": {},
   "outputs": [],
   "source": [
    "dmap = {\n",
    "    'u': 'n',\n",
    "    'l': 'w',\n",
    "    'r': 'e',\n",
    "    'd': 's'\n",
    "}"
   ]
  },
  {
   "cell_type": "code",
   "execution_count": 465,
   "id": "6fc68699-6598-4940-b43a-34f28f910241",
   "metadata": {},
   "outputs": [],
   "source": [
    "current = arr((0, 0))\n",
    "points = [current]\n",
    "for line in lines:\n",
    "    d, n, h = line.lower().split()\n",
    "    n = int(n)\n",
    "    d = dmap[d]\n",
    "    points.append(points[-1] + n*dirdelta(d))\n",
    "\n",
    "offset = np.min(points)\n",
    "points = [p - offset + 2 for p in points]"
   ]
  },
  {
   "cell_type": "code",
   "execution_count": 470,
   "id": "e9b16863-c7de-4fe3-a51d-f283dcb21667",
   "metadata": {},
   "outputs": [
    {
     "data": {
      "text/plain": [
       "74038.0"
      ]
     },
     "execution_count": 470,
     "metadata": {},
     "output_type": "execute_result"
    }
   ],
   "source": [
    "shapely.Polygon(points).area"
   ]
  },
  {
   "cell_type": "code",
   "execution_count": 474,
   "id": "bd159083-60ae-4c8f-996e-73513d85e16f",
   "metadata": {},
   "outputs": [
    {
     "data": {
      "text/plain": [
       "2348.0"
      ]
     },
     "execution_count": 474,
     "metadata": {},
     "output_type": "execute_result"
    }
   ],
   "source": [
    "n = 0\n",
    "for a, b in zip(points[:-1], points[1:]):\n",
    "    a, b = sorted([tuple(a), tuple(b)])\n",
    "    line_len = np.sum(arr(b) - a)\n",
    "    n += line_len*0.5\n",
    "n"
   ]
  },
  {
   "cell_type": "code",
   "execution_count": 477,
   "id": "a77e4c8e-cb1a-4e1d-ac6e-15c72577b8f7",
   "metadata": {},
   "outputs": [
    {
     "data": {
      "text/plain": [
       "76387.0"
      ]
     },
     "execution_count": 477,
     "metadata": {},
     "output_type": "execute_result"
    }
   ],
   "source": [
    "shapely.Polygon(points).area + n + 1"
   ]
  },
  {
   "cell_type": "code",
   "execution_count": 466,
   "id": "f3a6629b-56be-404c-9c11-c5b4d9d9d309",
   "metadata": {},
   "outputs": [
    {
     "data": {
      "text/plain": [
       "(627, 627)"
      ]
     },
     "execution_count": 466,
     "metadata": {},
     "output_type": "execute_result"
    }
   ],
   "source": [
    "mat = np.full((np.max(points)+2, np.max(points)+2), 2)\n",
    "mat.shape"
   ]
  },
  {
   "cell_type": "code",
   "execution_count": 467,
   "id": "5b828aea-7a49-45c8-8dbe-b45480bd8c91",
   "metadata": {},
   "outputs": [],
   "source": [
    "for a, b in zip(points[:-1], points[1:]):\n",
    "    a, b = sorted([tuple(a), tuple(b)])\n",
    "    (a1, a2), (b1, b2) = a, b\n",
    "    mat[a1:b1+1,a2:b2+1] = 1"
   ]
  },
  {
   "cell_type": "code",
   "execution_count": 468,
   "id": "ca95fec4-1ded-4813-b477-8f30dd4c5208",
   "metadata": {},
   "outputs": [
    {
     "data": {
      "text/plain": [
       "array([[2, 2, 2, ..., 2, 2, 2],\n",
       "       [2, 2, 2, ..., 2, 2, 2],\n",
       "       [2, 2, 2, ..., 2, 2, 2],\n",
       "       ...,\n",
       "       [2, 2, 2, ..., 2, 2, 2],\n",
       "       [2, 2, 2, ..., 2, 2, 2],\n",
       "       [2, 2, 2, ..., 2, 2, 2]])"
      ]
     },
     "execution_count": 468,
     "metadata": {},
     "output_type": "execute_result"
    }
   ],
   "source": [
    "mat"
   ]
  },
  {
   "cell_type": "code",
   "execution_count": 432,
   "id": "27599e51-5876-48b1-af3e-715eff8aeb6d",
   "metadata": {},
   "outputs": [],
   "source": [
    "# for r in mat:\n",
    "#     for c in r:\n",
    "#         print('#' if c == 1 else '.', end=\"\")\n",
    "#     print()"
   ]
  },
  {
   "cell_type": "code",
   "execution_count": 433,
   "id": "a2c46970-74ca-42cd-bbd1-8e2e516257ff",
   "metadata": {},
   "outputs": [],
   "source": [
    "grid = mat.copy()\n",
    "q = [(0, 0)]\n",
    "while len(q):\n",
    "    pos = q.pop(0)\n",
    "    if grid[*pos] == 0:\n",
    "        continue\n",
    "    grid[*pos] = 0\n",
    "    for delta in dirdelta(dirs()):\n",
    "        npos = pos + delta\n",
    "        if np.any(npos < 0) or np.any(npos > arr(grid.shape) - 1):\n",
    "            continue\n",
    "        if grid[*npos] != 2:\n",
    "            continue\n",
    "        q.append(npos)"
   ]
  },
  {
   "cell_type": "code",
   "execution_count": 434,
   "id": "918549c1-724a-43bf-9d97-fef079ac95ed",
   "metadata": {},
   "outputs": [
    {
     "data": {
      "text/plain": [
       "76387"
      ]
     },
     "execution_count": 434,
     "metadata": {},
     "output_type": "execute_result"
    }
   ],
   "source": [
    "np.sum(grid > 0)"
   ]
  },
  {
   "cell_type": "code",
   "execution_count": 435,
   "id": "219d5041-4147-4121-8587-0883f978bb2f",
   "metadata": {},
   "outputs": [],
   "source": [
    "dmap = {\n",
    "    'u': 'n',\n",
    "    'l': 'w',\n",
    "    'r': 'e',\n",
    "    'd': 's'\n",
    "}\n",
    "dig_dir = 'eswn'"
   ]
  },
  {
   "cell_type": "code",
   "execution_count": 436,
   "id": "ef027f40-4a9b-4f84-b223-273ee750c7c1",
   "metadata": {},
   "outputs": [],
   "source": [
    "def is_outside_turn(d1, d2, inside_on_right=True):\n",
    "    return inside_on_right and turn(d1, -90) == d2 \\\n",
    "        or not inside_on_right and turn(d1, 90) == d2"
   ]
  },
  {
   "cell_type": "code",
   "execution_count": null,
   "id": "1c6da38b-aa52-498b-a007-382b17a097a2",
   "metadata": {},
   "outputs": [],
   "source": [
    "is_outside_turn()"
   ]
  },
  {
   "cell_type": "code",
   "execution_count": 460,
   "id": "d29f5121-bb1b-4c7a-9714-41aa4c9759b4",
   "metadata": {},
   "outputs": [
    {
     "data": {
      "text/plain": [
       "'n'"
      ]
     },
     "execution_count": 460,
     "metadata": {},
     "output_type": "execute_result"
    }
   ],
   "source": [
    "revdir('s')"
   ]
  },
  {
   "cell_type": "code",
   "execution_count": 437,
   "id": "bde0cd39-531e-4ae1-ba03-f0df3726110e",
   "metadata": {},
   "outputs": [],
   "source": [
    "current = arr((0, 0))\n",
    "verts = []\n",
    "prev_d = None\n",
    "for line in lines + [lines[0]]:\n",
    "    d, n, h = line.lower().split()\n",
    "    n = int(n)\n",
    "    d = dmap[d]\n",
    "    offset_dir = None\n",
    "    if prev_d is not None and is_outside_turn(prev_d, d):\n",
    "        offset_dir = prev_d+revdir(d)\n",
    "        # print(\"Outside turn... Moving toward\", offset_dir)\n",
    "    elif prev_d and not is_outside_turn(prev_d, d):\n",
    "        offset_dir = revdir(prev_d)+d\n",
    "        # print(\"Inside turn... Moving toward\", offset_dir)\n",
    "    if offset_dir is not None:\n",
    "        verts.append(current + 0.5*dirdelta(offset_dir))\n",
    "    current = current + n*dirdelta(d)\n",
    "    prev_d = d"
   ]
  },
  {
   "cell_type": "code",
   "execution_count": 461,
   "id": "c29d9881-0931-4579-8285-3356df6b1162",
   "metadata": {},
   "outputs": [
    {
     "data": {
      "text/plain": [
       "250022188522074"
      ]
     },
     "execution_count": 461,
     "metadata": {},
     "output_type": "execute_result"
    }
   ],
   "source": [
    "int(shapely.Polygon(verts).area)"
   ]
  },
  {
   "cell_type": "markdown",
   "id": "2cc108ba-4dfe-4375-97f5-249356a04cba",
   "metadata": {},
   "source": [
    "---"
   ]
  },
  {
   "cell_type": "code",
   "execution_count": 439,
   "id": "63f974ea-516f-4a7b-85b8-580ece91f8e1",
   "metadata": {},
   "outputs": [],
   "source": [
    "current = arr((0, 0))\n",
    "verts = []\n",
    "prev_d = None\n",
    "for line in lines + [lines[0]]:\n",
    "    _, _, h = line.lower().split()\n",
    "    n = int(h[2:-2], 16)\n",
    "    d = dig_dir[int(h[-2])]\n",
    "    offset_dir = None\n",
    "    if prev_d is not None and is_outside_turn(prev_d, d):\n",
    "        offset_dir = prev_d+revdir(d)\n",
    "        # print(\"Outside turn... Moving toward\", offset_dir)\n",
    "    elif prev_d and not is_outside_turn(prev_d, d):\n",
    "        offset_dir = revdir(prev_d)+d\n",
    "        # print(\"Inside turn... Moving toward\", offset_dir)\n",
    "    if offset_dir is not None:\n",
    "        verts.append(current + 0.5*dirdelta(offset_dir))\n",
    "    current = current + n*dirdelta(d)\n",
    "    prev_d = d"
   ]
  },
  {
   "cell_type": "code",
   "execution_count": 440,
   "id": "a2dcf0ad-e671-4ea7-be0b-91350618e520",
   "metadata": {},
   "outputs": [
    {
     "data": {
      "text/plain": [
       "250022188522074"
      ]
     },
     "execution_count": 440,
     "metadata": {},
     "output_type": "execute_result"
    }
   ],
   "source": [
    "int(shapely.Polygon(verts).area)"
   ]
  },
  {
   "cell_type": "markdown",
   "id": "e08f14a3-0f48-4038-9016-94fe0d28fe09",
   "metadata": {},
   "source": [
    "---"
   ]
  },
  {
   "cell_type": "code",
   "execution_count": 481,
   "id": "3bcabcd5-ad2a-4119-8b1a-c95685fd2d63",
   "metadata": {},
   "outputs": [],
   "source": [
    "current = arr((0, 0))\n",
    "points = [current]\n",
    "extra = 0\n",
    "for line in lines:\n",
    "    # d, n, h = line.lower().split()\n",
    "    # n = int(n)\n",
    "    # d = dmap[d]\n",
    "    _, _, h = line.lower().split()\n",
    "    n = int(h[2:-2], 16)\n",
    "    d = dig_dir[int(h[-2])]\n",
    "    offset_dir = None\n",
    "    points.append(points[-1] + n*dirdelta(d))\n",
    "    extra += n*0.5\n",
    "\n",
    "offset = np.min(points)\n",
    "points = [p - offset + 2 for p in points]"
   ]
  },
  {
   "cell_type": "code",
   "execution_count": 483,
   "id": "ab58d4db-d314-4bd0-922a-b830eb1abdfd",
   "metadata": {},
   "outputs": [
    {
     "data": {
      "text/plain": [
       "250022188522074"
      ]
     },
     "execution_count": 483,
     "metadata": {},
     "output_type": "execute_result"
    }
   ],
   "source": [
    "int(shapely.Polygon(points).area + extra + 1)"
   ]
  }
 ],
 "metadata": {
  "kernelspec": {
   "display_name": "Python 3 (ipykernel)",
   "language": "python",
   "name": "python3"
  },
  "language_info": {
   "codemirror_mode": {
    "name": "ipython",
    "version": 3
   },
   "file_extension": ".py",
   "mimetype": "text/x-python",
   "name": "python",
   "nbconvert_exporter": "python",
   "pygments_lexer": "ipython3",
   "version": "3.10.6"
  }
 },
 "nbformat": 4,
 "nbformat_minor": 5
}
