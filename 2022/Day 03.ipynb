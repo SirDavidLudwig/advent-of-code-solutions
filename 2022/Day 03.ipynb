{
 "cells": [
  {
   "cell_type": "markdown",
   "id": "c369c9c2-7849-49a7-92cc-95c085cde49c",
   "metadata": {},
   "source": [
    "<div style=\"background-color: rgb(15, 15, 35); border: 1px solid rgb(255, 255, 255); color: rgb(204, 204, 204); text-shadow: none; margin-left: -5px; margin-right: -20px; padding: 1rem;\"><h2 style=\"border-color: rgb(255, 255, 255); color: rgb(255, 255, 255); text-shadow: none;\">--- Day 3: Rucksack Reorganization ---</h2><p style=\"border-color: rgb(204, 204, 204); color: rgb(204, 204, 204); text-shadow: none;\">One Elf has the important job of loading all of the <a href=\"https://en.wikipedia.org/wiki/Rucksack\" target=\"_blank\" style=\"border-color: rgb(0, 153, 0); color: rgb(0, 153, 0); text-shadow: none;\">rucksacks</a> with supplies for the <span title=\"Where there's jungle, there's hijinxs.\" style=\"border-color: rgb(204, 204, 204); color: rgb(204, 204, 204); text-shadow: none;\">jungle</span> journey. Unfortunately, that Elf didn't quite follow the packing instructions, and so a few items now need to be rearranged.</p>\n",
    "<p style=\"border-color: rgb(204, 204, 204); color: rgb(204, 204, 204); text-shadow: none;\">Each rucksack has two large <em style=\"border-color: rgb(255, 255, 255); color: rgb(255, 255, 255); text-shadow: rgb(255, 255, 255) 0px 0px 5px;\">compartments</em>. All items of a given type are meant to go into exactly one of the two compartments. The Elf that did the packing failed to follow this rule for exactly one item type per rucksack.</p>\n",
    "<p style=\"border-color: rgb(204, 204, 204); color: rgb(204, 204, 204); text-shadow: none;\">The Elves have made a list of all of the items currently in each rucksack (your puzzle input), but they need your help finding the errors. Every item type is identified by a single lowercase or uppercase letter (that is, <code style=\"border: 1px solid rgb(51, 51, 64); color: rgb(204, 204, 204); text-shadow: none; background: rgb(16, 16, 26);\">a</code> and <code style=\"border: 1px solid rgb(51, 51, 64); color: rgb(204, 204, 204); text-shadow: none; background: rgb(16, 16, 26);\">A</code> refer to different types of items).</p>\n",
    "<p style=\"border-color: rgb(204, 204, 204); color: rgb(204, 204, 204); text-shadow: none;\">The list of items for each rucksack is given as characters all on a single line. A given rucksack always has the same number of items in each of its two compartments, so the first half of the characters represent items in the first compartment, while the second half of the characters represent items in the second compartment.</p>\n",
    "<p style=\"border-color: rgb(204, 204, 204); color: rgb(204, 204, 204); text-shadow: none;\">For example, suppose you have the following list of contents from six rucksacks:</p>\n",
    "<pre style=\"border: 1px solid rgb(51, 51, 64); color: rgb(204, 204, 204); text-shadow: none; display: inline-block;\"><code style=\"border-color: rgb(204, 204, 204); color: rgb(204, 204, 204); text-shadow: none;\">vJrwpWtwJgWrhcsFMMfFFhFp\n",
    "jqHRNqRjqzjGDLGLrsFMfFZSrLrFZsSL\n",
    "PmmdzqPrVvPwwTWBwg\n",
    "wMqvLMZHhHMvwLHjbvcjnnSBnvTQFn\n",
    "ttgJtRGJQctTZtZT\n",
    "CrZsJsPPZsGzwwsLwLmpwMDw\n",
    "</code></pre>\n",
    "<ul style=\"border-color: rgb(204, 204, 204); color: rgb(204, 204, 204); text-shadow: none;\">\n",
    "<li style=\"border-color: rgb(204, 204, 204); color: rgb(204, 204, 204); text-shadow: none;\">The first rucksack contains the items <code style=\"border: 1px solid rgb(51, 51, 64); color: rgb(204, 204, 204); text-shadow: none; background: rgb(16, 16, 26);\">vJrwpWtwJgWrhcsFMMfFFhFp</code>, which means its first compartment contains the items <code style=\"border: 1px solid rgb(51, 51, 64); color: rgb(204, 204, 204); text-shadow: none; background: rgb(16, 16, 26);\">vJrwpWtwJgWr</code>, while the second compartment contains the items <code style=\"border: 1px solid rgb(51, 51, 64); color: rgb(204, 204, 204); text-shadow: none; background: rgb(16, 16, 26);\">hcsFMMfFFhFp</code>. The only item type that appears in both compartments is lowercase <code style=\"border: 1px solid rgb(51, 51, 64); color: rgb(204, 204, 204); text-shadow: none; background: rgb(16, 16, 26);\"><em style=\"border-color: rgb(255, 255, 255); color: rgb(255, 255, 255); text-shadow: rgb(255, 255, 255) 0px 0px 5px;\">p</em></code>.</li>\n",
    "<li style=\"border-color: rgb(204, 204, 204); color: rgb(204, 204, 204); text-shadow: none;\">The second rucksack's compartments contain <code style=\"border: 1px solid rgb(51, 51, 64); color: rgb(204, 204, 204); text-shadow: none; background: rgb(16, 16, 26);\">jqHRNqRjqzjGDLGL</code> and <code style=\"border: 1px solid rgb(51, 51, 64); color: rgb(204, 204, 204); text-shadow: none; background: rgb(16, 16, 26);\">rsFMfFZSrLrFZsSL</code>. The only item type that appears in both compartments is uppercase <code style=\"border: 1px solid rgb(51, 51, 64); color: rgb(204, 204, 204); text-shadow: none; background: rgb(16, 16, 26);\"><em style=\"border-color: rgb(255, 255, 255); color: rgb(255, 255, 255); text-shadow: rgb(255, 255, 255) 0px 0px 5px;\">L</em></code>.</li>\n",
    "<li style=\"border-color: rgb(204, 204, 204); color: rgb(204, 204, 204); text-shadow: none;\">The third rucksack's compartments contain <code style=\"border: 1px solid rgb(51, 51, 64); color: rgb(204, 204, 204); text-shadow: none; background: rgb(16, 16, 26);\">PmmdzqPrV</code> and <code style=\"border: 1px solid rgb(51, 51, 64); color: rgb(204, 204, 204); text-shadow: none; background: rgb(16, 16, 26);\">vPwwTWBwg</code>; the only common item type is uppercase <code style=\"border: 1px solid rgb(51, 51, 64); color: rgb(204, 204, 204); text-shadow: none; background: rgb(16, 16, 26);\"><em style=\"border-color: rgb(255, 255, 255); color: rgb(255, 255, 255); text-shadow: rgb(255, 255, 255) 0px 0px 5px;\">P</em></code>.</li>\n",
    "<li style=\"border-color: rgb(204, 204, 204); color: rgb(204, 204, 204); text-shadow: none;\">The fourth rucksack's compartments only share item type <code style=\"border: 1px solid rgb(51, 51, 64); color: rgb(204, 204, 204); text-shadow: none; background: rgb(16, 16, 26);\"><em style=\"border-color: rgb(255, 255, 255); color: rgb(255, 255, 255); text-shadow: rgb(255, 255, 255) 0px 0px 5px;\">v</em></code>.</li>\n",
    "<li style=\"border-color: rgb(204, 204, 204); color: rgb(204, 204, 204); text-shadow: none;\">The fifth rucksack's compartments only share item type <code style=\"border: 1px solid rgb(51, 51, 64); color: rgb(204, 204, 204); text-shadow: none; background: rgb(16, 16, 26);\"><em style=\"border-color: rgb(255, 255, 255); color: rgb(255, 255, 255); text-shadow: rgb(255, 255, 255) 0px 0px 5px;\">t</em></code>.</li>\n",
    "<li style=\"border-color: rgb(204, 204, 204); color: rgb(204, 204, 204); text-shadow: none;\">The sixth rucksack's compartments only share item type <code style=\"border: 1px solid rgb(51, 51, 64); color: rgb(204, 204, 204); text-shadow: none; background: rgb(16, 16, 26);\"><em style=\"border-color: rgb(255, 255, 255); color: rgb(255, 255, 255); text-shadow: rgb(255, 255, 255) 0px 0px 5px;\">s</em></code>.</li>\n",
    "</ul>\n",
    "<p style=\"border-color: rgb(204, 204, 204); color: rgb(204, 204, 204); text-shadow: none;\">To help prioritize item rearrangement, every item type can be converted to a <em style=\"border-color: rgb(255, 255, 255); color: rgb(255, 255, 255); text-shadow: rgb(255, 255, 255) 0px 0px 5px;\">priority</em>:</p>\n",
    "<ul style=\"border-color: rgb(204, 204, 204); color: rgb(204, 204, 204); text-shadow: none;\">\n",
    "<li style=\"border-color: rgb(204, 204, 204); color: rgb(204, 204, 204); text-shadow: none;\">Lowercase item types <code style=\"border: 1px solid rgb(51, 51, 64); color: rgb(204, 204, 204); text-shadow: none; background: rgb(16, 16, 26);\">a</code> through <code style=\"border: 1px solid rgb(51, 51, 64); color: rgb(204, 204, 204); text-shadow: none; background: rgb(16, 16, 26);\">z</code> have priorities 1 through 26.</li>\n",
    "<li style=\"border-color: rgb(204, 204, 204); color: rgb(204, 204, 204); text-shadow: none;\">Uppercase item types <code style=\"border: 1px solid rgb(51, 51, 64); color: rgb(204, 204, 204); text-shadow: none; background: rgb(16, 16, 26);\">A</code> through <code style=\"border: 1px solid rgb(51, 51, 64); color: rgb(204, 204, 204); text-shadow: none; background: rgb(16, 16, 26);\">Z</code> have priorities 27 through 52.</li>\n",
    "</ul>\n",
    "<p style=\"border-color: rgb(204, 204, 204); color: rgb(204, 204, 204); text-shadow: none;\">In the above example, the priority of the item type that appears in both compartments of each rucksack is 16 (<code style=\"border: 1px solid rgb(51, 51, 64); color: rgb(204, 204, 204); text-shadow: none; background: rgb(16, 16, 26);\">p</code>), 38 (<code style=\"border: 1px solid rgb(51, 51, 64); color: rgb(204, 204, 204); text-shadow: none; background: rgb(16, 16, 26);\">L</code>), 42 (<code style=\"border: 1px solid rgb(51, 51, 64); color: rgb(204, 204, 204); text-shadow: none; background: rgb(16, 16, 26);\">P</code>), 22 (<code style=\"border: 1px solid rgb(51, 51, 64); color: rgb(204, 204, 204); text-shadow: none; background: rgb(16, 16, 26);\">v</code>), 20 (<code style=\"border: 1px solid rgb(51, 51, 64); color: rgb(204, 204, 204); text-shadow: none; background: rgb(16, 16, 26);\">t</code>), and 19 (<code style=\"border: 1px solid rgb(51, 51, 64); color: rgb(204, 204, 204); text-shadow: none; background: rgb(16, 16, 26);\">s</code>); the sum of these is <code style=\"border: 1px solid rgb(51, 51, 64); color: rgb(204, 204, 204); text-shadow: none; background: rgb(16, 16, 26);\"><em style=\"border-color: rgb(255, 255, 255); color: rgb(255, 255, 255); text-shadow: rgb(255, 255, 255) 0px 0px 5px;\">157</em></code>.</p>\n",
    "<p style=\"border-color: rgb(204, 204, 204); color: rgb(204, 204, 204); text-shadow: none;\">Find the item type that appears in both compartments of each rucksack. <em style=\"border-color: rgb(255, 255, 255); color: rgb(255, 255, 255); text-shadow: rgb(255, 255, 255) 0px 0px 5px;\">What is the sum of the priorities of those item types?</em></p>\n",
    "</div>"
   ]
  },
  {
   "cell_type": "code",
   "execution_count": 1,
   "id": "102928fe-443c-4dfa-af6d-f4c6c676b91d",
   "metadata": {},
   "outputs": [],
   "source": [
    "with open(\"./puzzle_inputs/03.txt\") as f:\n",
    "    rucksacks = [l.strip() for l in f]"
   ]
  },
  {
   "cell_type": "code",
   "execution_count": 2,
   "id": "87060ab8-d84b-4ac3-ac25-937f4ac5d549",
   "metadata": {},
   "outputs": [],
   "source": [
    "a, A = ord('a'), ord('A') + 1\n",
    "\n",
    "def find_common_item(rucksack):\n",
    "    l = len(rucksack)\n",
    "    return list(set(rucksack[:l//2]).intersection(rucksack[l//2:]))[0]\n",
    "\n",
    "def item_value(item):\n",
    "    value = ord(item)\n",
    "    return value - (a if value > a else A - 27) + 1"
   ]
  },
  {
   "cell_type": "code",
   "execution_count": 3,
   "id": "95cd3dc8-108b-4772-a446-6251922f1aa7",
   "metadata": {},
   "outputs": [
    {
     "data": {
      "text/plain": [
       "7597"
      ]
     },
     "execution_count": 3,
     "metadata": {},
     "output_type": "execute_result"
    }
   ],
   "source": [
    "sum(item_value(find_common_item(r)) for r in rucksacks)"
   ]
  },
  {
   "cell_type": "markdown",
   "id": "75fafcd5-52bc-45d7-a0fa-5ed7d22f3018",
   "metadata": {},
   "source": [
    "---\n",
    "<div style=\"background-color: rgb(15, 15, 35); border: 1px solid rgb(255, 255, 255); color: rgb(204, 204, 204); text-shadow: none; margin-left: -5px; margin-right: -20px; padding: 1rem;\"><h2 id=\"part2\" style=\"border-color: rgb(255, 255, 255); color: rgb(255, 255, 255); text-shadow: none;\">--- Part Two ---</h2><p style=\"border-color: rgb(204, 204, 204); color: rgb(204, 204, 204); text-shadow: none;\">As you finish identifying the misplaced items, the Elves come to you with another issue.</p>\n",
    "<p style=\"border-color: rgb(204, 204, 204); color: rgb(204, 204, 204); text-shadow: none;\">For safety, the Elves are divided into groups of three. Every Elf carries a badge that identifies their group. For efficiency, within each group of three Elves, the badge is the <em style=\"border-color: rgb(255, 255, 255); color: rgb(255, 255, 255); text-shadow: rgb(255, 255, 255) 0px 0px 5px;\">only item type carried by all three Elves</em>. That is, if a group's badge is item type <code style=\"border: 1px solid rgb(51, 51, 64); color: rgb(204, 204, 204); text-shadow: none; background: rgb(16, 16, 26);\">B</code>, then all three Elves will have item type <code style=\"border: 1px solid rgb(51, 51, 64); color: rgb(204, 204, 204); text-shadow: none; background: rgb(16, 16, 26);\">B</code> somewhere in their rucksack, and at most two of the Elves will be carrying any other item type.</p>\n",
    "<p style=\"border-color: rgb(204, 204, 204); color: rgb(204, 204, 204); text-shadow: none;\">The problem is that someone forgot to put this year's updated authenticity sticker on the badges. All of the badges need to be pulled out of the rucksacks so the new authenticity stickers can be attached.</p>\n",
    "<p style=\"border-color: rgb(204, 204, 204); color: rgb(204, 204, 204); text-shadow: none;\">Additionally, nobody wrote down which item type corresponds to each group's badges. The only way to tell which item type is the right one is by finding the one item type that is <em style=\"border-color: rgb(255, 255, 255); color: rgb(255, 255, 255); text-shadow: rgb(255, 255, 255) 0px 0px 5px;\">common between all three Elves</em> in each group.</p>\n",
    "<p style=\"border-color: rgb(204, 204, 204); color: rgb(204, 204, 204); text-shadow: none;\">Every set of three lines in your list corresponds to a single group, but each group can have a different badge item type. So, in the above example, the first group's rucksacks are the first three lines:</p>\n",
    "<pre style=\"border: 1px solid rgb(51, 51, 64); color: rgb(204, 204, 204); text-shadow: none; display: inline-block;\"><code style=\"border-color: rgb(204, 204, 204); color: rgb(204, 204, 204); text-shadow: none;\">vJrwpWtwJgWrhcsFMMfFFhFp\n",
    "jqHRNqRjqzjGDLGLrsFMfFZSrLrFZsSL\n",
    "PmmdzqPrVvPwwTWBwg\n",
    "</code></pre>\n",
    "<p style=\"border-color: rgb(204, 204, 204); color: rgb(204, 204, 204); text-shadow: none;\">And the second group's rucksacks are the next three lines:</p>\n",
    "<pre style=\"border: 1px solid rgb(51, 51, 64); color: rgb(204, 204, 204); text-shadow: none; display: inline-block;\"><code style=\"border-color: rgb(204, 204, 204); color: rgb(204, 204, 204); text-shadow: none;\">wMqvLMZHhHMvwLHjbvcjnnSBnvTQFn\n",
    "ttgJtRGJQctTZtZT\n",
    "CrZsJsPPZsGzwwsLwLmpwMDw\n",
    "</code></pre>\n",
    "<p style=\"border-color: rgb(204, 204, 204); color: rgb(204, 204, 204); text-shadow: none;\">In the first group, the only item type that appears in all three rucksacks is lowercase <code style=\"border: 1px solid rgb(51, 51, 64); color: rgb(204, 204, 204); text-shadow: none; background: rgb(16, 16, 26);\">r</code>; this must be their badges. In the second group, their badge item type must be <code style=\"border: 1px solid rgb(51, 51, 64); color: rgb(204, 204, 204); text-shadow: none; background: rgb(16, 16, 26);\">Z</code>.</p>\n",
    "<p style=\"border-color: rgb(204, 204, 204); color: rgb(204, 204, 204); text-shadow: none;\">Priorities for these items must still be found to organize the sticker attachment efforts: here, they are 18 (<code style=\"border: 1px solid rgb(51, 51, 64); color: rgb(204, 204, 204); text-shadow: none; background: rgb(16, 16, 26);\">r</code>) for the first group and 52 (<code style=\"border: 1px solid rgb(51, 51, 64); color: rgb(204, 204, 204); text-shadow: none; background: rgb(16, 16, 26);\">Z</code>) for the second group. The sum of these is <code style=\"border: 1px solid rgb(51, 51, 64); color: rgb(204, 204, 204); text-shadow: none; background: rgb(16, 16, 26);\"><em style=\"border-color: rgb(255, 255, 255); color: rgb(255, 255, 255); text-shadow: rgb(255, 255, 255) 0px 0px 5px;\">70</em></code>.</p>\n",
    "<p style=\"border-color: rgb(204, 204, 204); color: rgb(204, 204, 204); text-shadow: none;\">Find the item type that corresponds to the badges of each three-Elf group. <em style=\"border-color: rgb(255, 255, 255); color: rgb(255, 255, 255); text-shadow: rgb(255, 255, 255) 0px 0px 5px;\">What is the sum of the priorities of those item types?</em></p>\n",
    "</div>\n"
   ]
  },
  {
   "cell_type": "code",
   "execution_count": 4,
   "id": "ff0cbd96-a7c7-44a2-96f9-2725415b5d4e",
   "metadata": {},
   "outputs": [
    {
     "data": {
      "text/plain": [
       "2607"
      ]
     },
     "execution_count": 4,
     "metadata": {},
     "output_type": "execute_result"
    }
   ],
   "source": [
    "total = 0\n",
    "for i in range(0, len(rucksacks), 3):\n",
    "    group = [set(r) for r in rucksacks[i:i+3]]\n",
    "    total += item_value(list(set.intersection(*group))[0])\n",
    "total"
   ]
  }
 ],
 "metadata": {
  "kernelspec": {
   "display_name": "Python 3 (ipykernel)",
   "language": "python",
   "name": "python3"
  },
  "language_info": {
   "codemirror_mode": {
    "name": "ipython",
    "version": 3
   },
   "file_extension": ".py",
   "mimetype": "text/x-python",
   "name": "python",
   "nbconvert_exporter": "python",
   "pygments_lexer": "ipython3",
   "version": "3.10.6"
  }
 },
 "nbformat": 4,
 "nbformat_minor": 5
}
