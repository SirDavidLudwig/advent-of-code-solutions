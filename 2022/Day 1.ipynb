{
 "cells": [
  {
   "cell_type": "markdown",
   "id": "8efba611-1e39-4973-bd4e-0797fc10357b",
   "metadata": {
    "tags": []
   },
   "source": [
    "<h2>--- Day 1: Calorie Counting ---</h2><p>Santa's reindeer typically eat regular reindeer food, but they need a lot of <a href=\"/2018/day/25\">magical energy</a> to deliver presents on Christmas. For that, their favorite snack is a special type of <em style=\"color: #ffff66; text-shadow: 0 0 5px #ffff66\">star</em> fruit that only grows deep in the jungle. The Elves have brought you on their annual expedition to the grove where the fruit grows.</p>\n",
    "<p>To supply enough magical energy, the expedition needs to retrieve a minimum of <em style=\"color: #ffff66; text-shadow: 0 0 5px #ffff66\">fifty stars</em> by December 25th. Although the Elves assure you that the grove has plenty of fruit, you decide to grab any fruit you see along the way, just in case.</p>\n",
    "<p>Collect stars by solving puzzles.  Two puzzles will be made available on each day in the Advent calendar; the second puzzle is unlocked when you complete the first.  Each puzzle grants <em style=\"color: #ffff66; text-shadow: 0 0 5px #ffff66\">one star</em>. Good luck!</p>\n",
    "<p>The jungle must be too overgrown and difficult to navigate in vehicles or access from the air; the Elves' expedition traditionally goes on foot. As your boats approach land, the Elves begin taking inventory of their supplies. One important consideration is food - in particular, the number of <em style=\"color: #fff; text-shadow: 0 0 5px #fff;\">Calories</em> each Elf is carrying (your puzzle input).</p>\n",
    "<p>The Elves take turns writing down the number of Calories contained by the various meals, snacks, rations, <span title=\"By &quot;etc&quot;, you're pretty sure they just mean &quot;more snacks&quot;.\">etc.</span> that they've brought with them, one item per line. Each Elf separates their own inventory from the previous Elf's inventory (if any) by a blank line.</p>\n",
    "<p>For example, suppose the Elves finish writing their items' Calories and end up with the following list:</p>\n",
    "<pre style=\"display: inline-block; border: 1px solid #ccc;\"><code>1000\n",
    "2000\n",
    "3000\n",
    "\n",
    "4000\n",
    "\n",
    "5000\n",
    "6000\n",
    "\n",
    "7000\n",
    "8000\n",
    "9000\n",
    "\n",
    "10000\n",
    "</code></pre>\n",
    "<p>This list represents the Calories of the food carried by five Elves:</p>\n",
    "<ul>\n",
    "<li>The first Elf is carrying food with <code>1000</code>, <code>2000</code>, and <code>3000</code> Calories, a total of <code><em style=\"color: #fff; text-shadow: 0 0 5px #fff;\">6000</em></code> Calories.</li>\n",
    "<li>The second Elf is carrying one food item with <code><em style=\"color: #fff; text-shadow: 0 0 5px #fff;\">4000</em></code> Calories.</li>\n",
    "<li>The third Elf is carrying food with <code>5000</code> and <code>6000</code> Calories, a total of <code><em style=\"color: #fff; text-shadow: 0 0 5px #fff;\">11000</em></code> Calories.</li>\n",
    "<li>The fourth Elf is carrying food with <code>7000</code>, <code>8000</code>, and <code>9000</code> Calories, a total of <code><em style=\"color: #fff; text-shadow: 0 0 5px #fff;\">24000</em></code> Calories.</li>\n",
    "<li>The fifth Elf is carrying one food item with <code><em style=\"color: #fff; text-shadow: 0 0 5px #fff;\">10000</em></code> Calories.</li>\n",
    "</ul>\n",
    "<p>In case the Elves get hungry and need extra snacks, they need to know which Elf to ask: they'd like to know how many Calories are being carried by the Elf carrying the <em style=\"color: #fff; text-shadow: 0 0 5px #fff;\">most</em> Calories. In the example above, this is <em style=\"color: #fff; text-shadow: 0 0 5px #fff;\"><code>24000</code></em> (carried by the fourth Elf).</p>\n",
    "<p>Find the Elf carrying the most Calories. <em style=\"color: #fff; text-shadow: 0 0 5px #fff;\">How many total Calories is that Elf carrying?</em></p>\n"
   ]
  },
  {
   "cell_type": "code",
   "execution_count": 1,
   "id": "9143349a-3c60-4438-abce-db524b7340f6",
   "metadata": {},
   "outputs": [],
   "source": [
    "import numpy as np"
   ]
  },
  {
   "cell_type": "code",
   "execution_count": 2,
   "id": "34b2a670-3040-48ac-8ef5-3d8a1410c001",
   "metadata": {},
   "outputs": [],
   "source": [
    "with open(\"./puzzle_input.txt\") as f:\n",
    "    groups = f.read().rstrip().split('\\n\\n')\n",
    "    group_calories = np.array([np.sum(list(map(int, g.rstrip().split('\\n')))) for g in groups])"
   ]
  },
  {
   "cell_type": "code",
   "execution_count": 3,
   "id": "7f473e61-9d8d-4d41-9db1-3407ee0eea01",
   "metadata": {},
   "outputs": [
    {
     "data": {
      "text/plain": [
       "67016"
      ]
     },
     "execution_count": 3,
     "metadata": {},
     "output_type": "execute_result"
    }
   ],
   "source": [
    "np.max(group_calories)"
   ]
  },
  {
   "cell_type": "markdown",
   "id": "3b1448ef-28e8-4060-a6ca-ecf57c3b4c4f",
   "metadata": {},
   "source": [
    "---"
   ]
  },
  {
   "cell_type": "markdown",
   "id": "15ed58e3-ed8b-448e-9f54-1f52fa6de02d",
   "metadata": {},
   "source": [
    "<h2 id=\"part2\">--- Part Two ---</h2><p>By the time you calculate the answer to the Elves' question, they've already realized that the Elf carrying the most Calories of food might eventually <em style=\"color: #fff; text-shadow: 0 0 5px #fff;\">run out of snacks</em>.</p>\n",
    "<p>To avoid this unacceptable situation, the Elves would instead like to know the total Calories carried by the <em style=\"color: #fff; text-shadow: 0 0 5px #fff;\">top three</em> Elves carrying the most Calories. That way, even if one of those Elves runs out of snacks, they still have two backups.</p>\n",
    "<p>In the example above, the top three Elves are the fourth Elf (with <code>24000</code> Calories), then the third Elf (with <code>11000</code> Calories), then the fifth Elf (with <code>10000</code> Calories). The sum of the Calories carried by these three elves is <code><em style=\"color: #fff; text-shadow: 0 0 5px #fff;\">45000</em></code>.</p>\n",
    "<p>Find the top three Elves carrying the most Calories. <em style=\"color: #fff; text-shadow: 0 0 5px #fff;\">How many Calories are those Elves carrying in total?</em></p>\n"
   ]
  },
  {
   "cell_type": "code",
   "execution_count": 4,
   "id": "56532fb1-49f4-4270-bbdb-dc2bc29f7085",
   "metadata": {},
   "outputs": [
    {
     "data": {
      "text/plain": [
       "array([66499, 67016, 66601])"
      ]
     },
     "execution_count": 4,
     "metadata": {},
     "output_type": "execute_result"
    }
   ],
   "source": [
    "top_3 = group_calories[np.argpartition(group_calories, -3)[-3:]]\n",
    "top_3"
   ]
  },
  {
   "cell_type": "code",
   "execution_count": 5,
   "id": "fd051d2b-72d1-4ade-85a3-751f1583d7a6",
   "metadata": {},
   "outputs": [
    {
     "data": {
      "text/plain": [
       "200116"
      ]
     },
     "execution_count": 5,
     "metadata": {},
     "output_type": "execute_result"
    }
   ],
   "source": [
    "np.sum(top_3)"
   ]
  }
 ],
 "metadata": {
  "kernelspec": {
   "display_name": "Python 3 (ipykernel)",
   "language": "python",
   "name": "python3"
  },
  "language_info": {
   "codemirror_mode": {
    "name": "ipython",
    "version": 3
   },
   "file_extension": ".py",
   "mimetype": "text/x-python",
   "name": "python",
   "nbconvert_exporter": "python",
   "pygments_lexer": "ipython3",
   "version": "3.10.6"
  }
 },
 "nbformat": 4,
 "nbformat_minor": 5
}
