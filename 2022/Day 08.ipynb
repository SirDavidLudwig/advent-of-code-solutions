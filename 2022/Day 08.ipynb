{
 "cells": [
  {
   "cell_type": "markdown",
   "id": "e2798b6e-e407-42e8-a759-9a85c075641b",
   "metadata": {},
   "source": [
    "<h2>--- Day 8: Treetop Tree House ---</h2><p>The expedition comes across a peculiar patch of tall trees all planted carefully in a grid. The Elves explain that a previous expedition planted these trees as a reforestation effort. Now, they're curious if this would be a good location for a <a href=\"https://en.wikipedia.org/wiki/Tree_house\" target=\"_blank\">tree house</a>.</p>\n",
    "<p>First, determine whether there is enough tree cover here to keep a tree house <em style=\"color: #fff; text-shadow: 0 0 5px #fff;\">hidden</em>. To do this, you need to count the number of trees that are <em style=\"color: #fff; text-shadow: 0 0 5px #fff;\">visible from outside the grid</em> when looking directly along a row or column.</p>\n",
    "<p>The Elves have already launched a <a href=\"https://en.wikipedia.org/wiki/Quadcopter\" target=\"_blank\">quadcopter</a> to generate a map with the height of each tree (<span title=\"The Elves have already launched a quadcopter (your puzzle input).\">your puzzle input</span>). For example:</p>\n",
    "<pre style=\"display: inline-block; border: 1px solid #ccc;\"><code>30373\n",
    "25512\n",
    "65332\n",
    "33549\n",
    "35390\n",
    "</code></pre>\n",
    "<p>Each tree is represented as a single digit whose value is its height, where <code>0</code> is the shortest and <code>9</code> is the tallest.</p>\n",
    "<p>A tree is <em style=\"color: #fff; text-shadow: 0 0 5px #fff;\">visible</em> if all of the other trees between it and an edge of the grid are <em style=\"color: #fff; text-shadow: 0 0 5px #fff;\">shorter</em> than it. Only consider trees in the same row or column; that is, only look up, down, left, or right from any given tree.</p>\n",
    "<p>All of the trees around the edge of the grid are <em style=\"color: #fff; text-shadow: 0 0 5px #fff;\">visible</em> - since they are already on the edge, there are no trees to block the view. In this example, that only leaves the <em style=\"color: #fff; text-shadow: 0 0 5px #fff;\">interior nine trees</em> to consider:</p>\n",
    "<ul>\n",
    "<li>The top-left <code>5</code> is <em style=\"color: #fff; text-shadow: 0 0 5px #fff;\">visible</em> from the left and top. (It isn't visible from the right or bottom since other trees of height <code>5</code> are in the way.)</li>\n",
    "<li>The top-middle <code>5</code> is <em style=\"color: #fff; text-shadow: 0 0 5px #fff;\">visible</em> from the top and right.</li>\n",
    "<li>The top-right <code>1</code> is not visible from any direction; for it to be visible, there would need to only be trees of height <em style=\"color: #fff; text-shadow: 0 0 5px #fff;\">0</em> between it and an edge.</li>\n",
    "<li>The left-middle <code>5</code> is <em style=\"color: #fff; text-shadow: 0 0 5px #fff;\">visible</em>, but only from the right.</li>\n",
    "<li>The center <code>3</code> is not visible from any direction; for it to be visible, there would need to be only trees of at most height <code>2</code> between it and an edge.</li>\n",
    "<li>The right-middle <code>3</code> is <em style=\"color: #fff; text-shadow: 0 0 5px #fff;\">visible</em> from the right.</li>\n",
    "<li>In the bottom row, the middle <code>5</code> is <em style=\"color: #fff; text-shadow: 0 0 5px #fff;\">visible</em>, but the <code>3</code> and <code>4</code> are not.</li>\n",
    "</ul>\n",
    "<p>With 16 trees visible on the edge and another 5 visible in the interior, a total of <code><em style=\"color: #fff; text-shadow: 0 0 5px #fff;\">21</em></code> trees are visible in this arrangement.</p>\n",
    "<p>Consider your map; <em style=\"color: #fff; text-shadow: 0 0 5px #fff;\">how many trees are visible from outside the grid?</em></p>\n"
   ]
  },
  {
   "cell_type": "code",
   "execution_count": 1,
   "id": "47ac5c92-e9bd-4ee1-b8c4-8bb183fc8161",
   "metadata": {},
   "outputs": [],
   "source": [
    "import numpy as np"
   ]
  },
  {
   "cell_type": "code",
   "execution_count": 93,
   "id": "16094ed1-85ef-4181-bce9-1474ee5e5942",
   "metadata": {},
   "outputs": [
    {
     "data": {
      "text/plain": [
       "(99, 99)"
      ]
     },
     "execution_count": 93,
     "metadata": {},
     "output_type": "execute_result"
    }
   ],
   "source": [
    "with open(\"./puzzle_inputs/08.txt\") as f:\n",
    "    trees = np.array([[int(c) for c in line.rstrip()] for line in f])\n",
    "trees.shape"
   ]
  },
  {
   "cell_type": "code",
   "execution_count": 94,
   "id": "f8ea8217-4f39-4604-984f-842cf5d7a782",
   "metadata": {},
   "outputs": [
    {
     "data": {
      "text/plain": [
       "1835"
      ]
     },
     "execution_count": 94,
     "metadata": {},
     "output_type": "execute_result"
    }
   ],
   "source": [
    "visible_trees = set()\n",
    "for j in range(trees.shape[1]):\n",
    "    highest_seen = -1\n",
    "    for i in range(0, trees.shape[0]):\n",
    "        if trees[i,j] > highest_seen:\n",
    "            highest_seen = trees[i,j]\n",
    "            visible_trees.add((i,j))\n",
    "\n",
    "    highest_seen = -1\n",
    "    for i in range(trees.shape[0] - 1, -1, -1):\n",
    "        if trees[i,j] > highest_seen:\n",
    "            highest_seen = trees[i,j]\n",
    "            visible_trees.add((i,j))\n",
    "\n",
    "for i in range(trees.shape[0]):\n",
    "    highest_seen = -1\n",
    "    for j in range(trees.shape[1]):\n",
    "        if trees[i,j] > highest_seen:\n",
    "            highest_seen = trees[i,j]\n",
    "            visible_trees.add((i,j))\n",
    "\n",
    "    highest_seen = -1\n",
    "    for j in range(trees.shape[1] - 1, -1, -1):\n",
    "        if trees[i,j] > highest_seen:\n",
    "            highest_seen = trees[i,j]\n",
    "            visible_trees.add((i,j))\n",
    "len(visible_trees)"
   ]
  },
  {
   "cell_type": "markdown",
   "id": "3d6e7e57-6af3-4dec-bcda-3f40a28c2b15",
   "metadata": {},
   "source": [
    "---\n",
    "<h2 id=\"part2\">--- Part Two ---</h2><p>Content with the amount of tree cover available, the Elves just need to know the best spot to build their tree house: they would like to be able to see a lot of <em style=\"color: #fff; text-shadow: 0 0 5px #fff;\">trees</em>.</p>\n",
    "<p>To measure the viewing distance from a given tree, look up, down, left, and right from that tree; stop if you reach an edge or at the first tree that is the same height or taller than the tree under consideration. (If a tree is right on the edge, at least one of its viewing distances will be zero.)</p>\n",
    "<p>The Elves don't care about distant trees taller than those found by the rules above; the proposed tree house has large <a href=\"https://en.wikipedia.org/wiki/Eaves\" target=\"_blank\">eaves</a> to keep it dry, so they wouldn't be able to see higher than the tree house anyway.</p>\n",
    "<p>In the example above, consider the middle <code>5</code> in the second row:</p>\n",
    "<pre style=\"display: inline-block; border: 1px solid #ccc;\"><code>30373\n",
    "25<em style=\"color: #fff; text-shadow: 0 0 5px #fff;\">5</em>12\n",
    "65332\n",
    "33549\n",
    "35390\n",
    "</code></pre>\n",
    "<ul>\n",
    "<li>Looking up, its view is not blocked; it can see <code><em style=\"color: #fff; text-shadow: 0 0 5px #fff;\">1</em></code> tree (of height <code>3</code>).</li>\n",
    "<li>Looking left, its view is blocked immediately; it can see only <code><em style=\"color: #fff; text-shadow: 0 0 5px #fff;\">1</em></code> tree (of height <code>5</code>, right next to it).</li>\n",
    "<li>Looking right, its view is not blocked; it can see <code><em style=\"color: #fff; text-shadow: 0 0 5px #fff;\">2</em></code> trees.</li>\n",
    "<li>Looking down, its view is blocked eventually; it can see <code><em style=\"color: #fff; text-shadow: 0 0 5px #fff;\">2</em></code> trees (one of height <code>3</code>, then the tree of height <code>5</code> that blocks its view).</li>\n",
    "</ul>\n",
    "<p>A tree's <em style=\"color: #fff; text-shadow: 0 0 5px #fff;\">scenic score</em> is found by <em style=\"color: #fff; text-shadow: 0 0 5px #fff;\">multiplying together</em> its viewing distance in each of the four directions. For this tree, this is <code><em style=\"color: #fff; text-shadow: 0 0 5px #fff;\">4</em></code> (found by multiplying <code>1 * 1 * 2 * 2</code>).</p>\n",
    "<p>However, you can do even better: consider the tree of height <code>5</code> in the middle of the fourth row:</p>\n",
    "<pre style=\"display: inline-block; border: 1px solid #ccc;\"><code>30373\n",
    "25512\n",
    "65332\n",
    "33<em style=\"color: #fff; text-shadow: 0 0 5px #fff;\">5</em>49\n",
    "35390\n",
    "</code></pre>\n",
    "<ul>\n",
    "<li>Looking up, its view is blocked at <code><em style=\"color: #fff; text-shadow: 0 0 5px #fff;\">2</em></code> trees (by another tree with a height of <code>5</code>).</li>\n",
    "<li>Looking left, its view is not blocked; it can see <code><em style=\"color: #fff; text-shadow: 0 0 5px #fff;\">2</em></code> trees.</li>\n",
    "<li>Looking down, its view is also not blocked; it can see <code><em style=\"color: #fff; text-shadow: 0 0 5px #fff;\">1</em></code> tree.</li>\n",
    "<li>Looking right, its view is blocked at <code><em style=\"color: #fff; text-shadow: 0 0 5px #fff;\">2</em></code> trees (by a massive tree of height <code>9</code>).</li>\n",
    "</ul>\n",
    "<p>This tree's scenic score is <code><em style=\"color: #fff; text-shadow: 0 0 5px #fff;\">8</em></code> (<code>2 * 2 * 1 * 2</code>); this is the ideal spot for the tree house.</p>\n",
    "<p>Consider each tree on your map. <em style=\"color: #fff; text-shadow: 0 0 5px #fff;\">What is the highest scenic score possible for any tree?</em></p>\n"
   ]
  },
  {
   "cell_type": "code",
   "execution_count": 107,
   "id": "53ee4a71-49aa-40d6-bcf5-966d4ba4f085",
   "metadata": {},
   "outputs": [],
   "source": [
    "def score_location(trees, row, col):\n",
    "    # Up\n",
    "    visible = np.zeros(4, dtype=int)\n",
    "    for i in range(row - 1, -1, -1):\n",
    "        visible[0] += 1\n",
    "        if trees[i,col] >= trees[row,col]:\n",
    "            break\n",
    "    # down\n",
    "    for i in range(row + 1, trees.shape[0]):\n",
    "        visible[1] += 1\n",
    "        if trees[i,col] >= trees[row,col]:\n",
    "            break\n",
    "    # left\n",
    "    for j in range(col - 1, -1, -1):\n",
    "        visible[2] += 1\n",
    "        if trees[row,j] >= trees[row,col]:\n",
    "            break\n",
    "    # right\n",
    "    for j in range(col + 1, trees.shape[1]):\n",
    "        visible[3] += 1\n",
    "        if trees[row,j] >= trees[row,col]:\n",
    "            break\n",
    "    return np.product(visible)"
   ]
  },
  {
   "cell_type": "code",
   "execution_count": 109,
   "id": "cdc9d057-35d6-4a9c-9c51-abb38ff2dc86",
   "metadata": {},
   "outputs": [
    {
     "data": {
      "text/plain": [
       "263670"
      ]
     },
     "execution_count": 109,
     "metadata": {},
     "output_type": "execute_result"
    }
   ],
   "source": [
    "highest_score = -1\n",
    "for i in range(trees.shape[0]):\n",
    "    for j in range(trees.shape[1]):\n",
    "        highest_score = max(highest_score, score_location(trees, i, j))\n",
    "highest_score"
   ]
  }
 ],
 "metadata": {
  "kernelspec": {
   "display_name": "Python 3 (ipykernel)",
   "language": "python",
   "name": "python3"
  },
  "language_info": {
   "codemirror_mode": {
    "name": "ipython",
    "version": 3
   },
   "file_extension": ".py",
   "mimetype": "text/x-python",
   "name": "python",
   "nbconvert_exporter": "python",
   "pygments_lexer": "ipython3",
   "version": "3.10.6"
  }
 },
 "nbformat": 4,
 "nbformat_minor": 5
}
