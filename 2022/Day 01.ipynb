{
 "cells": [
  {
   "cell_type": "markdown",
   "id": "8efba611-1e39-4973-bd4e-0797fc10357b",
   "metadata": {
    "tags": []
   },
   "source": [
    "<div style=\"background-color: rgb(15, 15, 35); border: 1px solid rgb(255, 255, 255); color: rgb(204, 204, 204); text-shadow: none; margin-left: -5px; padding: 1rem; margin-right: -20px\"><h2 style=\"border-color: rgb(255, 255, 255); color: rgb(255, 255, 255); text-shadow: none;\">--- Day 1: Calorie Counting ---</h2><p style=\"border-color: rgb(204, 204, 204); color: rgb(204, 204, 204); text-shadow: none;\">Santa's reindeer typically eat regular reindeer food, but they need a lot of <a href=\"/2018/day/25\" style=\"border-color: rgb(0, 153, 0); color: rgb(0, 153, 0); text-shadow: none;\">magical energy</a> to deliver presents on Christmas. For that, their favorite snack is a special type of <em class=\"star\" style=\"border-color: rgb(255, 255, 102); color: rgb(255, 255, 102); text-shadow: rgb(255, 255, 102) 0px 0px 5px;\">star</em> fruit that only grows deep in the jungle. The Elves have brought you on their annual expedition to the grove where the fruit grows.</p>\n",
    "<p style=\"border-color: rgb(204, 204, 204); color: rgb(204, 204, 204); text-shadow: none;\">To supply enough magical energy, the expedition needs to retrieve a minimum of <em class=\"star\" style=\"border-color: rgb(255, 255, 102); color: rgb(255, 255, 102); text-shadow: rgb(255, 255, 102) 0px 0px 5px;\">fifty stars</em> by December 25th. Although the Elves assure you that the grove has plenty of fruit, you decide to grab any fruit you see along the way, just in case.</p>\n",
    "<p style=\"border-color: rgb(204, 204, 204); color: rgb(204, 204, 204); text-shadow: none;\">Collect stars by solving puzzles.  Two puzzles will be made available on each day in the Advent calendar; the second puzzle is unlocked when you complete the first.  Each puzzle grants <em class=\"star\" style=\"border-color: rgb(255, 255, 102); color: rgb(255, 255, 102); text-shadow: rgb(255, 255, 102) 0px 0px 5px;\">one star</em>. Good luck!</p>\n",
    "<p style=\"border-color: rgb(204, 204, 204); color: rgb(204, 204, 204); text-shadow: none;\">The jungle must be too overgrown and difficult to navigate in vehicles or access from the air; the Elves' expedition traditionally goes on foot. As your boats approach land, the Elves begin taking inventory of their supplies. One important consideration is food - in particular, the number of <em style=\"border-color: rgb(255, 255, 255); color: rgb(255, 255, 255); text-shadow: rgb(255, 255, 255) 0px 0px 5px;\">Calories</em> each Elf is carrying (your puzzle input).</p>\n",
    "<p style=\"border-color: rgb(204, 204, 204); color: rgb(204, 204, 204); text-shadow: none;\">The Elves take turns writing down the number of Calories contained by the various meals, snacks, rations, <span title=\"By &quot;etc&quot;, you're pretty sure they just mean &quot;more snacks&quot;.\" style=\"border-color: rgb(204, 204, 204); color: rgb(204, 204, 204); text-shadow: none;\">etc.</span> that they've brought with them, one item per line. Each Elf separates their own inventory from the previous Elf's inventory (if any) by a blank line.</p>\n",
    "<p style=\"border-color: rgb(204, 204, 204); color: rgb(204, 204, 204); text-shadow: none;\">For example, suppose the Elves finish writing their items' Calories and end up with the following list:</p>\n",
    "<pre style=\"border: 1px solid rgb(51, 51, 64); color: rgb(204, 204, 204); text-shadow: none; display: inline-block;\"><code style=\"border-color: rgb(204, 204, 204); color: rgb(204, 204, 204); text-shadow: none;\">1000\n",
    "2000\n",
    "3000\n",
    "\n",
    "4000\n",
    "\n",
    "5000\n",
    "6000\n",
    "\n",
    "7000\n",
    "8000\n",
    "9000\n",
    "\n",
    "10000\n",
    "</code></pre>\n",
    "<p style=\"border-color: rgb(204, 204, 204); color: rgb(204, 204, 204); text-shadow: none;\">This list represents the Calories of the food carried by five Elves:</p>\n",
    "<ul style=\"border-color: rgb(204, 204, 204); color: rgb(204, 204, 204); text-shadow: none;\">\n",
    "<li style=\"border-color: rgb(204, 204, 204); color: rgb(204, 204, 204); text-shadow: none;\">The first Elf is carrying food with <code style=\"border: 1px solid rgb(51, 51, 64); color: rgb(204, 204, 204); text-shadow: none; background: rgb(16, 16, 26);\">1000</code>, <code style=\"border: 1px solid rgb(51, 51, 64); color: rgb(204, 204, 204); text-shadow: none; background: rgb(16, 16, 26);\">2000</code>, and <code style=\"border: 1px solid rgb(51, 51, 64); color: rgb(204, 204, 204); text-shadow: none; background: rgb(16, 16, 26);\">3000</code> Calories, a total of <code style=\"border: 1px solid rgb(51, 51, 64); color: rgb(204, 204, 204); text-shadow: none; background: rgb(16, 16, 26);\"><em style=\"border-color: rgb(255, 255, 255); color: rgb(255, 255, 255); text-shadow: rgb(255, 255, 255) 0px 0px 5px;\">6000</em></code> Calories.</li>\n",
    "<li style=\"border-color: rgb(204, 204, 204); color: rgb(204, 204, 204); text-shadow: none;\">The second Elf is carrying one food item with <code style=\"border: 1px solid rgb(51, 51, 64); color: rgb(204, 204, 204); text-shadow: none; background: rgb(16, 16, 26);\"><em style=\"border-color: rgb(255, 255, 255); color: rgb(255, 255, 255); text-shadow: rgb(255, 255, 255) 0px 0px 5px;\">4000</em></code> Calories.</li>\n",
    "<li style=\"border-color: rgb(204, 204, 204); color: rgb(204, 204, 204); text-shadow: none;\">The third Elf is carrying food with <code style=\"border: 1px solid rgb(51, 51, 64); color: rgb(204, 204, 204); text-shadow: none; background: rgb(16, 16, 26);\">5000</code> and <code style=\"border: 1px solid rgb(51, 51, 64); color: rgb(204, 204, 204); text-shadow: none; background: rgb(16, 16, 26);\">6000</code> Calories, a total of <code style=\"border: 1px solid rgb(51, 51, 64); color: rgb(204, 204, 204); text-shadow: none; background: rgb(16, 16, 26);\"><em style=\"border-color: rgb(255, 255, 255); color: rgb(255, 255, 255); text-shadow: rgb(255, 255, 255) 0px 0px 5px;\">11000</em></code> Calories.</li>\n",
    "<li style=\"border-color: rgb(204, 204, 204); color: rgb(204, 204, 204); text-shadow: none;\">The fourth Elf is carrying food with <code style=\"border: 1px solid rgb(51, 51, 64); color: rgb(204, 204, 204); text-shadow: none; background: rgb(16, 16, 26);\">7000</code>, <code style=\"border: 1px solid rgb(51, 51, 64); color: rgb(204, 204, 204); text-shadow: none; background: rgb(16, 16, 26);\">8000</code>, and <code style=\"border: 1px solid rgb(51, 51, 64); color: rgb(204, 204, 204); text-shadow: none; background: rgb(16, 16, 26);\">9000</code> Calories, a total of <code style=\"border: 1px solid rgb(51, 51, 64); color: rgb(204, 204, 204); text-shadow: none; background: rgb(16, 16, 26);\"><em style=\"border-color: rgb(255, 255, 255); color: rgb(255, 255, 255); text-shadow: rgb(255, 255, 255) 0px 0px 5px;\">24000</em></code> Calories.</li>\n",
    "<li style=\"border-color: rgb(204, 204, 204); color: rgb(204, 204, 204); text-shadow: none;\">The fifth Elf is carrying one food item with <code style=\"border: 1px solid rgb(51, 51, 64); color: rgb(204, 204, 204); text-shadow: none; background: rgb(16, 16, 26);\"><em style=\"border-color: rgb(255, 255, 255); color: rgb(255, 255, 255); text-shadow: rgb(255, 255, 255) 0px 0px 5px;\">10000</em></code> Calories.</li>\n",
    "</ul>\n",
    "<p style=\"border-color: rgb(204, 204, 204); color: rgb(204, 204, 204); text-shadow: none;\">In case the Elves get hungry and need extra snacks, they need to know which Elf to ask: they'd like to know how many Calories are being carried by the Elf carrying the <em style=\"border-color: rgb(255, 255, 255); color: rgb(255, 255, 255); text-shadow: rgb(255, 255, 255) 0px 0px 5px;\">most</em> Calories. In the example above, this is <em style=\"border-color: rgb(255, 255, 255); color: rgb(255, 255, 255); text-shadow: rgb(255, 255, 255) 0px 0px 5px;\"><code style=\"border: 1px solid rgb(51, 51, 64); color: rgb(255, 255, 255); text-shadow: rgb(255, 255, 255) 0px 0px 5px; background: rgb(16, 16, 26);\">24000</code></em> (carried by the fourth Elf).</p>\n",
    "<p style=\"border-color: rgb(204, 204, 204); color: rgb(204, 204, 204); text-shadow: none;\">Find the Elf carrying the most Calories. <em style=\"border-color: rgb(255, 255, 255); color: rgb(255, 255, 255); text-shadow: rgb(255, 255, 255) 0px 0px 5px;\">How many total Calories is that Elf carrying?</em></p>\n",
    "</div>"
   ]
  },
  {
   "cell_type": "code",
   "execution_count": 1,
   "id": "9143349a-3c60-4438-abce-db524b7340f6",
   "metadata": {},
   "outputs": [],
   "source": [
    "import numpy as np"
   ]
  },
  {
   "cell_type": "code",
   "execution_count": 2,
   "id": "34b2a670-3040-48ac-8ef5-3d8a1410c001",
   "metadata": {},
   "outputs": [],
   "source": [
    "with open(\"./puzzle_inputs/01.txt\") as f:\n",
    "    groups = f.read().rstrip().split('\\n\\n')\n",
    "    group_calories = np.array([np.sum(list(map(int, g.rstrip().split('\\n')))) for g in groups])"
   ]
  },
  {
   "cell_type": "code",
   "execution_count": 3,
   "id": "7f473e61-9d8d-4d41-9db1-3407ee0eea01",
   "metadata": {},
   "outputs": [
    {
     "data": {
      "text/plain": [
       "67016"
      ]
     },
     "execution_count": 3,
     "metadata": {},
     "output_type": "execute_result"
    }
   ],
   "source": [
    "np.max(group_calories)"
   ]
  },
  {
   "cell_type": "markdown",
   "id": "3b1448ef-28e8-4060-a6ca-ecf57c3b4c4f",
   "metadata": {},
   "source": [
    "---"
   ]
  },
  {
   "cell_type": "markdown",
   "id": "15ed58e3-ed8b-448e-9f54-1f52fa6de02d",
   "metadata": {},
   "source": [
    "<div style=\"background-color: rgb(15, 15, 35); border: 1px solid rgb(255, 255, 255); color: rgb(204, 204, 204); text-shadow: none; margin-left: -5px; margin-right: -20px; padding: 1rem;\"><h2 id=\"part2\" style=\"border-color: rgb(255, 255, 255); color: rgb(255, 255, 255); text-shadow: none;\">--- Part Two ---</h2><p style=\"border-color: rgb(204, 204, 204); color: rgb(204, 204, 204); text-shadow: none;\">By the time you calculate the answer to the Elves' question, they've already realized that the Elf carrying the most Calories of food might eventually <em style=\"border-color: rgb(255, 255, 255); color: rgb(255, 255, 255); text-shadow: rgb(255, 255, 255) 0px 0px 5px;\">run out of snacks</em>.</p>\n",
    "<p style=\"border-color: rgb(204, 204, 204); color: rgb(204, 204, 204); text-shadow: none;\">To avoid this unacceptable situation, the Elves would instead like to know the total Calories carried by the <em style=\"border-color: rgb(255, 255, 255); color: rgb(255, 255, 255); text-shadow: rgb(255, 255, 255) 0px 0px 5px;\">top three</em> Elves carrying the most Calories. That way, even if one of those Elves runs out of snacks, they still have two backups.</p>\n",
    "<p style=\"border-color: rgb(204, 204, 204); color: rgb(204, 204, 204); text-shadow: none;\">In the example above, the top three Elves are the fourth Elf (with <code style=\"border: 1px solid rgb(51, 51, 64); color: rgb(204, 204, 204); text-shadow: none; background: rgb(16, 16, 26);\">24000</code> Calories), then the third Elf (with <code style=\"border: 1px solid rgb(51, 51, 64); color: rgb(204, 204, 204); text-shadow: none; background: rgb(16, 16, 26);\">11000</code> Calories), then the fifth Elf (with <code style=\"border: 1px solid rgb(51, 51, 64); color: rgb(204, 204, 204); text-shadow: none; background: rgb(16, 16, 26);\">10000</code> Calories). The sum of the Calories carried by these three elves is <code style=\"border: 1px solid rgb(51, 51, 64); color: rgb(204, 204, 204); text-shadow: none; background: rgb(16, 16, 26);\"><em style=\"border-color: rgb(255, 255, 255); color: rgb(255, 255, 255); text-shadow: rgb(255, 255, 255) 0px 0px 5px;\">45000</em></code>.</p>\n",
    "<p style=\"border-color: rgb(204, 204, 204); color: rgb(204, 204, 204); text-shadow: none;\">Find the top three Elves carrying the most Calories. <em style=\"border-color: rgb(255, 255, 255); color: rgb(255, 255, 255); text-shadow: rgb(255, 255, 255) 0px 0px 5px;\">How many Calories are those Elves carrying in total?</em></p>\n",
    "</div>"
   ]
  },
  {
   "cell_type": "code",
   "execution_count": 4,
   "id": "56532fb1-49f4-4270-bbdb-dc2bc29f7085",
   "metadata": {},
   "outputs": [
    {
     "data": {
      "text/plain": [
       "array([66499, 67016, 66601])"
      ]
     },
     "execution_count": 4,
     "metadata": {},
     "output_type": "execute_result"
    }
   ],
   "source": [
    "top_3 = group_calories[np.argpartition(group_calories, -3)[-3:]]\n",
    "top_3"
   ]
  },
  {
   "cell_type": "code",
   "execution_count": 5,
   "id": "fd051d2b-72d1-4ade-85a3-751f1583d7a6",
   "metadata": {},
   "outputs": [
    {
     "data": {
      "text/plain": [
       "200116"
      ]
     },
     "execution_count": 5,
     "metadata": {},
     "output_type": "execute_result"
    }
   ],
   "source": [
    "np.sum(top_3)"
   ]
  }
 ],
 "metadata": {
  "kernelspec": {
   "display_name": "Python 3 (ipykernel)",
   "language": "python",
   "name": "python3"
  },
  "language_info": {
   "codemirror_mode": {
    "name": "ipython",
    "version": 3
   },
   "file_extension": ".py",
   "mimetype": "text/x-python",
   "name": "python",
   "nbconvert_exporter": "python",
   "pygments_lexer": "ipython3",
   "version": "3.10.6"
  }
 },
 "nbformat": 4,
 "nbformat_minor": 5
}
