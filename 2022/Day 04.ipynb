{
 "cells": [
  {
   "cell_type": "markdown",
   "id": "7d86d53c-9735-4395-a0aa-36bd03aba0e8",
   "metadata": {},
   "source": [
    "<div style=\"background-color: rgb(15, 15, 35); border: 1px solid rgb(255, 255, 255); color: rgb(204, 204, 204); text-shadow: none; margin-left: -5px; margin-right: -20px; padding: 1rem;\"><h2 style=\"border-color: rgb(255, 255, 255); color: rgb(255, 255, 255); text-shadow: none;\">--- Day 4: Camp Cleanup ---</h2><p style=\"border-color: rgb(204, 204, 204); color: rgb(204, 204, 204); text-shadow: none;\">Space needs to be cleared before the last supplies can be unloaded from the ships, and so several Elves have been assigned the job of cleaning up sections of the camp. Every section has a unique <em style=\"border-color: rgb(255, 255, 255); color: rgb(255, 255, 255); text-shadow: rgb(255, 255, 255) 0px 0px 5px;\">ID number</em>, and each Elf is assigned a range of section IDs.</p>\n",
    "<p style=\"border-color: rgb(204, 204, 204); color: rgb(204, 204, 204); text-shadow: none;\">However, as some of the Elves compare their section assignments with each other, they've noticed that many of the assignments <em style=\"border-color: rgb(255, 255, 255); color: rgb(255, 255, 255); text-shadow: rgb(255, 255, 255) 0px 0px 5px;\">overlap</em>. To try to quickly find overlaps and reduce duplicated effort, the Elves pair up and make a <em style=\"border-color: rgb(255, 255, 255); color: rgb(255, 255, 255); text-shadow: rgb(255, 255, 255) 0px 0px 5px;\">big list of the section assignments for each pair</em> (your puzzle input).</p>\n",
    "<p style=\"border-color: rgb(204, 204, 204); color: rgb(204, 204, 204); text-shadow: none;\">For example, consider the following list of section assignment pairs:</p>\n",
    "<pre style=\"border: 1px solid rgb(51, 51, 64); color: rgb(204, 204, 204); text-shadow: none; display: inline-block;\"><code style=\"border-color: rgb(204, 204, 204); color: rgb(204, 204, 204); text-shadow: none;\">2-4,6-8\n",
    "2-3,4-5\n",
    "5-7,7-9\n",
    "2-8,3-7\n",
    "6-6,4-6\n",
    "2-6,4-8\n",
    "</code></pre>\n",
    "<p style=\"border-color: rgb(204, 204, 204); color: rgb(204, 204, 204); text-shadow: none;\">For the first few pairs, this list means:</p>\n",
    "<ul style=\"border-color: rgb(204, 204, 204); color: rgb(204, 204, 204); text-shadow: none;\">\n",
    "<li style=\"border-color: rgb(204, 204, 204); color: rgb(204, 204, 204); text-shadow: none;\">Within the first pair of Elves, the first Elf was assigned sections <code style=\"border: 1px solid rgb(51, 51, 64); color: rgb(204, 204, 204); text-shadow: none; background: rgb(16, 16, 26);\">2-4</code> (sections <code style=\"border: 1px solid rgb(51, 51, 64); color: rgb(204, 204, 204); text-shadow: none; background: rgb(16, 16, 26);\">2</code>, <code style=\"border: 1px solid rgb(51, 51, 64); color: rgb(204, 204, 204); text-shadow: none; background: rgb(16, 16, 26);\">3</code>, and <code style=\"border: 1px solid rgb(51, 51, 64); color: rgb(204, 204, 204); text-shadow: none; background: rgb(16, 16, 26);\">4</code>), while the second Elf was assigned sections <code style=\"border: 1px solid rgb(51, 51, 64); color: rgb(204, 204, 204); text-shadow: none; background: rgb(16, 16, 26);\">6-8</code> (sections <code style=\"border: 1px solid rgb(51, 51, 64); color: rgb(204, 204, 204); text-shadow: none; background: rgb(16, 16, 26);\">6</code>, <code style=\"border: 1px solid rgb(51, 51, 64); color: rgb(204, 204, 204); text-shadow: none; background: rgb(16, 16, 26);\">7</code>, <code style=\"border: 1px solid rgb(51, 51, 64); color: rgb(204, 204, 204); text-shadow: none; background: rgb(16, 16, 26);\">8</code>).</li>\n",
    "<li style=\"border-color: rgb(204, 204, 204); color: rgb(204, 204, 204); text-shadow: none;\">The Elves in the second pair were each assigned two sections.</li>\n",
    "<li style=\"border-color: rgb(204, 204, 204); color: rgb(204, 204, 204); text-shadow: none;\">The Elves in the third pair were each assigned three sections: one got sections <code style=\"border: 1px solid rgb(51, 51, 64); color: rgb(204, 204, 204); text-shadow: none; background: rgb(16, 16, 26);\">5</code>, <code style=\"border: 1px solid rgb(51, 51, 64); color: rgb(204, 204, 204); text-shadow: none; background: rgb(16, 16, 26);\">6</code>, and <code style=\"border: 1px solid rgb(51, 51, 64); color: rgb(204, 204, 204); text-shadow: none; background: rgb(16, 16, 26);\">7</code>, while the other also got <code style=\"border: 1px solid rgb(51, 51, 64); color: rgb(204, 204, 204); text-shadow: none; background: rgb(16, 16, 26);\">7</code>, plus <code style=\"border: 1px solid rgb(51, 51, 64); color: rgb(204, 204, 204); text-shadow: none; background: rgb(16, 16, 26);\">8</code> and <code style=\"border: 1px solid rgb(51, 51, 64); color: rgb(204, 204, 204); text-shadow: none; background: rgb(16, 16, 26);\">9</code>.</li>\n",
    "</ul>\n",
    "<p style=\"border-color: rgb(204, 204, 204); color: rgb(204, 204, 204); text-shadow: none;\">This example list uses single-digit section IDs to make it easier to draw; your actual list might contain larger numbers. Visually, these pairs of section assignments look like this:</p>\n",
    "<pre style=\"border: 1px solid rgb(51, 51, 64); color: rgb(204, 204, 204); text-shadow: none; display: inline-block;\"><code style=\"border-color: rgb(204, 204, 204); color: rgb(204, 204, 204); text-shadow: none;\">.234.....  2-4\n",
    ".....678.  6-8\n",
    "\n",
    ".23......  2-3\n",
    "...45....  4-5\n",
    "\n",
    "....567..  5-7\n",
    "......789  7-9\n",
    "\n",
    ".2345678.  2-8\n",
    "..34567..  3-7\n",
    "\n",
    ".....6...  6-6\n",
    "...456...  4-6\n",
    "\n",
    ".23456...  2-6\n",
    "...45678.  4-8\n",
    "</code></pre>\n",
    "<p style=\"border-color: rgb(204, 204, 204); color: rgb(204, 204, 204); text-shadow: none;\">Some of the pairs have noticed that one of their assignments <em style=\"border-color: rgb(255, 255, 255); color: rgb(255, 255, 255); text-shadow: rgb(255, 255, 255) 0px 0px 5px;\">fully contains</em> the other. For example, <code style=\"border: 1px solid rgb(51, 51, 64); color: rgb(204, 204, 204); text-shadow: none; background: rgb(16, 16, 26);\">2-8</code> fully contains <code style=\"border: 1px solid rgb(51, 51, 64); color: rgb(204, 204, 204); text-shadow: none; background: rgb(16, 16, 26);\">3-7</code>, and <code style=\"border: 1px solid rgb(51, 51, 64); color: rgb(204, 204, 204); text-shadow: none; background: rgb(16, 16, 26);\">6-6</code> is fully contained by <code style=\"border: 1px solid rgb(51, 51, 64); color: rgb(204, 204, 204); text-shadow: none; background: rgb(16, 16, 26);\">4-6</code>. In pairs where one assignment fully contains the other, one Elf in the pair would be exclusively cleaning sections their partner will already be cleaning, so these seem like the most in need of reconsideration. In this example, there are <code style=\"border: 1px solid rgb(51, 51, 64); color: rgb(204, 204, 204); text-shadow: none; background: rgb(16, 16, 26);\"><em style=\"border-color: rgb(255, 255, 255); color: rgb(255, 255, 255); text-shadow: rgb(255, 255, 255) 0px 0px 5px;\">2</em></code> such pairs.</p>\n",
    "<p style=\"border-color: rgb(204, 204, 204); color: rgb(204, 204, 204); text-shadow: none;\"><em style=\"border-color: rgb(255, 255, 255); color: rgb(255, 255, 255); text-shadow: rgb(255, 255, 255) 0px 0px 5px;\">In how many assignment pairs does one range fully contain the other?</em></p>\n",
    "</div>"
   ]
  },
  {
   "cell_type": "code",
   "execution_count": 1,
   "id": "db4da580-5264-440b-bf3a-1542103467a9",
   "metadata": {},
   "outputs": [],
   "source": [
    "import re"
   ]
  },
  {
   "cell_type": "code",
   "execution_count": 2,
   "id": "a70e291c-21e9-4396-9357-697c83dbe8af",
   "metadata": {},
   "outputs": [],
   "source": [
    "with open(\"./puzzle_inputs/04.txt\") as f:\n",
    "    pairs = []\n",
    "    for line in f:\n",
    "        a, b, c, d = map(int, re.split(r'[-,]', line.strip()))\n",
    "        # Sort pairs such that the first pair has the first section.\n",
    "        # If they start in the same spot, ensure that left has the last section.\n",
    "        left, right = (a, b), (c, d)\n",
    "        if left[0] > right[0] or left[0] == right[0] and right[1] > left[1]:\n",
    "            left, right = right, left\n",
    "        pairs.append([left, right])"
   ]
  },
  {
   "cell_type": "code",
   "execution_count": 3,
   "id": "e2ef91c0-274c-4ba8-aa7c-ab041c7b831c",
   "metadata": {},
   "outputs": [
    {
     "data": {
      "text/plain": [
       "657"
      ]
     },
     "execution_count": 3,
     "metadata": {},
     "output_type": "execute_result"
    }
   ],
   "source": [
    "sum(1 for left, right in pairs if left[1] >= right[1])"
   ]
  },
  {
   "cell_type": "markdown",
   "id": "4e157401-959f-47b6-825c-b09fa171d6cf",
   "metadata": {},
   "source": [
    "---\n",
    "<div style=\"background-color: rgb(15, 15, 35); border: 1px solid rgb(255, 255, 255); color: rgb(204, 204, 204); text-shadow: none; margin-left: -5px; margin-right: -20px; padding: 1rem;\"><h2 id=\"part2\" style=\"border-color: rgb(255, 255, 255); color: rgb(255, 255, 255); text-shadow: none;\">--- Part Two ---</h2><p style=\"border-color: rgb(204, 204, 204); color: rgb(204, 204, 204); text-shadow: none;\">It seems like there is still quite a bit of duplicate work planned. Instead, the Elves would <span title=\"If you like this, you'll *love* axis-aligned bounding box intersection testing.\" style=\"border-color: rgb(204, 204, 204); color: rgb(204, 204, 204); text-shadow: none;\">like</span> to know the number of pairs that <em style=\"border-color: rgb(255, 255, 255); color: rgb(255, 255, 255); text-shadow: rgb(255, 255, 255) 0px 0px 5px;\">overlap at all</em>.</p>\n",
    "<p style=\"border-color: rgb(204, 204, 204); color: rgb(204, 204, 204); text-shadow: none;\">In the above example, the first two pairs (<code style=\"border: 1px solid rgb(51, 51, 64); color: rgb(204, 204, 204); text-shadow: none; background: rgb(16, 16, 26);\">2-4,6-8</code> and <code style=\"border: 1px solid rgb(51, 51, 64); color: rgb(204, 204, 204); text-shadow: none; background: rgb(16, 16, 26);\">2-3,4-5</code>) don't overlap, while the remaining four pairs (<code style=\"border: 1px solid rgb(51, 51, 64); color: rgb(204, 204, 204); text-shadow: none; background: rgb(16, 16, 26);\">5-7,7-9</code>, <code style=\"border: 1px solid rgb(51, 51, 64); color: rgb(204, 204, 204); text-shadow: none; background: rgb(16, 16, 26);\">2-8,3-7</code>, <code style=\"border: 1px solid rgb(51, 51, 64); color: rgb(204, 204, 204); text-shadow: none; background: rgb(16, 16, 26);\">6-6,4-6</code>, and <code style=\"border: 1px solid rgb(51, 51, 64); color: rgb(204, 204, 204); text-shadow: none; background: rgb(16, 16, 26);\">2-6,4-8</code>) do overlap:</p>\n",
    "<ul style=\"border-color: rgb(204, 204, 204); color: rgb(204, 204, 204); text-shadow: none;\">\n",
    "<li style=\"border-color: rgb(204, 204, 204); color: rgb(204, 204, 204); text-shadow: none;\"><code style=\"border: 1px solid rgb(51, 51, 64); color: rgb(204, 204, 204); text-shadow: none; background: rgb(16, 16, 26);\">5-7,7-9</code> overlaps in a single section, <code style=\"border: 1px solid rgb(51, 51, 64); color: rgb(204, 204, 204); text-shadow: none; background: rgb(16, 16, 26);\">7</code>.</li>\n",
    "<li style=\"border-color: rgb(204, 204, 204); color: rgb(204, 204, 204); text-shadow: none;\"><code style=\"border: 1px solid rgb(51, 51, 64); color: rgb(204, 204, 204); text-shadow: none; background: rgb(16, 16, 26);\">2-8,3-7</code> overlaps all of the sections <code style=\"border: 1px solid rgb(51, 51, 64); color: rgb(204, 204, 204); text-shadow: none; background: rgb(16, 16, 26);\">3</code> through <code style=\"border: 1px solid rgb(51, 51, 64); color: rgb(204, 204, 204); text-shadow: none; background: rgb(16, 16, 26);\">7</code>.</li>\n",
    "<li style=\"border-color: rgb(204, 204, 204); color: rgb(204, 204, 204); text-shadow: none;\"><code style=\"border: 1px solid rgb(51, 51, 64); color: rgb(204, 204, 204); text-shadow: none; background: rgb(16, 16, 26);\">6-6,4-6</code> overlaps in a single section, <code style=\"border: 1px solid rgb(51, 51, 64); color: rgb(204, 204, 204); text-shadow: none; background: rgb(16, 16, 26);\">6</code>.</li>\n",
    "<li style=\"border-color: rgb(204, 204, 204); color: rgb(204, 204, 204); text-shadow: none;\"><code style=\"border: 1px solid rgb(51, 51, 64); color: rgb(204, 204, 204); text-shadow: none; background: rgb(16, 16, 26);\">2-6,4-8</code> overlaps in sections <code style=\"border: 1px solid rgb(51, 51, 64); color: rgb(204, 204, 204); text-shadow: none; background: rgb(16, 16, 26);\">4</code>, <code style=\"border: 1px solid rgb(51, 51, 64); color: rgb(204, 204, 204); text-shadow: none; background: rgb(16, 16, 26);\">5</code>, and <code style=\"border: 1px solid rgb(51, 51, 64); color: rgb(204, 204, 204); text-shadow: none; background: rgb(16, 16, 26);\">6</code>.</li>\n",
    "</ul>\n",
    "<p style=\"border-color: rgb(204, 204, 204); color: rgb(204, 204, 204); text-shadow: none;\">So, in this example, the number of overlapping assignment pairs is <code style=\"border: 1px solid rgb(51, 51, 64); color: rgb(204, 204, 204); text-shadow: none; background: rgb(16, 16, 26);\"><em style=\"border-color: rgb(255, 255, 255); color: rgb(255, 255, 255); text-shadow: rgb(255, 255, 255) 0px 0px 5px;\">4</em></code>.</p>\n",
    "<p style=\"border-color: rgb(204, 204, 204); color: rgb(204, 204, 204); text-shadow: none;\"><em style=\"border-color: rgb(255, 255, 255); color: rgb(255, 255, 255); text-shadow: rgb(255, 255, 255) 0px 0px 5px;\">In how many assignment pairs do the ranges overlap?</em></p>\n",
    "</div>"
   ]
  },
  {
   "cell_type": "code",
   "execution_count": 4,
   "id": "c7118f76-b6c1-4a37-9323-fef21a252d65",
   "metadata": {},
   "outputs": [
    {
     "data": {
      "text/plain": [
       "938"
      ]
     },
     "execution_count": 4,
     "metadata": {},
     "output_type": "execute_result"
    }
   ],
   "source": [
    "sum(1 for left, right in pairs if left[1] >= right[0])"
   ]
  }
 ],
 "metadata": {
  "kernelspec": {
   "display_name": "Python 3 (ipykernel)",
   "language": "python",
   "name": "python3"
  },
  "language_info": {
   "codemirror_mode": {
    "name": "ipython",
    "version": 3
   },
   "file_extension": ".py",
   "mimetype": "text/x-python",
   "name": "python",
   "nbconvert_exporter": "python",
   "pygments_lexer": "ipython3",
   "version": "3.10.6"
  }
 },
 "nbformat": 4,
 "nbformat_minor": 5
}
