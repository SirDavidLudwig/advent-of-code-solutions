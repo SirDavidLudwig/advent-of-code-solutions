{
 "cells": [
  {
   "cell_type": "markdown",
   "id": "183428bd-0a25-4f76-b628-6987d8b93464",
   "metadata": {},
   "source": [
    "<h2>--- Day 2: Rock Paper Scissors ---</h2><p>The Elves begin to set up camp on the beach. To decide whose tent gets to be closest to the snack storage, a giant <a href=\"https://en.wikipedia.org/wiki/Rock_paper_scissors\" target=\"_blank\">Rock Paper Scissors</a> tournament is already in progress.</p>\n",
    "<p>Rock Paper Scissors is a game between two players. Each game contains many rounds; in each round, the players each simultaneously choose one of Rock, Paper, or Scissors using a hand shape. Then, a winner for that round is selected: Rock defeats Scissors, Scissors defeats Paper, and Paper defeats Rock. If both players choose the same shape, the round instead ends in a draw.</p>\n",
    "<p>Appreciative of your help yesterday, one Elf gives you an <em style=\"color: #fff; text-shadow: 0 0 5px #fff;\">encrypted strategy guide</em> (your puzzle input) that they say will be sure to help you win. \"The first column is what your opponent is going to play: <code>A</code> for Rock, <code>B</code> for Paper, and <code>C</code> for Scissors. The second column--\" Suddenly, the Elf is called away to help with someone's tent.</p>\n",
    "<p>The second column, <span title=\"Why do you keep guessing?!\">you reason</span>, must be what you should play in response: <code>X</code> for Rock, <code>Y</code> for Paper, and <code>Z</code> for Scissors. Winning every time would be suspicious, so the responses must have been carefully chosen.</p>\n",
    "<p>The winner of the whole tournament is the player with the highest score. Your <em style=\"color: #fff; text-shadow: 0 0 5px #fff;\">total score</em> is the sum of your scores for each round. The score for a single round is the score for the <em style=\"color: #fff; text-shadow: 0 0 5px #fff;\">shape you selected</em> (1 for Rock, 2 for Paper, and 3 for Scissors) plus the score for the <em style=\"color: #fff; text-shadow: 0 0 5px #fff;\">outcome of the round</em> (0 if you lost, 3 if the round was a draw, and 6 if you won).</p>\n",
    "<p>Since you can't be sure if the Elf is trying to help you or trick you, you should calculate the score you would get if you were to follow the strategy guide.</p>\n",
    "<p>For example, suppose you were given the following strategy guide:</p>\n",
    "<pre style=\"display: inline-block; border: 1px solid #ccc;\"><code>A Y\n",
    "B X\n",
    "C Z\n",
    "</code></pre>\n",
    "<p>This strategy guide predicts and recommends the following:</p>\n",
    "<ul>\n",
    "<li>In the first round, your opponent will choose Rock (<code>A</code>), and you should choose Paper (<code>Y</code>). This ends in a win for you with a score of <em style=\"color: #fff; text-shadow: 0 0 5px #fff;\">8</em> (2 because you chose Paper + 6 because you won).</li>\n",
    "<li>In the second round, your opponent will choose Paper (<code>B</code>), and you should choose Rock (<code>X</code>). This ends in a loss for you with a score of <em style=\"color: #fff; text-shadow: 0 0 5px #fff;\">1</em> (1 + 0).</li>\n",
    "<li>The third round is a draw with both players choosing Scissors, giving you a score of 3 + 3 = <em style=\"color: #fff; text-shadow: 0 0 5px #fff;\">6</em>.</li>\n",
    "</ul>\n",
    "<p>In this example, if you were to follow the strategy guide, you would get a total score of <code><em style=\"color: #fff; text-shadow: 0 0 5px #fff;\">15</em></code> (8 + 1 + 6).</p>\n",
    "<p><em style=\"color: #fff; text-shadow: 0 0 5px #fff;\">What would your total score be if everything goes exactly according to your strategy guide?</em></p>\n"
   ]
  },
  {
   "cell_type": "code",
   "execution_count": 1,
   "id": "e914ebe7-0652-4e78-8705-c397912cc169",
   "metadata": {},
   "outputs": [],
   "source": [
    "import numpy as np"
   ]
  },
  {
   "cell_type": "code",
   "execution_count": 2,
   "id": "1f93d497-c0c6-4b07-af37-a37b108c17b4",
   "metadata": {},
   "outputs": [
    {
     "data": {
      "text/plain": [
       "(2500, 2)"
      ]
     },
     "execution_count": 2,
     "metadata": {},
     "output_type": "execute_result"
    }
   ],
   "source": [
    "A, X = ord('A'), ord('X')\n",
    "with open(\"./puzzle_inputs/02.txt\") as f:\n",
    "    moves = np.array([[ord(line[0]) - A, ord(line[2]) - X] for line in f])\n",
    "moves.shape"
   ]
  },
  {
   "cell_type": "code",
   "execution_count": 3,
   "id": "aff03131-1fbd-4f27-b6ff-20ec37931069",
   "metadata": {},
   "outputs": [],
   "source": [
    "def score_round(a, b):\n",
    "    # score = b + 1\n",
    "    # if a == b: # draw\n",
    "    #     score += 3\n",
    "    # elif ((a + 1) % 3) == b:\n",
    "    #     score += 6\n",
    "    # return score\n",
    "    return (1 + b) + (3*(a == b) or 6*(((a + 1) % 3) == b))"
   ]
  },
  {
   "cell_type": "code",
   "execution_count": 4,
   "id": "2283761d-993d-432f-bdef-57892bbc7e9a",
   "metadata": {},
   "outputs": [],
   "source": [
    "def score(moves):\n",
    "    return sum(score_round(*m) for m in moves)"
   ]
  },
  {
   "cell_type": "code",
   "execution_count": 5,
   "id": "867c9b82-01ec-4250-abcf-9fde60c6f797",
   "metadata": {},
   "outputs": [
    {
     "data": {
      "text/plain": [
       "13682"
      ]
     },
     "execution_count": 5,
     "metadata": {},
     "output_type": "execute_result"
    }
   ],
   "source": [
    "score(moves)"
   ]
  },
  {
   "cell_type": "markdown",
   "id": "edf05984-e47e-407f-99d1-b6dc6565feab",
   "metadata": {},
   "source": [
    "---\n",
    "<h2 id=\"part2\">--- Part Two ---</h2><p>The Elf finishes helping with the tent and sneaks back over to you. \"Anyway, the second column says how the round needs to end: <code>X</code> means you need to lose, <code>Y</code> means you need to end the round in a draw, and <code>Z</code> means you need to win. Good luck!\"</p>\n",
    "<p>The total score is still calculated in the same way, but now you need to figure out what shape to choose so the round ends as indicated. The example above now goes like this:</p>\n",
    "<ul>\n",
    "<li>In the first round, your opponent will choose Rock (<code>A</code>), and you need the round to end in a draw (<code>Y</code>), so you also choose Rock. This gives you a score of 1 + 3 = <em style=\"color: #fff; text-shadow: 0 0 5px #fff;\">4</em>.</li>\n",
    "<li>In the second round, your opponent will choose Paper (<code>B</code>), and you choose Rock so you lose (<code>X</code>) with a score of 1 + 0 = <em style=\"color: #fff; text-shadow: 0 0 5px #fff;\">1</em>.</li>\n",
    "<li>In the third round, you will defeat your opponent's Scissors with Rock for a score of 1 + 6 = <em style=\"color: #fff; text-shadow: 0 0 5px #fff;\">7</em>.</li>\n",
    "</ul>\n",
    "<p>Now that you're correctly decrypting the ultra top secret strategy guide, you would get a total score of <code><em style=\"color: #fff; text-shadow: 0 0 5px #fff;\">12</em></code>.</p>\n",
    "<p>Following the Elf's instructions for the second column, <em style=\"color: #fff; text-shadow: 0 0 5px #fff;\">what would your total score be if everything goes exactly according to your strategy guide?</em></p>\n"
   ]
  },
  {
   "cell_type": "code",
   "execution_count": 6,
   "id": "c32deaae-cf5c-4680-8ce7-7e68544bed09",
   "metadata": {},
   "outputs": [
    {
     "data": {
      "text/plain": [
       "(2500,)"
      ]
     },
     "execution_count": 6,
     "metadata": {},
     "output_type": "execute_result"
    }
   ],
   "source": [
    "required_moves = (moves[:,0] + (moves[:,1] - 1)) % 3\n",
    "required_moves.shape"
   ]
  },
  {
   "cell_type": "code",
   "execution_count": 7,
   "id": "f2a238d5-7602-4805-a5ec-24d76710efd6",
   "metadata": {},
   "outputs": [
    {
     "data": {
      "text/plain": [
       "(2500, 2)"
      ]
     },
     "execution_count": 7,
     "metadata": {},
     "output_type": "execute_result"
    }
   ],
   "source": [
    "new_moves = np.stack((moves[:,0], required_moves), axis=1)\n",
    "new_moves.shape"
   ]
  },
  {
   "cell_type": "code",
   "execution_count": 8,
   "id": "ae27c060-7c12-4740-acc7-5b6c6f115c9d",
   "metadata": {},
   "outputs": [
    {
     "data": {
      "text/plain": [
       "12881"
      ]
     },
     "execution_count": 8,
     "metadata": {},
     "output_type": "execute_result"
    }
   ],
   "source": [
    "score(new_moves)"
   ]
  }
 ],
 "metadata": {
  "kernelspec": {
   "display_name": "Python 3 (ipykernel)",
   "language": "python",
   "name": "python3"
  },
  "language_info": {
   "codemirror_mode": {
    "name": "ipython",
    "version": 3
   },
   "file_extension": ".py",
   "mimetype": "text/x-python",
   "name": "python",
   "nbconvert_exporter": "python",
   "pygments_lexer": "ipython3",
   "version": "3.10.6"
  }
 },
 "nbformat": 4,
 "nbformat_minor": 5
}
