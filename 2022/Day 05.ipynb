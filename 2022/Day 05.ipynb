{
 "cells": [
  {
   "cell_type": "markdown",
   "id": "a665184b-1280-4dce-81d3-3da7e2db5507",
   "metadata": {},
   "source": [
    "<div style=\"background-color: rgb(15, 15, 35); border: 1px solid rgb(255, 255, 255); color: rgb(204, 204, 204); font-family: monospace; margin-left: -5px; margin-right: -20px; padding: 1rem;\"><h2 style=\"border-color: rgb(255, 255, 255); color: rgb(255, 255, 255);\">--- Day 5: Supply Stacks ---</h2><p style=\"border-color: rgb(204, 204, 204); color: rgb(204, 204, 204);\">The expedition can depart as soon as the final supplies have been unloaded from the ships. Supplies are stored in stacks of marked <em style=\"border-color: rgb(255, 255, 255); color: rgb(255, 255, 255); text-shadow: rgb(255, 255, 255) 0px 0px 5px;\">crates</em>, but because the needed supplies are buried under many other crates, the crates need to be rearranged.</p>\n",
    "<p style=\"border-color: rgb(204, 204, 204); color: rgb(204, 204, 204);\">The ship has a <em style=\"border-color: rgb(255, 255, 255); color: rgb(255, 255, 255); text-shadow: rgb(255, 255, 255) 0px 0px 5px;\">giant cargo crane</em> capable of moving crates between stacks. To ensure none of the crates get crushed or fall over, the crane operator will rearrange them in a series of carefully-planned steps. After the crates are rearranged, the desired crates will be at the top of each stack.</p>\n",
    "<p style=\"border-color: rgb(204, 204, 204); color: rgb(204, 204, 204);\">The Elves don't want to interrupt the crane operator during this delicate procedure, but they forgot to ask her <em style=\"border-color: rgb(255, 255, 255); color: rgb(255, 255, 255); text-shadow: rgb(255, 255, 255) 0px 0px 5px;\">which</em> crate will end up where, and they want to be ready to unload them as soon as possible so they can embark.</p>\n",
    "<p style=\"border-color: rgb(204, 204, 204); color: rgb(204, 204, 204);\">They do, however, have a drawing of the starting stacks of crates <em style=\"border-color: rgb(255, 255, 255); color: rgb(255, 255, 255); text-shadow: rgb(255, 255, 255) 0px 0px 5px;\">and</em> the rearrangement procedure (your puzzle input). For example:</p>\n",
    "<pre style=\"border: 1px solid rgb(51, 51, 64); color: rgb(204, 204, 204); display: inline-block;\"><code style=\"border-color: rgb(204, 204, 204); color: rgb(204, 204, 204);\">    [D]    \n",
    "[N] [C]    \n",
    "[Z] [M] [P]\n",
    " 1   2   3 \n",
    "\n",
    "move 1 from 2 to 1\n",
    "move 3 from 1 to 3\n",
    "move 2 from 2 to 1\n",
    "move 1 from 1 to 2\n",
    "</code></pre>\n",
    "<p style=\"border-color: rgb(204, 204, 204); color: rgb(204, 204, 204);\">In this example, there are three stacks of crates. Stack 1 contains two crates: crate <code style=\"border: 1px solid rgb(51, 51, 64); color: rgb(204, 204, 204); background: rgb(16, 16, 26);\">Z</code> is on the bottom, and crate <code style=\"border: 1px solid rgb(51, 51, 64); color: rgb(204, 204, 204); background: rgb(16, 16, 26);\">N</code> is on top. Stack 2 contains three crates; from bottom to top, they are crates <code style=\"border: 1px solid rgb(51, 51, 64); color: rgb(204, 204, 204); background: rgb(16, 16, 26);\">M</code>, <code style=\"border: 1px solid rgb(51, 51, 64); color: rgb(204, 204, 204); background: rgb(16, 16, 26);\">C</code>, and <code style=\"border: 1px solid rgb(51, 51, 64); color: rgb(204, 204, 204); background: rgb(16, 16, 26);\">D</code>. Finally, stack 3 contains a single crate, <code style=\"border: 1px solid rgb(51, 51, 64); color: rgb(204, 204, 204); background: rgb(16, 16, 26);\">P</code>.</p>\n",
    "<p style=\"border-color: rgb(204, 204, 204); color: rgb(204, 204, 204);\">Then, the rearrangement procedure is given. In each step of the procedure, a quantity of crates is moved from one stack to a different stack. In the first step of the above rearrangement procedure, one crate is moved from stack 2 to stack 1, resulting in this configuration:</p>\n",
    "<pre style=\"border: 1px solid rgb(51, 51, 64); color: rgb(204, 204, 204); display: inline-block;\"><code style=\"border-color: rgb(204, 204, 204); color: rgb(204, 204, 204);\">[D]        \n",
    "[N] [C]    \n",
    "[Z] [M] [P]\n",
    " 1   2   3 \n",
    "</code></pre>\n",
    "<p style=\"border-color: rgb(204, 204, 204); color: rgb(204, 204, 204);\">In the second step, three crates are moved from stack 1 to stack 3. Crates are moved <em style=\"border-color: rgb(255, 255, 255); color: rgb(255, 255, 255); text-shadow: rgb(255, 255, 255) 0px 0px 5px;\">one at a time</em>, so the first crate to be moved (<code style=\"border: 1px solid rgb(51, 51, 64); color: rgb(204, 204, 204); background: rgb(16, 16, 26);\">D</code>) ends up below the second and third crates:</p>\n",
    "<pre style=\"border: 1px solid rgb(51, 51, 64); color: rgb(204, 204, 204); display: inline-block;\"><code style=\"border-color: rgb(204, 204, 204); color: rgb(204, 204, 204);\">        [Z]\n",
    "        [N]\n",
    "    [C] [D]\n",
    "    [M] [P]\n",
    " 1   2   3\n",
    "</code></pre>\n",
    "<p style=\"border-color: rgb(204, 204, 204); color: rgb(204, 204, 204);\">Then, both crates are moved from stack 2 to stack 1. Again, because crates are moved <em style=\"border-color: rgb(255, 255, 255); color: rgb(255, 255, 255); text-shadow: rgb(255, 255, 255) 0px 0px 5px;\">one at a time</em>, crate <code style=\"border: 1px solid rgb(51, 51, 64); color: rgb(204, 204, 204); background: rgb(16, 16, 26);\">C</code> ends up below crate <code style=\"border: 1px solid rgb(51, 51, 64); color: rgb(204, 204, 204); background: rgb(16, 16, 26);\">M</code>:</p>\n",
    "<pre style=\"border: 1px solid rgb(51, 51, 64); color: rgb(204, 204, 204); display: inline-block;\"><code style=\"border-color: rgb(204, 204, 204); color: rgb(204, 204, 204);\">        [Z]\n",
    "        [N]\n",
    "[M]     [D]\n",
    "[C]     [P]\n",
    " 1   2   3\n",
    "</code></pre>\n",
    "<p style=\"border-color: rgb(204, 204, 204); color: rgb(204, 204, 204);\">Finally, one crate is moved from stack 1 to stack 2:</p>\n",
    "<pre style=\"border: 1px solid rgb(51, 51, 64); color: rgb(204, 204, 204); display: inline-block;\"><code style=\"border-color: rgb(204, 204, 204); color: rgb(204, 204, 204);\">        [<em style=\"border-color: rgb(255, 255, 255); color: rgb(255, 255, 255); text-shadow: rgb(255, 255, 255) 0px 0px 5px;\">Z</em>]\n",
    "        [N]\n",
    "        [D]\n",
    "[<em style=\"border-color: rgb(255, 255, 255); color: rgb(255, 255, 255); text-shadow: rgb(255, 255, 255) 0px 0px 5px;\">C</em>] [<em style=\"border-color: rgb(255, 255, 255); color: rgb(255, 255, 255); text-shadow: rgb(255, 255, 255) 0px 0px 5px;\">M</em>] [P]\n",
    " 1   2   3\n",
    "</code></pre>\n",
    "<p style=\"border-color: rgb(204, 204, 204); color: rgb(204, 204, 204);\">The Elves just need to know <em style=\"border-color: rgb(255, 255, 255); color: rgb(255, 255, 255); text-shadow: rgb(255, 255, 255) 0px 0px 5px;\">which crate will end up on top of each stack</em>; in this example, the top crates are <code style=\"border: 1px solid rgb(51, 51, 64); color: rgb(204, 204, 204); background: rgb(16, 16, 26);\">C</code> in stack 1, <code style=\"border: 1px solid rgb(51, 51, 64); color: rgb(204, 204, 204); background: rgb(16, 16, 26);\">M</code> in stack 2, and <code style=\"border: 1px solid rgb(51, 51, 64); color: rgb(204, 204, 204); background: rgb(16, 16, 26);\">Z</code> in stack 3, so you should combine these together and give the Elves the message <code style=\"border: 1px solid rgb(51, 51, 64); color: rgb(204, 204, 204); background: rgb(16, 16, 26);\"><em style=\"border-color: rgb(255, 255, 255); color: rgb(255, 255, 255); text-shadow: rgb(255, 255, 255) 0px 0px 5px;\">CMZ</em></code>.</p>\n",
    "<p style=\"border-color: rgb(204, 204, 204); color: rgb(204, 204, 204);\"><em style=\"border-color: rgb(255, 255, 255); color: rgb(255, 255, 255); text-shadow: rgb(255, 255, 255) 0px 0px 5px;\">After the rearrangement procedure completes, what crate ends up on top of each stack?</em></p>\n",
    "</div>"
   ]
  },
  {
   "cell_type": "code",
   "execution_count": 1,
   "id": "064b378c-39b2-4ed8-915e-8e90555fc899",
   "metadata": {},
   "outputs": [],
   "source": [
    "import numpy as np\n",
    "import re"
   ]
  },
  {
   "cell_type": "code",
   "execution_count": 2,
   "id": "7bb99a40-1ed2-4294-abc8-653a56cdbab3",
   "metadata": {},
   "outputs": [],
   "source": [
    "with open(\"./puzzle_inputs/05.txt\") as f:\n",
    "    crate_part, move_part = f.read().split('\\n\\n')\n",
    "    moves = move_part.strip().split('\\n')\n",
    "    crates = np.array([[c for c in r[1::4]] for r in crate_part.split('\\n')[:-1]])\n",
    "    stacks = [''.join(reversed(r)).strip() for r in crates.T]"
   ]
  },
  {
   "cell_type": "code",
   "execution_count": 3,
   "id": "55c3f87a-fd2b-49fe-9ce6-ba805b179bd0",
   "metadata": {},
   "outputs": [],
   "source": [
    "moved_stacks = stacks.copy()\n",
    "for move in moves:\n",
    "    n, from_i, to_i = map(int, re.findall(r\"\\d+\", move))\n",
    "    moved_stacks[to_i - 1] += moved_stacks[from_i - 1][-n:][::-1]\n",
    "    moved_stacks[from_i - 1] = moved_stacks[from_i - 1][:-n]"
   ]
  },
  {
   "cell_type": "code",
   "execution_count": 4,
   "id": "2daa1d28-f258-4007-9c7d-48827d7ead23",
   "metadata": {},
   "outputs": [
    {
     "data": {
      "text/plain": [
       "'MQTPGLLDN'"
      ]
     },
     "execution_count": 4,
     "metadata": {},
     "output_type": "execute_result"
    }
   ],
   "source": [
    "''.join([stack[-1] for stack in moved_stacks])"
   ]
  },
  {
   "cell_type": "markdown",
   "id": "86ae09f9-873e-461b-9d69-efc8cc028bfa",
   "metadata": {},
   "source": [
    "<div style=\"background-color: rgb(15, 15, 35); border: 1px solid rgb(255, 255, 255); color: rgb(204, 204, 204); font-family: monospace; margin-left: -5px; margin-right: -20px; padding: 1rem;\"><h2 id=\"part2\" style=\"border-color: rgb(255, 255, 255); color: rgb(255, 255, 255);\">--- Part Two ---</h2><p style=\"border-color: rgb(204, 204, 204); color: rgb(204, 204, 204);\">As you watch the crane operator expertly rearrange the crates, you notice the process isn't following your prediction.</p>\n",
    "<p style=\"border-color: rgb(204, 204, 204); color: rgb(204, 204, 204);\">Some mud was covering the writing on the side of the crane, and you quickly wipe it away. The crane isn't a CrateMover 9000 - it's a <em style=\"border-color: rgb(255, 255, 255); color: rgb(255, 255, 255); text-shadow: rgb(255, 255, 255) 0px 0px 5px;\"><span title=\"It's way better than the old CrateMover 1006.\" style=\"border-color: rgb(255, 255, 255); color: rgb(255, 255, 255); text-shadow: rgb(255, 255, 255) 0px 0px 5px;\">CrateMover 9001</span></em>.</p>\n",
    "<p style=\"border-color: rgb(204, 204, 204); color: rgb(204, 204, 204);\">The CrateMover 9001 is notable for many new and exciting features: air conditioning, leather seats, an extra cup holder, and <em style=\"border-color: rgb(255, 255, 255); color: rgb(255, 255, 255); text-shadow: rgb(255, 255, 255) 0px 0px 5px;\">the ability to pick up and move multiple crates at once</em>.</p>\n",
    "<p style=\"border-color: rgb(204, 204, 204); color: rgb(204, 204, 204);\">Again considering the example above, the crates begin in the same configuration:</p>\n",
    "<pre style=\"border: 1px solid rgb(51, 51, 64); color: rgb(204, 204, 204); display: inline-block;\"><code style=\"border-color: rgb(204, 204, 204); color: rgb(204, 204, 204);\">    [D]    \n",
    "[N] [C]    \n",
    "[Z] [M] [P]\n",
    " 1   2   3 \n",
    "</code></pre>\n",
    "<p style=\"border-color: rgb(204, 204, 204); color: rgb(204, 204, 204);\">Moving a single crate from stack 2 to stack 1 behaves the same as before:</p>\n",
    "<pre style=\"border: 1px solid rgb(51, 51, 64); color: rgb(204, 204, 204); display: inline-block;\"><code style=\"border-color: rgb(204, 204, 204); color: rgb(204, 204, 204);\">[D]        \n",
    "[N] [C]    \n",
    "[Z] [M] [P]\n",
    " 1   2   3 \n",
    "</code></pre>\n",
    "<p style=\"border-color: rgb(204, 204, 204); color: rgb(204, 204, 204);\">However, the action of moving three crates from stack 1 to stack 3 means that those three moved crates <em style=\"border-color: rgb(255, 255, 255); color: rgb(255, 255, 255); text-shadow: rgb(255, 255, 255) 0px 0px 5px;\">stay in the same order</em>, resulting in this new configuration:</p>\n",
    "<pre style=\"border: 1px solid rgb(51, 51, 64); color: rgb(204, 204, 204); display: inline-block;\"><code style=\"border-color: rgb(204, 204, 204); color: rgb(204, 204, 204);\">        [D]\n",
    "        [N]\n",
    "    [C] [Z]\n",
    "    [M] [P]\n",
    " 1   2   3\n",
    "</code></pre>\n",
    "<p style=\"border-color: rgb(204, 204, 204); color: rgb(204, 204, 204);\">Next, as both crates are moved from stack 2 to stack 1, they <em style=\"border-color: rgb(255, 255, 255); color: rgb(255, 255, 255); text-shadow: rgb(255, 255, 255) 0px 0px 5px;\">retain their order</em> as well:</p>\n",
    "<pre style=\"border: 1px solid rgb(51, 51, 64); color: rgb(204, 204, 204); display: inline-block;\"><code style=\"border-color: rgb(204, 204, 204); color: rgb(204, 204, 204);\">        [D]\n",
    "        [N]\n",
    "[C]     [Z]\n",
    "[M]     [P]\n",
    " 1   2   3\n",
    "</code></pre>\n",
    "<p style=\"border-color: rgb(204, 204, 204); color: rgb(204, 204, 204);\">Finally, a single crate is still moved from stack 1 to stack 2, but now it's crate <code style=\"border: 1px solid rgb(51, 51, 64); color: rgb(204, 204, 204); background: rgb(16, 16, 26);\">C</code> that gets moved:</p>\n",
    "<pre style=\"border: 1px solid rgb(51, 51, 64); color: rgb(204, 204, 204); display: inline-block;\"><code style=\"border-color: rgb(204, 204, 204); color: rgb(204, 204, 204);\">        [<em style=\"border-color: rgb(255, 255, 255); color: rgb(255, 255, 255); text-shadow: rgb(255, 255, 255) 0px 0px 5px;\">D</em>]\n",
    "        [N]\n",
    "        [Z]\n",
    "[<em style=\"border-color: rgb(255, 255, 255); color: rgb(255, 255, 255); text-shadow: rgb(255, 255, 255) 0px 0px 5px;\">M</em>] [<em style=\"border-color: rgb(255, 255, 255); color: rgb(255, 255, 255); text-shadow: rgb(255, 255, 255) 0px 0px 5px;\">C</em>] [P]\n",
    " 1   2   3\n",
    "</code></pre>\n",
    "<p style=\"border-color: rgb(204, 204, 204); color: rgb(204, 204, 204);\">In this example, the CrateMover 9001 has put the crates in a totally different order: <code style=\"border: 1px solid rgb(51, 51, 64); color: rgb(204, 204, 204); background: rgb(16, 16, 26);\"><em style=\"border-color: rgb(255, 255, 255); color: rgb(255, 255, 255); text-shadow: rgb(255, 255, 255) 0px 0px 5px;\">MCD</em></code>.</p>\n",
    "<p style=\"border-color: rgb(204, 204, 204); color: rgb(204, 204, 204);\">Before the rearrangement process finishes, update your simulation so that the Elves know where they should stand to be ready to unload the final supplies. <em style=\"border-color: rgb(255, 255, 255); color: rgb(255, 255, 255); text-shadow: rgb(255, 255, 255) 0px 0px 5px;\">After the rearrangement procedure completes, what crate ends up on top of each stack?</em></p>\n",
    "</div>"
   ]
  },
  {
   "cell_type": "code",
   "execution_count": 5,
   "id": "ea09d5b7-b61a-4cd6-aa64-3b5857d6f4f5",
   "metadata": {},
   "outputs": [],
   "source": [
    "moved_stacks = stacks.copy()\n",
    "for move in moves:\n",
    "    n, from_i, to_i = map(int, re.findall(r\"\\d+\", move))\n",
    "    moved_stacks[to_i - 1] += moved_stacks[from_i - 1][-n:]\n",
    "    moved_stacks[from_i - 1] = moved_stacks[from_i - 1][:-n]"
   ]
  },
  {
   "cell_type": "code",
   "execution_count": 6,
   "id": "6fe9f892-dadf-4a58-b6e8-9a9719258094",
   "metadata": {},
   "outputs": [
    {
     "data": {
      "text/plain": [
       "'LVZPSTTCZ'"
      ]
     },
     "execution_count": 6,
     "metadata": {},
     "output_type": "execute_result"
    }
   ],
   "source": [
    "''.join([stack[-1] for stack in moved_stacks])"
   ]
  }
 ],
 "metadata": {
  "kernelspec": {
   "display_name": "Python 3 (ipykernel)",
   "language": "python",
   "name": "python3"
  },
  "language_info": {
   "codemirror_mode": {
    "name": "ipython",
    "version": 3
   },
   "file_extension": ".py",
   "mimetype": "text/x-python",
   "name": "python",
   "nbconvert_exporter": "python",
   "pygments_lexer": "ipython3",
   "version": "3.10.6"
  }
 },
 "nbformat": 4,
 "nbformat_minor": 5
}
