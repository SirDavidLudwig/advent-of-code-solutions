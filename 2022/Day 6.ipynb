{
 "cells": [
  {
   "cell_type": "markdown",
   "id": "79f41678-7e9b-4c6e-a995-85a319396158",
   "metadata": {},
   "source": [
    "<h2>--- Day 6: Tuning Trouble ---</h2><p>The preparations are finally complete; you and the Elves leave camp on foot and begin to make your way toward the <em style=\"color: #ffff66; text-shadow: 0 0 5px #ffff66\">star</em> fruit grove.</p>\n",
    "<p>As you move through the dense undergrowth, one of the Elves gives you a handheld <em style=\"color: #fff; text-shadow: 0 0 5px #fff;\">device</em>. He says that it has many fancy features, but the most important one to set up right now is the <em style=\"color: #fff; text-shadow: 0 0 5px #fff;\">communication system</em>.</p>\n",
    "<p>However, because he's heard you have <a href=\"/2016/day/6\">significant</a> <a href=\"/2016/day/25\">experience</a> <a href=\"/2019/day/7\">dealing</a> <a href=\"/2019/day/9\">with</a> <a href=\"/2019/day/16\">signal-based</a> <a href=\"/2021/day/25\">systems</a>, he convinced the other Elves that it would be okay to give you their one malfunctioning device - surely you'll have no problem fixing it.</p>\n",
    "<p>As if inspired by comedic timing, the device emits a few <span title=\"The magic smoke, on the other hand, seems to be contained... FOR NOW!\">colorful sparks</span>.</p>\n",
    "<p>To be able to communicate with the Elves, the device needs to <em style=\"color: #fff; text-shadow: 0 0 5px #fff;\">lock on to their signal</em>. The signal is a series of seemingly-random characters that the device receives one at a time.</p>\n",
    "<p>To fix the communication system, you need to add a subroutine to the device that detects a <em style=\"color: #fff; text-shadow: 0 0 5px #fff;\">start-of-packet marker</em> in the datastream. In the protocol being used by the Elves, the start of a packet is indicated by a sequence of <em style=\"color: #fff; text-shadow: 0 0 5px #fff;\">four characters that are all different</em>.</p>\n",
    "<p>The device will send your subroutine a datastream buffer (your puzzle input); your subroutine needs to identify the first position where the four most recently received characters were all different. Specifically, it needs to report the number of characters from the beginning of the buffer to the end of the first such four-character marker.</p>\n",
    "<p>For example, suppose you receive the following datastream buffer:</p>\n",
    "<pre style=\"display: inline-block; border: 1px solid #ccc;\"><code>mjqjpqmgbljsphdztnvjfqwrcgsmlb</code></pre>\n",
    "<p>After the first three characters (<code>mjq</code>) have been received, there haven't been enough characters received yet to find the marker. The first time a marker could occur is after the fourth character is received, making the most recent four characters <code>mjqj</code>. Because <code>j</code> is repeated, this isn't a marker.</p>\n",
    "<p>The first time a marker appears is after the <em style=\"color: #fff; text-shadow: 0 0 5px #fff;\">seventh</em> character arrives. Once it does, the last four characters received are <code>jpqm</code>, which are all different. In this case, your subroutine should report the value <code><em style=\"color: #fff; text-shadow: 0 0 5px #fff;\">7</em></code>, because the first start-of-packet marker is complete after 7 characters have been processed.</p>\n",
    "<p>Here are a few more examples:</p>\n",
    "<ul>\n",
    "<li><code>bvwbjplbgvbhsrlpgdmjqwftvncz</code>: first marker after character <code><em style=\"color: #fff; text-shadow: 0 0 5px #fff;\">5</em></code></li>\n",
    "<li><code>nppdvjthqldpwncqszvftbrmjlhg</code>: first marker after character <code><em style=\"color: #fff; text-shadow: 0 0 5px #fff;\">6</em></code></li>\n",
    "<li><code>nznrnfrfntjfmvfwmzdfjlvtqnbhcprsg</code>: first marker after character <code><em style=\"color: #fff; text-shadow: 0 0 5px #fff;\">10</em></code></li>\n",
    "<li><code>zcfzfwzzqfrljwzlrfnpqdbhtmscgvjw</code>: first marker after character <code><em style=\"color: #fff; text-shadow: 0 0 5px #fff;\">11</em></code></li>\n",
    "</ul>\n",
    "<p><em style=\"color: #fff; text-shadow: 0 0 5px #fff;\">How many characters need to be processed before the first start-of-packet marker is detected?</em></p>\n"
   ]
  },
  {
   "cell_type": "code",
   "execution_count": 1,
   "id": "af1a4df1-42a4-4eb6-b2a8-28f313d577d8",
   "metadata": {},
   "outputs": [],
   "source": [
    "with open(\"puzzle_input.txt\") as f:\n",
    "    signal = f.read().strip()"
   ]
  },
  {
   "cell_type": "code",
   "execution_count": 2,
   "id": "4d237416-8dc4-45e2-98ca-de84405fb918",
   "metadata": {},
   "outputs": [
    {
     "name": "stdout",
     "output_type": "stream",
     "text": [
      "1848\n"
     ]
    }
   ],
   "source": [
    "# naive solution\n",
    "for i in range(4, len(signal)):\n",
    "    if len(set([c for c in signal[i-4:i]])) == 4:\n",
    "        print(i)\n",
    "        break"
   ]
  },
  {
   "cell_type": "markdown",
   "id": "ca447fed-3c97-44c0-8fdd-9f057a361436",
   "metadata": {},
   "source": [
    "---\n",
    "<h2 id=\"part2\">--- Part Two ---</h2><p>Your device's communication system is correctly detecting packets, but still isn't working. It looks like it also needs to look for <em style=\"color: #fff; text-shadow: 0 0 5px #fff;\">messages</em>.</p>\n",
    "<p>A <em style=\"color: #fff; text-shadow: 0 0 5px #fff;\">start-of-message marker</em> is just like a start-of-packet marker, except it consists of <em style=\"color: #fff; text-shadow: 0 0 5px #fff;\">14 distinct characters</em> rather than 4.</p>\n",
    "<p>Here are the first positions of start-of-message markers for all of the above examples:</p>\n",
    "<ul>\n",
    "<li><code>mjqjpqmgbljsphdztnvjfqwrcgsmlb</code>: first marker after character <code><em style=\"color: #fff; text-shadow: 0 0 5px #fff;\">19</em></code></li>\n",
    "<li><code>bvwbjplbgvbhsrlpgdmjqwftvncz</code>: first marker after character <code><em style=\"color: #fff; text-shadow: 0 0 5px #fff;\">23</em></code></li>\n",
    "<li><code>nppdvjthqldpwncqszvftbrmjlhg</code>: first marker after character <code><em style=\"color: #fff; text-shadow: 0 0 5px #fff;\">23</em></code></li>\n",
    "<li><code>nznrnfrfntjfmvfwmzdfjlvtqnbhcprsg</code>: first marker after character <code><em style=\"color: #fff; text-shadow: 0 0 5px #fff;\">29</em></code></li>\n",
    "<li><code>zcfzfwzzqfrljwzlrfnpqdbhtmscgvjw</code>: first marker after character <code><em style=\"color: #fff; text-shadow: 0 0 5px #fff;\">26</em></code></li>\n",
    "</ul>\n",
    "<p><em style=\"color: #fff; text-shadow: 0 0 5px #fff;\">How many characters need to be processed before the first start-of-message marker is detected?</em></p>\n"
   ]
  },
  {
   "cell_type": "code",
   "execution_count": 3,
   "id": "af4f96df-3ede-430a-874f-952ef032e918",
   "metadata": {},
   "outputs": [
    {
     "name": "stdout",
     "output_type": "stream",
     "text": [
      "2308\n"
     ]
    }
   ],
   "source": [
    "n = 14\n",
    "for i in range(n, len(signal)):\n",
    "    if len(set([c for c in signal[i-n:i]])) == n:\n",
    "        print(i)\n",
    "        break"
   ]
  },
  {
   "cell_type": "markdown",
   "id": "3751b9f8-9c9b-4c20-9c6f-b84b8865bcc7",
   "metadata": {},
   "source": [
    "---\n",
    "\n",
    "## Extra\n",
    "\n",
    "An efficient implementation"
   ]
  },
  {
   "cell_type": "code",
   "execution_count": 4,
   "id": "ba1a9872-d63e-4059-82d4-d75af7b07bf7",
   "metadata": {},
   "outputs": [],
   "source": [
    "import numpy as np"
   ]
  },
  {
   "cell_type": "code",
   "execution_count": 5,
   "id": "acb3f2f1-5a2c-4388-953b-1eea17671a8e",
   "metadata": {},
   "outputs": [],
   "source": [
    "def find_start_packet(signal, n):\n",
    "    a = ord('a')\n",
    "    nonzero = 0\n",
    "    counts = np.zeros(26, dtype=int)\n",
    "    for i in range(len(signal)):\n",
    "        index = ord(signal[i]) - a\n",
    "        if counts[index] == 0:\n",
    "            nonzero += 1\n",
    "        counts[index] += 1\n",
    "        if i >= n:\n",
    "            index = ord(signal[i-n]) - a\n",
    "            counts[index] -= 1\n",
    "            if counts[index] == 0:\n",
    "                nonzero -= 1\n",
    "        if nonzero == n:\n",
    "            break\n",
    "    return i + 1"
   ]
  },
  {
   "cell_type": "code",
   "execution_count": 6,
   "id": "4be2d3ce-16c9-4dc0-b033-c3e7082b9148",
   "metadata": {},
   "outputs": [
    {
     "data": {
      "text/plain": [
       "1848"
      ]
     },
     "execution_count": 6,
     "metadata": {},
     "output_type": "execute_result"
    }
   ],
   "source": [
    "find_start_packet(signal, 4)"
   ]
  },
  {
   "cell_type": "code",
   "execution_count": 7,
   "id": "30fb3b9b-a89e-42ed-9076-50e852fb962b",
   "metadata": {},
   "outputs": [
    {
     "data": {
      "text/plain": [
       "2308"
      ]
     },
     "execution_count": 7,
     "metadata": {},
     "output_type": "execute_result"
    }
   ],
   "source": [
    "find_start_packet(signal, 14)"
   ]
  }
 ],
 "metadata": {
  "kernelspec": {
   "display_name": "Python 3 (ipykernel)",
   "language": "python",
   "name": "python3"
  },
  "language_info": {
   "codemirror_mode": {
    "name": "ipython",
    "version": 3
   },
   "file_extension": ".py",
   "mimetype": "text/x-python",
   "name": "python",
   "nbconvert_exporter": "python",
   "pygments_lexer": "ipython3",
   "version": "3.10.6"
  }
 },
 "nbformat": 4,
 "nbformat_minor": 5
}
