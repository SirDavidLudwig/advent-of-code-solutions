{
 "cells": [
  {
   "attachments": {},
   "cell_type": "markdown",
   "metadata": {},
   "source": [
    "<div style=\"background-color: rgb(15, 15, 35); border: 1px solid rgb(255, 255, 255); color: rgb(204, 204, 204); font-family: monospace; margin-left: -5px; margin-right: -20px; padding: 1rem;\"><h2 style=\"border-color: rgb(255, 255, 255); color: rgb(255, 255, 255);\">--- Day 12: Hill Climbing Algorithm ---</h2><p style=\"border-color: rgb(204, 204, 204); color: rgb(204, 204, 204);\">You try contacting the Elves using your <span title=\"When you look up the specs for your handheld device, every field just says &quot;plot&quot;.\" style=\"border-color: rgb(204, 204, 204); color: rgb(204, 204, 204);\">handheld device</span>, but the river you're following must be too low to get a decent signal.</p>\n",
    "<p style=\"border-color: rgb(204, 204, 204); color: rgb(204, 204, 204);\">You ask the device for a heightmap of the surrounding area (your puzzle input). The heightmap shows the local area from above broken into a grid; the elevation of each square of the grid is given by a single lowercase letter, where <code style=\"border: 1px solid rgb(51, 51, 64); color: rgb(204, 204, 204); background: rgb(16, 16, 26);\">a</code> is the lowest elevation, <code style=\"border: 1px solid rgb(51, 51, 64); color: rgb(204, 204, 204); background: rgb(16, 16, 26);\">b</code> is the next-lowest, and so on up to the highest elevation, <code style=\"border: 1px solid rgb(51, 51, 64); color: rgb(204, 204, 204); background: rgb(16, 16, 26);\">z</code>.</p>\n",
    "<p style=\"border-color: rgb(204, 204, 204); color: rgb(204, 204, 204);\">Also included on the heightmap are marks for your current position (<code style=\"border: 1px solid rgb(51, 51, 64); color: rgb(204, 204, 204); background: rgb(16, 16, 26);\">S</code>) and the location that should get the best signal (<code style=\"border: 1px solid rgb(51, 51, 64); color: rgb(204, 204, 204); background: rgb(16, 16, 26);\">E</code>). Your current position (<code style=\"border: 1px solid rgb(51, 51, 64); color: rgb(204, 204, 204); background: rgb(16, 16, 26);\">S</code>) has elevation <code style=\"border: 1px solid rgb(51, 51, 64); color: rgb(204, 204, 204); background: rgb(16, 16, 26);\">a</code>, and the location that should get the best signal (<code style=\"border: 1px solid rgb(51, 51, 64); color: rgb(204, 204, 204); background: rgb(16, 16, 26);\">E</code>) has elevation <code style=\"border: 1px solid rgb(51, 51, 64); color: rgb(204, 204, 204); background: rgb(16, 16, 26);\">z</code>.</p>\n",
    "<p style=\"border-color: rgb(204, 204, 204); color: rgb(204, 204, 204);\">You'd like to reach <code style=\"border: 1px solid rgb(51, 51, 64); color: rgb(204, 204, 204); background: rgb(16, 16, 26);\">E</code>, but to save energy, you should do it in <em style=\"border-color: rgb(255, 255, 255); color: rgb(255, 255, 255); text-shadow: rgb(255, 255, 255) 0px 0px 5px;\">as few steps as possible</em>. During each step, you can move exactly one square up, down, left, or right. To avoid needing to get out your climbing gear, the elevation of the destination square can be <em style=\"border-color: rgb(255, 255, 255); color: rgb(255, 255, 255); text-shadow: rgb(255, 255, 255) 0px 0px 5px;\">at most one higher</em> than the elevation of your current square; that is, if your current elevation is <code style=\"border: 1px solid rgb(51, 51, 64); color: rgb(204, 204, 204); background: rgb(16, 16, 26);\">m</code>, you could step to elevation <code style=\"border: 1px solid rgb(51, 51, 64); color: rgb(204, 204, 204); background: rgb(16, 16, 26);\">n</code>, but not to elevation <code style=\"border: 1px solid rgb(51, 51, 64); color: rgb(204, 204, 204); background: rgb(16, 16, 26);\">o</code>. (This also means that the elevation of the destination square can be much lower than the elevation of your current square.)</p>\n",
    "<p style=\"border-color: rgb(204, 204, 204); color: rgb(204, 204, 204);\">For example:</p>\n",
    "<pre style=\"border: 1px solid rgb(51, 51, 64); color: rgb(204, 204, 204); background-color: rgb(16, 16, 26); display: inline-block;\"><code style=\"border-color: rgb(204, 204, 204); color: rgb(204, 204, 204); background-color: rgb(16, 16, 26);\"><em style=\"border-color: rgb(255, 255, 255); color: rgb(255, 255, 255); text-shadow: rgb(255, 255, 255) 0px 0px 5px;\">S</em>abqponm\n",
    "abcryxxl\n",
    "accsz<em style=\"border-color: rgb(255, 255, 255); color: rgb(255, 255, 255); text-shadow: rgb(255, 255, 255) 0px 0px 5px;\">E</em>xk\n",
    "acctuvwj\n",
    "abdefghi\n",
    "</code></pre>\n",
    "<p style=\"border-color: rgb(204, 204, 204); color: rgb(204, 204, 204);\">Here, you start in the top-left corner; your goal is near the middle. You could start by moving down or right, but eventually you'll need to head toward the <code style=\"border: 1px solid rgb(51, 51, 64); color: rgb(204, 204, 204); background: rgb(16, 16, 26);\">e</code> at the bottom. From there, you can spiral around to the goal:</p>\n",
    "<pre style=\"border: 1px solid rgb(51, 51, 64); color: rgb(204, 204, 204); background-color: rgb(16, 16, 26); display: inline-block;\"><code style=\"border-color: rgb(204, 204, 204); color: rgb(204, 204, 204); background-color: rgb(16, 16, 26);\">v..v&lt;&lt;&lt;&lt;\n",
    "&gt;v.vv&lt;&lt;^\n",
    ".&gt;vv&gt;E^^\n",
    "..v&gt;&gt;&gt;^^\n",
    "..&gt;&gt;&gt;&gt;&gt;^\n",
    "</code></pre>\n",
    "<p style=\"border-color: rgb(204, 204, 204); color: rgb(204, 204, 204);\">In the above diagram, the symbols indicate whether the path exits each square moving up (<code style=\"border: 1px solid rgb(51, 51, 64); color: rgb(204, 204, 204); background: rgb(16, 16, 26);\">^</code>), down (<code style=\"border: 1px solid rgb(51, 51, 64); color: rgb(204, 204, 204); background: rgb(16, 16, 26);\">v</code>), left (<code style=\"border: 1px solid rgb(51, 51, 64); color: rgb(204, 204, 204); background: rgb(16, 16, 26);\">&lt;</code>), or right (<code style=\"border: 1px solid rgb(51, 51, 64); color: rgb(204, 204, 204); background: rgb(16, 16, 26);\">&gt;</code>). The location that should get the best signal is still <code style=\"border: 1px solid rgb(51, 51, 64); color: rgb(204, 204, 204); background: rgb(16, 16, 26);\">E</code>, and <code style=\"border: 1px solid rgb(51, 51, 64); color: rgb(204, 204, 204); background: rgb(16, 16, 26);\">.</code> marks unvisited squares.</p>\n",
    "<p style=\"border-color: rgb(204, 204, 204); color: rgb(204, 204, 204);\">This path reaches the goal in <code style=\"border: 1px solid rgb(51, 51, 64); color: rgb(204, 204, 204); background: rgb(16, 16, 26);\"><em style=\"border-color: rgb(255, 255, 255); color: rgb(255, 255, 255); text-shadow: rgb(255, 255, 255) 0px 0px 5px;\">31</em></code> steps, the fewest possible.</p>\n",
    "<p style=\"border-color: rgb(204, 204, 204); color: rgb(204, 204, 204);\"><em style=\"border-color: rgb(255, 255, 255); color: rgb(255, 255, 255); text-shadow: rgb(255, 255, 255) 0px 0px 5px;\">What is the fewest steps required to move from your current position to the location that should get the best signal?</em></p>\n",
    "</div>"
   ]
  },
  {
   "cell_type": "code",
   "execution_count": 28,
   "metadata": {},
   "outputs": [],
   "source": [
    "import numpy as np\n",
    "import heapq\n",
    "import queue"
   ]
  },
  {
   "cell_type": "code",
   "execution_count": null,
   "metadata": {},
   "outputs": [],
   "source": [
    "class HeapSet:\n",
    "\tdef __init__(self, items):\n",
    "\t\tself.heap = heapq.heapify(items.copy())\n",
    "\t\n",
    "\tdef push(self, value, cost):\n",
    "\t\tpass\n",
    "\n",
    "\tdef pop(self):\n",
    "\t\treturn heapq.heappop()"
   ]
  },
  {
   "cell_type": "code",
   "execution_count": 105,
   "metadata": {},
   "outputs": [
    {
     "name": "stdout",
     "output_type": "stream",
     "text": [
      "83 97\n"
     ]
    },
    {
     "data": {
      "text/plain": [
       "(41, 182)"
      ]
     },
     "execution_count": 105,
     "metadata": {},
     "output_type": "execute_result"
    }
   ],
   "source": [
    "with open(\"./puzzle_inputs/12.txt\") as f:\n",
    "\theightmap = np.array([[ord(c) for c in l] for l in f], dtype=np.int8)\n",
    "\tstart = np.argwhere(heightmap == ord('S'))[0]\n",
    "\tend = np.argwhere(heightmap == ord('E'))[0]\n",
    "\tprint(heightmap[tuple(start)], heightmap[0][0])\n",
    "\theightmap[tuple(start)] = ord('a')\n",
    "\theightmap[tuple(end)] = ord('z')\n",
    "\theightmap -= ord('a')\n",
    "heightmap.shape"
   ]
  },
  {
   "cell_type": "code",
   "execution_count": 132,
   "metadata": {},
   "outputs": [],
   "source": [
    "def find_shortest_paths(heightmap, end):\n",
    "\t# BFS from end to all other positions\n",
    "\tdistance_mat = np.full(heightmap.shape, np.inf)\n",
    "\tsmallest_seen = distance_mat.copy() # quick way to reduce redundancy in queue\n",
    "\tdeltas = np.array([[np.sin(x*np.pi), np.cos(x*np.pi)] for x in np.arange(0, 2, 0.5)], dtype=int)\n",
    "\tq = queue.Queue()\n",
    "\tq.put((tuple(end), 0))\n",
    "\twhile not q.empty():\n",
    "\t\tpos, step_count = q.get()\n",
    "\t\tdistance_mat[tuple(pos)] = step_count\n",
    "\t\tfor new_pos in pos + deltas:\n",
    "\t\t\tnew_pos = tuple(new_pos)\n",
    "\t\t\tif not (0 <= new_pos[0] < heightmap.shape[0] and 0 <= new_pos[1] < heightmap.shape[1]):\n",
    "\t\t\t\tcontinue\n",
    "\t\t\tif distance_mat[new_pos] != np.inf or heightmap[pos] - heightmap[new_pos] > 1:\n",
    "\t\t\t\tcontinue\n",
    "\t\t\tif smallest_seen[new_pos] > step_count + 1:\n",
    "\t\t\t\tsmallest_seen[new_pos] = step_count + 1\n",
    "\t\t\t\tq.put((new_pos, step_count + 1))\n",
    "\treturn distance_mat.astype(np.uint64)"
   ]
  },
  {
   "cell_type": "code",
   "execution_count": 133,
   "metadata": {},
   "outputs": [],
   "source": [
    "distance_mat = find_shortest_paths(heightmap, end)"
   ]
  },
  {
   "cell_type": "code",
   "execution_count": 134,
   "metadata": {},
   "outputs": [
    {
     "data": {
      "text/plain": [
       "528"
      ]
     },
     "execution_count": 134,
     "metadata": {},
     "output_type": "execute_result"
    }
   ],
   "source": [
    "distance_mat[tuple(start)]"
   ]
  },
  {
   "attachments": {},
   "cell_type": "markdown",
   "metadata": {},
   "source": [
    "<div style=\"background-color: rgb(15, 15, 35); border: 1px solid rgb(255, 255, 255); color: rgb(204, 204, 204); font-family: monospace; margin-left: -5px; margin-right: -20px; padding: 1rem;\"><h2 id=\"part2\" style=\"border-color: rgb(255, 255, 255); color: rgb(255, 255, 255);\">--- Part Two ---</h2><p style=\"border-color: rgb(204, 204, 204); color: rgb(204, 204, 204);\">As you walk up the hill, you suspect that the Elves will want to turn this into a hiking trail. The beginning isn't very scenic, though; perhaps you can find a better starting point.</p>\n",
    "<p style=\"border-color: rgb(204, 204, 204); color: rgb(204, 204, 204);\">To maximize exercise while hiking, the trail should start as low as possible: elevation <code style=\"border: 1px solid rgb(51, 51, 64); color: rgb(204, 204, 204); background: rgb(16, 16, 26);\">a</code>. The goal is still the square marked <code style=\"border: 1px solid rgb(51, 51, 64); color: rgb(204, 204, 204); background: rgb(16, 16, 26);\">E</code>. However, the trail should still be direct, taking the fewest steps to reach its goal. So, you'll need to find the shortest path from <em style=\"border-color: rgb(255, 255, 255); color: rgb(255, 255, 255); text-shadow: rgb(255, 255, 255) 0px 0px 5px;\">any square at elevation <code style=\"border: 1px solid rgb(51, 51, 64); color: rgb(255, 255, 255); text-shadow: rgb(255, 255, 255) 0px 0px 5px; background: rgb(16, 16, 26);\">a</code></em> to the square marked <code style=\"border: 1px solid rgb(51, 51, 64); color: rgb(204, 204, 204); background: rgb(16, 16, 26);\">E</code>.</p>\n",
    "<p style=\"border-color: rgb(204, 204, 204); color: rgb(204, 204, 204);\">Again consider the example from above:</p>\n",
    "<pre style=\"border: 1px solid rgb(51, 51, 64); color: rgb(204, 204, 204); background-color: rgb(16, 16, 26); display: inline-block;\"><code style=\"border-color: rgb(204, 204, 204); color: rgb(204, 204, 204); background-color: rgb(16, 16, 26);\"><em style=\"border-color: rgb(255, 255, 255); color: rgb(255, 255, 255); text-shadow: rgb(255, 255, 255) 0px 0px 5px;\">S</em>abqponm\n",
    "abcryxxl\n",
    "accsz<em style=\"border-color: rgb(255, 255, 255); color: rgb(255, 255, 255); text-shadow: rgb(255, 255, 255) 0px 0px 5px;\">E</em>xk\n",
    "acctuvwj\n",
    "abdefghi\n",
    "</code></pre>\n",
    "<p style=\"border-color: rgb(204, 204, 204); color: rgb(204, 204, 204);\">Now, there are six choices for starting position (five marked <code style=\"border: 1px solid rgb(51, 51, 64); color: rgb(204, 204, 204); background: rgb(16, 16, 26);\">a</code>, plus the square marked <code style=\"border: 1px solid rgb(51, 51, 64); color: rgb(204, 204, 204); background: rgb(16, 16, 26);\">S</code> that counts as being at elevation <code style=\"border: 1px solid rgb(51, 51, 64); color: rgb(204, 204, 204); background: rgb(16, 16, 26);\">a</code>). If you start at the bottom-left square, you can reach the goal most quickly:</p>\n",
    "<pre style=\"border: 1px solid rgb(51, 51, 64); color: rgb(204, 204, 204); background-color: rgb(16, 16, 26); display: inline-block;\"><code style=\"border-color: rgb(204, 204, 204); color: rgb(204, 204, 204); background-color: rgb(16, 16, 26);\">...v&lt;&lt;&lt;&lt;\n",
    "...vv&lt;&lt;^\n",
    "...v&gt;E^^\n",
    ".&gt;v&gt;&gt;&gt;^^\n",
    "&gt;^&gt;&gt;&gt;&gt;&gt;^\n",
    "</code></pre>\n",
    "<p style=\"border-color: rgb(204, 204, 204); color: rgb(204, 204, 204);\">This path reaches the goal in only <code style=\"border: 1px solid rgb(51, 51, 64); color: rgb(204, 204, 204); background: rgb(16, 16, 26);\"><em style=\"border-color: rgb(255, 255, 255); color: rgb(255, 255, 255); text-shadow: rgb(255, 255, 255) 0px 0px 5px;\">29</em></code> steps, the fewest possible.</p>\n",
    "<p style=\"border-color: rgb(204, 204, 204); color: rgb(204, 204, 204);\"><em style=\"border-color: rgb(255, 255, 255); color: rgb(255, 255, 255); text-shadow: rgb(255, 255, 255) 0px 0px 5px;\">What is the fewest steps required to move starting from any square with elevation <code style=\"border: 1px solid rgb(51, 51, 64); color: rgb(255, 255, 255); text-shadow: rgb(255, 255, 255) 0px 0px 5px; background: rgb(16, 16, 26);\">a</code> to the location that should get the best signal?</em></p>\n",
    "</div>"
   ]
  },
  {
   "cell_type": "code",
   "execution_count": 135,
   "metadata": {},
   "outputs": [
    {
     "data": {
      "text/plain": [
       "522"
      ]
     },
     "execution_count": 135,
     "metadata": {},
     "output_type": "execute_result"
    }
   ],
   "source": [
    "min(distance_mat[tuple(start)] for start in np.argwhere(heightmap == 0))"
   ]
  }
 ],
 "metadata": {
  "kernelspec": {
   "display_name": "Python 3",
   "language": "python",
   "name": "python3"
  },
  "language_info": {
   "codemirror_mode": {
    "name": "ipython",
    "version": 3
   },
   "file_extension": ".py",
   "mimetype": "text/x-python",
   "name": "python",
   "nbconvert_exporter": "python",
   "pygments_lexer": "ipython3",
   "version": "3.10.7"
  },
  "orig_nbformat": 4,
  "vscode": {
   "interpreter": {
    "hash": "369f2c481f4da34e4445cda3fffd2e751bd1c4d706f27375911949ba6bb62e1c"
   }
  }
 },
 "nbformat": 4,
 "nbformat_minor": 2
}
