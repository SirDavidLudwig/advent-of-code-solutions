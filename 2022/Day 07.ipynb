{
 "cells": [
  {
   "cell_type": "markdown",
   "id": "b3234603-1d1a-496d-a4e4-ffff92edd8b1",
   "metadata": {},
   "source": [
    "<h2>--- Day 7: No Space Left On Device ---</h2><p>You can hear birds chirping and raindrops hitting leaves as the expedition proceeds. Occasionally, you can even hear much louder sounds in the distance; how big do the animals get out here, anyway?</p>\n",
    "<p>The device the Elves gave you has problems with more than just its communication system. You try to run a system update:</p>\n",
    "<pre style=\"display: inline-block; border: 1px solid #ccc;\"><code>$ system-update --please --pretty-please-with-sugar-on-top\n",
    "<span title=\"E099 PROGRAMMER IS OVERLY POLITE\">Error</span>: No space left on device\n",
    "</code></pre>\n",
    "<p>Perhaps you can delete some files to make space for the update?</p>\n",
    "<p>You browse around the filesystem to assess the situation and save the resulting terminal output (your puzzle input). For example:</p>\n",
    "<pre style=\"display: inline-block; border: 1px solid #ccc;\"><code>$ cd /\n",
    "$ ls\n",
    "dir a\n",
    "14848514 b.txt\n",
    "8504156 c.dat\n",
    "dir d\n",
    "$ cd a\n",
    "$ ls\n",
    "dir e\n",
    "29116 f\n",
    "2557 g\n",
    "62596 h.lst\n",
    "$ cd e\n",
    "$ ls\n",
    "584 i\n",
    "$ cd ..\n",
    "$ cd ..\n",
    "$ cd d\n",
    "$ ls\n",
    "4060174 j\n",
    "8033020 d.log\n",
    "5626152 d.ext\n",
    "7214296 k\n",
    "</code></pre>\n",
    "<p>The filesystem consists of a tree of files (plain data) and directories (which can contain other directories or files). The outermost directory is called <code>/</code>. You can navigate around the filesystem, moving into or out of directories and listing the contents of the directory you're currently in.</p>\n",
    "<p>Within the terminal output, lines that begin with <code>$</code> are <em style=\"color: #fff; text-shadow: 0 0 5px #fff;\">commands you executed</em>, very much like some modern computers:</p>\n",
    "<ul>\n",
    "<li><code>cd</code> means <em style=\"color: #fff; text-shadow: 0 0 5px #fff;\">change directory</em>. This changes which directory is the current directory, but the specific result depends on the argument:\n",
    "  <ul>\n",
    "  <li><code>cd x</code> moves <em style=\"color: #fff; text-shadow: 0 0 5px #fff;\">in</em> one level: it looks in the current directory for the directory named <code>x</code> and makes it the current directory.</li>\n",
    "  <li><code>cd ..</code> moves <em style=\"color: #fff; text-shadow: 0 0 5px #fff;\">out</em> one level: it finds the directory that contains the current directory, then makes that directory the current directory.</li>\n",
    "  <li><code>cd /</code> switches the current directory to the outermost directory, <code>/</code>.</li>\n",
    "  </ul>\n",
    "</li>\n",
    "<li><code>ls</code> means <em style=\"color: #fff; text-shadow: 0 0 5px #fff;\">list</em>. It prints out all of the files and directories immediately contained by the current directory:\n",
    "  <ul>\n",
    "  <li><code>123 abc</code> means that the current directory contains a file named <code>abc</code> with size <code>123</code>.</li>\n",
    "  <li><code>dir xyz</code> means that the current directory contains a directory named <code>xyz</code>.</li>\n",
    "  </ul>\n",
    "</li>\n",
    "</ul>\n",
    "<p>Given the commands and output in the example above, you can determine that the filesystem looks visually like this:</p>\n",
    "<pre style=\"display: inline-block; border: 1px solid #ccc;\"><code>- / (dir)\n",
    "  - a (dir)\n",
    "    - e (dir)\n",
    "      - i (file, size=584)\n",
    "    - f (file, size=29116)\n",
    "    - g (file, size=2557)\n",
    "    - h.lst (file, size=62596)\n",
    "  - b.txt (file, size=14848514)\n",
    "  - c.dat (file, size=8504156)\n",
    "  - d (dir)\n",
    "    - j (file, size=4060174)\n",
    "    - d.log (file, size=8033020)\n",
    "    - d.ext (file, size=5626152)\n",
    "    - k (file, size=7214296)\n",
    "</code></pre>\n",
    "<p>Here, there are four directories: <code>/</code> (the outermost directory), <code>a</code> and <code>d</code> (which are in <code>/</code>), and <code>e</code> (which is in <code>a</code>). These directories also contain files of various sizes.</p>\n",
    "<p>Since the disk is full, your first step should probably be to find directories that are good candidates for deletion. To do this, you need to determine the <em style=\"color: #fff; text-shadow: 0 0 5px #fff;\">total size</em> of each directory. The total size of a directory is the sum of the sizes of the files it contains, directly or indirectly. (Directories themselves do not count as having any intrinsic size.)</p>\n",
    "<p>The total sizes of the directories above can be found as follows:</p>\n",
    "<ul>\n",
    "<li>The total size of directory <code>e</code> is <em style=\"color: #fff; text-shadow: 0 0 5px #fff;\">584</em> because it contains a single file <code>i</code> of size 584 and no other directories.</li>\n",
    "<li>The directory <code>a</code> has total size <em style=\"color: #fff; text-shadow: 0 0 5px #fff;\">94853</em> because it contains files <code>f</code> (size 29116), <code>g</code> (size 2557), and <code>h.lst</code> (size 62596), plus file <code>i</code> indirectly (<code>a</code> contains <code>e</code> which contains <code>i</code>).</li>\n",
    "<li>Directory <code>d</code> has total size <em style=\"color: #fff; text-shadow: 0 0 5px #fff;\">24933642</em>.</li>\n",
    "<li>As the outermost directory, <code>/</code> contains every file. Its total size is <em style=\"color: #fff; text-shadow: 0 0 5px #fff;\">48381165</em>, the sum of the size of every file.</li>\n",
    "</ul>\n",
    "<p>To begin, find all of the directories with a total size of <em style=\"color: #fff; text-shadow: 0 0 5px #fff;\">at most 100000</em>, then calculate the sum of their total sizes. In the example above, these directories are <code>a</code> and <code>e</code>; the sum of their total sizes is <code><em style=\"color: #fff; text-shadow: 0 0 5px #fff;\">95437</em></code> (94853 + 584). (As in this example, this process can count files more than once!)</p>\n",
    "<p>Find all of the directories with a total size of at most 100000. <em style=\"color: #fff; text-shadow: 0 0 5px #fff;\">What is the sum of the total sizes of those directories?</em></p>\n"
   ]
  },
  {
   "cell_type": "code",
   "execution_count": 195,
   "id": "87389c67-cf1c-4ef8-b426-f04b6fdf7c89",
   "metadata": {},
   "outputs": [],
   "source": [
    "import numpy as np\n",
    "import os\n",
    "import re"
   ]
  },
  {
   "cell_type": "code",
   "execution_count": 207,
   "id": "5a346ba7-9f3e-4ad8-b5f7-ac7445a83c71",
   "metadata": {},
   "outputs": [],
   "source": [
    "with open(\"./puzzle_inputs/07.txt\") as f:\n",
    "    lines = [line.rstrip() for line in f]"
   ]
  },
  {
   "cell_type": "code",
   "execution_count": 208,
   "id": "4ab94d1d-5ec5-478c-b4d9-b45138a30cf3",
   "metadata": {},
   "outputs": [],
   "source": [
    "cmd_lines = [i for i, line in enumerate(lines) if line[0] == '$']"
   ]
  },
  {
   "cell_type": "code",
   "execution_count": 209,
   "id": "268e581d-7d5b-4409-b0f3-92b2a20b85cf",
   "metadata": {},
   "outputs": [],
   "source": [
    "file_tree = {}\n",
    "current_dir = '/'\n",
    "for i in cmd_lines:\n",
    "    cmd = lines[i][2:].split(' ')\n",
    "    if cmd[0] == 'cd':\n",
    "        current_dir = os.path.abspath(os.path.join(current_dir, cmd[1]))\n",
    "    elif cmd[0] == 'ls' and current_dir:\n",
    "        if current_dir in file_tree:\n",
    "            continue\n",
    "        file_tree[current_dir] = []\n",
    "        i += 1\n",
    "        while i < len(lines) and lines[i][0] != '$':\n",
    "            size = lines[i].split()[0]\n",
    "            if size.isnumeric():\n",
    "                file_tree[current_dir].append(int(size))\n",
    "            i += 1"
   ]
  },
  {
   "cell_type": "code",
   "execution_count": 210,
   "id": "a2421504-7f0b-4124-8e34-e401ecca3917",
   "metadata": {},
   "outputs": [],
   "source": [
    "directory_sizes = {path: 0 for path in file_tree}\n",
    "for path in file_tree:\n",
    "    delta = sum(file_tree[path])\n",
    "    directory_sizes[path] += delta\n",
    "    while path != '/':\n",
    "        path = os.path.abspath(os.path.join(path, '..'))\n",
    "        directory_sizes[path] += delta"
   ]
  },
  {
   "cell_type": "code",
   "execution_count": 211,
   "id": "2c5b6e65-7eaa-4b48-9daf-2a762c53bbfc",
   "metadata": {},
   "outputs": [
    {
     "data": {
      "text/plain": [
       "1490523"
      ]
     },
     "execution_count": 211,
     "metadata": {},
     "output_type": "execute_result"
    }
   ],
   "source": [
    "sum(size for size in directory_sizes.values() if size <= 100000)"
   ]
  },
  {
   "cell_type": "markdown",
   "id": "a42abf1d-11a1-42c4-8511-62dca2950c0e",
   "metadata": {},
   "source": [
    "---\n",
    "<h2 id=\"part2\">--- Part Two ---</h2><p>Now, you're ready to choose a directory to delete.</p>\n",
    "<p>The total disk space available to the filesystem is <code><em style=\"color: #fff; text-shadow: 0 0 5px #fff;\">70000000</em></code>. To run the update, you need unused space of at least <code><em style=\"color: #fff; text-shadow: 0 0 5px #fff;\">30000000</em></code>. You need to find a directory you can delete that will <em style=\"color: #fff; text-shadow: 0 0 5px #fff;\">free up enough space</em> to run the update.</p>\n",
    "<p>In the example above, the total size of the outermost directory (and thus the total amount of used space) is <code>48381165</code>; this means that the size of the <em style=\"color: #fff; text-shadow: 0 0 5px #fff;\">unused</em> space must currently be <code>21618835</code>, which isn't quite the <code>30000000</code> required by the update. Therefore, the update still requires a directory with total size of at least <code>8381165</code> to be deleted before it can run.</p>\n",
    "<p>To achieve this, you have the following options:</p>\n",
    "<ul>\n",
    "<li>Delete directory <code>e</code>, which would increase unused space by <code>584</code>.</li>\n",
    "<li>Delete directory <code>a</code>, which would increase unused space by <code>94853</code>.</li>\n",
    "<li>Delete directory <code>d</code>, which would increase unused space by <code>24933642</code>.</li>\n",
    "<li>Delete directory <code>/</code>, which would increase unused space by <code>48381165</code>.</li>\n",
    "</ul>\n",
    "<p>Directories <code>e</code> and <code>a</code> are both too small; deleting them would not free up enough space. However, directories <code>d</code> and <code>/</code> are both big enough! Between these, choose the <em style=\"color: #fff; text-shadow: 0 0 5px #fff;\">smallest</em>: <code>d</code>, increasing unused space by <code><em style=\"color: #fff; text-shadow: 0 0 5px #fff;\">24933642</em></code>.</p>\n",
    "<p>Find the smallest directory that, if deleted, would free up enough space on the filesystem to run the update. <em style=\"color: #fff; text-shadow: 0 0 5px #fff;\">What is the total size of that directory?</em></p>\n"
   ]
  },
  {
   "cell_type": "code",
   "execution_count": 212,
   "id": "84838a46-c6ed-4bdb-8548-b109608d86d7",
   "metadata": {},
   "outputs": [
    {
     "data": {
      "text/plain": [
       "9192532"
      ]
     },
     "execution_count": 212,
     "metadata": {},
     "output_type": "execute_result"
    }
   ],
   "source": [
    "min_size_to_delete = directory_sizes['/'] + UNUSED_SPACE - TOTAL_DISK_SPACE\n",
    "min_size_to_delete"
   ]
  },
  {
   "cell_type": "code",
   "execution_count": 213,
   "id": "9a61e9e0-7d97-44ad-ab90-794c26505bca",
   "metadata": {},
   "outputs": [
    {
     "data": {
      "text/plain": [
       "12390492"
      ]
     },
     "execution_count": 213,
     "metadata": {},
     "output_type": "execute_result"
    }
   ],
   "source": [
    "best_size = np.inf\n",
    "for size in directory_sizes.values():\n",
    "    if size >= min_size_to_delete and size < best_size:\n",
    "        best_size = size\n",
    "best_size"
   ]
  },
  {
   "cell_type": "code",
   "execution_count": null,
   "id": "3b1225d3-6c23-4a9a-88f4-1a5fcfe111b8",
   "metadata": {},
   "outputs": [],
   "source": []
  }
 ],
 "metadata": {
  "kernelspec": {
   "display_name": "Python 3 (ipykernel)",
   "language": "python",
   "name": "python3"
  },
  "language_info": {
   "codemirror_mode": {
    "name": "ipython",
    "version": 3
   },
   "file_extension": ".py",
   "mimetype": "text/x-python",
   "name": "python",
   "nbconvert_exporter": "python",
   "pygments_lexer": "ipython3",
   "version": "3.10.6"
  }
 },
 "nbformat": 4,
 "nbformat_minor": 5
}
