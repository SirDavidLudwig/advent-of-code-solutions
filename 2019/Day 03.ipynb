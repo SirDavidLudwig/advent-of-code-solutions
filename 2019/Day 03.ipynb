{
 "cells": [
  {
   "cell_type": "markdown",
   "id": "1e4e3c0a-ce40-4e94-88a2-aa8ef9d07f89",
   "metadata": {},
   "source": [
    "<div style=\"background-color: rgb(15, 15, 35); border: 1px solid rgb(255, 255, 255); color: rgb(204, 204, 204); font-family: monospace; margin-left: -5px; margin-right: -20px; padding: 1rem;\"><h2 style=\"border-color: rgb(255, 255, 255); color: rgb(255, 255, 255);\">--- Day 3: Crossed Wires ---</h2><p style=\"border-color: rgb(204, 204, 204); color: rgb(204, 204, 204);\">The gravity assist was successful, and you're well on your way to the Venus refuelling station.  During the rush back on Earth, the fuel management system wasn't completely installed, so that's next on the priority list.</p>\n",
    "<p style=\"border-color: rgb(204, 204, 204); color: rgb(204, 204, 204);\">Opening the front panel reveals a jumble of wires. Specifically, <em style=\"border-color: rgb(255, 255, 255); color: rgb(255, 255, 255); text-shadow: rgb(255, 255, 255) 0px 0px 5px;\">two wires</em> are connected to a central port and extend outward on a grid.  You trace the path each wire takes as it leaves the central port, one wire per line of text (your puzzle input).</p>\n",
    "<p style=\"border-color: rgb(204, 204, 204); color: rgb(204, 204, 204);\">The wires <span title=\"A jumble of twisty little wires, all alike.\" style=\"border-color: rgb(204, 204, 204); color: rgb(204, 204, 204);\">twist and turn</span>, but the two wires occasionally cross paths. To fix the circuit, you need to <em style=\"border-color: rgb(255, 255, 255); color: rgb(255, 255, 255); text-shadow: rgb(255, 255, 255) 0px 0px 5px;\">find the intersection point closest to the central port</em>. Because the wires are on a grid, use the <a href=\"https://en.wikipedia.org/wiki/Taxicab_geometry\" style=\"border-color: rgb(0, 153, 0); color: rgb(0, 153, 0);\">Manhattan distance</a> for this measurement. While the wires do technically cross right at the central port where they both start, this point does not count, nor does a wire count as crossing with itself.</p>\n",
    "<p style=\"border-color: rgb(204, 204, 204); color: rgb(204, 204, 204);\">For example, if the first wire's path is <code style=\"border: 1px solid rgb(51, 51, 64); color: rgb(204, 204, 204); background: rgb(16, 16, 26);\">R8,U5,L5,D3</code>, then starting from the central port (<code style=\"border: 1px solid rgb(51, 51, 64); color: rgb(204, 204, 204); background: rgb(16, 16, 26);\">o</code>), it goes right <code style=\"border: 1px solid rgb(51, 51, 64); color: rgb(204, 204, 204); background: rgb(16, 16, 26);\">8</code>, up <code style=\"border: 1px solid rgb(51, 51, 64); color: rgb(204, 204, 204); background: rgb(16, 16, 26);\">5</code>, left <code style=\"border: 1px solid rgb(51, 51, 64); color: rgb(204, 204, 204); background: rgb(16, 16, 26);\">5</code>, and finally down <code style=\"border: 1px solid rgb(51, 51, 64); color: rgb(204, 204, 204); background: rgb(16, 16, 26);\">3</code>:</p>\n",
    "<pre style=\"border: 1px solid rgb(51, 51, 64); color: rgb(204, 204, 204); display: inline-block;\"><code style=\"border-color: rgb(204, 204, 204); color: rgb(204, 204, 204);\">...........\n",
    "...........\n",
    "...........\n",
    "....+----+.\n",
    "....|....|.\n",
    "....|....|.\n",
    "....|....|.\n",
    ".........|.\n",
    ".o-------+.\n",
    "...........\n",
    "</code></pre>\n",
    "<p style=\"border-color: rgb(204, 204, 204); color: rgb(204, 204, 204);\">Then, if the second wire's path is <code style=\"border: 1px solid rgb(51, 51, 64); color: rgb(204, 204, 204); background: rgb(16, 16, 26);\">U7,R6,D4,L4</code>, it goes up <code style=\"border: 1px solid rgb(51, 51, 64); color: rgb(204, 204, 204); background: rgb(16, 16, 26);\">7</code>, right <code style=\"border: 1px solid rgb(51, 51, 64); color: rgb(204, 204, 204); background: rgb(16, 16, 26);\">6</code>, down <code style=\"border: 1px solid rgb(51, 51, 64); color: rgb(204, 204, 204); background: rgb(16, 16, 26);\">4</code>, and left <code style=\"border: 1px solid rgb(51, 51, 64); color: rgb(204, 204, 204); background: rgb(16, 16, 26);\">4</code>:</p>\n",
    "<pre style=\"border: 1px solid rgb(51, 51, 64); color: rgb(204, 204, 204); display: inline-block;\"><code style=\"border-color: rgb(204, 204, 204); color: rgb(204, 204, 204);\">...........\n",
    ".+-----+...\n",
    ".|.....|...\n",
    ".|..+--X-+.\n",
    ".|..|..|.|.\n",
    ".|.-<em style=\"border-color: rgb(255, 255, 255); color: rgb(255, 255, 255); text-shadow: rgb(255, 255, 255) 0px 0px 5px;\">X</em>--+.|.\n",
    ".|..|....|.\n",
    ".|.......|.\n",
    ".o-------+.\n",
    "...........\n",
    "</code></pre>\n",
    "<p style=\"border-color: rgb(204, 204, 204); color: rgb(204, 204, 204);\">These wires cross at two locations (marked <code style=\"border: 1px solid rgb(51, 51, 64); color: rgb(204, 204, 204); background: rgb(16, 16, 26);\">X</code>), but the lower-left one is closer to the central port: its distance is <code style=\"border: 1px solid rgb(51, 51, 64); color: rgb(204, 204, 204); background: rgb(16, 16, 26);\">3 + 3 = 6</code>.</p>\n",
    "<p style=\"border-color: rgb(204, 204, 204); color: rgb(204, 204, 204);\">Here are a few more examples:</p>\n",
    "<ul style=\"border-color: rgb(204, 204, 204); color: rgb(204, 204, 204);\">\n",
    "<li style=\"border-color: rgb(204, 204, 204); color: rgb(204, 204, 204);\"><code style=\"border: 1px solid rgb(51, 51, 64); color: rgb(204, 204, 204); background: rgb(16, 16, 26);\">R75,D30,R83,U83,L12,D49,R71,U7,L72<br style=\"border-color: rgb(204, 204, 204); color: rgb(204, 204, 204);\">U62,R66,U55,R34,D71,R55,D58,R83</code> = distance <code style=\"border: 1px solid rgb(51, 51, 64); color: rgb(204, 204, 204); background: rgb(16, 16, 26);\">159</code></li>\n",
    "<li style=\"border-color: rgb(204, 204, 204); color: rgb(204, 204, 204);\"><code style=\"border: 1px solid rgb(51, 51, 64); color: rgb(204, 204, 204); background: rgb(16, 16, 26);\">R98,U47,R26,D63,R33,U87,L62,D20,R33,U53,R51<br style=\"border-color: rgb(204, 204, 204); color: rgb(204, 204, 204);\">U98,R91,D20,R16,D67,R40,U7,R15,U6,R7</code> = distance <code style=\"border: 1px solid rgb(51, 51, 64); color: rgb(204, 204, 204); background: rgb(16, 16, 26);\">135</code></li>\n",
    "</ul>\n",
    "<p style=\"border-color: rgb(204, 204, 204); color: rgb(204, 204, 204);\"><em style=\"border-color: rgb(255, 255, 255); color: rgb(255, 255, 255); text-shadow: rgb(255, 255, 255) 0px 0px 5px;\">What is the Manhattan distance</em> from the central port to the closest intersection?</p>\n",
    "</div>"
   ]
  },
  {
   "cell_type": "code",
   "execution_count": 1,
   "id": "23ce1b04-33ad-49cc-944f-3e33d37ab29a",
   "metadata": {},
   "outputs": [],
   "source": [
    "import numpy as np"
   ]
  },
  {
   "cell_type": "code",
   "execution_count": 27,
   "id": "8119835a-1566-4d3e-9919-21c25df27bf2",
   "metadata": {},
   "outputs": [],
   "source": [
    "with open(\"./puzzle_inputs/03.txt\") as f:\n",
    "    wire_a, wire_b = [p.strip().split(',') for p in f]"
   ]
  },
  {
   "cell_type": "code",
   "execution_count": 28,
   "id": "704a9f4a-9046-49ef-aefe-a3cd87d57b66",
   "metadata": {},
   "outputs": [],
   "source": [
    "deltas = {\n",
    "    'U': ( 0,  1),\n",
    "    'D': ( 0, -1),\n",
    "    'L': (-1,  0),\n",
    "    'R': ( 1,  0)\n",
    "}"
   ]
  },
  {
   "cell_type": "code",
   "execution_count": 29,
   "id": "ecb9a02e-e1a3-4e72-84f5-7fde604b7358",
   "metadata": {},
   "outputs": [],
   "source": [
    "grid = set()\n",
    "coord = np.array([0, 0])\n",
    "for path in wire_a:\n",
    "    delta = deltas[path[0]]\n",
    "    for _ in range(int(path[1:])):\n",
    "        coord += delta\n",
    "        grid.add(tuple(coord))"
   ]
  },
  {
   "cell_type": "code",
   "execution_count": 30,
   "id": "f64a13a6-8b8a-4107-a899-7cd0f6dcca81",
   "metadata": {},
   "outputs": [
    {
     "data": {
      "text/plain": [
       "1195"
      ]
     },
     "execution_count": 30,
     "metadata": {},
     "output_type": "execute_result"
    }
   ],
   "source": [
    "shortest_distance = np.inf\n",
    "coord = np.array([0, 0])\n",
    "for path in wire_b:\n",
    "    delta = deltas[path[0]]\n",
    "    for _ in range(int(path[1:])):\n",
    "        coord += delta\n",
    "        if tuple(coord) in grid:\n",
    "            shortest_distance = min(shortest_distance, np.sum(np.abs(coord)))\n",
    "shortest_distance"
   ]
  },
  {
   "cell_type": "markdown",
   "id": "a6d68bbf-b492-46e0-a84b-c7f91277326d",
   "metadata": {},
   "source": [
    "<div style=\"background-color: rgb(15, 15, 35); border: 1px solid rgb(255, 255, 255); color: rgb(204, 204, 204); font-family: monospace; margin-left: -5px; margin-right: -20px; padding: 1rem;\"><h2 style=\"border-color: rgb(255, 255, 255); color: rgb(255, 255, 255);\">--- Day 3: Crossed Wires ---</h2><p style=\"border-color: rgb(204, 204, 204); color: rgb(204, 204, 204);\">The gravity assist was successful, and you're well on your way to the Venus refuelling station.  During the rush back on Earth, the fuel management system wasn't completely installed, so that's next on the priority list.</p>\n",
    "<p style=\"border-color: rgb(204, 204, 204); color: rgb(204, 204, 204);\">Opening the front panel reveals a jumble of wires. Specifically, <em style=\"border-color: rgb(255, 255, 255); color: rgb(255, 255, 255); text-shadow: rgb(255, 255, 255) 0px 0px 5px;\">two wires</em> are connected to a central port and extend outward on a grid.  You trace the path each wire takes as it leaves the central port, one wire per line of text (your puzzle input).</p>\n",
    "<p style=\"border-color: rgb(204, 204, 204); color: rgb(204, 204, 204);\">The wires <span title=\"A jumble of twisty little wires, all alike.\" style=\"border-color: rgb(204, 204, 204); color: rgb(204, 204, 204);\">twist and turn</span>, but the two wires occasionally cross paths. To fix the circuit, you need to <em style=\"border-color: rgb(255, 255, 255); color: rgb(255, 255, 255); text-shadow: rgb(255, 255, 255) 0px 0px 5px;\">find the intersection point closest to the central port</em>. Because the wires are on a grid, use the <a href=\"https://en.wikipedia.org/wiki/Taxicab_geometry\" style=\"border-color: rgb(0, 153, 0); color: rgb(0, 153, 0);\">Manhattan distance</a> for this measurement. While the wires do technically cross right at the central port where they both start, this point does not count, nor does a wire count as crossing with itself.</p>\n",
    "<p style=\"border-color: rgb(204, 204, 204); color: rgb(204, 204, 204);\">For example, if the first wire's path is <code style=\"border: 1px solid rgb(51, 51, 64); color: rgb(204, 204, 204); background: rgb(16, 16, 26);\">R8,U5,L5,D3</code>, then starting from the central port (<code style=\"border: 1px solid rgb(51, 51, 64); color: rgb(204, 204, 204); background: rgb(16, 16, 26);\">o</code>), it goes right <code style=\"border: 1px solid rgb(51, 51, 64); color: rgb(204, 204, 204); background: rgb(16, 16, 26);\">8</code>, up <code style=\"border: 1px solid rgb(51, 51, 64); color: rgb(204, 204, 204); background: rgb(16, 16, 26);\">5</code>, left <code style=\"border: 1px solid rgb(51, 51, 64); color: rgb(204, 204, 204); background: rgb(16, 16, 26);\">5</code>, and finally down <code style=\"border: 1px solid rgb(51, 51, 64); color: rgb(204, 204, 204); background: rgb(16, 16, 26);\">3</code>:</p>\n",
    "<pre style=\"border: 1px solid rgb(51, 51, 64); color: rgb(204, 204, 204); display: inline-block;\"><code style=\"border-color: rgb(204, 204, 204); color: rgb(204, 204, 204);\">...........\n",
    "...........\n",
    "...........\n",
    "....+----+.\n",
    "....|....|.\n",
    "....|....|.\n",
    "....|....|.\n",
    ".........|.\n",
    ".o-------+.\n",
    "...........\n",
    "</code></pre>\n",
    "<p style=\"border-color: rgb(204, 204, 204); color: rgb(204, 204, 204);\">Then, if the second wire's path is <code style=\"border: 1px solid rgb(51, 51, 64); color: rgb(204, 204, 204); background: rgb(16, 16, 26);\">U7,R6,D4,L4</code>, it goes up <code style=\"border: 1px solid rgb(51, 51, 64); color: rgb(204, 204, 204); background: rgb(16, 16, 26);\">7</code>, right <code style=\"border: 1px solid rgb(51, 51, 64); color: rgb(204, 204, 204); background: rgb(16, 16, 26);\">6</code>, down <code style=\"border: 1px solid rgb(51, 51, 64); color: rgb(204, 204, 204); background: rgb(16, 16, 26);\">4</code>, and left <code style=\"border: 1px solid rgb(51, 51, 64); color: rgb(204, 204, 204); background: rgb(16, 16, 26);\">4</code>:</p>\n",
    "<pre style=\"border: 1px solid rgb(51, 51, 64); color: rgb(204, 204, 204); display: inline-block;\"><code style=\"border-color: rgb(204, 204, 204); color: rgb(204, 204, 204);\">...........\n",
    ".+-----+...\n",
    ".|.....|...\n",
    ".|..+--X-+.\n",
    ".|..|..|.|.\n",
    ".|.-<em style=\"border-color: rgb(255, 255, 255); color: rgb(255, 255, 255); text-shadow: rgb(255, 255, 255) 0px 0px 5px;\">X</em>--+.|.\n",
    ".|..|....|.\n",
    ".|.......|.\n",
    ".o-------+.\n",
    "...........\n",
    "</code></pre>\n",
    "<p style=\"border-color: rgb(204, 204, 204); color: rgb(204, 204, 204);\">These wires cross at two locations (marked <code style=\"border: 1px solid rgb(51, 51, 64); color: rgb(204, 204, 204); background: rgb(16, 16, 26);\">X</code>), but the lower-left one is closer to the central port: its distance is <code style=\"border: 1px solid rgb(51, 51, 64); color: rgb(204, 204, 204); background: rgb(16, 16, 26);\">3 + 3 = 6</code>.</p>\n",
    "<p style=\"border-color: rgb(204, 204, 204); color: rgb(204, 204, 204);\">Here are a few more examples:</p>\n",
    "<ul style=\"border-color: rgb(204, 204, 204); color: rgb(204, 204, 204);\">\n",
    "<li style=\"border-color: rgb(204, 204, 204); color: rgb(204, 204, 204);\"><code style=\"border: 1px solid rgb(51, 51, 64); color: rgb(204, 204, 204); background: rgb(16, 16, 26);\">R75,D30,R83,U83,L12,D49,R71,U7,L72<br style=\"border-color: rgb(204, 204, 204); color: rgb(204, 204, 204);\">U62,R66,U55,R34,D71,R55,D58,R83</code> = distance <code style=\"border: 1px solid rgb(51, 51, 64); color: rgb(204, 204, 204); background: rgb(16, 16, 26);\">159</code></li>\n",
    "<li style=\"border-color: rgb(204, 204, 204); color: rgb(204, 204, 204);\"><code style=\"border: 1px solid rgb(51, 51, 64); color: rgb(204, 204, 204); background: rgb(16, 16, 26);\">R98,U47,R26,D63,R33,U87,L62,D20,R33,U53,R51<br style=\"border-color: rgb(204, 204, 204); color: rgb(204, 204, 204);\">U98,R91,D20,R16,D67,R40,U7,R15,U6,R7</code> = distance <code style=\"border: 1px solid rgb(51, 51, 64); color: rgb(204, 204, 204); background: rgb(16, 16, 26);\">135</code></li>\n",
    "</ul>\n",
    "<p style=\"border-color: rgb(204, 204, 204); color: rgb(204, 204, 204);\"><em style=\"border-color: rgb(255, 255, 255); color: rgb(255, 255, 255); text-shadow: rgb(255, 255, 255) 0px 0px 5px;\">What is the Manhattan distance</em> from the central port to the closest intersection?</p>\n",
    "</div>"
   ]
  },
  {
   "cell_type": "code",
   "execution_count": 36,
   "id": "934e35ac-ffa5-433e-bdb2-81449ad165a1",
   "metadata": {},
   "outputs": [],
   "source": [
    "grid = {}\n",
    "coord = np.array([0, 0])\n",
    "i = 0\n",
    "for path in wire_a:\n",
    "    delta = deltas[path[0]]\n",
    "    for _ in range(int(path[1:])):\n",
    "        i += 1\n",
    "        coord += delta\n",
    "        if tuple(coord) not in grid:\n",
    "            grid[tuple(coord)] = i"
   ]
  },
  {
   "cell_type": "code",
   "execution_count": 37,
   "id": "ff920434-ba36-446b-99f6-d2220dde8ed7",
   "metadata": {},
   "outputs": [
    {
     "data": {
      "text/plain": [
       "91518"
      ]
     },
     "execution_count": 37,
     "metadata": {},
     "output_type": "execute_result"
    }
   ],
   "source": [
    "shortest_distance = np.inf\n",
    "coord = np.array([0, 0])\n",
    "i = 0\n",
    "for path in wire_b:\n",
    "    delta = deltas[path[0]]\n",
    "    for _ in range(int(path[1:])):\n",
    "        i += 1\n",
    "        coord += delta\n",
    "        if tuple(coord) in grid:\n",
    "            shortest_distance = min(shortest_distance, i + grid[tuple(coord)])\n",
    "shortest_distance"
   ]
  }
 ],
 "metadata": {
  "kernelspec": {
   "display_name": "Python 3 (ipykernel)",
   "language": "python",
   "name": "python3"
  },
  "language_info": {
   "codemirror_mode": {
    "name": "ipython",
    "version": 3
   },
   "file_extension": ".py",
   "mimetype": "text/x-python",
   "name": "python",
   "nbconvert_exporter": "python",
   "pygments_lexer": "ipython3",
   "version": "3.10.6"
  }
 },
 "nbformat": 4,
 "nbformat_minor": 5
}
