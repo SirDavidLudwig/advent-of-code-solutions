{
 "cells": [
  {
   "cell_type": "markdown",
   "id": "88009f56-d9ee-4040-86c6-a526911b7e8a",
   "metadata": {},
   "source": [
    "<h2>--- Day 2: I Was Told There Would Be No Math ---</h2><p>The elves are running low on wrapping paper, and so they need to submit an order for more.  They have a list of the dimensions (length <code>l</code>, width <code>w</code>, and height <code>h</code>) of each present, and only want to order exactly as much as they need.</p>\n",
    "<p>Fortunately, every present is a box (a perfect <a href=\"https://en.wikipedia.org/wiki/Cuboid#Rectangular_cuboid\">right rectangular prism</a>), which makes calculating the required wrapping paper for each gift a little easier: find the surface area of the box, which is <code>2*l*w + 2*w*h + 2*h*l</code>.  The elves also need a little extra paper for each present: the area of the smallest side.</p>\n",
    "<p>For example:</p>\n",
    "<ul>\n",
    "<li>A present with dimensions <code>2x3x4</code> requires <code>2*6 + 2*12 + 2*8 = 52</code> square feet of wrapping paper plus <code>6</code> square feet of slack, for a total of <code>58</code> square feet.</li>\n",
    "<li>A present with dimensions <code>1x1x10</code> requires <code>2*1 + 2*10 + 2*10 = 42</code> square feet of wrapping paper plus <code>1</code> square foot of slack, for a total of <code>43</code> square feet.</li>\n",
    "</ul>\n",
    "<p>All numbers in the elves' list are in <span title=\"Yes, I realize most of these presents are luxury yachts.\">feet</span>.  How many total <em style=\"color: #fff; text-shadow: 0 0 5px #fff;\">square feet of wrapping paper</em> should they order?</p>\n"
   ]
  },
  {
   "cell_type": "code",
   "execution_count": 1,
   "id": "aae1244a-5808-4590-aa1a-6c2dab1b90d9",
   "metadata": {},
   "outputs": [],
   "source": [
    "import numpy as np"
   ]
  },
  {
   "cell_type": "code",
   "execution_count": 2,
   "id": "2d335182-5fbb-4041-b28c-2d7fa1fdf278",
   "metadata": {},
   "outputs": [
    {
     "data": {
      "text/plain": [
       "(1000, 3)"
      ]
     },
     "execution_count": 2,
     "metadata": {},
     "output_type": "execute_result"
    }
   ],
   "source": [
    "with open(\"./puzzle_inputs/02.txt\") as f:\n",
    "    presents = np.array([list(map(int, line.split('x'))) for line in f])\n",
    "presents.shape"
   ]
  },
  {
   "cell_type": "code",
   "execution_count": 3,
   "id": "cb06780f-f4d4-4c01-bb3e-5585cfbb76b2",
   "metadata": {},
   "outputs": [
    {
     "data": {
      "text/plain": [
       "1586300"
      ]
     },
     "execution_count": 3,
     "metadata": {},
     "output_type": "execute_result"
    }
   ],
   "source": [
    "a, b, c = [presents[:,i-1]*presents[:,i%3] for i in range(1, 4)]\n",
    "sum(2*a + 2*b + 2*c + np.min((a, b, c), axis=0))"
   ]
  },
  {
   "cell_type": "markdown",
   "id": "aa214d5a-e3bb-484e-9747-16fc99441b8a",
   "metadata": {},
   "source": [
    "---\n",
    "<h2 id=\"part2\">--- Part Two ---</h2><p>The elves are also running low on ribbon.  Ribbon is all the same width, so they only have to worry about the length they need to order, which they would again like to be exact.</p>\n",
    "<p>The ribbon required to wrap a present is the shortest distance around its sides, or the smallest perimeter of any one face.  Each present also requires a bow made out of ribbon as well; the feet of ribbon required for the perfect bow is equal to the cubic feet of volume of the present.  Don't ask how they tie the bow, though; they'll never tell.</p>\n",
    "<p>For example:</p>\n",
    "<ul>\n",
    "<li>A present with dimensions <code>2x3x4</code> requires <code>2+2+3+3 = 10</code> feet of ribbon to wrap the present plus <code>2*3*4 = 24</code> feet of ribbon for the bow, for a total of <code>34</code> feet.</li>\n",
    "<li>A present with dimensions <code>1x1x10</code> requires <code>1+1+1+1 = 4</code> feet of ribbon to wrap the present plus <code>1*1*10 = 10</code> feet of ribbon for the bow, for a total of <code>14</code> feet.</li>\n",
    "</ul>\n",
    "<p>How many total <em style=\"color: #fff; text-shadow: 0 0 5px #fff;\">feet of ribbon</em> should they order?</p>\n"
   ]
  },
  {
   "cell_type": "code",
   "execution_count": 4,
   "id": "a4615c41-2c7c-4443-b9e1-f502c41f1a3e",
   "metadata": {},
   "outputs": [
    {
     "data": {
      "text/plain": [
       "3737498"
      ]
     },
     "execution_count": 4,
     "metadata": {},
     "output_type": "execute_result"
    }
   ],
   "source": [
    "sum([2*l + 2*w + l*w*h for (l, w, h) in np.sort(presents)])"
   ]
  }
 ],
 "metadata": {
  "kernelspec": {
   "display_name": "Python 3 (ipykernel)",
   "language": "python",
   "name": "python3"
  },
  "language_info": {
   "codemirror_mode": {
    "name": "ipython",
    "version": 3
   },
   "file_extension": ".py",
   "mimetype": "text/x-python",
   "name": "python",
   "nbconvert_exporter": "python",
   "pygments_lexer": "ipython3",
   "version": "3.10.6"
  }
 },
 "nbformat": 4,
 "nbformat_minor": 5
}
