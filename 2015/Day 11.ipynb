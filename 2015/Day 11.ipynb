{
 "cells": [
  {
   "cell_type": "markdown",
   "id": "feb14d66-fd5e-4aeb-94f8-7ac3cb92e118",
   "metadata": {},
   "source": [
    "<h2>--- Day 11: Corporate Policy ---</h2><p>Santa's previous password expired, and he needs help choosing a new one.</p>\n",
    "<p>To help him remember his new password after the old one expires, Santa has devised a method of coming up with a password based on the previous one.  Corporate policy dictates that passwords must be exactly eight lowercase letters (for security reasons), so he finds his new password by <em style=\"color: #fff; text-shadow: 0 0 5px #fff;\">incrementing</em> his old password string repeatedly until it is valid.</p>\n",
    "<p>Incrementing is just like counting with numbers: <code>xx</code>, <code>xy</code>, <code>xz</code>, <code>ya</code>, <code>yb</code>, and so on. Increase the rightmost letter one step; if it was <code>z</code>, it wraps around to <code>a</code>, and repeat with the next letter to the left until one doesn't wrap around.</p>\n",
    "<p>Unfortunately for Santa, a new Security-Elf recently started, and he has imposed some additional password requirements:</p>\n",
    "<ul>\n",
    "<li>Passwords must include one increasing straight of at least three letters, like <code>abc</code>, <code>bcd</code>, <code>cde</code>, and so on, up to <code>xyz</code>. They cannot skip letters; <code>abd</code> doesn't count.</li>\n",
    "<li>Passwords may not contain the letters <code>i</code>, <code>o</code>, or <code>l</code>, as these letters can be mistaken for other characters and are therefore confusing.</li>\n",
    "<li>Passwords must contain at least two different, non-overlapping pairs of letters, like <code>aa</code>, <code>bb</code>, or <code>zz</code>.</li>\n",
    "</ul>\n",
    "<p>For example:</p>\n",
    "<ul>\n",
    "<li><code>hijklmmn</code> meets the first requirement (because it contains the straight <code>hij</code>) but fails the second requirement requirement (because it contains <code>i</code> and <code>l</code>).</li>\n",
    "<li><code>abbceffg</code> meets the third requirement (because it repeats <code>bb</code> and <code>ff</code>) but fails the first requirement.</li>\n",
    "<li><code>abbcegjk</code> fails the third requirement, because it only has one double letter (<code>bb</code>).</li>\n",
    "<li>The next password after <code>abcdefgh</code> is <code>abcdffaa</code>.</li>\n",
    "<li>The next password after <code>ghijklmn</code> is <code>ghjaabcc</code>, because you eventually skip all the passwords that start with <code>ghi...</code>, since <code>i</code> is not allowed.</li>\n",
    "</ul>\n",
    "<p>Given Santa's current password (your puzzle input), what should his <em style=\"color: #fff; text-shadow: 0 0 5px #fff;\">next password</em> be?</p>\n"
   ]
  },
  {
   "cell_type": "code",
   "execution_count": 1,
   "id": "89da531e-b225-46aa-b799-2918f482a0f6",
   "metadata": {},
   "outputs": [],
   "source": [
    "import numpy as np"
   ]
  },
  {
   "cell_type": "code",
   "execution_count": 2,
   "id": "84630896-3e6f-4919-b5d7-fc8eff3616d8",
   "metadata": {},
   "outputs": [],
   "source": [
    "with open(\"./puzzle_inputs/11.txt\") as f:\n",
    "    old_password = f.read().rstrip()"
   ]
  },
  {
   "cell_type": "code",
   "execution_count": 3,
   "id": "047ef124-8ef6-4a56-9467-944f820720f4",
   "metadata": {},
   "outputs": [
    {
     "data": {
      "text/plain": [
       "{8, 11, 14}"
      ]
     },
     "execution_count": 3,
     "metadata": {},
     "output_type": "execute_result"
    }
   ],
   "source": [
    "blacklist = set([ord(c) - ord('a') for c in 'iol'])\n",
    "blacklist"
   ]
  },
  {
   "cell_type": "code",
   "execution_count": 4,
   "id": "77bd7a98-c363-4622-8ccc-e65a28007cdb",
   "metadata": {},
   "outputs": [],
   "source": [
    "def encode_password(password):\n",
    "    return np.array([ord(c) - ord('a') for c in password])\n",
    "\n",
    "def decode_password(password):\n",
    "    return ''.join([chr(c + ord('a')) for c in password])"
   ]
  },
  {
   "cell_type": "code",
   "execution_count": 5,
   "id": "470c1bc2-4242-4165-9583-f2b2ca9d6c07",
   "metadata": {},
   "outputs": [],
   "source": [
    "def check_for_triple(password):\n",
    "    for i in range(2, len(password)):\n",
    "        if password[i] == password[i-1] + 1 and password[i] == password[i-2] + 2:\n",
    "            return True\n",
    "    return False\n",
    "\n",
    "def check_for_pairs(password):\n",
    "    doubles = set()\n",
    "    for i in range(1, len(password)):\n",
    "        pair = password[i:i+2]\n",
    "        if password[i - 1] == password[i]:\n",
    "            doubles.add(password[i])\n",
    "        if len(doubles) == 2:\n",
    "            return True\n",
    "    return False\n",
    "\n",
    "def validate_password(password):\n",
    "    return check_for_triple(password) and check_for_pairs(password)\n",
    "\n",
    "def increment_password(password):\n",
    "    i = len(password) - 1\n",
    "    password[i] += 1 + int(password[i]+1 in blacklist)\n",
    "    while password[i] >= 26:\n",
    "        password[i] = 0\n",
    "        i -= 1\n",
    "        password[i] += 1 + int(password[i]+1 in blacklist)\n",
    "\n",
    "def find_next_password(password):\n",
    "    new_password = encode_password(password)\n",
    "    increment_password(new_password)\n",
    "    while not validate_password(new_password):\n",
    "        increment_password(new_password)\n",
    "    return decode_password(new_password)"
   ]
  },
  {
   "cell_type": "code",
   "execution_count": 6,
   "id": "b80ee994-a22b-4fd8-bf3b-f770eb1b4bb4",
   "metadata": {},
   "outputs": [
    {
     "data": {
      "text/plain": [
       "'cqjxxyzz'"
      ]
     },
     "execution_count": 6,
     "metadata": {},
     "output_type": "execute_result"
    }
   ],
   "source": [
    "new_password = find_next_password(old_password)\n",
    "new_password"
   ]
  },
  {
   "cell_type": "markdown",
   "id": "31e66205-26c2-48d8-979f-438001d8a3f7",
   "metadata": {},
   "source": [
    "---\n",
    "<h2 id=\"part2\">--- Part Two ---</h2><p>Santa's password <span title=\"The corporate policy says your password expires after 12 seconds.  For security.\">expired again</span>.  What's the next one?</p>"
   ]
  },
  {
   "cell_type": "code",
   "execution_count": 7,
   "id": "dc035ade-dd07-4298-9cef-40afe3e48fed",
   "metadata": {},
   "outputs": [
    {
     "data": {
      "text/plain": [
       "'cqkaabcc'"
      ]
     },
     "execution_count": 7,
     "metadata": {},
     "output_type": "execute_result"
    }
   ],
   "source": [
    "find_next_password(new_password)"
   ]
  }
 ],
 "metadata": {
  "kernelspec": {
   "display_name": "Python 3 (ipykernel)",
   "language": "python",
   "name": "python3"
  },
  "language_info": {
   "codemirror_mode": {
    "name": "ipython",
    "version": 3
   },
   "file_extension": ".py",
   "mimetype": "text/x-python",
   "name": "python",
   "nbconvert_exporter": "python",
   "pygments_lexer": "ipython3",
   "version": "3.10.6"
  }
 },
 "nbformat": 4,
 "nbformat_minor": 5
}
