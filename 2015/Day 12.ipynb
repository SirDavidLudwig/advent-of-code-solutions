{
 "cells": [
  {
   "cell_type": "markdown",
   "id": "bda3c3bf-4ca8-4971-b16e-15db2e689596",
   "metadata": {},
   "source": [
    "<h2>--- Day 12: JSAbacusFramework.io ---</h2><p>Santa's Accounting-Elves need help balancing the books after a recent order.  Unfortunately, their accounting software uses a peculiar storage format.  That's where you come in.</p>\n",
    "<p>They have a <a href=\"http://json.org/\">JSON</a> document which contains a variety of things: arrays (<code>[1,2,3]</code>), objects (<code>{\"a\":1, \"b\":2}</code>), numbers, and strings.  Your first job is to simply find all of the <em style=\"color: #fff; text-shadow: 0 0 5px #fff;\">numbers</em> throughout the document and add them together.</p>\n",
    "<p>For example:</p>\n",
    "<ul>\n",
    "<li><code>[1,2,3]</code> and <code>{\"a\":2,\"b\":4}</code> both have a sum of <code>6</code>.</li>\n",
    "<li><code>[[[3]]]</code> and <code>{\"a\":{\"b\":4},\"c\":-1}</code> both have a sum of <code>3</code>.</li>\n",
    "<li><code>{\"a\":[-1,1]}</code> and <code>[-1,{\"a\":1}]</code> both have a sum of <code>0</code>.</li>\n",
    "<li><code>[]</code> and <code>{}</code> both have a sum of <code>0</code>.</li>\n",
    "</ul>\n",
    "<p>You will not <span title=\"Nor are you likely to be eaten by a grue... during *this* puzzle, anyway.\">encounter</span> any strings containing numbers.</p>\n",
    "<p>What is the <em style=\"color: #fff; text-shadow: 0 0 5px #fff;\">sum of all numbers</em> in the document?</p>\n"
   ]
  },
  {
   "cell_type": "code",
   "execution_count": 1,
   "id": "6b49d374-1733-44bd-8428-be02c49a8d83",
   "metadata": {},
   "outputs": [],
   "source": [
    "import re"
   ]
  },
  {
   "cell_type": "code",
   "execution_count": 2,
   "id": "dd7ef89f-9cbd-400a-864a-9fb1a7b538aa",
   "metadata": {},
   "outputs": [],
   "source": [
    "with open(\"./puzzle_inputs/12.txt\") as f:\n",
    "    document = f.read().strip()"
   ]
  },
  {
   "cell_type": "code",
   "execution_count": 3,
   "id": "09cc00dd-42c2-46b4-a46a-098af9c7566e",
   "metadata": {},
   "outputs": [
    {
     "data": {
      "text/plain": [
       "156366"
      ]
     },
     "execution_count": 3,
     "metadata": {},
     "output_type": "execute_result"
    }
   ],
   "source": [
    "sum(map(int, re.findall('-?\\d+', document)))"
   ]
  },
  {
   "cell_type": "markdown",
   "id": "3eecc588-da43-4400-b18b-580dd0f7c9ab",
   "metadata": {},
   "source": [
    "---\n",
    "<h2 id=\"part2\">--- Part Two ---</h2><p>Uh oh - the Accounting-Elves have realized that they double-counted everything <em style=\"color: #fff; text-shadow: 0 0 5px #fff;\">red</em>.</p>\n",
    "<p>Ignore any object (and all of its children) which has any property with the value <code>\"red\"</code>.  Do this only for objects (<code>{...}</code>), not arrays (<code>[...]</code>).</p>\n",
    "<ul>\n",
    "<li><code>[1,2,3]</code> still has a sum of <code>6</code>.</li>\n",
    "<li><code>[1,{\"c\":\"red\",\"b\":2},3]</code> now has a sum of <code>4</code>, because the middle object is ignored.</li>\n",
    "<li><code>{\"d\":\"red\",\"e\":[1,2,3,4],\"f\":5}</code> now has a sum of <code>0</code>, because the entire structure is ignored.</li>\n",
    "<li><code>[1,\"red\",5]</code> has a sum of <code>6</code>, because <code>\"red\"</code> in an array has no effect.</li>\n",
    "</ul>\n"
   ]
  },
  {
   "cell_type": "code",
   "execution_count": 4,
   "id": "ddc78c02-899e-46cc-b235-52b838f54a74",
   "metadata": {},
   "outputs": [],
   "source": [
    "import json"
   ]
  },
  {
   "cell_type": "code",
   "execution_count": 5,
   "id": "908cadd0-94b6-4842-ba63-be56d26cf586",
   "metadata": {},
   "outputs": [],
   "source": [
    "json_document = json.loads(document)"
   ]
  },
  {
   "cell_type": "code",
   "execution_count": 6,
   "id": "7fa2985f-b01c-49e6-962f-494957ac0e34",
   "metadata": {},
   "outputs": [],
   "source": [
    "def count_digits(node):\n",
    "    if type(node) == int:\n",
    "        return node\n",
    "    if type(node) == str:\n",
    "        return 0\n",
    "    total = 0\n",
    "    if type(node) == list:\n",
    "        for child in node:\n",
    "            total += count_digits(child)\n",
    "    else:\n",
    "        for key, value in node.items():\n",
    "            if value == \"red\":\n",
    "                return 0\n",
    "            total += count_digits(value)\n",
    "    return total"
   ]
  },
  {
   "cell_type": "code",
   "execution_count": 7,
   "id": "aac345c2-c757-4d3f-80e2-f1d9135b7075",
   "metadata": {},
   "outputs": [
    {
     "data": {
      "text/plain": [
       "96852"
      ]
     },
     "execution_count": 7,
     "metadata": {},
     "output_type": "execute_result"
    }
   ],
   "source": [
    "count_digits(json_document)"
   ]
  }
 ],
 "metadata": {
  "kernelspec": {
   "display_name": "Python 3 (ipykernel)",
   "language": "python",
   "name": "python3"
  },
  "language_info": {
   "codemirror_mode": {
    "name": "ipython",
    "version": 3
   },
   "file_extension": ".py",
   "mimetype": "text/x-python",
   "name": "python",
   "nbconvert_exporter": "python",
   "pygments_lexer": "ipython3",
   "version": "3.10.6"
  }
 },
 "nbformat": 4,
 "nbformat_minor": 5
}
