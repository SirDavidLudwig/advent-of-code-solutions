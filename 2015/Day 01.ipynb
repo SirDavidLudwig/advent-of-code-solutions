{
 "cells": [
  {
   "cell_type": "markdown",
   "id": "b80c8572-1ff4-4b12-bde0-671211e8551e",
   "metadata": {},
   "source": [
    "<h2>--- Day 1: Not Quite Lisp ---</h2><p>Santa was hoping for a white Christmas, but his weather machine's \"snow\" function is powered by stars, and he's fresh out!  To save Christmas, he needs you to collect <em style=\"color: #ffff66; text-shadow: 0 0 5px #ffff66\">fifty stars</em> by December 25th.</p>\n",
    "<p>Collect stars by helping Santa solve puzzles.  Two puzzles will be made available on each day in the Advent calendar; the second puzzle is unlocked when you complete the first.  Each puzzle grants <em style=\"color: #ffff66; text-shadow: 0 0 5px #ffff66\">one star</em>. <span title=\"Also, some puzzles contain Easter eggs like this one. Yes, I know it's not traditional to do Advent calendars for Easter.\">Good luck!</span></p>\n",
    "<p>Here's an easy puzzle to warm you up.</p>\n",
    "<p>Santa is trying to deliver presents in a large apartment building, but he can't find the right floor - the directions he got are a little confusing. He starts on the ground floor (floor <code>0</code>) and then follows the instructions one character at a time.</p>\n",
    "<p>An opening parenthesis, <code>(</code>, means he should go up one floor, and a closing parenthesis, <code>)</code>, means he should go down one floor.</p>\n",
    "<p>The apartment building is very tall, and the basement is very deep; he will never find the top or bottom floors.</p>\n",
    "<p>For example:</p>\n",
    "<ul>\n",
    "<li><code>(())</code> and <code>()()</code> both result in floor <code>0</code>.</li>\n",
    "<li><code>(((</code> and <code>(()(()(</code> both result in floor <code>3</code>.</li>\n",
    "<li><code>))(((((</code> also results in floor <code>3</code>.</li>\n",
    "<li><code>())</code> and <code>))(</code> both result in floor <code>-1</code> (the first basement level).</li>\n",
    "<li><code>)))</code> and <code>)())())</code> both result in floor <code>-3</code>.</li>\n",
    "</ul>\n",
    "<p>To <em style=\"color: #fff; text-shadow: 0 0 5px #fff;\">what floor</em> do the instructions take Santa?</p>\n"
   ]
  },
  {
   "cell_type": "code",
   "execution_count": 1,
   "id": "963a1579-5158-40be-9524-c2d9d85cf7bd",
   "metadata": {},
   "outputs": [],
   "source": [
    "with open(\"puzzle_inputs/01.txt\") as f:\n",
    "    instructions = f.read().strip()"
   ]
  },
  {
   "cell_type": "code",
   "execution_count": 2,
   "id": "4a60de0d-726f-4a66-8327-f9b5e773e2ff",
   "metadata": {},
   "outputs": [
    {
     "data": {
      "text/plain": [
       "74"
      ]
     },
     "execution_count": 2,
     "metadata": {},
     "output_type": "execute_result"
    }
   ],
   "source": [
    "floor = 0\n",
    "for c in instructions:\n",
    "    floor += 1 if c == '(' else -1\n",
    "floor"
   ]
  },
  {
   "cell_type": "markdown",
   "id": "db753a19-26bf-4563-b835-4b0f150f86d5",
   "metadata": {},
   "source": [
    "---\n",
    "<h2 id=\"part2\">--- Part Two ---</h2><p>Now, given the same instructions, find the <em style=\"color: #fff; text-shadow: 0 0 5px #fff;\">position</em> of the first character that causes him to enter the basement (floor <code>-1</code>).  The first character in the instructions has position <code>1</code>, the second character has position <code>2</code>, and so on.</p>\n",
    "<p>For example:</p>\n",
    "<ul>\n",
    "<li><code>)</code> causes him to enter the basement at character position <code>1</code>.</li>\n",
    "<li><code>()())</code> causes him to enter the basement at character position <code>5</code>.</li>\n",
    "</ul>\n",
    "<p>What is the <em style=\"color: #fff; text-shadow: 0 0 5px #fff;\">position</em> of the character that causes Santa to first enter the basement?</p>\n"
   ]
  },
  {
   "cell_type": "code",
   "execution_count": 3,
   "id": "a3775750-6c31-4f00-a226-eacd0a5b6f1a",
   "metadata": {},
   "outputs": [
    {
     "data": {
      "text/plain": [
       "1795"
      ]
     },
     "execution_count": 3,
     "metadata": {},
     "output_type": "execute_result"
    }
   ],
   "source": [
    "floor = 0\n",
    "for i, c in enumerate(instructions, start=1):\n",
    "    floor += 1 if c == '(' else -1\n",
    "    if floor == -1:\n",
    "        break\n",
    "i"
   ]
  }
 ],
 "metadata": {
  "kernelspec": {
   "display_name": "Python 3 (ipykernel)",
   "language": "python",
   "name": "python3"
  },
  "language_info": {
   "codemirror_mode": {
    "name": "ipython",
    "version": 3
   },
   "file_extension": ".py",
   "mimetype": "text/x-python",
   "name": "python",
   "nbconvert_exporter": "python",
   "pygments_lexer": "ipython3",
   "version": "3.10.6"
  }
 },
 "nbformat": 4,
 "nbformat_minor": 5
}
