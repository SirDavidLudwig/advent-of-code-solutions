{
 "cells": [
  {
   "cell_type": "markdown",
   "id": "42dbffee-48cf-4134-93e0-d9f55735f63d",
   "metadata": {},
   "source": [
    "<h2>--- Day 10: Elves Look, Elves Say ---</h2><p>Today, the Elves are playing a game called <a href=\"https://en.wikipedia.org/wiki/Look-and-say_sequence\">look-and-say</a>.  They take turns making sequences by reading aloud the previous sequence and using that reading as the next sequence.  For example, <code>211</code> is read as \"one two, two ones\", which becomes <code>1221</code> (<code>1</code> <code>2</code>, <code>2</code> <code>1</code>s).</p>\n",
    "<p>Look-and-say sequences are generated iteratively, using the previous value as input for the next step.  For each step, take the previous value, and replace each run of digits (like <code>111</code>) with the number of digits (<code>3</code>) followed by the digit itself (<code>1</code>).</p>\n",
    "<p>For example:</p>\n",
    "<ul>\n",
    "<li><code>1</code> becomes <code>11</code> (<code>1</code> copy of digit <code>1</code>).</li>\n",
    "<li><code>11</code> becomes <code>21</code> (<code>2</code> copies of digit <code>1</code>).</li>\n",
    "<li><code>21</code> becomes <code>1211</code> (one <code>2</code> followed by one <code>1</code>).</li>\n",
    "<li><code>1211</code> becomes <code>111221</code> (one <code>1</code>, one <code>2</code>, and two <code>1</code>s).</li>\n",
    "<li><code>111221</code> becomes <code>312211</code> (three <code>1</code>s, two <code>2</code>s, and one <code>1</code>).</li>\n",
    "</ul>\n",
    "<p>Starting with the digits in your puzzle input, apply this process 40 times.  What is <em style=\"color: #fff; text-shadow: 0 0 5px #fff;\">the length of the result</em>?</p>\n"
   ]
  },
  {
   "cell_type": "code",
   "execution_count": 1,
   "id": "eb6272d4-a1ee-4c9e-8035-d0ee256de762",
   "metadata": {},
   "outputs": [],
   "source": [
    "import re"
   ]
  },
  {
   "cell_type": "code",
   "execution_count": 2,
   "id": "38fd3749-84fa-48c3-bd08-283d4a03548f",
   "metadata": {},
   "outputs": [],
   "source": [
    "with open(\"./puzzle_inputs/10.txt\") as f:\n",
    "    start_sequence = f.read().rstrip()"
   ]
  },
  {
   "cell_type": "code",
   "execution_count": 3,
   "id": "3c8cb8f4-1961-42f8-9683-f973ad8a2a65",
   "metadata": {},
   "outputs": [],
   "source": [
    "groups = re.findall('|'.join([f\"{i}+\" for i in range(10)]), start_sequence)"
   ]
  },
  {
   "cell_type": "code",
   "execution_count": 4,
   "id": "03cd5bb9-5858-4e98-9980-e180de698431",
   "metadata": {},
   "outputs": [],
   "source": [
    "sequence = start_sequence\n",
    "for _ in range(40):\n",
    "    new_sequence = \"\"\n",
    "    for group in re.findall('|'.join([f\"{i}+\" for i in range(10)]), sequence):\n",
    "        new_sequence += f\"{len(group)}{group[0]}\"\n",
    "    sequence = new_sequence"
   ]
  },
  {
   "cell_type": "code",
   "execution_count": 5,
   "id": "4be84525-1009-491b-856b-f4839f149473",
   "metadata": {},
   "outputs": [
    {
     "data": {
      "text/plain": [
       "252594"
      ]
     },
     "execution_count": 5,
     "metadata": {},
     "output_type": "execute_result"
    }
   ],
   "source": [
    "len(sequence)"
   ]
  },
  {
   "cell_type": "markdown",
   "id": "430fd929-308b-44db-9783-d6f16681d25a",
   "metadata": {},
   "source": [
    "---\n",
    "<h2 id=\"part2\">--- Part Two ---</h2><p>Neat, right? You might also enjoy hearing <a href=\"https://www.youtube.com/watch?v=ea7lJkEhytA\">John Conway talking about this sequence</a> (that's Conway of <em style=\"color: #fff; text-shadow: 0 0 5px #fff;\">Conway's Game of Life</em> fame).</p>\n",
    "<p>Now, starting again with the digits in your puzzle input, apply this process <em title=\"Only because any longer started taking alarmingly long on my test hardware, and I wanted to avoid excluding people.\">50</em> times.  What is <em style=\"color: #fff; text-shadow: 0 0 5px #fff;\">the length of the new result</em>?</p>\n"
   ]
  },
  {
   "cell_type": "code",
   "execution_count": 6,
   "id": "af509e9d-07a7-495e-9787-1b661ae2f005",
   "metadata": {},
   "outputs": [],
   "source": [
    "sequence = start_sequence\n",
    "for _ in range(50):\n",
    "    new_sequence = \"\"\n",
    "    for group in re.findall('|'.join([f\"{i}+\" for i in range(10)]), sequence):\n",
    "        new_sequence += f\"{len(group)}{group[0]}\"\n",
    "    sequence = new_sequence"
   ]
  },
  {
   "cell_type": "code",
   "execution_count": 7,
   "id": "6f4dc82a-7305-425b-a731-750c00aed8ba",
   "metadata": {},
   "outputs": [
    {
     "data": {
      "text/plain": [
       "3579328"
      ]
     },
     "execution_count": 7,
     "metadata": {},
     "output_type": "execute_result"
    }
   ],
   "source": [
    "len(sequence)"
   ]
  }
 ],
 "metadata": {
  "kernelspec": {
   "display_name": "Python 3 (ipykernel)",
   "language": "python",
   "name": "python3"
  },
  "language_info": {
   "codemirror_mode": {
    "name": "ipython",
    "version": 3
   },
   "file_extension": ".py",
   "mimetype": "text/x-python",
   "name": "python",
   "nbconvert_exporter": "python",
   "pygments_lexer": "ipython3",
   "version": "3.10.6"
  }
 },
 "nbformat": 4,
 "nbformat_minor": 5
}
