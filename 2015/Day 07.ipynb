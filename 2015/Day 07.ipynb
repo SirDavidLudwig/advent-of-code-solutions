{
 "cells": [
  {
   "cell_type": "markdown",
   "id": "821c758a-67d8-4c81-940f-5b74aaa8f240",
   "metadata": {},
   "source": [
    "<h2>--- Day 7: Some Assembly Required ---</h2><p>This year, Santa brought little Bobby Tables a set of circuit and <a href=\"https://en.wikipedia.org/wiki/Bitwise_operation\">bitwise logic gates</a>!  Unfortunately, little Bobby is a little under the recommended age range, and he needs help <span title=\"You had one of these as a kid, right?\">assembling the circuit</span>.</p>\n",
    "<p>Each wire has an identifier (some lowercase letters) and can carry a <a href=\"https://en.wikipedia.org/wiki/16-bit\">16-bit</a> signal (a number from <code>0</code> to <code>65535</code>).  A signal is provided to each wire by a gate, another wire, or some specific value. Each wire can only get a signal from one source, but can provide its signal to multiple destinations.  A gate provides no signal until all of its inputs have a signal.</p>\n",
    "<p>The included instructions booklet describes how to connect the parts together: <code>x AND y -&gt; z</code> means to connect circuit <code>x</code> and <code>y</code> to an AND gate, and then connect its output to wire <code>z</code>.</p>\n",
    "<p>For example:</p>\n",
    "<ul>\n",
    "<li><code>123 -&gt; x</code> means that the signal <code>123</code> is provided to wire <code>x</code>.</li>\n",
    "<li><code>x AND y -&gt; z</code> means that the <a href=\"https://en.wikipedia.org/wiki/Bitwise_operation#AND\">bitwise AND</a> of wire <code>x</code> and wire <code>y</code> is provided to wire <code>z</code>.</li>\n",
    "<li><code>p LSHIFT 2 -&gt; q</code> means that the value from wire <code>p</code> is <a href=\"https://en.wikipedia.org/wiki/Logical_shift\">left-shifted</a> by <code>2</code> and then provided to wire <code>q</code>.</li>\n",
    "<li><code>NOT e -&gt; f</code> means that the <a href=\"https://en.wikipedia.org/wiki/Bitwise_operation#NOT\">bitwise complement</a> of the value from wire <code>e</code> is provided to wire <code>f</code>.</li>\n",
    "</ul>\n",
    "<p>Other possible gates include <code>OR</code> (<a href=\"https://en.wikipedia.org/wiki/Bitwise_operation#OR\">bitwise OR</a>) and <code>RSHIFT</code> (<a href=\"https://en.wikipedia.org/wiki/Logical_shift\">right-shift</a>).  If, for some reason, you'd like to <em style=\"color: #fff; text-shadow: 0 0 5px #fff;\">emulate</em> the circuit instead, almost all programming languages (for example, <a href=\"https://en.wikipedia.org/wiki/Bitwise_operations_in_C\">C</a>, <a href=\"https://developer.mozilla.org/en-US/docs/Web/JavaScript/Reference/Operators/Bitwise_Operators\">JavaScript</a>, or <a href=\"https://wiki.python.org/moin/BitwiseOperators\">Python</a>) provide operators for these gates.</p>\n",
    "<p>For example, here is a simple circuit:</p>\n",
    "<pre style=\"display: inline-block; border: 1px solid #ccc;\"><code>123 -&gt; x\n",
    "456 -&gt; y\n",
    "x AND y -&gt; d\n",
    "x OR y -&gt; e\n",
    "x LSHIFT 2 -&gt; f\n",
    "y RSHIFT 2 -&gt; g\n",
    "NOT x -&gt; h\n",
    "NOT y -&gt; i\n",
    "</code></pre>\n",
    "<p>After it is run, these are the signals on the circuit:</p>\n",
    "<pre style=\"display: inline-block; border: 1px solid #ccc;\"><code>d: 72\n",
    "e: 507\n",
    "f: 492\n",
    "g: 114\n",
    "h: 65412\n",
    "i: 65079\n",
    "x: 123\n",
    "y: 456\n",
    "</code></pre>\n",
    "<p>In little Bobby's kit's instructions booklet (provided as your puzzle input), what signal is ultimately provided to <em style=\"color: #fff; text-shadow: 0 0 5px #fff;\">wire <code>a</code></em>?</p>\n"
   ]
  },
  {
   "cell_type": "code",
   "execution_count": 1,
   "id": "63fb1200-db0a-4a6a-afe0-cd858c71b3bd",
   "metadata": {},
   "outputs": [],
   "source": [
    "import numpy as np\n",
    "import re"
   ]
  },
  {
   "cell_type": "code",
   "execution_count": 2,
   "id": "b055ca94-f987-40d3-ab9b-ed9d681dd6f9",
   "metadata": {},
   "outputs": [],
   "source": [
    "with open(\"./puzzle_inputs/07.txt\") as f:\n",
    "    instructions = f.readlines()"
   ]
  },
  {
   "cell_type": "code",
   "execution_count": 3,
   "id": "cbd38645-e0bc-4ca1-ae1f-c311556b0a19",
   "metadata": {},
   "outputs": [],
   "source": [
    "ops = {\n",
    "    \"NOT\": lambda x,c: ~evaluate(x, c),\n",
    "    \"AND\": lambda x,y,c: evaluate(x, c) & evaluate(y, c),\n",
    "    \"OR\": lambda x,y,c: evaluate(x, c) | evaluate(y, c),\n",
    "    \"LSHIFT\": lambda x,y,c: evaluate(x, c) << evaluate(y, c),\n",
    "    \"RSHIFT\": lambda x,y,c: evaluate(x, c) >> evaluate(y, c)\n",
    "}"
   ]
  },
  {
   "cell_type": "code",
   "execution_count": 4,
   "id": "ff0948cc-3898-4a65-a33b-1bbbe07add08",
   "metadata": {},
   "outputs": [],
   "source": [
    "def construct_circuit(instructions):\n",
    "    circuit = {}\n",
    "    op_regex = f\"({'|'.join(ops.keys())})\"\n",
    "    for instruction in instructions:\n",
    "        value, wire = instruction.rstrip().split(' -> ')\n",
    "        terms = re.split(op_regex, value)\n",
    "        if len(terms) == 1:\n",
    "            circuit[wire] = terms[0]\n",
    "        else:\n",
    "            a, op, b = terms[0][:-1], terms[1], terms[2][1:]\n",
    "            circuit[wire] = (op, a, b) if op != \"NOT\" else (op, b)\n",
    "    return circuit\n",
    "\n",
    "def evaluate(wire, circuit):\n",
    "    if type(wire) == str and wire.isnumeric():\n",
    "        return np.uint16(wire)\n",
    "    value = circuit[wire]\n",
    "    if type(value) == str: # other wire\n",
    "        if value.isnumeric():\n",
    "            circuit[wire] = np.uint16(value)\n",
    "        else:\n",
    "            circuit[wire] = evaluate(value, circuit)\n",
    "    elif type(value) == tuple: # gate\n",
    "        circuit[wire] = ops[value[0]](*value[1:], circuit)\n",
    "    return circuit[wire]"
   ]
  },
  {
   "cell_type": "code",
   "execution_count": 5,
   "id": "445e163a-273b-4452-8082-dced29859eff",
   "metadata": {},
   "outputs": [
    {
     "data": {
      "text/plain": [
       "46065"
      ]
     },
     "execution_count": 5,
     "metadata": {},
     "output_type": "execute_result"
    }
   ],
   "source": [
    "circuit = construct_circuit(instructions)\n",
    "value_of_a = evaluate('a', circuit)\n",
    "value_of_a"
   ]
  },
  {
   "cell_type": "markdown",
   "id": "2edefdc1-bbf0-4801-a1dd-d8799965bd7b",
   "metadata": {},
   "source": [
    "---\n",
    "<h2 id=\"part2\">--- Part Two ---</h2><p>Now, take the signal you got on wire <code>a</code>, override wire <code>b</code> to that signal, and reset the other circuit (including wire <code>a</code>).  What new signal is ultimately provided to wire <code>a</code>?</p>\n"
   ]
  },
  {
   "cell_type": "code",
   "execution_count": 6,
   "id": "dce89ad3-7d9a-4d39-bf0a-0fb8732f707f",
   "metadata": {},
   "outputs": [
    {
     "data": {
      "text/plain": [
       "14134"
      ]
     },
     "execution_count": 6,
     "metadata": {},
     "output_type": "execute_result"
    }
   ],
   "source": [
    "# Reconstruct a circuit\n",
    "circuit = construct_circuit(instructions)\n",
    "circuit[\"b\"] = value_of_a\n",
    "evaluate('a', circuit)"
   ]
  }
 ],
 "metadata": {
  "kernelspec": {
   "display_name": "Python 3 (ipykernel)",
   "language": "python",
   "name": "python3"
  },
  "language_info": {
   "codemirror_mode": {
    "name": "ipython",
    "version": 3
   },
   "file_extension": ".py",
   "mimetype": "text/x-python",
   "name": "python",
   "nbconvert_exporter": "python",
   "pygments_lexer": "ipython3",
   "version": "3.10.6"
  }
 },
 "nbformat": 4,
 "nbformat_minor": 5
}
