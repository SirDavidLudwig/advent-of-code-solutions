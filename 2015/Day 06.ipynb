{
 "cells": [
  {
   "cell_type": "markdown",
   "id": "2218dc5d-d8a8-40c0-9681-431e6c732295",
   "metadata": {},
   "source": [
    "<h2>--- Day 6: Probably a Fire Hazard ---</h2><p>Because your neighbors keep defeating you in the holiday house decorating contest year after year, you've decided to deploy one million lights in a <span title=\"Hey, be glad I'm not asking for the resistance between two points!\">1000x1000 grid</span>.</p>\n",
    "<p>Furthermore, because you've been especially nice this year, Santa has mailed you instructions on how to display the ideal lighting configuration.</p>\n",
    "<p>Lights in your grid are numbered from 0 to 999 in each direction; the lights at each corner are at <code>0,0</code>, <code>0,999</code>, <code>999,999</code>, and <code>999,0</code>. The instructions include whether to <code>turn on</code>, <code>turn off</code>, or <code>toggle</code> various inclusive ranges given as coordinate pairs.  Each coordinate pair represents opposite corners of a rectangle, inclusive; a coordinate pair like <code>0,0 through 2,2</code> therefore refers to 9 lights in a 3x3 square.  The lights all start turned off.\n",
    "</p><p>To defeat your neighbors this year, all you have to do is set up your lights by doing the instructions Santa sent you in order.</p>\n",
    "<p>For example:</p>\n",
    "<ul>\n",
    "<li><code>turn on 0,0 through 999,999</code> would turn on (or leave on) every light.</li>\n",
    "<li><code>toggle 0,0 through 999,0</code> would toggle the first line of 1000 lights, turning off the ones that were on, and turning on the ones that were off.</li>\n",
    "<li><code>turn off 499,499 through 500,500</code> would turn off (or leave off) the middle four lights.</li>\n",
    "</ul>\n",
    "<p>After following the instructions, <em style=\"color: #fff; text-shadow: 0 0 5px #fff;\">how many lights are lit</em>?</p>\n"
   ]
  },
  {
   "cell_type": "code",
   "execution_count": 1,
   "id": "de5f77b1-4c09-44d7-829f-de9a42d22433",
   "metadata": {},
   "outputs": [],
   "source": [
    "import numpy as np\n",
    "import re"
   ]
  },
  {
   "cell_type": "code",
   "execution_count": 2,
   "id": "fa769f4f-d3ad-411c-bd1b-28948d175b3f",
   "metadata": {},
   "outputs": [],
   "source": [
    "with open(\"./puzzle_inputs/06.txt\") as f:\n",
    "    instructions = f.readlines()"
   ]
  },
  {
   "cell_type": "code",
   "execution_count": 3,
   "id": "12a3e7aa-ceae-44c6-b716-2035a8dc6dcc",
   "metadata": {},
   "outputs": [],
   "source": [
    "light_grid = np.zeros((1000, 1000), dtype=int)\n",
    "for instruction in instructions:\n",
    "    task, *coords = re.findall(r\"on|off|toggle|\\d+\", instruction)\n",
    "    x1, y1, x2, y2 = map(int, coords)\n",
    "    if task == \"toggle\":\n",
    "        light_grid[x1:x2+1,y1:y2+1] = light_grid[x1:x2+1,y1:y2+1] == 0\n",
    "    else:\n",
    "        light_grid[x1:x2+1,y1:y2+1] = int(task == 'on')"
   ]
  },
  {
   "cell_type": "code",
   "execution_count": 4,
   "id": "84bf8894-73f6-47cf-8dae-452cf45a58a2",
   "metadata": {},
   "outputs": [
    {
     "data": {
      "text/plain": [
       "377891"
      ]
     },
     "execution_count": 4,
     "metadata": {},
     "output_type": "execute_result"
    }
   ],
   "source": [
    "np.sum(light_grid)"
   ]
  },
  {
   "cell_type": "markdown",
   "id": "d8a51ce9-b9ea-42ab-b1f7-35230a90dff9",
   "metadata": {},
   "source": [
    "---\n",
    "<h2 id=\"part2\">--- Part Two ---</h2><p>You just finish implementing your winning light pattern when you realize you mistranslated Santa's message from Ancient Nordic Elvish.</p>\n",
    "<p>The light grid you bought actually has individual brightness controls; each light can have a brightness of zero or more.  The lights all start at zero.</p>\n",
    "<p>The phrase <code>turn on</code> actually means that you should increase the brightness of those lights by <code>1</code>.</p>\n",
    "<p>The phrase <code>turn off</code> actually means that you should decrease the brightness of those lights by <code>1</code>, to a minimum of zero.</p>\n",
    "<p>The phrase <code>toggle</code> actually means that you should increase the brightness of those lights by <code>2</code>.</p>\n",
    "<p>What is the <em style=\"color: #fff; text-shadow: 0 0 5px #fff;\">total brightness</em> of all lights combined after following Santa's instructions?</p>\n",
    "<p>For example:</p>\n",
    "<ul>\n",
    "<li><code>turn on 0,0 through 0,0</code> would increase the total brightness by <code>1</code>.</li>\n",
    "<li><code>toggle 0,0 through 999,999</code> would increase the total brightness by <code>2000000</code>.</li>\n",
    "</ul>\n"
   ]
  },
  {
   "cell_type": "code",
   "execution_count": 5,
   "id": "dacfc761-61e2-4189-91ff-703ac6035d56",
   "metadata": {},
   "outputs": [],
   "source": [
    "light_grid = np.zeros((1000, 1000), dtype=int)\n",
    "for instruction in instructions:\n",
    "    task, *coords = re.findall(r\"on|off|toggle|\\d+\", instruction)\n",
    "    x1, y1, x2, y2 = map(int, coords)\n",
    "    if task == \"off\":\n",
    "        light_grid[x1:x2+1,y1:y2+1] -= light_grid[x1:x2+1,y1:y2+1] > 0\n",
    "    else:\n",
    "        light_grid[x1:x2+1,y1:y2+1] += 1 + int(task == \"toggle\")"
   ]
  },
  {
   "cell_type": "code",
   "execution_count": 6,
   "id": "d57fde6f-90d0-4da0-9ed6-3f3997a00cb4",
   "metadata": {},
   "outputs": [
    {
     "data": {
      "text/plain": [
       "14110788"
      ]
     },
     "execution_count": 6,
     "metadata": {},
     "output_type": "execute_result"
    }
   ],
   "source": [
    "np.sum(light_grid)"
   ]
  }
 ],
 "metadata": {
  "kernelspec": {
   "display_name": "Python 3 (ipykernel)",
   "language": "python",
   "name": "python3"
  },
  "language_info": {
   "codemirror_mode": {
    "name": "ipython",
    "version": 3
   },
   "file_extension": ".py",
   "mimetype": "text/x-python",
   "name": "python",
   "nbconvert_exporter": "python",
   "pygments_lexer": "ipython3",
   "version": "3.10.6"
  }
 },
 "nbformat": 4,
 "nbformat_minor": 5
}
