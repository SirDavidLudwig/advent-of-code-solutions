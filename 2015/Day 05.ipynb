{
 "cells": [
  {
   "cell_type": "markdown",
   "id": "f3186c82-5c40-4369-b381-6c016f4dadd7",
   "metadata": {},
   "source": [
    "<h2>--- Day 5: Doesn't He Have Intern-Elves For This? ---</h2><p>Santa needs help figuring out which strings in his text file are naughty or nice.</p>\n",
    "<p>A <em style=\"color: #fff; text-shadow: 0 0 5px #fff;\">nice string</em> is one with all of the following properties:</p>\n",
    "<ul>\n",
    "<li>It contains at least three vowels (<code>aeiou</code> only), like <code>aei</code>, <code>xazegov</code>, or <code title=\"John Madden John Madden John Madden\">aeiouaeiouaeiou</code>.</li>\n",
    "<li>It contains at least one letter that appears twice in a row, like <code>xx</code>, <code>abcdde</code> (<code>dd</code>), or <code>aabbccdd</code> (<code>aa</code>, <code>bb</code>, <code>cc</code>, or <code>dd</code>).</li>\n",
    "<li>It does <em style=\"color: #fff; text-shadow: 0 0 5px #fff;\">not</em> contain the strings <code>ab</code>, <code>cd</code>, <code>pq</code>, or <code>xy</code>, even if they are part of one of the other requirements.</li>\n",
    "</ul>\n",
    "<p>For example:</p>\n",
    "<ul>\n",
    "<li><code>ugknbfddgicrmopn</code> is nice because it has at least three vowels (<code>u...i...o...</code>), a double letter (<code>...dd...</code>), and none of the disallowed substrings.</li>\n",
    "<li><code>aaa</code> is nice because it has at least three vowels and a double letter, even though the letters used by different rules overlap.</li>\n",
    "<li><code>jchzalrnumimnmhp</code> is naughty because it has no double letter.</li>\n",
    "<li><code>haegwjzuvuyypxyu</code> is naughty because it contains the string <code>xy</code>.</li>\n",
    "<li><code>dvszwmarrgswjxmb</code> is naughty because it contains only one vowel.</li>\n",
    "</ul>\n",
    "<p>How many strings are nice?</p>\n"
   ]
  },
  {
   "cell_type": "code",
   "execution_count": 1,
   "id": "42fb4f1f-b921-4591-8fe0-46261286f0af",
   "metadata": {},
   "outputs": [],
   "source": [
    "with open(\"./puzzle_inputs/05.txt\") as f:\n",
    "    strings = [string.strip() for string in f]"
   ]
  },
  {
   "cell_type": "code",
   "execution_count": 2,
   "id": "5e8488e0-3536-408d-ba39-735c46969428",
   "metadata": {},
   "outputs": [],
   "source": [
    "vowels = set('aeiou')\n",
    "blacklist = set(['ab', 'cd', 'pq', 'xy'])"
   ]
  },
  {
   "cell_type": "code",
   "execution_count": 3,
   "id": "63ce6e40-08dd-4ed9-92bd-0ec2d69fa215",
   "metadata": {},
   "outputs": [],
   "source": [
    "def is_nice_string(string):\n",
    "    num_vowels = int(string[0] in vowels)\n",
    "    doubles = 0\n",
    "    for i in range(len(string) - 1):\n",
    "        group = string[i:i+2]\n",
    "        if group in blacklist:\n",
    "            return False\n",
    "        if group[0] == group[1]:\n",
    "            doubles += 1\n",
    "        num_vowels += int(string[i+1] in vowels)\n",
    "    return num_vowels >= 3 and doubles > 0"
   ]
  },
  {
   "cell_type": "code",
   "execution_count": 4,
   "id": "6f099c07-e68f-45dd-85a8-e6a989e4e857",
   "metadata": {},
   "outputs": [
    {
     "data": {
      "text/plain": [
       "238"
      ]
     },
     "execution_count": 4,
     "metadata": {},
     "output_type": "execute_result"
    }
   ],
   "source": [
    "sum(is_nice_string(s) for s in strings)"
   ]
  },
  {
   "cell_type": "markdown",
   "id": "19f39404-1eaf-4f86-b709-7ce1b1b139e7",
   "metadata": {},
   "source": [
    "---\n",
    "<h2 id=\"part2\">--- Part Two ---</h2><p>Realizing the error of his ways, Santa has switched to a better model of determining whether a string is naughty or nice.  None of the old rules apply, as they are all clearly ridiculous.</p>\n",
    "<p>Now, a nice string is one with all of the following properties:</p>\n",
    "<ul>\n",
    "<li>It contains a pair of any two letters that appears at least twice in the string without overlapping, like <code>xyxy</code> (<code>xy</code>) or <code>aabcdefgaa</code> (<code>aa</code>), but not like <code>aaa</code> (<code>aa</code>, but it overlaps).</li>\n",
    "<li>It contains at least one letter which repeats with exactly one letter between them, like <code>xyx</code>, <code>abcdefeghi</code> (<code>efe</code>), or even <code>aaa</code>.</li>\n",
    "</ul>\n",
    "<p>For example:</p>\n",
    "<ul>\n",
    "<li><code>qjhvhtzxzqqjkmpb</code> is nice because is has a pair that appears twice (<code>qj</code>) and a letter that repeats with exactly one letter between them (<code>zxz</code>).</li>\n",
    "<li><code>xxyxx</code> is nice because it has a pair that appears twice and a letter that repeats with one between, even though the letters used by each rule overlap.</li>\n",
    "<li><code>uurcxstgmygtbstg</code> is naughty because it has a pair (<code>tg</code>) but no repeat with a single letter between them.</li>\n",
    "<li><code>ieodomkazucvgmuy</code> is naughty because it has a repeating letter with one between (<code>odo</code>), but no pair that appears twice.</li>\n",
    "</ul>\n",
    "<p>How many strings are nice under these new rules?</p>\n"
   ]
  },
  {
   "cell_type": "code",
   "execution_count": 5,
   "id": "08e4f7d3-edfc-499b-850a-e5ea55d9885b",
   "metadata": {},
   "outputs": [],
   "source": [
    "def has_letter_between(string):\n",
    "    for i in range(2, len(string)):\n",
    "        if string[i - 2] == string[i]:\n",
    "            return True\n",
    "    return False\n",
    "\n",
    "def has_two_pairs(string):\n",
    "    found_pairs = {}\n",
    "    for i in range(len(string) - 1):\n",
    "        pair = string[i:i+2]\n",
    "        if pair not in found_pairs:\n",
    "            found_pairs[pair] = i\n",
    "        elif found_pairs[pair] < i - 1:\n",
    "            return True\n",
    "    return False\n",
    "\n",
    "def is_nice_string_2(string):\n",
    "    return has_letter_between(string) and has_two_pairs(string)"
   ]
  },
  {
   "cell_type": "code",
   "execution_count": 6,
   "id": "a02fa14f-7c4a-4262-9bca-9a6801dfe6d7",
   "metadata": {},
   "outputs": [
    {
     "data": {
      "text/plain": [
       "69"
      ]
     },
     "execution_count": 6,
     "metadata": {},
     "output_type": "execute_result"
    }
   ],
   "source": [
    "sum(is_nice_string_2(s) for s in strings)"
   ]
  }
 ],
 "metadata": {
  "kernelspec": {
   "display_name": "Python 3 (ipykernel)",
   "language": "python",
   "name": "python3"
  },
  "language_info": {
   "codemirror_mode": {
    "name": "ipython",
    "version": 3
   },
   "file_extension": ".py",
   "mimetype": "text/x-python",
   "name": "python",
   "nbconvert_exporter": "python",
   "pygments_lexer": "ipython3",
   "version": "3.10.6"
  }
 },
 "nbformat": 4,
 "nbformat_minor": 5
}
