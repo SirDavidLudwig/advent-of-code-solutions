{
 "cells": [
  {
   "cell_type": "markdown",
   "id": "f63238de-5f6c-4465-9db9-5acb5c3935b2",
   "metadata": {},
   "source": [
    "<h2>--- Day 13: Knights of the Dinner Table ---</h2><p>In years past, the holiday feast with your family hasn't gone so well.  Not everyone gets along!  This year, you resolve, will be different.  You're going to find the <em style=\"color: #fff; text-shadow: 0 0 5px #fff;\">optimal seating arrangement</em> and avoid all those awkward conversations.</p>\n",
    "<p>You start by writing up a list of everyone invited and the amount their happiness would increase or decrease if they were to find themselves sitting next to each other person.  You have a circular table that will be just big enough to fit everyone comfortably, and so each person will have exactly two neighbors.</p>\n",
    "<p>For example, suppose you have only four attendees planned, and you <span title=\"Finding a method to calculate happiness units is left as an exercise for the reader.\">calculate</span> their potential happiness as follows:</p>\n",
    "<pre style=\"display: inline-block; border: 1px solid #ccc;\"><code>Alice would gain 54 happiness units by sitting next to Bob.\n",
    "Alice would lose 79 happiness units by sitting next to Carol.\n",
    "Alice would lose 2 happiness units by sitting next to David.\n",
    "Bob would gain 83 happiness units by sitting next to Alice.\n",
    "Bob would lose 7 happiness units by sitting next to Carol.\n",
    "Bob would lose 63 happiness units by sitting next to David.\n",
    "Carol would lose 62 happiness units by sitting next to Alice.\n",
    "Carol would gain 60 happiness units by sitting next to Bob.\n",
    "Carol would gain 55 happiness units by sitting next to David.\n",
    "David would gain 46 happiness units by sitting next to Alice.\n",
    "David would lose 7 happiness units by sitting next to Bob.\n",
    "David would gain 41 happiness units by sitting next to Carol.\n",
    "</code></pre>\n",
    "<p>Then, if you seat Alice next to David, Alice would lose <code>2</code> happiness units (because David talks so much), but David would gain <code>46</code> happiness units (because Alice is such a good listener), for a total change of <code>44</code>.</p>\n",
    "<p>If you continue around the table, you could then seat Bob next to Alice (Bob gains <code>83</code>, Alice gains <code>54</code>).  Finally, seat Carol, who sits next to Bob (Carol gains <code>60</code>, Bob loses <code>7</code>) and David (Carol gains <code>55</code>, David gains <code>41</code>).  The arrangement looks like this:</p>\n",
    "<pre style=\"display: inline-block; border: 1px solid #ccc;\"><code>     +41 +46\n",
    "+55   David    -2\n",
    "Carol       Alice\n",
    "+60    Bob    +54\n",
    "     -7  +83\n",
    "</code></pre>\n",
    "<p>After trying every other seating arrangement in this hypothetical scenario, you find that this one is the most optimal, with a total change in happiness of <code>330</code>.</p>\n",
    "<p>What is the <em style=\"color: #fff; text-shadow: 0 0 5px #fff;\">total change in happiness</em> for the optimal seating arrangement of the actual guest list?</p>\n"
   ]
  },
  {
   "cell_type": "code",
   "execution_count": 1,
   "id": "0a9ff148-d810-4ad2-a8bf-153794e97cb3",
   "metadata": {},
   "outputs": [],
   "source": [
    "import itertools\n",
    "import numpy as np\n",
    "import re"
   ]
  },
  {
   "cell_type": "code",
   "execution_count": 2,
   "id": "0a4c05ce-abc4-4fb4-b03a-444c4cd63646",
   "metadata": {},
   "outputs": [
    {
     "name": "stdout",
     "output_type": "stream",
     "text": [
      "56\n"
     ]
    }
   ],
   "source": [
    "with open(\"./puzzle_inputs/13.txt\") as f:\n",
    "    regex = r\"(\\w+) would (gain|lose) (\\d+) happiness units by sitting next to (\\w+)\"\n",
    "    info = re.findall(regex, f.read())\n",
    "print(len(info))"
   ]
  },
  {
   "cell_type": "code",
   "execution_count": 3,
   "id": "8bb5595d-9f1f-450d-8f2c-6c54d2117653",
   "metadata": {},
   "outputs": [
    {
     "data": {
      "text/plain": [
       "8"
      ]
     },
     "execution_count": 3,
     "metadata": {},
     "output_type": "execute_result"
    }
   ],
   "source": [
    "num_guests = int(np.ceil(np.sqrt(len(info))))\n",
    "num_guests"
   ]
  },
  {
   "cell_type": "code",
   "execution_count": 4,
   "id": "a86025c8-53ff-4f5b-b90c-b23c2d20a9ec",
   "metadata": {},
   "outputs": [
    {
     "data": {
      "text/plain": [
       "{'Alice': 0,\n",
       " 'Bob': 1,\n",
       " 'Carol': 2,\n",
       " 'David': 3,\n",
       " 'Eric': 4,\n",
       " 'Frank': 5,\n",
       " 'George': 6,\n",
       " 'Mallory': 7}"
      ]
     },
     "execution_count": 4,
     "metadata": {},
     "output_type": "execute_result"
    }
   ],
   "source": [
    "guests = {g[0]: i for i, g in enumerate(info[::num_guests - 1])}\n",
    "guests"
   ]
  },
  {
   "cell_type": "code",
   "execution_count": 5,
   "id": "ad304366-3f14-41bd-bd31-ac82daeeceea",
   "metadata": {},
   "outputs": [
    {
     "data": {
      "text/plain": [
       "(8, 8)"
      ]
     },
     "execution_count": 5,
     "metadata": {},
     "output_type": "execute_result"
    }
   ],
   "source": [
    "happiness_matrix = np.zeros((num_guests, num_guests), dtype=int)\n",
    "for a, influence, value, b in info:\n",
    "    happiness_matrix[guests[a],guests[b]] = int(value) if influence == \"gain\" else -int(value)\n",
    "    happiness_matrix\n",
    "happiness_matrix.shape"
   ]
  },
  {
   "cell_type": "code",
   "execution_count": 6,
   "id": "cec64dbc-9ddf-460d-9074-a4338cd1cd09",
   "metadata": {},
   "outputs": [
    {
     "data": {
      "text/plain": [
       "664"
      ]
     },
     "execution_count": 6,
     "metadata": {},
     "output_type": "execute_result"
    }
   ],
   "source": [
    "best_happiness = -np.inf\n",
    "for p in itertools.permutations(range(len(happiness_matrix))):\n",
    "    happiness = 0\n",
    "    for i in range(len(p)):\n",
    "        left, center, right = p[(i-1)%len(p)], p[i], p[(i+1)%len(p)]\n",
    "        happiness += happiness_matrix[center,left] + happiness_matrix[center,right]\n",
    "    if happiness > best_happiness:\n",
    "        best_happiness = happiness\n",
    "best_happiness"
   ]
  },
  {
   "cell_type": "markdown",
   "id": "967fef1a-705a-427a-ba4a-c7f71ca921f2",
   "metadata": {},
   "source": [
    "---\n",
    "<h2 id=\"part2\">--- Part Two ---</h2><p>In all the commotion, you realize that you forgot to seat yourself.  At this point, you're pretty apathetic toward the whole thing, and your happiness wouldn't really go up or down regardless of who you sit next to.  You assume everyone else would be just as ambivalent about sitting next to you, too.</p>\n",
    "<p>So, add yourself to the list, and give all happiness relationships that involve you a score of <code>0</code>.</p>\n",
    "<p>What is the <em style=\"color: #fff; text-shadow: 0 0 5px #fff;\">total change in happiness</em> for the optimal seating arrangement that actually includes yourself?</p>\n"
   ]
  },
  {
   "cell_type": "code",
   "execution_count": 7,
   "id": "ff3d2d87-192a-4f47-83c9-4daef804a0c6",
   "metadata": {},
   "outputs": [
    {
     "data": {
      "text/plain": [
       "(9, 9)"
      ]
     },
     "execution_count": 7,
     "metadata": {},
     "output_type": "execute_result"
    }
   ],
   "source": [
    "happiness_matrix = np.zeros((num_guests + 1, num_guests + 1), dtype=int)\n",
    "for a, influence, value, b in info:\n",
    "    happiness_matrix[guests[a],guests[b]] = int(value) if influence == \"gain\" else -int(value)\n",
    "    happiness_matrix\n",
    "happiness_matrix.shape"
   ]
  },
  {
   "cell_type": "code",
   "execution_count": 8,
   "id": "d8754bf6-c185-4890-b919-4f4af914b04b",
   "metadata": {},
   "outputs": [
    {
     "data": {
      "text/plain": [
       "640"
      ]
     },
     "execution_count": 8,
     "metadata": {},
     "output_type": "execute_result"
    }
   ],
   "source": [
    "best_happiness = -np.inf\n",
    "for p in itertools.permutations(range(len(happiness_matrix))):\n",
    "    happiness = 0\n",
    "    for i in range(len(p)):\n",
    "        left, center, right = p[(i-1)%len(p)], p[i], p[(i+1)%len(p)]\n",
    "        happiness += happiness_matrix[center,left] + happiness_matrix[center,right]\n",
    "    if happiness > best_happiness:\n",
    "        best_happiness = happiness\n",
    "best_happiness"
   ]
  }
 ],
 "metadata": {
  "kernelspec": {
   "display_name": "Python 3 (ipykernel)",
   "language": "python",
   "name": "python3"
  },
  "language_info": {
   "codemirror_mode": {
    "name": "ipython",
    "version": 3
   },
   "file_extension": ".py",
   "mimetype": "text/x-python",
   "name": "python",
   "nbconvert_exporter": "python",
   "pygments_lexer": "ipython3",
   "version": "3.10.6"
  }
 },
 "nbformat": 4,
 "nbformat_minor": 5
}
