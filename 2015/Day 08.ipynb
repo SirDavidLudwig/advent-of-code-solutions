{
 "cells": [
  {
   "cell_type": "markdown",
   "id": "cbb3c54c-f174-4f40-a537-6decef81901d",
   "metadata": {},
   "source": [
    "<h2>--- Day 8: Matchsticks ---</h2><p>Space on the sleigh is limited this year, and so Santa will be bringing his list as a digital copy. He needs to know how much space it will take up when stored.</p>\n",
    "<p>It is common in many programming languages to provide a way to <span title=\"It is common for many programmers to try to escape from string escaping.  No such luck here.\">escape</span> special characters in strings.  For example, <a href=\"https://en.wikipedia.org/wiki/Escape_sequences_in_C\">C</a>, <a href=\"https://developer.mozilla.org/en-US/docs/Web/JavaScript/Reference/Global_Objects/String\">JavaScript</a>, <a href=\"http://perldoc.perl.org/perlop.html#Quote-and-Quote-like-Operators\">Perl</a>, <a href=\"https://docs.python.org/2.0/ref/strings.html\">Python</a>, and even <a href=\"http://php.net/manual/en/language.types.string.php#language.types.string.syntax.double\">PHP</a> handle special characters in very similar ways.</p>\n",
    "<p>However, it is important to realize the difference between the number of characters <em style=\"color: #fff; text-shadow: 0 0 5px #fff;\">in the code representation of the string literal</em> and the number of characters <em style=\"color: #fff; text-shadow: 0 0 5px #fff;\">in the in-memory string itself</em>.</p>\n",
    "<p>For example:</p>\n",
    "<ul>\n",
    "<li><code>\"\"</code> is <code>2</code> characters of code (the two double quotes), but the string contains zero characters.</li>\n",
    "<li><code>\"abc\"</code> is <code>5</code> characters of code, but <code>3</code> characters in the string data.</li>\n",
    "<li><code>\"aaa\\\"aaa\"</code> is <code>10</code> characters of code, but the string itself contains six \"a\" characters and a single, escaped quote character, for a total of <code>7</code> characters in the string data.</li>\n",
    "<li><code>\"\\x27\"</code> is <code>6</code> characters of code, but the string itself contains just one - an apostrophe (<code>'</code>), escaped using hexadecimal notation.</li>\n",
    "</ul>\n",
    "<p>Santa's list is a file that contains many double-quoted string literals, one on each line.  The only escape sequences used are <code>\\\\</code> (which represents a single backslash), <code>\\\"</code> (which represents a lone double-quote character), and <code>\\x</code> plus two hexadecimal characters (which represents a single character with that ASCII code).</p>\n",
    "<p>Disregarding the whitespace in the file, what is <em style=\"color: #fff; text-shadow: 0 0 5px #fff;\">the number of characters of code for string literals</em> minus <em style=\"color: #fff; text-shadow: 0 0 5px #fff;\">the number of characters in memory for the values of the strings</em> in total for the entire file?</p>\n",
    "<p>For example, given the four strings above, the total number of characters of string code (<code>2 + 5 + 10 + 6 = 23</code>) minus the total number of characters in memory for string values (<code>0 + 3 + 7 + 1 = 11</code>) is <code>23 - 11 = 12</code>.</p>\n"
   ]
  },
  {
   "cell_type": "code",
   "execution_count": 1,
   "id": "c67312f9-cb56-4fca-8961-91c3f0843254",
   "metadata": {},
   "outputs": [],
   "source": [
    "import re"
   ]
  },
  {
   "cell_type": "code",
   "execution_count": 2,
   "id": "624034b0-a707-4f92-8672-c58b2a876e52",
   "metadata": {},
   "outputs": [],
   "source": [
    "with open(\"./puzzle_inputs/08.txt\") as f:\n",
    "    strings = f.read().rstrip().split('\\n')"
   ]
  },
  {
   "cell_type": "code",
   "execution_count": 3,
   "id": "713fc3b2-718e-469c-9247-8543ebcc992b",
   "metadata": {},
   "outputs": [
    {
     "data": {
      "text/plain": [
       "1350"
      ]
     },
     "execution_count": 3,
     "metadata": {},
     "output_type": "execute_result"
    }
   ],
   "source": [
    "num_code_chars = sum(len(s.rstrip()) for s in strings)\n",
    "num_mem_chars = sum(len(eval(s)) for s in strings)\n",
    "num_code_chars - num_mem_chars"
   ]
  },
  {
   "cell_type": "markdown",
   "id": "6d355435-5f82-4060-a9eb-a0f7c3c49c69",
   "metadata": {},
   "source": [
    "---\n",
    "<h2 id=\"part2\">--- Part Two ---</h2><p>Now, let's go the other way.  In addition to finding the number of characters of code, you should now <em style=\"color: #fff; text-shadow: 0 0 5px #fff;\">encode each code representation as a new string</em> and find the number of characters of the new encoded representation, including the surrounding double quotes.</p>\n",
    "<p>For example:</p>\n",
    "<ul>\n",
    "<li><code>\"\"</code> encodes to <code>\"\\\"\\\"\"</code>, an increase from <code>2</code> characters to <code>6</code>.</li>\n",
    "<li><code>\"abc\"</code> encodes to <code>\"\\\"abc\\\"\"</code>, an increase from <code>5</code> characters to <code>9</code>.</li>\n",
    "<li><code>\"aaa\\\"aaa\"</code> encodes to <code>\"\\\"aaa\\\\\\\"aaa\\\"\"</code>, an increase from <code>10</code> characters to <code>16</code>.</li>\n",
    "<li><code>\"\\x27\"</code> encodes to <code>\"\\\"\\\\x27\\\"\"</code>, an increase from <code>6</code> characters to <code>11</code>.</li>\n",
    "</ul>\n",
    "<p>Your task is to find <em style=\"color: #fff; text-shadow: 0 0 5px #fff;\">the total number of characters to represent the newly encoded strings</em> minus <em style=\"color: #fff; text-shadow: 0 0 5px #fff;\">the number of characters of code in each original string literal</em>. For example, for the strings above, the total encoded length (<code>6 + 9 + 16 + 11 = 42</code>) minus the characters in the original code representation (<code>23</code>, just like in the first part of this puzzle) is <code>42 - 23 = 19</code>.</p>\n"
   ]
  },
  {
   "cell_type": "code",
   "execution_count": 4,
   "id": "3e48d390-abd3-4d85-998e-770672538f54",
   "metadata": {},
   "outputs": [
    {
     "data": {
      "text/plain": [
       "2085"
      ]
     },
     "execution_count": 4,
     "metadata": {},
     "output_type": "execute_result"
    }
   ],
   "source": [
    "sum(2 + len(s) + len(re.findall(r'[\\\\\"]', s)) for s in strings) - num_code_chars"
   ]
  }
 ],
 "metadata": {
  "kernelspec": {
   "display_name": "Python 3 (ipykernel)",
   "language": "python",
   "name": "python3"
  },
  "language_info": {
   "codemirror_mode": {
    "name": "ipython",
    "version": 3
   },
   "file_extension": ".py",
   "mimetype": "text/x-python",
   "name": "python",
   "nbconvert_exporter": "python",
   "pygments_lexer": "ipython3",
   "version": "3.10.6"
  }
 },
 "nbformat": 4,
 "nbformat_minor": 5
}
