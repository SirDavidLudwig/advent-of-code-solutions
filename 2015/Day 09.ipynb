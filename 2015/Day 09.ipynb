{
 "cells": [
  {
   "cell_type": "markdown",
   "id": "02dffd4f-47a1-4a70-afd0-feab77ad3006",
   "metadata": {},
   "source": [
    "<div style=\"background-color: rgb(15, 15, 35); border: 1px solid rgb(255, 255, 255); color: rgb(204, 204, 204); font-family: monospace; margin-left: -5px; margin-right: -20px; padding: 1rem;\"><h2 style=\"border-color: rgb(255, 255, 255); color: rgb(255, 255, 255);\">--- Day 9: All in a Single Night ---</h2><p style=\"border-color: rgb(204, 204, 204); color: rgb(204, 204, 204);\">Every year, Santa manages to deliver all of his presents in a single night.</p>\n",
    "<p style=\"border-color: rgb(204, 204, 204); color: rgb(204, 204, 204);\">This year, however, he has some <span title=\"Bonus points if you recognize all of the locations.\" style=\"border-color: rgb(204, 204, 204); color: rgb(204, 204, 204);\">new locations</span> to visit; his elves have provided him the distances between every pair of locations.  He can start and end at any two (different) locations he wants, but he must visit each location exactly once.  What is the <em style=\"border-color: rgb(255, 255, 255); color: rgb(255, 255, 255); text-shadow: rgb(255, 255, 255) 0px 0px 5px;\">shortest distance</em> he can travel to achieve this?</p>\n",
    "<p style=\"border-color: rgb(204, 204, 204); color: rgb(204, 204, 204);\">For example, given the following distances:</p>\n",
    "<pre style=\"border: 1px solid rgb(51, 51, 64); color: rgb(204, 204, 204); display: inline-block;\"><code style=\"border-color: rgb(204, 204, 204); color: rgb(204, 204, 204);\">London to Dublin = 464\n",
    "London to Belfast = 518\n",
    "Dublin to Belfast = 141\n",
    "</code></pre>\n",
    "<p style=\"border-color: rgb(204, 204, 204); color: rgb(204, 204, 204);\">The possible routes are therefore:</p>\n",
    "<pre style=\"border: 1px solid rgb(51, 51, 64); color: rgb(204, 204, 204); display: inline-block;\"><code style=\"border-color: rgb(204, 204, 204); color: rgb(204, 204, 204);\">Dublin -&gt; London -&gt; Belfast = 982\n",
    "London -&gt; Dublin -&gt; Belfast = 605\n",
    "London -&gt; Belfast -&gt; Dublin = 659\n",
    "Dublin -&gt; Belfast -&gt; London = 659\n",
    "Belfast -&gt; Dublin -&gt; London = 605\n",
    "Belfast -&gt; London -&gt; Dublin = 982\n",
    "</code></pre>\n",
    "<p style=\"border-color: rgb(204, 204, 204); color: rgb(204, 204, 204);\">The shortest of these is <code style=\"border: 1px solid rgb(51, 51, 64); color: rgb(204, 204, 204); background: rgb(16, 16, 26);\">London -&gt; Dublin -&gt; Belfast = 605</code>, and so the answer is <code style=\"border: 1px solid rgb(51, 51, 64); color: rgb(204, 204, 204); background: rgb(16, 16, 26);\">605</code> in this example.</p>\n",
    "<p style=\"border-color: rgb(204, 204, 204); color: rgb(204, 204, 204);\">What is the distance of the shortest route?</p>\n",
    "</div>"
   ]
  },
  {
   "cell_type": "code",
   "execution_count": 1,
   "id": "943a67ba-23dd-4264-952a-eba586e944b5",
   "metadata": {},
   "outputs": [],
   "source": [
    "from itertools import permutations\n",
    "import numpy as np\n",
    "import re"
   ]
  },
  {
   "cell_type": "code",
   "execution_count": 2,
   "id": "0eafee36-30e7-48cf-804f-939b559b797f",
   "metadata": {},
   "outputs": [],
   "source": [
    "with open(\"./puzzle_inputs/09.txt\") as f:\n",
    "    lines = f.readlines()"
   ]
  },
  {
   "cell_type": "code",
   "execution_count": 3,
   "id": "616db885-6f1a-4121-8515-6a964129bbf5",
   "metadata": {},
   "outputs": [
    {
     "data": {
      "text/plain": [
       "8"
      ]
     },
     "execution_count": 3,
     "metadata": {},
     "output_type": "execute_result"
    }
   ],
   "source": [
    "location_map = {}\n",
    "for line in lines:\n",
    "    for location in re.findall(r'([A-z]+) to ([A-z]+)', line)[0]:\n",
    "        if location not in location_map:\n",
    "            location_map[location] = len(location_map)\n",
    "len(location_map)"
   ]
  },
  {
   "cell_type": "code",
   "execution_count": 4,
   "id": "792ea8c0-4ca0-414b-a062-c5c7fd1ae01d",
   "metadata": {},
   "outputs": [
    {
     "data": {
      "text/plain": [
       "(8, 8)"
      ]
     },
     "execution_count": 4,
     "metadata": {},
     "output_type": "execute_result"
    }
   ],
   "source": [
    "distance_matrix = np.full((len(location_map), len(location_map)), np.inf)\n",
    "for line in lines:\n",
    "    a, b, distance = re.findall(r'([A-z]+) to ([A-z]+) = (\\d+)', line)[0]\n",
    "    i, j = location_map[a], location_map[b]\n",
    "    distance_matrix[i,j] = distance_matrix[j,i] = int(distance)\n",
    "distance_matrix.shape"
   ]
  },
  {
   "cell_type": "code",
   "execution_count": 5,
   "id": "a4e72bcd-1283-4f91-8ead-aa3d26568403",
   "metadata": {},
   "outputs": [
    {
     "data": {
      "text/plain": [
       "207"
      ]
     },
     "execution_count": 5,
     "metadata": {},
     "output_type": "execute_result"
    }
   ],
   "source": [
    "shortest_distance = np.inf\n",
    "for p in permutations(range(len(location_map))):\n",
    "    distance = int(np.sum(distance_matrix[(np.array(p)[:-1], np.roll(p, -1)[:-1])]))\n",
    "    if distance < shortest_distance:\n",
    "        shortest_distance = distance\n",
    "shortest_distance"
   ]
  },
  {
   "cell_type": "markdown",
   "id": "8de490d9-9d0f-4b02-b5c5-056cd620a062",
   "metadata": {},
   "source": [
    "<div style=\"background-color: rgb(15, 15, 35); border: 1px solid rgb(255, 255, 255); color: rgb(204, 204, 204); font-family: monospace; margin-left: -5px; margin-right: -20px; padding: 1rem;\"><h2 id=\"part2\" style=\"border-color: rgb(255, 255, 255); color: rgb(255, 255, 255);\">--- Part Two ---</h2><p style=\"border-color: rgb(204, 204, 204); color: rgb(204, 204, 204);\">The next year, just to show off, Santa decides to take the route with the <em style=\"border-color: rgb(255, 255, 255); color: rgb(255, 255, 255); text-shadow: rgb(255, 255, 255) 0px 0px 5px;\">longest distance</em> instead.</p>\n",
    "<p style=\"border-color: rgb(204, 204, 204); color: rgb(204, 204, 204);\">He can still start and end at any two (different) locations he wants, and he still must visit each location exactly once.</p>\n",
    "<p style=\"border-color: rgb(204, 204, 204); color: rgb(204, 204, 204);\">For example, given the distances above, the longest route would be <code style=\"border: 1px solid rgb(51, 51, 64); color: rgb(204, 204, 204); background: rgb(16, 16, 26);\">982</code> via (for example) <code style=\"border: 1px solid rgb(51, 51, 64); color: rgb(204, 204, 204); background: rgb(16, 16, 26);\">Dublin -&gt; London -&gt; Belfast</code>.</p>\n",
    "<p style=\"border-color: rgb(204, 204, 204); color: rgb(204, 204, 204);\">What is the distance of the longest route?</p>\n",
    "</div>"
   ]
  },
  {
   "cell_type": "code",
   "execution_count": 6,
   "id": "7b2da5bb-a54c-47d7-8b4f-d38e0c338315",
   "metadata": {},
   "outputs": [
    {
     "data": {
      "text/plain": [
       "804"
      ]
     },
     "execution_count": 6,
     "metadata": {},
     "output_type": "execute_result"
    }
   ],
   "source": [
    "longest_distance = -np.inf\n",
    "for p in permutations(range(len(location_map))):\n",
    "    distance = int(np.sum(distance_matrix[(np.array(p)[:-1], np.roll(p, -1)[:-1])]))\n",
    "    if distance > longest_distance:\n",
    "        longest_distance = distance\n",
    "longest_distance"
   ]
  }
 ],
 "metadata": {
  "kernelspec": {
   "display_name": "Python 3 (ipykernel)",
   "language": "python",
   "name": "python3"
  },
  "language_info": {
   "codemirror_mode": {
    "name": "ipython",
    "version": 3
   },
   "file_extension": ".py",
   "mimetype": "text/x-python",
   "name": "python",
   "nbconvert_exporter": "python",
   "pygments_lexer": "ipython3",
   "version": "3.10.6"
  }
 },
 "nbformat": 4,
 "nbformat_minor": 5
}
