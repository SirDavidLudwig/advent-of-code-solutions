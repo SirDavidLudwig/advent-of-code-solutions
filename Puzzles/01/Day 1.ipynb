{
 "cells": [
  {
   "cell_type": "code",
   "execution_count": null,
   "id": "9143349a-3c60-4438-abce-db524b7340f6",
   "metadata": {},
   "outputs": [],
   "source": [
    "import numpy as np"
   ]
  },
  {
   "cell_type": "markdown",
   "id": "964d7139-40dc-4f55-9db0-c4a86c48219f",
   "metadata": {},
   "source": [
    "## Part 1"
   ]
  },
  {
   "cell_type": "code",
   "execution_count": null,
   "id": "34b2a670-3040-48ac-8ef5-3d8a1410c001",
   "metadata": {},
   "outputs": [],
   "source": [
    "with open(\"./puzzle_input.txt\") as f:\n",
    "    groups = f.read().rstrip().split('\\n\\n')\n",
    "    group_calories = np.array([np.sum(list(map(int, g.rstrip().split('\\n')))) for g in groups])"
   ]
  },
  {
   "cell_type": "code",
   "execution_count": null,
   "id": "7f473e61-9d8d-4d41-9db1-3407ee0eea01",
   "metadata": {},
   "outputs": [],
   "source": [
    "np.max(group_calories)"
   ]
  },
  {
   "cell_type": "markdown",
   "id": "c6823c56-d16d-4450-b982-f3b3e5779296",
   "metadata": {},
   "source": [
    "## Part 2"
   ]
  },
  {
   "cell_type": "code",
   "execution_count": null,
   "id": "e2cc412d-7b07-439c-8b78-516d4a9bb104",
   "metadata": {},
   "outputs": [],
   "source": [
    "top_3 = group_calories[np.argsort(group_calories)][:-4:-1]\n",
    "top_3"
   ]
  },
  {
   "cell_type": "code",
   "execution_count": null,
   "id": "fd051d2b-72d1-4ade-85a3-751f1583d7a6",
   "metadata": {},
   "outputs": [],
   "source": [
    "np.sum(top_3)"
   ]
  },
  {
   "cell_type": "code",
   "execution_count": null,
   "id": "964b9901-c057-4553-b734-a392848c9418",
   "metadata": {},
   "outputs": [],
   "source": []
  }
 ],
 "metadata": {
  "kernelspec": {
   "display_name": "Python 3 (ipykernel)",
   "language": "python",
   "name": "python3"
  },
  "language_info": {
   "codemirror_mode": {
    "name": "ipython",
    "version": 3
   },
   "file_extension": ".py",
   "mimetype": "text/x-python",
   "name": "python",
   "nbconvert_exporter": "python",
   "pygments_lexer": "ipython3",
   "version": "3.10.6"
  }
 },
 "nbformat": 4,
 "nbformat_minor": 5
}
